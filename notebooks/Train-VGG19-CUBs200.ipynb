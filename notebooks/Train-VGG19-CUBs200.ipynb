{
 "cells": [
  {
   "cell_type": "code",
   "execution_count": 1,
   "id": "790ea580-9210-4cdc-979e-f770141273a4",
   "metadata": {},
   "outputs": [],
   "source": [
    "import sys\n",
    "import os\n",
    "\n",
    "# Adiciona o diretório pai ao caminho de pesquisa de módulos\n",
    "sys.path.append(os.path.abspath(os.path.join('..')))"
   ]
  },
  {
   "cell_type": "code",
   "execution_count": 2,
   "id": "c779e9ab-0708-4301-a04d-8251ed874179",
   "metadata": {},
   "outputs": [],
   "source": [
    "import wandb\n",
    "import torchvision.models as models\n",
    "\n",
    "import torch\n",
    "from torch import nn\n",
    "import torch.nn.functional as F\n",
    "from torch.optim import lr_scheduler\n",
    "\n",
    "import gc\n",
    "import random\n",
    "import pickle\n",
    "from copy import deepcopy\n",
    "import numpy as np"
   ]
  },
  {
   "cell_type": "code",
   "execution_count": 3,
   "id": "b16827df-2d87-4963-b117-ed588eebdbfd",
   "metadata": {},
   "outputs": [],
   "source": [
    "from torchvision import transforms\n",
    "\n",
    "from tqdm import tqdm\n",
    "from avalanche.benchmarks.classic import SplitCUB200\n",
    "from utils import create_plot_images\n",
    "from torch.optim.lr_scheduler import ReduceLROnPlateau\n",
    "\n",
    "from avalanche.evaluation.metrics import ConfusionMatrix, WandBStreamConfusionMatrix\n",
    "from avalanche.evaluation.metric_utils import default_cm_image_creator"
   ]
  },
  {
   "cell_type": "code",
   "execution_count": 4,
   "id": "0b91f454-f413-4706-8fe4-839b1eef4b1e",
   "metadata": {},
   "outputs": [],
   "source": [
    "train_transform = transforms.Compose(\n",
    "    [\n",
    "        transforms.Resize((128, 128)),\n",
    "        transforms.RandomHorizontalFlip(),\n",
    "        transforms.ToTensor(),\n",
    "        transforms.Normalize((0.4914, 0.4822, 0.4465), (0.2023, 0.1994, 0.2010)),\n",
    "    ]\n",
    ")\n",
    "\n",
    "eval_transform = transforms.Compose(\n",
    "    [\n",
    "        transforms.Resize((128, 128)),\n",
    "        transforms.ToTensor(),\n",
    "        transforms.Normalize((0.4914, 0.4822, 0.4465), (0.2023, 0.1994, 0.2010)),\n",
    "    ]\n",
    ")"
   ]
  },
  {
   "cell_type": "code",
   "execution_count": 5,
   "id": "11978dfc-f109-487a-8b6e-ee65b0b6f342",
   "metadata": {},
   "outputs": [
    {
     "name": "stdout",
     "output_type": "stream",
     "text": [
      "Files already downloaded and verified\n",
      "Files already downloaded and verified\n",
      "Start of task  0 experience.current_experience 0\n",
      "Classes in this task: [0, 1, 2, 3, 4, 5, 6, 7, 8, 9, 10, 11, 12, 13, 14, 15, 16, 17, 18, 19, 20, 21, 22, 23, 24, 25, 26, 27, 28, 29, 30, 31, 32, 33, 34, 35, 36, 37, 38, 39, 40, 41, 42, 43, 44, 45, 46, 47, 48, 49, 50, 51, 52, 53, 54, 55, 56, 57, 58, 59, 60, 61, 62, 63, 64, 65, 66, 67, 68, 69, 70, 71, 72, 73, 74, 75, 76, 77, 78, 79, 80, 81, 82, 83, 84, 85, 86, 87, 88, 89, 90, 91, 92, 93, 94, 95, 96, 97, 98, 99]\n",
      "Task 0\n",
      "This task contains 3000 training examples\n",
      "This task contains 2864 test examples\n",
      "--------------------------------------------------------------------------------\n",
      "Start of task  0 experience.current_experience 1\n",
      "Classes in this task: [100, 101, 102, 103, 104, 105, 106, 107, 108, 109, 110, 111, 112, 113, 114, 115, 116, 117, 118, 119, 120, 121, 122, 123, 124]\n",
      "Task 0\n",
      "This task contains 749 training examples\n",
      "This task contains 714 test examples\n",
      "--------------------------------------------------------------------------------\n",
      "Start of task  0 experience.current_experience 2\n",
      "Classes in this task: [128, 129, 130, 131, 132, 133, 134, 135, 136, 137, 138, 139, 140, 141, 142, 143, 144, 145, 146, 147, 148, 149, 125, 126, 127]\n",
      "Task 0\n",
      "This task contains 747 training examples\n",
      "This task contains 748 test examples\n",
      "--------------------------------------------------------------------------------\n",
      "Start of task  0 experience.current_experience 3\n",
      "Classes in this task: [150, 151, 152, 153, 154, 155, 156, 157, 158, 159, 160, 161, 162, 163, 164, 165, 166, 167, 168, 169, 170, 171, 172, 173, 174]\n",
      "Task 0\n",
      "This task contains 750 training examples\n",
      "This task contains 735 test examples\n",
      "--------------------------------------------------------------------------------\n",
      "Start of task  0 experience.current_experience 4\n",
      "Classes in this task: [175, 176, 177, 178, 179, 180, 181, 182, 183, 184, 185, 186, 187, 188, 189, 190, 191, 192, 193, 194, 195, 196, 197, 198, 199]\n",
      "Task 0\n",
      "This task contains 748 training examples\n",
      "This task contains 733 test examples\n",
      "--------------------------------------------------------------------------------\n"
     ]
    },
    {
     "name": "stderr",
     "output_type": "stream",
     "text": [
      "  0%|                                                                                                                             | 0/334 [00:00<?, ?it/s]"
     ]
    },
    {
     "name": "stdout",
     "output_type": "stream",
     "text": [
      "torch.Size([9, 3, 128, 128])\n"
     ]
    },
    {
     "name": "stderr",
     "output_type": "stream",
     "text": [
      "  0%|                                                                                                                             | 0/334 [00:00<?, ?it/s]\n"
     ]
    }
   ],
   "source": [
    "dataset_name = 'cub-200'\n",
    "total_number_classes = 200\n",
    "n_split_experiences = 5\n",
    "\n",
    "# creating the benchmark (scenario object)\n",
    "split_ds = SplitCUB200(\n",
    "    n_experiences=n_split_experiences,\n",
    "    seed=1234,\n",
    "    train_transform=train_transform,\n",
    "    eval_transform=eval_transform\n",
    "    \n",
    ")\n",
    "\n",
    "train_stream = split_ds.train_stream\n",
    "test_stream = split_ds.test_stream\n",
    "\n",
    "train_ds = []\n",
    "test_ds = []\n",
    "masks = []\n",
    "classes_in_experience = []\n",
    "\n",
    "for experience in train_stream:\n",
    "    print(\"Start of task \", experience.task_label, 'experience.current_experience', experience.current_experience)\n",
    "    print('Classes in this task:', experience.classes_in_this_experience)\n",
    "    masks.append([i for i in range(total_number_classes) if i not in experience.classes_in_this_experience])\n",
    "    classes_in_experience.append(experience.classes_in_this_experience)\n",
    "    \n",
    "    # The current Pytorch training set can be easily recovered through the \n",
    "    # experience\n",
    "    current_training_set = experience.dataset\n",
    "    train_ds.append(current_training_set)\n",
    "    \n",
    "    # ...as well as the task_label\n",
    "    print('Task {}'.format(experience.task_label))\n",
    "    print('This task contains', len(current_training_set), 'training examples')\n",
    "\n",
    "    # we can recover the corresponding test experience in the test stream\n",
    "    current_test_set = test_stream[experience.current_experience].dataset\n",
    "    print('This task contains', len(current_test_set), 'test examples')\n",
    "    test_ds.append(current_test_set)\n",
    "    print(80*'-')\n",
    "\n",
    "# Getting a Sample from the first Task\n",
    "batch_gen = torch.utils.data.DataLoader(train_ds[0], \n",
    "                              batch_size=9, \n",
    "                              shuffle=True, \n",
    "                              num_workers=1,\n",
    "                              )\n",
    "for batch in tqdm(batch_gen):\n",
    "    sample = batch[0]\n",
    "    target = batch[1]\n",
    "    print(sample.shape)\n",
    "    break"
   ]
  },
  {
   "cell_type": "code",
   "execution_count": null,
   "id": "49675386-9fb6-4916-95f6-63a10fb1bb60",
   "metadata": {},
   "outputs": [],
   "source": []
  },
  {
   "cell_type": "code",
   "execution_count": null,
   "id": "95d184ed-cb66-4d82-8639-60e285dcbbf9",
   "metadata": {},
   "outputs": [],
   "source": []
  },
  {
   "cell_type": "code",
   "execution_count": 9,
   "id": "d8f3b88c-ca55-4cf7-972b-30dd237af3ce",
   "metadata": {},
   "outputs": [
    {
     "data": {
      "text/html": [
       "Finishing last run (ID:qrp7zw45) before initializing another..."
      ],
      "text/plain": [
       "<IPython.core.display.HTML object>"
      ]
     },
     "metadata": {},
     "output_type": "display_data"
    },
    {
     "data": {
      "application/vnd.jupyter.widget-view+json": {
       "model_id": "c1f388f5936943adb4c6727d20ac6dee",
       "version_major": 2,
       "version_minor": 0
      },
      "text/plain": [
       "VBox(children=(Label(value='0.003 MB of 0.003 MB uploaded\\r'), FloatProgress(value=1.0, max=1.0)))"
      ]
     },
     "metadata": {},
     "output_type": "display_data"
    },
    {
     "data": {
      "text/html": [
       " View run <strong style=\"color:#cdcd00\">vgg19-lr-00001-5tasks-lora-0</strong> at: <a href='https://wandb.ai/cf-lora/cf-lora-cub-200-baseline-all-parameters/runs/qrp7zw45' target=\"_blank\">https://wandb.ai/cf-lora/cf-lora-cub-200-baseline-all-parameters/runs/qrp7zw45</a><br/> View project at: <a href='https://wandb.ai/cf-lora/cf-lora-cub-200-baseline-all-parameters' target=\"_blank\">https://wandb.ai/cf-lora/cf-lora-cub-200-baseline-all-parameters</a><br/>Synced 5 W&B file(s), 0 media file(s), 0 artifact file(s) and 0 other file(s)"
      ],
      "text/plain": [
       "<IPython.core.display.HTML object>"
      ]
     },
     "metadata": {},
     "output_type": "display_data"
    },
    {
     "data": {
      "text/html": [
       "Find logs at: <code>./wandb/run-20240825_204358-qrp7zw45/logs</code>"
      ],
      "text/plain": [
       "<IPython.core.display.HTML object>"
      ]
     },
     "metadata": {},
     "output_type": "display_data"
    },
    {
     "data": {
      "text/html": [
       "The new W&B backend becomes opt-out in version 0.18.0; try it out with `wandb.require(\"core\")`! See https://wandb.me/wandb-core for more information."
      ],
      "text/plain": [
       "<IPython.core.display.HTML object>"
      ]
     },
     "metadata": {},
     "output_type": "display_data"
    },
    {
     "data": {
      "text/html": [
       "Successfully finished last run (ID:qrp7zw45). Initializing new run:<br/>"
      ],
      "text/plain": [
       "<IPython.core.display.HTML object>"
      ]
     },
     "metadata": {},
     "output_type": "display_data"
    },
    {
     "data": {
      "application/vnd.jupyter.widget-view+json": {
       "model_id": "dfa322c004434390bf68cde60b55deda",
       "version_major": 2,
       "version_minor": 0
      },
      "text/plain": [
       "VBox(children=(Label(value='Waiting for wandb.init()...\\r'), FloatProgress(value=0.011114308533595046, max=1.0…"
      ]
     },
     "metadata": {},
     "output_type": "display_data"
    },
    {
     "data": {
      "text/html": [
       "Tracking run with wandb version 0.17.7"
      ],
      "text/plain": [
       "<IPython.core.display.HTML object>"
      ]
     },
     "metadata": {},
     "output_type": "display_data"
    },
    {
     "data": {
      "text/html": [
       "Run data is saved locally in <code>/home/everton_aleixo/Documents/effects-of-lora-on-catastrophic-forgetting/notebooks/wandb/run-20240825_210636-j0nh20gd</code>"
      ],
      "text/plain": [
       "<IPython.core.display.HTML object>"
      ]
     },
     "metadata": {},
     "output_type": "display_data"
    },
    {
     "data": {
      "text/html": [
       "Syncing run <strong><a href='https://wandb.ai/cf-lora/cf-lora-cub-200-baseline-all-parameters/runs/j0nh20gd' target=\"_blank\">vgg19-lr-00001-5tasks-lora-0</a></strong> to <a href='https://wandb.ai/cf-lora/cf-lora-cub-200-baseline-all-parameters' target=\"_blank\">Weights & Biases</a> (<a href='https://wandb.me/run' target=\"_blank\">docs</a>)<br/>"
      ],
      "text/plain": [
       "<IPython.core.display.HTML object>"
      ]
     },
     "metadata": {},
     "output_type": "display_data"
    },
    {
     "data": {
      "text/html": [
       " View project at <a href='https://wandb.ai/cf-lora/cf-lora-cub-200-baseline-all-parameters' target=\"_blank\">https://wandb.ai/cf-lora/cf-lora-cub-200-baseline-all-parameters</a>"
      ],
      "text/plain": [
       "<IPython.core.display.HTML object>"
      ]
     },
     "metadata": {},
     "output_type": "display_data"
    },
    {
     "data": {
      "text/html": [
       " View run at <a href='https://wandb.ai/cf-lora/cf-lora-cub-200-baseline-all-parameters/runs/j0nh20gd' target=\"_blank\">https://wandb.ai/cf-lora/cf-lora-cub-200-baseline-all-parameters/runs/j0nh20gd</a>"
      ],
      "text/plain": [
       "<IPython.core.display.HTML object>"
      ]
     },
     "metadata": {},
     "output_type": "display_data"
    },
    {
     "name": "stderr",
     "output_type": "stream",
     "text": [
      "/home/everton_aleixo/Documents/mahle/server_python/venv/lib/python3.12/site-packages/torch/optim/lr_scheduler.py:60: UserWarning: The verbose parameter is deprecated. Please use get_last_lr() to access the learning rate.\n",
      "  warnings.warn(\n"
     ]
    },
    {
     "name": "stdout",
     "output_type": "stream",
     "text": [
      "---------------------------------------- TASK_0 ----------------------------------------\n",
      "Training task 0 in epoch 0. Batch size: 8.\n"
     ]
    },
    {
     "name": "stderr",
     "output_type": "stream",
     "text": [
      "100%|███████████████████████████████████████████████████████████████████████████████████████████████████████████████████| 375/375 [01:16<00:00,  4.88it/s]\n",
      "100%|███████████████████████████████████████████████████████████████████████████████████████████████████████████████████| 358/358 [00:42<00:00,  8.48it/s]\n"
     ]
    },
    {
     "name": "stdout",
     "output_type": "stream",
     "text": [
      "Trainig acc: 0.07067   //   Training loss: 4.5307   //   Test acc: 0.3820   //   Test loss: 2.8737\n",
      "early_stop: 1  /   Best acc: 0.3819832402234637\n",
      "Training task 0 in epoch 1. Batch size: 8.\n"
     ]
    },
    {
     "name": "stderr",
     "output_type": "stream",
     "text": [
      "100%|███████████████████████████████████████████████████████████████████████████████████████████████████████████████████| 375/375 [01:21<00:00,  4.62it/s]\n",
      "100%|███████████████████████████████████████████████████████████████████████████████████████████████████████████████████| 358/358 [00:44<00:00,  8.12it/s]\n"
     ]
    },
    {
     "name": "stdout",
     "output_type": "stream",
     "text": [
      "Trainig acc: 0.3333   //   Training loss: 2.6307   //   Test acc: 0.5744   //   Test loss: 1.6811\n",
      "early_stop: 1  /   Best acc: 0.5743715083798883\n",
      "Training task 0 in epoch 2. Batch size: 8.\n"
     ]
    },
    {
     "name": "stderr",
     "output_type": "stream",
     "text": [
      "100%|███████████████████████████████████████████████████████████████████████████████████████████████████████████████████| 375/375 [01:21<00:00,  4.60it/s]\n",
      "100%|███████████████████████████████████████████████████████████████████████████████████████████████████████████████████| 358/358 [00:43<00:00,  8.26it/s]\n"
     ]
    },
    {
     "name": "stdout",
     "output_type": "stream",
     "text": [
      "Trainig acc: 0.5053   //   Training loss: 1.7861   //   Test acc: 0.6456   //   Test loss: 1.2998\n",
      "early_stop: 1  /   Best acc: 0.6456005586592178\n",
      "Training task 0 in epoch 3. Batch size: 8.\n"
     ]
    },
    {
     "name": "stderr",
     "output_type": "stream",
     "text": [
      "100%|███████████████████████████████████████████████████████████████████████████████████████████████████████████████████| 375/375 [01:21<00:00,  4.57it/s]\n",
      "100%|███████████████████████████████████████████████████████████████████████████████████████████████████████████████████| 358/358 [00:44<00:00,  8.09it/s]\n"
     ]
    },
    {
     "name": "stdout",
     "output_type": "stream",
     "text": [
      "Trainig acc: 0.6253   //   Training loss: 1.3536   //   Test acc: 0.6763   //   Test loss: 1.1535\n",
      "early_stop: 1  /   Best acc: 0.6763268156424581\n",
      "Training task 0 in epoch 4. Batch size: 8.\n"
     ]
    },
    {
     "name": "stderr",
     "output_type": "stream",
     "text": [
      "100%|███████████████████████████████████████████████████████████████████████████████████████████████████████████████████| 375/375 [01:21<00:00,  4.60it/s]\n",
      "100%|███████████████████████████████████████████████████████████████████████████████████████████████████████████████████| 358/358 [00:43<00:00,  8.31it/s]\n"
     ]
    },
    {
     "name": "stdout",
     "output_type": "stream",
     "text": [
      "Trainig acc: 0.7033   //   Training loss: 1.0187   //   Test acc: 0.7053   //   Test loss: 1.0466\n",
      "early_stop: 1  /   Best acc: 0.7053072625698324\n",
      "Training task 0 in epoch 5. Batch size: 8.\n"
     ]
    },
    {
     "name": "stderr",
     "output_type": "stream",
     "text": [
      "100%|███████████████████████████████████████████████████████████████████████████████████████████████████████████████████| 375/375 [01:21<00:00,  4.60it/s]\n",
      "100%|███████████████████████████████████████████████████████████████████████████████████████████████████████████████████| 358/358 [00:43<00:00,  8.19it/s]\n"
     ]
    },
    {
     "name": "stdout",
     "output_type": "stream",
     "text": [
      "Trainig acc: 0.7463   //   Training loss: 0.8277   //   Test acc: 0.7102   //   Test loss: 1.0278\n",
      "early_stop: 1  /   Best acc: 0.710195530726257\n",
      "Training task 0 in epoch 6. Batch size: 8.\n"
     ]
    },
    {
     "name": "stderr",
     "output_type": "stream",
     "text": [
      "100%|███████████████████████████████████████████████████████████████████████████████████████████████████████████████████| 375/375 [01:21<00:00,  4.60it/s]\n",
      "100%|███████████████████████████████████████████████████████████████████████████████████████████████████████████████████| 358/358 [00:43<00:00,  8.19it/s]\n"
     ]
    },
    {
     "name": "stdout",
     "output_type": "stream",
     "text": [
      "Trainig acc: 0.7993   //   Training loss: 0.6613   //   Test acc: 0.7235   //   Test loss: 0.9403\n",
      "early_stop: 1  /   Best acc: 0.723463687150838\n",
      "Training task 0 in epoch 7. Batch size: 8.\n"
     ]
    },
    {
     "name": "stderr",
     "output_type": "stream",
     "text": [
      "100%|███████████████████████████████████████████████████████████████████████████████████████████████████████████████████| 375/375 [01:21<00:00,  4.63it/s]\n",
      "100%|███████████████████████████████████████████████████████████████████████████████████████████████████████████████████| 358/358 [00:43<00:00,  8.26it/s]\n"
     ]
    },
    {
     "name": "stdout",
     "output_type": "stream",
     "text": [
      "Trainig acc: 0.8337   //   Training loss: 0.5455   //   Test acc: 0.7357   //   Test loss: 0.9270\n",
      "early_stop: 1  /   Best acc: 0.7356843575418994\n",
      "Training task 0 in epoch 8. Batch size: 8.\n"
     ]
    },
    {
     "name": "stderr",
     "output_type": "stream",
     "text": [
      "100%|███████████████████████████████████████████████████████████████████████████████████████████████████████████████████| 375/375 [01:22<00:00,  4.54it/s]\n",
      " 11%|████████████▎                                                                                                       | 38/358 [00:05<00:45,  6.98it/s]wandb: Network error (ConnectionError), entering retry loop.\n",
      "100%|███████████████████████████████████████████████████████████████████████████████████████████████████████████████████| 358/358 [00:48<00:00,  7.41it/s]\n"
     ]
    },
    {
     "name": "stdout",
     "output_type": "stream",
     "text": [
      "Trainig acc: 0.8763   //   Training loss: 0.4169   //   Test acc: 0.7437   //   Test loss: 0.8999\n",
      "early_stop: 1  /   Best acc: 0.7437150837988827\n",
      "Training task 0 in epoch 9. Batch size: 8.\n"
     ]
    },
    {
     "name": "stderr",
     "output_type": "stream",
     "text": [
      "100%|███████████████████████████████████████████████████████████████████████████████████████████████████████████████████| 375/375 [01:24<00:00,  4.44it/s]\n",
      "100%|███████████████████████████████████████████████████████████████████████████████████████████████████████████████████| 358/358 [00:48<00:00,  7.45it/s]\n"
     ]
    },
    {
     "name": "stdout",
     "output_type": "stream",
     "text": [
      "Trainig acc: 0.8887   //   Training loss: 0.3749   //   Test acc: 0.7458   //   Test loss: 0.8964\n",
      "early_stop: 1  /   Best acc: 0.7458100558659218\n",
      "Training task 0 in epoch 10. Batch size: 8.\n"
     ]
    },
    {
     "name": "stderr",
     "output_type": "stream",
     "text": [
      "100%|███████████████████████████████████████████████████████████████████████████████████████████████████████████████████| 375/375 [01:24<00:00,  4.44it/s]\n",
      "100%|███████████████████████████████████████████████████████████████████████████████████████████████████████████████████| 358/358 [00:48<00:00,  7.39it/s]\n"
     ]
    },
    {
     "name": "stdout",
     "output_type": "stream",
     "text": [
      "Trainig acc: 0.9117   //   Training loss: 0.2868   //   Test acc: 0.7570   //   Test loss: 0.9095\n",
      "early_stop: 1  /   Best acc: 0.7569832402234636\n",
      "Training task 0 in epoch 11. Batch size: 8.\n"
     ]
    },
    {
     "name": "stderr",
     "output_type": "stream",
     "text": [
      "100%|███████████████████████████████████████████████████████████████████████████████████████████████████████████████████| 375/375 [01:24<00:00,  4.42it/s]\n",
      "100%|███████████████████████████████████████████████████████████████████████████████████████████████████████████████████| 358/358 [00:46<00:00,  7.62it/s]\n"
     ]
    },
    {
     "name": "stdout",
     "output_type": "stream",
     "text": [
      "Trainig acc: 0.9277   //   Training loss: 0.2436   //   Test acc: 0.7479   //   Test loss: 0.9058\n",
      "early_stop: 2  /   Best acc: 0.7569832402234636\n",
      "Training task 0 in epoch 12. Batch size: 8.\n"
     ]
    },
    {
     "name": "stderr",
     "output_type": "stream",
     "text": [
      "100%|███████████████████████████████████████████████████████████████████████████████████████████████████████████████████| 375/375 [01:24<00:00,  4.43it/s]\n",
      "100%|███████████████████████████████████████████████████████████████████████████████████████████████████████████████████| 358/358 [00:47<00:00,  7.55it/s]\n"
     ]
    },
    {
     "name": "stdout",
     "output_type": "stream",
     "text": [
      "Trainig acc: 0.939   //   Training loss: 0.2041   //   Test acc: 0.7528   //   Test loss: 0.9051\n",
      "early_stop: 3  /   Best acc: 0.7569832402234636\n",
      "Training task 0 in epoch 13. Batch size: 8.\n"
     ]
    },
    {
     "name": "stderr",
     "output_type": "stream",
     "text": [
      "100%|███████████████████████████████████████████████████████████████████████████████████████████████████████████████████| 375/375 [01:24<00:00,  4.43it/s]\n",
      "100%|███████████████████████████████████████████████████████████████████████████████████████████████████████████████████| 358/358 [00:41<00:00,  8.59it/s]\n"
     ]
    },
    {
     "name": "stdout",
     "output_type": "stream",
     "text": [
      "Trainig acc: 0.954   //   Training loss: 0.1598   //   Test acc: 0.7570   //   Test loss: 0.9452\n",
      "early_stop: 4  /   Best acc: 0.7569832402234636\n",
      "Training task 0 in epoch 14. Batch size: 8.\n"
     ]
    },
    {
     "name": "stderr",
     "output_type": "stream",
     "text": [
      "100%|███████████████████████████████████████████████████████████████████████████████████████████████████████████████████| 375/375 [01:16<00:00,  4.93it/s]\n",
      "100%|███████████████████████████████████████████████████████████████████████████████████████████████████████████████████| 358/358 [00:39<00:00,  8.97it/s]\n"
     ]
    },
    {
     "name": "stdout",
     "output_type": "stream",
     "text": [
      "Trainig acc: 0.9563   //   Training loss: 0.1480   //   Test acc: 0.7528   //   Test loss: 0.9181\n",
      "early_stop: 5  /   Best acc: 0.7569832402234636\n",
      "Training task 0 in epoch 15. Batch size: 8.\n"
     ]
    },
    {
     "name": "stderr",
     "output_type": "stream",
     "text": [
      "100%|███████████████████████████████████████████████████████████████████████████████████████████████████████████████████| 375/375 [01:15<00:00,  4.97it/s]\n",
      "100%|███████████████████████████████████████████████████████████████████████████████████████████████████████████████████| 358/358 [00:41<00:00,  8.71it/s]\n"
     ]
    },
    {
     "name": "stdout",
     "output_type": "stream",
     "text": [
      "Trainig acc: 0.9733   //   Training loss: 0.1044   //   Test acc: 0.7542   //   Test loss: 0.9659\n",
      "early_stop: 6  /   Best acc: 0.7569832402234636\n",
      "Training task 0 in epoch 16. Batch size: 8.\n"
     ]
    },
    {
     "name": "stderr",
     "output_type": "stream",
     "text": [
      "100%|███████████████████████████████████████████████████████████████████████████████████████████████████████████████████| 375/375 [01:15<00:00,  4.95it/s]\n",
      "100%|███████████████████████████████████████████████████████████████████████████████████████████████████████████████████| 358/358 [00:40<00:00,  8.92it/s]\n"
     ]
    },
    {
     "name": "stdout",
     "output_type": "stream",
     "text": [
      "Trainig acc: 0.9733   //   Training loss: 0.0922   //   Test acc: 0.7570   //   Test loss: 0.9345\n",
      "early_stop: 7  /   Best acc: 0.7569832402234636\n",
      "Training task 0 in epoch 17. Batch size: 8.\n"
     ]
    },
    {
     "name": "stderr",
     "output_type": "stream",
     "text": [
      "100%|███████████████████████████████████████████████████████████████████████████████████████████████████████████████████| 375/375 [01:16<00:00,  4.93it/s]\n",
      "100%|███████████████████████████████████████████████████████████████████████████████████████████████████████████████████| 358/358 [00:40<00:00,  8.78it/s]\n"
     ]
    },
    {
     "name": "stdout",
     "output_type": "stream",
     "text": [
      "Trainig acc: 0.9813   //   Training loss: 0.0793   //   Test acc: 0.7615   //   Test loss: 0.9272\n",
      "early_stop: 1  /   Best acc: 0.7615223463687151\n",
      "Training task 0 in epoch 18. Batch size: 8.\n"
     ]
    },
    {
     "name": "stderr",
     "output_type": "stream",
     "text": [
      " 85%|█████████████████████████████████████████████████████████████████████████████████████████████████▏                 | 317/375 [01:04<00:11,  4.86it/s]\u001b[34m\u001b[1mwandb\u001b[0m: Network error resolved after 0:20:55.984701, resuming normal operation.\n",
      "100%|███████████████████████████████████████████████████████████████████████████████████████████████████████████████████| 375/375 [01:16<00:00,  4.89it/s]\n",
      "100%|███████████████████████████████████████████████████████████████████████████████████████████████████████████████████| 358/358 [00:41<00:00,  8.67it/s]\n"
     ]
    },
    {
     "name": "stdout",
     "output_type": "stream",
     "text": [
      "Trainig acc: 0.9807   //   Training loss: 0.0744   //   Test acc: 0.7643   //   Test loss: 0.9482\n",
      "early_stop: 1  /   Best acc: 0.7643156424581006\n",
      "Training task 0 in epoch 19. Batch size: 8.\n"
     ]
    },
    {
     "name": "stderr",
     "output_type": "stream",
     "text": [
      "100%|███████████████████████████████████████████████████████████████████████████████████████████████████████████████████| 375/375 [01:16<00:00,  4.90it/s]\n",
      "100%|███████████████████████████████████████████████████████████████████████████████████████████████████████████████████| 358/358 [00:40<00:00,  8.88it/s]\n"
     ]
    },
    {
     "name": "stdout",
     "output_type": "stream",
     "text": [
      "Trainig acc: 0.983   //   Training loss: 0.0699   //   Test acc: 0.7629   //   Test loss: 0.9386\n",
      "early_stop: 2  /   Best acc: 0.7643156424581006\n",
      "Training task 0 in epoch 20. Batch size: 8.\n"
     ]
    },
    {
     "name": "stderr",
     "output_type": "stream",
     "text": [
      "100%|███████████████████████████████████████████████████████████████████████████████████████████████████████████████████| 375/375 [01:16<00:00,  4.93it/s]\n",
      "100%|███████████████████████████████████████████████████████████████████████████████████████████████████████████████████| 358/358 [00:40<00:00,  8.76it/s]\n"
     ]
    },
    {
     "name": "stdout",
     "output_type": "stream",
     "text": [
      "Trainig acc: 0.9813   //   Training loss: 0.0675   //   Test acc: 0.7647   //   Test loss: 0.9353\n",
      "early_stop: 1  /   Best acc: 0.7646648044692738\n",
      "Training task 0 in epoch 21. Batch size: 8.\n"
     ]
    },
    {
     "name": "stderr",
     "output_type": "stream",
     "text": [
      "100%|███████████████████████████████████████████████████████████████████████████████████████████████████████████████████| 375/375 [01:16<00:00,  4.91it/s]\n",
      "100%|███████████████████████████████████████████████████████████████████████████████████████████████████████████████████| 358/358 [00:39<00:00,  8.99it/s]\n"
     ]
    },
    {
     "name": "stdout",
     "output_type": "stream",
     "text": [
      "Trainig acc: 0.985   //   Training loss: 0.0664   //   Test acc: 0.7654   //   Test loss: 0.9370\n",
      "early_stop: 1  /   Best acc: 0.7653631284916201\n",
      "Training task 0 in epoch 22. Batch size: 8.\n"
     ]
    },
    {
     "name": "stderr",
     "output_type": "stream",
     "text": [
      "100%|███████████████████████████████████████████████████████████████████████████████████████████████████████████████████| 375/375 [01:16<00:00,  4.92it/s]\n",
      "100%|███████████████████████████████████████████████████████████████████████████████████████████████████████████████████| 358/358 [00:41<00:00,  8.68it/s]\n"
     ]
    },
    {
     "name": "stdout",
     "output_type": "stream",
     "text": [
      "Trainig acc: 0.9867   //   Training loss: 0.0602   //   Test acc: 0.7650   //   Test loss: 0.9384\n",
      "early_stop: 2  /   Best acc: 0.7653631284916201\n",
      "Training task 0 in epoch 23. Batch size: 8.\n"
     ]
    },
    {
     "name": "stderr",
     "output_type": "stream",
     "text": [
      "100%|███████████████████████████████████████████████████████████████████████████████████████████████████████████████████| 375/375 [01:16<00:00,  4.93it/s]\n",
      "100%|███████████████████████████████████████████████████████████████████████████████████████████████████████████████████| 358/358 [00:40<00:00,  8.88it/s]\n"
     ]
    },
    {
     "name": "stdout",
     "output_type": "stream",
     "text": [
      "Trainig acc: 0.988   //   Training loss: 0.0530   //   Test acc: 0.7601   //   Test loss: 0.9506\n",
      "early_stop: 3  /   Best acc: 0.7653631284916201\n",
      "Training task 0 in epoch 24. Batch size: 8.\n"
     ]
    },
    {
     "name": "stderr",
     "output_type": "stream",
     "text": [
      "100%|███████████████████████████████████████████████████████████████████████████████████████████████████████████████████| 375/375 [01:16<00:00,  4.93it/s]\n",
      "100%|███████████████████████████████████████████████████████████████████████████████████████████████████████████████████| 358/358 [00:39<00:00,  8.97it/s]\n"
     ]
    },
    {
     "name": "stdout",
     "output_type": "stream",
     "text": [
      "Trainig acc: 0.9807   //   Training loss: 0.0681   //   Test acc: 0.7654   //   Test loss: 0.9467\n",
      "early_stop: 4  /   Best acc: 0.7653631284916201\n",
      "Training task 0 in epoch 25. Batch size: 8.\n"
     ]
    },
    {
     "name": "stderr",
     "output_type": "stream",
     "text": [
      "100%|███████████████████████████████████████████████████████████████████████████████████████████████████████████████████| 375/375 [01:16<00:00,  4.93it/s]\n",
      "100%|███████████████████████████████████████████████████████████████████████████████████████████████████████████████████| 358/358 [00:40<00:00,  8.94it/s]\n"
     ]
    },
    {
     "name": "stdout",
     "output_type": "stream",
     "text": [
      "Trainig acc: 0.9897   //   Training loss: 0.0504   //   Test acc: 0.7682   //   Test loss: 0.9366\n",
      "early_stop: 1  /   Best acc: 0.7681564245810056\n",
      "Training task 0 in epoch 26. Batch size: 8.\n"
     ]
    },
    {
     "name": "stderr",
     "output_type": "stream",
     "text": [
      "100%|███████████████████████████████████████████████████████████████████████████████████████████████████████████████████| 375/375 [01:16<00:00,  4.92it/s]\n",
      "100%|███████████████████████████████████████████████████████████████████████████████████████████████████████████████████| 358/358 [00:40<00:00,  8.74it/s]\n"
     ]
    },
    {
     "name": "stdout",
     "output_type": "stream",
     "text": [
      "Trainig acc: 0.9853   //   Training loss: 0.0569   //   Test acc: 0.7668   //   Test loss: 0.9438\n",
      "early_stop: 2  /   Best acc: 0.7681564245810056\n",
      "Training task 0 in epoch 27. Batch size: 8.\n"
     ]
    },
    {
     "name": "stderr",
     "output_type": "stream",
     "text": [
      "100%|███████████████████████████████████████████████████████████████████████████████████████████████████████████████████| 375/375 [01:15<00:00,  4.95it/s]\n",
      "100%|███████████████████████████████████████████████████████████████████████████████████████████████████████████████████| 358/358 [00:40<00:00,  8.83it/s]\n"
     ]
    },
    {
     "name": "stdout",
     "output_type": "stream",
     "text": [
      "Trainig acc: 0.9913   //   Training loss: 0.0457   //   Test acc: 0.7692   //   Test loss: 0.9414\n",
      "early_stop: 1  /   Best acc: 0.7692039106145251\n",
      "Training task 0 in epoch 28. Batch size: 8.\n"
     ]
    },
    {
     "name": "stderr",
     "output_type": "stream",
     "text": [
      "100%|███████████████████████████████████████████████████████████████████████████████████████████████████████████████████| 375/375 [01:16<00:00,  4.93it/s]\n",
      "100%|███████████████████████████████████████████████████████████████████████████████████████████████████████████████████| 358/358 [00:40<00:00,  8.80it/s]\n"
     ]
    },
    {
     "name": "stdout",
     "output_type": "stream",
     "text": [
      "Trainig acc: 0.9873   //   Training loss: 0.0514   //   Test acc: 0.7720   //   Test loss: 0.9425\n",
      "early_stop: 1  /   Best acc: 0.7719972067039106\n",
      "Training task 0 in epoch 29. Batch size: 8.\n"
     ]
    },
    {
     "name": "stderr",
     "output_type": "stream",
     "text": [
      "100%|███████████████████████████████████████████████████████████████████████████████████████████████████████████████████| 375/375 [01:15<00:00,  4.94it/s]\n",
      "100%|███████████████████████████████████████████████████████████████████████████████████████████████████████████████████| 358/358 [00:40<00:00,  8.76it/s]\n"
     ]
    },
    {
     "name": "stdout",
     "output_type": "stream",
     "text": [
      "Trainig acc: 0.988   //   Training loss: 0.0487   //   Test acc: 0.7661   //   Test loss: 0.9417\n",
      "early_stop: 2  /   Best acc: 0.7719972067039106\n",
      "Training task 0 in epoch 30. Batch size: 8.\n"
     ]
    },
    {
     "name": "stderr",
     "output_type": "stream",
     "text": [
      "100%|███████████████████████████████████████████████████████████████████████████████████████████████████████████████████| 375/375 [01:16<00:00,  4.92it/s]\n",
      "100%|███████████████████████████████████████████████████████████████████████████████████████████████████████████████████| 358/358 [00:41<00:00,  8.72it/s]\n"
     ]
    },
    {
     "name": "stdout",
     "output_type": "stream",
     "text": [
      "Trainig acc: 0.9873   //   Training loss: 0.0501   //   Test acc: 0.7640   //   Test loss: 0.9749\n",
      "early_stop: 3  /   Best acc: 0.7719972067039106\n",
      "Training task 0 in epoch 31. Batch size: 8.\n"
     ]
    },
    {
     "name": "stderr",
     "output_type": "stream",
     "text": [
      "100%|███████████████████████████████████████████████████████████████████████████████████████████████████████████████████| 375/375 [01:15<00:00,  4.95it/s]\n",
      "100%|███████████████████████████████████████████████████████████████████████████████████████████████████████████████████| 358/358 [00:41<00:00,  8.70it/s]\n"
     ]
    },
    {
     "name": "stdout",
     "output_type": "stream",
     "text": [
      "Trainig acc: 0.9903   //   Training loss: 0.0473   //   Test acc: 0.7682   //   Test loss: 0.9406\n",
      "early_stop: 4  /   Best acc: 0.7719972067039106\n",
      "Training task 0 in epoch 32. Batch size: 8.\n"
     ]
    },
    {
     "name": "stderr",
     "output_type": "stream",
     "text": [
      "100%|███████████████████████████████████████████████████████████████████████████████████████████████████████████████████| 375/375 [01:15<00:00,  4.95it/s]\n",
      "100%|███████████████████████████████████████████████████████████████████████████████████████████████████████████████████| 358/358 [00:41<00:00,  8.72it/s]\n"
     ]
    },
    {
     "name": "stdout",
     "output_type": "stream",
     "text": [
      "Trainig acc: 0.9907   //   Training loss: 0.0384   //   Test acc: 0.7675   //   Test loss: 0.9672\n",
      "early_stop: 5  /   Best acc: 0.7719972067039106\n",
      "Training task 0 in epoch 33. Batch size: 8.\n"
     ]
    },
    {
     "name": "stderr",
     "output_type": "stream",
     "text": [
      "100%|███████████████████████████████████████████████████████████████████████████████████████████████████████████████████| 375/375 [01:15<00:00,  4.95it/s]\n",
      "100%|███████████████████████████████████████████████████████████████████████████████████████████████████████████████████| 358/358 [00:39<00:00,  9.04it/s]\n"
     ]
    },
    {
     "name": "stdout",
     "output_type": "stream",
     "text": [
      "Trainig acc: 0.99   //   Training loss: 0.0403   //   Test acc: 0.7654   //   Test loss: 0.9614\n",
      "early_stop: 6  /   Best acc: 0.7719972067039106\n",
      "Training task 0 in epoch 34. Batch size: 8.\n"
     ]
    },
    {
     "name": "stderr",
     "output_type": "stream",
     "text": [
      "100%|███████████████████████████████████████████████████████████████████████████████████████████████████████████████████| 375/375 [01:15<00:00,  4.94it/s]\n",
      "100%|███████████████████████████████████████████████████████████████████████████████████████████████████████████████████| 358/358 [00:40<00:00,  8.93it/s]\n"
     ]
    },
    {
     "name": "stdout",
     "output_type": "stream",
     "text": [
      "Trainig acc: 0.9923   //   Training loss: 0.0383   //   Test acc: 0.7703   //   Test loss: 0.9492\n",
      "early_stop: 7  /   Best acc: 0.7719972067039106\n",
      "Training task 0 in epoch 35. Batch size: 8.\n"
     ]
    },
    {
     "name": "stderr",
     "output_type": "stream",
     "text": [
      "100%|███████████████████████████████████████████████████████████████████████████████████████████████████████████████████| 375/375 [01:15<00:00,  4.94it/s]\n",
      "100%|███████████████████████████████████████████████████████████████████████████████████████████████████████████████████| 358/358 [00:40<00:00,  8.86it/s]\n"
     ]
    },
    {
     "name": "stdout",
     "output_type": "stream",
     "text": [
      "Trainig acc: 0.9897   //   Training loss: 0.0413   //   Test acc: 0.7703   //   Test loss: 0.9570\n",
      "early_stop: 8  /   Best acc: 0.7719972067039106\n",
      "Training task 0 in epoch 36. Batch size: 8.\n"
     ]
    },
    {
     "name": "stderr",
     "output_type": "stream",
     "text": [
      "100%|███████████████████████████████████████████████████████████████████████████████████████████████████████████████████| 375/375 [01:15<00:00,  4.95it/s]\n",
      "100%|███████████████████████████████████████████████████████████████████████████████████████████████████████████████████| 358/358 [00:39<00:00,  8.98it/s]\n"
     ]
    },
    {
     "name": "stdout",
     "output_type": "stream",
     "text": [
      "Trainig acc: 0.992   //   Training loss: 0.0398   //   Test acc: 0.7675   //   Test loss: 0.9522\n",
      "early_stop: 9  /   Best acc: 0.7719972067039106\n",
      "Training task 0 in epoch 37. Batch size: 8.\n"
     ]
    },
    {
     "name": "stderr",
     "output_type": "stream",
     "text": [
      "100%|███████████████████████████████████████████████████████████████████████████████████████████████████████████████████| 375/375 [01:15<00:00,  4.96it/s]\n",
      "100%|███████████████████████████████████████████████████████████████████████████████████████████████████████████████████| 358/358 [00:40<00:00,  8.93it/s]\n"
     ]
    },
    {
     "name": "stdout",
     "output_type": "stream",
     "text": [
      "Trainig acc: 0.9923   //   Training loss: 0.0342   //   Test acc: 0.7709   //   Test loss: 0.9512\n",
      "early_stop: 10  /   Best acc: 0.7719972067039106\n",
      "Training task 0 in epoch 38. Batch size: 8.\n"
     ]
    },
    {
     "name": "stderr",
     "output_type": "stream",
     "text": [
      "100%|███████████████████████████████████████████████████████████████████████████████████████████████████████████████████| 375/375 [01:15<00:00,  4.97it/s]\n",
      "100%|███████████████████████████████████████████████████████████████████████████████████████████████████████████████████| 358/358 [00:39<00:00,  8.99it/s]\n"
     ]
    },
    {
     "name": "stdout",
     "output_type": "stream",
     "text": [
      "Trainig acc: 0.992   //   Training loss: 0.0380   //   Test acc: 0.7713   //   Test loss: 0.9430\n",
      "early_stop: 11  /   Best acc: 0.7719972067039106\n",
      "Training task 0 in epoch 39. Batch size: 8.\n"
     ]
    },
    {
     "name": "stderr",
     "output_type": "stream",
     "text": [
      "100%|███████████████████████████████████████████████████████████████████████████████████████████████████████████████████| 375/375 [01:15<00:00,  4.95it/s]\n",
      "100%|███████████████████████████████████████████████████████████████████████████████████████████████████████████████████| 358/358 [00:40<00:00,  8.89it/s]\n",
      "/home/everton_aleixo/Documents/mahle/server_python/venv/lib/python3.12/site-packages/torch/optim/lr_scheduler.py:60: UserWarning: The verbose parameter is deprecated. Please use get_last_lr() to access the learning rate.\n",
      "  warnings.warn(\n"
     ]
    },
    {
     "name": "stdout",
     "output_type": "stream",
     "text": [
      "---------------------------------------- TASK_1 ----------------------------------------\n",
      "Training task 1 in epoch 0. Batch size: 8.\n"
     ]
    },
    {
     "name": "stderr",
     "output_type": "stream",
     "text": [
      "100%|█████████████████████████████████████████████████████████████████████████████████████████████████████████████████████| 94/94 [00:18<00:00,  5.08it/s]\n",
      "100%|█████████████████████████████████████████████████████████████████████████████████████████████████████████████████████| 90/90 [00:09<00:00,  9.16it/s]\n"
     ]
    },
    {
     "name": "stdout",
     "output_type": "stream",
     "text": [
      "Trainig acc: 0.05186   //   Training loss: 4.6774   //   Test acc: 0.2171   //   Test loss: 3.1820\n",
      "early_stop: 1  /   Best acc: 0.21708683473389356\n",
      "Training task 1 in epoch 1. Batch size: 8.\n"
     ]
    },
    {
     "name": "stderr",
     "output_type": "stream",
     "text": [
      "100%|█████████████████████████████████████████████████████████████████████████████████████████████████████████████████████| 94/94 [00:18<00:00,  5.22it/s]\n",
      "100%|█████████████████████████████████████████████████████████████████████████████████████████████████████████████████████| 90/90 [00:10<00:00,  8.82it/s]\n"
     ]
    },
    {
     "name": "stdout",
     "output_type": "stream",
     "text": [
      "Trainig acc: 0.2407   //   Training loss: 2.7178   //   Test acc: 0.4482   //   Test loss: 2.0714\n",
      "early_stop: 1  /   Best acc: 0.4481792717086835\n",
      "Training task 1 in epoch 2. Batch size: 8.\n"
     ]
    },
    {
     "name": "stderr",
     "output_type": "stream",
     "text": [
      "100%|█████████████████████████████████████████████████████████████████████████████████████████████████████████████████████| 94/94 [00:18<00:00,  5.16it/s]\n",
      "100%|█████████████████████████████████████████████████████████████████████████████████████████████████████████████████████| 90/90 [00:09<00:00,  9.28it/s]\n"
     ]
    },
    {
     "name": "stdout",
     "output_type": "stream",
     "text": [
      "Trainig acc: 0.4441   //   Training loss: 1.9414   //   Test acc: 0.5266   //   Test loss: 1.6387\n",
      "early_stop: 1  /   Best acc: 0.5266106442577031\n",
      "Training task 1 in epoch 3. Batch size: 8.\n"
     ]
    },
    {
     "name": "stderr",
     "output_type": "stream",
     "text": [
      "100%|█████████████████████████████████████████████████████████████████████████████████████████████████████████████████████| 94/94 [00:18<00:00,  5.21it/s]\n",
      "100%|█████████████████████████████████████████████████████████████████████████████████████████████████████████████████████| 90/90 [00:10<00:00,  8.78it/s]\n"
     ]
    },
    {
     "name": "stdout",
     "output_type": "stream",
     "text": [
      "Trainig acc: 0.5811   //   Training loss: 1.4698   //   Test acc: 0.5840   //   Test loss: 1.3855\n",
      "early_stop: 1  /   Best acc: 0.5840336134453782\n",
      "Training task 1 in epoch 4. Batch size: 8.\n"
     ]
    },
    {
     "name": "stderr",
     "output_type": "stream",
     "text": [
      "100%|█████████████████████████████████████████████████████████████████████████████████████████████████████████████████████| 94/94 [00:18<00:00,  5.13it/s]\n",
      "100%|█████████████████████████████████████████████████████████████████████████████████████████████████████████████████████| 90/90 [00:10<00:00,  8.80it/s]\n"
     ]
    },
    {
     "name": "stdout",
     "output_type": "stream",
     "text": [
      "Trainig acc: 0.6636   //   Training loss: 1.1070   //   Test acc: 0.6275   //   Test loss: 1.2244\n",
      "early_stop: 1  /   Best acc: 0.6274509803921569\n",
      "Training task 1 in epoch 5. Batch size: 8.\n"
     ]
    },
    {
     "name": "stderr",
     "output_type": "stream",
     "text": [
      "100%|█████████████████████████████████████████████████████████████████████████████████████████████████████████████████████| 94/94 [00:18<00:00,  5.19it/s]\n",
      "100%|█████████████████████████████████████████████████████████████████████████████████████████████████████████████████████| 90/90 [00:09<00:00,  9.10it/s]\n"
     ]
    },
    {
     "name": "stdout",
     "output_type": "stream",
     "text": [
      "Trainig acc: 0.7287   //   Training loss: 0.9070   //   Test acc: 0.6443   //   Test loss: 1.1438\n",
      "early_stop: 1  /   Best acc: 0.6442577030812325\n",
      "Training task 1 in epoch 6. Batch size: 8.\n"
     ]
    },
    {
     "name": "stderr",
     "output_type": "stream",
     "text": [
      "100%|█████████████████████████████████████████████████████████████████████████████████████████████████████████████████████| 94/94 [00:18<00:00,  5.16it/s]\n",
      "100%|█████████████████████████████████████████████████████████████████████████████████████████████████████████████████████| 90/90 [00:09<00:00,  9.13it/s]\n"
     ]
    },
    {
     "name": "stdout",
     "output_type": "stream",
     "text": [
      "Trainig acc: 0.8059   //   Training loss: 0.6993   //   Test acc: 0.6695   //   Test loss: 1.0745\n",
      "early_stop: 1  /   Best acc: 0.6694677871148459\n",
      "Training task 1 in epoch 7. Batch size: 8.\n"
     ]
    },
    {
     "name": "stderr",
     "output_type": "stream",
     "text": [
      "100%|█████████████████████████████████████████████████████████████████████████████████████████████████████████████████████| 94/94 [00:17<00:00,  5.30it/s]\n",
      "100%|█████████████████████████████████████████████████████████████████████████████████████████████████████████████████████| 90/90 [00:10<00:00,  8.89it/s]\n"
     ]
    },
    {
     "name": "stdout",
     "output_type": "stream",
     "text": [
      "Trainig acc: 0.8457   //   Training loss: 0.4994   //   Test acc: 0.6821   //   Test loss: 1.0269\n",
      "early_stop: 1  /   Best acc: 0.6820728291316527\n",
      "Training task 1 in epoch 8. Batch size: 8.\n"
     ]
    },
    {
     "name": "stderr",
     "output_type": "stream",
     "text": [
      "100%|█████████████████████████████████████████████████████████████████████████████████████████████████████████████████████| 94/94 [00:18<00:00,  5.21it/s]\n",
      "100%|█████████████████████████████████████████████████████████████████████████████████████████████████████████████████████| 90/90 [00:10<00:00,  8.99it/s]\n"
     ]
    },
    {
     "name": "stdout",
     "output_type": "stream",
     "text": [
      "Trainig acc: 0.8883   //   Training loss: 0.3883   //   Test acc: 0.6751   //   Test loss: 1.0449\n",
      "early_stop: 2  /   Best acc: 0.6820728291316527\n",
      "Training task 1 in epoch 9. Batch size: 8.\n"
     ]
    },
    {
     "name": "stderr",
     "output_type": "stream",
     "text": [
      "100%|█████████████████████████████████████████████████████████████████████████████████████████████████████████████████████| 94/94 [00:18<00:00,  5.20it/s]\n",
      "100%|█████████████████████████████████████████████████████████████████████████████████████████████████████████████████████| 90/90 [00:09<00:00,  9.28it/s]\n"
     ]
    },
    {
     "name": "stdout",
     "output_type": "stream",
     "text": [
      "Trainig acc: 0.9056   //   Training loss: 0.3180   //   Test acc: 0.6975   //   Test loss: 0.9776\n",
      "early_stop: 1  /   Best acc: 0.6974789915966386\n",
      "Training task 1 in epoch 10. Batch size: 8.\n"
     ]
    },
    {
     "name": "stderr",
     "output_type": "stream",
     "text": [
      "100%|█████████████████████████████████████████████████████████████████████████████████████████████████████████████████████| 94/94 [00:17<00:00,  5.30it/s]\n",
      "100%|█████████████████████████████████████████████████████████████████████████████████████████████████████████████████████| 90/90 [00:09<00:00,  9.25it/s]\n"
     ]
    },
    {
     "name": "stdout",
     "output_type": "stream",
     "text": [
      "Trainig acc: 0.9255   //   Training loss: 0.2833   //   Test acc: 0.6877   //   Test loss: 1.1127\n",
      "early_stop: 2  /   Best acc: 0.6974789915966386\n",
      "Training task 1 in epoch 11. Batch size: 8.\n"
     ]
    },
    {
     "name": "stderr",
     "output_type": "stream",
     "text": [
      "100%|█████████████████████████████████████████████████████████████████████████████████████████████████████████████████████| 94/94 [00:18<00:00,  5.19it/s]\n",
      "100%|█████████████████████████████████████████████████████████████████████████████████████████████████████████████████████| 90/90 [00:09<00:00,  9.00it/s]\n"
     ]
    },
    {
     "name": "stdout",
     "output_type": "stream",
     "text": [
      "Trainig acc: 0.9428   //   Training loss: 0.2095   //   Test acc: 0.7101   //   Test loss: 0.9991\n",
      "early_stop: 1  /   Best acc: 0.7100840336134454\n",
      "Training task 1 in epoch 12. Batch size: 8.\n"
     ]
    },
    {
     "name": "stderr",
     "output_type": "stream",
     "text": [
      "100%|█████████████████████████████████████████████████████████████████████████████████████████████████████████████████████| 94/94 [00:18<00:00,  5.18it/s]\n",
      "100%|█████████████████████████████████████████████████████████████████████████████████████████████████████████████████████| 90/90 [00:10<00:00,  8.65it/s]\n"
     ]
    },
    {
     "name": "stdout",
     "output_type": "stream",
     "text": [
      "Trainig acc: 0.9521   //   Training loss: 0.1700   //   Test acc: 0.7129   //   Test loss: 0.9852\n",
      "early_stop: 1  /   Best acc: 0.7128851540616247\n",
      "Training task 1 in epoch 13. Batch size: 8.\n"
     ]
    },
    {
     "name": "stderr",
     "output_type": "stream",
     "text": [
      "100%|█████████████████████████████████████████████████████████████████████████████████████████████████████████████████████| 94/94 [00:17<00:00,  5.24it/s]\n",
      "100%|█████████████████████████████████████████████████████████████████████████████████████████████████████████████████████| 90/90 [00:10<00:00,  8.60it/s]\n"
     ]
    },
    {
     "name": "stdout",
     "output_type": "stream",
     "text": [
      "Trainig acc: 0.9654   //   Training loss: 0.1317   //   Test acc: 0.7213   //   Test loss: 0.9502\n",
      "early_stop: 1  /   Best acc: 0.7212885154061625\n",
      "Training task 1 in epoch 14. Batch size: 8.\n"
     ]
    },
    {
     "name": "stderr",
     "output_type": "stream",
     "text": [
      "100%|█████████████████████████████████████████████████████████████████████████████████████████████████████████████████████| 94/94 [00:18<00:00,  5.18it/s]\n",
      "100%|█████████████████████████████████████████████████████████████████████████████████████████████████████████████████████| 90/90 [00:10<00:00,  8.77it/s]\n"
     ]
    },
    {
     "name": "stdout",
     "output_type": "stream",
     "text": [
      "Trainig acc: 0.9734   //   Training loss: 0.1030   //   Test acc: 0.7269   //   Test loss: 1.0328\n",
      "early_stop: 1  /   Best acc: 0.726890756302521\n",
      "Training task 1 in epoch 15. Batch size: 8.\n"
     ]
    },
    {
     "name": "stderr",
     "output_type": "stream",
     "text": [
      "100%|█████████████████████████████████████████████████████████████████████████████████████████████████████████████████████| 94/94 [00:18<00:00,  5.21it/s]\n",
      "100%|█████████████████████████████████████████████████████████████████████████████████████████████████████████████████████| 90/90 [00:09<00:00,  9.00it/s]\n"
     ]
    },
    {
     "name": "stdout",
     "output_type": "stream",
     "text": [
      "Trainig acc: 0.9747   //   Training loss: 0.1037   //   Test acc: 0.7227   //   Test loss: 1.1137\n",
      "early_stop: 2  /   Best acc: 0.726890756302521\n",
      "Training task 1 in epoch 16. Batch size: 8.\n"
     ]
    },
    {
     "name": "stderr",
     "output_type": "stream",
     "text": [
      "100%|█████████████████████████████████████████████████████████████████████████████████████████████████████████████████████| 94/94 [00:17<00:00,  5.24it/s]\n",
      "100%|█████████████████████████████████████████████████████████████████████████████████████████████████████████████████████| 90/90 [00:10<00:00,  8.88it/s]\n"
     ]
    },
    {
     "name": "stdout",
     "output_type": "stream",
     "text": [
      "Trainig acc: 0.9854   //   Training loss: 0.0693   //   Test acc: 0.7213   //   Test loss: 1.1256\n",
      "early_stop: 3  /   Best acc: 0.726890756302521\n",
      "Training task 1 in epoch 17. Batch size: 8.\n"
     ]
    },
    {
     "name": "stderr",
     "output_type": "stream",
     "text": [
      "100%|█████████████████████████████████████████████████████████████████████████████████████████████████████████████████████| 94/94 [00:18<00:00,  5.21it/s]\n",
      "100%|█████████████████████████████████████████████████████████████████████████████████████████████████████████████████████| 90/90 [00:09<00:00,  9.01it/s]\n"
     ]
    },
    {
     "name": "stdout",
     "output_type": "stream",
     "text": [
      "Trainig acc: 0.9827   //   Training loss: 0.0538   //   Test acc: 0.6989   //   Test loss: 1.3134\n",
      "early_stop: 4  /   Best acc: 0.726890756302521\n",
      "Training task 1 in epoch 18. Batch size: 8.\n"
     ]
    },
    {
     "name": "stderr",
     "output_type": "stream",
     "text": [
      "100%|█████████████████████████████████████████████████████████████████████████████████████████████████████████████████████| 94/94 [00:18<00:00,  5.18it/s]\n",
      "100%|█████████████████████████████████████████████████████████████████████████████████████████████████████████████████████| 90/90 [00:10<00:00,  8.95it/s]\n"
     ]
    },
    {
     "name": "stdout",
     "output_type": "stream",
     "text": [
      "Trainig acc: 0.984   //   Training loss: 0.0522   //   Test acc: 0.7213   //   Test loss: 1.1163\n",
      "early_stop: 5  /   Best acc: 0.726890756302521\n",
      "Training task 1 in epoch 19. Batch size: 8.\n"
     ]
    },
    {
     "name": "stderr",
     "output_type": "stream",
     "text": [
      "100%|█████████████████████████████████████████████████████████████████████████████████████████████████████████████████████| 94/94 [00:18<00:00,  5.19it/s]\n",
      "100%|█████████████████████████████████████████████████████████████████████████████████████████████████████████████████████| 90/90 [00:09<00:00,  9.05it/s]\n"
     ]
    },
    {
     "name": "stdout",
     "output_type": "stream",
     "text": [
      "Trainig acc: 0.9854   //   Training loss: 0.0543   //   Test acc: 0.7283   //   Test loss: 1.0923\n",
      "early_stop: 1  /   Best acc: 0.7282913165266106\n",
      "Training task 1 in epoch 20. Batch size: 8.\n"
     ]
    },
    {
     "name": "stderr",
     "output_type": "stream",
     "text": [
      "100%|█████████████████████████████████████████████████████████████████████████████████████████████████████████████████████| 94/94 [00:17<00:00,  5.23it/s]\n",
      "100%|█████████████████████████████████████████████████████████████████████████████████████████████████████████████████████| 90/90 [00:09<00:00,  9.04it/s]\n"
     ]
    },
    {
     "name": "stdout",
     "output_type": "stream",
     "text": [
      "Trainig acc: 0.9827   //   Training loss: 0.0496   //   Test acc: 0.7353   //   Test loss: 0.9891\n",
      "early_stop: 1  /   Best acc: 0.7352941176470589\n",
      "Training task 1 in epoch 21. Batch size: 8.\n"
     ]
    },
    {
     "name": "stderr",
     "output_type": "stream",
     "text": [
      "100%|█████████████████████████████████████████████████████████████████████████████████████████████████████████████████████| 94/94 [00:18<00:00,  5.21it/s]\n",
      "100%|█████████████████████████████████████████████████████████████████████████████████████████████████████████████████████| 90/90 [00:09<00:00,  9.07it/s]\n"
     ]
    },
    {
     "name": "stdout",
     "output_type": "stream",
     "text": [
      "Trainig acc: 0.9894   //   Training loss: 0.0319   //   Test acc: 0.7297   //   Test loss: 1.0859\n",
      "early_stop: 2  /   Best acc: 0.7352941176470589\n",
      "Training task 1 in epoch 22. Batch size: 8.\n"
     ]
    },
    {
     "name": "stderr",
     "output_type": "stream",
     "text": [
      "100%|█████████████████████████████████████████████████████████████████████████████████████████████████████████████████████| 94/94 [00:18<00:00,  5.17it/s]\n",
      "100%|█████████████████████████████████████████████████████████████████████████████████████████████████████████████████████| 90/90 [00:09<00:00,  9.17it/s]\n"
     ]
    },
    {
     "name": "stdout",
     "output_type": "stream",
     "text": [
      "Trainig acc: 0.9854   //   Training loss: 0.0459   //   Test acc: 0.7227   //   Test loss: 1.2396\n",
      "early_stop: 3  /   Best acc: 0.7352941176470589\n",
      "Training task 1 in epoch 23. Batch size: 8.\n"
     ]
    },
    {
     "name": "stderr",
     "output_type": "stream",
     "text": [
      "100%|█████████████████████████████████████████████████████████████████████████████████████████████████████████████████████| 94/94 [00:18<00:00,  5.15it/s]\n",
      "100%|█████████████████████████████████████████████████████████████████████████████████████████████████████████████████████| 90/90 [00:10<00:00,  8.92it/s]\n"
     ]
    },
    {
     "name": "stdout",
     "output_type": "stream",
     "text": [
      "Trainig acc: 0.992   //   Training loss: 0.0293   //   Test acc: 0.7031   //   Test loss: 1.4352\n",
      "early_stop: 4  /   Best acc: 0.7352941176470589\n",
      "Training task 1 in epoch 24. Batch size: 8.\n"
     ]
    },
    {
     "name": "stderr",
     "output_type": "stream",
     "text": [
      "100%|█████████████████████████████████████████████████████████████████████████████████████████████████████████████████████| 94/94 [00:18<00:00,  5.21it/s]\n",
      "100%|█████████████████████████████████████████████████████████████████████████████████████████████████████████████████████| 90/90 [00:10<00:00,  8.74it/s]\n"
     ]
    },
    {
     "name": "stdout",
     "output_type": "stream",
     "text": [
      "Trainig acc: 0.992   //   Training loss: 0.0291   //   Test acc: 0.7311   //   Test loss: 1.0506\n",
      "early_stop: 5  /   Best acc: 0.7352941176470589\n",
      "Training task 1 in epoch 25. Batch size: 8.\n"
     ]
    },
    {
     "name": "stderr",
     "output_type": "stream",
     "text": [
      "100%|█████████████████████████████████████████████████████████████████████████████████████████████████████████████████████| 94/94 [00:18<00:00,  5.18it/s]\n",
      "100%|█████████████████████████████████████████████████████████████████████████████████████████████████████████████████████| 90/90 [00:09<00:00,  9.06it/s]\n"
     ]
    },
    {
     "name": "stdout",
     "output_type": "stream",
     "text": [
      "Trainig acc: 0.988   //   Training loss: 0.0346   //   Test acc: 0.7185   //   Test loss: 1.3724\n",
      "early_stop: 6  /   Best acc: 0.7352941176470589\n",
      "Training task 1 in epoch 26. Batch size: 8.\n"
     ]
    },
    {
     "name": "stderr",
     "output_type": "stream",
     "text": [
      "100%|█████████████████████████████████████████████████████████████████████████████████████████████████████████████████████| 94/94 [00:18<00:00,  5.18it/s]\n",
      "100%|█████████████████████████████████████████████████████████████████████████████████████████████████████████████████████| 90/90 [00:09<00:00,  9.00it/s]\n"
     ]
    },
    {
     "name": "stdout",
     "output_type": "stream",
     "text": [
      "Trainig acc: 0.9867   //   Training loss: 0.0299   //   Test acc: 0.7367   //   Test loss: 1.1141\n",
      "early_stop: 1  /   Best acc: 0.7366946778711485\n",
      "Training task 1 in epoch 27. Batch size: 8.\n"
     ]
    },
    {
     "name": "stderr",
     "output_type": "stream",
     "text": [
      "100%|█████████████████████████████████████████████████████████████████████████████████████████████████████████████████████| 94/94 [00:18<00:00,  5.19it/s]\n",
      "100%|█████████████████████████████████████████████████████████████████████████████████████████████████████████████████████| 90/90 [00:09<00:00,  9.04it/s]\n"
     ]
    },
    {
     "name": "stdout",
     "output_type": "stream",
     "text": [
      "Trainig acc: 0.9854   //   Training loss: 0.0333   //   Test acc: 0.7213   //   Test loss: 1.0929\n",
      "early_stop: 2  /   Best acc: 0.7366946778711485\n",
      "Training task 1 in epoch 28. Batch size: 8.\n"
     ]
    },
    {
     "name": "stderr",
     "output_type": "stream",
     "text": [
      "100%|█████████████████████████████████████████████████████████████████████████████████████████████████████████████████████| 94/94 [00:18<00:00,  5.19it/s]\n",
      "100%|█████████████████████████████████████████████████████████████████████████████████████████████████████████████████████| 90/90 [00:10<00:00,  8.82it/s]\n"
     ]
    },
    {
     "name": "stdout",
     "output_type": "stream",
     "text": [
      "Trainig acc: 0.996   //   Training loss: 0.0147   //   Test acc: 0.7381   //   Test loss: 1.0541\n",
      "early_stop: 1  /   Best acc: 0.7380952380952381\n",
      "Training task 1 in epoch 29. Batch size: 8.\n"
     ]
    },
    {
     "name": "stderr",
     "output_type": "stream",
     "text": [
      "100%|█████████████████████████████████████████████████████████████████████████████████████████████████████████████████████| 94/94 [00:18<00:00,  5.22it/s]\n",
      "100%|█████████████████████████████████████████████████████████████████████████████████████████████████████████████████████| 90/90 [00:09<00:00,  9.03it/s]\n"
     ]
    },
    {
     "name": "stdout",
     "output_type": "stream",
     "text": [
      "Trainig acc: 0.9867   //   Training loss: 0.0283   //   Test acc: 0.7255   //   Test loss: 1.1335\n",
      "early_stop: 2  /   Best acc: 0.7380952380952381\n",
      "Training task 1 in epoch 30. Batch size: 8.\n"
     ]
    },
    {
     "name": "stderr",
     "output_type": "stream",
     "text": [
      "100%|█████████████████████████████████████████████████████████████████████████████████████████████████████████████████████| 94/94 [00:18<00:00,  5.17it/s]\n",
      "100%|█████████████████████████████████████████████████████████████████████████████████████████████████████████████████████| 90/90 [00:09<00:00,  9.31it/s]\n"
     ]
    },
    {
     "name": "stdout",
     "output_type": "stream",
     "text": [
      "Trainig acc: 0.9907   //   Training loss: 0.0252   //   Test acc: 0.7227   //   Test loss: 1.1279\n",
      "early_stop: 3  /   Best acc: 0.7380952380952381\n",
      "Training task 1 in epoch 31. Batch size: 8.\n"
     ]
    },
    {
     "name": "stderr",
     "output_type": "stream",
     "text": [
      "100%|█████████████████████████████████████████████████████████████████████████████████████████████████████████████████████| 94/94 [00:18<00:00,  5.20it/s]\n",
      "100%|█████████████████████████████████████████████████████████████████████████████████████████████████████████████████████| 90/90 [00:10<00:00,  8.31it/s]\n"
     ]
    },
    {
     "name": "stdout",
     "output_type": "stream",
     "text": [
      "Trainig acc: 0.992   //   Training loss: 0.0200   //   Test acc: 0.7353   //   Test loss: 1.0959\n",
      "early_stop: 4  /   Best acc: 0.7380952380952381\n",
      "Training task 1 in epoch 32. Batch size: 8.\n"
     ]
    },
    {
     "name": "stderr",
     "output_type": "stream",
     "text": [
      "100%|█████████████████████████████████████████████████████████████████████████████████████████████████████████████████████| 94/94 [00:18<00:00,  5.19it/s]\n",
      "100%|█████████████████████████████████████████████████████████████████████████████████████████████████████████████████████| 90/90 [00:10<00:00,  8.73it/s]\n"
     ]
    },
    {
     "name": "stdout",
     "output_type": "stream",
     "text": [
      "Trainig acc: 0.992   //   Training loss: 0.0156   //   Test acc: 0.7353   //   Test loss: 1.0678\n",
      "early_stop: 5  /   Best acc: 0.7380952380952381\n",
      "Training task 1 in epoch 33. Batch size: 8.\n"
     ]
    },
    {
     "name": "stderr",
     "output_type": "stream",
     "text": [
      "100%|█████████████████████████████████████████████████████████████████████████████████████████████████████████████████████| 94/94 [00:18<00:00,  5.18it/s]\n",
      "100%|█████████████████████████████████████████████████████████████████████████████████████████████████████████████████████| 90/90 [00:10<00:00,  8.95it/s]\n"
     ]
    },
    {
     "name": "stdout",
     "output_type": "stream",
     "text": [
      "Trainig acc: 0.9894   //   Training loss: 0.0241   //   Test acc: 0.7437   //   Test loss: 1.0248\n",
      "early_stop: 1  /   Best acc: 0.7436974789915967\n",
      "Training task 1 in epoch 34. Batch size: 8.\n"
     ]
    },
    {
     "name": "stderr",
     "output_type": "stream",
     "text": [
      "100%|█████████████████████████████████████████████████████████████████████████████████████████████████████████████████████| 94/94 [00:18<00:00,  5.19it/s]\n",
      "100%|█████████████████████████████████████████████████████████████████████████████████████████████████████████████████████| 90/90 [00:09<00:00,  9.09it/s]\n"
     ]
    },
    {
     "name": "stdout",
     "output_type": "stream",
     "text": [
      "Trainig acc: 0.996   //   Training loss: 0.0157   //   Test acc: 0.7381   //   Test loss: 1.1404\n",
      "early_stop: 2  /   Best acc: 0.7436974789915967\n",
      "Training task 1 in epoch 35. Batch size: 8.\n"
     ]
    },
    {
     "name": "stderr",
     "output_type": "stream",
     "text": [
      "100%|█████████████████████████████████████████████████████████████████████████████████████████████████████████████████████| 94/94 [00:18<00:00,  5.18it/s]\n",
      "100%|█████████████████████████████████████████████████████████████████████████████████████████████████████████████████████| 90/90 [00:09<00:00,  9.08it/s]\n"
     ]
    },
    {
     "name": "stdout",
     "output_type": "stream",
     "text": [
      "Trainig acc: 0.9934   //   Training loss: 0.0237   //   Test acc: 0.7297   //   Test loss: 1.1248\n",
      "early_stop: 3  /   Best acc: 0.7436974789915967\n",
      "Training task 1 in epoch 36. Batch size: 8.\n"
     ]
    },
    {
     "name": "stderr",
     "output_type": "stream",
     "text": [
      "100%|█████████████████████████████████████████████████████████████████████████████████████████████████████████████████████| 94/94 [00:17<00:00,  5.24it/s]\n",
      "100%|█████████████████████████████████████████████████████████████████████████████████████████████████████████████████████| 90/90 [00:10<00:00,  8.95it/s]\n"
     ]
    },
    {
     "name": "stdout",
     "output_type": "stream",
     "text": [
      "Trainig acc: 0.9934   //   Training loss: 0.0166   //   Test acc: 0.7409   //   Test loss: 1.0168\n",
      "early_stop: 4  /   Best acc: 0.7436974789915967\n",
      "Training task 1 in epoch 37. Batch size: 8.\n"
     ]
    },
    {
     "name": "stderr",
     "output_type": "stream",
     "text": [
      "100%|█████████████████████████████████████████████████████████████████████████████████████████████████████████████████████| 94/94 [00:18<00:00,  5.19it/s]\n",
      "100%|█████████████████████████████████████████████████████████████████████████████████████████████████████████████████████| 90/90 [00:10<00:00,  8.93it/s]\n"
     ]
    },
    {
     "name": "stdout",
     "output_type": "stream",
     "text": [
      "Trainig acc: 0.9947   //   Training loss: 0.0196   //   Test acc: 0.7269   //   Test loss: 1.2103\n",
      "early_stop: 5  /   Best acc: 0.7436974789915967\n",
      "Training task 1 in epoch 38. Batch size: 8.\n"
     ]
    },
    {
     "name": "stderr",
     "output_type": "stream",
     "text": [
      "100%|█████████████████████████████████████████████████████████████████████████████████████████████████████████████████████| 94/94 [00:17<00:00,  5.23it/s]\n",
      "100%|█████████████████████████████████████████████████████████████████████████████████████████████████████████████████████| 90/90 [00:10<00:00,  8.60it/s]\n"
     ]
    },
    {
     "name": "stdout",
     "output_type": "stream",
     "text": [
      "Trainig acc: 0.9907   //   Training loss: 0.0197   //   Test acc: 0.7423   //   Test loss: 1.1611\n",
      "early_stop: 6  /   Best acc: 0.7436974789915967\n",
      "Training task 1 in epoch 39. Batch size: 8.\n"
     ]
    },
    {
     "name": "stderr",
     "output_type": "stream",
     "text": [
      "100%|█████████████████████████████████████████████████████████████████████████████████████████████████████████████████████| 94/94 [00:18<00:00,  5.18it/s]\n",
      "100%|█████████████████████████████████████████████████████████████████████████████████████████████████████████████████████| 90/90 [00:10<00:00,  8.82it/s]\n"
     ]
    },
    {
     "name": "stdout",
     "output_type": "stream",
     "text": [
      "Trainig acc: 0.9934   //   Training loss: 0.0190   //   Test acc: 0.7465   //   Test loss: 1.0375\n",
      "early_stop: 1  /   Best acc: 0.7464985994397759\n",
      "Training task 1 in epoch 40. Batch size: 8.\n"
     ]
    },
    {
     "name": "stderr",
     "output_type": "stream",
     "text": [
      "100%|█████████████████████████████████████████████████████████████████████████████████████████████████████████████████████| 94/94 [00:17<00:00,  5.25it/s]\n",
      "100%|█████████████████████████████████████████████████████████████████████████████████████████████████████████████████████| 90/90 [00:09<00:00,  9.23it/s]\n"
     ]
    },
    {
     "name": "stdout",
     "output_type": "stream",
     "text": [
      "Trainig acc: 0.992   //   Training loss: 0.0217   //   Test acc: 0.7395   //   Test loss: 1.1226\n",
      "early_stop: 2  /   Best acc: 0.7464985994397759\n",
      "Training task 1 in epoch 41. Batch size: 8.\n"
     ]
    },
    {
     "name": "stderr",
     "output_type": "stream",
     "text": [
      "100%|█████████████████████████████████████████████████████████████████████████████████████████████████████████████████████| 94/94 [00:18<00:00,  5.21it/s]\n",
      "100%|█████████████████████████████████████████████████████████████████████████████████████████████████████████████████████| 90/90 [00:09<00:00,  9.26it/s]\n"
     ]
    },
    {
     "name": "stdout",
     "output_type": "stream",
     "text": [
      "Trainig acc: 0.996   //   Training loss: 0.0110   //   Test acc: 0.7437   //   Test loss: 1.0657\n",
      "early_stop: 3  /   Best acc: 0.7464985994397759\n",
      "Training task 1 in epoch 42. Batch size: 8.\n"
     ]
    },
    {
     "name": "stderr",
     "output_type": "stream",
     "text": [
      "100%|█████████████████████████████████████████████████████████████████████████████████████████████████████████████████████| 94/94 [00:18<00:00,  5.14it/s]\n",
      "100%|█████████████████████████████████████████████████████████████████████████████████████████████████████████████████████| 90/90 [00:10<00:00,  8.96it/s]\n"
     ]
    },
    {
     "name": "stdout",
     "output_type": "stream",
     "text": [
      "Trainig acc: 0.9867   //   Training loss: 0.0315   //   Test acc: 0.7213   //   Test loss: 1.3311\n",
      "early_stop: 4  /   Best acc: 0.7464985994397759\n",
      "Training task 1 in epoch 43. Batch size: 8.\n"
     ]
    },
    {
     "name": "stderr",
     "output_type": "stream",
     "text": [
      "100%|█████████████████████████████████████████████████████████████████████████████████████████████████████████████████████| 94/94 [00:18<00:00,  5.16it/s]\n",
      "100%|█████████████████████████████████████████████████████████████████████████████████████████████████████████████████████| 90/90 [00:10<00:00,  8.99it/s]\n"
     ]
    },
    {
     "name": "stdout",
     "output_type": "stream",
     "text": [
      "Trainig acc: 0.9947   //   Training loss: 0.0127   //   Test acc: 0.7381   //   Test loss: 1.0268\n",
      "early_stop: 5  /   Best acc: 0.7464985994397759\n",
      "Training task 1 in epoch 44. Batch size: 8.\n"
     ]
    },
    {
     "name": "stderr",
     "output_type": "stream",
     "text": [
      "100%|█████████████████████████████████████████████████████████████████████████████████████████████████████████████████████| 94/94 [00:18<00:00,  5.20it/s]\n",
      "100%|█████████████████████████████████████████████████████████████████████████████████████████████████████████████████████| 90/90 [00:10<00:00,  8.48it/s]\n"
     ]
    },
    {
     "name": "stdout",
     "output_type": "stream",
     "text": [
      "Trainig acc: 0.992   //   Training loss: 0.0271   //   Test acc: 0.7255   //   Test loss: 1.1337\n",
      "early_stop: 6  /   Best acc: 0.7464985994397759\n",
      "Training task 1 in epoch 45. Batch size: 8.\n"
     ]
    },
    {
     "name": "stderr",
     "output_type": "stream",
     "text": [
      "100%|█████████████████████████████████████████████████████████████████████████████████████████████████████████████████████| 94/94 [00:18<00:00,  5.17it/s]\n",
      "100%|█████████████████████████████████████████████████████████████████████████████████████████████████████████████████████| 90/90 [00:10<00:00,  8.51it/s]\n"
     ]
    },
    {
     "name": "stdout",
     "output_type": "stream",
     "text": [
      "Trainig acc: 0.9894   //   Training loss: 0.0218   //   Test acc: 0.7311   //   Test loss: 1.0784\n",
      "early_stop: 7  /   Best acc: 0.7464985994397759\n",
      "Training task 1 in epoch 46. Batch size: 8.\n"
     ]
    },
    {
     "name": "stderr",
     "output_type": "stream",
     "text": [
      "100%|█████████████████████████████████████████████████████████████████████████████████████████████████████████████████████| 94/94 [00:18<00:00,  5.17it/s]\n",
      "100%|█████████████████████████████████████████████████████████████████████████████████████████████████████████████████████| 90/90 [00:09<00:00,  9.01it/s]\n"
     ]
    },
    {
     "name": "stdout",
     "output_type": "stream",
     "text": [
      "Trainig acc: 0.996   //   Training loss: 0.0095   //   Test acc: 0.7353   //   Test loss: 1.0726\n",
      "early_stop: 8  /   Best acc: 0.7464985994397759\n",
      "Training task 1 in epoch 47. Batch size: 8.\n"
     ]
    },
    {
     "name": "stderr",
     "output_type": "stream",
     "text": [
      "100%|█████████████████████████████████████████████████████████████████████████████████████████████████████████████████████| 94/94 [00:18<00:00,  5.21it/s]\n",
      "100%|█████████████████████████████████████████████████████████████████████████████████████████████████████████████████████| 90/90 [00:10<00:00,  8.90it/s]\n"
     ]
    },
    {
     "name": "stdout",
     "output_type": "stream",
     "text": [
      "Trainig acc: 0.9934   //   Training loss: 0.0148   //   Test acc: 0.7367   //   Test loss: 1.0182\n",
      "early_stop: 9  /   Best acc: 0.7464985994397759\n",
      "Training task 1 in epoch 48. Batch size: 8.\n"
     ]
    },
    {
     "name": "stderr",
     "output_type": "stream",
     "text": [
      "100%|█████████████████████████████████████████████████████████████████████████████████████████████████████████████████████| 94/94 [00:18<00:00,  5.19it/s]\n",
      "100%|█████████████████████████████████████████████████████████████████████████████████████████████████████████████████████| 90/90 [00:09<00:00,  9.03it/s]\n"
     ]
    },
    {
     "name": "stdout",
     "output_type": "stream",
     "text": [
      "Trainig acc: 0.9907   //   Training loss: 0.0196   //   Test acc: 0.7297   //   Test loss: 1.1521\n",
      "early_stop: 10  /   Best acc: 0.7464985994397759\n",
      "Training task 1 in epoch 49. Batch size: 8.\n"
     ]
    },
    {
     "name": "stderr",
     "output_type": "stream",
     "text": [
      "100%|█████████████████████████████████████████████████████████████████████████████████████████████████████████████████████| 94/94 [00:18<00:00,  5.21it/s]\n",
      "100%|█████████████████████████████████████████████████████████████████████████████████████████████████████████████████████| 90/90 [00:10<00:00,  8.99it/s]\n"
     ]
    },
    {
     "name": "stdout",
     "output_type": "stream",
     "text": [
      "Trainig acc: 0.992   //   Training loss: 0.0211   //   Test acc: 0.7395   //   Test loss: 1.1047\n",
      "early_stop: 11  /   Best acc: 0.7464985994397759\n",
      "Training task 1 in epoch 50. Batch size: 8.\n"
     ]
    },
    {
     "name": "stderr",
     "output_type": "stream",
     "text": [
      "100%|█████████████████████████████████████████████████████████████████████████████████████████████████████████████████████| 94/94 [00:18<00:00,  5.22it/s]\n",
      "100%|█████████████████████████████████████████████████████████████████████████████████████████████████████████████████████| 90/90 [00:09<00:00,  9.18it/s]\n"
     ]
    },
    {
     "name": "stdout",
     "output_type": "stream",
     "text": [
      "---------------------------------------- TASK_2 ----------------------------------------\n",
      "Training task 2 in epoch 0. Batch size: 8.\n"
     ]
    },
    {
     "name": "stderr",
     "output_type": "stream",
     "text": [
      "100%|█████████████████████████████████████████████████████████████████████████████████████████████████████████████████████| 94/94 [00:18<00:00,  5.15it/s]\n",
      "100%|█████████████████████████████████████████████████████████████████████████████████████████████████████████████████████| 94/94 [00:10<00:00,  8.88it/s]\n"
     ]
    },
    {
     "name": "stdout",
     "output_type": "stream",
     "text": [
      "Trainig acc: 0.05319   //   Training loss: 4.5772   //   Test acc: 0.2687   //   Test loss: 2.8405\n",
      "early_stop: 1  /   Best acc: 0.26871657754010697\n",
      "Training task 2 in epoch 1. Batch size: 8.\n"
     ]
    },
    {
     "name": "stderr",
     "output_type": "stream",
     "text": [
      "100%|█████████████████████████████████████████████████████████████████████████████████████████████████████████████████████| 94/94 [00:17<00:00,  5.24it/s]\n",
      "100%|█████████████████████████████████████████████████████████████████████████████████████████████████████████████████████| 94/94 [00:10<00:00,  8.95it/s]\n"
     ]
    },
    {
     "name": "stdout",
     "output_type": "stream",
     "text": [
      "Trainig acc: 0.2407   //   Training loss: 2.6031   //   Test acc: 0.4398   //   Test loss: 1.8922\n",
      "early_stop: 1  /   Best acc: 0.43983957219251335\n",
      "Training task 2 in epoch 2. Batch size: 8.\n"
     ]
    },
    {
     "name": "stderr",
     "output_type": "stream",
     "text": [
      "100%|█████████████████████████████████████████████████████████████████████████████████████████████████████████████████████| 94/94 [00:18<00:00,  5.19it/s]\n",
      "100%|█████████████████████████████████████████████████████████████████████████████████████████████████████████████████████| 94/94 [00:10<00:00,  8.92it/s]\n"
     ]
    },
    {
     "name": "stdout",
     "output_type": "stream",
     "text": [
      "Trainig acc: 0.4215   //   Training loss: 1.8957   //   Test acc: 0.5307   //   Test loss: 1.5163\n",
      "early_stop: 1  /   Best acc: 0.5307486631016043\n",
      "Training task 2 in epoch 3. Batch size: 8.\n"
     ]
    },
    {
     "name": "stderr",
     "output_type": "stream",
     "text": [
      "100%|█████████████████████████████████████████████████████████████████████████████████████████████████████████████████████| 94/94 [00:18<00:00,  5.17it/s]\n",
      "100%|█████████████████████████████████████████████████████████████████████████████████████████████████████████████████████| 94/94 [00:10<00:00,  8.90it/s]\n"
     ]
    },
    {
     "name": "stdout",
     "output_type": "stream",
     "text": [
      "Trainig acc: 0.5266   //   Training loss: 1.5050   //   Test acc: 0.5842   //   Test loss: 1.3100\n",
      "early_stop: 1  /   Best acc: 0.5842245989304813\n",
      "Training task 2 in epoch 4. Batch size: 8.\n"
     ]
    },
    {
     "name": "stderr",
     "output_type": "stream",
     "text": [
      "100%|█████████████████████████████████████████████████████████████████████████████████████████████████████████████████████| 94/94 [00:18<00:00,  5.17it/s]\n",
      "100%|█████████████████████████████████████████████████████████████████████████████████████████████████████████████████████| 94/94 [00:10<00:00,  8.98it/s]\n"
     ]
    },
    {
     "name": "stdout",
     "output_type": "stream",
     "text": [
      "Trainig acc: 0.6064   //   Training loss: 1.2135   //   Test acc: 0.6283   //   Test loss: 1.1490\n",
      "early_stop: 1  /   Best acc: 0.6283422459893048\n",
      "Training task 2 in epoch 5. Batch size: 8.\n"
     ]
    },
    {
     "name": "stderr",
     "output_type": "stream",
     "text": [
      "100%|█████████████████████████████████████████████████████████████████████████████████████████████████████████████████████| 94/94 [00:18<00:00,  5.14it/s]\n",
      "100%|█████████████████████████████████████████████████████████████████████████████████████████████████████████████████████| 94/94 [00:10<00:00,  9.23it/s]\n"
     ]
    },
    {
     "name": "stdout",
     "output_type": "stream",
     "text": [
      "Trainig acc: 0.6755   //   Training loss: 0.9847   //   Test acc: 0.6430   //   Test loss: 1.1179\n",
      "early_stop: 1  /   Best acc: 0.643048128342246\n",
      "Training task 2 in epoch 6. Batch size: 8.\n"
     ]
    },
    {
     "name": "stderr",
     "output_type": "stream",
     "text": [
      "100%|█████████████████████████████████████████████████████████████████████████████████████████████████████████████████████| 94/94 [00:18<00:00,  5.12it/s]\n",
      "100%|█████████████████████████████████████████████████████████████████████████████████████████████████████████████████████| 94/94 [00:10<00:00,  9.10it/s]\n"
     ]
    },
    {
     "name": "stdout",
     "output_type": "stream",
     "text": [
      "Trainig acc: 0.7527   //   Training loss: 0.7778   //   Test acc: 0.6537   //   Test loss: 1.0152\n",
      "early_stop: 1  /   Best acc: 0.6537433155080213\n",
      "Training task 2 in epoch 7. Batch size: 8.\n"
     ]
    },
    {
     "name": "stderr",
     "output_type": "stream",
     "text": [
      "100%|█████████████████████████████████████████████████████████████████████████████████████████████████████████████████████| 94/94 [00:18<00:00,  5.17it/s]\n",
      "100%|█████████████████████████████████████████████████████████████████████████████████████████████████████████████████████| 94/94 [00:10<00:00,  8.89it/s]\n"
     ]
    },
    {
     "name": "stdout",
     "output_type": "stream",
     "text": [
      "Trainig acc: 0.7779   //   Training loss: 0.6822   //   Test acc: 0.6578   //   Test loss: 1.0169\n",
      "early_stop: 1  /   Best acc: 0.6577540106951871\n",
      "Training task 2 in epoch 8. Batch size: 8.\n"
     ]
    },
    {
     "name": "stderr",
     "output_type": "stream",
     "text": [
      "100%|█████████████████████████████████████████████████████████████████████████████████████████████████████████████████████| 94/94 [00:18<00:00,  5.15it/s]\n",
      "100%|█████████████████████████████████████████████████████████████████████████████████████████████████████████████████████| 94/94 [00:10<00:00,  8.88it/s]\n"
     ]
    },
    {
     "name": "stdout",
     "output_type": "stream",
     "text": [
      "Trainig acc: 0.8165   //   Training loss: 0.5270   //   Test acc: 0.6925   //   Test loss: 0.9553\n",
      "early_stop: 1  /   Best acc: 0.6925133689839572\n",
      "Training task 2 in epoch 9. Batch size: 8.\n"
     ]
    },
    {
     "name": "stderr",
     "output_type": "stream",
     "text": [
      "100%|█████████████████████████████████████████████████████████████████████████████████████████████████████████████████████| 94/94 [00:18<00:00,  5.20it/s]\n",
      "100%|█████████████████████████████████████████████████████████████████████████████████████████████████████████████████████| 94/94 [00:10<00:00,  8.90it/s]\n"
     ]
    },
    {
     "name": "stdout",
     "output_type": "stream",
     "text": [
      "Trainig acc: 0.8949   //   Training loss: 0.3793   //   Test acc: 0.6778   //   Test loss: 0.9690\n",
      "early_stop: 2  /   Best acc: 0.6925133689839572\n",
      "Training task 2 in epoch 10. Batch size: 8.\n"
     ]
    },
    {
     "name": "stderr",
     "output_type": "stream",
     "text": [
      "100%|█████████████████████████████████████████████████████████████████████████████████████████████████████████████████████| 94/94 [00:18<00:00,  5.18it/s]\n",
      "100%|█████████████████████████████████████████████████████████████████████████████████████████████████████████████████████| 94/94 [00:10<00:00,  9.26it/s]\n"
     ]
    },
    {
     "name": "stdout",
     "output_type": "stream",
     "text": [
      "Trainig acc: 0.8843   //   Training loss: 0.3440   //   Test acc: 0.6818   //   Test loss: 0.9993\n",
      "early_stop: 3  /   Best acc: 0.6925133689839572\n",
      "Training task 2 in epoch 11. Batch size: 8.\n"
     ]
    },
    {
     "name": "stderr",
     "output_type": "stream",
     "text": [
      "100%|█████████████████████████████████████████████████████████████████████████████████████████████████████████████████████| 94/94 [00:18<00:00,  5.17it/s]\n",
      "100%|█████████████████████████████████████████████████████████████████████████████████████████████████████████████████████| 94/94 [00:10<00:00,  8.99it/s]\n"
     ]
    },
    {
     "name": "stdout",
     "output_type": "stream",
     "text": [
      "Trainig acc: 0.9162   //   Training loss: 0.3001   //   Test acc: 0.6684   //   Test loss: 1.0337\n",
      "early_stop: 4  /   Best acc: 0.6925133689839572\n",
      "Training task 2 in epoch 12. Batch size: 8.\n"
     ]
    },
    {
     "name": "stderr",
     "output_type": "stream",
     "text": [
      "100%|█████████████████████████████████████████████████████████████████████████████████████████████████████████████████████| 94/94 [00:18<00:00,  5.20it/s]\n",
      "100%|█████████████████████████████████████████████████████████████████████████████████████████████████████████████████████| 94/94 [00:10<00:00,  8.91it/s]\n"
     ]
    },
    {
     "name": "stdout",
     "output_type": "stream",
     "text": [
      "Trainig acc: 0.9402   //   Training loss: 0.2202   //   Test acc: 0.6885   //   Test loss: 0.9899\n",
      "early_stop: 5  /   Best acc: 0.6925133689839572\n",
      "Training task 2 in epoch 13. Batch size: 8.\n"
     ]
    },
    {
     "name": "stderr",
     "output_type": "stream",
     "text": [
      "100%|█████████████████████████████████████████████████████████████████████████████████████████████████████████████████████| 94/94 [00:18<00:00,  5.18it/s]\n",
      "100%|█████████████████████████████████████████████████████████████████████████████████████████████████████████████████████| 94/94 [00:10<00:00,  9.26it/s]\n"
     ]
    },
    {
     "name": "stdout",
     "output_type": "stream",
     "text": [
      "Trainig acc: 0.9588   //   Training loss: 0.1484   //   Test acc: 0.6818   //   Test loss: 1.0466\n",
      "early_stop: 6  /   Best acc: 0.6925133689839572\n",
      "Training task 2 in epoch 14. Batch size: 8.\n"
     ]
    },
    {
     "name": "stderr",
     "output_type": "stream",
     "text": [
      "100%|█████████████████████████████████████████████████████████████████████████████████████████████████████████████████████| 94/94 [00:18<00:00,  5.18it/s]\n",
      "100%|█████████████████████████████████████████████████████████████████████████████████████████████████████████████████████| 94/94 [00:10<00:00,  8.86it/s]\n"
     ]
    },
    {
     "name": "stdout",
     "output_type": "stream",
     "text": [
      "Trainig acc: 0.9588   //   Training loss: 0.1603   //   Test acc: 0.6885   //   Test loss: 1.0304\n",
      "early_stop: 7  /   Best acc: 0.6925133689839572\n",
      "Training task 2 in epoch 15. Batch size: 8.\n"
     ]
    },
    {
     "name": "stderr",
     "output_type": "stream",
     "text": [
      "100%|█████████████████████████████████████████████████████████████████████████████████████████████████████████████████████| 94/94 [00:18<00:00,  5.19it/s]\n",
      "100%|█████████████████████████████████████████████████████████████████████████████████████████████████████████████████████| 94/94 [00:10<00:00,  9.20it/s]\n"
     ]
    },
    {
     "name": "stdout",
     "output_type": "stream",
     "text": [
      "Trainig acc: 0.9641   //   Training loss: 0.1340   //   Test acc: 0.6939   //   Test loss: 1.0349\n",
      "early_stop: 1  /   Best acc: 0.6938502673796791\n",
      "Training task 2 in epoch 16. Batch size: 8.\n"
     ]
    },
    {
     "name": "stderr",
     "output_type": "stream",
     "text": [
      "100%|█████████████████████████████████████████████████████████████████████████████████████████████████████████████████████| 94/94 [00:18<00:00,  5.13it/s]\n",
      "100%|█████████████████████████████████████████████████████████████████████████████████████████████████████████████████████| 94/94 [00:10<00:00,  8.72it/s]\n"
     ]
    },
    {
     "name": "stdout",
     "output_type": "stream",
     "text": [
      "Trainig acc: 0.9681   //   Training loss: 0.1114   //   Test acc: 0.6845   //   Test loss: 1.0529\n",
      "early_stop: 2  /   Best acc: 0.6938502673796791\n",
      "Training task 2 in epoch 17. Batch size: 8.\n"
     ]
    },
    {
     "name": "stderr",
     "output_type": "stream",
     "text": [
      "100%|█████████████████████████████████████████████████████████████████████████████████████████████████████████████████████| 94/94 [00:18<00:00,  5.19it/s]\n",
      "100%|█████████████████████████████████████████████████████████████████████████████████████████████████████████████████████| 94/94 [00:10<00:00,  9.20it/s]\n"
     ]
    },
    {
     "name": "stdout",
     "output_type": "stream",
     "text": [
      "Trainig acc: 0.9707   //   Training loss: 0.1196   //   Test acc: 0.6898   //   Test loss: 1.0335\n",
      "early_stop: 3  /   Best acc: 0.6938502673796791\n",
      "Training task 2 in epoch 18. Batch size: 8.\n"
     ]
    },
    {
     "name": "stderr",
     "output_type": "stream",
     "text": [
      "100%|█████████████████████████████████████████████████████████████████████████████████████████████████████████████████████| 94/94 [00:18<00:00,  5.21it/s]\n",
      "100%|█████████████████████████████████████████████████████████████████████████████████████████████████████████████████████| 94/94 [00:10<00:00,  8.96it/s]\n"
     ]
    },
    {
     "name": "stdout",
     "output_type": "stream",
     "text": [
      "Trainig acc: 0.9668   //   Training loss: 0.1153   //   Test acc: 0.6898   //   Test loss: 1.0079\n",
      "early_stop: 4  /   Best acc: 0.6938502673796791\n",
      "Training task 2 in epoch 19. Batch size: 8.\n"
     ]
    },
    {
     "name": "stderr",
     "output_type": "stream",
     "text": [
      "100%|█████████████████████████████████████████████████████████████████████████████████████████████████████████████████████| 94/94 [00:18<00:00,  5.14it/s]\n",
      "100%|█████████████████████████████████████████████████████████████████████████████████████████████████████████████████████| 94/94 [00:10<00:00,  9.37it/s]\n"
     ]
    },
    {
     "name": "stdout",
     "output_type": "stream",
     "text": [
      "Trainig acc: 0.9694   //   Training loss: 0.1132   //   Test acc: 0.6925   //   Test loss: 1.0281\n",
      "early_stop: 5  /   Best acc: 0.6938502673796791\n",
      "Training task 2 in epoch 20. Batch size: 8.\n"
     ]
    },
    {
     "name": "stderr",
     "output_type": "stream",
     "text": [
      "100%|█████████████████████████████████████████████████████████████████████████████████████████████████████████████████████| 94/94 [00:18<00:00,  5.20it/s]\n",
      "100%|█████████████████████████████████████████████████████████████████████████████████████████████████████████████████████| 94/94 [00:10<00:00,  9.05it/s]\n"
     ]
    },
    {
     "name": "stdout",
     "output_type": "stream",
     "text": [
      "Trainig acc: 0.9707   //   Training loss: 0.1184   //   Test acc: 0.6952   //   Test loss: 1.0348\n",
      "early_stop: 1  /   Best acc: 0.6951871657754011\n",
      "Training task 2 in epoch 21. Batch size: 8.\n"
     ]
    },
    {
     "name": "stderr",
     "output_type": "stream",
     "text": [
      "100%|█████████████████████████████████████████████████████████████████████████████████████████████████████████████████████| 94/94 [00:18<00:00,  5.16it/s]\n",
      "100%|█████████████████████████████████████████████████████████████████████████████████████████████████████████████████████| 94/94 [00:10<00:00,  8.62it/s]\n"
     ]
    },
    {
     "name": "stdout",
     "output_type": "stream",
     "text": [
      "Trainig acc: 0.9801   //   Training loss: 0.0903   //   Test acc: 0.6845   //   Test loss: 1.0523\n",
      "early_stop: 2  /   Best acc: 0.6951871657754011\n",
      "Training task 2 in epoch 22. Batch size: 8.\n"
     ]
    },
    {
     "name": "stderr",
     "output_type": "stream",
     "text": [
      "100%|█████████████████████████████████████████████████████████████████████████████████████████████████████████████████████| 94/94 [00:18<00:00,  5.11it/s]\n",
      "100%|█████████████████████████████████████████████████████████████████████████████████████████████████████████████████████| 94/94 [00:10<00:00,  8.78it/s]\n"
     ]
    },
    {
     "name": "stdout",
     "output_type": "stream",
     "text": [
      "Trainig acc: 0.9614   //   Training loss: 0.1142   //   Test acc: 0.6925   //   Test loss: 1.0352\n",
      "early_stop: 3  /   Best acc: 0.6951871657754011\n",
      "Training task 2 in epoch 23. Batch size: 8.\n"
     ]
    },
    {
     "name": "stderr",
     "output_type": "stream",
     "text": [
      "100%|█████████████████████████████████████████████████████████████████████████████████████████████████████████████████████| 94/94 [00:18<00:00,  5.14it/s]\n",
      "100%|█████████████████████████████████████████████████████████████████████████████████████████████████████████████████████| 94/94 [00:10<00:00,  9.15it/s]\n"
     ]
    },
    {
     "name": "stdout",
     "output_type": "stream",
     "text": [
      "Trainig acc: 0.9614   //   Training loss: 0.1359   //   Test acc: 0.7045   //   Test loss: 1.0255\n",
      "early_stop: 1  /   Best acc: 0.7045454545454546\n",
      "Training task 2 in epoch 24. Batch size: 8.\n"
     ]
    },
    {
     "name": "stderr",
     "output_type": "stream",
     "text": [
      "100%|█████████████████████████████████████████████████████████████████████████████████████████████████████████████████████| 94/94 [00:18<00:00,  5.20it/s]\n",
      "100%|█████████████████████████████████████████████████████████████████████████████████████████████████████████████████████| 94/94 [00:10<00:00,  9.14it/s]\n"
     ]
    },
    {
     "name": "stdout",
     "output_type": "stream",
     "text": [
      "Trainig acc: 0.9694   //   Training loss: 0.1116   //   Test acc: 0.6965   //   Test loss: 1.0508\n",
      "early_stop: 2  /   Best acc: 0.7045454545454546\n",
      "Training task 2 in epoch 25. Batch size: 8.\n"
     ]
    },
    {
     "name": "stderr",
     "output_type": "stream",
     "text": [
      "100%|█████████████████████████████████████████████████████████████████████████████████████████████████████████████████████| 94/94 [00:18<00:00,  5.21it/s]\n",
      "100%|█████████████████████████████████████████████████████████████████████████████████████████████████████████████████████| 94/94 [00:10<00:00,  8.92it/s]\n"
     ]
    },
    {
     "name": "stdout",
     "output_type": "stream",
     "text": [
      "Trainig acc: 0.9721   //   Training loss: 0.1047   //   Test acc: 0.7045   //   Test loss: 1.0243\n",
      "early_stop: 3  /   Best acc: 0.7045454545454546\n",
      "Training task 2 in epoch 26. Batch size: 8.\n"
     ]
    },
    {
     "name": "stderr",
     "output_type": "stream",
     "text": [
      "100%|█████████████████████████████████████████████████████████████████████████████████████████████████████████████████████| 94/94 [00:18<00:00,  5.18it/s]\n",
      "100%|█████████████████████████████████████████████████████████████████████████████████████████████████████████████████████| 94/94 [00:10<00:00,  8.91it/s]\n"
     ]
    },
    {
     "name": "stdout",
     "output_type": "stream",
     "text": [
      "Trainig acc: 0.9707   //   Training loss: 0.0904   //   Test acc: 0.6992   //   Test loss: 1.0116\n",
      "early_stop: 4  /   Best acc: 0.7045454545454546\n",
      "Training task 2 in epoch 27. Batch size: 8.\n"
     ]
    },
    {
     "name": "stderr",
     "output_type": "stream",
     "text": [
      "100%|█████████████████████████████████████████████████████████████████████████████████████████████████████████████████████| 94/94 [00:18<00:00,  5.12it/s]\n",
      "100%|█████████████████████████████████████████████████████████████████████████████████████████████████████████████████████| 94/94 [00:10<00:00,  8.93it/s]\n"
     ]
    },
    {
     "name": "stdout",
     "output_type": "stream",
     "text": [
      "Trainig acc: 0.9761   //   Training loss: 0.0901   //   Test acc: 0.6778   //   Test loss: 1.0665\n",
      "early_stop: 5  /   Best acc: 0.7045454545454546\n",
      "Training task 2 in epoch 28. Batch size: 8.\n"
     ]
    },
    {
     "name": "stderr",
     "output_type": "stream",
     "text": [
      "100%|█████████████████████████████████████████████████████████████████████████████████████████████████████████████████████| 94/94 [00:18<00:00,  5.17it/s]\n",
      "100%|█████████████████████████████████████████████████████████████████████████████████████████████████████████████████████| 94/94 [00:10<00:00,  9.16it/s]\n"
     ]
    },
    {
     "name": "stdout",
     "output_type": "stream",
     "text": [
      "Trainig acc: 0.9801   //   Training loss: 0.0848   //   Test acc: 0.7059   //   Test loss: 0.9993\n",
      "early_stop: 1  /   Best acc: 0.7058823529411765\n",
      "Training task 2 in epoch 29. Batch size: 8.\n"
     ]
    },
    {
     "name": "stderr",
     "output_type": "stream",
     "text": [
      "100%|█████████████████████████████████████████████████████████████████████████████████████████████████████████████████████| 94/94 [00:18<00:00,  5.19it/s]\n",
      "100%|█████████████████████████████████████████████████████████████████████████████████████████████████████████████████████| 94/94 [00:10<00:00,  9.34it/s]\n"
     ]
    },
    {
     "name": "stdout",
     "output_type": "stream",
     "text": [
      "Trainig acc: 0.9774   //   Training loss: 0.0802   //   Test acc: 0.6939   //   Test loss: 1.0722\n",
      "early_stop: 2  /   Best acc: 0.7058823529411765\n",
      "Training task 2 in epoch 30. Batch size: 8.\n"
     ]
    },
    {
     "name": "stderr",
     "output_type": "stream",
     "text": [
      "100%|█████████████████████████████████████████████████████████████████████████████████████████████████████████████████████| 94/94 [00:18<00:00,  5.20it/s]\n",
      "100%|█████████████████████████████████████████████████████████████████████████████████████████████████████████████████████| 94/94 [00:10<00:00,  8.62it/s]\n"
     ]
    },
    {
     "name": "stdout",
     "output_type": "stream",
     "text": [
      "Trainig acc: 0.9734   //   Training loss: 0.0910   //   Test acc: 0.6898   //   Test loss: 1.0395\n",
      "early_stop: 3  /   Best acc: 0.7058823529411765\n",
      "Training task 2 in epoch 31. Batch size: 8.\n"
     ]
    },
    {
     "name": "stderr",
     "output_type": "stream",
     "text": [
      "100%|█████████████████████████████████████████████████████████████████████████████████████████████████████████████████████| 94/94 [00:18<00:00,  5.17it/s]\n",
      "100%|█████████████████████████████████████████████████████████████████████████████████████████████████████████████████████| 94/94 [00:10<00:00,  8.77it/s]\n"
     ]
    },
    {
     "name": "stdout",
     "output_type": "stream",
     "text": [
      "Trainig acc: 0.9614   //   Training loss: 0.1085   //   Test acc: 0.7005   //   Test loss: 1.0607\n",
      "early_stop: 4  /   Best acc: 0.7058823529411765\n",
      "Training task 2 in epoch 32. Batch size: 8.\n"
     ]
    },
    {
     "name": "stderr",
     "output_type": "stream",
     "text": [
      "100%|█████████████████████████████████████████████████████████████████████████████████████████████████████████████████████| 94/94 [00:18<00:00,  5.14it/s]\n",
      "100%|█████████████████████████████████████████████████████████████████████████████████████████████████████████████████████| 94/94 [00:10<00:00,  8.84it/s]\n"
     ]
    },
    {
     "name": "stdout",
     "output_type": "stream",
     "text": [
      "Trainig acc: 0.9814   //   Training loss: 0.0749   //   Test acc: 0.6898   //   Test loss: 1.0829\n",
      "early_stop: 5  /   Best acc: 0.7058823529411765\n",
      "Training task 2 in epoch 33. Batch size: 8.\n"
     ]
    },
    {
     "name": "stderr",
     "output_type": "stream",
     "text": [
      "100%|█████████████████████████████████████████████████████████████████████████████████████████████████████████████████████| 94/94 [00:18<00:00,  5.17it/s]\n",
      "100%|█████████████████████████████████████████████████████████████████████████████████████████████████████████████████████| 94/94 [00:10<00:00,  8.99it/s]\n"
     ]
    },
    {
     "name": "stdout",
     "output_type": "stream",
     "text": [
      "Trainig acc: 0.9774   //   Training loss: 0.0751   //   Test acc: 0.6952   //   Test loss: 1.0511\n",
      "early_stop: 6  /   Best acc: 0.7058823529411765\n",
      "Training task 2 in epoch 34. Batch size: 8.\n"
     ]
    },
    {
     "name": "stderr",
     "output_type": "stream",
     "text": [
      "100%|█████████████████████████████████████████████████████████████████████████████████████████████████████████████████████| 94/94 [00:18<00:00,  5.14it/s]\n",
      "100%|█████████████████████████████████████████████████████████████████████████████████████████████████████████████████████| 94/94 [00:10<00:00,  9.01it/s]\n"
     ]
    },
    {
     "name": "stdout",
     "output_type": "stream",
     "text": [
      "Trainig acc: 0.9814   //   Training loss: 0.0715   //   Test acc: 0.6858   //   Test loss: 1.0582\n",
      "early_stop: 7  /   Best acc: 0.7058823529411765\n",
      "Training task 2 in epoch 35. Batch size: 8.\n"
     ]
    },
    {
     "name": "stderr",
     "output_type": "stream",
     "text": [
      "100%|█████████████████████████████████████████████████████████████████████████████████████████████████████████████████████| 94/94 [00:18<00:00,  5.10it/s]\n",
      "100%|█████████████████████████████████████████████████████████████████████████████████████████████████████████████████████| 94/94 [00:10<00:00,  8.78it/s]\n"
     ]
    },
    {
     "name": "stdout",
     "output_type": "stream",
     "text": [
      "Trainig acc: 0.9787   //   Training loss: 0.0705   //   Test acc: 0.6965   //   Test loss: 1.0453\n",
      "early_stop: 8  /   Best acc: 0.7058823529411765\n",
      "Training task 2 in epoch 36. Batch size: 8.\n"
     ]
    },
    {
     "name": "stderr",
     "output_type": "stream",
     "text": [
      "100%|█████████████████████████████████████████████████████████████████████████████████████████████████████████████████████| 94/94 [00:18<00:00,  5.19it/s]\n",
      "100%|█████████████████████████████████████████████████████████████████████████████████████████████████████████████████████| 94/94 [00:10<00:00,  9.05it/s]\n"
     ]
    },
    {
     "name": "stdout",
     "output_type": "stream",
     "text": [
      "Trainig acc: 0.9774   //   Training loss: 0.0751   //   Test acc: 0.6925   //   Test loss: 1.0456\n",
      "early_stop: 9  /   Best acc: 0.7058823529411765\n",
      "Training task 2 in epoch 37. Batch size: 8.\n"
     ]
    },
    {
     "name": "stderr",
     "output_type": "stream",
     "text": [
      "100%|█████████████████████████████████████████████████████████████████████████████████████████████████████████████████████| 94/94 [00:18<00:00,  5.20it/s]\n",
      "100%|█████████████████████████████████████████████████████████████████████████████████████████████████████████████████████| 94/94 [00:10<00:00,  8.56it/s]\n"
     ]
    },
    {
     "name": "stdout",
     "output_type": "stream",
     "text": [
      "Trainig acc: 0.9721   //   Training loss: 0.0882   //   Test acc: 0.6925   //   Test loss: 1.0459\n",
      "early_stop: 10  /   Best acc: 0.7058823529411765\n",
      "Training task 2 in epoch 38. Batch size: 8.\n"
     ]
    },
    {
     "name": "stderr",
     "output_type": "stream",
     "text": [
      "100%|█████████████████████████████████████████████████████████████████████████████████████████████████████████████████████| 94/94 [00:18<00:00,  5.15it/s]\n",
      "100%|█████████████████████████████████████████████████████████████████████████████████████████████████████████████████████| 94/94 [00:10<00:00,  9.14it/s]\n"
     ]
    },
    {
     "name": "stdout",
     "output_type": "stream",
     "text": [
      "Trainig acc: 0.9801   //   Training loss: 0.0697   //   Test acc: 0.6805   //   Test loss: 1.0812\n",
      "early_stop: 11  /   Best acc: 0.7058823529411765\n",
      "Training task 2 in epoch 39. Batch size: 8.\n"
     ]
    },
    {
     "name": "stderr",
     "output_type": "stream",
     "text": [
      "100%|█████████████████████████████████████████████████████████████████████████████████████████████████████████████████████| 94/94 [00:18<00:00,  5.15it/s]\n",
      "100%|█████████████████████████████████████████████████████████████████████████████████████████████████████████████████████| 94/94 [00:10<00:00,  8.99it/s]\n"
     ]
    },
    {
     "name": "stdout",
     "output_type": "stream",
     "text": [
      "---------------------------------------- TASK_3 ----------------------------------------\n",
      "Training task 3 in epoch 0. Batch size: 8.\n"
     ]
    },
    {
     "name": "stderr",
     "output_type": "stream",
     "text": [
      "100%|█████████████████████████████████████████████████████████████████████████████████████████████████████████████████████| 94/94 [00:18<00:00,  5.12it/s]\n",
      "100%|█████████████████████████████████████████████████████████████████████████████████████████████████████████████████████| 92/92 [00:09<00:00,  9.20it/s]\n"
     ]
    },
    {
     "name": "stdout",
     "output_type": "stream",
     "text": [
      "Trainig acc: 0.03191   //   Training loss: 4.8472   //   Test acc: 0.1442   //   Test loss: 3.5158\n",
      "early_stop: 1  /   Best acc: 0.14421768707482993\n",
      "Training task 3 in epoch 1. Batch size: 8.\n"
     ]
    },
    {
     "name": "stderr",
     "output_type": "stream",
     "text": [
      "100%|█████████████████████████████████████████████████████████████████████████████████████████████████████████████████████| 94/94 [00:18<00:00,  5.12it/s]\n",
      "100%|█████████████████████████████████████████████████████████████████████████████████████████████████████████████████████| 92/92 [00:09<00:00,  9.23it/s]\n"
     ]
    },
    {
     "name": "stdout",
     "output_type": "stream",
     "text": [
      "Trainig acc: 0.1662   //   Training loss: 3.0521   //   Test acc: 0.3687   //   Test loss: 2.4710\n",
      "early_stop: 1  /   Best acc: 0.3687074829931973\n",
      "Training task 3 in epoch 2. Batch size: 8.\n"
     ]
    },
    {
     "name": "stderr",
     "output_type": "stream",
     "text": [
      "100%|█████████████████████████████████████████████████████████████████████████████████████████████████████████████████████| 94/94 [00:18<00:00,  5.05it/s]\n",
      "100%|█████████████████████████████████████████████████████████████████████████████████████████████████████████████████████| 92/92 [00:10<00:00,  8.66it/s]\n"
     ]
    },
    {
     "name": "stdout",
     "output_type": "stream",
     "text": [
      "Trainig acc: 0.3245   //   Training loss: 2.2681   //   Test acc: 0.5088   //   Test loss: 1.8952\n",
      "early_stop: 1  /   Best acc: 0.508843537414966\n",
      "Training task 3 in epoch 3. Batch size: 8.\n"
     ]
    },
    {
     "name": "stderr",
     "output_type": "stream",
     "text": [
      "100%|█████████████████████████████████████████████████████████████████████████████████████████████████████████████████████| 94/94 [00:18<00:00,  5.11it/s]\n",
      "100%|█████████████████████████████████████████████████████████████████████████████████████████████████████████████████████| 92/92 [00:10<00:00,  9.15it/s]\n"
     ]
    },
    {
     "name": "stdout",
     "output_type": "stream",
     "text": [
      "Trainig acc: 0.5199   //   Training loss: 1.6665   //   Test acc: 0.6014   //   Test loss: 1.4794\n",
      "early_stop: 1  /   Best acc: 0.601360544217687\n",
      "Training task 3 in epoch 4. Batch size: 8.\n"
     ]
    },
    {
     "name": "stderr",
     "output_type": "stream",
     "text": [
      "100%|█████████████████████████████████████████████████████████████████████████████████████████████████████████████████████| 94/94 [00:18<00:00,  5.10it/s]\n",
      "100%|█████████████████████████████████████████████████████████████████████████████████████████████████████████████████████| 92/92 [00:10<00:00,  8.70it/s]\n"
     ]
    },
    {
     "name": "stdout",
     "output_type": "stream",
     "text": [
      "Trainig acc: 0.6489   //   Training loss: 1.3291   //   Test acc: 0.6408   //   Test loss: 1.3227\n",
      "early_stop: 1  /   Best acc: 0.6408163265306123\n",
      "Training task 3 in epoch 5. Batch size: 8.\n"
     ]
    },
    {
     "name": "stderr",
     "output_type": "stream",
     "text": [
      "100%|█████████████████████████████████████████████████████████████████████████████████████████████████████████████████████| 94/94 [00:18<00:00,  5.10it/s]\n",
      "100%|█████████████████████████████████████████████████████████████████████████████████████████████████████████████████████| 92/92 [00:10<00:00,  8.92it/s]\n"
     ]
    },
    {
     "name": "stdout",
     "output_type": "stream",
     "text": [
      "Trainig acc: 0.7074   //   Training loss: 1.0291   //   Test acc: 0.6925   //   Test loss: 1.1411\n",
      "early_stop: 1  /   Best acc: 0.6925170068027211\n",
      "Training task 3 in epoch 6. Batch size: 8.\n"
     ]
    },
    {
     "name": "stderr",
     "output_type": "stream",
     "text": [
      "100%|█████████████████████████████████████████████████████████████████████████████████████████████████████████████████████| 94/94 [00:18<00:00,  5.16it/s]\n",
      "100%|█████████████████████████████████████████████████████████████████████████████████████████████████████████████████████| 92/92 [00:10<00:00,  9.18it/s]\n"
     ]
    },
    {
     "name": "stdout",
     "output_type": "stream",
     "text": [
      "Trainig acc: 0.766   //   Training loss: 0.7728   //   Test acc: 0.7143   //   Test loss: 1.0646\n",
      "early_stop: 1  /   Best acc: 0.7142857142857143\n",
      "Training task 3 in epoch 7. Batch size: 8.\n"
     ]
    },
    {
     "name": "stderr",
     "output_type": "stream",
     "text": [
      "100%|█████████████████████████████████████████████████████████████████████████████████████████████████████████████████████| 94/94 [00:18<00:00,  5.06it/s]\n",
      "100%|█████████████████████████████████████████████████████████████████████████████████████████████████████████████████████| 92/92 [00:10<00:00,  9.00it/s]\n"
     ]
    },
    {
     "name": "stdout",
     "output_type": "stream",
     "text": [
      "Trainig acc: 0.8205   //   Training loss: 0.6169   //   Test acc: 0.7265   //   Test loss: 0.9458\n",
      "early_stop: 1  /   Best acc: 0.726530612244898\n",
      "Training task 3 in epoch 8. Batch size: 8.\n"
     ]
    },
    {
     "name": "stderr",
     "output_type": "stream",
     "text": [
      "100%|█████████████████████████████████████████████████████████████████████████████████████████████████████████████████████| 94/94 [00:18<00:00,  5.17it/s]\n",
      "100%|█████████████████████████████████████████████████████████████████████████████████████████████████████████████████████| 92/92 [00:10<00:00,  9.00it/s]\n"
     ]
    },
    {
     "name": "stdout",
     "output_type": "stream",
     "text": [
      "Trainig acc: 0.8684   //   Training loss: 0.4787   //   Test acc: 0.7497   //   Test loss: 0.9019\n",
      "early_stop: 1  /   Best acc: 0.7496598639455783\n",
      "Training task 3 in epoch 9. Batch size: 8.\n"
     ]
    },
    {
     "name": "stderr",
     "output_type": "stream",
     "text": [
      "100%|█████████████████████████████████████████████████████████████████████████████████████████████████████████████████████| 94/94 [00:18<00:00,  5.05it/s]\n",
      "100%|█████████████████████████████████████████████████████████████████████████████████████████████████████████████████████| 92/92 [00:10<00:00,  8.97it/s]\n"
     ]
    },
    {
     "name": "stdout",
     "output_type": "stream",
     "text": [
      "Trainig acc: 0.8883   //   Training loss: 0.3965   //   Test acc: 0.7361   //   Test loss: 0.9182\n",
      "early_stop: 2  /   Best acc: 0.7496598639455783\n",
      "Training task 3 in epoch 10. Batch size: 8.\n"
     ]
    },
    {
     "name": "stderr",
     "output_type": "stream",
     "text": [
      "100%|█████████████████████████████████████████████████████████████████████████████████████████████████████████████████████| 94/94 [00:18<00:00,  5.08it/s]\n",
      "100%|█████████████████████████████████████████████████████████████████████████████████████████████████████████████████████| 92/92 [00:10<00:00,  9.03it/s]\n"
     ]
    },
    {
     "name": "stdout",
     "output_type": "stream",
     "text": [
      "Trainig acc: 0.9136   //   Training loss: 0.3118   //   Test acc: 0.7633   //   Test loss: 0.8596\n",
      "early_stop: 1  /   Best acc: 0.763265306122449\n",
      "Training task 3 in epoch 11. Batch size: 8.\n"
     ]
    },
    {
     "name": "stderr",
     "output_type": "stream",
     "text": [
      "100%|█████████████████████████████████████████████████████████████████████████████████████████████████████████████████████| 94/94 [00:18<00:00,  5.07it/s]\n",
      "100%|█████████████████████████████████████████████████████████████████████████████████████████████████████████████████████| 92/92 [00:10<00:00,  8.80it/s]\n"
     ]
    },
    {
     "name": "stdout",
     "output_type": "stream",
     "text": [
      "Trainig acc: 0.9375   //   Training loss: 0.2191   //   Test acc: 0.7483   //   Test loss: 0.8932\n",
      "early_stop: 2  /   Best acc: 0.763265306122449\n",
      "Training task 3 in epoch 12. Batch size: 8.\n"
     ]
    },
    {
     "name": "stderr",
     "output_type": "stream",
     "text": [
      "100%|█████████████████████████████████████████████████████████████████████████████████████████████████████████████████████| 94/94 [00:18<00:00,  5.07it/s]\n",
      "100%|█████████████████████████████████████████████████████████████████████████████████████████████████████████████████████| 92/92 [00:09<00:00,  9.26it/s]\n"
     ]
    },
    {
     "name": "stdout",
     "output_type": "stream",
     "text": [
      "Trainig acc: 0.9521   //   Training loss: 0.1889   //   Test acc: 0.7646   //   Test loss: 0.8645\n",
      "early_stop: 1  /   Best acc: 0.7646258503401361\n",
      "Training task 3 in epoch 13. Batch size: 8.\n"
     ]
    },
    {
     "name": "stderr",
     "output_type": "stream",
     "text": [
      "100%|█████████████████████████████████████████████████████████████████████████████████████████████████████████████████████| 94/94 [00:18<00:00,  5.07it/s]\n",
      "100%|█████████████████████████████████████████████████████████████████████████████████████████████████████████████████████| 92/92 [00:10<00:00,  9.08it/s]\n"
     ]
    },
    {
     "name": "stdout",
     "output_type": "stream",
     "text": [
      "Trainig acc: 0.9614   //   Training loss: 0.1564   //   Test acc: 0.7769   //   Test loss: 0.8708\n",
      "early_stop: 1  /   Best acc: 0.7768707482993197\n",
      "Training task 3 in epoch 14. Batch size: 8.\n"
     ]
    },
    {
     "name": "stderr",
     "output_type": "stream",
     "text": [
      "100%|█████████████████████████████████████████████████████████████████████████████████████████████████████████████████████| 94/94 [00:18<00:00,  5.15it/s]\n",
      "100%|█████████████████████████████████████████████████████████████████████████████████████████████████████████████████████| 92/92 [00:09<00:00,  9.25it/s]\n"
     ]
    },
    {
     "name": "stdout",
     "output_type": "stream",
     "text": [
      "Trainig acc: 0.9641   //   Training loss: 0.1447   //   Test acc: 0.7687   //   Test loss: 0.8313\n",
      "early_stop: 2  /   Best acc: 0.7768707482993197\n",
      "Training task 3 in epoch 15. Batch size: 8.\n"
     ]
    },
    {
     "name": "stderr",
     "output_type": "stream",
     "text": [
      "100%|█████████████████████████████████████████████████████████████████████████████████████████████████████████████████████| 94/94 [00:18<00:00,  5.11it/s]\n",
      "100%|█████████████████████████████████████████████████████████████████████████████████████████████████████████████████████| 92/92 [00:10<00:00,  9.19it/s]\n"
     ]
    },
    {
     "name": "stdout",
     "output_type": "stream",
     "text": [
      "Trainig acc: 0.9694   //   Training loss: 0.1240   //   Test acc: 0.7755   //   Test loss: 0.8465\n",
      "early_stop: 3  /   Best acc: 0.7768707482993197\n",
      "Training task 3 in epoch 16. Batch size: 8.\n"
     ]
    },
    {
     "name": "stderr",
     "output_type": "stream",
     "text": [
      "100%|█████████████████████████████████████████████████████████████████████████████████████████████████████████████████████| 94/94 [00:19<00:00,  4.78it/s]\n",
      "100%|█████████████████████████████████████████████████████████████████████████████████████████████████████████████████████| 92/92 [00:12<00:00,  7.55it/s]\n"
     ]
    },
    {
     "name": "stdout",
     "output_type": "stream",
     "text": [
      "Trainig acc: 0.9694   //   Training loss: 0.1088   //   Test acc: 0.7592   //   Test loss: 0.8860\n",
      "early_stop: 4  /   Best acc: 0.7768707482993197\n",
      "Training task 3 in epoch 17. Batch size: 8.\n"
     ]
    },
    {
     "name": "stderr",
     "output_type": "stream",
     "text": [
      " 26%|█████████████████████████████▊                                                                                       | 24/94 [00:05<00:15,  4.56it/s]wandb: Network error (ConnectionError), entering retry loop.\n",
      "100%|█████████████████████████████████████████████████████████████████████████████████████████████████████████████████████| 94/94 [00:20<00:00,  4.53it/s]\n",
      "100%|█████████████████████████████████████████████████████████████████████████████████████████████████████████████████████| 92/92 [00:12<00:00,  7.62it/s]\n"
     ]
    },
    {
     "name": "stdout",
     "output_type": "stream",
     "text": [
      "Trainig acc: 0.9854   //   Training loss: 0.0800   //   Test acc: 0.7728   //   Test loss: 0.8689\n",
      "early_stop: 5  /   Best acc: 0.7768707482993197\n",
      "Training task 3 in epoch 18. Batch size: 8.\n"
     ]
    },
    {
     "name": "stderr",
     "output_type": "stream",
     "text": [
      "100%|█████████████████████████████████████████████████████████████████████████████████████████████████████████████████████| 94/94 [00:20<00:00,  4.57it/s]\n",
      "100%|█████████████████████████████████████████████████████████████████████████████████████████████████████████████████████| 92/92 [00:12<00:00,  7.47it/s]\n"
     ]
    },
    {
     "name": "stdout",
     "output_type": "stream",
     "text": [
      "Trainig acc: 0.984   //   Training loss: 0.0678   //   Test acc: 0.7633   //   Test loss: 0.9007\n",
      "early_stop: 6  /   Best acc: 0.7768707482993197\n",
      "Training task 3 in epoch 19. Batch size: 8.\n"
     ]
    },
    {
     "name": "stderr",
     "output_type": "stream",
     "text": [
      "100%|█████████████████████████████████████████████████████████████████████████████████████████████████████████████████████| 94/94 [00:20<00:00,  4.55it/s]\n",
      "100%|█████████████████████████████████████████████████████████████████████████████████████████████████████████████████████| 92/92 [00:12<00:00,  7.45it/s]\n"
     ]
    },
    {
     "name": "stdout",
     "output_type": "stream",
     "text": [
      "Trainig acc: 0.9894   //   Training loss: 0.0523   //   Test acc: 0.7605   //   Test loss: 0.9112\n",
      "early_stop: 7  /   Best acc: 0.7768707482993197\n",
      "Training task 3 in epoch 20. Batch size: 8.\n"
     ]
    },
    {
     "name": "stderr",
     "output_type": "stream",
     "text": [
      "100%|█████████████████████████████████████████████████████████████████████████████████████████████████████████████████████| 94/94 [00:20<00:00,  4.55it/s]\n",
      "100%|█████████████████████████████████████████████████████████████████████████████████████████████████████████████████████| 92/92 [00:12<00:00,  7.57it/s]\n"
     ]
    },
    {
     "name": "stdout",
     "output_type": "stream",
     "text": [
      "Trainig acc: 0.9827   //   Training loss: 0.0640   //   Test acc: 0.7633   //   Test loss: 0.8651\n",
      "early_stop: 8  /   Best acc: 0.7768707482993197\n",
      "Training task 3 in epoch 21. Batch size: 8.\n"
     ]
    },
    {
     "name": "stderr",
     "output_type": "stream",
     "text": [
      "100%|█████████████████████████████████████████████████████████████████████████████████████████████████████████████████████| 94/94 [00:20<00:00,  4.53it/s]\n",
      "100%|█████████████████████████████████████████████████████████████████████████████████████████████████████████████████████| 92/92 [00:12<00:00,  7.44it/s]\n"
     ]
    },
    {
     "name": "stdout",
     "output_type": "stream",
     "text": [
      "Trainig acc: 0.992   //   Training loss: 0.0501   //   Test acc: 0.7619   //   Test loss: 0.8891\n",
      "early_stop: 9  /   Best acc: 0.7768707482993197\n",
      "Training task 3 in epoch 22. Batch size: 8.\n"
     ]
    },
    {
     "name": "stderr",
     "output_type": "stream",
     "text": [
      "100%|█████████████████████████████████████████████████████████████████████████████████████████████████████████████████████| 94/94 [00:20<00:00,  4.51it/s]\n",
      "100%|█████████████████████████████████████████████████████████████████████████████████████████████████████████████████████| 92/92 [00:12<00:00,  7.62it/s]\n"
     ]
    },
    {
     "name": "stdout",
     "output_type": "stream",
     "text": [
      "Trainig acc: 0.9907   //   Training loss: 0.0485   //   Test acc: 0.7673   //   Test loss: 0.8942\n",
      "early_stop: 10  /   Best acc: 0.7768707482993197\n",
      "Training task 3 in epoch 23. Batch size: 8.\n"
     ]
    },
    {
     "name": "stderr",
     "output_type": "stream",
     "text": [
      "100%|█████████████████████████████████████████████████████████████████████████████████████████████████████████████████████| 94/94 [00:20<00:00,  4.52it/s]\n",
      "100%|█████████████████████████████████████████████████████████████████████████████████████████████████████████████████████| 92/92 [00:12<00:00,  7.59it/s]\n"
     ]
    },
    {
     "name": "stdout",
     "output_type": "stream",
     "text": [
      "Trainig acc: 0.9894   //   Training loss: 0.0508   //   Test acc: 0.7782   //   Test loss: 0.8700\n",
      "early_stop: 1  /   Best acc: 0.7782312925170068\n",
      "Training task 3 in epoch 24. Batch size: 8.\n"
     ]
    },
    {
     "name": "stderr",
     "output_type": "stream",
     "text": [
      "100%|█████████████████████████████████████████████████████████████████████████████████████████████████████████████████████| 94/94 [00:20<00:00,  4.56it/s]\n",
      "100%|█████████████████████████████████████████████████████████████████████████████████████████████████████████████████████| 92/92 [00:11<00:00,  7.67it/s]\n"
     ]
    },
    {
     "name": "stdout",
     "output_type": "stream",
     "text": [
      "Trainig acc: 0.9894   //   Training loss: 0.0485   //   Test acc: 0.7837   //   Test loss: 0.8402\n",
      "early_stop: 1  /   Best acc: 0.7836734693877551\n",
      "Training task 3 in epoch 25. Batch size: 8.\n"
     ]
    },
    {
     "name": "stderr",
     "output_type": "stream",
     "text": [
      "100%|█████████████████████████████████████████████████████████████████████████████████████████████████████████████████████| 94/94 [00:20<00:00,  4.56it/s]\n",
      "100%|█████████████████████████████████████████████████████████████████████████████████████████████████████████████████████| 92/92 [00:12<00:00,  7.44it/s]\n"
     ]
    },
    {
     "name": "stdout",
     "output_type": "stream",
     "text": [
      "Trainig acc: 0.992   //   Training loss: 0.0368   //   Test acc: 0.7782   //   Test loss: 0.8407\n",
      "early_stop: 2  /   Best acc: 0.7836734693877551\n",
      "Training task 3 in epoch 26. Batch size: 8.\n"
     ]
    },
    {
     "name": "stderr",
     "output_type": "stream",
     "text": [
      "100%|█████████████████████████████████████████████████████████████████████████████████████████████████████████████████████| 94/94 [00:20<00:00,  4.54it/s]\n",
      "100%|█████████████████████████████████████████████████████████████████████████████████████████████████████████████████████| 92/92 [00:12<00:00,  7.54it/s]\n"
     ]
    },
    {
     "name": "stdout",
     "output_type": "stream",
     "text": [
      "Trainig acc: 0.9867   //   Training loss: 0.0563   //   Test acc: 0.7810   //   Test loss: 0.8390\n",
      "early_stop: 3  /   Best acc: 0.7836734693877551\n",
      "Training task 3 in epoch 27. Batch size: 8.\n"
     ]
    },
    {
     "name": "stderr",
     "output_type": "stream",
     "text": [
      "100%|█████████████████████████████████████████████████████████████████████████████████████████████████████████████████████| 94/94 [00:20<00:00,  4.52it/s]\n",
      "100%|█████████████████████████████████████████████████████████████████████████████████████████████████████████████████████| 92/92 [00:12<00:00,  7.48it/s]\n"
     ]
    },
    {
     "name": "stdout",
     "output_type": "stream",
     "text": [
      "Trainig acc: 0.9787   //   Training loss: 0.0719   //   Test acc: 0.7741   //   Test loss: 0.8531\n",
      "early_stop: 4  /   Best acc: 0.7836734693877551\n",
      "Training task 3 in epoch 28. Batch size: 8.\n"
     ]
    },
    {
     "name": "stderr",
     "output_type": "stream",
     "text": [
      "100%|█████████████████████████████████████████████████████████████████████████████████████████████████████████████████████| 94/94 [00:20<00:00,  4.52it/s]\n",
      "100%|█████████████████████████████████████████████████████████████████████████████████████████████████████████████████████| 92/92 [00:12<00:00,  7.51it/s]\n"
     ]
    },
    {
     "name": "stdout",
     "output_type": "stream",
     "text": [
      "Trainig acc: 0.9827   //   Training loss: 0.0555   //   Test acc: 0.7837   //   Test loss: 0.8545\n",
      "early_stop: 5  /   Best acc: 0.7836734693877551\n",
      "Training task 3 in epoch 29. Batch size: 8.\n"
     ]
    },
    {
     "name": "stderr",
     "output_type": "stream",
     "text": [
      "100%|█████████████████████████████████████████████████████████████████████████████████████████████████████████████████████| 94/94 [00:20<00:00,  4.54it/s]\n",
      "100%|█████████████████████████████████████████████████████████████████████████████████████████████████████████████████████| 92/92 [00:12<00:00,  7.55it/s]\n"
     ]
    },
    {
     "name": "stdout",
     "output_type": "stream",
     "text": [
      "Trainig acc: 0.9801   //   Training loss: 0.0553   //   Test acc: 0.7741   //   Test loss: 0.8685\n",
      "early_stop: 6  /   Best acc: 0.7836734693877551\n",
      "Training task 3 in epoch 30. Batch size: 8.\n"
     ]
    },
    {
     "name": "stderr",
     "output_type": "stream",
     "text": [
      "100%|█████████████████████████████████████████████████████████████████████████████████████████████████████████████████████| 94/94 [00:20<00:00,  4.53it/s]\n",
      "100%|█████████████████████████████████████████████████████████████████████████████████████████████████████████████████████| 92/92 [00:12<00:00,  7.44it/s]\n"
     ]
    },
    {
     "name": "stdout",
     "output_type": "stream",
     "text": [
      "Trainig acc: 0.9907   //   Training loss: 0.0353   //   Test acc: 0.7796   //   Test loss: 0.8402\n",
      "early_stop: 7  /   Best acc: 0.7836734693877551\n",
      "Training task 3 in epoch 31. Batch size: 8.\n"
     ]
    },
    {
     "name": "stderr",
     "output_type": "stream",
     "text": [
      "100%|█████████████████████████████████████████████████████████████████████████████████████████████████████████████████████| 94/94 [00:20<00:00,  4.52it/s]\n",
      "100%|█████████████████████████████████████████████████████████████████████████████████████████████████████████████████████| 92/92 [00:12<00:00,  7.48it/s]\n"
     ]
    },
    {
     "name": "stdout",
     "output_type": "stream",
     "text": [
      "Trainig acc: 0.9867   //   Training loss: 0.0548   //   Test acc: 0.7796   //   Test loss: 0.8487\n",
      "early_stop: 8  /   Best acc: 0.7836734693877551\n",
      "Training task 3 in epoch 32. Batch size: 8.\n"
     ]
    },
    {
     "name": "stderr",
     "output_type": "stream",
     "text": [
      "100%|█████████████████████████████████████████████████████████████████████████████████████████████████████████████████████| 94/94 [00:20<00:00,  4.52it/s]\n",
      "100%|█████████████████████████████████████████████████████████████████████████████████████████████████████████████████████| 92/92 [00:12<00:00,  7.45it/s]\n"
     ]
    },
    {
     "name": "stdout",
     "output_type": "stream",
     "text": [
      "Trainig acc: 0.9867   //   Training loss: 0.0445   //   Test acc: 0.7728   //   Test loss: 0.8675\n",
      "early_stop: 9  /   Best acc: 0.7836734693877551\n",
      "Training task 3 in epoch 33. Batch size: 8.\n"
     ]
    },
    {
     "name": "stderr",
     "output_type": "stream",
     "text": [
      "100%|█████████████████████████████████████████████████████████████████████████████████████████████████████████████████████| 94/94 [00:20<00:00,  4.54it/s]\n",
      "100%|█████████████████████████████████████████████████████████████████████████████████████████████████████████████████████| 92/92 [00:12<00:00,  7.56it/s]\n"
     ]
    },
    {
     "name": "stdout",
     "output_type": "stream",
     "text": [
      "Trainig acc: 0.9894   //   Training loss: 0.0379   //   Test acc: 0.7905   //   Test loss: 0.8468\n",
      "early_stop: 1  /   Best acc: 0.7904761904761904\n",
      "Training task 3 in epoch 34. Batch size: 8.\n"
     ]
    },
    {
     "name": "stderr",
     "output_type": "stream",
     "text": [
      "100%|█████████████████████████████████████████████████████████████████████████████████████████████████████████████████████| 94/94 [00:20<00:00,  4.53it/s]\n",
      "100%|█████████████████████████████████████████████████████████████████████████████████████████████████████████████████████| 92/92 [00:12<00:00,  7.47it/s]\n"
     ]
    },
    {
     "name": "stdout",
     "output_type": "stream",
     "text": [
      "Trainig acc: 0.9854   //   Training loss: 0.0560   //   Test acc: 0.7946   //   Test loss: 0.8351\n",
      "early_stop: 1  /   Best acc: 0.7945578231292517\n",
      "Training task 3 in epoch 35. Batch size: 8.\n"
     ]
    },
    {
     "name": "stderr",
     "output_type": "stream",
     "text": [
      "100%|█████████████████████████████████████████████████████████████████████████████████████████████████████████████████████| 94/94 [00:20<00:00,  4.59it/s]\n",
      "100%|█████████████████████████████████████████████████████████████████████████████████████████████████████████████████████| 92/92 [00:12<00:00,  7.41it/s]\n"
     ]
    },
    {
     "name": "stdout",
     "output_type": "stream",
     "text": [
      "Trainig acc: 0.9934   //   Training loss: 0.0378   //   Test acc: 0.7701   //   Test loss: 0.8716\n",
      "early_stop: 2  /   Best acc: 0.7945578231292517\n",
      "Training task 3 in epoch 36. Batch size: 8.\n"
     ]
    },
    {
     "name": "stderr",
     "output_type": "stream",
     "text": [
      "100%|█████████████████████████████████████████████████████████████████████████████████████████████████████████████████████| 94/94 [00:20<00:00,  4.55it/s]\n",
      "100%|█████████████████████████████████████████████████████████████████████████████████████████████████████████████████████| 92/92 [00:12<00:00,  7.62it/s]\n"
     ]
    },
    {
     "name": "stdout",
     "output_type": "stream",
     "text": [
      "Trainig acc: 0.992   //   Training loss: 0.0346   //   Test acc: 0.7864   //   Test loss: 0.8578\n",
      "early_stop: 3  /   Best acc: 0.7945578231292517\n",
      "Training task 3 in epoch 37. Batch size: 8.\n"
     ]
    },
    {
     "name": "stderr",
     "output_type": "stream",
     "text": [
      "100%|█████████████████████████████████████████████████████████████████████████████████████████████████████████████████████| 94/94 [00:20<00:00,  4.53it/s]\n",
      "100%|█████████████████████████████████████████████████████████████████████████████████████████████████████████████████████| 92/92 [00:12<00:00,  7.50it/s]\n"
     ]
    },
    {
     "name": "stdout",
     "output_type": "stream",
     "text": [
      "Trainig acc: 0.9894   //   Training loss: 0.0435   //   Test acc: 0.7796   //   Test loss: 0.8430\n",
      "early_stop: 4  /   Best acc: 0.7945578231292517\n",
      "Training task 3 in epoch 38. Batch size: 8.\n"
     ]
    },
    {
     "name": "stderr",
     "output_type": "stream",
     "text": [
      "100%|█████████████████████████████████████████████████████████████████████████████████████████████████████████████████████| 94/94 [00:20<00:00,  4.52it/s]\n",
      "100%|█████████████████████████████████████████████████████████████████████████████████████████████████████████████████████| 92/92 [00:12<00:00,  7.60it/s]\n"
     ]
    },
    {
     "name": "stdout",
     "output_type": "stream",
     "text": [
      "Trainig acc: 0.9867   //   Training loss: 0.0398   //   Test acc: 0.7769   //   Test loss: 0.8627\n",
      "early_stop: 5  /   Best acc: 0.7945578231292517\n",
      "Training task 3 in epoch 39. Batch size: 8.\n"
     ]
    },
    {
     "name": "stderr",
     "output_type": "stream",
     "text": [
      "100%|█████████████████████████████████████████████████████████████████████████████████████████████████████████████████████| 94/94 [00:20<00:00,  4.50it/s]\n",
      "100%|█████████████████████████████████████████████████████████████████████████████████████████████████████████████████████| 92/92 [00:12<00:00,  7.39it/s]\n"
     ]
    },
    {
     "name": "stdout",
     "output_type": "stream",
     "text": [
      "Trainig acc: 0.9867   //   Training loss: 0.0441   //   Test acc: 0.7755   //   Test loss: 0.8705\n",
      "early_stop: 6  /   Best acc: 0.7945578231292517\n",
      "Training task 3 in epoch 40. Batch size: 8.\n"
     ]
    },
    {
     "name": "stderr",
     "output_type": "stream",
     "text": [
      "100%|█████████████████████████████████████████████████████████████████████████████████████████████████████████████████████| 94/94 [00:20<00:00,  4.51it/s]\n",
      "100%|█████████████████████████████████████████████████████████████████████████████████████████████████████████████████████| 92/92 [00:12<00:00,  7.47it/s]\n"
     ]
    },
    {
     "name": "stdout",
     "output_type": "stream",
     "text": [
      "Trainig acc: 0.992   //   Training loss: 0.0323   //   Test acc: 0.7837   //   Test loss: 0.8466\n",
      "early_stop: 7  /   Best acc: 0.7945578231292517\n",
      "Training task 3 in epoch 41. Batch size: 8.\n"
     ]
    },
    {
     "name": "stderr",
     "output_type": "stream",
     "text": [
      "100%|█████████████████████████████████████████████████████████████████████████████████████████████████████████████████████| 94/94 [00:20<00:00,  4.54it/s]\n",
      "100%|█████████████████████████████████████████████████████████████████████████████████████████████████████████████████████| 92/92 [00:12<00:00,  7.44it/s]\n"
     ]
    },
    {
     "name": "stdout",
     "output_type": "stream",
     "text": [
      "Trainig acc: 0.9867   //   Training loss: 0.0461   //   Test acc: 0.7741   //   Test loss: 0.8630\n",
      "early_stop: 8  /   Best acc: 0.7945578231292517\n",
      "Training task 3 in epoch 42. Batch size: 8.\n"
     ]
    },
    {
     "name": "stderr",
     "output_type": "stream",
     "text": [
      "100%|█████████████████████████████████████████████████████████████████████████████████████████████████████████████████████| 94/94 [00:20<00:00,  4.55it/s]\n",
      "100%|█████████████████████████████████████████████████████████████████████████████████████████████████████████████████████| 92/92 [00:12<00:00,  7.55it/s]\n"
     ]
    },
    {
     "name": "stdout",
     "output_type": "stream",
     "text": [
      "Trainig acc: 0.9907   //   Training loss: 0.0431   //   Test acc: 0.7823   //   Test loss: 0.8506\n",
      "early_stop: 9  /   Best acc: 0.7945578231292517\n",
      "Training task 3 in epoch 43. Batch size: 8.\n"
     ]
    },
    {
     "name": "stderr",
     "output_type": "stream",
     "text": [
      "100%|█████████████████████████████████████████████████████████████████████████████████████████████████████████████████████| 94/94 [00:20<00:00,  4.55it/s]\n",
      "100%|█████████████████████████████████████████████████████████████████████████████████████████████████████████████████████| 92/92 [00:12<00:00,  7.55it/s]\n"
     ]
    },
    {
     "name": "stdout",
     "output_type": "stream",
     "text": [
      "Trainig acc: 0.984   //   Training loss: 0.0662   //   Test acc: 0.7714   //   Test loss: 0.8969\n",
      "early_stop: 10  /   Best acc: 0.7945578231292517\n",
      "Training task 3 in epoch 44. Batch size: 8.\n"
     ]
    },
    {
     "name": "stderr",
     "output_type": "stream",
     "text": [
      "100%|█████████████████████████████████████████████████████████████████████████████████████████████████████████████████████| 94/94 [00:20<00:00,  4.48it/s]\n",
      "100%|█████████████████████████████████████████████████████████████████████████████████████████████████████████████████████| 92/92 [00:12<00:00,  7.34it/s]\n"
     ]
    },
    {
     "name": "stdout",
     "output_type": "stream",
     "text": [
      "Trainig acc: 0.9934   //   Training loss: 0.0371   //   Test acc: 0.7741   //   Test loss: 0.8594\n",
      "early_stop: 11  /   Best acc: 0.7945578231292517\n",
      "Training task 3 in epoch 45. Batch size: 8.\n"
     ]
    },
    {
     "name": "stderr",
     "output_type": "stream",
     "text": [
      "100%|█████████████████████████████████████████████████████████████████████████████████████████████████████████████████████| 94/94 [00:20<00:00,  4.53it/s]\n",
      "100%|█████████████████████████████████████████████████████████████████████████████████████████████████████████████████████| 92/92 [00:12<00:00,  7.59it/s]\n"
     ]
    },
    {
     "name": "stdout",
     "output_type": "stream",
     "text": [
      "---------------------------------------- TASK_4 ----------------------------------------\n",
      "Training task 4 in epoch 0. Batch size: 8.\n"
     ]
    },
    {
     "name": "stderr",
     "output_type": "stream",
     "text": [
      "100%|█████████████████████████████████████████████████████████████████████████████████████████████████████████████████████| 94/94 [00:20<00:00,  4.50it/s]\n",
      "100%|█████████████████████████████████████████████████████████████████████████████████████████████████████████████████████| 92/92 [00:12<00:00,  7.42it/s]\n"
     ]
    },
    {
     "name": "stdout",
     "output_type": "stream",
     "text": [
      "Trainig acc: 0.04122   //   Training loss: 4.7819   //   Test acc: 0.2783   //   Test loss: 3.2491\n",
      "early_stop: 1  /   Best acc: 0.2783083219645293\n",
      "Training task 4 in epoch 1. Batch size: 8.\n"
     ]
    },
    {
     "name": "stderr",
     "output_type": "stream",
     "text": [
      "100%|█████████████████████████████████████████████████████████████████████████████████████████████████████████████████████| 94/94 [00:20<00:00,  4.58it/s]\n",
      "100%|█████████████████████████████████████████████████████████████████████████████████████████████████████████████████████| 92/92 [00:12<00:00,  7.48it/s]\n"
     ]
    },
    {
     "name": "stdout",
     "output_type": "stream",
     "text": [
      "Trainig acc: 0.2886   //   Training loss: 2.5696   //   Test acc: 0.4925   //   Test loss: 1.8963\n",
      "early_stop: 1  /   Best acc: 0.4924965893587995\n",
      "Training task 4 in epoch 2. Batch size: 8.\n"
     ]
    },
    {
     "name": "stderr",
     "output_type": "stream",
     "text": [
      "100%|█████████████████████████████████████████████████████████████████████████████████████████████████████████████████████| 94/94 [00:20<00:00,  4.60it/s]\n",
      "100%|█████████████████████████████████████████████████████████████████████████████████████████████████████████████████████| 92/92 [00:12<00:00,  7.60it/s]\n"
     ]
    },
    {
     "name": "stdout",
     "output_type": "stream",
     "text": [
      "Trainig acc: 0.4628   //   Training loss: 1.7832   //   Test acc: 0.6344   //   Test loss: 1.3484\n",
      "early_stop: 1  /   Best acc: 0.6343792633015006\n",
      "Training task 4 in epoch 3. Batch size: 8.\n"
     ]
    },
    {
     "name": "stderr",
     "output_type": "stream",
     "text": [
      "100%|█████████████████████████████████████████████████████████████████████████████████████████████████████████████████████| 94/94 [00:20<00:00,  4.54it/s]\n",
      "100%|█████████████████████████████████████████████████████████████████████████████████████████████████████████████████████| 92/92 [00:12<00:00,  7.55it/s]\n"
     ]
    },
    {
     "name": "stdout",
     "output_type": "stream",
     "text": [
      "Trainig acc: 0.5838   //   Training loss: 1.3208   //   Test acc: 0.6999   //   Test loss: 1.0321\n",
      "early_stop: 1  /   Best acc: 0.6998635743519782\n",
      "Training task 4 in epoch 4. Batch size: 8.\n"
     ]
    },
    {
     "name": "stderr",
     "output_type": "stream",
     "text": [
      "100%|█████████████████████████████████████████████████████████████████████████████████████████████████████████████████████| 94/94 [00:20<00:00,  4.53it/s]\n",
      "100%|█████████████████████████████████████████████████████████████████████████████████████████████████████████████████████| 92/92 [00:12<00:00,  7.63it/s]\n"
     ]
    },
    {
     "name": "stdout",
     "output_type": "stream",
     "text": [
      "Trainig acc: 0.734   //   Training loss: 0.8802   //   Test acc: 0.7408   //   Test loss: 0.8846\n",
      "early_stop: 1  /   Best acc: 0.7407912687585266\n",
      "Training task 4 in epoch 5. Batch size: 8.\n"
     ]
    },
    {
     "name": "stderr",
     "output_type": "stream",
     "text": [
      "100%|█████████████████████████████████████████████████████████████████████████████████████████████████████████████████████| 94/94 [00:20<00:00,  4.50it/s]\n",
      "100%|█████████████████████████████████████████████████████████████████████████████████████████████████████████████████████| 92/92 [00:12<00:00,  7.38it/s]\n"
     ]
    },
    {
     "name": "stdout",
     "output_type": "stream",
     "text": [
      "Trainig acc: 0.7926   //   Training loss: 0.6905   //   Test acc: 0.7572   //   Test loss: 0.8166\n",
      "early_stop: 1  /   Best acc: 0.757162346521146\n",
      "Training task 4 in epoch 6. Batch size: 8.\n"
     ]
    },
    {
     "name": "stderr",
     "output_type": "stream",
     "text": [
      "100%|█████████████████████████████████████████████████████████████████████████████████████████████████████████████████████| 94/94 [00:20<00:00,  4.52it/s]\n",
      "100%|█████████████████████████████████████████████████████████████████████████████████████████████████████████████████████| 92/92 [00:12<00:00,  7.54it/s]\n"
     ]
    },
    {
     "name": "stdout",
     "output_type": "stream",
     "text": [
      "Trainig acc: 0.8245   //   Training loss: 0.5908   //   Test acc: 0.7817   //   Test loss: 0.7173\n",
      "early_stop: 1  /   Best acc: 0.781718963165075\n",
      "Training task 4 in epoch 7. Batch size: 8.\n"
     ]
    },
    {
     "name": "stderr",
     "output_type": "stream",
     "text": [
      "100%|█████████████████████████████████████████████████████████████████████████████████████████████████████████████████████| 94/94 [00:20<00:00,  4.52it/s]\n",
      "100%|█████████████████████████████████████████████████████████████████████████████████████████████████████████████████████| 92/92 [00:12<00:00,  7.51it/s]\n"
     ]
    },
    {
     "name": "stdout",
     "output_type": "stream",
     "text": [
      "Trainig acc: 0.8763   //   Training loss: 0.4241   //   Test acc: 0.7763   //   Test loss: 0.6834\n",
      "early_stop: 2  /   Best acc: 0.781718963165075\n",
      "Training task 4 in epoch 8. Batch size: 8.\n"
     ]
    },
    {
     "name": "stderr",
     "output_type": "stream",
     "text": [
      "100%|█████████████████████████████████████████████████████████████████████████████████████████████████████████████████████| 94/94 [00:20<00:00,  4.52it/s]\n",
      "100%|█████████████████████████████████████████████████████████████████████████████████████████████████████████████████████| 92/92 [00:12<00:00,  7.45it/s]\n"
     ]
    },
    {
     "name": "stdout",
     "output_type": "stream",
     "text": [
      "Trainig acc: 0.9176   //   Training loss: 0.3116   //   Test acc: 0.7804   //   Test loss: 0.6872\n",
      "early_stop: 3  /   Best acc: 0.781718963165075\n",
      "Training task 4 in epoch 9. Batch size: 8.\n"
     ]
    },
    {
     "name": "stderr",
     "output_type": "stream",
     "text": [
      "100%|█████████████████████████████████████████████████████████████████████████████████████████████████████████████████████| 94/94 [00:20<00:00,  4.48it/s]\n",
      "100%|█████████████████████████████████████████████████████████████████████████████████████████████████████████████████████| 92/92 [00:12<00:00,  7.35it/s]\n"
     ]
    },
    {
     "name": "stdout",
     "output_type": "stream",
     "text": [
      "Trainig acc: 0.9109   //   Training loss: 0.2947   //   Test acc: 0.7831   //   Test loss: 0.7303\n",
      "early_stop: 1  /   Best acc: 0.7830832196452933\n",
      "Training task 4 in epoch 10. Batch size: 8.\n"
     ]
    },
    {
     "name": "stderr",
     "output_type": "stream",
     "text": [
      "100%|█████████████████████████████████████████████████████████████████████████████████████████████████████████████████████| 94/94 [00:20<00:00,  4.53it/s]\n",
      "100%|█████████████████████████████████████████████████████████████████████████████████████████████████████████████████████| 92/92 [00:11<00:00,  7.73it/s]\n"
     ]
    },
    {
     "name": "stdout",
     "output_type": "stream",
     "text": [
      "Trainig acc: 0.9322   //   Training loss: 0.2050   //   Test acc: 0.7926   //   Test loss: 0.6787\n",
      "early_stop: 1  /   Best acc: 0.7926330150068213\n",
      "Training task 4 in epoch 11. Batch size: 8.\n"
     ]
    },
    {
     "name": "stderr",
     "output_type": "stream",
     "text": [
      "100%|█████████████████████████████████████████████████████████████████████████████████████████████████████████████████████| 94/94 [00:20<00:00,  4.57it/s]\n",
      "100%|█████████████████████████████████████████████████████████████████████████████████████████████████████████████████████| 92/92 [00:12<00:00,  7.34it/s]\n"
     ]
    },
    {
     "name": "stdout",
     "output_type": "stream",
     "text": [
      "Trainig acc: 0.9574   //   Training loss: 0.1619   //   Test acc: 0.8008   //   Test loss: 0.6712\n",
      "early_stop: 1  /   Best acc: 0.800818553888131\n",
      "Training task 4 in epoch 12. Batch size: 8.\n"
     ]
    },
    {
     "name": "stderr",
     "output_type": "stream",
     "text": [
      "100%|█████████████████████████████████████████████████████████████████████████████████████████████████████████████████████| 94/94 [00:20<00:00,  4.53it/s]\n",
      "100%|█████████████████████████████████████████████████████████████████████████████████████████████████████████████████████| 92/92 [00:12<00:00,  7.50it/s]\n"
     ]
    },
    {
     "name": "stdout",
     "output_type": "stream",
     "text": [
      "Trainig acc: 0.9481   //   Training loss: 0.1851   //   Test acc: 0.8049   //   Test loss: 0.6339\n",
      "early_stop: 1  /   Best acc: 0.8049113233287858\n",
      "Training task 4 in epoch 13. Batch size: 8.\n"
     ]
    },
    {
     "name": "stderr",
     "output_type": "stream",
     "text": [
      "100%|█████████████████████████████████████████████████████████████████████████████████████████████████████████████████████| 94/94 [00:20<00:00,  4.61it/s]\n",
      "100%|█████████████████████████████████████████████████████████████████████████████████████████████████████████████████████| 92/92 [00:12<00:00,  7.45it/s]\n"
     ]
    },
    {
     "name": "stdout",
     "output_type": "stream",
     "text": [
      "Trainig acc: 0.9681   //   Training loss: 0.1142   //   Test acc: 0.8049   //   Test loss: 0.6453\n",
      "early_stop: 2  /   Best acc: 0.8049113233287858\n",
      "Training task 4 in epoch 14. Batch size: 8.\n"
     ]
    },
    {
     "name": "stderr",
     "output_type": "stream",
     "text": [
      "100%|█████████████████████████████████████████████████████████████████████████████████████████████████████████████████████| 94/94 [00:20<00:00,  4.56it/s]\n",
      "100%|█████████████████████████████████████████████████████████████████████████████████████████████████████████████████████| 92/92 [00:12<00:00,  7.62it/s]\n"
     ]
    },
    {
     "name": "stdout",
     "output_type": "stream",
     "text": [
      "Trainig acc: 0.9694   //   Training loss: 0.1147   //   Test acc: 0.8022   //   Test loss: 0.7110\n",
      "early_stop: 3  /   Best acc: 0.8049113233287858\n",
      "Training task 4 in epoch 15. Batch size: 8.\n"
     ]
    },
    {
     "name": "stderr",
     "output_type": "stream",
     "text": [
      "100%|█████████████████████████████████████████████████████████████████████████████████████████████████████████████████████| 94/94 [00:20<00:00,  4.50it/s]\n",
      "100%|█████████████████████████████████████████████████████████████████████████████████████████████████████████████████████| 92/92 [00:12<00:00,  7.22it/s]\n"
     ]
    },
    {
     "name": "stdout",
     "output_type": "stream",
     "text": [
      "Trainig acc: 0.9734   //   Training loss: 0.0959   //   Test acc: 0.8076   //   Test loss: 0.6799\n",
      "early_stop: 1  /   Best acc: 0.8076398362892224\n",
      "Training task 4 in epoch 16. Batch size: 8.\n"
     ]
    },
    {
     "name": "stderr",
     "output_type": "stream",
     "text": [
      "100%|█████████████████████████████████████████████████████████████████████████████████████████████████████████████████████| 94/94 [00:20<00:00,  4.57it/s]\n",
      "100%|█████████████████████████████████████████████████████████████████████████████████████████████████████████████████████| 92/92 [00:12<00:00,  7.40it/s]\n"
     ]
    },
    {
     "name": "stdout",
     "output_type": "stream",
     "text": [
      "Trainig acc: 0.9814   //   Training loss: 0.0621   //   Test acc: 0.8076   //   Test loss: 0.6837\n",
      "early_stop: 2  /   Best acc: 0.8076398362892224\n",
      "Training task 4 in epoch 17. Batch size: 8.\n"
     ]
    },
    {
     "name": "stderr",
     "output_type": "stream",
     "text": [
      "100%|█████████████████████████████████████████████████████████████████████████████████████████████████████████████████████| 94/94 [00:20<00:00,  4.49it/s]\n",
      "100%|█████████████████████████████████████████████████████████████████████████████████████████████████████████████████████| 92/92 [00:12<00:00,  7.35it/s]\n"
     ]
    },
    {
     "name": "stdout",
     "output_type": "stream",
     "text": [
      "Trainig acc: 0.9801   //   Training loss: 0.0534   //   Test acc: 0.8186   //   Test loss: 0.6760\n",
      "early_stop: 1  /   Best acc: 0.8185538881309686\n",
      "Training task 4 in epoch 18. Batch size: 8.\n"
     ]
    },
    {
     "name": "stderr",
     "output_type": "stream",
     "text": [
      "100%|█████████████████████████████████████████████████████████████████████████████████████████████████████████████████████| 94/94 [00:20<00:00,  4.60it/s]\n",
      "100%|█████████████████████████████████████████████████████████████████████████████████████████████████████████████████████| 92/92 [00:12<00:00,  7.61it/s]\n"
     ]
    },
    {
     "name": "stdout",
     "output_type": "stream",
     "text": [
      "Trainig acc: 0.9867   //   Training loss: 0.0480   //   Test acc: 0.8213   //   Test loss: 0.6545\n",
      "early_stop: 1  /   Best acc: 0.8212824010914052\n",
      "Training task 4 in epoch 19. Batch size: 8.\n"
     ]
    },
    {
     "name": "stderr",
     "output_type": "stream",
     "text": [
      "100%|█████████████████████████████████████████████████████████████████████████████████████████████████████████████████████| 94/94 [00:20<00:00,  4.56it/s]\n",
      "100%|█████████████████████████████████████████████████████████████████████████████████████████████████████████████████████| 92/92 [00:12<00:00,  7.40it/s]\n"
     ]
    },
    {
     "name": "stdout",
     "output_type": "stream",
     "text": [
      "Trainig acc: 0.984   //   Training loss: 0.0552   //   Test acc: 0.8090   //   Test loss: 0.7042\n",
      "early_stop: 2  /   Best acc: 0.8212824010914052\n",
      "Training task 4 in epoch 20. Batch size: 8.\n"
     ]
    },
    {
     "name": "stderr",
     "output_type": "stream",
     "text": [
      "100%|█████████████████████████████████████████████████████████████████████████████████████████████████████████████████████| 94/94 [00:20<00:00,  4.51it/s]\n",
      "100%|█████████████████████████████████████████████████████████████████████████████████████████████████████████████████████| 92/92 [00:12<00:00,  7.37it/s]\n"
     ]
    },
    {
     "name": "stdout",
     "output_type": "stream",
     "text": [
      "Trainig acc: 0.9801   //   Training loss: 0.0457   //   Test acc: 0.8172   //   Test loss: 0.6830\n",
      "early_stop: 3  /   Best acc: 0.8212824010914052\n",
      "Training task 4 in epoch 21. Batch size: 8.\n"
     ]
    },
    {
     "name": "stderr",
     "output_type": "stream",
     "text": [
      "100%|█████████████████████████████████████████████████████████████████████████████████████████████████████████████████████| 94/94 [00:20<00:00,  4.53it/s]\n",
      "100%|█████████████████████████████████████████████████████████████████████████████████████████████████████████████████████| 92/92 [00:12<00:00,  7.48it/s]\n"
     ]
    },
    {
     "name": "stdout",
     "output_type": "stream",
     "text": [
      "Trainig acc: 0.9894   //   Training loss: 0.0292   //   Test acc: 0.7995   //   Test loss: 0.6993\n",
      "early_stop: 4  /   Best acc: 0.8212824010914052\n",
      "Training task 4 in epoch 22. Batch size: 8.\n"
     ]
    },
    {
     "name": "stderr",
     "output_type": "stream",
     "text": [
      "100%|█████████████████████████████████████████████████████████████████████████████████████████████████████████████████████| 94/94 [00:20<00:00,  4.49it/s]\n",
      "100%|█████████████████████████████████████████████████████████████████████████████████████████████████████████████████████| 92/92 [00:12<00:00,  7.46it/s]\n"
     ]
    },
    {
     "name": "stdout",
     "output_type": "stream",
     "text": [
      "Trainig acc: 0.988   //   Training loss: 0.0323   //   Test acc: 0.8240   //   Test loss: 0.6572\n",
      "early_stop: 1  /   Best acc: 0.8240109140518418\n",
      "Training task 4 in epoch 23. Batch size: 8.\n"
     ]
    },
    {
     "name": "stderr",
     "output_type": "stream",
     "text": [
      "100%|█████████████████████████████████████████████████████████████████████████████████████████████████████████████████████| 94/94 [00:20<00:00,  4.60it/s]\n",
      "100%|█████████████████████████████████████████████████████████████████████████████████████████████████████████████████████| 92/92 [00:11<00:00,  7.68it/s]\n"
     ]
    },
    {
     "name": "stdout",
     "output_type": "stream",
     "text": [
      "Trainig acc: 0.9867   //   Training loss: 0.0227   //   Test acc: 0.8349   //   Test loss: 0.6254\n",
      "early_stop: 1  /   Best acc: 0.834924965893588\n",
      "Training task 4 in epoch 24. Batch size: 8.\n"
     ]
    },
    {
     "name": "stderr",
     "output_type": "stream",
     "text": [
      "100%|█████████████████████████████████████████████████████████████████████████████████████████████████████████████████████| 94/94 [00:20<00:00,  4.54it/s]\n",
      "100%|█████████████████████████████████████████████████████████████████████████████████████████████████████████████████████| 92/92 [00:12<00:00,  7.61it/s]\n"
     ]
    },
    {
     "name": "stdout",
     "output_type": "stream",
     "text": [
      "Trainig acc: 0.9867   //   Training loss: 0.0325   //   Test acc: 0.8308   //   Test loss: 0.6706\n",
      "early_stop: 2  /   Best acc: 0.834924965893588\n",
      "Training task 4 in epoch 25. Batch size: 8.\n"
     ]
    },
    {
     "name": "stderr",
     "output_type": "stream",
     "text": [
      "100%|█████████████████████████████████████████████████████████████████████████████████████████████████████████████████████| 94/94 [00:20<00:00,  4.49it/s]\n",
      "100%|█████████████████████████████████████████████████████████████████████████████████████████████████████████████████████| 92/92 [00:12<00:00,  7.60it/s]\n"
     ]
    },
    {
     "name": "stdout",
     "output_type": "stream",
     "text": [
      "Trainig acc: 0.9934   //   Training loss: 0.0182   //   Test acc: 0.8240   //   Test loss: 0.6877\n",
      "early_stop: 3  /   Best acc: 0.834924965893588\n",
      "Training task 4 in epoch 26. Batch size: 8.\n"
     ]
    },
    {
     "name": "stderr",
     "output_type": "stream",
     "text": [
      "100%|█████████████████████████████████████████████████████████████████████████████████████████████████████████████████████| 94/94 [00:20<00:00,  4.52it/s]\n",
      "100%|█████████████████████████████████████████████████████████████████████████████████████████████████████████████████████| 92/92 [00:12<00:00,  7.32it/s]\n"
     ]
    },
    {
     "name": "stdout",
     "output_type": "stream",
     "text": [
      "Trainig acc: 0.988   //   Training loss: 0.0307   //   Test acc: 0.8131   //   Test loss: 0.6920\n",
      "early_stop: 4  /   Best acc: 0.834924965893588\n",
      "Training task 4 in epoch 27. Batch size: 8.\n"
     ]
    },
    {
     "name": "stderr",
     "output_type": "stream",
     "text": [
      "100%|█████████████████████████████████████████████████████████████████████████████████████████████████████████████████████| 94/94 [00:20<00:00,  4.52it/s]\n",
      "100%|█████████████████████████████████████████████████████████████████████████████████████████████████████████████████████| 92/92 [00:12<00:00,  7.55it/s]\n"
     ]
    },
    {
     "name": "stdout",
     "output_type": "stream",
     "text": [
      "Trainig acc: 0.9867   //   Training loss: 0.0328   //   Test acc: 0.8186   //   Test loss: 0.6722\n",
      "early_stop: 5  /   Best acc: 0.834924965893588\n",
      "Training task 4 in epoch 28. Batch size: 8.\n"
     ]
    },
    {
     "name": "stderr",
     "output_type": "stream",
     "text": [
      "100%|█████████████████████████████████████████████████████████████████████████████████████████████████████████████████████| 94/94 [00:20<00:00,  4.49it/s]\n",
      "100%|█████████████████████████████████████████████████████████████████████████████████████████████████████████████████████| 92/92 [00:11<00:00,  7.67it/s]\n"
     ]
    },
    {
     "name": "stdout",
     "output_type": "stream",
     "text": [
      "Trainig acc: 0.992   //   Training loss: 0.0141   //   Test acc: 0.8172   //   Test loss: 0.7020\n",
      "early_stop: 6  /   Best acc: 0.834924965893588\n",
      "Training task 4 in epoch 29. Batch size: 8.\n"
     ]
    },
    {
     "name": "stderr",
     "output_type": "stream",
     "text": [
      "100%|█████████████████████████████████████████████████████████████████████████████████████████████████████████████████████| 94/94 [00:20<00:00,  4.51it/s]\n",
      "100%|█████████████████████████████████████████████████████████████████████████████████████████████████████████████████████| 92/92 [00:12<00:00,  7.53it/s]\n"
     ]
    },
    {
     "name": "stdout",
     "output_type": "stream",
     "text": [
      "Trainig acc: 0.9894   //   Training loss: 0.0205   //   Test acc: 0.8213   //   Test loss: 0.6933\n",
      "early_stop: 7  /   Best acc: 0.834924965893588\n",
      "Training task 4 in epoch 30. Batch size: 8.\n"
     ]
    },
    {
     "name": "stderr",
     "output_type": "stream",
     "text": [
      "100%|█████████████████████████████████████████████████████████████████████████████████████████████████████████████████████| 94/94 [00:20<00:00,  4.50it/s]\n",
      "100%|█████████████████████████████████████████████████████████████████████████████████████████████████████████████████████| 92/92 [00:12<00:00,  7.41it/s]\n"
     ]
    },
    {
     "name": "stdout",
     "output_type": "stream",
     "text": [
      "Trainig acc: 0.9947   //   Training loss: 0.0145   //   Test acc: 0.8158   //   Test loss: 0.6963\n",
      "early_stop: 8  /   Best acc: 0.834924965893588\n",
      "Training task 4 in epoch 31. Batch size: 8.\n"
     ]
    },
    {
     "name": "stderr",
     "output_type": "stream",
     "text": [
      "100%|█████████████████████████████████████████████████████████████████████████████████████████████████████████████████████| 94/94 [00:20<00:00,  4.51it/s]\n",
      "100%|█████████████████████████████████████████████████████████████████████████████████████████████████████████████████████| 92/92 [00:12<00:00,  7.60it/s]\n"
     ]
    },
    {
     "name": "stdout",
     "output_type": "stream",
     "text": [
      "Trainig acc: 0.9907   //   Training loss: 0.0190   //   Test acc: 0.8226   //   Test loss: 0.7023\n",
      "early_stop: 9  /   Best acc: 0.834924965893588\n",
      "Training task 4 in epoch 32. Batch size: 8.\n"
     ]
    },
    {
     "name": "stderr",
     "output_type": "stream",
     "text": [
      "100%|█████████████████████████████████████████████████████████████████████████████████████████████████████████████████████| 94/94 [00:21<00:00,  4.47it/s]\n",
      "100%|█████████████████████████████████████████████████████████████████████████████████████████████████████████████████████| 92/92 [00:12<00:00,  7.54it/s]\n"
     ]
    },
    {
     "name": "stdout",
     "output_type": "stream",
     "text": [
      "Trainig acc: 0.9894   //   Training loss: 0.0216   //   Test acc: 0.8254   //   Test loss: 0.6808\n",
      "early_stop: 10  /   Best acc: 0.834924965893588\n",
      "Training task 4 in epoch 33. Batch size: 8.\n"
     ]
    },
    {
     "name": "stderr",
     "output_type": "stream",
     "text": [
      "100%|█████████████████████████████████████████████████████████████████████████████████████████████████████████████████████| 94/94 [00:20<00:00,  4.50it/s]\n",
      "100%|█████████████████████████████████████████████████████████████████████████████████████████████████████████████████████| 92/92 [00:12<00:00,  7.46it/s]\n"
     ]
    },
    {
     "name": "stdout",
     "output_type": "stream",
     "text": [
      "Trainig acc: 0.9934   //   Training loss: 0.0153   //   Test acc: 0.8131   //   Test loss: 0.7037\n",
      "early_stop: 11  /   Best acc: 0.834924965893588\n",
      "Training task 4 in epoch 34. Batch size: 8.\n"
     ]
    },
    {
     "name": "stderr",
     "output_type": "stream",
     "text": [
      "100%|█████████████████████████████████████████████████████████████████████████████████████████████████████████████████████| 94/94 [00:20<00:00,  4.48it/s]\n",
      "100%|█████████████████████████████████████████████████████████████████████████████████████████████████████████████████████| 92/92 [00:12<00:00,  7.60it/s]\n"
     ]
    },
    {
     "data": {
      "application/vnd.jupyter.widget-view+json": {
       "model_id": "",
       "version_major": 2,
       "version_minor": 0
      },
      "text/plain": [
       "VBox(children=(Label(value='0.003 MB of 0.003 MB uploaded\\r'), FloatProgress(value=1.0, max=1.0)))"
      ]
     },
     "metadata": {},
     "output_type": "display_data"
    },
    {
     "data": {
      "text/html": [
       "W&B sync reduced upload amount by 0.7%"
      ],
      "text/plain": [
       "<IPython.core.display.HTML object>"
      ]
     },
     "metadata": {},
     "output_type": "display_data"
    },
    {
     "data": {
      "text/html": [
       "<style>\n",
       "    table.wandb td:nth-child(1) { padding: 0 10px; text-align: left ; width: auto;} td:nth-child(2) {text-align: left ; width: 100%}\n",
       "    .wandb-row { display: flex; flex-direction: row; flex-wrap: wrap; justify-content: flex-start; width: 100% }\n",
       "    .wandb-col { display: flex; flex-direction: column; flex-basis: 100%; flex: 1; padding: 10px; }\n",
       "    </style>\n",
       "<div class=\"wandb-row\"><div class=\"wandb-col\"><h3>Run history:</h3><br/><table class=\"wandb\"><tr><td>Accuracy</td><td>▅▇▇▇▇▇▇▇▄▆▇▇▇▇▇▇▇▁▆▆▆▆▆▆▆▅▇▇▇▇▇▇▇▁▇█████</td></tr><tr><td>Loss</td><td>▄▂▂▂▂▂▂▂▄▂▂▂▂▂▂▂▂▇▂▂▂▂▂▂▂▃▂▂▂▂▂▂▂█▂▁▁▁▁▁</td></tr><tr><td>best_val_acc</td><td>▅▆▇▇▇▇▇▇▄▆▇▇▇▇▇▇▇▁▆▆▆▆▆▆▆▅▇▇▇▇▇██▁▇▇████</td></tr><tr><td>learning_rate</td><td>███▂▂▂▂▁█████▂▂▁▁███▂▂▂▂▁███▂▂▁▁▁██████▂</td></tr><tr><td>patience</td><td>▁▁▂▅▁▁▃█▁▂▁▄▄▃▂▂▅▁▁▃▂▁▃▄▇▁▂▁▆▁▅▂▅▁▁▁▂▃▃█</td></tr><tr><td>task</td><td>▁▁▁▁▁▁▁▁▃▃▃▃▃▃▃▃▃▅▅▅▅▅▅▅▅▆▆▆▆▆▆▆▆███████</td></tr><tr><td>train_acc</td><td>▃▆▇█████▄▇███████▁▆▇█████▅▇██████▁▆█████</td></tr><tr><td>train_loss</td><td>▅▂▁▁▁▁▁▁▄▂▁▁▁▁▁▁▁█▂▁▁▁▁▁▁▃▂▁▁▁▁▁▁█▂▁▁▁▁▁</td></tr><tr><td>val_acc</td><td>▅▇▇▇▇▇▇▇▄▆▇▇▇▇▇▇▇▁▆▆▆▆▆▆▆▅▇▇▇▇▇▇▇▁▇█████</td></tr><tr><td>val_loss</td><td>▄▂▂▂▂▂▂▂▄▂▂▂▂▂▂▂▂▇▂▂▂▂▂▂▂▃▂▂▂▂▂▂▂█▂▁▁▁▁▁</td></tr></table><br/></div><div class=\"wandb-col\"><h3>Run summary:</h3><br/><table class=\"wandb\"><tr><td>Accuracy</td><td>0.8131</td></tr><tr><td>Loss</td><td>0.70373</td></tr><tr><td>best_val_acc</td><td>0.83492</td></tr><tr><td>learning_rate</td><td>0.0</td></tr><tr><td>patience</td><td>11</td></tr><tr><td>task</td><td>5</td></tr><tr><td>train_acc</td><td>0.99335</td></tr><tr><td>train_loss</td><td>0.01528</td></tr><tr><td>val_acc</td><td>0.8131</td></tr><tr><td>val_loss</td><td>0.70373</td></tr></table><br/></div></div>"
      ],
      "text/plain": [
       "<IPython.core.display.HTML object>"
      ]
     },
     "metadata": {},
     "output_type": "display_data"
    },
    {
     "data": {
      "text/html": [
       " View run <strong style=\"color:#cdcd00\">vgg19-lr-00001-5tasks-lora-0</strong> at: <a href='https://wandb.ai/cf-lora/cf-lora-cub-200-baseline-all-parameters/runs/j0nh20gd' target=\"_blank\">https://wandb.ai/cf-lora/cf-lora-cub-200-baseline-all-parameters/runs/j0nh20gd</a><br/> View project at: <a href='https://wandb.ai/cf-lora/cf-lora-cub-200-baseline-all-parameters' target=\"_blank\">https://wandb.ai/cf-lora/cf-lora-cub-200-baseline-all-parameters</a><br/>Synced 5 W&B file(s), 0 media file(s), 2 artifact file(s) and 0 other file(s)"
      ],
      "text/plain": [
       "<IPython.core.display.HTML object>"
      ]
     },
     "metadata": {},
     "output_type": "display_data"
    },
    {
     "data": {
      "text/html": [
       "Find logs at: <code>./wandb/run-20240825_210636-j0nh20gd/logs</code>"
      ],
      "text/plain": [
       "<IPython.core.display.HTML object>"
      ]
     },
     "metadata": {},
     "output_type": "display_data"
    },
    {
     "data": {
      "text/html": [
       "The new W&B backend becomes opt-out in version 0.18.0; try it out with `wandb.require(\"core\")`! See https://wandb.me/wandb-core for more information."
      ],
      "text/plain": [
       "<IPython.core.display.HTML object>"
      ]
     },
     "metadata": {},
     "output_type": "display_data"
    },
    {
     "data": {
      "application/vnd.jupyter.widget-view+json": {
       "model_id": "2474b6c9eb034c3f9b653c43a229d3ad",
       "version_major": 2,
       "version_minor": 0
      },
      "text/plain": [
       "VBox(children=(Label(value='Waiting for wandb.init()...\\r'), FloatProgress(value=0.011113725433824584, max=1.0…"
      ]
     },
     "metadata": {},
     "output_type": "display_data"
    },
    {
     "data": {
      "text/html": [
       "Tracking run with wandb version 0.17.7"
      ],
      "text/plain": [
       "<IPython.core.display.HTML object>"
      ]
     },
     "metadata": {},
     "output_type": "display_data"
    },
    {
     "data": {
      "text/html": [
       "Run data is saved locally in <code>/home/everton_aleixo/Documents/effects-of-lora-on-catastrophic-forgetting/notebooks/wandb/run-20240826_005948-4m6isw3s</code>"
      ],
      "text/plain": [
       "<IPython.core.display.HTML object>"
      ]
     },
     "metadata": {},
     "output_type": "display_data"
    },
    {
     "data": {
      "text/html": [
       "Syncing run <strong><a href='https://wandb.ai/cf-lora/cf-lora-cub-200-baseline-all-parameters/runs/4m6isw3s' target=\"_blank\">vgg19-lr-00001-5tasks-lora-1</a></strong> to <a href='https://wandb.ai/cf-lora/cf-lora-cub-200-baseline-all-parameters' target=\"_blank\">Weights & Biases</a> (<a href='https://wandb.me/run' target=\"_blank\">docs</a>)<br/>"
      ],
      "text/plain": [
       "<IPython.core.display.HTML object>"
      ]
     },
     "metadata": {},
     "output_type": "display_data"
    },
    {
     "data": {
      "text/html": [
       " View project at <a href='https://wandb.ai/cf-lora/cf-lora-cub-200-baseline-all-parameters' target=\"_blank\">https://wandb.ai/cf-lora/cf-lora-cub-200-baseline-all-parameters</a>"
      ],
      "text/plain": [
       "<IPython.core.display.HTML object>"
      ]
     },
     "metadata": {},
     "output_type": "display_data"
    },
    {
     "data": {
      "text/html": [
       " View run at <a href='https://wandb.ai/cf-lora/cf-lora-cub-200-baseline-all-parameters/runs/4m6isw3s' target=\"_blank\">https://wandb.ai/cf-lora/cf-lora-cub-200-baseline-all-parameters/runs/4m6isw3s</a>"
      ],
      "text/plain": [
       "<IPython.core.display.HTML object>"
      ]
     },
     "metadata": {},
     "output_type": "display_data"
    },
    {
     "name": "stderr",
     "output_type": "stream",
     "text": [
      "/home/everton_aleixo/Documents/mahle/server_python/venv/lib/python3.12/site-packages/torch/optim/lr_scheduler.py:60: UserWarning: The verbose parameter is deprecated. Please use get_last_lr() to access the learning rate.\n",
      "  warnings.warn(\n"
     ]
    },
    {
     "name": "stdout",
     "output_type": "stream",
     "text": [
      "---------------------------------------- TASK_0 ----------------------------------------\n",
      "Training task 0 in epoch 0. Batch size: 8.\n"
     ]
    },
    {
     "name": "stderr",
     "output_type": "stream",
     "text": [
      "100%|███████████████████████████████████████████████████████████████████████████████████████████████████████████████████| 375/375 [01:15<00:00,  4.99it/s]\n",
      "100%|███████████████████████████████████████████████████████████████████████████████████████████████████████████████████| 358/358 [00:39<00:00,  8.99it/s]\n"
     ]
    },
    {
     "name": "stdout",
     "output_type": "stream",
     "text": [
      "Trainig acc: 0.072   //   Training loss: 4.5279   //   Test acc: 0.3841   //   Test loss: 2.8706\n",
      "early_stop: 1  /   Best acc: 0.3840782122905028\n",
      "Training task 0 in epoch 1. Batch size: 8.\n"
     ]
    },
    {
     "name": "stderr",
     "output_type": "stream",
     "text": [
      "100%|███████████████████████████████████████████████████████████████████████████████████████████████████████████████████| 375/375 [01:14<00:00,  5.05it/s]\n",
      "100%|███████████████████████████████████████████████████████████████████████████████████████████████████████████████████| 358/358 [00:39<00:00,  9.11it/s]\n"
     ]
    },
    {
     "name": "stdout",
     "output_type": "stream",
     "text": [
      "Trainig acc: 0.3333   //   Training loss: 2.6285   //   Test acc: 0.5758   //   Test loss: 1.6831\n",
      "early_stop: 1  /   Best acc: 0.575768156424581\n",
      "Training task 0 in epoch 2. Batch size: 8.\n"
     ]
    },
    {
     "name": "stderr",
     "output_type": "stream",
     "text": [
      "100%|███████████████████████████████████████████████████████████████████████████████████████████████████████████████████| 375/375 [01:14<00:00,  5.06it/s]\n",
      "100%|███████████████████████████████████████████████████████████████████████████████████████████████████████████████████| 358/358 [00:40<00:00,  8.76it/s]\n"
     ]
    },
    {
     "name": "stdout",
     "output_type": "stream",
     "text": [
      "Trainig acc: 0.5093   //   Training loss: 1.7876   //   Test acc: 0.6491   //   Test loss: 1.3005\n",
      "early_stop: 1  /   Best acc: 0.6490921787709497\n",
      "Training task 0 in epoch 3. Batch size: 8.\n"
     ]
    },
    {
     "name": "stderr",
     "output_type": "stream",
     "text": [
      "100%|███████████████████████████████████████████████████████████████████████████████████████████████████████████████████| 375/375 [01:14<00:00,  5.06it/s]\n",
      "100%|███████████████████████████████████████████████████████████████████████████████████████████████████████████████████| 358/358 [00:39<00:00,  8.96it/s]\n"
     ]
    },
    {
     "name": "stdout",
     "output_type": "stream",
     "text": [
      "Trainig acc: 0.621   //   Training loss: 1.3519   //   Test acc: 0.6781   //   Test loss: 1.1536\n",
      "early_stop: 1  /   Best acc: 0.678072625698324\n",
      "Training task 0 in epoch 4. Batch size: 8.\n"
     ]
    },
    {
     "name": "stderr",
     "output_type": "stream",
     "text": [
      "100%|███████████████████████████████████████████████████████████████████████████████████████████████████████████████████| 375/375 [01:13<00:00,  5.07it/s]\n",
      "100%|███████████████████████████████████████████████████████████████████████████████████████████████████████████████████| 358/358 [00:39<00:00,  9.17it/s]\n"
     ]
    },
    {
     "name": "stdout",
     "output_type": "stream",
     "text": [
      "Trainig acc: 0.7047   //   Training loss: 1.0214   //   Test acc: 0.7067   //   Test loss: 1.0549\n",
      "early_stop: 1  /   Best acc: 0.7067039106145251\n",
      "Training task 0 in epoch 5. Batch size: 8.\n"
     ]
    },
    {
     "name": "stderr",
     "output_type": "stream",
     "text": [
      "100%|███████████████████████████████████████████████████████████████████████████████████████████████████████████████████| 375/375 [01:14<00:00,  5.06it/s]\n",
      "100%|███████████████████████████████████████████████████████████████████████████████████████████████████████████████████| 358/358 [00:40<00:00,  8.93it/s]\n"
     ]
    },
    {
     "name": "stdout",
     "output_type": "stream",
     "text": [
      "Trainig acc: 0.7447   //   Training loss: 0.8292   //   Test acc: 0.7119   //   Test loss: 1.0268\n",
      "early_stop: 1  /   Best acc: 0.7119413407821229\n",
      "Training task 0 in epoch 6. Batch size: 8.\n"
     ]
    },
    {
     "name": "stderr",
     "output_type": "stream",
     "text": [
      "100%|███████████████████████████████████████████████████████████████████████████████████████████████████████████████████| 375/375 [01:13<00:00,  5.12it/s]\n",
      "100%|███████████████████████████████████████████████████████████████████████████████████████████████████████████████████| 358/358 [00:40<00:00,  8.94it/s]\n"
     ]
    },
    {
     "name": "stdout",
     "output_type": "stream",
     "text": [
      "Trainig acc: 0.7957   //   Training loss: 0.6594   //   Test acc: 0.7322   //   Test loss: 0.9329\n",
      "early_stop: 1  /   Best acc: 0.7321927374301676\n",
      "Training task 0 in epoch 7. Batch size: 8.\n"
     ]
    },
    {
     "name": "stderr",
     "output_type": "stream",
     "text": [
      "100%|███████████████████████████████████████████████████████████████████████████████████████████████████████████████████| 375/375 [01:13<00:00,  5.07it/s]\n",
      "100%|███████████████████████████████████████████████████████████████████████████████████████████████████████████████████| 358/358 [00:39<00:00,  8.96it/s]\n"
     ]
    },
    {
     "name": "stdout",
     "output_type": "stream",
     "text": [
      "Trainig acc: 0.8313   //   Training loss: 0.5490   //   Test acc: 0.7385   //   Test loss: 0.9245\n",
      "early_stop: 1  /   Best acc: 0.7384776536312849\n",
      "Training task 0 in epoch 8. Batch size: 8.\n"
     ]
    },
    {
     "name": "stderr",
     "output_type": "stream",
     "text": [
      "100%|███████████████████████████████████████████████████████████████████████████████████████████████████████████████████| 375/375 [01:14<00:00,  5.04it/s]\n",
      "100%|███████████████████████████████████████████████████████████████████████████████████████████████████████████████████| 358/358 [00:39<00:00,  9.01it/s]\n"
     ]
    },
    {
     "name": "stdout",
     "output_type": "stream",
     "text": [
      "Trainig acc: 0.8803   //   Training loss: 0.4176   //   Test acc: 0.7388   //   Test loss: 0.9004\n",
      "early_stop: 1  /   Best acc: 0.7388268156424581\n",
      "Training task 0 in epoch 9. Batch size: 8.\n"
     ]
    },
    {
     "name": "stderr",
     "output_type": "stream",
     "text": [
      "100%|███████████████████████████████████████████████████████████████████████████████████████████████████████████████████| 375/375 [01:13<00:00,  5.07it/s]\n",
      "100%|███████████████████████████████████████████████████████████████████████████████████████████████████████████████████| 358/358 [00:40<00:00,  8.85it/s]\n"
     ]
    },
    {
     "name": "stdout",
     "output_type": "stream",
     "text": [
      "Trainig acc: 0.888   //   Training loss: 0.3735   //   Test acc: 0.7448   //   Test loss: 0.8948\n",
      "early_stop: 1  /   Best acc: 0.7447625698324022\n",
      "Training task 0 in epoch 10. Batch size: 8.\n"
     ]
    },
    {
     "name": "stderr",
     "output_type": "stream",
     "text": [
      "100%|███████████████████████████████████████████████████████████████████████████████████████████████████████████████████| 375/375 [01:13<00:00,  5.08it/s]\n",
      "100%|███████████████████████████████████████████████████████████████████████████████████████████████████████████████████| 358/358 [00:40<00:00,  8.88it/s]\n"
     ]
    },
    {
     "name": "stdout",
     "output_type": "stream",
     "text": [
      "Trainig acc: 0.9157   //   Training loss: 0.2878   //   Test acc: 0.7531   //   Test loss: 0.9148\n",
      "early_stop: 1  /   Best acc: 0.7531424581005587\n",
      "Training task 0 in epoch 11. Batch size: 8.\n"
     ]
    },
    {
     "name": "stderr",
     "output_type": "stream",
     "text": [
      "100%|███████████████████████████████████████████████████████████████████████████████████████████████████████████████████| 375/375 [01:14<00:00,  5.07it/s]\n",
      "100%|███████████████████████████████████████████████████████████████████████████████████████████████████████████████████| 358/358 [00:40<00:00,  8.95it/s]\n"
     ]
    },
    {
     "name": "stdout",
     "output_type": "stream",
     "text": [
      "Trainig acc: 0.9317   //   Training loss: 0.2405   //   Test acc: 0.7476   //   Test loss: 0.9080\n",
      "early_stop: 2  /   Best acc: 0.7531424581005587\n",
      "Training task 0 in epoch 12. Batch size: 8.\n"
     ]
    },
    {
     "name": "stderr",
     "output_type": "stream",
     "text": [
      "100%|███████████████████████████████████████████████████████████████████████████████████████████████████████████████████| 375/375 [01:14<00:00,  5.07it/s]\n",
      "100%|███████████████████████████████████████████████████████████████████████████████████████████████████████████████████| 358/358 [00:39<00:00,  9.06it/s]\n"
     ]
    },
    {
     "name": "stdout",
     "output_type": "stream",
     "text": [
      "Trainig acc: 0.9427   //   Training loss: 0.2018   //   Test acc: 0.7524   //   Test loss: 0.9072\n",
      "early_stop: 3  /   Best acc: 0.7531424581005587\n",
      "Training task 0 in epoch 13. Batch size: 8.\n"
     ]
    },
    {
     "name": "stderr",
     "output_type": "stream",
     "text": [
      "100%|███████████████████████████████████████████████████████████████████████████████████████████████████████████████████| 375/375 [01:14<00:00,  5.04it/s]\n",
      "100%|███████████████████████████████████████████████████████████████████████████████████████████████████████████████████| 358/358 [00:39<00:00,  9.10it/s]\n"
     ]
    },
    {
     "name": "stdout",
     "output_type": "stream",
     "text": [
      "Trainig acc: 0.9497   //   Training loss: 0.1619   //   Test acc: 0.7500   //   Test loss: 0.9527\n",
      "early_stop: 4  /   Best acc: 0.7531424581005587\n",
      "Training task 0 in epoch 14. Batch size: 8.\n"
     ]
    },
    {
     "name": "stderr",
     "output_type": "stream",
     "text": [
      "100%|███████████████████████████████████████████████████████████████████████████████████████████████████████████████████| 375/375 [01:14<00:00,  5.05it/s]\n",
      "100%|███████████████████████████████████████████████████████████████████████████████████████████████████████████████████| 358/358 [00:40<00:00,  8.95it/s]\n"
     ]
    },
    {
     "name": "stdout",
     "output_type": "stream",
     "text": [
      "Trainig acc: 0.9517   //   Training loss: 0.1504   //   Test acc: 0.7556   //   Test loss: 0.9136\n",
      "early_stop: 1  /   Best acc: 0.755586592178771\n",
      "Training task 0 in epoch 15. Batch size: 8.\n"
     ]
    },
    {
     "name": "stderr",
     "output_type": "stream",
     "text": [
      "100%|███████████████████████████████████████████████████████████████████████████████████████████████████████████████████| 375/375 [01:13<00:00,  5.08it/s]\n",
      "100%|███████████████████████████████████████████████████████████████████████████████████████████████████████████████████| 358/358 [00:40<00:00,  8.81it/s]\n"
     ]
    },
    {
     "name": "stdout",
     "output_type": "stream",
     "text": [
      "Trainig acc: 0.9743   //   Training loss: 0.1034   //   Test acc: 0.7542   //   Test loss: 0.9740\n",
      "early_stop: 2  /   Best acc: 0.755586592178771\n",
      "Training task 0 in epoch 16. Batch size: 8.\n"
     ]
    },
    {
     "name": "stderr",
     "output_type": "stream",
     "text": [
      "100%|███████████████████████████████████████████████████████████████████████████████████████████████████████████████████| 375/375 [01:14<00:00,  5.05it/s]\n",
      "100%|███████████████████████████████████████████████████████████████████████████████████████████████████████████████████| 358/358 [00:39<00:00,  9.07it/s]\n"
     ]
    },
    {
     "name": "stdout",
     "output_type": "stream",
     "text": [
      "Trainig acc: 0.9703   //   Training loss: 0.1025   //   Test acc: 0.7507   //   Test loss: 0.9934\n",
      "early_stop: 3  /   Best acc: 0.755586592178771\n",
      "Training task 0 in epoch 17. Batch size: 8.\n"
     ]
    },
    {
     "name": "stderr",
     "output_type": "stream",
     "text": [
      "100%|███████████████████████████████████████████████████████████████████████████████████████████████████████████████████| 375/375 [01:14<00:00,  5.06it/s]\n",
      "100%|███████████████████████████████████████████████████████████████████████████████████████████████████████████████████| 358/358 [00:39<00:00,  9.15it/s]\n"
     ]
    },
    {
     "name": "stdout",
     "output_type": "stream",
     "text": [
      "Trainig acc: 0.9763   //   Training loss: 0.0913   //   Test acc: 0.7559   //   Test loss: 0.9817\n",
      "early_stop: 1  /   Best acc: 0.7559357541899442\n",
      "Training task 0 in epoch 18. Batch size: 8.\n"
     ]
    },
    {
     "name": "stderr",
     "output_type": "stream",
     "text": [
      "100%|███████████████████████████████████████████████████████████████████████████████████████████████████████████████████| 375/375 [01:13<00:00,  5.07it/s]\n",
      "100%|███████████████████████████████████████████████████████████████████████████████████████████████████████████████████| 358/358 [00:39<00:00,  8.99it/s]\n"
     ]
    },
    {
     "name": "stdout",
     "output_type": "stream",
     "text": [
      "Trainig acc: 0.977   //   Training loss: 0.0784   //   Test acc: 0.7584   //   Test loss: 1.0255\n",
      "early_stop: 1  /   Best acc: 0.7583798882681564\n",
      "Training task 0 in epoch 19. Batch size: 8.\n"
     ]
    },
    {
     "name": "stderr",
     "output_type": "stream",
     "text": [
      "100%|███████████████████████████████████████████████████████████████████████████████████████████████████████████████████| 375/375 [01:14<00:00,  5.06it/s]\n",
      "100%|███████████████████████████████████████████████████████████████████████████████████████████████████████████████████| 358/358 [00:42<00:00,  8.45it/s]\n"
     ]
    },
    {
     "name": "stdout",
     "output_type": "stream",
     "text": [
      "Trainig acc: 0.983   //   Training loss: 0.0654   //   Test acc: 0.7566   //   Test loss: 1.0557\n",
      "early_stop: 2  /   Best acc: 0.7583798882681564\n",
      "Training task 0 in epoch 20. Batch size: 8.\n"
     ]
    },
    {
     "name": "stderr",
     "output_type": "stream",
     "text": [
      "100%|███████████████████████████████████████████████████████████████████████████████████████████████████████████████████| 375/375 [01:13<00:00,  5.07it/s]\n",
      "100%|███████████████████████████████████████████████████████████████████████████████████████████████████████████████████| 358/358 [00:39<00:00,  9.03it/s]\n"
     ]
    },
    {
     "name": "stdout",
     "output_type": "stream",
     "text": [
      "Trainig acc: 0.987   //   Training loss: 0.0548   //   Test acc: 0.7605   //   Test loss: 1.0360\n",
      "early_stop: 1  /   Best acc: 0.7604748603351955\n",
      "Training task 0 in epoch 21. Batch size: 8.\n"
     ]
    },
    {
     "name": "stderr",
     "output_type": "stream",
     "text": [
      "100%|███████████████████████████████████████████████████████████████████████████████████████████████████████████████████| 375/375 [01:13<00:00,  5.09it/s]\n",
      "100%|███████████████████████████████████████████████████████████████████████████████████████████████████████████████████| 358/358 [00:40<00:00,  8.83it/s]\n"
     ]
    },
    {
     "name": "stdout",
     "output_type": "stream",
     "text": [
      "Trainig acc: 0.9853   //   Training loss: 0.0586   //   Test acc: 0.7636   //   Test loss: 1.0349\n",
      "early_stop: 1  /   Best acc: 0.7636173184357542\n",
      "Training task 0 in epoch 22. Batch size: 8.\n"
     ]
    },
    {
     "name": "stderr",
     "output_type": "stream",
     "text": [
      "100%|███████████████████████████████████████████████████████████████████████████████████████████████████████████████████| 375/375 [01:13<00:00,  5.07it/s]\n",
      "100%|███████████████████████████████████████████████████████████████████████████████████████████████████████████████████| 358/358 [00:39<00:00,  9.01it/s]\n"
     ]
    },
    {
     "name": "stdout",
     "output_type": "stream",
     "text": [
      "Trainig acc: 0.989   //   Training loss: 0.0454   //   Test acc: 0.7594   //   Test loss: 1.0646\n",
      "early_stop: 2  /   Best acc: 0.7636173184357542\n",
      "Training task 0 in epoch 23. Batch size: 8.\n"
     ]
    },
    {
     "name": "stderr",
     "output_type": "stream",
     "text": [
      "100%|███████████████████████████████████████████████████████████████████████████████████████████████████████████████████| 375/375 [01:14<00:00,  5.06it/s]\n",
      "100%|███████████████████████████████████████████████████████████████████████████████████████████████████████████████████| 358/358 [00:40<00:00,  8.90it/s]\n"
     ]
    },
    {
     "name": "stdout",
     "output_type": "stream",
     "text": [
      "Trainig acc: 0.99   //   Training loss: 0.0381   //   Test acc: 0.7563   //   Test loss: 1.0943\n",
      "early_stop: 3  /   Best acc: 0.7636173184357542\n",
      "Training task 0 in epoch 24. Batch size: 8.\n"
     ]
    },
    {
     "name": "stderr",
     "output_type": "stream",
     "text": [
      "100%|███████████████████████████████████████████████████████████████████████████████████████████████████████████████████| 375/375 [01:14<00:00,  5.05it/s]\n",
      "100%|███████████████████████████████████████████████████████████████████████████████████████████████████████████████████| 358/358 [00:39<00:00,  8.96it/s]\n"
     ]
    },
    {
     "name": "stdout",
     "output_type": "stream",
     "text": [
      "Trainig acc: 0.9843   //   Training loss: 0.0534   //   Test acc: 0.7580   //   Test loss: 1.1217\n",
      "early_stop: 4  /   Best acc: 0.7636173184357542\n",
      "Training task 0 in epoch 25. Batch size: 8.\n"
     ]
    },
    {
     "name": "stderr",
     "output_type": "stream",
     "text": [
      "100%|███████████████████████████████████████████████████████████████████████████████████████████████████████████████████| 375/375 [01:14<00:00,  5.05it/s]\n",
      "100%|███████████████████████████████████████████████████████████████████████████████████████████████████████████████████| 358/358 [00:40<00:00,  8.93it/s]\n"
     ]
    },
    {
     "name": "stdout",
     "output_type": "stream",
     "text": [
      "Trainig acc: 0.9893   //   Training loss: 0.0369   //   Test acc: 0.7678   //   Test loss: 1.1081\n",
      "early_stop: 1  /   Best acc: 0.7678072625698324\n",
      "Training task 0 in epoch 26. Batch size: 8.\n"
     ]
    },
    {
     "name": "stderr",
     "output_type": "stream",
     "text": [
      "100%|███████████████████████████████████████████████████████████████████████████████████████████████████████████████████| 375/375 [01:14<00:00,  5.06it/s]\n",
      "100%|███████████████████████████████████████████████████████████████████████████████████████████████████████████████████| 358/358 [00:39<00:00,  9.02it/s]\n"
     ]
    },
    {
     "name": "stdout",
     "output_type": "stream",
     "text": [
      "Trainig acc: 0.9883   //   Training loss: 0.0459   //   Test acc: 0.7605   //   Test loss: 1.0691\n",
      "early_stop: 2  /   Best acc: 0.7678072625698324\n",
      "Training task 0 in epoch 27. Batch size: 8.\n"
     ]
    },
    {
     "name": "stderr",
     "output_type": "stream",
     "text": [
      "100%|███████████████████████████████████████████████████████████████████████████████████████████████████████████████████| 375/375 [01:14<00:00,  5.06it/s]\n",
      "100%|███████████████████████████████████████████████████████████████████████████████████████████████████████████████████| 358/358 [00:39<00:00,  9.08it/s]\n"
     ]
    },
    {
     "name": "stdout",
     "output_type": "stream",
     "text": [
      "Trainig acc: 0.9927   //   Training loss: 0.0326   //   Test acc: 0.7622   //   Test loss: 1.0985\n",
      "early_stop: 3  /   Best acc: 0.7678072625698324\n",
      "Training task 0 in epoch 28. Batch size: 8.\n"
     ]
    },
    {
     "name": "stderr",
     "output_type": "stream",
     "text": [
      "100%|███████████████████████████████████████████████████████████████████████████████████████████████████████████████████| 375/375 [01:14<00:00,  5.06it/s]\n",
      "100%|███████████████████████████████████████████████████████████████████████████████████████████████████████████████████| 358/358 [00:39<00:00,  9.14it/s]\n"
     ]
    },
    {
     "name": "stdout",
     "output_type": "stream",
     "text": [
      "Trainig acc: 0.9917   //   Training loss: 0.0354   //   Test acc: 0.7671   //   Test loss: 1.0894\n",
      "early_stop: 4  /   Best acc: 0.7678072625698324\n",
      "Training task 0 in epoch 29. Batch size: 8.\n"
     ]
    },
    {
     "name": "stderr",
     "output_type": "stream",
     "text": [
      "100%|███████████████████████████████████████████████████████████████████████████████████████████████████████████████████| 375/375 [01:14<00:00,  5.04it/s]\n",
      "100%|███████████████████████████████████████████████████████████████████████████████████████████████████████████████████| 358/358 [00:38<00:00,  9.26it/s]\n"
     ]
    },
    {
     "name": "stdout",
     "output_type": "stream",
     "text": [
      "Trainig acc: 0.993   //   Training loss: 0.0248   //   Test acc: 0.7608   //   Test loss: 1.1046\n",
      "early_stop: 5  /   Best acc: 0.7678072625698324\n",
      "Training task 0 in epoch 30. Batch size: 8.\n"
     ]
    },
    {
     "name": "stderr",
     "output_type": "stream",
     "text": [
      "100%|███████████████████████████████████████████████████████████████████████████████████████████████████████████████████| 375/375 [01:14<00:00,  5.06it/s]\n",
      "100%|███████████████████████████████████████████████████████████████████████████████████████████████████████████████████| 358/358 [00:40<00:00,  8.90it/s]\n"
     ]
    },
    {
     "name": "stdout",
     "output_type": "stream",
     "text": [
      "Trainig acc: 0.9917   //   Training loss: 0.0348   //   Test acc: 0.7483   //   Test loss: 1.1910\n",
      "early_stop: 6  /   Best acc: 0.7678072625698324\n",
      "Training task 0 in epoch 31. Batch size: 8.\n"
     ]
    },
    {
     "name": "stderr",
     "output_type": "stream",
     "text": [
      "100%|███████████████████████████████████████████████████████████████████████████████████████████████████████████████████| 375/375 [01:14<00:00,  5.05it/s]\n",
      "100%|███████████████████████████████████████████████████████████████████████████████████████████████████████████████████| 358/358 [00:39<00:00,  9.09it/s]\n"
     ]
    },
    {
     "name": "stdout",
     "output_type": "stream",
     "text": [
      "Trainig acc: 0.9943   //   Training loss: 0.0251   //   Test acc: 0.7657   //   Test loss: 1.1127\n",
      "early_stop: 7  /   Best acc: 0.7678072625698324\n",
      "Training task 0 in epoch 32. Batch size: 8.\n"
     ]
    },
    {
     "name": "stderr",
     "output_type": "stream",
     "text": [
      "100%|███████████████████████████████████████████████████████████████████████████████████████████████████████████████████| 375/375 [01:14<00:00,  5.05it/s]\n",
      "100%|███████████████████████████████████████████████████████████████████████████████████████████████████████████████████| 358/358 [00:39<00:00,  8.99it/s]\n"
     ]
    },
    {
     "name": "stdout",
     "output_type": "stream",
     "text": [
      "Trainig acc: 0.9963   //   Training loss: 0.0168   //   Test acc: 0.7650   //   Test loss: 1.1350\n",
      "early_stop: 8  /   Best acc: 0.7678072625698324\n",
      "Training task 0 in epoch 33. Batch size: 8.\n"
     ]
    },
    {
     "name": "stderr",
     "output_type": "stream",
     "text": [
      "100%|███████████████████████████████████████████████████████████████████████████████████████████████████████████████████| 375/375 [01:14<00:00,  5.06it/s]\n",
      "100%|███████████████████████████████████████████████████████████████████████████████████████████████████████████████████| 358/358 [00:40<00:00,  8.89it/s]\n"
     ]
    },
    {
     "name": "stdout",
     "output_type": "stream",
     "text": [
      "Trainig acc: 0.9967   //   Training loss: 0.0165   //   Test acc: 0.7598   //   Test loss: 1.1137\n",
      "early_stop: 9  /   Best acc: 0.7678072625698324\n",
      "Training task 0 in epoch 34. Batch size: 8.\n"
     ]
    },
    {
     "name": "stderr",
     "output_type": "stream",
     "text": [
      "100%|███████████████████████████████████████████████████████████████████████████████████████████████████████████████████| 375/375 [01:14<00:00,  5.06it/s]\n",
      "100%|███████████████████████████████████████████████████████████████████████████████████████████████████████████████████| 358/358 [00:39<00:00,  9.05it/s]\n"
     ]
    },
    {
     "name": "stdout",
     "output_type": "stream",
     "text": [
      "Trainig acc: 0.9967   //   Training loss: 0.0138   //   Test acc: 0.7682   //   Test loss: 1.1067\n",
      "early_stop: 1  /   Best acc: 0.7681564245810056\n",
      "Training task 0 in epoch 35. Batch size: 8.\n"
     ]
    },
    {
     "name": "stderr",
     "output_type": "stream",
     "text": [
      "100%|███████████████████████████████████████████████████████████████████████████████████████████████████████████████████| 375/375 [01:14<00:00,  5.04it/s]\n",
      "100%|███████████████████████████████████████████████████████████████████████████████████████████████████████████████████| 358/358 [00:41<00:00,  8.62it/s]\n"
     ]
    },
    {
     "name": "stdout",
     "output_type": "stream",
     "text": [
      "Trainig acc: 0.9963   //   Training loss: 0.0159   //   Test acc: 0.7706   //   Test loss: 1.1145\n",
      "early_stop: 1  /   Best acc: 0.7706005586592178\n",
      "Training task 0 in epoch 36. Batch size: 8.\n"
     ]
    },
    {
     "name": "stderr",
     "output_type": "stream",
     "text": [
      "100%|███████████████████████████████████████████████████████████████████████████████████████████████████████████████████| 375/375 [01:13<00:00,  5.09it/s]\n",
      "100%|███████████████████████████████████████████████████████████████████████████████████████████████████████████████████| 358/358 [00:41<00:00,  8.55it/s]\n"
     ]
    },
    {
     "name": "stdout",
     "output_type": "stream",
     "text": [
      "Trainig acc: 0.9967   //   Training loss: 0.0124   //   Test acc: 0.7696   //   Test loss: 1.1153\n",
      "early_stop: 2  /   Best acc: 0.7706005586592178\n",
      "Training task 0 in epoch 37. Batch size: 8.\n"
     ]
    },
    {
     "name": "stderr",
     "output_type": "stream",
     "text": [
      " 80%|████████████████████████████████████████████████████████████████████████████████████████████▎                      | 301/375 [01:04<00:16,  4.49it/s]wandb: Network error (ConnectionError), entering retry loop.\n",
      "100%|███████████████████████████████████████████████████████████████████████████████████████████████████████████████████| 375/375 [01:20<00:00,  4.65it/s]\n",
      "100%|███████████████████████████████████████████████████████████████████████████████████████████████████████████████████| 358/358 [00:47<00:00,  7.58it/s]\n"
     ]
    },
    {
     "name": "stdout",
     "output_type": "stream",
     "text": [
      "Trainig acc: 0.999   //   Training loss: 0.0100   //   Test acc: 0.7730   //   Test loss: 1.1101\n",
      "early_stop: 1  /   Best acc: 0.7730446927374302\n",
      "Training task 0 in epoch 38. Batch size: 8.\n"
     ]
    },
    {
     "name": "stderr",
     "output_type": "stream",
     "text": [
      "100%|███████████████████████████████████████████████████████████████████████████████████████████████████████████████████| 375/375 [01:22<00:00,  4.52it/s]\n",
      "100%|███████████████████████████████████████████████████████████████████████████████████████████████████████████████████| 358/358 [00:47<00:00,  7.49it/s]\n"
     ]
    },
    {
     "name": "stdout",
     "output_type": "stream",
     "text": [
      "Trainig acc: 0.998   //   Training loss: 0.0111   //   Test acc: 0.7675   //   Test loss: 1.1009\n",
      "early_stop: 2  /   Best acc: 0.7730446927374302\n",
      "Training task 0 in epoch 39. Batch size: 8.\n"
     ]
    },
    {
     "name": "stderr",
     "output_type": "stream",
     "text": [
      "100%|███████████████████████████████████████████████████████████████████████████████████████████████████████████████████| 375/375 [01:22<00:00,  4.57it/s]\n",
      "100%|███████████████████████████████████████████████████████████████████████████████████████████████████████████████████| 358/358 [00:47<00:00,  7.51it/s]\n"
     ]
    },
    {
     "name": "stdout",
     "output_type": "stream",
     "text": [
      "Trainig acc: 0.998   //   Training loss: 0.0119   //   Test acc: 0.7703   //   Test loss: 1.1152\n",
      "early_stop: 3  /   Best acc: 0.7730446927374302\n",
      "Training task 0 in epoch 40. Batch size: 8.\n"
     ]
    },
    {
     "name": "stderr",
     "output_type": "stream",
     "text": [
      "100%|███████████████████████████████████████████████████████████████████████████████████████████████████████████████████| 375/375 [01:22<00:00,  4.54it/s]\n",
      "100%|███████████████████████████████████████████████████████████████████████████████████████████████████████████████████| 358/358 [00:47<00:00,  7.47it/s]\n"
     ]
    },
    {
     "name": "stdout",
     "output_type": "stream",
     "text": [
      "Trainig acc: 0.998   //   Training loss: 0.0108   //   Test acc: 0.7699   //   Test loss: 1.1168\n",
      "early_stop: 4  /   Best acc: 0.7730446927374302\n",
      "Training task 0 in epoch 41. Batch size: 8.\n"
     ]
    },
    {
     "name": "stderr",
     "output_type": "stream",
     "text": [
      "100%|███████████████████████████████████████████████████████████████████████████████████████████████████████████████████| 375/375 [01:22<00:00,  4.52it/s]\n",
      "100%|███████████████████████████████████████████████████████████████████████████████████████████████████████████████████| 358/358 [00:48<00:00,  7.43it/s]\n"
     ]
    },
    {
     "name": "stdout",
     "output_type": "stream",
     "text": [
      "Trainig acc: 0.9967   //   Training loss: 0.0129   //   Test acc: 0.7734   //   Test loss: 1.0993\n",
      "early_stop: 1  /   Best acc: 0.7733938547486033\n",
      "Training task 0 in epoch 42. Batch size: 8.\n"
     ]
    },
    {
     "name": "stderr",
     "output_type": "stream",
     "text": [
      "100%|███████████████████████████████████████████████████████████████████████████████████████████████████████████████████| 375/375 [01:22<00:00,  4.54it/s]\n",
      "100%|███████████████████████████████████████████████████████████████████████████████████████████████████████████████████| 358/358 [00:47<00:00,  7.54it/s]\n"
     ]
    },
    {
     "name": "stdout",
     "output_type": "stream",
     "text": [
      "Trainig acc: 0.9973   //   Training loss: 0.0118   //   Test acc: 0.7685   //   Test loss: 1.1290\n",
      "early_stop: 2  /   Best acc: 0.7733938547486033\n",
      "Training task 0 in epoch 43. Batch size: 8.\n"
     ]
    },
    {
     "name": "stderr",
     "output_type": "stream",
     "text": [
      "100%|███████████████████████████████████████████████████████████████████████████████████████████████████████████████████| 375/375 [01:22<00:00,  4.54it/s]\n",
      "100%|███████████████████████████████████████████████████████████████████████████████████████████████████████████████████| 358/358 [00:47<00:00,  7.47it/s]\n"
     ]
    },
    {
     "name": "stdout",
     "output_type": "stream",
     "text": [
      "Trainig acc: 0.997   //   Training loss: 0.0109   //   Test acc: 0.7762   //   Test loss: 1.1169\n",
      "early_stop: 1  /   Best acc: 0.7761871508379888\n",
      "Training task 0 in epoch 44. Batch size: 8.\n"
     ]
    },
    {
     "name": "stderr",
     "output_type": "stream",
     "text": [
      "100%|███████████████████████████████████████████████████████████████████████████████████████████████████████████████████| 375/375 [01:22<00:00,  4.53it/s]\n",
      "100%|███████████████████████████████████████████████████████████████████████████████████████████████████████████████████| 358/358 [00:47<00:00,  7.53it/s]\n"
     ]
    },
    {
     "name": "stdout",
     "output_type": "stream",
     "text": [
      "Trainig acc: 0.999   //   Training loss: 0.0073   //   Test acc: 0.7748   //   Test loss: 1.1127\n",
      "early_stop: 2  /   Best acc: 0.7761871508379888\n",
      "Training task 0 in epoch 45. Batch size: 8.\n"
     ]
    },
    {
     "name": "stderr",
     "output_type": "stream",
     "text": [
      "100%|███████████████████████████████████████████████████████████████████████████████████████████████████████████████████| 375/375 [01:22<00:00,  4.53it/s]\n",
      "100%|███████████████████████████████████████████████████████████████████████████████████████████████████████████████████| 358/358 [00:47<00:00,  7.52it/s]\n"
     ]
    },
    {
     "name": "stdout",
     "output_type": "stream",
     "text": [
      "Trainig acc: 0.9987   //   Training loss: 0.0089   //   Test acc: 0.7762   //   Test loss: 1.1083\n",
      "early_stop: 3  /   Best acc: 0.7761871508379888\n",
      "Training task 0 in epoch 46. Batch size: 8.\n"
     ]
    },
    {
     "name": "stderr",
     "output_type": "stream",
     "text": [
      "100%|███████████████████████████████████████████████████████████████████████████████████████████████████████████████████| 375/375 [01:22<00:00,  4.52it/s]\n",
      "100%|███████████████████████████████████████████████████████████████████████████████████████████████████████████████████| 358/358 [00:47<00:00,  7.51it/s]\n"
     ]
    },
    {
     "name": "stdout",
     "output_type": "stream",
     "text": [
      "Trainig acc: 0.999   //   Training loss: 0.0058   //   Test acc: 0.7720   //   Test loss: 1.1320\n",
      "early_stop: 4  /   Best acc: 0.7761871508379888\n",
      "Training task 0 in epoch 47. Batch size: 8.\n"
     ]
    },
    {
     "name": "stderr",
     "output_type": "stream",
     "text": [
      "100%|███████████████████████████████████████████████████████████████████████████████████████████████████████████████████| 375/375 [01:22<00:00,  4.54it/s]\n",
      "100%|███████████████████████████████████████████████████████████████████████████████████████████████████████████████████| 358/358 [00:47<00:00,  7.48it/s]\n"
     ]
    },
    {
     "name": "stdout",
     "output_type": "stream",
     "text": [
      "Trainig acc: 0.997   //   Training loss: 0.0095   //   Test acc: 0.7720   //   Test loss: 1.1123\n",
      "early_stop: 5  /   Best acc: 0.7761871508379888\n",
      "Training task 0 in epoch 48. Batch size: 8.\n"
     ]
    },
    {
     "name": "stderr",
     "output_type": "stream",
     "text": [
      "100%|███████████████████████████████████████████████████████████████████████████████████████████████████████████████████| 375/375 [01:23<00:00,  4.50it/s]\n",
      "100%|███████████████████████████████████████████████████████████████████████████████████████████████████████████████████| 358/358 [00:47<00:00,  7.60it/s]\n"
     ]
    },
    {
     "name": "stdout",
     "output_type": "stream",
     "text": [
      "Trainig acc: 0.9983   //   Training loss: 0.0082   //   Test acc: 0.7744   //   Test loss: 1.1200\n",
      "early_stop: 6  /   Best acc: 0.7761871508379888\n",
      "Training task 0 in epoch 49. Batch size: 8.\n"
     ]
    },
    {
     "name": "stderr",
     "output_type": "stream",
     "text": [
      "100%|███████████████████████████████████████████████████████████████████████████████████████████████████████████████████| 375/375 [01:23<00:00,  4.51it/s]\n",
      "100%|███████████████████████████████████████████████████████████████████████████████████████████████████████████████████| 358/358 [00:47<00:00,  7.47it/s]\n"
     ]
    },
    {
     "name": "stdout",
     "output_type": "stream",
     "text": [
      "Trainig acc: 0.9983   //   Training loss: 0.0074   //   Test acc: 0.7751   //   Test loss: 1.1346\n",
      "early_stop: 7  /   Best acc: 0.7761871508379888\n",
      "Training task 0 in epoch 50. Batch size: 8.\n"
     ]
    },
    {
     "name": "stderr",
     "output_type": "stream",
     "text": [
      "100%|███████████████████████████████████████████████████████████████████████████████████████████████████████████████████| 375/375 [01:22<00:00,  4.52it/s]\n",
      "100%|███████████████████████████████████████████████████████████████████████████████████████████████████████████████████| 358/358 [00:47<00:00,  7.49it/s]\n"
     ]
    },
    {
     "name": "stdout",
     "output_type": "stream",
     "text": [
      "Trainig acc: 0.9977   //   Training loss: 0.0089   //   Test acc: 0.7765   //   Test loss: 1.1208\n",
      "early_stop: 1  /   Best acc: 0.776536312849162\n",
      "Training task 0 in epoch 51. Batch size: 8.\n"
     ]
    },
    {
     "name": "stderr",
     "output_type": "stream",
     "text": [
      "100%|███████████████████████████████████████████████████████████████████████████████████████████████████████████████████| 375/375 [01:22<00:00,  4.55it/s]\n",
      "100%|███████████████████████████████████████████████████████████████████████████████████████████████████████████████████| 358/358 [00:47<00:00,  7.49it/s]\n"
     ]
    },
    {
     "name": "stdout",
     "output_type": "stream",
     "text": [
      "Trainig acc: 0.9997   //   Training loss: 0.0062   //   Test acc: 0.7723   //   Test loss: 1.1337\n",
      "early_stop: 2  /   Best acc: 0.776536312849162\n",
      "Training task 0 in epoch 52. Batch size: 8.\n"
     ]
    },
    {
     "name": "stderr",
     "output_type": "stream",
     "text": [
      "100%|███████████████████████████████████████████████████████████████████████████████████████████████████████████████████| 375/375 [01:22<00:00,  4.54it/s]\n",
      "100%|███████████████████████████████████████████████████████████████████████████████████████████████████████████████████| 358/358 [00:47<00:00,  7.59it/s]\n"
     ]
    },
    {
     "name": "stdout",
     "output_type": "stream",
     "text": [
      "Trainig acc: 0.9993   //   Training loss: 0.0072   //   Test acc: 0.7769   //   Test loss: 1.1163\n",
      "early_stop: 1  /   Best acc: 0.7768854748603352\n",
      "Training task 0 in epoch 53. Batch size: 8.\n"
     ]
    },
    {
     "name": "stderr",
     "output_type": "stream",
     "text": [
      "100%|███████████████████████████████████████████████████████████████████████████████████████████████████████████████████| 375/375 [01:23<00:00,  4.51it/s]\n",
      "100%|███████████████████████████████████████████████████████████████████████████████████████████████████████████████████| 358/358 [00:48<00:00,  7.43it/s]\n"
     ]
    },
    {
     "name": "stdout",
     "output_type": "stream",
     "text": [
      "Trainig acc: 0.9997   //   Training loss: 0.0057   //   Test acc: 0.7734   //   Test loss: 1.1282\n",
      "early_stop: 2  /   Best acc: 0.7768854748603352\n",
      "Training task 0 in epoch 54. Batch size: 8.\n"
     ]
    },
    {
     "name": "stderr",
     "output_type": "stream",
     "text": [
      "100%|███████████████████████████████████████████████████████████████████████████████████████████████████████████████████| 375/375 [01:22<00:00,  4.55it/s]\n",
      "100%|███████████████████████████████████████████████████████████████████████████████████████████████████████████████████| 358/358 [00:47<00:00,  7.47it/s]\n"
     ]
    },
    {
     "name": "stdout",
     "output_type": "stream",
     "text": [
      "Trainig acc: 0.999   //   Training loss: 0.0076   //   Test acc: 0.7741   //   Test loss: 1.1214\n",
      "early_stop: 3  /   Best acc: 0.7768854748603352\n",
      "Training task 0 in epoch 55. Batch size: 8.\n"
     ]
    },
    {
     "name": "stderr",
     "output_type": "stream",
     "text": [
      "100%|███████████████████████████████████████████████████████████████████████████████████████████████████████████████████| 375/375 [01:22<00:00,  4.52it/s]\n",
      "100%|███████████████████████████████████████████████████████████████████████████████████████████████████████████████████| 358/358 [00:47<00:00,  7.55it/s]\n"
     ]
    },
    {
     "name": "stdout",
     "output_type": "stream",
     "text": [
      "Trainig acc: 0.998   //   Training loss: 0.0082   //   Test acc: 0.7706   //   Test loss: 1.1360\n",
      "early_stop: 4  /   Best acc: 0.7768854748603352\n",
      "Training task 0 in epoch 56. Batch size: 8.\n"
     ]
    },
    {
     "name": "stderr",
     "output_type": "stream",
     "text": [
      "100%|███████████████████████████████████████████████████████████████████████████████████████████████████████████████████| 375/375 [01:23<00:00,  4.52it/s]\n",
      "100%|███████████████████████████████████████████████████████████████████████████████████████████████████████████████████| 358/358 [00:48<00:00,  7.43it/s]\n"
     ]
    },
    {
     "name": "stdout",
     "output_type": "stream",
     "text": [
      "Trainig acc: 0.9967   //   Training loss: 0.0089   //   Test acc: 0.7765   //   Test loss: 1.1208\n",
      "early_stop: 5  /   Best acc: 0.7768854748603352\n",
      "Training task 0 in epoch 57. Batch size: 8.\n"
     ]
    },
    {
     "name": "stderr",
     "output_type": "stream",
     "text": [
      "100%|███████████████████████████████████████████████████████████████████████████████████████████████████████████████████| 375/375 [01:20<00:00,  4.67it/s]\n",
      "100%|███████████████████████████████████████████████████████████████████████████████████████████████████████████████████| 358/358 [00:40<00:00,  8.95it/s]\n"
     ]
    },
    {
     "name": "stdout",
     "output_type": "stream",
     "text": [
      "Trainig acc: 0.9987   //   Training loss: 0.0072   //   Test acc: 0.7751   //   Test loss: 1.1109\n",
      "early_stop: 6  /   Best acc: 0.7768854748603352\n",
      "Training task 0 in epoch 58. Batch size: 8.\n"
     ]
    },
    {
     "name": "stderr",
     "output_type": "stream",
     "text": [
      "100%|███████████████████████████████████████████████████████████████████████████████████████████████████████████████████| 375/375 [01:14<00:00,  5.05it/s]\n",
      "100%|███████████████████████████████████████████████████████████████████████████████████████████████████████████████████| 358/358 [00:38<00:00,  9.20it/s]\n"
     ]
    },
    {
     "name": "stdout",
     "output_type": "stream",
     "text": [
      "Trainig acc: 0.999   //   Training loss: 0.0048   //   Test acc: 0.7744   //   Test loss: 1.1094\n",
      "early_stop: 7  /   Best acc: 0.7768854748603352\n",
      "Training task 0 in epoch 59. Batch size: 8.\n"
     ]
    },
    {
     "name": "stderr",
     "output_type": "stream",
     "text": [
      "100%|███████████████████████████████████████████████████████████████████████████████████████████████████████████████████| 375/375 [01:14<00:00,  5.04it/s]\n",
      "  1%|▉                                                                                                                    | 3/358 [00:00<00:48,  7.34it/s]\u001b[34m\u001b[1mwandb\u001b[0m: Network error resolved after 0:48:41.188122, resuming normal operation.\n",
      "100%|███████████████████████████████████████████████████████████████████████████████████████████████████████████████████| 358/358 [00:42<00:00,  8.40it/s]\n"
     ]
    },
    {
     "name": "stdout",
     "output_type": "stream",
     "text": [
      "Trainig acc: 0.999   //   Training loss: 0.0062   //   Test acc: 0.7741   //   Test loss: 1.1090\n",
      "early_stop: 8  /   Best acc: 0.7768854748603352\n",
      "Training task 0 in epoch 60. Batch size: 8.\n"
     ]
    },
    {
     "name": "stderr",
     "output_type": "stream",
     "text": [
      "100%|███████████████████████████████████████████████████████████████████████████████████████████████████████████████████| 375/375 [01:14<00:00,  5.06it/s]\n",
      "100%|███████████████████████████████████████████████████████████████████████████████████████████████████████████████████| 358/358 [00:39<00:00,  9.09it/s]\n"
     ]
    },
    {
     "name": "stdout",
     "output_type": "stream",
     "text": [
      "Trainig acc: 0.998   //   Training loss: 0.0087   //   Test acc: 0.7776   //   Test loss: 1.1111\n",
      "early_stop: 1  /   Best acc: 0.7775837988826816\n",
      "Training task 0 in epoch 61. Batch size: 8.\n"
     ]
    },
    {
     "name": "stderr",
     "output_type": "stream",
     "text": [
      "100%|███████████████████████████████████████████████████████████████████████████████████████████████████████████████████| 375/375 [01:14<00:00,  5.05it/s]\n",
      "100%|███████████████████████████████████████████████████████████████████████████████████████████████████████████████████| 358/358 [00:41<00:00,  8.65it/s]\n"
     ]
    },
    {
     "name": "stdout",
     "output_type": "stream",
     "text": [
      "Trainig acc: 0.999   //   Training loss: 0.0066   //   Test acc: 0.7744   //   Test loss: 1.1092\n",
      "early_stop: 2  /   Best acc: 0.7775837988826816\n",
      "Training task 0 in epoch 62. Batch size: 8.\n"
     ]
    },
    {
     "name": "stderr",
     "output_type": "stream",
     "text": [
      "100%|███████████████████████████████████████████████████████████████████████████████████████████████████████████████████| 375/375 [01:14<00:00,  5.06it/s]\n",
      "100%|███████████████████████████████████████████████████████████████████████████████████████████████████████████████████| 358/358 [00:38<00:00,  9.29it/s]\n"
     ]
    },
    {
     "name": "stdout",
     "output_type": "stream",
     "text": [
      "Trainig acc: 0.999   //   Training loss: 0.0057   //   Test acc: 0.7776   //   Test loss: 1.1082\n",
      "early_stop: 3  /   Best acc: 0.7775837988826816\n",
      "Training task 0 in epoch 63. Batch size: 8.\n"
     ]
    },
    {
     "name": "stderr",
     "output_type": "stream",
     "text": [
      "100%|███████████████████████████████████████████████████████████████████████████████████████████████████████████████████| 375/375 [01:14<00:00,  5.06it/s]\n",
      "100%|███████████████████████████████████████████████████████████████████████████████████████████████████████████████████| 358/358 [00:39<00:00,  9.07it/s]\n"
     ]
    },
    {
     "name": "stdout",
     "output_type": "stream",
     "text": [
      "Trainig acc: 0.9997   //   Training loss: 0.0054   //   Test acc: 0.7737   //   Test loss: 1.0994\n",
      "early_stop: 4  /   Best acc: 0.7775837988826816\n",
      "Training task 0 in epoch 64. Batch size: 8.\n"
     ]
    },
    {
     "name": "stderr",
     "output_type": "stream",
     "text": [
      "100%|███████████████████████████████████████████████████████████████████████████████████████████████████████████████████| 375/375 [01:14<00:00,  5.06it/s]\n",
      "100%|███████████████████████████████████████████████████████████████████████████████████████████████████████████████████| 358/358 [00:40<00:00,  8.85it/s]\n"
     ]
    },
    {
     "name": "stdout",
     "output_type": "stream",
     "text": [
      "Trainig acc: 0.999   //   Training loss: 0.0061   //   Test acc: 0.7783   //   Test loss: 1.1005\n",
      "early_stop: 1  /   Best acc: 0.778282122905028\n",
      "Training task 0 in epoch 65. Batch size: 8.\n"
     ]
    },
    {
     "name": "stderr",
     "output_type": "stream",
     "text": [
      "100%|███████████████████████████████████████████████████████████████████████████████████████████████████████████████████| 375/375 [01:13<00:00,  5.09it/s]\n",
      "100%|███████████████████████████████████████████████████████████████████████████████████████████████████████████████████| 358/358 [00:40<00:00,  8.88it/s]\n"
     ]
    },
    {
     "name": "stdout",
     "output_type": "stream",
     "text": [
      "Trainig acc: 0.997   //   Training loss: 0.0097   //   Test acc: 0.7776   //   Test loss: 1.1216\n",
      "early_stop: 2  /   Best acc: 0.778282122905028\n",
      "Training task 0 in epoch 66. Batch size: 8.\n"
     ]
    },
    {
     "name": "stderr",
     "output_type": "stream",
     "text": [
      "100%|███████████████████████████████████████████████████████████████████████████████████████████████████████████████████| 375/375 [01:14<00:00,  5.07it/s]\n",
      "100%|███████████████████████████████████████████████████████████████████████████████████████████████████████████████████| 358/358 [00:39<00:00,  9.07it/s]\n"
     ]
    },
    {
     "name": "stdout",
     "output_type": "stream",
     "text": [
      "Trainig acc: 0.9987   //   Training loss: 0.0072   //   Test acc: 0.7727   //   Test loss: 1.1187\n",
      "early_stop: 3  /   Best acc: 0.778282122905028\n",
      "Training task 0 in epoch 67. Batch size: 8.\n"
     ]
    },
    {
     "name": "stderr",
     "output_type": "stream",
     "text": [
      "100%|███████████████████████████████████████████████████████████████████████████████████████████████████████████████████| 375/375 [01:13<00:00,  5.07it/s]\n",
      "100%|███████████████████████████████████████████████████████████████████████████████████████████████████████████████████| 358/358 [00:40<00:00,  8.95it/s]\n"
     ]
    },
    {
     "name": "stdout",
     "output_type": "stream",
     "text": [
      "Trainig acc: 0.999   //   Training loss: 0.0069   //   Test acc: 0.7723   //   Test loss: 1.1227\n",
      "early_stop: 4  /   Best acc: 0.778282122905028\n",
      "Training task 0 in epoch 68. Batch size: 8.\n"
     ]
    },
    {
     "name": "stderr",
     "output_type": "stream",
     "text": [
      "100%|███████████████████████████████████████████████████████████████████████████████████████████████████████████████████| 375/375 [01:14<00:00,  5.06it/s]\n",
      "100%|███████████████████████████████████████████████████████████████████████████████████████████████████████████████████| 358/358 [00:39<00:00,  9.13it/s]\n"
     ]
    },
    {
     "name": "stdout",
     "output_type": "stream",
     "text": [
      "Trainig acc: 0.9997   //   Training loss: 0.0059   //   Test acc: 0.7720   //   Test loss: 1.1215\n",
      "early_stop: 5  /   Best acc: 0.778282122905028\n",
      "Training task 0 in epoch 69. Batch size: 8.\n"
     ]
    },
    {
     "name": "stderr",
     "output_type": "stream",
     "text": [
      "100%|███████████████████████████████████████████████████████████████████████████████████████████████████████████████████| 375/375 [01:14<00:00,  5.07it/s]\n",
      "100%|███████████████████████████████████████████████████████████████████████████████████████████████████████████████████| 358/358 [00:39<00:00,  9.15it/s]\n"
     ]
    },
    {
     "name": "stdout",
     "output_type": "stream",
     "text": [
      "Trainig acc: 0.9973   //   Training loss: 0.0085   //   Test acc: 0.7741   //   Test loss: 1.1374\n",
      "early_stop: 6  /   Best acc: 0.778282122905028\n",
      "Training task 0 in epoch 70. Batch size: 8.\n"
     ]
    },
    {
     "name": "stderr",
     "output_type": "stream",
     "text": [
      "100%|███████████████████████████████████████████████████████████████████████████████████████████████████████████████████| 375/375 [01:14<00:00,  5.06it/s]\n",
      "100%|███████████████████████████████████████████████████████████████████████████████████████████████████████████████████| 358/358 [00:39<00:00,  9.08it/s]\n"
     ]
    },
    {
     "name": "stdout",
     "output_type": "stream",
     "text": [
      "Trainig acc: 0.9977   //   Training loss: 0.0093   //   Test acc: 0.7727   //   Test loss: 1.1148\n",
      "early_stop: 7  /   Best acc: 0.778282122905028\n",
      "Training task 0 in epoch 71. Batch size: 8.\n"
     ]
    },
    {
     "name": "stderr",
     "output_type": "stream",
     "text": [
      "100%|███████████████████████████████████████████████████████████████████████████████████████████████████████████████████| 375/375 [01:14<00:00,  5.06it/s]\n",
      "100%|███████████████████████████████████████████████████████████████████████████████████████████████████████████████████| 358/358 [00:39<00:00,  9.13it/s]\n"
     ]
    },
    {
     "name": "stdout",
     "output_type": "stream",
     "text": [
      "Trainig acc: 0.9993   //   Training loss: 0.0060   //   Test acc: 0.7772   //   Test loss: 1.1002\n",
      "early_stop: 8  /   Best acc: 0.778282122905028\n",
      "Training task 0 in epoch 72. Batch size: 8.\n"
     ]
    },
    {
     "name": "stderr",
     "output_type": "stream",
     "text": [
      "100%|███████████████████████████████████████████████████████████████████████████████████████████████████████████████████| 375/375 [01:13<00:00,  5.07it/s]\n",
      "100%|███████████████████████████████████████████████████████████████████████████████████████████████████████████████████| 358/358 [00:39<00:00,  9.07it/s]\n"
     ]
    },
    {
     "name": "stdout",
     "output_type": "stream",
     "text": [
      "Trainig acc: 0.9987   //   Training loss: 0.0074   //   Test acc: 0.7741   //   Test loss: 1.1273\n",
      "early_stop: 9  /   Best acc: 0.778282122905028\n",
      "Training task 0 in epoch 73. Batch size: 8.\n"
     ]
    },
    {
     "name": "stderr",
     "output_type": "stream",
     "text": [
      "100%|███████████████████████████████████████████████████████████████████████████████████████████████████████████████████| 375/375 [01:13<00:00,  5.07it/s]\n",
      "100%|███████████████████████████████████████████████████████████████████████████████████████████████████████████████████| 358/358 [00:39<00:00,  8.99it/s]\n"
     ]
    },
    {
     "name": "stdout",
     "output_type": "stream",
     "text": [
      "Trainig acc: 0.9987   //   Training loss: 0.0071   //   Test acc: 0.7755   //   Test loss: 1.1190\n",
      "early_stop: 10  /   Best acc: 0.778282122905028\n",
      "Training task 0 in epoch 74. Batch size: 8.\n"
     ]
    },
    {
     "name": "stderr",
     "output_type": "stream",
     "text": [
      "100%|███████████████████████████████████████████████████████████████████████████████████████████████████████████████████| 375/375 [01:14<00:00,  5.06it/s]\n",
      "100%|███████████████████████████████████████████████████████████████████████████████████████████████████████████████████| 358/358 [00:38<00:00,  9.29it/s]\n"
     ]
    },
    {
     "name": "stdout",
     "output_type": "stream",
     "text": [
      "Trainig acc: 0.9983   //   Training loss: 0.0076   //   Test acc: 0.7723   //   Test loss: 1.1323\n",
      "early_stop: 11  /   Best acc: 0.778282122905028\n",
      "Training task 0 in epoch 75. Batch size: 8.\n"
     ]
    },
    {
     "name": "stderr",
     "output_type": "stream",
     "text": [
      "100%|███████████████████████████████████████████████████████████████████████████████████████████████████████████████████| 375/375 [01:14<00:00,  5.07it/s]\n",
      "100%|███████████████████████████████████████████████████████████████████████████████████████████████████████████████████| 358/358 [00:40<00:00,  8.74it/s]\n"
     ]
    },
    {
     "name": "stdout",
     "output_type": "stream",
     "text": [
      "---------------------------------------- TASK_1 ----------------------------------------\n",
      "Training task 1 in epoch 0. Batch size: 8.\n"
     ]
    },
    {
     "name": "stderr",
     "output_type": "stream",
     "text": [
      "100%|█████████████████████████████████████████████████████████████████████████████████████████████████████████████████████| 94/94 [00:19<00:00,  4.92it/s]\n",
      "100%|█████████████████████████████████████████████████████████████████████████████████████████████████████████████████████| 90/90 [00:09<00:00,  9.08it/s]\n"
     ]
    },
    {
     "name": "stdout",
     "output_type": "stream",
     "text": [
      "Trainig acc: 0.05585   //   Training loss: 4.7699   //   Test acc: 0.1961   //   Test loss: 3.3262\n",
      "early_stop: 1  /   Best acc: 0.19607843137254902\n",
      "Training task 1 in epoch 1. Batch size: 8.\n"
     ]
    },
    {
     "name": "stderr",
     "output_type": "stream",
     "text": [
      "100%|█████████████████████████████████████████████████████████████████████████████████████████████████████████████████████| 94/94 [00:18<00:00,  4.99it/s]\n",
      "100%|█████████████████████████████████████████████████████████████████████████████████████████████████████████████████████| 90/90 [00:09<00:00,  9.20it/s]\n"
     ]
    },
    {
     "name": "stdout",
     "output_type": "stream",
     "text": [
      "Trainig acc: 0.254   //   Training loss: 2.7208   //   Test acc: 0.4720   //   Test loss: 2.0512\n",
      "early_stop: 1  /   Best acc: 0.47198879551820727\n",
      "Training task 1 in epoch 2. Batch size: 8.\n"
     ]
    },
    {
     "name": "stderr",
     "output_type": "stream",
     "text": [
      "100%|█████████████████████████████████████████████████████████████████████████████████████████████████████████████████████| 94/94 [00:18<00:00,  5.00it/s]\n",
      "100%|█████████████████████████████████████████████████████████████████████████████████████████████████████████████████████| 90/90 [00:10<00:00,  8.80it/s]\n"
     ]
    },
    {
     "name": "stdout",
     "output_type": "stream",
     "text": [
      "Trainig acc: 0.4867   //   Training loss: 1.8449   //   Test acc: 0.5518   //   Test loss: 1.5713\n",
      "early_stop: 1  /   Best acc: 0.5518207282913166\n",
      "Training task 1 in epoch 3. Batch size: 8.\n"
     ]
    },
    {
     "name": "stderr",
     "output_type": "stream",
     "text": [
      "100%|█████████████████████████████████████████████████████████████████████████████████████████████████████████████████████| 94/94 [00:18<00:00,  4.99it/s]\n",
      "100%|█████████████████████████████████████████████████████████████████████████████████████████████████████████████████████| 90/90 [00:10<00:00,  8.65it/s]\n"
     ]
    },
    {
     "name": "stdout",
     "output_type": "stream",
     "text": [
      "Trainig acc: 0.5891   //   Training loss: 1.3930   //   Test acc: 0.6317   //   Test loss: 1.2828\n",
      "early_stop: 1  /   Best acc: 0.6316526610644257\n",
      "Training task 1 in epoch 4. Batch size: 8.\n"
     ]
    },
    {
     "name": "stderr",
     "output_type": "stream",
     "text": [
      "100%|█████████████████████████████████████████████████████████████████████████████████████████████████████████████████████| 94/94 [00:18<00:00,  4.97it/s]\n",
      "100%|█████████████████████████████████████████████████████████████████████████████████████████████████████████████████████| 90/90 [00:09<00:00,  9.21it/s]\n"
     ]
    },
    {
     "name": "stdout",
     "output_type": "stream",
     "text": [
      "Trainig acc: 0.6782   //   Training loss: 1.0720   //   Test acc: 0.6373   //   Test loss: 1.1549\n",
      "early_stop: 1  /   Best acc: 0.6372549019607843\n",
      "Training task 1 in epoch 5. Batch size: 8.\n"
     ]
    },
    {
     "name": "stderr",
     "output_type": "stream",
     "text": [
      "100%|█████████████████████████████████████████████████████████████████████████████████████████████████████████████████████| 94/94 [00:18<00:00,  5.00it/s]\n",
      "100%|█████████████████████████████████████████████████████████████████████████████████████████████████████████████████████| 90/90 [00:09<00:00,  9.05it/s]\n"
     ]
    },
    {
     "name": "stdout",
     "output_type": "stream",
     "text": [
      "Trainig acc: 0.7434   //   Training loss: 0.8565   //   Test acc: 0.6611   //   Test loss: 1.0712\n",
      "early_stop: 1  /   Best acc: 0.6610644257703081\n",
      "Training task 1 in epoch 6. Batch size: 8.\n"
     ]
    },
    {
     "name": "stderr",
     "output_type": "stream",
     "text": [
      "100%|█████████████████████████████████████████████████████████████████████████████████████████████████████████████████████| 94/94 [00:18<00:00,  4.99it/s]\n",
      "100%|█████████████████████████████████████████████████████████████████████████████████████████████████████████████████████| 90/90 [00:10<00:00,  8.93it/s]\n"
     ]
    },
    {
     "name": "stdout",
     "output_type": "stream",
     "text": [
      "Trainig acc: 0.8059   //   Training loss: 0.6522   //   Test acc: 0.6765   //   Test loss: 1.0545\n",
      "early_stop: 1  /   Best acc: 0.6764705882352942\n",
      "Training task 1 in epoch 7. Batch size: 8.\n"
     ]
    },
    {
     "name": "stderr",
     "output_type": "stream",
     "text": [
      "100%|█████████████████████████████████████████████████████████████████████████████████████████████████████████████████████| 94/94 [00:18<00:00,  4.95it/s]\n",
      "100%|█████████████████████████████████████████████████████████████████████████████████████████████████████████████████████| 90/90 [00:10<00:00,  8.80it/s]\n"
     ]
    },
    {
     "name": "stdout",
     "output_type": "stream",
     "text": [
      "Trainig acc: 0.8471   //   Training loss: 0.5073   //   Test acc: 0.6989   //   Test loss: 0.9631\n",
      "early_stop: 1  /   Best acc: 0.6988795518207283\n",
      "Training task 1 in epoch 8. Batch size: 8.\n"
     ]
    },
    {
     "name": "stderr",
     "output_type": "stream",
     "text": [
      "100%|█████████████████████████████████████████████████████████████████████████████████████████████████████████████████████| 94/94 [00:18<00:00,  5.08it/s]\n",
      "100%|█████████████████████████████████████████████████████████████████████████████████████████████████████████████████████| 90/90 [00:10<00:00,  8.86it/s]\n"
     ]
    },
    {
     "name": "stdout",
     "output_type": "stream",
     "text": [
      "Trainig acc: 0.8923   //   Training loss: 0.4078   //   Test acc: 0.6863   //   Test loss: 1.0151\n",
      "early_stop: 2  /   Best acc: 0.6988795518207283\n",
      "Training task 1 in epoch 9. Batch size: 8.\n"
     ]
    },
    {
     "name": "stderr",
     "output_type": "stream",
     "text": [
      "100%|█████████████████████████████████████████████████████████████████████████████████████████████████████████████████████| 94/94 [00:18<00:00,  4.97it/s]\n",
      "100%|█████████████████████████████████████████████████████████████████████████████████████████████████████████████████████| 90/90 [00:09<00:00,  9.03it/s]\n"
     ]
    },
    {
     "name": "stdout",
     "output_type": "stream",
     "text": [
      "Trainig acc: 0.8843   //   Training loss: 0.3592   //   Test acc: 0.6933   //   Test loss: 0.9992\n",
      "early_stop: 3  /   Best acc: 0.6988795518207283\n",
      "Training task 1 in epoch 10. Batch size: 8.\n"
     ]
    },
    {
     "name": "stderr",
     "output_type": "stream",
     "text": [
      "100%|█████████████████████████████████████████████████████████████████████████████████████████████████████████████████████| 94/94 [00:18<00:00,  4.97it/s]\n",
      "100%|█████████████████████████████████████████████████████████████████████████████████████████████████████████████████████| 90/90 [00:09<00:00,  9.40it/s]\n"
     ]
    },
    {
     "name": "stdout",
     "output_type": "stream",
     "text": [
      "Trainig acc: 0.9176   //   Training loss: 0.2825   //   Test acc: 0.7129   //   Test loss: 0.9932\n",
      "early_stop: 1  /   Best acc: 0.7128851540616247\n",
      "Training task 1 in epoch 11. Batch size: 8.\n"
     ]
    },
    {
     "name": "stderr",
     "output_type": "stream",
     "text": [
      "100%|█████████████████████████████████████████████████████████████████████████████████████████████████████████████████████| 94/94 [00:18<00:00,  4.97it/s]\n",
      "100%|█████████████████████████████████████████████████████████████████████████████████████████████████████████████████████| 90/90 [00:09<00:00,  9.22it/s]\n"
     ]
    },
    {
     "name": "stdout",
     "output_type": "stream",
     "text": [
      "Trainig acc: 0.9481   //   Training loss: 0.2072   //   Test acc: 0.7143   //   Test loss: 0.9267\n",
      "early_stop: 1  /   Best acc: 0.7142857142857143\n",
      "Training task 1 in epoch 12. Batch size: 8.\n"
     ]
    },
    {
     "name": "stderr",
     "output_type": "stream",
     "text": [
      "100%|█████████████████████████████████████████████████████████████████████████████████████████████████████████████████████| 94/94 [00:18<00:00,  5.04it/s]\n",
      "100%|█████████████████████████████████████████████████████████████████████████████████████████████████████████████████████| 90/90 [00:10<00:00,  8.78it/s]\n"
     ]
    },
    {
     "name": "stdout",
     "output_type": "stream",
     "text": [
      "Trainig acc: 0.9495   //   Training loss: 0.1881   //   Test acc: 0.7157   //   Test loss: 0.9554\n",
      "early_stop: 1  /   Best acc: 0.7156862745098039\n",
      "Training task 1 in epoch 13. Batch size: 8.\n"
     ]
    },
    {
     "name": "stderr",
     "output_type": "stream",
     "text": [
      "100%|█████████████████████████████████████████████████████████████████████████████████████████████████████████████████████| 94/94 [00:18<00:00,  4.95it/s]\n",
      "100%|█████████████████████████████████████████████████████████████████████████████████████████████████████████████████████| 90/90 [00:10<00:00,  8.95it/s]\n"
     ]
    },
    {
     "name": "stdout",
     "output_type": "stream",
     "text": [
      "Trainig acc: 0.9668   //   Training loss: 0.1379   //   Test acc: 0.7311   //   Test loss: 0.9631\n",
      "early_stop: 1  /   Best acc: 0.7310924369747899\n",
      "Training task 1 in epoch 14. Batch size: 8.\n"
     ]
    },
    {
     "name": "stderr",
     "output_type": "stream",
     "text": [
      "100%|█████████████████████████████████████████████████████████████████████████████████████████████████████████████████████| 94/94 [00:18<00:00,  4.97it/s]\n",
      "100%|█████████████████████████████████████████████████████████████████████████████████████████████████████████████████████| 90/90 [00:09<00:00,  9.04it/s]\n"
     ]
    },
    {
     "name": "stdout",
     "output_type": "stream",
     "text": [
      "Trainig acc: 0.9721   //   Training loss: 0.1028   //   Test acc: 0.7423   //   Test loss: 0.9372\n",
      "early_stop: 1  /   Best acc: 0.742296918767507\n",
      "Training task 1 in epoch 15. Batch size: 8.\n"
     ]
    },
    {
     "name": "stderr",
     "output_type": "stream",
     "text": [
      "100%|█████████████████████████████████████████████████████████████████████████████████████████████████████████████████████| 94/94 [00:18<00:00,  4.98it/s]\n",
      "100%|█████████████████████████████████████████████████████████████████████████████████████████████████████████████████████| 90/90 [00:10<00:00,  8.56it/s]\n"
     ]
    },
    {
     "name": "stdout",
     "output_type": "stream",
     "text": [
      "Trainig acc: 0.9721   //   Training loss: 0.1037   //   Test acc: 0.7213   //   Test loss: 0.9764\n",
      "early_stop: 2  /   Best acc: 0.742296918767507\n",
      "Training task 1 in epoch 16. Batch size: 8.\n"
     ]
    },
    {
     "name": "stderr",
     "output_type": "stream",
     "text": [
      "100%|█████████████████████████████████████████████████████████████████████████████████████████████████████████████████████| 94/94 [00:19<00:00,  4.94it/s]\n",
      "100%|█████████████████████████████████████████████████████████████████████████████████████████████████████████████████████| 90/90 [00:10<00:00,  8.96it/s]\n"
     ]
    },
    {
     "name": "stdout",
     "output_type": "stream",
     "text": [
      "Trainig acc: 0.9761   //   Training loss: 0.0784   //   Test acc: 0.7395   //   Test loss: 0.9541\n",
      "early_stop: 3  /   Best acc: 0.742296918767507\n",
      "Training task 1 in epoch 17. Batch size: 8.\n"
     ]
    },
    {
     "name": "stderr",
     "output_type": "stream",
     "text": [
      "100%|█████████████████████████████████████████████████████████████████████████████████████████████████████████████████████| 94/94 [00:19<00:00,  4.92it/s]\n",
      "100%|█████████████████████████████████████████████████████████████████████████████████████████████████████████████████████| 90/90 [00:09<00:00,  9.16it/s]\n"
     ]
    },
    {
     "name": "stdout",
     "output_type": "stream",
     "text": [
      "Trainig acc: 0.984   //   Training loss: 0.0614   //   Test acc: 0.7199   //   Test loss: 1.0152\n",
      "early_stop: 4  /   Best acc: 0.742296918767507\n",
      "Training task 1 in epoch 18. Batch size: 8.\n"
     ]
    },
    {
     "name": "stderr",
     "output_type": "stream",
     "text": [
      "100%|█████████████████████████████████████████████████████████████████████████████████████████████████████████████████████| 94/94 [00:18<00:00,  4.99it/s]\n",
      "100%|█████████████████████████████████████████████████████████████████████████████████████████████████████████████████████| 90/90 [00:10<00:00,  8.86it/s]\n"
     ]
    },
    {
     "name": "stdout",
     "output_type": "stream",
     "text": [
      "Trainig acc: 0.988   //   Training loss: 0.0581   //   Test acc: 0.7325   //   Test loss: 0.9754\n",
      "early_stop: 5  /   Best acc: 0.742296918767507\n",
      "Training task 1 in epoch 19. Batch size: 8.\n"
     ]
    },
    {
     "name": "stderr",
     "output_type": "stream",
     "text": [
      "100%|█████████████████████████████████████████████████████████████████████████████████████████████████████████████████████| 94/94 [00:18<00:00,  5.02it/s]\n",
      "100%|█████████████████████████████████████████████████████████████████████████████████████████████████████████████████████| 90/90 [00:09<00:00,  9.23it/s]\n"
     ]
    },
    {
     "name": "stdout",
     "output_type": "stream",
     "text": [
      "Trainig acc: 0.9801   //   Training loss: 0.0699   //   Test acc: 0.7395   //   Test loss: 1.0042\n",
      "early_stop: 6  /   Best acc: 0.742296918767507\n",
      "Training task 1 in epoch 20. Batch size: 8.\n"
     ]
    },
    {
     "name": "stderr",
     "output_type": "stream",
     "text": [
      "100%|█████████████████████████████████████████████████████████████████████████████████████████████████████████████████████| 94/94 [00:18<00:00,  4.98it/s]\n",
      "100%|█████████████████████████████████████████████████████████████████████████████████████████████████████████████████████| 90/90 [00:10<00:00,  8.81it/s]\n"
     ]
    },
    {
     "name": "stdout",
     "output_type": "stream",
     "text": [
      "Trainig acc: 0.9814   //   Training loss: 0.0602   //   Test acc: 0.7423   //   Test loss: 1.0445\n",
      "early_stop: 7  /   Best acc: 0.742296918767507\n",
      "Training task 1 in epoch 21. Batch size: 8.\n"
     ]
    },
    {
     "name": "stderr",
     "output_type": "stream",
     "text": [
      "100%|█████████████████████████████████████████████████████████████████████████████████████████████████████████████████████| 94/94 [00:18<00:00,  4.96it/s]\n",
      "100%|█████████████████████████████████████████████████████████████████████████████████████████████████████████████████████| 90/90 [00:09<00:00,  9.14it/s]\n"
     ]
    },
    {
     "name": "stdout",
     "output_type": "stream",
     "text": [
      "Trainig acc: 0.992   //   Training loss: 0.0345   //   Test acc: 0.7423   //   Test loss: 0.9795\n",
      "early_stop: 8  /   Best acc: 0.742296918767507\n",
      "Training task 1 in epoch 22. Batch size: 8.\n"
     ]
    },
    {
     "name": "stderr",
     "output_type": "stream",
     "text": [
      "100%|█████████████████████████████████████████████████████████████████████████████████████████████████████████████████████| 94/94 [00:18<00:00,  4.96it/s]\n",
      "100%|█████████████████████████████████████████████████████████████████████████████████████████████████████████████████████| 90/90 [00:10<00:00,  8.74it/s]\n"
     ]
    },
    {
     "name": "stdout",
     "output_type": "stream",
     "text": [
      "Trainig acc: 0.984   //   Training loss: 0.0531   //   Test acc: 0.7423   //   Test loss: 1.0297\n",
      "early_stop: 9  /   Best acc: 0.742296918767507\n",
      "Training task 1 in epoch 23. Batch size: 8.\n"
     ]
    },
    {
     "name": "stderr",
     "output_type": "stream",
     "text": [
      "100%|█████████████████████████████████████████████████████████████████████████████████████████████████████████████████████| 94/94 [00:18<00:00,  4.96it/s]\n",
      "100%|█████████████████████████████████████████████████████████████████████████████████████████████████████████████████████| 90/90 [00:09<00:00,  9.26it/s]\n"
     ]
    },
    {
     "name": "stdout",
     "output_type": "stream",
     "text": [
      "Trainig acc: 0.9827   //   Training loss: 0.0524   //   Test acc: 0.7451   //   Test loss: 0.9696\n",
      "early_stop: 1  /   Best acc: 0.7450980392156863\n",
      "Training task 1 in epoch 24. Batch size: 8.\n"
     ]
    },
    {
     "name": "stderr",
     "output_type": "stream",
     "text": [
      "100%|█████████████████████████████████████████████████████████████████████████████████████████████████████████████████████| 94/94 [00:18<00:00,  4.99it/s]\n",
      "100%|█████████████████████████████████████████████████████████████████████████████████████████████████████████████████████| 90/90 [00:10<00:00,  8.66it/s]\n"
     ]
    },
    {
     "name": "stdout",
     "output_type": "stream",
     "text": [
      "Trainig acc: 0.992   //   Training loss: 0.0403   //   Test acc: 0.7479   //   Test loss: 0.9570\n",
      "early_stop: 1  /   Best acc: 0.7478991596638656\n",
      "Training task 1 in epoch 25. Batch size: 8.\n"
     ]
    },
    {
     "name": "stderr",
     "output_type": "stream",
     "text": [
      "100%|█████████████████████████████████████████████████████████████████████████████████████████████████████████████████████| 94/94 [00:18<00:00,  4.99it/s]\n",
      "100%|█████████████████████████████████████████████████████████████████████████████████████████████████████████████████████| 90/90 [00:09<00:00,  9.18it/s]\n"
     ]
    },
    {
     "name": "stdout",
     "output_type": "stream",
     "text": [
      "Trainig acc: 0.9814   //   Training loss: 0.0472   //   Test acc: 0.7367   //   Test loss: 0.9859\n",
      "early_stop: 2  /   Best acc: 0.7478991596638656\n",
      "Training task 1 in epoch 26. Batch size: 8.\n"
     ]
    },
    {
     "name": "stderr",
     "output_type": "stream",
     "text": [
      "100%|█████████████████████████████████████████████████████████████████████████████████████████████████████████████████████| 94/94 [00:18<00:00,  4.98it/s]\n",
      "100%|█████████████████████████████████████████████████████████████████████████████████████████████████████████████████████| 90/90 [00:10<00:00,  8.56it/s]\n"
     ]
    },
    {
     "name": "stdout",
     "output_type": "stream",
     "text": [
      "Trainig acc: 0.9934   //   Training loss: 0.0331   //   Test acc: 0.7395   //   Test loss: 0.9881\n",
      "early_stop: 3  /   Best acc: 0.7478991596638656\n",
      "Training task 1 in epoch 27. Batch size: 8.\n"
     ]
    },
    {
     "name": "stderr",
     "output_type": "stream",
     "text": [
      "100%|█████████████████████████████████████████████████████████████████████████████████████████████████████████████████████| 94/94 [00:18<00:00,  4.96it/s]\n",
      "100%|█████████████████████████████████████████████████████████████████████████████████████████████████████████████████████| 90/90 [00:09<00:00,  9.11it/s]\n"
     ]
    },
    {
     "name": "stdout",
     "output_type": "stream",
     "text": [
      "Trainig acc: 0.9894   //   Training loss: 0.0346   //   Test acc: 0.7395   //   Test loss: 0.9949\n",
      "early_stop: 4  /   Best acc: 0.7478991596638656\n",
      "Training task 1 in epoch 28. Batch size: 8.\n"
     ]
    },
    {
     "name": "stderr",
     "output_type": "stream",
     "text": [
      "100%|█████████████████████████████████████████████████████████████████████████████████████████████████████████████████████| 94/94 [00:19<00:00,  4.94it/s]\n",
      "100%|█████████████████████████████████████████████████████████████████████████████████████████████████████████████████████| 90/90 [00:10<00:00,  8.92it/s]\n"
     ]
    },
    {
     "name": "stdout",
     "output_type": "stream",
     "text": [
      "Trainig acc: 0.9934   //   Training loss: 0.0262   //   Test acc: 0.7437   //   Test loss: 0.9593\n",
      "early_stop: 5  /   Best acc: 0.7478991596638656\n",
      "Training task 1 in epoch 29. Batch size: 8.\n"
     ]
    },
    {
     "name": "stderr",
     "output_type": "stream",
     "text": [
      "100%|█████████████████████████████████████████████████████████████████████████████████████████████████████████████████████| 94/94 [00:18<00:00,  4.96it/s]\n",
      "100%|█████████████████████████████████████████████████████████████████████████████████████████████████████████████████████| 90/90 [00:09<00:00,  9.30it/s]\n"
     ]
    },
    {
     "name": "stdout",
     "output_type": "stream",
     "text": [
      "Trainig acc: 0.9907   //   Training loss: 0.0331   //   Test acc: 0.7451   //   Test loss: 0.9713\n",
      "early_stop: 6  /   Best acc: 0.7478991596638656\n",
      "Training task 1 in epoch 30. Batch size: 8.\n"
     ]
    },
    {
     "name": "stderr",
     "output_type": "stream",
     "text": [
      "100%|█████████████████████████████████████████████████████████████████████████████████████████████████████████████████████| 94/94 [00:19<00:00,  4.95it/s]\n",
      "100%|█████████████████████████████████████████████████████████████████████████████████████████████████████████████████████| 90/90 [00:10<00:00,  8.84it/s]\n"
     ]
    },
    {
     "name": "stdout",
     "output_type": "stream",
     "text": [
      "Trainig acc: 0.992   //   Training loss: 0.0244   //   Test acc: 0.7283   //   Test loss: 0.9834\n",
      "early_stop: 7  /   Best acc: 0.7478991596638656\n",
      "Training task 1 in epoch 31. Batch size: 8.\n"
     ]
    },
    {
     "name": "stderr",
     "output_type": "stream",
     "text": [
      "100%|█████████████████████████████████████████████████████████████████████████████████████████████████████████████████████| 94/94 [00:18<00:00,  4.97it/s]\n",
      "100%|█████████████████████████████████████████████████████████████████████████████████████████████████████████████████████| 90/90 [00:10<00:00,  8.97it/s]\n"
     ]
    },
    {
     "name": "stdout",
     "output_type": "stream",
     "text": [
      "Trainig acc: 0.988   //   Training loss: 0.0351   //   Test acc: 0.7339   //   Test loss: 1.0502\n",
      "early_stop: 8  /   Best acc: 0.7478991596638656\n",
      "Training task 1 in epoch 32. Batch size: 8.\n"
     ]
    },
    {
     "name": "stderr",
     "output_type": "stream",
     "text": [
      "100%|█████████████████████████████████████████████████████████████████████████████████████████████████████████████████████| 94/94 [00:19<00:00,  4.94it/s]\n",
      "100%|█████████████████████████████████████████████████████████████████████████████████████████████████████████████████████| 90/90 [00:09<00:00,  9.01it/s]\n"
     ]
    },
    {
     "name": "stdout",
     "output_type": "stream",
     "text": [
      "Trainig acc: 0.9894   //   Training loss: 0.0312   //   Test acc: 0.7521   //   Test loss: 0.9506\n",
      "early_stop: 1  /   Best acc: 0.7521008403361344\n",
      "Training task 1 in epoch 33. Batch size: 8.\n"
     ]
    },
    {
     "name": "stderr",
     "output_type": "stream",
     "text": [
      "100%|█████████████████████████████████████████████████████████████████████████████████████████████████████████████████████| 94/94 [00:18<00:00,  4.98it/s]\n",
      "100%|█████████████████████████████████████████████████████████████████████████████████████████████████████████████████████| 90/90 [00:10<00:00,  8.90it/s]\n"
     ]
    },
    {
     "name": "stdout",
     "output_type": "stream",
     "text": [
      "Trainig acc: 0.988   //   Training loss: 0.0415   //   Test acc: 0.7437   //   Test loss: 0.9696\n",
      "early_stop: 2  /   Best acc: 0.7521008403361344\n",
      "Training task 1 in epoch 34. Batch size: 8.\n"
     ]
    },
    {
     "name": "stderr",
     "output_type": "stream",
     "text": [
      "100%|█████████████████████████████████████████████████████████████████████████████████████████████████████████████████████| 94/94 [00:18<00:00,  4.97it/s]\n",
      "100%|█████████████████████████████████████████████████████████████████████████████████████████████████████████████████████| 90/90 [00:09<00:00,  9.05it/s]\n"
     ]
    },
    {
     "name": "stdout",
     "output_type": "stream",
     "text": [
      "Trainig acc: 0.9947   //   Training loss: 0.0263   //   Test acc: 0.7549   //   Test loss: 0.9898\n",
      "early_stop: 1  /   Best acc: 0.7549019607843137\n",
      "Training task 1 in epoch 35. Batch size: 8.\n"
     ]
    },
    {
     "name": "stderr",
     "output_type": "stream",
     "text": [
      "100%|█████████████████████████████████████████████████████████████████████████████████████████████████████████████████████| 94/94 [00:18<00:00,  4.98it/s]\n",
      "100%|█████████████████████████████████████████████████████████████████████████████████████████████████████████████████████| 90/90 [00:10<00:00,  8.91it/s]\n"
     ]
    },
    {
     "name": "stdout",
     "output_type": "stream",
     "text": [
      "Trainig acc: 0.9867   //   Training loss: 0.0504   //   Test acc: 0.7381   //   Test loss: 1.0346\n",
      "early_stop: 2  /   Best acc: 0.7549019607843137\n",
      "Training task 1 in epoch 36. Batch size: 8.\n"
     ]
    },
    {
     "name": "stderr",
     "output_type": "stream",
     "text": [
      "100%|█████████████████████████████████████████████████████████████████████████████████████████████████████████████████████| 94/94 [00:18<00:00,  4.97it/s]\n",
      "100%|█████████████████████████████████████████████████████████████████████████████████████████████████████████████████████| 90/90 [00:09<00:00,  9.25it/s]\n"
     ]
    },
    {
     "name": "stdout",
     "output_type": "stream",
     "text": [
      "Trainig acc: 0.992   //   Training loss: 0.0329   //   Test acc: 0.7409   //   Test loss: 0.9666\n",
      "early_stop: 3  /   Best acc: 0.7549019607843137\n",
      "Training task 1 in epoch 37. Batch size: 8.\n"
     ]
    },
    {
     "name": "stderr",
     "output_type": "stream",
     "text": [
      "100%|█████████████████████████████████████████████████████████████████████████████████████████████████████████████████████| 94/94 [00:18<00:00,  4.96it/s]\n",
      "100%|█████████████████████████████████████████████████████████████████████████████████████████████████████████████████████| 90/90 [00:10<00:00,  8.85it/s]\n"
     ]
    },
    {
     "name": "stdout",
     "output_type": "stream",
     "text": [
      "Trainig acc: 0.9907   //   Training loss: 0.0362   //   Test acc: 0.7437   //   Test loss: 0.9754\n",
      "early_stop: 4  /   Best acc: 0.7549019607843137\n",
      "Training task 1 in epoch 38. Batch size: 8.\n"
     ]
    },
    {
     "name": "stderr",
     "output_type": "stream",
     "text": [
      "100%|█████████████████████████████████████████████████████████████████████████████████████████████████████████████████████| 94/94 [00:18<00:00,  4.97it/s]\n",
      "100%|█████████████████████████████████████████████████████████████████████████████████████████████████████████████████████| 90/90 [00:10<00:00,  8.94it/s]\n"
     ]
    },
    {
     "name": "stdout",
     "output_type": "stream",
     "text": [
      "Trainig acc: 0.9867   //   Training loss: 0.0413   //   Test acc: 0.7465   //   Test loss: 0.9553\n",
      "early_stop: 5  /   Best acc: 0.7549019607843137\n",
      "Training task 1 in epoch 39. Batch size: 8.\n"
     ]
    },
    {
     "name": "stderr",
     "output_type": "stream",
     "text": [
      "100%|█████████████████████████████████████████████████████████████████████████████████████████████████████████████████████| 94/94 [00:18<00:00,  4.95it/s]\n",
      "100%|█████████████████████████████████████████████████████████████████████████████████████████████████████████████████████| 90/90 [00:10<00:00,  9.00it/s]\n"
     ]
    },
    {
     "name": "stdout",
     "output_type": "stream",
     "text": [
      "Trainig acc: 0.9854   //   Training loss: 0.0421   //   Test acc: 0.7577   //   Test loss: 0.9362\n",
      "early_stop: 1  /   Best acc: 0.757703081232493\n",
      "Training task 1 in epoch 40. Batch size: 8.\n"
     ]
    },
    {
     "name": "stderr",
     "output_type": "stream",
     "text": [
      "100%|█████████████████████████████████████████████████████████████████████████████████████████████████████████████████████| 94/94 [00:18<00:00,  4.96it/s]\n",
      "100%|█████████████████████████████████████████████████████████████████████████████████████████████████████████████████████| 90/90 [00:10<00:00,  8.79it/s]\n"
     ]
    },
    {
     "name": "stdout",
     "output_type": "stream",
     "text": [
      "Trainig acc: 0.984   //   Training loss: 0.0414   //   Test acc: 0.7409   //   Test loss: 0.9610\n",
      "early_stop: 2  /   Best acc: 0.757703081232493\n",
      "Training task 1 in epoch 41. Batch size: 8.\n"
     ]
    },
    {
     "name": "stderr",
     "output_type": "stream",
     "text": [
      "100%|█████████████████████████████████████████████████████████████████████████████████████████████████████████████████████| 94/94 [00:18<00:00,  4.96it/s]\n",
      "100%|█████████████████████████████████████████████████████████████████████████████████████████████████████████████████████| 90/90 [00:10<00:00,  8.95it/s]\n"
     ]
    },
    {
     "name": "stdout",
     "output_type": "stream",
     "text": [
      "Trainig acc: 0.9934   //   Training loss: 0.0256   //   Test acc: 0.7367   //   Test loss: 0.9950\n",
      "early_stop: 3  /   Best acc: 0.757703081232493\n",
      "Training task 1 in epoch 42. Batch size: 8.\n"
     ]
    },
    {
     "name": "stderr",
     "output_type": "stream",
     "text": [
      "100%|█████████████████████████████████████████████████████████████████████████████████████████████████████████████████████| 94/94 [00:18<00:00,  5.01it/s]\n",
      "100%|█████████████████████████████████████████████████████████████████████████████████████████████████████████████████████| 90/90 [00:10<00:00,  8.97it/s]\n"
     ]
    },
    {
     "name": "stdout",
     "output_type": "stream",
     "text": [
      "Trainig acc: 0.992   //   Training loss: 0.0260   //   Test acc: 0.7507   //   Test loss: 0.9947\n",
      "early_stop: 4  /   Best acc: 0.757703081232493\n",
      "Training task 1 in epoch 43. Batch size: 8.\n"
     ]
    },
    {
     "name": "stderr",
     "output_type": "stream",
     "text": [
      "100%|█████████████████████████████████████████████████████████████████████████████████████████████████████████████████████| 94/94 [00:18<00:00,  4.98it/s]\n",
      "100%|█████████████████████████████████████████████████████████████████████████████████████████████████████████████████████| 90/90 [00:10<00:00,  8.86it/s]\n"
     ]
    },
    {
     "name": "stdout",
     "output_type": "stream",
     "text": [
      "Trainig acc: 0.9907   //   Training loss: 0.0294   //   Test acc: 0.7605   //   Test loss: 0.9546\n",
      "early_stop: 1  /   Best acc: 0.7605042016806722\n",
      "Training task 1 in epoch 44. Batch size: 8.\n"
     ]
    },
    {
     "name": "stderr",
     "output_type": "stream",
     "text": [
      "100%|█████████████████████████████████████████████████████████████████████████████████████████████████████████████████████| 94/94 [00:18<00:00,  4.96it/s]\n",
      "100%|█████████████████████████████████████████████████████████████████████████████████████████████████████████████████████| 90/90 [00:10<00:00,  8.89it/s]\n"
     ]
    },
    {
     "name": "stdout",
     "output_type": "stream",
     "text": [
      "Trainig acc: 0.9907   //   Training loss: 0.0365   //   Test acc: 0.7395   //   Test loss: 0.9760\n",
      "early_stop: 2  /   Best acc: 0.7605042016806722\n",
      "Training task 1 in epoch 45. Batch size: 8.\n"
     ]
    },
    {
     "name": "stderr",
     "output_type": "stream",
     "text": [
      "100%|█████████████████████████████████████████████████████████████████████████████████████████████████████████████████████| 94/94 [00:18<00:00,  4.96it/s]\n",
      "100%|█████████████████████████████████████████████████████████████████████████████████████████████████████████████████████| 90/90 [00:10<00:00,  8.85it/s]\n"
     ]
    },
    {
     "name": "stdout",
     "output_type": "stream",
     "text": [
      "Trainig acc: 0.988   //   Training loss: 0.0402   //   Test acc: 0.7535   //   Test loss: 0.9450\n",
      "early_stop: 3  /   Best acc: 0.7605042016806722\n",
      "Training task 1 in epoch 46. Batch size: 8.\n"
     ]
    },
    {
     "name": "stderr",
     "output_type": "stream",
     "text": [
      "100%|█████████████████████████████████████████████████████████████████████████████████████████████████████████████████████| 94/94 [00:18<00:00,  4.97it/s]\n",
      "100%|█████████████████████████████████████████████████████████████████████████████████████████████████████████████████████| 90/90 [00:10<00:00,  8.73it/s]\n"
     ]
    },
    {
     "name": "stdout",
     "output_type": "stream",
     "text": [
      "Trainig acc: 0.9934   //   Training loss: 0.0247   //   Test acc: 0.7409   //   Test loss: 0.9781\n",
      "early_stop: 4  /   Best acc: 0.7605042016806722\n",
      "Training task 1 in epoch 47. Batch size: 8.\n"
     ]
    },
    {
     "name": "stderr",
     "output_type": "stream",
     "text": [
      "100%|█████████████████████████████████████████████████████████████████████████████████████████████████████████████████████| 94/94 [00:18<00:00,  4.96it/s]\n",
      "100%|█████████████████████████████████████████████████████████████████████████████████████████████████████████████████████| 90/90 [00:09<00:00,  9.34it/s]\n"
     ]
    },
    {
     "name": "stdout",
     "output_type": "stream",
     "text": [
      "Trainig acc: 0.984   //   Training loss: 0.0526   //   Test acc: 0.7339   //   Test loss: 0.9984\n",
      "early_stop: 5  /   Best acc: 0.7605042016806722\n",
      "Training task 1 in epoch 48. Batch size: 8.\n"
     ]
    },
    {
     "name": "stderr",
     "output_type": "stream",
     "text": [
      "100%|█████████████████████████████████████████████████████████████████████████████████████████████████████████████████████| 94/94 [00:19<00:00,  4.94it/s]\n",
      "100%|█████████████████████████████████████████████████████████████████████████████████████████████████████████████████████| 90/90 [00:09<00:00,  9.11it/s]\n"
     ]
    },
    {
     "name": "stdout",
     "output_type": "stream",
     "text": [
      "Trainig acc: 0.9907   //   Training loss: 0.0336   //   Test acc: 0.7465   //   Test loss: 0.9708\n",
      "early_stop: 6  /   Best acc: 0.7605042016806722\n",
      "Training task 1 in epoch 49. Batch size: 8.\n"
     ]
    },
    {
     "name": "stderr",
     "output_type": "stream",
     "text": [
      "100%|█████████████████████████████████████████████████████████████████████████████████████████████████████████████████████| 94/94 [00:18<00:00,  4.97it/s]\n",
      "100%|█████████████████████████████████████████████████████████████████████████████████████████████████████████████████████| 90/90 [00:10<00:00,  8.67it/s]\n"
     ]
    },
    {
     "name": "stdout",
     "output_type": "stream",
     "text": [
      "Trainig acc: 0.9907   //   Training loss: 0.0306   //   Test acc: 0.7479   //   Test loss: 1.0217\n",
      "early_stop: 7  /   Best acc: 0.7605042016806722\n",
      "Training task 1 in epoch 50. Batch size: 8.\n"
     ]
    },
    {
     "name": "stderr",
     "output_type": "stream",
     "text": [
      "100%|█████████████████████████████████████████████████████████████████████████████████████████████████████████████████████| 94/94 [00:18<00:00,  4.95it/s]\n",
      "100%|█████████████████████████████████████████████████████████████████████████████████████████████████████████████████████| 90/90 [00:09<00:00,  9.06it/s]\n"
     ]
    },
    {
     "name": "stdout",
     "output_type": "stream",
     "text": [
      "Trainig acc: 0.992   //   Training loss: 0.0306   //   Test acc: 0.7395   //   Test loss: 0.9868\n",
      "early_stop: 8  /   Best acc: 0.7605042016806722\n",
      "Training task 1 in epoch 51. Batch size: 8.\n"
     ]
    },
    {
     "name": "stderr",
     "output_type": "stream",
     "text": [
      "100%|█████████████████████████████████████████████████████████████████████████████████████████████████████████████████████| 94/94 [00:18<00:00,  4.99it/s]\n",
      "100%|█████████████████████████████████████████████████████████████████████████████████████████████████████████████████████| 90/90 [00:10<00:00,  9.00it/s]\n"
     ]
    },
    {
     "name": "stdout",
     "output_type": "stream",
     "text": [
      "Trainig acc: 0.9934   //   Training loss: 0.0238   //   Test acc: 0.7479   //   Test loss: 0.9821\n",
      "early_stop: 9  /   Best acc: 0.7605042016806722\n",
      "Training task 1 in epoch 52. Batch size: 8.\n"
     ]
    },
    {
     "name": "stderr",
     "output_type": "stream",
     "text": [
      "100%|█████████████████████████████████████████████████████████████████████████████████████████████████████████████████████| 94/94 [00:19<00:00,  4.94it/s]\n",
      "100%|█████████████████████████████████████████████████████████████████████████████████████████████████████████████████████| 90/90 [00:10<00:00,  8.53it/s]\n"
     ]
    },
    {
     "name": "stdout",
     "output_type": "stream",
     "text": [
      "Trainig acc: 0.988   //   Training loss: 0.0398   //   Test acc: 0.7395   //   Test loss: 1.0263\n",
      "early_stop: 10  /   Best acc: 0.7605042016806722\n",
      "Training task 1 in epoch 53. Batch size: 8.\n"
     ]
    },
    {
     "name": "stderr",
     "output_type": "stream",
     "text": [
      "100%|█████████████████████████████████████████████████████████████████████████████████████████████████████████████████████| 94/94 [00:18<00:00,  4.96it/s]\n",
      "100%|█████████████████████████████████████████████████████████████████████████████████████████████████████████████████████| 90/90 [00:09<00:00,  9.15it/s]\n"
     ]
    },
    {
     "name": "stdout",
     "output_type": "stream",
     "text": [
      "Trainig acc: 0.9907   //   Training loss: 0.0311   //   Test acc: 0.7493   //   Test loss: 1.0052\n",
      "early_stop: 11  /   Best acc: 0.7605042016806722\n",
      "Training task 1 in epoch 54. Batch size: 8.\n"
     ]
    },
    {
     "name": "stderr",
     "output_type": "stream",
     "text": [
      "100%|█████████████████████████████████████████████████████████████████████████████████████████████████████████████████████| 94/94 [00:18<00:00,  4.98it/s]\n",
      "100%|█████████████████████████████████████████████████████████████████████████████████████████████████████████████████████| 90/90 [00:10<00:00,  8.91it/s]\n"
     ]
    },
    {
     "name": "stdout",
     "output_type": "stream",
     "text": [
      "---------------------------------------- TASK_2 ----------------------------------------\n",
      "Training task 2 in epoch 0. Batch size: 8.\n"
     ]
    },
    {
     "name": "stderr",
     "output_type": "stream",
     "text": [
      "100%|█████████████████████████████████████████████████████████████████████████████████████████████████████████████████████| 94/94 [00:18<00:00,  4.96it/s]\n",
      "100%|█████████████████████████████████████████████████████████████████████████████████████████████████████████████████████| 94/94 [00:11<00:00,  8.41it/s]\n"
     ]
    },
    {
     "name": "stdout",
     "output_type": "stream",
     "text": [
      "Trainig acc: 0.05186   //   Training loss: 4.5843   //   Test acc: 0.2380   //   Test loss: 2.9069\n",
      "early_stop: 1  /   Best acc: 0.23796791443850268\n",
      "Training task 2 in epoch 1. Batch size: 8.\n"
     ]
    },
    {
     "name": "stderr",
     "output_type": "stream",
     "text": [
      "100%|█████████████████████████████████████████████████████████████████████████████████████████████████████████████████████| 94/94 [00:18<00:00,  5.11it/s]\n",
      "100%|█████████████████████████████████████████████████████████████████████████████████████████████████████████████████████| 94/94 [00:10<00:00,  8.65it/s]\n"
     ]
    },
    {
     "name": "stdout",
     "output_type": "stream",
     "text": [
      "Trainig acc: 0.2766   //   Training loss: 2.6053   //   Test acc: 0.4051   //   Test loss: 1.9262\n",
      "early_stop: 1  /   Best acc: 0.4050802139037433\n",
      "Training task 2 in epoch 2. Batch size: 8.\n"
     ]
    },
    {
     "name": "stderr",
     "output_type": "stream",
     "text": [
      "100%|█████████████████████████████████████████████████████████████████████████████████████████████████████████████████████| 94/94 [00:18<00:00,  5.00it/s]\n",
      "100%|█████████████████████████████████████████████████████████████████████████████████████████████████████████████████████| 94/94 [00:10<00:00,  9.32it/s]\n"
     ]
    },
    {
     "name": "stdout",
     "output_type": "stream",
     "text": [
      "Trainig acc: 0.4043   //   Training loss: 1.9399   //   Test acc: 0.5307   //   Test loss: 1.5352\n",
      "early_stop: 1  /   Best acc: 0.5307486631016043\n",
      "Training task 2 in epoch 3. Batch size: 8.\n"
     ]
    },
    {
     "name": "stderr",
     "output_type": "stream",
     "text": [
      "100%|█████████████████████████████████████████████████████████████████████████████████████████████████████████████████████| 94/94 [00:18<00:00,  5.01it/s]\n",
      "100%|█████████████████████████████████████████████████████████████████████████████████████████████████████████████████████| 94/94 [00:10<00:00,  9.00it/s]\n"
     ]
    },
    {
     "name": "stdout",
     "output_type": "stream",
     "text": [
      "Trainig acc: 0.5173   //   Training loss: 1.5562   //   Test acc: 0.5495   //   Test loss: 1.3416\n",
      "early_stop: 1  /   Best acc: 0.5494652406417112\n",
      "Training task 2 in epoch 4. Batch size: 8.\n"
     ]
    },
    {
     "name": "stderr",
     "output_type": "stream",
     "text": [
      "100%|█████████████████████████████████████████████████████████████████████████████████████████████████████████████████████| 94/94 [00:18<00:00,  4.98it/s]\n",
      "100%|█████████████████████████████████████████████████████████████████████████████████████████████████████████████████████| 94/94 [00:10<00:00,  9.30it/s]\n"
     ]
    },
    {
     "name": "stdout",
     "output_type": "stream",
     "text": [
      "Trainig acc: 0.5785   //   Training loss: 1.3014   //   Test acc: 0.6070   //   Test loss: 1.2108\n",
      "early_stop: 1  /   Best acc: 0.606951871657754\n",
      "Training task 2 in epoch 5. Batch size: 8.\n"
     ]
    },
    {
     "name": "stderr",
     "output_type": "stream",
     "text": [
      "100%|█████████████████████████████████████████████████████████████████████████████████████████████████████████████████████| 94/94 [00:18<00:00,  5.08it/s]\n",
      "100%|█████████████████████████████████████████████████████████████████████████████████████████████████████████████████████| 94/94 [00:11<00:00,  8.41it/s]\n"
     ]
    },
    {
     "name": "stdout",
     "output_type": "stream",
     "text": [
      "Trainig acc: 0.6662   //   Training loss: 1.0143   //   Test acc: 0.6417   //   Test loss: 1.0831\n",
      "early_stop: 1  /   Best acc: 0.6417112299465241\n",
      "Training task 2 in epoch 6. Batch size: 8.\n"
     ]
    },
    {
     "name": "stderr",
     "output_type": "stream",
     "text": [
      "100%|█████████████████████████████████████████████████████████████████████████████████████████████████████████████████████| 94/94 [00:18<00:00,  4.99it/s]\n",
      "100%|█████████████████████████████████████████████████████████████████████████████████████████████████████████████████████| 94/94 [00:10<00:00,  9.07it/s]\n"
     ]
    },
    {
     "name": "stdout",
     "output_type": "stream",
     "text": [
      "Trainig acc: 0.7314   //   Training loss: 0.8325   //   Test acc: 0.6564   //   Test loss: 1.0381\n",
      "early_stop: 1  /   Best acc: 0.6564171122994652\n",
      "Training task 2 in epoch 7. Batch size: 8.\n"
     ]
    },
    {
     "name": "stderr",
     "output_type": "stream",
     "text": [
      "100%|█████████████████████████████████████████████████████████████████████████████████████████████████████████████████████| 94/94 [00:18<00:00,  5.04it/s]\n",
      "100%|█████████████████████████████████████████████████████████████████████████████████████████████████████████████████████| 94/94 [00:10<00:00,  9.15it/s]\n"
     ]
    },
    {
     "name": "stdout",
     "output_type": "stream",
     "text": [
      "Trainig acc: 0.7872   //   Training loss: 0.6689   //   Test acc: 0.6484   //   Test loss: 0.9966\n",
      "early_stop: 2  /   Best acc: 0.6564171122994652\n",
      "Training task 2 in epoch 8. Batch size: 8.\n"
     ]
    },
    {
     "name": "stderr",
     "output_type": "stream",
     "text": [
      "100%|█████████████████████████████████████████████████████████████████████████████████████████████████████████████████████| 94/94 [00:18<00:00,  5.02it/s]\n",
      "100%|█████████████████████████████████████████████████████████████████████████████████████████████████████████████████████| 94/94 [00:10<00:00,  8.92it/s]\n"
     ]
    },
    {
     "name": "stdout",
     "output_type": "stream",
     "text": [
      "Trainig acc: 0.8457   //   Training loss: 0.5108   //   Test acc: 0.6644   //   Test loss: 0.9861\n",
      "early_stop: 1  /   Best acc: 0.6644385026737968\n",
      "Training task 2 in epoch 9. Batch size: 8.\n"
     ]
    },
    {
     "name": "stderr",
     "output_type": "stream",
     "text": [
      "100%|█████████████████████████████████████████████████████████████████████████████████████████████████████████████████████| 94/94 [00:18<00:00,  5.04it/s]\n",
      "100%|█████████████████████████████████████████████████████████████████████████████████████████████████████████████████████| 94/94 [00:11<00:00,  8.51it/s]\n"
     ]
    },
    {
     "name": "stdout",
     "output_type": "stream",
     "text": [
      "Trainig acc: 0.871   //   Training loss: 0.4152   //   Test acc: 0.6725   //   Test loss: 0.9406\n",
      "early_stop: 1  /   Best acc: 0.6724598930481284\n",
      "Training task 2 in epoch 10. Batch size: 8.\n"
     ]
    },
    {
     "name": "stderr",
     "output_type": "stream",
     "text": [
      "100%|█████████████████████████████████████████████████████████████████████████████████████████████████████████████████████| 94/94 [00:18<00:00,  5.03it/s]\n",
      "100%|█████████████████████████████████████████████████████████████████████████████████████████████████████████████████████| 94/94 [00:10<00:00,  8.84it/s]\n"
     ]
    },
    {
     "name": "stdout",
     "output_type": "stream",
     "text": [
      "Trainig acc: 0.9003   //   Training loss: 0.3341   //   Test acc: 0.6898   //   Test loss: 0.9915\n",
      "early_stop: 1  /   Best acc: 0.6898395721925134\n",
      "Training task 2 in epoch 11. Batch size: 8.\n"
     ]
    },
    {
     "name": "stderr",
     "output_type": "stream",
     "text": [
      "100%|█████████████████████████████████████████████████████████████████████████████████████████████████████████████████████| 94/94 [00:18<00:00,  5.07it/s]\n",
      "100%|█████████████████████████████████████████████████████████████████████████████████████████████████████████████████████| 94/94 [00:10<00:00,  8.97it/s]\n"
     ]
    },
    {
     "name": "stdout",
     "output_type": "stream",
     "text": [
      "Trainig acc: 0.9229   //   Training loss: 0.2794   //   Test acc: 0.6778   //   Test loss: 0.9834\n",
      "early_stop: 2  /   Best acc: 0.6898395721925134\n",
      "Training task 2 in epoch 12. Batch size: 8.\n"
     ]
    },
    {
     "name": "stderr",
     "output_type": "stream",
     "text": [
      "100%|█████████████████████████████████████████████████████████████████████████████████████████████████████████████████████| 94/94 [00:18<00:00,  5.00it/s]\n",
      "100%|█████████████████████████████████████████████████████████████████████████████████████████████████████████████████████| 94/94 [00:10<00:00,  8.81it/s]\n"
     ]
    },
    {
     "name": "stdout",
     "output_type": "stream",
     "text": [
      "Trainig acc: 0.9375   //   Training loss: 0.2285   //   Test acc: 0.6965   //   Test loss: 0.9715\n",
      "early_stop: 1  /   Best acc: 0.696524064171123\n",
      "Training task 2 in epoch 13. Batch size: 8.\n"
     ]
    },
    {
     "name": "stderr",
     "output_type": "stream",
     "text": [
      "100%|█████████████████████████████████████████████████████████████████████████████████████████████████████████████████████| 94/94 [00:18<00:00,  5.05it/s]\n",
      "100%|█████████████████████████████████████████████████████████████████████████████████████████████████████████████████████| 94/94 [00:10<00:00,  8.75it/s]\n"
     ]
    },
    {
     "name": "stdout",
     "output_type": "stream",
     "text": [
      "Trainig acc: 0.9388   //   Training loss: 0.2094   //   Test acc: 0.6805   //   Test loss: 1.0270\n",
      "early_stop: 2  /   Best acc: 0.696524064171123\n",
      "Training task 2 in epoch 14. Batch size: 8.\n"
     ]
    },
    {
     "name": "stderr",
     "output_type": "stream",
     "text": [
      "100%|█████████████████████████████████████████████████████████████████████████████████████████████████████████████████████| 94/94 [00:18<00:00,  5.02it/s]\n",
      "100%|█████████████████████████████████████████████████████████████████████████████████████████████████████████████████████| 94/94 [00:10<00:00,  8.62it/s]\n"
     ]
    },
    {
     "name": "stdout",
     "output_type": "stream",
     "text": [
      "Trainig acc: 0.9561   //   Training loss: 0.1499   //   Test acc: 0.6912   //   Test loss: 0.9974\n",
      "early_stop: 3  /   Best acc: 0.696524064171123\n",
      "Training task 2 in epoch 15. Batch size: 8.\n"
     ]
    },
    {
     "name": "stderr",
     "output_type": "stream",
     "text": [
      "100%|█████████████████████████████████████████████████████████████████████████████████████████████████████████████████████| 94/94 [00:18<00:00,  5.00it/s]\n",
      "100%|█████████████████████████████████████████████████████████████████████████████████████████████████████████████████████| 94/94 [00:10<00:00,  9.26it/s]\n"
     ]
    },
    {
     "name": "stdout",
     "output_type": "stream",
     "text": [
      "Trainig acc: 0.9535   //   Training loss: 0.1399   //   Test acc: 0.6912   //   Test loss: 1.0100\n",
      "early_stop: 4  /   Best acc: 0.696524064171123\n",
      "Training task 2 in epoch 16. Batch size: 8.\n"
     ]
    },
    {
     "name": "stderr",
     "output_type": "stream",
     "text": [
      "100%|█████████████████████████████████████████████████████████████████████████████████████████████████████████████████████| 94/94 [00:18<00:00,  5.04it/s]\n",
      "100%|█████████████████████████████████████████████████████████████████████████████████████████████████████████████████████| 94/94 [00:10<00:00,  9.34it/s]\n"
     ]
    },
    {
     "name": "stdout",
     "output_type": "stream",
     "text": [
      "Trainig acc: 0.9681   //   Training loss: 0.1032   //   Test acc: 0.6965   //   Test loss: 0.9828\n",
      "early_stop: 5  /   Best acc: 0.696524064171123\n",
      "Training task 2 in epoch 17. Batch size: 8.\n"
     ]
    },
    {
     "name": "stderr",
     "output_type": "stream",
     "text": [
      "100%|█████████████████████████████████████████████████████████████████████████████████████████████████████████████████████| 94/94 [00:18<00:00,  5.03it/s]\n",
      "100%|█████████████████████████████████████████████████████████████████████████████████████████████████████████████████████| 94/94 [00:10<00:00,  9.30it/s]\n"
     ]
    },
    {
     "name": "stdout",
     "output_type": "stream",
     "text": [
      "Trainig acc: 0.9734   //   Training loss: 0.1073   //   Test acc: 0.6872   //   Test loss: 1.0148\n",
      "early_stop: 6  /   Best acc: 0.696524064171123\n",
      "Training task 2 in epoch 18. Batch size: 8.\n"
     ]
    },
    {
     "name": "stderr",
     "output_type": "stream",
     "text": [
      "100%|█████████████████████████████████████████████████████████████████████████████████████████████████████████████████████| 94/94 [00:18<00:00,  5.04it/s]\n",
      "100%|█████████████████████████████████████████████████████████████████████████████████████████████████████████████████████| 94/94 [00:10<00:00,  8.95it/s]\n"
     ]
    },
    {
     "name": "stdout",
     "output_type": "stream",
     "text": [
      "Trainig acc: 0.9761   //   Training loss: 0.0789   //   Test acc: 0.7086   //   Test loss: 0.9864\n",
      "early_stop: 1  /   Best acc: 0.7085561497326203\n",
      "Training task 2 in epoch 19. Batch size: 8.\n"
     ]
    },
    {
     "name": "stderr",
     "output_type": "stream",
     "text": [
      "100%|█████████████████████████████████████████████████████████████████████████████████████████████████████████████████████| 94/94 [00:18<00:00,  4.97it/s]\n",
      "100%|█████████████████████████████████████████████████████████████████████████████████████████████████████████████████████| 94/94 [00:10<00:00,  9.34it/s]\n"
     ]
    },
    {
     "name": "stdout",
     "output_type": "stream",
     "text": [
      "Trainig acc: 0.9814   //   Training loss: 0.0688   //   Test acc: 0.6885   //   Test loss: 1.0228\n",
      "early_stop: 2  /   Best acc: 0.7085561497326203\n",
      "Training task 2 in epoch 20. Batch size: 8.\n"
     ]
    },
    {
     "name": "stderr",
     "output_type": "stream",
     "text": [
      "100%|█████████████████████████████████████████████████████████████████████████████████████████████████████████████████████| 94/94 [00:18<00:00,  5.01it/s]\n",
      "100%|█████████████████████████████████████████████████████████████████████████████████████████████████████████████████████| 94/94 [00:10<00:00,  8.84it/s]\n"
     ]
    },
    {
     "name": "stdout",
     "output_type": "stream",
     "text": [
      "Trainig acc: 0.9681   //   Training loss: 0.0816   //   Test acc: 0.7005   //   Test loss: 1.0047\n",
      "early_stop: 3  /   Best acc: 0.7085561497326203\n",
      "Training task 2 in epoch 21. Batch size: 8.\n"
     ]
    },
    {
     "name": "stderr",
     "output_type": "stream",
     "text": [
      "100%|█████████████████████████████████████████████████████████████████████████████████████████████████████████████████████| 94/94 [00:18<00:00,  5.04it/s]\n",
      "100%|█████████████████████████████████████████████████████████████████████████████████████████████████████████████████████| 94/94 [00:10<00:00,  9.30it/s]\n"
     ]
    },
    {
     "name": "stdout",
     "output_type": "stream",
     "text": [
      "Trainig acc: 0.9801   //   Training loss: 0.0702   //   Test acc: 0.7072   //   Test loss: 0.9913\n",
      "early_stop: 4  /   Best acc: 0.7085561497326203\n",
      "Training task 2 in epoch 22. Batch size: 8.\n"
     ]
    },
    {
     "name": "stderr",
     "output_type": "stream",
     "text": [
      "100%|█████████████████████████████████████████████████████████████████████████████████████████████████████████████████████| 94/94 [00:18<00:00,  5.02it/s]\n",
      "100%|█████████████████████████████████████████████████████████████████████████████████████████████████████████████████████| 94/94 [00:10<00:00,  9.19it/s]\n"
     ]
    },
    {
     "name": "stdout",
     "output_type": "stream",
     "text": [
      "Trainig acc: 0.9801   //   Training loss: 0.0616   //   Test acc: 0.6979   //   Test loss: 0.9893\n",
      "early_stop: 5  /   Best acc: 0.7085561497326203\n",
      "Training task 2 in epoch 23. Batch size: 8.\n"
     ]
    },
    {
     "name": "stderr",
     "output_type": "stream",
     "text": [
      "100%|█████████████████████████████████████████████████████████████████████████████████████████████████████████████████████| 94/94 [00:18<00:00,  5.05it/s]\n",
      "100%|█████████████████████████████████████████████████████████████████████████████████████████████████████████████████████| 94/94 [00:10<00:00,  9.23it/s]\n"
     ]
    },
    {
     "name": "stdout",
     "output_type": "stream",
     "text": [
      "Trainig acc: 0.9761   //   Training loss: 0.0761   //   Test acc: 0.7005   //   Test loss: 0.9966\n",
      "early_stop: 6  /   Best acc: 0.7085561497326203\n",
      "Training task 2 in epoch 24. Batch size: 8.\n"
     ]
    },
    {
     "name": "stderr",
     "output_type": "stream",
     "text": [
      "100%|█████████████████████████████████████████████████████████████████████████████████████████████████████████████████████| 94/94 [00:18<00:00,  5.04it/s]\n",
      "100%|█████████████████████████████████████████████████████████████████████████████████████████████████████████████████████| 94/94 [00:11<00:00,  8.33it/s]\n"
     ]
    },
    {
     "name": "stdout",
     "output_type": "stream",
     "text": [
      "Trainig acc: 0.9867   //   Training loss: 0.0576   //   Test acc: 0.7059   //   Test loss: 0.9998\n",
      "early_stop: 7  /   Best acc: 0.7085561497326203\n",
      "Training task 2 in epoch 25. Batch size: 8.\n"
     ]
    },
    {
     "name": "stderr",
     "output_type": "stream",
     "text": [
      "100%|█████████████████████████████████████████████████████████████████████████████████████████████████████████████████████| 94/94 [00:18<00:00,  4.99it/s]\n",
      "100%|█████████████████████████████████████████████████████████████████████████████████████████████████████████████████████| 94/94 [00:10<00:00,  9.10it/s]\n"
     ]
    },
    {
     "name": "stdout",
     "output_type": "stream",
     "text": [
      "Trainig acc: 0.9827   //   Training loss: 0.0708   //   Test acc: 0.6979   //   Test loss: 1.0235\n",
      "early_stop: 8  /   Best acc: 0.7085561497326203\n",
      "Training task 2 in epoch 26. Batch size: 8.\n"
     ]
    },
    {
     "name": "stderr",
     "output_type": "stream",
     "text": [
      "100%|█████████████████████████████████████████████████████████████████████████████████████████████████████████████████████| 94/94 [00:18<00:00,  5.01it/s]\n",
      "100%|█████████████████████████████████████████████████████████████████████████████████████████████████████████████████████| 94/94 [00:10<00:00,  9.16it/s]\n"
     ]
    },
    {
     "name": "stdout",
     "output_type": "stream",
     "text": [
      "Trainig acc: 0.984   //   Training loss: 0.0659   //   Test acc: 0.7019   //   Test loss: 1.0089\n",
      "early_stop: 9  /   Best acc: 0.7085561497326203\n",
      "Training task 2 in epoch 27. Batch size: 8.\n"
     ]
    },
    {
     "name": "stderr",
     "output_type": "stream",
     "text": [
      "100%|█████████████████████████████████████████████████████████████████████████████████████████████████████████████████████| 94/94 [00:18<00:00,  4.98it/s]\n",
      "100%|█████████████████████████████████████████████████████████████████████████████████████████████████████████████████████| 94/94 [00:10<00:00,  9.07it/s]\n"
     ]
    },
    {
     "name": "stdout",
     "output_type": "stream",
     "text": [
      "Trainig acc: 0.9827   //   Training loss: 0.0625   //   Test acc: 0.7086   //   Test loss: 0.9852\n",
      "early_stop: 10  /   Best acc: 0.7085561497326203\n",
      "Training task 2 in epoch 28. Batch size: 8.\n"
     ]
    },
    {
     "name": "stderr",
     "output_type": "stream",
     "text": [
      "100%|█████████████████████████████████████████████████████████████████████████████████████████████████████████████████████| 94/94 [00:18<00:00,  5.01it/s]\n",
      "100%|█████████████████████████████████████████████████████████████████████████████████████████████████████████████████████| 94/94 [00:10<00:00,  9.18it/s]\n"
     ]
    },
    {
     "name": "stdout",
     "output_type": "stream",
     "text": [
      "Trainig acc: 0.9787   //   Training loss: 0.0746   //   Test acc: 0.7059   //   Test loss: 1.0091\n",
      "early_stop: 11  /   Best acc: 0.7085561497326203\n",
      "Training task 2 in epoch 29. Batch size: 8.\n"
     ]
    },
    {
     "name": "stderr",
     "output_type": "stream",
     "text": [
      "100%|█████████████████████████████████████████████████████████████████████████████████████████████████████████████████████| 94/94 [00:18<00:00,  5.03it/s]\n",
      "100%|█████████████████████████████████████████████████████████████████████████████████████████████████████████████████████| 94/94 [00:10<00:00,  8.72it/s]\n"
     ]
    },
    {
     "name": "stdout",
     "output_type": "stream",
     "text": [
      "Trainig acc: 0.9827   //   Training loss: 0.0591   //   Test acc: 0.7152   //   Test loss: 0.9873\n",
      "early_stop: 1  /   Best acc: 0.7152406417112299\n",
      "Training task 2 in epoch 30. Batch size: 8.\n"
     ]
    },
    {
     "name": "stderr",
     "output_type": "stream",
     "text": [
      "100%|█████████████████████████████████████████████████████████████████████████████████████████████████████████████████████| 94/94 [00:18<00:00,  5.13it/s]\n",
      "100%|█████████████████████████████████████████████████████████████████████████████████████████████████████████████████████| 94/94 [00:10<00:00,  9.20it/s]\n"
     ]
    },
    {
     "name": "stdout",
     "output_type": "stream",
     "text": [
      "Trainig acc: 0.984   //   Training loss: 0.0614   //   Test acc: 0.7126   //   Test loss: 1.0033\n",
      "early_stop: 2  /   Best acc: 0.7152406417112299\n",
      "Training task 2 in epoch 31. Batch size: 8.\n"
     ]
    },
    {
     "name": "stderr",
     "output_type": "stream",
     "text": [
      "100%|█████████████████████████████████████████████████████████████████████████████████████████████████████████████████████| 94/94 [00:18<00:00,  5.09it/s]\n",
      "100%|█████████████████████████████████████████████████████████████████████████████████████████████████████████████████████| 94/94 [00:10<00:00,  8.83it/s]\n"
     ]
    },
    {
     "name": "stdout",
     "output_type": "stream",
     "text": [
      "Trainig acc: 0.9774   //   Training loss: 0.0748   //   Test acc: 0.6898   //   Test loss: 1.0339\n",
      "early_stop: 3  /   Best acc: 0.7152406417112299\n",
      "Training task 2 in epoch 32. Batch size: 8.\n"
     ]
    },
    {
     "name": "stderr",
     "output_type": "stream",
     "text": [
      "100%|█████████████████████████████████████████████████████████████████████████████████████████████████████████████████████| 94/94 [00:18<00:00,  5.07it/s]\n",
      "100%|█████████████████████████████████████████████████████████████████████████████████████████████████████████████████████| 94/94 [00:10<00:00,  8.83it/s]\n"
     ]
    },
    {
     "name": "stdout",
     "output_type": "stream",
     "text": [
      "Trainig acc: 0.9721   //   Training loss: 0.0781   //   Test acc: 0.6939   //   Test loss: 1.0095\n",
      "early_stop: 4  /   Best acc: 0.7152406417112299\n",
      "Training task 2 in epoch 33. Batch size: 8.\n"
     ]
    },
    {
     "name": "stderr",
     "output_type": "stream",
     "text": [
      "100%|█████████████████████████████████████████████████████████████████████████████████████████████████████████████████████| 94/94 [00:18<00:00,  5.08it/s]\n",
      "100%|█████████████████████████████████████████████████████████████████████████████████████████████████████████████████████| 94/94 [00:10<00:00,  8.83it/s]\n"
     ]
    },
    {
     "name": "stdout",
     "output_type": "stream",
     "text": [
      "Trainig acc: 0.9787   //   Training loss: 0.0690   //   Test acc: 0.7166   //   Test loss: 0.9902\n",
      "early_stop: 1  /   Best acc: 0.7165775401069518\n",
      "Training task 2 in epoch 34. Batch size: 8.\n"
     ]
    },
    {
     "name": "stderr",
     "output_type": "stream",
     "text": [
      "100%|█████████████████████████████████████████████████████████████████████████████████████████████████████████████████████| 94/94 [00:18<00:00,  5.06it/s]\n",
      "100%|█████████████████████████████████████████████████████████████████████████████████████████████████████████████████████| 94/94 [00:10<00:00,  8.63it/s]\n"
     ]
    },
    {
     "name": "stdout",
     "output_type": "stream",
     "text": [
      "Trainig acc: 0.9854   //   Training loss: 0.0666   //   Test acc: 0.6858   //   Test loss: 1.0275\n",
      "early_stop: 2  /   Best acc: 0.7165775401069518\n",
      "Training task 2 in epoch 35. Batch size: 8.\n"
     ]
    },
    {
     "name": "stderr",
     "output_type": "stream",
     "text": [
      "100%|█████████████████████████████████████████████████████████████████████████████████████████████████████████████████████| 94/94 [00:18<00:00,  5.02it/s]\n",
      "100%|█████████████████████████████████████████████████████████████████████████████████████████████████████████████████████| 94/94 [00:10<00:00,  9.17it/s]\n"
     ]
    },
    {
     "name": "stdout",
     "output_type": "stream",
     "text": [
      "Trainig acc: 0.984   //   Training loss: 0.0588   //   Test acc: 0.7072   //   Test loss: 0.9814\n",
      "early_stop: 3  /   Best acc: 0.7165775401069518\n",
      "Training task 2 in epoch 36. Batch size: 8.\n"
     ]
    },
    {
     "name": "stderr",
     "output_type": "stream",
     "text": [
      "100%|█████████████████████████████████████████████████████████████████████████████████████████████████████████████████████| 94/94 [00:18<00:00,  5.03it/s]\n",
      "100%|█████████████████████████████████████████████████████████████████████████████████████████████████████████████████████| 94/94 [00:10<00:00,  9.09it/s]\n"
     ]
    },
    {
     "name": "stdout",
     "output_type": "stream",
     "text": [
      "Trainig acc: 0.984   //   Training loss: 0.0612   //   Test acc: 0.6912   //   Test loss: 1.0239\n",
      "early_stop: 4  /   Best acc: 0.7165775401069518\n",
      "Training task 2 in epoch 37. Batch size: 8.\n"
     ]
    },
    {
     "name": "stderr",
     "output_type": "stream",
     "text": [
      "100%|█████████████████████████████████████████████████████████████████████████████████████████████████████████████████████| 94/94 [00:18<00:00,  5.05it/s]\n",
      "100%|█████████████████████████████████████████████████████████████████████████████████████████████████████████████████████| 94/94 [00:10<00:00,  8.85it/s]\n"
     ]
    },
    {
     "name": "stdout",
     "output_type": "stream",
     "text": [
      "Trainig acc: 0.9854   //   Training loss: 0.0668   //   Test acc: 0.6952   //   Test loss: 0.9987\n",
      "early_stop: 5  /   Best acc: 0.7165775401069518\n",
      "Training task 2 in epoch 38. Batch size: 8.\n"
     ]
    },
    {
     "name": "stderr",
     "output_type": "stream",
     "text": [
      "100%|█████████████████████████████████████████████████████████████████████████████████████████████████████████████████████| 94/94 [00:18<00:00,  5.01it/s]\n",
      "100%|█████████████████████████████████████████████████████████████████████████████████████████████████████████████████████| 94/94 [00:10<00:00,  9.16it/s]\n"
     ]
    },
    {
     "name": "stdout",
     "output_type": "stream",
     "text": [
      "Trainig acc: 0.9774   //   Training loss: 0.0605   //   Test acc: 0.7099   //   Test loss: 0.9938\n",
      "early_stop: 6  /   Best acc: 0.7165775401069518\n",
      "Training task 2 in epoch 39. Batch size: 8.\n"
     ]
    },
    {
     "name": "stderr",
     "output_type": "stream",
     "text": [
      "100%|█████████████████████████████████████████████████████████████████████████████████████████████████████████████████████| 94/94 [00:18<00:00,  5.04it/s]\n",
      "100%|█████████████████████████████████████████████████████████████████████████████████████████████████████████████████████| 94/94 [00:10<00:00,  8.68it/s]\n"
     ]
    },
    {
     "name": "stdout",
     "output_type": "stream",
     "text": [
      "Trainig acc: 0.9801   //   Training loss: 0.0667   //   Test acc: 0.6898   //   Test loss: 0.9847\n",
      "early_stop: 7  /   Best acc: 0.7165775401069518\n",
      "Training task 2 in epoch 40. Batch size: 8.\n"
     ]
    },
    {
     "name": "stderr",
     "output_type": "stream",
     "text": [
      "100%|█████████████████████████████████████████████████████████████████████████████████████████████████████████████████████| 94/94 [00:18<00:00,  5.04it/s]\n",
      "100%|█████████████████████████████████████████████████████████████████████████████████████████████████████████████████████| 94/94 [00:10<00:00,  8.98it/s]\n"
     ]
    },
    {
     "name": "stdout",
     "output_type": "stream",
     "text": [
      "Trainig acc: 0.9827   //   Training loss: 0.0617   //   Test acc: 0.6965   //   Test loss: 1.0024\n",
      "early_stop: 8  /   Best acc: 0.7165775401069518\n",
      "Training task 2 in epoch 41. Batch size: 8.\n"
     ]
    },
    {
     "name": "stderr",
     "output_type": "stream",
     "text": [
      "100%|█████████████████████████████████████████████████████████████████████████████████████████████████████████████████████| 94/94 [00:18<00:00,  5.01it/s]\n",
      "100%|█████████████████████████████████████████████████████████████████████████████████████████████████████████████████████| 94/94 [00:10<00:00,  8.91it/s]\n"
     ]
    },
    {
     "name": "stdout",
     "output_type": "stream",
     "text": [
      "Trainig acc: 0.9774   //   Training loss: 0.0645   //   Test acc: 0.7019   //   Test loss: 0.9963\n",
      "early_stop: 9  /   Best acc: 0.7165775401069518\n",
      "Training task 2 in epoch 42. Batch size: 8.\n"
     ]
    },
    {
     "name": "stderr",
     "output_type": "stream",
     "text": [
      "100%|█████████████████████████████████████████████████████████████████████████████████████████████████████████████████████| 94/94 [00:18<00:00,  5.03it/s]\n",
      "100%|█████████████████████████████████████████████████████████████████████████████████████████████████████████████████████| 94/94 [00:10<00:00,  8.97it/s]\n"
     ]
    },
    {
     "name": "stdout",
     "output_type": "stream",
     "text": [
      "Trainig acc: 0.984   //   Training loss: 0.0671   //   Test acc: 0.7059   //   Test loss: 1.0024\n",
      "early_stop: 10  /   Best acc: 0.7165775401069518\n",
      "Training task 2 in epoch 43. Batch size: 8.\n"
     ]
    },
    {
     "name": "stderr",
     "output_type": "stream",
     "text": [
      "100%|█████████████████████████████████████████████████████████████████████████████████████████████████████████████████████| 94/94 [00:18<00:00,  5.01it/s]\n",
      "100%|█████████████████████████████████████████████████████████████████████████████████████████████████████████████████████| 94/94 [00:10<00:00,  9.21it/s]\n"
     ]
    },
    {
     "name": "stdout",
     "output_type": "stream",
     "text": [
      "Trainig acc: 0.9721   //   Training loss: 0.0846   //   Test acc: 0.7099   //   Test loss: 1.0114\n",
      "early_stop: 11  /   Best acc: 0.7165775401069518\n",
      "Training task 2 in epoch 44. Batch size: 8.\n"
     ]
    },
    {
     "name": "stderr",
     "output_type": "stream",
     "text": [
      "100%|█████████████████████████████████████████████████████████████████████████████████████████████████████████████████████| 94/94 [00:18<00:00,  5.04it/s]\n",
      "100%|█████████████████████████████████████████████████████████████████████████████████████████████████████████████████████| 94/94 [00:10<00:00,  8.78it/s]\n"
     ]
    },
    {
     "name": "stdout",
     "output_type": "stream",
     "text": [
      "---------------------------------------- TASK_3 ----------------------------------------\n",
      "Training task 3 in epoch 0. Batch size: 8.\n"
     ]
    },
    {
     "name": "stderr",
     "output_type": "stream",
     "text": [
      "100%|█████████████████████████████████████████████████████████████████████████████████████████████████████████████████████| 94/94 [00:19<00:00,  4.93it/s]\n",
      "100%|█████████████████████████████████████████████████████████████████████████████████████████████████████████████████████| 92/92 [00:09<00:00,  9.21it/s]\n"
     ]
    },
    {
     "name": "stdout",
     "output_type": "stream",
     "text": [
      "Trainig acc: 0.03723   //   Training loss: 4.8119   //   Test acc: 0.1129   //   Test loss: 3.4794\n",
      "early_stop: 1  /   Best acc: 0.11292517006802721\n",
      "Training task 3 in epoch 1. Batch size: 8.\n"
     ]
    },
    {
     "name": "stderr",
     "output_type": "stream",
     "text": [
      "100%|█████████████████████████████████████████████████████████████████████████████████████████████████████████████████████| 94/94 [00:18<00:00,  4.98it/s]\n",
      "100%|█████████████████████████████████████████████████████████████████████████████████████████████████████████████████████| 92/92 [00:10<00:00,  9.01it/s]\n"
     ]
    },
    {
     "name": "stdout",
     "output_type": "stream",
     "text": [
      "Trainig acc: 0.1343   //   Training loss: 3.0559   //   Test acc: 0.3415   //   Test loss: 2.5001\n",
      "early_stop: 1  /   Best acc: 0.3414965986394558\n",
      "Training task 3 in epoch 2. Batch size: 8.\n"
     ]
    },
    {
     "name": "stderr",
     "output_type": "stream",
     "text": [
      "100%|█████████████████████████████████████████████████████████████████████████████████████████████████████████████████████| 94/94 [00:18<00:00,  5.02it/s]\n",
      "100%|█████████████████████████████████████████████████████████████████████████████████████████████████████████████████████| 92/92 [00:10<00:00,  9.09it/s]\n"
     ]
    },
    {
     "name": "stdout",
     "output_type": "stream",
     "text": [
      "Trainig acc: 0.3404   //   Training loss: 2.3265   //   Test acc: 0.4844   //   Test loss: 1.9327\n",
      "early_stop: 1  /   Best acc: 0.48435374149659866\n",
      "Training task 3 in epoch 3. Batch size: 8.\n"
     ]
    },
    {
     "name": "stderr",
     "output_type": "stream",
     "text": [
      "100%|█████████████████████████████████████████████████████████████████████████████████████████████████████████████████████| 94/94 [00:18<00:00,  5.03it/s]\n",
      "100%|█████████████████████████████████████████████████████████████████████████████████████████████████████████████████████| 92/92 [00:10<00:00,  8.68it/s]\n"
     ]
    },
    {
     "name": "stdout",
     "output_type": "stream",
     "text": [
      "Trainig acc: 0.4814   //   Training loss: 1.7832   //   Test acc: 0.5918   //   Test loss: 1.5373\n",
      "early_stop: 1  /   Best acc: 0.5918367346938775\n",
      "Training task 3 in epoch 4. Batch size: 8.\n"
     ]
    },
    {
     "name": "stderr",
     "output_type": "stream",
     "text": [
      "100%|█████████████████████████████████████████████████████████████████████████████████████████████████████████████████████| 94/94 [00:18<00:00,  5.03it/s]\n",
      "100%|█████████████████████████████████████████████████████████████████████████████████████████████████████████████████████| 92/92 [00:10<00:00,  9.15it/s]\n"
     ]
    },
    {
     "name": "stdout",
     "output_type": "stream",
     "text": [
      "Trainig acc: 0.6037   //   Training loss: 1.3428   //   Test acc: 0.6354   //   Test loss: 1.2851\n",
      "early_stop: 1  /   Best acc: 0.6353741496598639\n",
      "Training task 3 in epoch 5. Batch size: 8.\n"
     ]
    },
    {
     "name": "stderr",
     "output_type": "stream",
     "text": [
      "100%|█████████████████████████████████████████████████████████████████████████████████████████████████████████████████████| 94/94 [00:18<00:00,  5.01it/s]\n",
      "100%|█████████████████████████████████████████████████████████████████████████████████████████████████████████████████████| 92/92 [00:10<00:00,  8.67it/s]\n"
     ]
    },
    {
     "name": "stdout",
     "output_type": "stream",
     "text": [
      "Trainig acc: 0.6795   //   Training loss: 1.1054   //   Test acc: 0.6707   //   Test loss: 1.1326\n",
      "early_stop: 1  /   Best acc: 0.6707482993197279\n",
      "Training task 3 in epoch 6. Batch size: 8.\n"
     ]
    },
    {
     "name": "stderr",
     "output_type": "stream",
     "text": [
      "100%|█████████████████████████████████████████████████████████████████████████████████████████████████████████████████████| 94/94 [00:18<00:00,  5.03it/s]\n",
      "100%|█████████████████████████████████████████████████████████████████████████████████████████████████████████████████████| 92/92 [00:10<00:00,  8.88it/s]\n"
     ]
    },
    {
     "name": "stdout",
     "output_type": "stream",
     "text": [
      "Trainig acc: 0.7686   //   Training loss: 0.7832   //   Test acc: 0.7170   //   Test loss: 0.9870\n",
      "early_stop: 1  /   Best acc: 0.7170068027210884\n",
      "Training task 3 in epoch 7. Batch size: 8.\n"
     ]
    },
    {
     "name": "stderr",
     "output_type": "stream",
     "text": [
      "100%|█████████████████████████████████████████████████████████████████████████████████████████████████████████████████████| 94/94 [00:18<00:00,  5.03it/s]\n",
      "100%|█████████████████████████████████████████████████████████████████████████████████████████████████████████████████████| 92/92 [00:10<00:00,  9.01it/s]\n"
     ]
    },
    {
     "name": "stdout",
     "output_type": "stream",
     "text": [
      "Trainig acc: 0.8271   //   Training loss: 0.5836   //   Test acc: 0.7293   //   Test loss: 0.9213\n",
      "early_stop: 1  /   Best acc: 0.7292517006802721\n",
      "Training task 3 in epoch 8. Batch size: 8.\n"
     ]
    },
    {
     "name": "stderr",
     "output_type": "stream",
     "text": [
      "100%|█████████████████████████████████████████████████████████████████████████████████████████████████████████████████████| 94/94 [00:18<00:00,  5.02it/s]\n",
      "100%|█████████████████████████████████████████████████████████████████████████████████████████████████████████████████████| 92/92 [00:10<00:00,  8.62it/s]\n"
     ]
    },
    {
     "name": "stdout",
     "output_type": "stream",
     "text": [
      "Trainig acc: 0.875   //   Training loss: 0.4547   //   Test acc: 0.7429   //   Test loss: 0.8950\n",
      "early_stop: 1  /   Best acc: 0.7428571428571429\n",
      "Training task 3 in epoch 9. Batch size: 8.\n"
     ]
    },
    {
     "name": "stderr",
     "output_type": "stream",
     "text": [
      "100%|█████████████████████████████████████████████████████████████████████████████████████████████████████████████████████| 94/94 [00:18<00:00,  5.03it/s]\n",
      "100%|█████████████████████████████████████████████████████████████████████████████████████████████████████████████████████| 92/92 [00:10<00:00,  9.12it/s]\n"
     ]
    },
    {
     "name": "stdout",
     "output_type": "stream",
     "text": [
      "Trainig acc: 0.8856   //   Training loss: 0.4171   //   Test acc: 0.7510   //   Test loss: 0.8861\n",
      "early_stop: 1  /   Best acc: 0.7510204081632653\n",
      "Training task 3 in epoch 10. Batch size: 8.\n"
     ]
    },
    {
     "name": "stderr",
     "output_type": "stream",
     "text": [
      "100%|█████████████████████████████████████████████████████████████████████████████████████████████████████████████████████| 94/94 [00:18<00:00,  5.00it/s]\n",
      "100%|█████████████████████████████████████████████████████████████████████████████████████████████████████████████████████| 92/92 [00:10<00:00,  8.69it/s]\n"
     ]
    },
    {
     "name": "stdout",
     "output_type": "stream",
     "text": [
      "Trainig acc: 0.9229   //   Training loss: 0.2858   //   Test acc: 0.7442   //   Test loss: 0.8882\n",
      "early_stop: 2  /   Best acc: 0.7510204081632653\n",
      "Training task 3 in epoch 11. Batch size: 8.\n"
     ]
    },
    {
     "name": "stderr",
     "output_type": "stream",
     "text": [
      "100%|█████████████████████████████████████████████████████████████████████████████████████████████████████████████████████| 94/94 [00:18<00:00,  5.00it/s]\n",
      "100%|█████████████████████████████████████████████████████████████████████████████████████████████████████████████████████| 92/92 [00:09<00:00,  9.31it/s]\n"
     ]
    },
    {
     "name": "stdout",
     "output_type": "stream",
     "text": [
      "Trainig acc: 0.9402   //   Training loss: 0.2303   //   Test acc: 0.7551   //   Test loss: 0.8304\n",
      "early_stop: 1  /   Best acc: 0.7551020408163265\n",
      "Training task 3 in epoch 12. Batch size: 8.\n"
     ]
    },
    {
     "name": "stderr",
     "output_type": "stream",
     "text": [
      "100%|█████████████████████████████████████████████████████████████████████████████████████████████████████████████████████| 94/94 [00:18<00:00,  5.04it/s]\n",
      "100%|█████████████████████████████████████████████████████████████████████████████████████████████████████████████████████| 92/92 [00:10<00:00,  8.75it/s]\n"
     ]
    },
    {
     "name": "stdout",
     "output_type": "stream",
     "text": [
      "Trainig acc: 0.9375   //   Training loss: 0.2087   //   Test acc: 0.7565   //   Test loss: 0.8148\n",
      "early_stop: 1  /   Best acc: 0.7564625850340136\n",
      "Training task 3 in epoch 13. Batch size: 8.\n"
     ]
    },
    {
     "name": "stderr",
     "output_type": "stream",
     "text": [
      "100%|█████████████████████████████████████████████████████████████████████████████████████████████████████████████████████| 94/94 [00:18<00:00,  5.11it/s]\n",
      "100%|█████████████████████████████████████████████████████████████████████████████████████████████████████████████████████| 92/92 [00:10<00:00,  8.91it/s]\n"
     ]
    },
    {
     "name": "stdout",
     "output_type": "stream",
     "text": [
      "Trainig acc: 0.9654   //   Training loss: 0.1457   //   Test acc: 0.7551   //   Test loss: 0.8144\n",
      "early_stop: 2  /   Best acc: 0.7564625850340136\n",
      "Training task 3 in epoch 14. Batch size: 8.\n"
     ]
    },
    {
     "name": "stderr",
     "output_type": "stream",
     "text": [
      "100%|█████████████████████████████████████████████████████████████████████████████████████████████████████████████████████| 94/94 [00:18<00:00,  5.06it/s]\n",
      "100%|█████████████████████████████████████████████████████████████████████████████████████████████████████████████████████| 92/92 [00:10<00:00,  8.84it/s]\n"
     ]
    },
    {
     "name": "stdout",
     "output_type": "stream",
     "text": [
      "Trainig acc: 0.9481   //   Training loss: 0.1707   //   Test acc: 0.7578   //   Test loss: 0.8907\n",
      "early_stop: 1  /   Best acc: 0.7578231292517007\n",
      "Training task 3 in epoch 15. Batch size: 8.\n"
     ]
    },
    {
     "name": "stderr",
     "output_type": "stream",
     "text": [
      "100%|█████████████████████████████████████████████████████████████████████████████████████████████████████████████████████| 94/94 [00:18<00:00,  5.10it/s]\n",
      "100%|█████████████████████████████████████████████████████████████████████████████████████████████████████████████████████| 92/92 [00:10<00:00,  8.63it/s]\n"
     ]
    },
    {
     "name": "stdout",
     "output_type": "stream",
     "text": [
      "Trainig acc: 0.9668   //   Training loss: 0.1253   //   Test acc: 0.7728   //   Test loss: 0.8250\n",
      "early_stop: 1  /   Best acc: 0.7727891156462585\n",
      "Training task 3 in epoch 16. Batch size: 8.\n"
     ]
    },
    {
     "name": "stderr",
     "output_type": "stream",
     "text": [
      "100%|█████████████████████████████████████████████████████████████████████████████████████████████████████████████████████| 94/94 [00:18<00:00,  5.00it/s]\n",
      "100%|█████████████████████████████████████████████████████████████████████████████████████████████████████████████████████| 92/92 [00:10<00:00,  8.37it/s]\n"
     ]
    },
    {
     "name": "stdout",
     "output_type": "stream",
     "text": [
      "Trainig acc: 0.9694   //   Training loss: 0.0977   //   Test acc: 0.7810   //   Test loss: 0.8018\n",
      "early_stop: 1  /   Best acc: 0.780952380952381\n",
      "Training task 3 in epoch 17. Batch size: 8.\n"
     ]
    },
    {
     "name": "stderr",
     "output_type": "stream",
     "text": [
      "100%|█████████████████████████████████████████████████████████████████████████████████████████████████████████████████████| 94/94 [00:18<00:00,  5.04it/s]\n",
      "100%|█████████████████████████████████████████████████████████████████████████████████████████████████████████████████████| 92/92 [00:10<00:00,  8.97it/s]\n"
     ]
    },
    {
     "name": "stdout",
     "output_type": "stream",
     "text": [
      "Trainig acc: 0.984   //   Training loss: 0.0743   //   Test acc: 0.7755   //   Test loss: 0.8056\n",
      "early_stop: 2  /   Best acc: 0.780952380952381\n",
      "Training task 3 in epoch 18. Batch size: 8.\n"
     ]
    },
    {
     "name": "stderr",
     "output_type": "stream",
     "text": [
      "100%|█████████████████████████████████████████████████████████████████████████████████████████████████████████████████████| 94/94 [00:18<00:00,  5.00it/s]\n",
      "100%|█████████████████████████████████████████████████████████████████████████████████████████████████████████████████████| 92/92 [00:10<00:00,  9.13it/s]\n"
     ]
    },
    {
     "name": "stdout",
     "output_type": "stream",
     "text": [
      "Trainig acc: 0.9814   //   Training loss: 0.0742   //   Test acc: 0.7728   //   Test loss: 0.8073\n",
      "early_stop: 3  /   Best acc: 0.780952380952381\n",
      "Training task 3 in epoch 19. Batch size: 8.\n"
     ]
    },
    {
     "name": "stderr",
     "output_type": "stream",
     "text": [
      "100%|█████████████████████████████████████████████████████████████████████████████████████████████████████████████████████| 94/94 [00:18<00:00,  5.00it/s]\n",
      "100%|█████████████████████████████████████████████████████████████████████████████████████████████████████████████████████| 92/92 [00:10<00:00,  8.82it/s]\n"
     ]
    },
    {
     "name": "stdout",
     "output_type": "stream",
     "text": [
      "Trainig acc: 0.9867   //   Training loss: 0.0528   //   Test acc: 0.7782   //   Test loss: 0.8329\n",
      "early_stop: 4  /   Best acc: 0.780952380952381\n",
      "Training task 3 in epoch 20. Batch size: 8.\n"
     ]
    },
    {
     "name": "stderr",
     "output_type": "stream",
     "text": [
      "100%|█████████████████████████████████████████████████████████████████████████████████████████████████████████████████████| 94/94 [00:18<00:00,  5.00it/s]\n",
      "100%|█████████████████████████████████████████████████████████████████████████████████████████████████████████████████████| 92/92 [00:10<00:00,  9.03it/s]\n"
     ]
    },
    {
     "name": "stdout",
     "output_type": "stream",
     "text": [
      "Trainig acc: 0.9854   //   Training loss: 0.0541   //   Test acc: 0.7959   //   Test loss: 0.8382\n",
      "early_stop: 1  /   Best acc: 0.7959183673469388\n",
      "Training task 3 in epoch 21. Batch size: 8.\n"
     ]
    },
    {
     "name": "stderr",
     "output_type": "stream",
     "text": [
      "100%|█████████████████████████████████████████████████████████████████████████████████████████████████████████████████████| 94/94 [00:18<00:00,  5.02it/s]\n",
      "100%|█████████████████████████████████████████████████████████████████████████████████████████████████████████████████████| 92/92 [00:10<00:00,  8.67it/s]\n"
     ]
    },
    {
     "name": "stdout",
     "output_type": "stream",
     "text": [
      "Trainig acc: 0.992   //   Training loss: 0.0378   //   Test acc: 0.7932   //   Test loss: 0.8201\n",
      "early_stop: 2  /   Best acc: 0.7959183673469388\n",
      "Training task 3 in epoch 22. Batch size: 8.\n"
     ]
    },
    {
     "name": "stderr",
     "output_type": "stream",
     "text": [
      "100%|█████████████████████████████████████████████████████████████████████████████████████████████████████████████████████| 94/94 [00:18<00:00,  5.01it/s]\n",
      "100%|█████████████████████████████████████████████████████████████████████████████████████████████████████████████████████| 92/92 [00:10<00:00,  8.95it/s]\n"
     ]
    },
    {
     "name": "stdout",
     "output_type": "stream",
     "text": [
      "Trainig acc: 0.9867   //   Training loss: 0.0456   //   Test acc: 0.7973   //   Test loss: 0.8193\n",
      "early_stop: 1  /   Best acc: 0.7972789115646258\n",
      "Training task 3 in epoch 23. Batch size: 8.\n"
     ]
    },
    {
     "name": "stderr",
     "output_type": "stream",
     "text": [
      "100%|█████████████████████████████████████████████████████████████████████████████████████████████████████████████████████| 94/94 [00:18<00:00,  5.09it/s]\n",
      "100%|█████████████████████████████████████████████████████████████████████████████████████████████████████████████████████| 92/92 [00:10<00:00,  8.97it/s]\n"
     ]
    },
    {
     "name": "stdout",
     "output_type": "stream",
     "text": [
      "Trainig acc: 0.9854   //   Training loss: 0.0383   //   Test acc: 0.7810   //   Test loss: 0.8294\n",
      "early_stop: 2  /   Best acc: 0.7972789115646258\n",
      "Training task 3 in epoch 24. Batch size: 8.\n"
     ]
    },
    {
     "name": "stderr",
     "output_type": "stream",
     "text": [
      "100%|█████████████████████████████████████████████████████████████████████████████████████████████████████████████████████| 94/94 [00:18<00:00,  5.00it/s]\n",
      "100%|█████████████████████████████████████████████████████████████████████████████████████████████████████████████████████| 92/92 [00:10<00:00,  8.70it/s]\n"
     ]
    },
    {
     "name": "stdout",
     "output_type": "stream",
     "text": [
      "Trainig acc: 0.9867   //   Training loss: 0.0432   //   Test acc: 0.7728   //   Test loss: 0.8989\n",
      "early_stop: 3  /   Best acc: 0.7972789115646258\n",
      "Training task 3 in epoch 25. Batch size: 8.\n"
     ]
    },
    {
     "name": "stderr",
     "output_type": "stream",
     "text": [
      "100%|█████████████████████████████████████████████████████████████████████████████████████████████████████████████████████| 94/94 [00:18<00:00,  4.98it/s]\n",
      "100%|█████████████████████████████████████████████████████████████████████████████████████████████████████████████████████| 92/92 [00:10<00:00,  8.68it/s]\n"
     ]
    },
    {
     "name": "stdout",
     "output_type": "stream",
     "text": [
      "Trainig acc: 0.988   //   Training loss: 0.0328   //   Test acc: 0.7728   //   Test loss: 0.8684\n",
      "early_stop: 4  /   Best acc: 0.7972789115646258\n",
      "Training task 3 in epoch 26. Batch size: 8.\n"
     ]
    },
    {
     "name": "stderr",
     "output_type": "stream",
     "text": [
      "100%|█████████████████████████████████████████████████████████████████████████████████████████████████████████████████████| 94/94 [00:18<00:00,  4.99it/s]\n",
      "100%|█████████████████████████████████████████████████████████████████████████████████████████████████████████████████████| 92/92 [00:10<00:00,  9.04it/s]\n"
     ]
    },
    {
     "name": "stdout",
     "output_type": "stream",
     "text": [
      "Trainig acc: 0.9907   //   Training loss: 0.0367   //   Test acc: 0.7864   //   Test loss: 0.8401\n",
      "early_stop: 5  /   Best acc: 0.7972789115646258\n",
      "Training task 3 in epoch 27. Batch size: 8.\n"
     ]
    },
    {
     "name": "stderr",
     "output_type": "stream",
     "text": [
      "100%|█████████████████████████████████████████████████████████████████████████████████████████████████████████████████████| 94/94 [00:18<00:00,  5.01it/s]\n",
      "100%|█████████████████████████████████████████████████████████████████████████████████████████████████████████████████████| 92/92 [00:10<00:00,  9.05it/s]\n"
     ]
    },
    {
     "name": "stdout",
     "output_type": "stream",
     "text": [
      "Trainig acc: 0.988   //   Training loss: 0.0356   //   Test acc: 0.7850   //   Test loss: 0.8835\n",
      "early_stop: 6  /   Best acc: 0.7972789115646258\n",
      "Training task 3 in epoch 28. Batch size: 8.\n"
     ]
    },
    {
     "name": "stderr",
     "output_type": "stream",
     "text": [
      "100%|█████████████████████████████████████████████████████████████████████████████████████████████████████████████████████| 94/94 [00:18<00:00,  5.01it/s]\n",
      "100%|█████████████████████████████████████████████████████████████████████████████████████████████████████████████████████| 92/92 [00:10<00:00,  9.12it/s]\n"
     ]
    },
    {
     "name": "stdout",
     "output_type": "stream",
     "text": [
      "Trainig acc: 0.9894   //   Training loss: 0.0262   //   Test acc: 0.7728   //   Test loss: 0.8993\n",
      "early_stop: 7  /   Best acc: 0.7972789115646258\n",
      "Training task 3 in epoch 29. Batch size: 8.\n"
     ]
    },
    {
     "name": "stderr",
     "output_type": "stream",
     "text": [
      "100%|█████████████████████████████████████████████████████████████████████████████████████████████████████████████████████| 94/94 [00:18<00:00,  5.02it/s]\n",
      "100%|█████████████████████████████████████████████████████████████████████████████████████████████████████████████████████| 92/92 [00:10<00:00,  9.02it/s]\n"
     ]
    },
    {
     "name": "stdout",
     "output_type": "stream",
     "text": [
      "Trainig acc: 0.9907   //   Training loss: 0.0421   //   Test acc: 0.7932   //   Test loss: 0.7970\n",
      "early_stop: 8  /   Best acc: 0.7972789115646258\n",
      "Training task 3 in epoch 30. Batch size: 8.\n"
     ]
    },
    {
     "name": "stderr",
     "output_type": "stream",
     "text": [
      "100%|█████████████████████████████████████████████████████████████████████████████████████████████████████████████████████| 94/94 [00:18<00:00,  4.99it/s]\n",
      "100%|█████████████████████████████████████████████████████████████████████████████████████████████████████████████████████| 92/92 [00:10<00:00,  8.98it/s]\n"
     ]
    },
    {
     "name": "stdout",
     "output_type": "stream",
     "text": [
      "Trainig acc: 0.988   //   Training loss: 0.0368   //   Test acc: 0.7986   //   Test loss: 0.7975\n",
      "early_stop: 1  /   Best acc: 0.7986394557823129\n",
      "Training task 3 in epoch 31. Batch size: 8.\n"
     ]
    },
    {
     "name": "stderr",
     "output_type": "stream",
     "text": [
      "100%|█████████████████████████████████████████████████████████████████████████████████████████████████████████████████████| 94/94 [00:18<00:00,  4.98it/s]\n",
      "100%|█████████████████████████████████████████████████████████████████████████████████████████████████████████████████████| 92/92 [00:10<00:00,  8.53it/s]\n"
     ]
    },
    {
     "name": "stdout",
     "output_type": "stream",
     "text": [
      "Trainig acc: 0.9907   //   Training loss: 0.0257   //   Test acc: 0.7796   //   Test loss: 0.8703\n",
      "early_stop: 2  /   Best acc: 0.7986394557823129\n",
      "Training task 3 in epoch 32. Batch size: 8.\n"
     ]
    },
    {
     "name": "stderr",
     "output_type": "stream",
     "text": [
      "100%|█████████████████████████████████████████████████████████████████████████████████████████████████████████████████████| 94/94 [00:18<00:00,  4.96it/s]\n",
      "100%|█████████████████████████████████████████████████████████████████████████████████████████████████████████████████████| 92/92 [00:10<00:00,  9.06it/s]\n"
     ]
    },
    {
     "name": "stdout",
     "output_type": "stream",
     "text": [
      "Trainig acc: 0.992   //   Training loss: 0.0237   //   Test acc: 0.7918   //   Test loss: 0.8429\n",
      "early_stop: 3  /   Best acc: 0.7986394557823129\n",
      "Training task 3 in epoch 33. Batch size: 8.\n"
     ]
    },
    {
     "name": "stderr",
     "output_type": "stream",
     "text": [
      "100%|█████████████████████████████████████████████████████████████████████████████████████████████████████████████████████| 94/94 [00:18<00:00,  4.97it/s]\n",
      "100%|█████████████████████████████████████████████████████████████████████████████████████████████████████████████████████| 92/92 [00:09<00:00,  9.23it/s]\n"
     ]
    },
    {
     "name": "stdout",
     "output_type": "stream",
     "text": [
      "Trainig acc: 0.9894   //   Training loss: 0.0271   //   Test acc: 0.7891   //   Test loss: 0.8366\n",
      "early_stop: 4  /   Best acc: 0.7986394557823129\n",
      "Training task 3 in epoch 34. Batch size: 8.\n"
     ]
    },
    {
     "name": "stderr",
     "output_type": "stream",
     "text": [
      "100%|█████████████████████████████████████████████████████████████████████████████████████████████████████████████████████| 94/94 [00:18<00:00,  4.99it/s]\n",
      "100%|█████████████████████████████████████████████████████████████████████████████████████████████████████████████████████| 92/92 [00:10<00:00,  9.14it/s]\n"
     ]
    },
    {
     "name": "stdout",
     "output_type": "stream",
     "text": [
      "Trainig acc: 0.9934   //   Training loss: 0.0228   //   Test acc: 0.7823   //   Test loss: 0.8387\n",
      "early_stop: 5  /   Best acc: 0.7986394557823129\n",
      "Training task 3 in epoch 35. Batch size: 8.\n"
     ]
    },
    {
     "name": "stderr",
     "output_type": "stream",
     "text": [
      "100%|█████████████████████████████████████████████████████████████████████████████████████████████████████████████████████| 94/94 [00:18<00:00,  4.98it/s]\n",
      "100%|█████████████████████████████████████████████████████████████████████████████████████████████████████████████████████| 92/92 [00:10<00:00,  8.90it/s]\n"
     ]
    },
    {
     "name": "stdout",
     "output_type": "stream",
     "text": [
      "Trainig acc: 0.996   //   Training loss: 0.0149   //   Test acc: 0.7946   //   Test loss: 0.8310\n",
      "early_stop: 6  /   Best acc: 0.7986394557823129\n",
      "Training task 3 in epoch 36. Batch size: 8.\n"
     ]
    },
    {
     "name": "stderr",
     "output_type": "stream",
     "text": [
      "100%|█████████████████████████████████████████████████████████████████████████████████████████████████████████████████████| 94/94 [00:18<00:00,  5.00it/s]\n",
      "100%|█████████████████████████████████████████████████████████████████████████████████████████████████████████████████████| 92/92 [00:10<00:00,  8.84it/s]\n"
     ]
    },
    {
     "name": "stdout",
     "output_type": "stream",
     "text": [
      "Trainig acc: 0.9934   //   Training loss: 0.0230   //   Test acc: 0.7946   //   Test loss: 0.8297\n",
      "early_stop: 7  /   Best acc: 0.7986394557823129\n",
      "Training task 3 in epoch 37. Batch size: 8.\n"
     ]
    },
    {
     "name": "stderr",
     "output_type": "stream",
     "text": [
      "100%|█████████████████████████████████████████████████████████████████████████████████████████████████████████████████████| 94/94 [00:18<00:00,  4.97it/s]\n",
      "100%|█████████████████████████████████████████████████████████████████████████████████████████████████████████████████████| 92/92 [00:09<00:00,  9.21it/s]\n"
     ]
    },
    {
     "name": "stdout",
     "output_type": "stream",
     "text": [
      "Trainig acc: 0.9973   //   Training loss: 0.0130   //   Test acc: 0.8041   //   Test loss: 0.7991\n",
      "early_stop: 1  /   Best acc: 0.8040816326530612\n",
      "Training task 3 in epoch 38. Batch size: 8.\n"
     ]
    },
    {
     "name": "stderr",
     "output_type": "stream",
     "text": [
      "100%|█████████████████████████████████████████████████████████████████████████████████████████████████████████████████████| 94/94 [00:18<00:00,  5.02it/s]\n",
      "100%|█████████████████████████████████████████████████████████████████████████████████████████████████████████████████████| 92/92 [00:10<00:00,  8.89it/s]\n"
     ]
    },
    {
     "name": "stdout",
     "output_type": "stream",
     "text": [
      "Trainig acc: 0.9907   //   Training loss: 0.0239   //   Test acc: 0.7973   //   Test loss: 0.8360\n",
      "early_stop: 2  /   Best acc: 0.8040816326530612\n",
      "Training task 3 in epoch 39. Batch size: 8.\n"
     ]
    },
    {
     "name": "stderr",
     "output_type": "stream",
     "text": [
      "100%|█████████████████████████████████████████████████████████████████████████████████████████████████████████████████████| 94/94 [00:18<00:00,  5.02it/s]\n",
      "100%|█████████████████████████████████████████████████████████████████████████████████████████████████████████████████████| 92/92 [00:10<00:00,  8.85it/s]\n"
     ]
    },
    {
     "name": "stdout",
     "output_type": "stream",
     "text": [
      "Trainig acc: 0.9907   //   Training loss: 0.0256   //   Test acc: 0.7986   //   Test loss: 0.8132\n",
      "early_stop: 3  /   Best acc: 0.8040816326530612\n",
      "Training task 3 in epoch 40. Batch size: 8.\n"
     ]
    },
    {
     "name": "stderr",
     "output_type": "stream",
     "text": [
      "100%|█████████████████████████████████████████████████████████████████████████████████████████████████████████████████████| 94/94 [00:18<00:00,  4.99it/s]\n",
      "100%|█████████████████████████████████████████████████████████████████████████████████████████████████████████████████████| 92/92 [00:10<00:00,  9.20it/s]\n"
     ]
    },
    {
     "name": "stdout",
     "output_type": "stream",
     "text": [
      "Trainig acc: 0.9973   //   Training loss: 0.0137   //   Test acc: 0.7946   //   Test loss: 0.8120\n",
      "early_stop: 4  /   Best acc: 0.8040816326530612\n",
      "Training task 3 in epoch 41. Batch size: 8.\n"
     ]
    },
    {
     "name": "stderr",
     "output_type": "stream",
     "text": [
      "100%|█████████████████████████████████████████████████████████████████████████████████████████████████████████████████████| 94/94 [00:18<00:00,  5.04it/s]\n",
      "100%|█████████████████████████████████████████████████████████████████████████████████████████████████████████████████████| 92/92 [00:10<00:00,  8.97it/s]\n"
     ]
    },
    {
     "name": "stdout",
     "output_type": "stream",
     "text": [
      "Trainig acc: 0.9947   //   Training loss: 0.0189   //   Test acc: 0.7986   //   Test loss: 0.8451\n",
      "early_stop: 5  /   Best acc: 0.8040816326530612\n",
      "Training task 3 in epoch 42. Batch size: 8.\n"
     ]
    },
    {
     "name": "stderr",
     "output_type": "stream",
     "text": [
      "100%|█████████████████████████████████████████████████████████████████████████████████████████████████████████████████████| 94/94 [00:18<00:00,  5.01it/s]\n",
      "100%|█████████████████████████████████████████████████████████████████████████████████████████████████████████████████████| 92/92 [00:10<00:00,  8.82it/s]\n"
     ]
    },
    {
     "name": "stdout",
     "output_type": "stream",
     "text": [
      "Trainig acc: 0.996   //   Training loss: 0.0156   //   Test acc: 0.8014   //   Test loss: 0.8298\n",
      "early_stop: 6  /   Best acc: 0.8040816326530612\n",
      "Training task 3 in epoch 43. Batch size: 8.\n"
     ]
    },
    {
     "name": "stderr",
     "output_type": "stream",
     "text": [
      "100%|█████████████████████████████████████████████████████████████████████████████████████████████████████████████████████| 94/94 [00:18<00:00,  4.96it/s]\n",
      "100%|█████████████████████████████████████████████████████████████████████████████████████████████████████████████████████| 92/92 [00:10<00:00,  8.77it/s]\n"
     ]
    },
    {
     "name": "stdout",
     "output_type": "stream",
     "text": [
      "Trainig acc: 0.996   //   Training loss: 0.0137   //   Test acc: 0.7864   //   Test loss: 0.8534\n",
      "early_stop: 7  /   Best acc: 0.8040816326530612\n",
      "Training task 3 in epoch 44. Batch size: 8.\n"
     ]
    },
    {
     "name": "stderr",
     "output_type": "stream",
     "text": [
      "100%|█████████████████████████████████████████████████████████████████████████████████████████████████████████████████████| 94/94 [00:18<00:00,  5.01it/s]\n",
      "100%|█████████████████████████████████████████████████████████████████████████████████████████████████████████████████████| 92/92 [00:10<00:00,  8.55it/s]\n"
     ]
    },
    {
     "name": "stdout",
     "output_type": "stream",
     "text": [
      "Trainig acc: 0.996   //   Training loss: 0.0147   //   Test acc: 0.7973   //   Test loss: 0.7977\n",
      "early_stop: 8  /   Best acc: 0.8040816326530612\n",
      "Training task 3 in epoch 45. Batch size: 8.\n"
     ]
    },
    {
     "name": "stderr",
     "output_type": "stream",
     "text": [
      "100%|█████████████████████████████████████████████████████████████████████████████████████████████████████████████████████| 94/94 [00:18<00:00,  4.97it/s]\n",
      "100%|█████████████████████████████████████████████████████████████████████████████████████████████████████████████████████| 92/92 [00:10<00:00,  8.62it/s]\n"
     ]
    },
    {
     "name": "stdout",
     "output_type": "stream",
     "text": [
      "Trainig acc: 0.9947   //   Training loss: 0.0184   //   Test acc: 0.8041   //   Test loss: 0.7856\n",
      "early_stop: 9  /   Best acc: 0.8040816326530612\n",
      "Training task 3 in epoch 46. Batch size: 8.\n"
     ]
    },
    {
     "name": "stderr",
     "output_type": "stream",
     "text": [
      "100%|█████████████████████████████████████████████████████████████████████████████████████████████████████████████████████| 94/94 [00:18<00:00,  5.00it/s]\n",
      "100%|█████████████████████████████████████████████████████████████████████████████████████████████████████████████████████| 92/92 [00:10<00:00,  8.60it/s]\n"
     ]
    },
    {
     "name": "stdout",
     "output_type": "stream",
     "text": [
      "Trainig acc: 0.9934   //   Training loss: 0.0225   //   Test acc: 0.8000   //   Test loss: 0.8316\n",
      "early_stop: 10  /   Best acc: 0.8040816326530612\n",
      "Training task 3 in epoch 47. Batch size: 8.\n"
     ]
    },
    {
     "name": "stderr",
     "output_type": "stream",
     "text": [
      "100%|█████████████████████████████████████████████████████████████████████████████████████████████████████████████████████| 94/94 [00:18<00:00,  5.02it/s]\n",
      "100%|█████████████████████████████████████████████████████████████████████████████████████████████████████████████████████| 92/92 [00:10<00:00,  8.61it/s]\n"
     ]
    },
    {
     "name": "stdout",
     "output_type": "stream",
     "text": [
      "Trainig acc: 0.9934   //   Training loss: 0.0265   //   Test acc: 0.7932   //   Test loss: 0.8093\n",
      "early_stop: 11  /   Best acc: 0.8040816326530612\n",
      "Training task 3 in epoch 48. Batch size: 8.\n"
     ]
    },
    {
     "name": "stderr",
     "output_type": "stream",
     "text": [
      "100%|█████████████████████████████████████████████████████████████████████████████████████████████████████████████████████| 94/94 [00:18<00:00,  4.99it/s]\n",
      "100%|█████████████████████████████████████████████████████████████████████████████████████████████████████████████████████| 92/92 [00:10<00:00,  8.61it/s]\n"
     ]
    },
    {
     "name": "stdout",
     "output_type": "stream",
     "text": [
      "---------------------------------------- TASK_4 ----------------------------------------\n",
      "Training task 4 in epoch 0. Batch size: 8.\n"
     ]
    },
    {
     "name": "stderr",
     "output_type": "stream",
     "text": [
      "100%|█████████████████████████████████████████████████████████████████████████████████████████████████████████████████████| 94/94 [00:19<00:00,  4.94it/s]\n",
      "100%|█████████████████████████████████████████████████████████████████████████████████████████████████████████████████████| 92/92 [00:10<00:00,  8.90it/s]\n"
     ]
    },
    {
     "name": "stdout",
     "output_type": "stream",
     "text": [
      "Trainig acc: 0.05319   //   Training loss: 4.7002   //   Test acc: 0.2551   //   Test loss: 3.1442\n",
      "early_stop: 1  /   Best acc: 0.2551159618008186\n",
      "Training task 4 in epoch 1. Batch size: 8.\n"
     ]
    },
    {
     "name": "stderr",
     "output_type": "stream",
     "text": [
      "100%|█████████████████████████████████████████████████████████████████████████████████████████████████████████████████████| 94/94 [00:18<00:00,  4.99it/s]\n",
      "100%|█████████████████████████████████████████████████████████████████████████████████████████████████████████████████████| 92/92 [00:10<00:00,  8.94it/s]\n"
     ]
    },
    {
     "name": "stdout",
     "output_type": "stream",
     "text": [
      "Trainig acc: 0.2646   //   Training loss: 2.5808   //   Test acc: 0.5389   //   Test loss: 1.8679\n",
      "early_stop: 1  /   Best acc: 0.538881309686221\n",
      "Training task 4 in epoch 2. Batch size: 8.\n"
     ]
    },
    {
     "name": "stderr",
     "output_type": "stream",
     "text": [
      "100%|█████████████████████████████████████████████████████████████████████████████████████████████████████████████████████| 94/94 [00:18<00:00,  4.97it/s]\n",
      "100%|█████████████████████████████████████████████████████████████████████████████████████████████████████████████████████| 92/92 [00:10<00:00,  8.88it/s]\n"
     ]
    },
    {
     "name": "stdout",
     "output_type": "stream",
     "text": [
      "Trainig acc: 0.4548   //   Training loss: 1.8444   //   Test acc: 0.6289   //   Test loss: 1.3683\n",
      "early_stop: 1  /   Best acc: 0.6289222373806276\n",
      "Training task 4 in epoch 3. Batch size: 8.\n"
     ]
    },
    {
     "name": "stderr",
     "output_type": "stream",
     "text": [
      "100%|█████████████████████████████████████████████████████████████████████████████████████████████████████████████████████| 94/94 [00:19<00:00,  4.91it/s]\n",
      "100%|█████████████████████████████████████████████████████████████████████████████████████████████████████████████████████| 92/92 [00:10<00:00,  9.15it/s]\n"
     ]
    },
    {
     "name": "stdout",
     "output_type": "stream",
     "text": [
      "Trainig acc: 0.633   //   Training loss: 1.2494   //   Test acc: 0.7080   //   Test loss: 1.0288\n",
      "early_stop: 1  /   Best acc: 0.7080491132332879\n",
      "Training task 4 in epoch 4. Batch size: 8.\n"
     ]
    },
    {
     "name": "stderr",
     "output_type": "stream",
     "text": [
      "100%|█████████████████████████████████████████████████████████████████████████████████████████████████████████████████████| 94/94 [00:18<00:00,  5.00it/s]\n",
      "100%|█████████████████████████████████████████████████████████████████████████████████████████████████████████████████████| 92/92 [00:10<00:00,  8.39it/s]\n"
     ]
    },
    {
     "name": "stdout",
     "output_type": "stream",
     "text": [
      "Trainig acc: 0.758   //   Training loss: 0.9264   //   Test acc: 0.7381   //   Test loss: 0.8752\n",
      "early_stop: 1  /   Best acc: 0.73806275579809\n",
      "Training task 4 in epoch 5. Batch size: 8.\n"
     ]
    },
    {
     "name": "stderr",
     "output_type": "stream",
     "text": [
      "100%|█████████████████████████████████████████████████████████████████████████████████████████████████████████████████████| 94/94 [00:18<00:00,  4.97it/s]\n",
      "100%|█████████████████████████████████████████████████████████████████████████████████████████████████████████████████████| 92/92 [00:10<00:00,  8.69it/s]\n"
     ]
    },
    {
     "name": "stdout",
     "output_type": "stream",
     "text": [
      "Trainig acc: 0.7713   //   Training loss: 0.6861   //   Test acc: 0.7722   //   Test loss: 0.7639\n",
      "early_stop: 1  /   Best acc: 0.772169167803547\n",
      "Training task 4 in epoch 6. Batch size: 8.\n"
     ]
    },
    {
     "name": "stderr",
     "output_type": "stream",
     "text": [
      "100%|█████████████████████████████████████████████████████████████████████████████████████████████████████████████████████| 94/94 [00:19<00:00,  4.94it/s]\n",
      "100%|█████████████████████████████████████████████████████████████████████████████████████████████████████████████████████| 92/92 [00:10<00:00,  9.00it/s]\n"
     ]
    },
    {
     "name": "stdout",
     "output_type": "stream",
     "text": [
      "Trainig acc: 0.8457   //   Training loss: 0.5095   //   Test acc: 0.7763   //   Test loss: 0.6950\n",
      "early_stop: 1  /   Best acc: 0.7762619372442019\n",
      "Training task 4 in epoch 7. Batch size: 8.\n"
     ]
    },
    {
     "name": "stderr",
     "output_type": "stream",
     "text": [
      "100%|█████████████████████████████████████████████████████████████████████████████████████████████████████████████████████| 94/94 [00:18<00:00,  4.98it/s]\n",
      "100%|█████████████████████████████████████████████████████████████████████████████████████████████████████████████████████| 92/92 [00:10<00:00,  9.06it/s]\n"
     ]
    },
    {
     "name": "stdout",
     "output_type": "stream",
     "text": [
      "Trainig acc: 0.8684   //   Training loss: 0.4172   //   Test acc: 0.7885   //   Test loss: 0.7094\n",
      "early_stop: 1  /   Best acc: 0.7885402455661664\n",
      "Training task 4 in epoch 8. Batch size: 8.\n"
     ]
    },
    {
     "name": "stderr",
     "output_type": "stream",
     "text": [
      "100%|█████████████████████████████████████████████████████████████████████████████████████████████████████████████████████| 94/94 [00:18<00:00,  5.00it/s]\n",
      "100%|█████████████████████████████████████████████████████████████████████████████████████████████████████████████████████| 92/92 [00:10<00:00,  8.63it/s]\n"
     ]
    },
    {
     "name": "stdout",
     "output_type": "stream",
     "text": [
      "Trainig acc: 0.9082   //   Training loss: 0.3268   //   Test acc: 0.8158   //   Test loss: 0.6276\n",
      "early_stop: 1  /   Best acc: 0.8158253751705321\n",
      "Training task 4 in epoch 9. Batch size: 8.\n"
     ]
    },
    {
     "name": "stderr",
     "output_type": "stream",
     "text": [
      "100%|█████████████████████████████████████████████████████████████████████████████████████████████████████████████████████| 94/94 [00:18<00:00,  4.96it/s]\n",
      "100%|█████████████████████████████████████████████████████████████████████████████████████████████████████████████████████| 92/92 [00:10<00:00,  9.10it/s]\n"
     ]
    },
    {
     "name": "stdout",
     "output_type": "stream",
     "text": [
      "Trainig acc: 0.9189   //   Training loss: 0.2622   //   Test acc: 0.8104   //   Test loss: 0.6303\n",
      "early_stop: 2  /   Best acc: 0.8158253751705321\n",
      "Training task 4 in epoch 10. Batch size: 8.\n"
     ]
    },
    {
     "name": "stderr",
     "output_type": "stream",
     "text": [
      "100%|█████████████████████████████████████████████████████████████████████████████████████████████████████████████████████| 94/94 [00:19<00:00,  4.94it/s]\n",
      "100%|█████████████████████████████████████████████████████████████████████████████████████████████████████████████████████| 92/92 [00:10<00:00,  9.01it/s]\n"
     ]
    },
    {
     "name": "stdout",
     "output_type": "stream",
     "text": [
      "Trainig acc: 0.9521   //   Training loss: 0.1828   //   Test acc: 0.8076   //   Test loss: 0.6246\n",
      "early_stop: 3  /   Best acc: 0.8158253751705321\n",
      "Training task 4 in epoch 11. Batch size: 8.\n"
     ]
    },
    {
     "name": "stderr",
     "output_type": "stream",
     "text": [
      "100%|█████████████████████████████████████████████████████████████████████████████████████████████████████████████████████| 94/94 [00:18<00:00,  4.99it/s]\n",
      "100%|█████████████████████████████████████████████████████████████████████████████████████████████████████████████████████| 92/92 [00:10<00:00,  8.64it/s]\n"
     ]
    },
    {
     "name": "stdout",
     "output_type": "stream",
     "text": [
      "Trainig acc: 0.9441   //   Training loss: 0.2094   //   Test acc: 0.8322   //   Test loss: 0.6086\n",
      "early_stop: 1  /   Best acc: 0.8321964529331515\n",
      "Training task 4 in epoch 12. Batch size: 8.\n"
     ]
    },
    {
     "name": "stderr",
     "output_type": "stream",
     "text": [
      "100%|█████████████████████████████████████████████████████████████████████████████████████████████████████████████████████| 94/94 [00:18<00:00,  4.97it/s]\n",
      "100%|█████████████████████████████████████████████████████████████████████████████████████████████████████████████████████| 92/92 [00:10<00:00,  9.00it/s]\n"
     ]
    },
    {
     "name": "stdout",
     "output_type": "stream",
     "text": [
      "Trainig acc: 0.9601   //   Training loss: 0.1309   //   Test acc: 0.8226   //   Test loss: 0.6248\n",
      "early_stop: 2  /   Best acc: 0.8321964529331515\n",
      "Training task 4 in epoch 13. Batch size: 8.\n"
     ]
    },
    {
     "name": "stderr",
     "output_type": "stream",
     "text": [
      "100%|█████████████████████████████████████████████████████████████████████████████████████████████████████████████████████| 94/94 [00:18<00:00,  4.98it/s]\n",
      "100%|█████████████████████████████████████████████████████████████████████████████████████████████████████████████████████| 92/92 [00:10<00:00,  8.64it/s]\n"
     ]
    },
    {
     "name": "stdout",
     "output_type": "stream",
     "text": [
      "Trainig acc: 0.9601   //   Training loss: 0.1196   //   Test acc: 0.8172   //   Test loss: 0.6464\n",
      "early_stop: 3  /   Best acc: 0.8321964529331515\n",
      "Training task 4 in epoch 14. Batch size: 8.\n"
     ]
    },
    {
     "name": "stderr",
     "output_type": "stream",
     "text": [
      "100%|█████████████████████████████████████████████████████████████████████████████████████████████████████████████████████| 94/94 [00:18<00:00,  4.96it/s]\n",
      "100%|█████████████████████████████████████████████████████████████████████████████████████████████████████████████████████| 92/92 [00:10<00:00,  9.14it/s]\n"
     ]
    },
    {
     "name": "stdout",
     "output_type": "stream",
     "text": [
      "Trainig acc: 0.9694   //   Training loss: 0.1125   //   Test acc: 0.8404   //   Test loss: 0.6151\n",
      "early_stop: 1  /   Best acc: 0.8403819918144612\n",
      "Training task 4 in epoch 15. Batch size: 8.\n"
     ]
    },
    {
     "name": "stderr",
     "output_type": "stream",
     "text": [
      "100%|█████████████████████████████████████████████████████████████████████████████████████████████████████████████████████| 94/94 [00:18<00:00,  5.00it/s]\n",
      "100%|█████████████████████████████████████████████████████████████████████████████████████████████████████████████████████| 92/92 [00:10<00:00,  9.14it/s]\n"
     ]
    },
    {
     "name": "stdout",
     "output_type": "stream",
     "text": [
      "Trainig acc: 0.9747   //   Training loss: 0.0914   //   Test acc: 0.8390   //   Test loss: 0.6127\n",
      "early_stop: 2  /   Best acc: 0.8403819918144612\n",
      "Training task 4 in epoch 16. Batch size: 8.\n"
     ]
    },
    {
     "name": "stderr",
     "output_type": "stream",
     "text": [
      "100%|█████████████████████████████████████████████████████████████████████████████████████████████████████████████████████| 94/94 [00:18<00:00,  4.97it/s]\n",
      "100%|█████████████████████████████████████████████████████████████████████████████████████████████████████████████████████| 92/92 [00:10<00:00,  8.99it/s]\n"
     ]
    },
    {
     "name": "stdout",
     "output_type": "stream",
     "text": [
      "Trainig acc: 0.984   //   Training loss: 0.0623   //   Test acc: 0.8417   //   Test loss: 0.6338\n",
      "early_stop: 1  /   Best acc: 0.8417462482946794\n",
      "Training task 4 in epoch 17. Batch size: 8.\n"
     ]
    },
    {
     "name": "stderr",
     "output_type": "stream",
     "text": [
      "100%|█████████████████████████████████████████████████████████████████████████████████████████████████████████████████████| 94/94 [00:18<00:00,  4.96it/s]\n",
      "100%|█████████████████████████████████████████████████████████████████████████████████████████████████████████████████████| 92/92 [00:10<00:00,  8.93it/s]\n"
     ]
    },
    {
     "name": "stdout",
     "output_type": "stream",
     "text": [
      "Trainig acc: 0.9761   //   Training loss: 0.0697   //   Test acc: 0.8363   //   Test loss: 0.6345\n",
      "early_stop: 2  /   Best acc: 0.8417462482946794\n",
      "Training task 4 in epoch 18. Batch size: 8.\n"
     ]
    },
    {
     "name": "stderr",
     "output_type": "stream",
     "text": [
      "100%|█████████████████████████████████████████████████████████████████████████████████████████████████████████████████████| 94/94 [00:18<00:00,  4.95it/s]\n",
      "100%|█████████████████████████████████████████████████████████████████████████████████████████████████████████████████████| 92/92 [00:10<00:00,  9.06it/s]\n"
     ]
    },
    {
     "name": "stdout",
     "output_type": "stream",
     "text": [
      "Trainig acc: 0.9774   //   Training loss: 0.0621   //   Test acc: 0.8336   //   Test loss: 0.6833\n",
      "early_stop: 3  /   Best acc: 0.8417462482946794\n",
      "Training task 4 in epoch 19. Batch size: 8.\n"
     ]
    },
    {
     "name": "stderr",
     "output_type": "stream",
     "text": [
      "100%|█████████████████████████████████████████████████████████████████████████████████████████████████████████████████████| 94/94 [00:18<00:00,  4.97it/s]\n",
      "100%|█████████████████████████████████████████████████████████████████████████████████████████████████████████████████████| 92/92 [00:09<00:00,  9.38it/s]\n"
     ]
    },
    {
     "name": "stdout",
     "output_type": "stream",
     "text": [
      "Trainig acc: 0.9747   //   Training loss: 0.0652   //   Test acc: 0.8322   //   Test loss: 0.6370\n",
      "early_stop: 4  /   Best acc: 0.8417462482946794\n",
      "Training task 4 in epoch 20. Batch size: 8.\n"
     ]
    },
    {
     "name": "stderr",
     "output_type": "stream",
     "text": [
      "100%|█████████████████████████████████████████████████████████████████████████████████████████████████████████████████████| 94/94 [00:18<00:00,  4.98it/s]\n",
      "100%|█████████████████████████████████████████████████████████████████████████████████████████████████████████████████████| 92/92 [00:10<00:00,  8.83it/s]\n"
     ]
    },
    {
     "name": "stdout",
     "output_type": "stream",
     "text": [
      "Trainig acc: 0.9854   //   Training loss: 0.0407   //   Test acc: 0.8445   //   Test loss: 0.5982\n",
      "early_stop: 1  /   Best acc: 0.844474761255116\n",
      "Training task 4 in epoch 21. Batch size: 8.\n"
     ]
    },
    {
     "name": "stderr",
     "output_type": "stream",
     "text": [
      "100%|█████████████████████████████████████████████████████████████████████████████████████████████████████████████████████| 94/94 [00:18<00:00,  4.98it/s]\n",
      "100%|█████████████████████████████████████████████████████████████████████████████████████████████████████████████████████| 92/92 [00:09<00:00,  9.24it/s]\n"
     ]
    },
    {
     "name": "stdout",
     "output_type": "stream",
     "text": [
      "Trainig acc: 0.9854   //   Training loss: 0.0413   //   Test acc: 0.8472   //   Test loss: 0.6352\n",
      "early_stop: 1  /   Best acc: 0.8472032742155525\n",
      "Training task 4 in epoch 22. Batch size: 8.\n"
     ]
    },
    {
     "name": "stderr",
     "output_type": "stream",
     "text": [
      "100%|█████████████████████████████████████████████████████████████████████████████████████████████████████████████████████| 94/94 [00:18<00:00,  4.96it/s]\n",
      "100%|█████████████████████████████████████████████████████████████████████████████████████████████████████████████████████| 92/92 [00:09<00:00,  9.20it/s]\n"
     ]
    },
    {
     "name": "stdout",
     "output_type": "stream",
     "text": [
      "Trainig acc: 0.988   //   Training loss: 0.0316   //   Test acc: 0.8240   //   Test loss: 0.6555\n",
      "early_stop: 2  /   Best acc: 0.8472032742155525\n",
      "Training task 4 in epoch 23. Batch size: 8.\n"
     ]
    },
    {
     "name": "stderr",
     "output_type": "stream",
     "text": [
      "100%|█████████████████████████████████████████████████████████████████████████████████████████████████████████████████████| 94/94 [00:18<00:00,  4.96it/s]\n",
      "100%|█████████████████████████████████████████████████████████████████████████████████████████████████████████████████████| 92/92 [00:10<00:00,  9.12it/s]\n"
     ]
    },
    {
     "name": "stdout",
     "output_type": "stream",
     "text": [
      "Trainig acc: 0.9907   //   Training loss: 0.0255   //   Test acc: 0.8486   //   Test loss: 0.6249\n",
      "early_stop: 1  /   Best acc: 0.8485675306957708\n",
      "Training task 4 in epoch 24. Batch size: 8.\n"
     ]
    },
    {
     "name": "stderr",
     "output_type": "stream",
     "text": [
      "100%|█████████████████████████████████████████████████████████████████████████████████████████████████████████████████████| 94/94 [00:18<00:00,  5.00it/s]\n",
      "100%|█████████████████████████████████████████████████████████████████████████████████████████████████████████████████████| 92/92 [00:09<00:00,  9.27it/s]\n"
     ]
    },
    {
     "name": "stdout",
     "output_type": "stream",
     "text": [
      "Trainig acc: 0.988   //   Training loss: 0.0226   //   Test acc: 0.8486   //   Test loss: 0.6134\n",
      "early_stop: 2  /   Best acc: 0.8485675306957708\n",
      "Training task 4 in epoch 25. Batch size: 8.\n"
     ]
    },
    {
     "name": "stderr",
     "output_type": "stream",
     "text": [
      "100%|█████████████████████████████████████████████████████████████████████████████████████████████████████████████████████| 94/94 [00:19<00:00,  4.93it/s]\n",
      "100%|█████████████████████████████████████████████████████████████████████████████████████████████████████████████████████| 92/92 [00:10<00:00,  8.89it/s]\n"
     ]
    },
    {
     "name": "stdout",
     "output_type": "stream",
     "text": [
      "Trainig acc: 0.9867   //   Training loss: 0.0332   //   Test acc: 0.8527   //   Test loss: 0.6171\n",
      "early_stop: 1  /   Best acc: 0.8526603001364257\n",
      "Training task 4 in epoch 26. Batch size: 8.\n"
     ]
    },
    {
     "name": "stderr",
     "output_type": "stream",
     "text": [
      "100%|█████████████████████████████████████████████████████████████████████████████████████████████████████████████████████| 94/94 [00:18<00:00,  4.97it/s]\n",
      "100%|█████████████████████████████████████████████████████████████████████████████████████████████████████████████████████| 92/92 [00:11<00:00,  8.34it/s]\n"
     ]
    },
    {
     "name": "stdout",
     "output_type": "stream",
     "text": [
      "Trainig acc: 0.9934   //   Training loss: 0.0161   //   Test acc: 0.8499   //   Test loss: 0.6401\n",
      "early_stop: 2  /   Best acc: 0.8526603001364257\n",
      "Training task 4 in epoch 27. Batch size: 8.\n"
     ]
    },
    {
     "name": "stderr",
     "output_type": "stream",
     "text": [
      "100%|█████████████████████████████████████████████████████████████████████████████████████████████████████████████████████| 94/94 [00:18<00:00,  4.97it/s]\n",
      "100%|█████████████████████████████████████████████████████████████████████████████████████████████████████████████████████| 92/92 [00:10<00:00,  9.00it/s]\n"
     ]
    },
    {
     "name": "stdout",
     "output_type": "stream",
     "text": [
      "Trainig acc: 0.9894   //   Training loss: 0.0250   //   Test acc: 0.8363   //   Test loss: 0.6593\n",
      "early_stop: 3  /   Best acc: 0.8526603001364257\n",
      "Training task 4 in epoch 28. Batch size: 8.\n"
     ]
    },
    {
     "name": "stderr",
     "output_type": "stream",
     "text": [
      "100%|█████████████████████████████████████████████████████████████████████████████████████████████████████████████████████| 94/94 [00:18<00:00,  4.99it/s]\n",
      "100%|█████████████████████████████████████████████████████████████████████████████████████████████████████████████████████| 92/92 [00:10<00:00,  8.93it/s]\n"
     ]
    },
    {
     "name": "stdout",
     "output_type": "stream",
     "text": [
      "Trainig acc: 0.988   //   Training loss: 0.0293   //   Test acc: 0.8404   //   Test loss: 0.6858\n",
      "early_stop: 4  /   Best acc: 0.8526603001364257\n",
      "Training task 4 in epoch 29. Batch size: 8.\n"
     ]
    },
    {
     "name": "stderr",
     "output_type": "stream",
     "text": [
      "100%|█████████████████████████████████████████████████████████████████████████████████████████████████████████████████████| 94/94 [00:18<00:00,  4.96it/s]\n",
      "100%|█████████████████████████████████████████████████████████████████████████████████████████████████████████████████████| 92/92 [00:10<00:00,  8.47it/s]\n"
     ]
    },
    {
     "name": "stdout",
     "output_type": "stream",
     "text": [
      "Trainig acc: 0.984   //   Training loss: 0.0313   //   Test acc: 0.8295   //   Test loss: 0.7510\n",
      "early_stop: 5  /   Best acc: 0.8526603001364257\n",
      "Training task 4 in epoch 30. Batch size: 8.\n"
     ]
    },
    {
     "name": "stderr",
     "output_type": "stream",
     "text": [
      "100%|█████████████████████████████████████████████████████████████████████████████████████████████████████████████████████| 94/94 [00:18<00:00,  4.97it/s]\n",
      "100%|█████████████████████████████████████████████████████████████████████████████████████████████████████████████████████| 92/92 [00:10<00:00,  9.01it/s]\n"
     ]
    },
    {
     "name": "stdout",
     "output_type": "stream",
     "text": [
      "Trainig acc: 0.9934   //   Training loss: 0.0179   //   Test acc: 0.8390   //   Test loss: 0.6955\n",
      "early_stop: 6  /   Best acc: 0.8526603001364257\n",
      "Training task 4 in epoch 31. Batch size: 8.\n"
     ]
    },
    {
     "name": "stderr",
     "output_type": "stream",
     "text": [
      "100%|█████████████████████████████████████████████████████████████████████████████████████████████████████████████████████| 94/94 [00:18<00:00,  5.01it/s]\n",
      "100%|█████████████████████████████████████████████████████████████████████████████████████████████████████████████████████| 92/92 [00:09<00:00,  9.25it/s]\n"
     ]
    },
    {
     "name": "stdout",
     "output_type": "stream",
     "text": [
      "Trainig acc: 0.9934   //   Training loss: 0.0094   //   Test acc: 0.8445   //   Test loss: 0.6768\n",
      "early_stop: 7  /   Best acc: 0.8526603001364257\n",
      "Training task 4 in epoch 32. Batch size: 8.\n"
     ]
    },
    {
     "name": "stderr",
     "output_type": "stream",
     "text": [
      "100%|█████████████████████████████████████████████████████████████████████████████████████████████████████████████████████| 94/94 [00:18<00:00,  5.00it/s]\n",
      "100%|█████████████████████████████████████████████████████████████████████████████████████████████████████████████████████| 92/92 [00:10<00:00,  8.88it/s]\n"
     ]
    },
    {
     "name": "stdout",
     "output_type": "stream",
     "text": [
      "Trainig acc: 0.992   //   Training loss: 0.0139   //   Test acc: 0.8472   //   Test loss: 0.6658\n",
      "early_stop: 8  /   Best acc: 0.8526603001364257\n",
      "Training task 4 in epoch 33. Batch size: 8.\n"
     ]
    },
    {
     "name": "stderr",
     "output_type": "stream",
     "text": [
      "100%|█████████████████████████████████████████████████████████████████████████████████████████████████████████████████████| 94/94 [00:18<00:00,  4.98it/s]\n",
      "100%|█████████████████████████████████████████████████████████████████████████████████████████████████████████████████████| 92/92 [00:10<00:00,  8.89it/s]\n"
     ]
    },
    {
     "name": "stdout",
     "output_type": "stream",
     "text": [
      "Trainig acc: 0.988   //   Training loss: 0.0182   //   Test acc: 0.8527   //   Test loss: 0.6682\n",
      "early_stop: 9  /   Best acc: 0.8526603001364257\n",
      "Training task 4 in epoch 34. Batch size: 8.\n"
     ]
    },
    {
     "name": "stderr",
     "output_type": "stream",
     "text": [
      "100%|█████████████████████████████████████████████████████████████████████████████████████████████████████████████████████| 94/94 [00:18<00:00,  4.98it/s]\n",
      "100%|█████████████████████████████████████████████████████████████████████████████████████████████████████████████████████| 92/92 [00:10<00:00,  8.64it/s]\n"
     ]
    },
    {
     "name": "stdout",
     "output_type": "stream",
     "text": [
      "Trainig acc: 0.9934   //   Training loss: 0.0106   //   Test acc: 0.8417   //   Test loss: 0.6665\n",
      "early_stop: 10  /   Best acc: 0.8526603001364257\n",
      "Training task 4 in epoch 35. Batch size: 8.\n"
     ]
    },
    {
     "name": "stderr",
     "output_type": "stream",
     "text": [
      "100%|█████████████████████████████████████████████████████████████████████████████████████████████████████████████████████| 94/94 [00:18<00:00,  4.98it/s]\n",
      "100%|█████████████████████████████████████████████████████████████████████████████████████████████████████████████████████| 92/92 [00:10<00:00,  9.14it/s]\n"
     ]
    },
    {
     "name": "stdout",
     "output_type": "stream",
     "text": [
      "Trainig acc: 0.9934   //   Training loss: 0.0094   //   Test acc: 0.8486   //   Test loss: 0.6703\n",
      "early_stop: 11  /   Best acc: 0.8526603001364257\n",
      "Training task 4 in epoch 36. Batch size: 8.\n"
     ]
    },
    {
     "name": "stderr",
     "output_type": "stream",
     "text": [
      "100%|█████████████████████████████████████████████████████████████████████████████████████████████████████████████████████| 94/94 [00:18<00:00,  5.00it/s]\n",
      "100%|█████████████████████████████████████████████████████████████████████████████████████████████████████████████████████| 92/92 [00:10<00:00,  8.90it/s]\n"
     ]
    },
    {
     "data": {
      "application/vnd.jupyter.widget-view+json": {
       "model_id": "",
       "version_major": 2,
       "version_minor": 0
      },
      "text/plain": [
       "VBox(children=(Label(value='0.003 MB of 0.003 MB uploaded\\r'), FloatProgress(value=1.0, max=1.0)))"
      ]
     },
     "metadata": {},
     "output_type": "display_data"
    },
    {
     "data": {
      "text/html": [
       "<style>\n",
       "    table.wandb td:nth-child(1) { padding: 0 10px; text-align: left ; width: auto;} td:nth-child(2) {text-align: left ; width: 100%}\n",
       "    .wandb-row { display: flex; flex-direction: row; flex-wrap: wrap; justify-content: flex-start; width: 100% }\n",
       "    .wandb-col { display: flex; flex-direction: column; flex-basis: 100%; flex: 1; padding: 10px; }\n",
       "    </style>\n",
       "<div class=\"wandb-row\"><div class=\"wandb-col\"><h3>Run history:</h3><br/><table class=\"wandb\"><tr><td>Accuracy</td><td>▅▆▆▆▆▆▆▇▇▇▇▇▄▅▆▆▆▆▆▆▂▄▅▅▅▅▅▁▆▆▇▇▇▇▇▇████</td></tr><tr><td>Loss</td><td>▄▃▃▃▄▄▄▄▄▄▄▄▄▃▃▃▃▃▃▃▆▃▃▃▃▃▃█▂▂▂▂▂▂▂▁▁▁▁▁</td></tr><tr><td>best_val_acc</td><td>▅▆▆▆▆▆▆▇▇▇▇▇▄▅▆▆▆▆▆▆▂▄▅▅▅▅▅▁▆▆▇▇▇▇▇▇████</td></tr><tr><td>learning_rate</td><td>█████▂▂▂▁▁▁▁███▂▂▁▁▁███▂▁▁▁████▂▂▁▁████▂</td></tr><tr><td>patience</td><td>▁▁▂▂▃▁▃▄▂▆▃▆▁▁▃▁▄▃▂▅▁▁▃▄▇▂█▁▂▁▁▁▄▅█▁▁▃▂█</td></tr><tr><td>task</td><td>▁▁▁▁▁▁▁▁▁▁▁▁▃▃▃▃▃▃▃▃▅▅▅▅▅▅▅▆▆▆▆▆▆▆▆█████</td></tr><tr><td>train_acc</td><td>▄▆██████████▅▇██████▂▅█████▁▇▇█████▆████</td></tr><tr><td>train_loss</td><td>▅▃▁▁▁▁▁▁▁▁▁▁▄▂▁▁▁▁▁▁▇▃▁▁▁▁▁█▂▁▁▁▁▁▁▃▁▁▁▁</td></tr><tr><td>val_acc</td><td>▅▆▆▆▆▆▆▇▇▇▇▇▄▅▆▆▆▆▆▆▂▄▅▅▅▅▅▁▆▆▇▇▇▇▇▇████</td></tr><tr><td>val_loss</td><td>▄▃▃▃▄▄▄▄▄▄▄▄▄▃▃▃▃▃▃▃▆▃▃▃▃▃▃█▂▂▂▂▂▂▂▁▁▁▁▁</td></tr></table><br/></div><div class=\"wandb-col\"><h3>Run summary:</h3><br/><table class=\"wandb\"><tr><td>Accuracy</td><td>0.84857</td></tr><tr><td>Loss</td><td>0.67027</td></tr><tr><td>best_val_acc</td><td>0.85266</td></tr><tr><td>learning_rate</td><td>0.0</td></tr><tr><td>patience</td><td>11</td></tr><tr><td>task</td><td>5</td></tr><tr><td>train_acc</td><td>0.99335</td></tr><tr><td>train_loss</td><td>0.00938</td></tr><tr><td>val_acc</td><td>0.84857</td></tr><tr><td>val_loss</td><td>0.67027</td></tr></table><br/></div></div>"
      ],
      "text/plain": [
       "<IPython.core.display.HTML object>"
      ]
     },
     "metadata": {},
     "output_type": "display_data"
    },
    {
     "data": {
      "text/html": [
       " View run <strong style=\"color:#cdcd00\">vgg19-lr-00001-5tasks-lora-1</strong> at: <a href='https://wandb.ai/cf-lora/cf-lora-cub-200-baseline-all-parameters/runs/4m6isw3s' target=\"_blank\">https://wandb.ai/cf-lora/cf-lora-cub-200-baseline-all-parameters/runs/4m6isw3s</a><br/> View project at: <a href='https://wandb.ai/cf-lora/cf-lora-cub-200-baseline-all-parameters' target=\"_blank\">https://wandb.ai/cf-lora/cf-lora-cub-200-baseline-all-parameters</a><br/>Synced 5 W&B file(s), 0 media file(s), 0 artifact file(s) and 0 other file(s)"
      ],
      "text/plain": [
       "<IPython.core.display.HTML object>"
      ]
     },
     "metadata": {},
     "output_type": "display_data"
    },
    {
     "data": {
      "text/html": [
       "Find logs at: <code>./wandb/run-20240826_005948-4m6isw3s/logs</code>"
      ],
      "text/plain": [
       "<IPython.core.display.HTML object>"
      ]
     },
     "metadata": {},
     "output_type": "display_data"
    },
    {
     "data": {
      "text/html": [
       "The new W&B backend becomes opt-out in version 0.18.0; try it out with `wandb.require(\"core\")`! See https://wandb.me/wandb-core for more information."
      ],
      "text/plain": [
       "<IPython.core.display.HTML object>"
      ]
     },
     "metadata": {},
     "output_type": "display_data"
    },
    {
     "data": {
      "application/vnd.jupyter.widget-view+json": {
       "model_id": "4577de07dae84c15a169934835579df5",
       "version_major": 2,
       "version_minor": 0
      },
      "text/plain": [
       "VBox(children=(Label(value='Waiting for wandb.init()...\\r'), FloatProgress(value=0.011113886966551136, max=1.0…"
      ]
     },
     "metadata": {},
     "output_type": "display_data"
    },
    {
     "data": {
      "text/html": [
       "Tracking run with wandb version 0.17.7"
      ],
      "text/plain": [
       "<IPython.core.display.HTML object>"
      ]
     },
     "metadata": {},
     "output_type": "display_data"
    },
    {
     "data": {
      "text/html": [
       "Run data is saved locally in <code>/home/everton_aleixo/Documents/effects-of-lora-on-catastrophic-forgetting/notebooks/wandb/run-20240826_050156-xmgvn0y1</code>"
      ],
      "text/plain": [
       "<IPython.core.display.HTML object>"
      ]
     },
     "metadata": {},
     "output_type": "display_data"
    },
    {
     "data": {
      "text/html": [
       "Syncing run <strong><a href='https://wandb.ai/cf-lora/cf-lora-cub-200-baseline-all-parameters/runs/xmgvn0y1' target=\"_blank\">vgg19-lr-00001-5tasks-lora-2</a></strong> to <a href='https://wandb.ai/cf-lora/cf-lora-cub-200-baseline-all-parameters' target=\"_blank\">Weights & Biases</a> (<a href='https://wandb.me/run' target=\"_blank\">docs</a>)<br/>"
      ],
      "text/plain": [
       "<IPython.core.display.HTML object>"
      ]
     },
     "metadata": {},
     "output_type": "display_data"
    },
    {
     "data": {
      "text/html": [
       " View project at <a href='https://wandb.ai/cf-lora/cf-lora-cub-200-baseline-all-parameters' target=\"_blank\">https://wandb.ai/cf-lora/cf-lora-cub-200-baseline-all-parameters</a>"
      ],
      "text/plain": [
       "<IPython.core.display.HTML object>"
      ]
     },
     "metadata": {},
     "output_type": "display_data"
    },
    {
     "data": {
      "text/html": [
       " View run at <a href='https://wandb.ai/cf-lora/cf-lora-cub-200-baseline-all-parameters/runs/xmgvn0y1' target=\"_blank\">https://wandb.ai/cf-lora/cf-lora-cub-200-baseline-all-parameters/runs/xmgvn0y1</a>"
      ],
      "text/plain": [
       "<IPython.core.display.HTML object>"
      ]
     },
     "metadata": {},
     "output_type": "display_data"
    },
    {
     "name": "stderr",
     "output_type": "stream",
     "text": [
      "/home/everton_aleixo/Documents/mahle/server_python/venv/lib/python3.12/site-packages/torch/optim/lr_scheduler.py:60: UserWarning: The verbose parameter is deprecated. Please use get_last_lr() to access the learning rate.\n",
      "  warnings.warn(\n"
     ]
    },
    {
     "name": "stdout",
     "output_type": "stream",
     "text": [
      "---------------------------------------- TASK_0 ----------------------------------------\n",
      "Training task 0 in epoch 0. Batch size: 8.\n"
     ]
    },
    {
     "name": "stderr",
     "output_type": "stream",
     "text": [
      "100%|███████████████████████████████████████████████████████████████████████████████████████████████████████████████████| 375/375 [01:15<00:00,  4.99it/s]\n",
      "100%|███████████████████████████████████████████████████████████████████████████████████████████████████████████████████| 358/358 [00:40<00:00,  8.88it/s]\n"
     ]
    },
    {
     "name": "stdout",
     "output_type": "stream",
     "text": [
      "Trainig acc: 0.07033   //   Training loss: 4.5281   //   Test acc: 0.3886   //   Test loss: 2.8728\n",
      "early_stop: 1  /   Best acc: 0.3886173184357542\n",
      "Training task 0 in epoch 1. Batch size: 8.\n"
     ]
    },
    {
     "name": "stderr",
     "output_type": "stream",
     "text": [
      "100%|███████████████████████████████████████████████████████████████████████████████████████████████████████████████████| 375/375 [01:14<00:00,  5.01it/s]\n",
      "100%|███████████████████████████████████████████████████████████████████████████████████████████████████████████████████| 358/358 [00:39<00:00,  9.05it/s]\n"
     ]
    },
    {
     "name": "stdout",
     "output_type": "stream",
     "text": [
      "Trainig acc: 0.3353   //   Training loss: 2.6311   //   Test acc: 0.5737   //   Test loss: 1.6810\n",
      "early_stop: 1  /   Best acc: 0.5736731843575419\n",
      "Training task 0 in epoch 2. Batch size: 8.\n"
     ]
    },
    {
     "name": "stderr",
     "output_type": "stream",
     "text": [
      "100%|███████████████████████████████████████████████████████████████████████████████████████████████████████████████████| 375/375 [01:14<00:00,  5.01it/s]\n",
      "100%|███████████████████████████████████████████████████████████████████████████████████████████████████████████████████| 358/358 [00:39<00:00,  9.09it/s]\n"
     ]
    },
    {
     "name": "stdout",
     "output_type": "stream",
     "text": [
      "Trainig acc: 0.5053   //   Training loss: 1.7876   //   Test acc: 0.6477   //   Test loss: 1.2988\n",
      "early_stop: 1  /   Best acc: 0.647695530726257\n",
      "Training task 0 in epoch 3. Batch size: 8.\n"
     ]
    },
    {
     "name": "stderr",
     "output_type": "stream",
     "text": [
      "100%|███████████████████████████████████████████████████████████████████████████████████████████████████████████████████| 375/375 [01:14<00:00,  5.02it/s]\n",
      "100%|███████████████████████████████████████████████████████████████████████████████████████████████████████████████████| 358/358 [00:39<00:00,  9.05it/s]\n"
     ]
    },
    {
     "name": "stdout",
     "output_type": "stream",
     "text": [
      "Trainig acc: 0.6197   //   Training loss: 1.3547   //   Test acc: 0.6812   //   Test loss: 1.1462\n",
      "early_stop: 1  /   Best acc: 0.6812150837988827\n",
      "Training task 0 in epoch 4. Batch size: 8.\n"
     ]
    },
    {
     "name": "stderr",
     "output_type": "stream",
     "text": [
      "100%|███████████████████████████████████████████████████████████████████████████████████████████████████████████████████| 375/375 [01:14<00:00,  5.01it/s]\n",
      "100%|███████████████████████████████████████████████████████████████████████████████████████████████████████████████████| 358/358 [00:40<00:00,  8.78it/s]\n"
     ]
    },
    {
     "name": "stdout",
     "output_type": "stream",
     "text": [
      "Trainig acc: 0.7023   //   Training loss: 1.0228   //   Test acc: 0.7064   //   Test loss: 1.0428\n",
      "early_stop: 1  /   Best acc: 0.7063547486033519\n",
      "Training task 0 in epoch 5. Batch size: 8.\n"
     ]
    },
    {
     "name": "stderr",
     "output_type": "stream",
     "text": [
      "100%|███████████████████████████████████████████████████████████████████████████████████████████████████████████████████| 375/375 [01:14<00:00,  5.01it/s]\n",
      "100%|███████████████████████████████████████████████████████████████████████████████████████████████████████████████████| 358/358 [00:39<00:00,  9.04it/s]\n"
     ]
    },
    {
     "name": "stdout",
     "output_type": "stream",
     "text": [
      "Trainig acc: 0.7467   //   Training loss: 0.8301   //   Test acc: 0.7151   //   Test loss: 1.0077\n",
      "early_stop: 1  /   Best acc: 0.7150837988826816\n",
      "Training task 0 in epoch 6. Batch size: 8.\n"
     ]
    },
    {
     "name": "stderr",
     "output_type": "stream",
     "text": [
      "100%|███████████████████████████████████████████████████████████████████████████████████████████████████████████████████| 375/375 [01:14<00:00,  5.02it/s]\n",
      "100%|███████████████████████████████████████████████████████████████████████████████████████████████████████████████████| 358/358 [00:41<00:00,  8.69it/s]\n"
     ]
    },
    {
     "name": "stdout",
     "output_type": "stream",
     "text": [
      "Trainig acc: 0.7987   //   Training loss: 0.6596   //   Test acc: 0.7270   //   Test loss: 0.9268\n",
      "early_stop: 1  /   Best acc: 0.7269553072625698\n",
      "Training task 0 in epoch 7. Batch size: 8.\n"
     ]
    },
    {
     "name": "stderr",
     "output_type": "stream",
     "text": [
      "100%|███████████████████████████████████████████████████████████████████████████████████████████████████████████████████| 375/375 [01:14<00:00,  5.02it/s]\n",
      "100%|███████████████████████████████████████████████████████████████████████████████████████████████████████████████████| 358/358 [00:39<00:00,  9.00it/s]\n"
     ]
    },
    {
     "name": "stdout",
     "output_type": "stream",
     "text": [
      "Trainig acc: 0.8377   //   Training loss: 0.5492   //   Test acc: 0.7413   //   Test loss: 0.9158\n",
      "early_stop: 1  /   Best acc: 0.7412709497206704\n",
      "Training task 0 in epoch 8. Batch size: 8.\n"
     ]
    },
    {
     "name": "stderr",
     "output_type": "stream",
     "text": [
      "100%|███████████████████████████████████████████████████████████████████████████████████████████████████████████████████| 375/375 [01:14<00:00,  5.05it/s]\n",
      "100%|███████████████████████████████████████████████████████████████████████████████████████████████████████████████████| 358/358 [00:40<00:00,  8.76it/s]\n"
     ]
    },
    {
     "name": "stdout",
     "output_type": "stream",
     "text": [
      "Trainig acc: 0.8767   //   Training loss: 0.4190   //   Test acc: 0.7423   //   Test loss: 0.8916\n",
      "early_stop: 1  /   Best acc: 0.74231843575419\n",
      "Training task 0 in epoch 9. Batch size: 8.\n"
     ]
    },
    {
     "name": "stderr",
     "output_type": "stream",
     "text": [
      "100%|███████████████████████████████████████████████████████████████████████████████████████████████████████████████████| 375/375 [01:14<00:00,  5.02it/s]\n",
      "100%|███████████████████████████████████████████████████████████████████████████████████████████████████████████████████| 358/358 [00:39<00:00,  8.99it/s]\n"
     ]
    },
    {
     "name": "stdout",
     "output_type": "stream",
     "text": [
      "Trainig acc: 0.89   //   Training loss: 0.3740   //   Test acc: 0.7472   //   Test loss: 0.8883\n",
      "early_stop: 1  /   Best acc: 0.7472067039106145\n",
      "Training task 0 in epoch 10. Batch size: 8.\n"
     ]
    },
    {
     "name": "stderr",
     "output_type": "stream",
     "text": [
      "100%|███████████████████████████████████████████████████████████████████████████████████████████████████████████████████| 375/375 [01:14<00:00,  5.01it/s]\n",
      "100%|███████████████████████████████████████████████████████████████████████████████████████████████████████████████████| 358/358 [00:39<00:00,  9.11it/s]\n"
     ]
    },
    {
     "name": "stdout",
     "output_type": "stream",
     "text": [
      "Trainig acc: 0.9133   //   Training loss: 0.2888   //   Test acc: 0.7528   //   Test loss: 0.9091\n",
      "early_stop: 1  /   Best acc: 0.7527932960893855\n",
      "Training task 0 in epoch 11. Batch size: 8.\n"
     ]
    },
    {
     "name": "stderr",
     "output_type": "stream",
     "text": [
      "100%|███████████████████████████████████████████████████████████████████████████████████████████████████████████████████| 375/375 [01:14<00:00,  5.03it/s]\n",
      "100%|███████████████████████████████████████████████████████████████████████████████████████████████████████████████████| 358/358 [00:39<00:00,  8.97it/s]\n"
     ]
    },
    {
     "name": "stdout",
     "output_type": "stream",
     "text": [
      "Trainig acc: 0.93   //   Training loss: 0.2466   //   Test acc: 0.7469   //   Test loss: 0.9066\n",
      "early_stop: 2  /   Best acc: 0.7527932960893855\n",
      "Training task 0 in epoch 12. Batch size: 8.\n"
     ]
    },
    {
     "name": "stderr",
     "output_type": "stream",
     "text": [
      "100%|███████████████████████████████████████████████████████████████████████████████████████████████████████████████████| 375/375 [01:14<00:00,  5.02it/s]\n",
      "100%|███████████████████████████████████████████████████████████████████████████████████████████████████████████████████| 358/358 [00:40<00:00,  8.89it/s]\n"
     ]
    },
    {
     "name": "stdout",
     "output_type": "stream",
     "text": [
      "Trainig acc: 0.9397   //   Training loss: 0.2034   //   Test acc: 0.7552   //   Test loss: 0.8902\n",
      "early_stop: 1  /   Best acc: 0.7552374301675978\n",
      "Training task 0 in epoch 13. Batch size: 8.\n"
     ]
    },
    {
     "name": "stderr",
     "output_type": "stream",
     "text": [
      "100%|███████████████████████████████████████████████████████████████████████████████████████████████████████████████████| 375/375 [01:14<00:00,  5.02it/s]\n",
      "100%|███████████████████████████████████████████████████████████████████████████████████████████████████████████████████| 358/358 [00:40<00:00,  8.93it/s]\n"
     ]
    },
    {
     "name": "stdout",
     "output_type": "stream",
     "text": [
      "Trainig acc: 0.9523   //   Training loss: 0.1635   //   Test acc: 0.7531   //   Test loss: 0.9378\n",
      "early_stop: 2  /   Best acc: 0.7552374301675978\n",
      "Training task 0 in epoch 14. Batch size: 8.\n"
     ]
    },
    {
     "name": "stderr",
     "output_type": "stream",
     "text": [
      "100%|███████████████████████████████████████████████████████████████████████████████████████████████████████████████████| 375/375 [01:14<00:00,  5.03it/s]\n",
      "100%|███████████████████████████████████████████████████████████████████████████████████████████████████████████████████| 358/358 [00:40<00:00,  8.94it/s]\n"
     ]
    },
    {
     "name": "stdout",
     "output_type": "stream",
     "text": [
      "Trainig acc: 0.9547   //   Training loss: 0.1471   //   Test acc: 0.7563   //   Test loss: 0.9147\n",
      "early_stop: 1  /   Best acc: 0.7562849162011173\n",
      "Training task 0 in epoch 15. Batch size: 8.\n"
     ]
    },
    {
     "name": "stderr",
     "output_type": "stream",
     "text": [
      "100%|███████████████████████████████████████████████████████████████████████████████████████████████████████████████████| 375/375 [01:14<00:00,  5.03it/s]\n",
      "100%|███████████████████████████████████████████████████████████████████████████████████████████████████████████████████| 358/358 [00:39<00:00,  8.96it/s]\n"
     ]
    },
    {
     "name": "stdout",
     "output_type": "stream",
     "text": [
      "Trainig acc: 0.9737   //   Training loss: 0.0998   //   Test acc: 0.7612   //   Test loss: 0.9600\n",
      "early_stop: 1  /   Best acc: 0.7611731843575419\n",
      "Training task 0 in epoch 16. Batch size: 8.\n"
     ]
    },
    {
     "name": "stderr",
     "output_type": "stream",
     "text": [
      "100%|███████████████████████████████████████████████████████████████████████████████████████████████████████████████████| 375/375 [01:14<00:00,  5.02it/s]\n",
      "100%|███████████████████████████████████████████████████████████████████████████████████████████████████████████████████| 358/358 [00:39<00:00,  9.04it/s]\n"
     ]
    },
    {
     "name": "stdout",
     "output_type": "stream",
     "text": [
      "Trainig acc: 0.9717   //   Training loss: 0.0998   //   Test acc: 0.7497   //   Test loss: 0.9695\n",
      "early_stop: 2  /   Best acc: 0.7611731843575419\n",
      "Training task 0 in epoch 17. Batch size: 8.\n"
     ]
    },
    {
     "name": "stderr",
     "output_type": "stream",
     "text": [
      "100%|███████████████████████████████████████████████████████████████████████████████████████████████████████████████████| 375/375 [01:14<00:00,  5.02it/s]\n",
      "100%|███████████████████████████████████████████████████████████████████████████████████████████████████████████████████| 358/358 [00:39<00:00,  9.03it/s]\n"
     ]
    },
    {
     "name": "stdout",
     "output_type": "stream",
     "text": [
      "Trainig acc: 0.976   //   Training loss: 0.0908   //   Test acc: 0.7549   //   Test loss: 0.9878\n",
      "early_stop: 3  /   Best acc: 0.7611731843575419\n",
      "Training task 0 in epoch 18. Batch size: 8.\n"
     ]
    },
    {
     "name": "stderr",
     "output_type": "stream",
     "text": [
      "100%|███████████████████████████████████████████████████████████████████████████████████████████████████████████████████| 375/375 [01:14<00:00,  5.01it/s]\n",
      "100%|███████████████████████████████████████████████████████████████████████████████████████████████████████████████████| 358/358 [00:39<00:00,  8.96it/s]\n"
     ]
    },
    {
     "name": "stdout",
     "output_type": "stream",
     "text": [
      "Trainig acc: 0.9777   //   Training loss: 0.0745   //   Test acc: 0.7559   //   Test loss: 1.0221\n",
      "early_stop: 4  /   Best acc: 0.7611731843575419\n",
      "Training task 0 in epoch 19. Batch size: 8.\n"
     ]
    },
    {
     "name": "stderr",
     "output_type": "stream",
     "text": [
      "100%|███████████████████████████████████████████████████████████████████████████████████████████████████████████████████| 375/375 [01:14<00:00,  5.02it/s]\n",
      "100%|███████████████████████████████████████████████████████████████████████████████████████████████████████████████████| 358/358 [00:39<00:00,  9.17it/s]\n"
     ]
    },
    {
     "name": "stdout",
     "output_type": "stream",
     "text": [
      "Trainig acc: 0.9827   //   Training loss: 0.0687   //   Test acc: 0.7573   //   Test loss: 1.0387\n",
      "early_stop: 5  /   Best acc: 0.7611731843575419\n",
      "Training task 0 in epoch 20. Batch size: 8.\n"
     ]
    },
    {
     "name": "stderr",
     "output_type": "stream",
     "text": [
      "100%|███████████████████████████████████████████████████████████████████████████████████████████████████████████████████| 375/375 [01:14<00:00,  5.01it/s]\n",
      "100%|███████████████████████████████████████████████████████████████████████████████████████████████████████████████████| 358/358 [00:39<00:00,  9.09it/s]\n"
     ]
    },
    {
     "name": "stdout",
     "output_type": "stream",
     "text": [
      "Trainig acc: 0.985   //   Training loss: 0.0575   //   Test acc: 0.7654   //   Test loss: 1.0205\n",
      "early_stop: 1  /   Best acc: 0.7653631284916201\n",
      "Training task 0 in epoch 21. Batch size: 8.\n"
     ]
    },
    {
     "name": "stderr",
     "output_type": "stream",
     "text": [
      "100%|███████████████████████████████████████████████████████████████████████████████████████████████████████████████████| 375/375 [01:14<00:00,  5.04it/s]\n",
      "100%|███████████████████████████████████████████████████████████████████████████████████████████████████████████████████| 358/358 [00:39<00:00,  8.97it/s]\n"
     ]
    },
    {
     "name": "stdout",
     "output_type": "stream",
     "text": [
      "Trainig acc: 0.9833   //   Training loss: 0.0585   //   Test acc: 0.7612   //   Test loss: 1.0288\n",
      "early_stop: 2  /   Best acc: 0.7653631284916201\n",
      "Training task 0 in epoch 22. Batch size: 8.\n"
     ]
    },
    {
     "name": "stderr",
     "output_type": "stream",
     "text": [
      "100%|███████████████████████████████████████████████████████████████████████████████████████████████████████████████████| 375/375 [01:14<00:00,  5.03it/s]\n",
      "100%|███████████████████████████████████████████████████████████████████████████████████████████████████████████████████| 358/358 [00:39<00:00,  9.01it/s]\n"
     ]
    },
    {
     "name": "stdout",
     "output_type": "stream",
     "text": [
      "Trainig acc: 0.99   //   Training loss: 0.0436   //   Test acc: 0.7640   //   Test loss: 1.0605\n",
      "early_stop: 3  /   Best acc: 0.7653631284916201\n",
      "Training task 0 in epoch 23. Batch size: 8.\n"
     ]
    },
    {
     "name": "stderr",
     "output_type": "stream",
     "text": [
      "100%|███████████████████████████████████████████████████████████████████████████████████████████████████████████████████| 375/375 [01:14<00:00,  5.01it/s]\n",
      "100%|███████████████████████████████████████████████████████████████████████████████████████████████████████████████████| 358/358 [00:39<00:00,  9.09it/s]\n"
     ]
    },
    {
     "name": "stdout",
     "output_type": "stream",
     "text": [
      "Trainig acc: 0.992   //   Training loss: 0.0353   //   Test acc: 0.7584   //   Test loss: 1.1109\n",
      "early_stop: 4  /   Best acc: 0.7653631284916201\n",
      "Training task 0 in epoch 24. Batch size: 8.\n"
     ]
    },
    {
     "name": "stderr",
     "output_type": "stream",
     "text": [
      "100%|███████████████████████████████████████████████████████████████████████████████████████████████████████████████████| 375/375 [01:14<00:00,  5.03it/s]\n",
      "100%|███████████████████████████████████████████████████████████████████████████████████████████████████████████████████| 358/358 [00:39<00:00,  9.08it/s]\n"
     ]
    },
    {
     "name": "stdout",
     "output_type": "stream",
     "text": [
      "Trainig acc: 0.9857   //   Training loss: 0.0533   //   Test acc: 0.7493   //   Test loss: 1.1493\n",
      "early_stop: 5  /   Best acc: 0.7653631284916201\n",
      "Training task 0 in epoch 25. Batch size: 8.\n"
     ]
    },
    {
     "name": "stderr",
     "output_type": "stream",
     "text": [
      "100%|███████████████████████████████████████████████████████████████████████████████████████████████████████████████████| 375/375 [01:14<00:00,  5.02it/s]\n",
      "100%|███████████████████████████████████████████████████████████████████████████████████████████████████████████████████| 358/358 [00:39<00:00,  8.99it/s]\n"
     ]
    },
    {
     "name": "stdout",
     "output_type": "stream",
     "text": [
      "Trainig acc: 0.99   //   Training loss: 0.0368   //   Test acc: 0.7619   //   Test loss: 1.1016\n",
      "early_stop: 6  /   Best acc: 0.7653631284916201\n",
      "Training task 0 in epoch 26. Batch size: 8.\n"
     ]
    },
    {
     "name": "stderr",
     "output_type": "stream",
     "text": [
      "100%|███████████████████████████████████████████████████████████████████████████████████████████████████████████████████| 375/375 [01:14<00:00,  5.00it/s]\n",
      "100%|███████████████████████████████████████████████████████████████████████████████████████████████████████████████████| 358/358 [00:39<00:00,  9.15it/s]\n"
     ]
    },
    {
     "name": "stdout",
     "output_type": "stream",
     "text": [
      "Trainig acc: 0.9927   //   Training loss: 0.0336   //   Test acc: 0.7654   //   Test loss: 1.0648\n",
      "early_stop: 7  /   Best acc: 0.7653631284916201\n",
      "Training task 0 in epoch 27. Batch size: 8.\n"
     ]
    },
    {
     "name": "stderr",
     "output_type": "stream",
     "text": [
      "100%|███████████████████████████████████████████████████████████████████████████████████████████████████████████████████| 375/375 [01:14<00:00,  5.02it/s]\n",
      "100%|███████████████████████████████████████████████████████████████████████████████████████████████████████████████████| 358/358 [00:40<00:00,  8.88it/s]\n"
     ]
    },
    {
     "name": "stdout",
     "output_type": "stream",
     "text": [
      "Trainig acc: 0.993   //   Training loss: 0.0262   //   Test acc: 0.7723   //   Test loss: 1.0493\n",
      "early_stop: 1  /   Best acc: 0.7723463687150838\n",
      "Training task 0 in epoch 28. Batch size: 8.\n"
     ]
    },
    {
     "name": "stderr",
     "output_type": "stream",
     "text": [
      "100%|███████████████████████████████████████████████████████████████████████████████████████████████████████████████████| 375/375 [01:14<00:00,  5.03it/s]\n",
      "100%|███████████████████████████████████████████████████████████████████████████████████████████████████████████████████| 358/358 [00:41<00:00,  8.67it/s]\n"
     ]
    },
    {
     "name": "stdout",
     "output_type": "stream",
     "text": [
      "Trainig acc: 0.992   //   Training loss: 0.0275   //   Test acc: 0.7751   //   Test loss: 1.0590\n",
      "early_stop: 1  /   Best acc: 0.7751396648044693\n",
      "Training task 0 in epoch 29. Batch size: 8.\n"
     ]
    },
    {
     "name": "stderr",
     "output_type": "stream",
     "text": [
      "100%|███████████████████████████████████████████████████████████████████████████████████████████████████████████████████| 375/375 [01:14<00:00,  5.01it/s]\n",
      "100%|███████████████████████████████████████████████████████████████████████████████████████████████████████████████████| 358/358 [00:40<00:00,  8.84it/s]\n"
     ]
    },
    {
     "name": "stdout",
     "output_type": "stream",
     "text": [
      "Trainig acc: 0.9963   //   Training loss: 0.0188   //   Test acc: 0.7758   //   Test loss: 1.0387\n",
      "early_stop: 1  /   Best acc: 0.7758379888268156\n",
      "Training task 0 in epoch 30. Batch size: 8.\n"
     ]
    },
    {
     "name": "stderr",
     "output_type": "stream",
     "text": [
      "100%|███████████████████████████████████████████████████████████████████████████████████████████████████████████████████| 375/375 [01:15<00:00,  5.00it/s]\n",
      "100%|███████████████████████████████████████████████████████████████████████████████████████████████████████████████████| 358/358 [00:40<00:00,  8.83it/s]\n"
     ]
    },
    {
     "name": "stdout",
     "output_type": "stream",
     "text": [
      "Trainig acc: 0.9923   //   Training loss: 0.0266   //   Test acc: 0.7699   //   Test loss: 1.0689\n",
      "early_stop: 2  /   Best acc: 0.7758379888268156\n",
      "Training task 0 in epoch 31. Batch size: 8.\n"
     ]
    },
    {
     "name": "stderr",
     "output_type": "stream",
     "text": [
      "100%|███████████████████████████████████████████████████████████████████████████████████████████████████████████████████| 375/375 [01:14<00:00,  5.02it/s]\n",
      "100%|███████████████████████████████████████████████████████████████████████████████████████████████████████████████████| 358/358 [00:40<00:00,  8.91it/s]\n"
     ]
    },
    {
     "name": "stdout",
     "output_type": "stream",
     "text": [
      "Trainig acc: 0.9967   //   Training loss: 0.0197   //   Test acc: 0.7779   //   Test loss: 1.0440\n",
      "early_stop: 1  /   Best acc: 0.7779329608938548\n",
      "Training task 0 in epoch 32. Batch size: 8.\n"
     ]
    },
    {
     "name": "stderr",
     "output_type": "stream",
     "text": [
      "100%|███████████████████████████████████████████████████████████████████████████████████████████████████████████████████| 375/375 [01:14<00:00,  5.02it/s]\n",
      "100%|███████████████████████████████████████████████████████████████████████████████████████████████████████████████████| 358/358 [00:39<00:00,  9.01it/s]\n"
     ]
    },
    {
     "name": "stdout",
     "output_type": "stream",
     "text": [
      "Trainig acc: 0.9987   //   Training loss: 0.0140   //   Test acc: 0.7692   //   Test loss: 1.0671\n",
      "early_stop: 2  /   Best acc: 0.7779329608938548\n",
      "Training task 0 in epoch 33. Batch size: 8.\n"
     ]
    },
    {
     "name": "stderr",
     "output_type": "stream",
     "text": [
      "100%|███████████████████████████████████████████████████████████████████████████████████████████████████████████████████| 375/375 [01:14<00:00,  5.02it/s]\n",
      "100%|███████████████████████████████████████████████████████████████████████████████████████████████████████████████████| 358/358 [00:40<00:00,  8.88it/s]\n"
     ]
    },
    {
     "name": "stdout",
     "output_type": "stream",
     "text": [
      "Trainig acc: 0.996   //   Training loss: 0.0185   //   Test acc: 0.7709   //   Test loss: 1.0611\n",
      "early_stop: 3  /   Best acc: 0.7779329608938548\n",
      "Training task 0 in epoch 34. Batch size: 8.\n"
     ]
    },
    {
     "name": "stderr",
     "output_type": "stream",
     "text": [
      "100%|███████████████████████████████████████████████████████████████████████████████████████████████████████████████████| 375/375 [01:14<00:00,  5.01it/s]\n",
      "100%|███████████████████████████████████████████████████████████████████████████████████████████████████████████████████| 358/358 [00:40<00:00,  8.94it/s]\n"
     ]
    },
    {
     "name": "stdout",
     "output_type": "stream",
     "text": [
      "Trainig acc: 0.9953   //   Training loss: 0.0163   //   Test acc: 0.7751   //   Test loss: 1.0574\n",
      "early_stop: 4  /   Best acc: 0.7779329608938548\n",
      "Training task 0 in epoch 35. Batch size: 8.\n"
     ]
    },
    {
     "name": "stderr",
     "output_type": "stream",
     "text": [
      "100%|███████████████████████████████████████████████████████████████████████████████████████████████████████████████████| 375/375 [01:14<00:00,  5.03it/s]\n",
      "100%|███████████████████████████████████████████████████████████████████████████████████████████████████████████████████| 358/358 [00:39<00:00,  9.01it/s]\n"
     ]
    },
    {
     "name": "stdout",
     "output_type": "stream",
     "text": [
      "Trainig acc: 0.997   //   Training loss: 0.0158   //   Test acc: 0.7706   //   Test loss: 1.0688\n",
      "early_stop: 5  /   Best acc: 0.7779329608938548\n",
      "Training task 0 in epoch 36. Batch size: 8.\n"
     ]
    },
    {
     "name": "stderr",
     "output_type": "stream",
     "text": [
      "100%|███████████████████████████████████████████████████████████████████████████████████████████████████████████████████| 375/375 [01:14<00:00,  5.01it/s]\n",
      "100%|███████████████████████████████████████████████████████████████████████████████████████████████████████████████████| 358/358 [00:40<00:00,  8.94it/s]\n"
     ]
    },
    {
     "name": "stdout",
     "output_type": "stream",
     "text": [
      "Trainig acc: 0.9963   //   Training loss: 0.0168   //   Test acc: 0.7776   //   Test loss: 1.0612\n",
      "early_stop: 6  /   Best acc: 0.7779329608938548\n",
      "Training task 0 in epoch 37. Batch size: 8.\n"
     ]
    },
    {
     "name": "stderr",
     "output_type": "stream",
     "text": [
      "100%|███████████████████████████████████████████████████████████████████████████████████████████████████████████████████| 375/375 [01:14<00:00,  5.01it/s]\n",
      "100%|███████████████████████████████████████████████████████████████████████████████████████████████████████████████████| 358/358 [00:40<00:00,  8.92it/s]\n"
     ]
    },
    {
     "name": "stdout",
     "output_type": "stream",
     "text": [
      "Trainig acc: 0.9983   //   Training loss: 0.0127   //   Test acc: 0.7744   //   Test loss: 1.0578\n",
      "early_stop: 7  /   Best acc: 0.7779329608938548\n",
      "Training task 0 in epoch 38. Batch size: 8.\n"
     ]
    },
    {
     "name": "stderr",
     "output_type": "stream",
     "text": [
      "100%|███████████████████████████████████████████████████████████████████████████████████████████████████████████████████| 375/375 [01:15<00:00,  5.00it/s]\n",
      "100%|███████████████████████████████████████████████████████████████████████████████████████████████████████████████████| 358/358 [00:40<00:00,  8.92it/s]\n"
     ]
    },
    {
     "name": "stdout",
     "output_type": "stream",
     "text": [
      "Trainig acc: 0.9953   //   Training loss: 0.0164   //   Test acc: 0.7734   //   Test loss: 1.0487\n",
      "early_stop: 8  /   Best acc: 0.7779329608938548\n",
      "Training task 0 in epoch 39. Batch size: 8.\n"
     ]
    },
    {
     "name": "stderr",
     "output_type": "stream",
     "text": [
      "100%|███████████████████████████████████████████████████████████████████████████████████████████████████████████████████| 375/375 [01:14<00:00,  5.02it/s]\n",
      "100%|███████████████████████████████████████████████████████████████████████████████████████████████████████████████████| 358/358 [00:39<00:00,  9.10it/s]\n"
     ]
    },
    {
     "name": "stdout",
     "output_type": "stream",
     "text": [
      "Trainig acc: 0.9967   //   Training loss: 0.0161   //   Test acc: 0.7689   //   Test loss: 1.0651\n",
      "early_stop: 9  /   Best acc: 0.7779329608938548\n",
      "Training task 0 in epoch 40. Batch size: 8.\n"
     ]
    },
    {
     "name": "stderr",
     "output_type": "stream",
     "text": [
      "100%|███████████████████████████████████████████████████████████████████████████████████████████████████████████████████| 375/375 [01:14<00:00,  5.01it/s]\n",
      "100%|███████████████████████████████████████████████████████████████████████████████████████████████████████████████████| 358/358 [00:39<00:00,  9.02it/s]\n"
     ]
    },
    {
     "name": "stdout",
     "output_type": "stream",
     "text": [
      "Trainig acc: 0.998   //   Training loss: 0.0126   //   Test acc: 0.7744   //   Test loss: 1.0721\n",
      "early_stop: 10  /   Best acc: 0.7779329608938548\n",
      "Training task 0 in epoch 41. Batch size: 8.\n"
     ]
    },
    {
     "name": "stderr",
     "output_type": "stream",
     "text": [
      "100%|███████████████████████████████████████████████████████████████████████████████████████████████████████████████████| 375/375 [01:14<00:00,  5.02it/s]\n",
      "100%|███████████████████████████████████████████████████████████████████████████████████████████████████████████████████| 358/358 [00:39<00:00,  8.99it/s]\n"
     ]
    },
    {
     "name": "stdout",
     "output_type": "stream",
     "text": [
      "Trainig acc: 0.9953   //   Training loss: 0.0175   //   Test acc: 0.7783   //   Test loss: 1.0472\n",
      "early_stop: 1  /   Best acc: 0.778282122905028\n",
      "Training task 0 in epoch 42. Batch size: 8.\n"
     ]
    },
    {
     "name": "stderr",
     "output_type": "stream",
     "text": [
      "100%|███████████████████████████████████████████████████████████████████████████████████████████████████████████████████| 375/375 [01:13<00:00,  5.09it/s]\n",
      "100%|███████████████████████████████████████████████████████████████████████████████████████████████████████████████████| 358/358 [00:39<00:00,  9.08it/s]\n"
     ]
    },
    {
     "name": "stdout",
     "output_type": "stream",
     "text": [
      "Trainig acc: 0.9947   //   Training loss: 0.0190   //   Test acc: 0.7720   //   Test loss: 1.0643\n",
      "early_stop: 2  /   Best acc: 0.778282122905028\n",
      "Training task 0 in epoch 43. Batch size: 8.\n"
     ]
    },
    {
     "name": "stderr",
     "output_type": "stream",
     "text": [
      "100%|███████████████████████████████████████████████████████████████████████████████████████████████████████████████████| 375/375 [01:14<00:00,  5.01it/s]\n",
      "100%|███████████████████████████████████████████████████████████████████████████████████████████████████████████████████| 358/358 [00:39<00:00,  9.12it/s]\n"
     ]
    },
    {
     "name": "stdout",
     "output_type": "stream",
     "text": [
      "Trainig acc: 0.997   //   Training loss: 0.0160   //   Test acc: 0.7716   //   Test loss: 1.0724\n",
      "early_stop: 3  /   Best acc: 0.778282122905028\n",
      "Training task 0 in epoch 44. Batch size: 8.\n"
     ]
    },
    {
     "name": "stderr",
     "output_type": "stream",
     "text": [
      "100%|███████████████████████████████████████████████████████████████████████████████████████████████████████████████████| 375/375 [01:14<00:00,  5.03it/s]\n",
      "100%|███████████████████████████████████████████████████████████████████████████████████████████████████████████████████| 358/358 [00:39<00:00,  9.08it/s]\n"
     ]
    },
    {
     "name": "stdout",
     "output_type": "stream",
     "text": [
      "Trainig acc: 0.9977   //   Training loss: 0.0127   //   Test acc: 0.7769   //   Test loss: 1.0660\n",
      "early_stop: 4  /   Best acc: 0.778282122905028\n",
      "Training task 0 in epoch 45. Batch size: 8.\n"
     ]
    },
    {
     "name": "stderr",
     "output_type": "stream",
     "text": [
      "100%|███████████████████████████████████████████████████████████████████████████████████████████████████████████████████| 375/375 [01:14<00:00,  5.01it/s]\n",
      "100%|███████████████████████████████████████████████████████████████████████████████████████████████████████████████████| 358/358 [00:40<00:00,  8.83it/s]\n"
     ]
    },
    {
     "name": "stdout",
     "output_type": "stream",
     "text": [
      "Trainig acc: 0.997   //   Training loss: 0.0150   //   Test acc: 0.7716   //   Test loss: 1.0630\n",
      "early_stop: 5  /   Best acc: 0.778282122905028\n",
      "Training task 0 in epoch 46. Batch size: 8.\n"
     ]
    },
    {
     "name": "stderr",
     "output_type": "stream",
     "text": [
      "100%|███████████████████████████████████████████████████████████████████████████████████████████████████████████████████| 375/375 [01:14<00:00,  5.01it/s]\n",
      "100%|███████████████████████████████████████████████████████████████████████████████████████████████████████████████████| 358/358 [00:39<00:00,  9.07it/s]\n"
     ]
    },
    {
     "name": "stdout",
     "output_type": "stream",
     "text": [
      "Trainig acc: 0.999   //   Training loss: 0.0099   //   Test acc: 0.7741   //   Test loss: 1.0697\n",
      "early_stop: 6  /   Best acc: 0.778282122905028\n",
      "Training task 0 in epoch 47. Batch size: 8.\n"
     ]
    },
    {
     "name": "stderr",
     "output_type": "stream",
     "text": [
      "100%|███████████████████████████████████████████████████████████████████████████████████████████████████████████████████| 375/375 [01:14<00:00,  5.00it/s]\n",
      "100%|███████████████████████████████████████████████████████████████████████████████████████████████████████████████████| 358/358 [00:39<00:00,  9.15it/s]\n"
     ]
    },
    {
     "name": "stdout",
     "output_type": "stream",
     "text": [
      "Trainig acc: 0.9983   //   Training loss: 0.0138   //   Test acc: 0.7720   //   Test loss: 1.0558\n",
      "early_stop: 7  /   Best acc: 0.778282122905028\n",
      "Training task 0 in epoch 48. Batch size: 8.\n"
     ]
    },
    {
     "name": "stderr",
     "output_type": "stream",
     "text": [
      "100%|███████████████████████████████████████████████████████████████████████████████████████████████████████████████████| 375/375 [01:14<00:00,  5.00it/s]\n",
      "100%|███████████████████████████████████████████████████████████████████████████████████████████████████████████████████| 358/358 [00:39<00:00,  9.06it/s]\n"
     ]
    },
    {
     "name": "stdout",
     "output_type": "stream",
     "text": [
      "Trainig acc: 0.997   //   Training loss: 0.0148   //   Test acc: 0.7741   //   Test loss: 1.0595\n",
      "early_stop: 8  /   Best acc: 0.778282122905028\n",
      "Training task 0 in epoch 49. Batch size: 8.\n"
     ]
    },
    {
     "name": "stderr",
     "output_type": "stream",
     "text": [
      "100%|███████████████████████████████████████████████████████████████████████████████████████████████████████████████████| 375/375 [01:14<00:00,  5.00it/s]\n",
      "100%|███████████████████████████████████████████████████████████████████████████████████████████████████████████████████| 358/358 [00:39<00:00,  8.99it/s]\n"
     ]
    },
    {
     "name": "stdout",
     "output_type": "stream",
     "text": [
      "Trainig acc: 0.9983   //   Training loss: 0.0114   //   Test acc: 0.7748   //   Test loss: 1.0737\n",
      "early_stop: 9  /   Best acc: 0.778282122905028\n",
      "Training task 0 in epoch 50. Batch size: 8.\n"
     ]
    },
    {
     "name": "stderr",
     "output_type": "stream",
     "text": [
      "100%|███████████████████████████████████████████████████████████████████████████████████████████████████████████████████| 375/375 [01:14<00:00,  5.00it/s]\n",
      "100%|███████████████████████████████████████████████████████████████████████████████████████████████████████████████████| 358/358 [00:39<00:00,  9.02it/s]\n"
     ]
    },
    {
     "name": "stdout",
     "output_type": "stream",
     "text": [
      "Trainig acc: 0.997   //   Training loss: 0.0166   //   Test acc: 0.7751   //   Test loss: 1.0651\n",
      "early_stop: 10  /   Best acc: 0.778282122905028\n",
      "Training task 0 in epoch 51. Batch size: 8.\n"
     ]
    },
    {
     "name": "stderr",
     "output_type": "stream",
     "text": [
      "100%|███████████████████████████████████████████████████████████████████████████████████████████████████████████████████| 375/375 [01:14<00:00,  5.01it/s]\n",
      "100%|███████████████████████████████████████████████████████████████████████████████████████████████████████████████████| 358/358 [00:40<00:00,  8.82it/s]\n"
     ]
    },
    {
     "name": "stdout",
     "output_type": "stream",
     "text": [
      "Trainig acc: 0.9967   //   Training loss: 0.0137   //   Test acc: 0.7751   //   Test loss: 1.0687\n",
      "early_stop: 11  /   Best acc: 0.778282122905028\n",
      "Training task 0 in epoch 52. Batch size: 8.\n"
     ]
    },
    {
     "name": "stderr",
     "output_type": "stream",
     "text": [
      "100%|███████████████████████████████████████████████████████████████████████████████████████████████████████████████████| 375/375 [01:14<00:00,  5.02it/s]\n",
      "100%|███████████████████████████████████████████████████████████████████████████████████████████████████████████████████| 358/358 [00:40<00:00,  8.83it/s]\n"
     ]
    },
    {
     "name": "stdout",
     "output_type": "stream",
     "text": [
      "---------------------------------------- TASK_1 ----------------------------------------\n",
      "Training task 1 in epoch 0. Batch size: 8.\n"
     ]
    },
    {
     "name": "stderr",
     "output_type": "stream",
     "text": [
      "100%|█████████████████████████████████████████████████████████████████████████████████████████████████████████████████████| 94/94 [00:19<00:00,  4.94it/s]\n",
      "100%|█████████████████████████████████████████████████████████████████████████████████████████████████████████████████████| 90/90 [00:09<00:00,  9.12it/s]\n"
     ]
    },
    {
     "name": "stdout",
     "output_type": "stream",
     "text": [
      "Trainig acc: 0.07447   //   Training loss: 4.7073   //   Test acc: 0.2521   //   Test loss: 3.1188\n",
      "early_stop: 1  /   Best acc: 0.25210084033613445\n",
      "Training task 1 in epoch 1. Batch size: 8.\n"
     ]
    },
    {
     "name": "stderr",
     "output_type": "stream",
     "text": [
      "100%|█████████████████████████████████████████████████████████████████████████████████████████████████████████████████████| 94/94 [00:18<00:00,  4.97it/s]\n",
      "100%|█████████████████████████████████████████████████████████████████████████████████████████████████████████████████████| 90/90 [00:09<00:00,  9.13it/s]\n"
     ]
    },
    {
     "name": "stdout",
     "output_type": "stream",
     "text": [
      "Trainig acc: 0.2832   //   Training loss: 2.5939   //   Test acc: 0.4594   //   Test loss: 1.9199\n",
      "early_stop: 1  /   Best acc: 0.45938375350140054\n",
      "Training task 1 in epoch 2. Batch size: 8.\n"
     ]
    },
    {
     "name": "stderr",
     "output_type": "stream",
     "text": [
      "100%|█████████████████████████████████████████████████████████████████████████████████████████████████████████████████████| 94/94 [00:18<00:00,  4.96it/s]\n",
      "100%|█████████████████████████████████████████████████████████████████████████████████████████████████████████████████████| 90/90 [00:10<00:00,  8.93it/s]\n"
     ]
    },
    {
     "name": "stdout",
     "output_type": "stream",
     "text": [
      "Trainig acc: 0.4654   //   Training loss: 1.7899   //   Test acc: 0.5392   //   Test loss: 1.5361\n",
      "early_stop: 1  /   Best acc: 0.5392156862745098\n",
      "Training task 1 in epoch 3. Batch size: 8.\n"
     ]
    },
    {
     "name": "stderr",
     "output_type": "stream",
     "text": [
      "100%|█████████████████████████████████████████████████████████████████████████████████████████████████████████████████████| 94/94 [00:19<00:00,  4.93it/s]\n",
      "100%|█████████████████████████████████████████████████████████████████████████████████████████████████████████████████████| 90/90 [00:09<00:00,  9.14it/s]\n"
     ]
    },
    {
     "name": "stdout",
     "output_type": "stream",
     "text": [
      "Trainig acc: 0.5731   //   Training loss: 1.3755   //   Test acc: 0.5980   //   Test loss: 1.3104\n",
      "early_stop: 1  /   Best acc: 0.5980392156862745\n",
      "Training task 1 in epoch 4. Batch size: 8.\n"
     ]
    },
    {
     "name": "stderr",
     "output_type": "stream",
     "text": [
      "100%|█████████████████████████████████████████████████████████████████████████████████████████████████████████████████████| 94/94 [00:18<00:00,  4.96it/s]\n",
      "100%|█████████████████████████████████████████████████████████████████████████████████████████████████████████████████████| 90/90 [00:09<00:00,  9.10it/s]\n"
     ]
    },
    {
     "name": "stdout",
     "output_type": "stream",
     "text": [
      "Trainig acc: 0.6809   //   Training loss: 1.0478   //   Test acc: 0.6457   //   Test loss: 1.1573\n",
      "early_stop: 1  /   Best acc: 0.6456582633053222\n",
      "Training task 1 in epoch 5. Batch size: 8.\n"
     ]
    },
    {
     "name": "stderr",
     "output_type": "stream",
     "text": [
      "100%|█████████████████████████████████████████████████████████████████████████████████████████████████████████████████████| 94/94 [00:18<00:00,  4.95it/s]\n",
      "100%|█████████████████████████████████████████████████████████████████████████████████████████████████████████████████████| 90/90 [00:10<00:00,  8.35it/s]\n"
     ]
    },
    {
     "name": "stdout",
     "output_type": "stream",
     "text": [
      "Trainig acc: 0.7473   //   Training loss: 0.8510   //   Test acc: 0.6611   //   Test loss: 1.0390\n",
      "early_stop: 1  /   Best acc: 0.6610644257703081\n",
      "Training task 1 in epoch 6. Batch size: 8.\n"
     ]
    },
    {
     "name": "stderr",
     "output_type": "stream",
     "text": [
      "100%|█████████████████████████████████████████████████████████████████████████████████████████████████████████████████████| 94/94 [00:18<00:00,  4.97it/s]\n",
      "100%|█████████████████████████████████████████████████████████████████████████████████████████████████████████████████████| 90/90 [00:10<00:00,  8.76it/s]\n"
     ]
    },
    {
     "name": "stdout",
     "output_type": "stream",
     "text": [
      "Trainig acc: 0.8191   //   Training loss: 0.5956   //   Test acc: 0.7031   //   Test loss: 0.9662\n",
      "early_stop: 1  /   Best acc: 0.7030812324929971\n",
      "Training task 1 in epoch 7. Batch size: 8.\n"
     ]
    },
    {
     "name": "stderr",
     "output_type": "stream",
     "text": [
      "100%|█████████████████████████████████████████████████████████████████████████████████████████████████████████████████████| 94/94 [00:18<00:00,  4.95it/s]\n",
      "100%|█████████████████████████████████████████████████████████████████████████████████████████████████████████████████████| 90/90 [00:10<00:00,  8.49it/s]\n"
     ]
    },
    {
     "name": "stdout",
     "output_type": "stream",
     "text": [
      "Trainig acc: 0.8271   //   Training loss: 0.5289   //   Test acc: 0.7045   //   Test loss: 0.9536\n",
      "early_stop: 1  /   Best acc: 0.7044817927170869\n",
      "Training task 1 in epoch 8. Batch size: 8.\n"
     ]
    },
    {
     "name": "stderr",
     "output_type": "stream",
     "text": [
      "100%|█████████████████████████████████████████████████████████████████████████████████████████████████████████████████████| 94/94 [00:19<00:00,  4.94it/s]\n",
      "100%|█████████████████████████████████████████████████████████████████████████████████████████████████████████████████████| 90/90 [00:10<00:00,  8.91it/s]\n"
     ]
    },
    {
     "name": "stdout",
     "output_type": "stream",
     "text": [
      "Trainig acc: 0.8883   //   Training loss: 0.3671   //   Test acc: 0.7157   //   Test loss: 0.9642\n",
      "early_stop: 1  /   Best acc: 0.7156862745098039\n",
      "Training task 1 in epoch 9. Batch size: 8.\n"
     ]
    },
    {
     "name": "stderr",
     "output_type": "stream",
     "text": [
      "100%|█████████████████████████████████████████████████████████████████████████████████████████████████████████████████████| 94/94 [00:18<00:00,  4.95it/s]\n",
      "100%|█████████████████████████████████████████████████████████████████████████████████████████████████████████████████████| 90/90 [00:10<00:00,  8.99it/s]\n"
     ]
    },
    {
     "name": "stdout",
     "output_type": "stream",
     "text": [
      "Trainig acc: 0.9016   //   Training loss: 0.3634   //   Test acc: 0.7031   //   Test loss: 0.9344\n",
      "early_stop: 2  /   Best acc: 0.7156862745098039\n",
      "Training task 1 in epoch 10. Batch size: 8.\n"
     ]
    },
    {
     "name": "stderr",
     "output_type": "stream",
     "text": [
      "100%|█████████████████████████████████████████████████████████████████████████████████████████████████████████████████████| 94/94 [00:18<00:00,  4.98it/s]\n",
      "100%|█████████████████████████████████████████████████████████████████████████████████████████████████████████████████████| 90/90 [00:10<00:00,  9.00it/s]\n"
     ]
    },
    {
     "name": "stdout",
     "output_type": "stream",
     "text": [
      "Trainig acc: 0.9149   //   Training loss: 0.2678   //   Test acc: 0.7087   //   Test loss: 0.9452\n",
      "early_stop: 3  /   Best acc: 0.7156862745098039\n",
      "Training task 1 in epoch 11. Batch size: 8.\n"
     ]
    },
    {
     "name": "stderr",
     "output_type": "stream",
     "text": [
      "100%|█████████████████████████████████████████████████████████████████████████████████████████████████████████████████████| 94/94 [00:19<00:00,  4.93it/s]\n",
      "100%|█████████████████████████████████████████████████████████████████████████████████████████████████████████████████████| 90/90 [00:10<00:00,  8.98it/s]\n"
     ]
    },
    {
     "name": "stdout",
     "output_type": "stream",
     "text": [
      "Trainig acc: 0.9322   //   Training loss: 0.2228   //   Test acc: 0.7255   //   Test loss: 0.9109\n",
      "early_stop: 1  /   Best acc: 0.7254901960784313\n",
      "Training task 1 in epoch 12. Batch size: 8.\n"
     ]
    },
    {
     "name": "stderr",
     "output_type": "stream",
     "text": [
      "100%|█████████████████████████████████████████████████████████████████████████████████████████████████████████████████████| 94/94 [00:18<00:00,  4.98it/s]\n",
      "100%|█████████████████████████████████████████████████████████████████████████████████████████████████████████████████████| 90/90 [00:10<00:00,  8.93it/s]\n"
     ]
    },
    {
     "name": "stdout",
     "output_type": "stream",
     "text": [
      "Trainig acc: 0.9574   //   Training loss: 0.1561   //   Test acc: 0.7199   //   Test loss: 0.9736\n",
      "early_stop: 2  /   Best acc: 0.7254901960784313\n",
      "Training task 1 in epoch 13. Batch size: 8.\n"
     ]
    },
    {
     "name": "stderr",
     "output_type": "stream",
     "text": [
      "100%|█████████████████████████████████████████████████████████████████████████████████████████████████████████████████████| 94/94 [00:19<00:00,  4.91it/s]\n",
      "100%|█████████████████████████████████████████████████████████████████████████████████████████████████████████████████████| 90/90 [00:10<00:00,  8.98it/s]\n"
     ]
    },
    {
     "name": "stdout",
     "output_type": "stream",
     "text": [
      "Trainig acc: 0.9508   //   Training loss: 0.1532   //   Test acc: 0.7507   //   Test loss: 0.8857\n",
      "early_stop: 1  /   Best acc: 0.7507002801120448\n",
      "Training task 1 in epoch 14. Batch size: 8.\n"
     ]
    },
    {
     "name": "stderr",
     "output_type": "stream",
     "text": [
      "100%|█████████████████████████████████████████████████████████████████████████████████████████████████████████████████████| 94/94 [00:18<00:00,  5.04it/s]\n",
      "100%|█████████████████████████████████████████████████████████████████████████████████████████████████████████████████████| 90/90 [00:10<00:00,  8.78it/s]\n"
     ]
    },
    {
     "name": "stdout",
     "output_type": "stream",
     "text": [
      "Trainig acc: 0.9721   //   Training loss: 0.1113   //   Test acc: 0.7297   //   Test loss: 0.9297\n",
      "early_stop: 2  /   Best acc: 0.7507002801120448\n",
      "Training task 1 in epoch 15. Batch size: 8.\n"
     ]
    },
    {
     "name": "stderr",
     "output_type": "stream",
     "text": [
      "100%|█████████████████████████████████████████████████████████████████████████████████████████████████████████████████████| 94/94 [00:18<00:00,  4.97it/s]\n",
      "100%|█████████████████████████████████████████████████████████████████████████████████████████████████████████████████████| 90/90 [00:09<00:00,  9.30it/s]\n"
     ]
    },
    {
     "name": "stdout",
     "output_type": "stream",
     "text": [
      "Trainig acc: 0.9761   //   Training loss: 0.0912   //   Test acc: 0.7297   //   Test loss: 0.9273\n",
      "early_stop: 3  /   Best acc: 0.7507002801120448\n",
      "Training task 1 in epoch 16. Batch size: 8.\n"
     ]
    },
    {
     "name": "stderr",
     "output_type": "stream",
     "text": [
      "100%|█████████████████████████████████████████████████████████████████████████████████████████████████████████████████████| 94/94 [00:18<00:00,  4.96it/s]\n",
      "100%|█████████████████████████████████████████████████████████████████████████████████████████████████████████████████████| 90/90 [00:10<00:00,  8.82it/s]\n"
     ]
    },
    {
     "name": "stdout",
     "output_type": "stream",
     "text": [
      "Trainig acc: 0.9668   //   Training loss: 0.0823   //   Test acc: 0.7381   //   Test loss: 0.9678\n",
      "early_stop: 4  /   Best acc: 0.7507002801120448\n",
      "Training task 1 in epoch 17. Batch size: 8.\n"
     ]
    },
    {
     "name": "stderr",
     "output_type": "stream",
     "text": [
      "100%|█████████████████████████████████████████████████████████████████████████████████████████████████████████████████████| 94/94 [00:19<00:00,  4.92it/s]\n",
      "100%|█████████████████████████████████████████████████████████████████████████████████████████████████████████████████████| 90/90 [00:10<00:00,  8.78it/s]\n"
     ]
    },
    {
     "name": "stdout",
     "output_type": "stream",
     "text": [
      "Trainig acc: 0.9827   //   Training loss: 0.0697   //   Test acc: 0.7451   //   Test loss: 0.9863\n",
      "early_stop: 5  /   Best acc: 0.7507002801120448\n",
      "Training task 1 in epoch 18. Batch size: 8.\n"
     ]
    },
    {
     "name": "stderr",
     "output_type": "stream",
     "text": [
      "100%|█████████████████████████████████████████████████████████████████████████████████████████████████████████████████████| 94/94 [00:19<00:00,  4.94it/s]\n",
      "100%|█████████████████████████████████████████████████████████████████████████████████████████████████████████████████████| 90/90 [00:10<00:00,  8.73it/s]\n"
     ]
    },
    {
     "name": "stdout",
     "output_type": "stream",
     "text": [
      "Trainig acc: 0.9787   //   Training loss: 0.0683   //   Test acc: 0.7437   //   Test loss: 0.9761\n",
      "early_stop: 6  /   Best acc: 0.7507002801120448\n",
      "Training task 1 in epoch 19. Batch size: 8.\n"
     ]
    },
    {
     "name": "stderr",
     "output_type": "stream",
     "text": [
      "100%|█████████████████████████████████████████████████████████████████████████████████████████████████████████████████████| 94/94 [00:18<00:00,  4.96it/s]\n",
      "100%|█████████████████████████████████████████████████████████████████████████████████████████████████████████████████████| 90/90 [00:10<00:00,  8.86it/s]\n"
     ]
    },
    {
     "name": "stdout",
     "output_type": "stream",
     "text": [
      "Trainig acc: 0.988   //   Training loss: 0.0551   //   Test acc: 0.7479   //   Test loss: 0.9396\n",
      "early_stop: 7  /   Best acc: 0.7507002801120448\n",
      "Training task 1 in epoch 20. Batch size: 8.\n"
     ]
    },
    {
     "name": "stderr",
     "output_type": "stream",
     "text": [
      "100%|█████████████████████████████████████████████████████████████████████████████████████████████████████████████████████| 94/94 [00:18<00:00,  4.97it/s]\n",
      "100%|█████████████████████████████████████████████████████████████████████████████████████████████████████████████████████| 90/90 [00:10<00:00,  8.75it/s]\n"
     ]
    },
    {
     "name": "stdout",
     "output_type": "stream",
     "text": [
      "Trainig acc: 0.9867   //   Training loss: 0.0464   //   Test acc: 0.7451   //   Test loss: 0.9483\n",
      "early_stop: 8  /   Best acc: 0.7507002801120448\n",
      "Training task 1 in epoch 21. Batch size: 8.\n"
     ]
    },
    {
     "name": "stderr",
     "output_type": "stream",
     "text": [
      "100%|█████████████████████████████████████████████████████████████████████████████████████████████████████████████████████| 94/94 [00:18<00:00,  4.95it/s]\n",
      "100%|█████████████████████████████████████████████████████████████████████████████████████████████████████████████████████| 90/90 [00:10<00:00,  8.77it/s]\n"
     ]
    },
    {
     "name": "stdout",
     "output_type": "stream",
     "text": [
      "Trainig acc: 0.9827   //   Training loss: 0.0565   //   Test acc: 0.7521   //   Test loss: 0.9351\n",
      "early_stop: 1  /   Best acc: 0.7521008403361344\n",
      "Training task 1 in epoch 22. Batch size: 8.\n"
     ]
    },
    {
     "name": "stderr",
     "output_type": "stream",
     "text": [
      "100%|█████████████████████████████████████████████████████████████████████████████████████████████████████████████████████| 94/94 [00:19<00:00,  4.93it/s]\n",
      "100%|█████████████████████████████████████████████████████████████████████████████████████████████████████████████████████| 90/90 [00:10<00:00,  8.99it/s]\n"
     ]
    },
    {
     "name": "stdout",
     "output_type": "stream",
     "text": [
      "Trainig acc: 0.9867   //   Training loss: 0.0535   //   Test acc: 0.7437   //   Test loss: 0.9886\n",
      "early_stop: 2  /   Best acc: 0.7521008403361344\n",
      "Training task 1 in epoch 23. Batch size: 8.\n"
     ]
    },
    {
     "name": "stderr",
     "output_type": "stream",
     "text": [
      "100%|█████████████████████████████████████████████████████████████████████████████████████████████████████████████████████| 94/94 [00:18<00:00,  4.95it/s]\n",
      "100%|█████████████████████████████████████████████████████████████████████████████████████████████████████████████████████| 90/90 [00:10<00:00,  8.70it/s]\n"
     ]
    },
    {
     "name": "stdout",
     "output_type": "stream",
     "text": [
      "Trainig acc: 0.984   //   Training loss: 0.0494   //   Test acc: 0.7521   //   Test loss: 0.9063\n",
      "early_stop: 3  /   Best acc: 0.7521008403361344\n",
      "Training task 1 in epoch 24. Batch size: 8.\n"
     ]
    },
    {
     "name": "stderr",
     "output_type": "stream",
     "text": [
      "100%|█████████████████████████████████████████████████████████████████████████████████████████████████████████████████████| 94/94 [00:18<00:00,  4.96it/s]\n",
      "100%|█████████████████████████████████████████████████████████████████████████████████████████████████████████████████████| 90/90 [00:09<00:00,  9.02it/s]\n"
     ]
    },
    {
     "name": "stdout",
     "output_type": "stream",
     "text": [
      "Trainig acc: 0.988   //   Training loss: 0.0333   //   Test acc: 0.7409   //   Test loss: 0.9541\n",
      "early_stop: 4  /   Best acc: 0.7521008403361344\n",
      "Training task 1 in epoch 25. Batch size: 8.\n"
     ]
    },
    {
     "name": "stderr",
     "output_type": "stream",
     "text": [
      "100%|█████████████████████████████████████████████████████████████████████████████████████████████████████████████████████| 94/94 [00:18<00:00,  4.97it/s]\n",
      "100%|█████████████████████████████████████████████████████████████████████████████████████████████████████████████████████| 90/90 [00:10<00:00,  8.60it/s]\n"
     ]
    },
    {
     "name": "stdout",
     "output_type": "stream",
     "text": [
      "Trainig acc: 0.984   //   Training loss: 0.0509   //   Test acc: 0.7521   //   Test loss: 0.9398\n",
      "early_stop: 5  /   Best acc: 0.7521008403361344\n",
      "Training task 1 in epoch 26. Batch size: 8.\n"
     ]
    },
    {
     "name": "stderr",
     "output_type": "stream",
     "text": [
      "100%|█████████████████████████████████████████████████████████████████████████████████████████████████████████████████████| 94/94 [00:19<00:00,  4.94it/s]\n",
      "100%|█████████████████████████████████████████████████████████████████████████████████████████████████████████████████████| 90/90 [00:09<00:00,  9.16it/s]\n"
     ]
    },
    {
     "name": "stdout",
     "output_type": "stream",
     "text": [
      "Trainig acc: 0.9867   //   Training loss: 0.0389   //   Test acc: 0.7535   //   Test loss: 0.9360\n",
      "early_stop: 1  /   Best acc: 0.7535014005602241\n",
      "Training task 1 in epoch 27. Batch size: 8.\n"
     ]
    },
    {
     "name": "stderr",
     "output_type": "stream",
     "text": [
      "100%|█████████████████████████████████████████████████████████████████████████████████████████████████████████████████████| 94/94 [00:18<00:00,  4.95it/s]\n",
      "100%|█████████████████████████████████████████████████████████████████████████████████████████████████████████████████████| 90/90 [00:09<00:00,  9.02it/s]\n"
     ]
    },
    {
     "name": "stdout",
     "output_type": "stream",
     "text": [
      "Trainig acc: 0.9867   //   Training loss: 0.0543   //   Test acc: 0.7535   //   Test loss: 0.9212\n",
      "early_stop: 2  /   Best acc: 0.7535014005602241\n",
      "Training task 1 in epoch 28. Batch size: 8.\n"
     ]
    },
    {
     "name": "stderr",
     "output_type": "stream",
     "text": [
      "100%|█████████████████████████████████████████████████████████████████████████████████████████████████████████████████████| 94/94 [00:18<00:00,  4.95it/s]\n",
      "100%|█████████████████████████████████████████████████████████████████████████████████████████████████████████████████████| 90/90 [00:10<00:00,  8.91it/s]\n"
     ]
    },
    {
     "name": "stdout",
     "output_type": "stream",
     "text": [
      "Trainig acc: 0.992   //   Training loss: 0.0322   //   Test acc: 0.7549   //   Test loss: 0.9452\n",
      "early_stop: 1  /   Best acc: 0.7549019607843137\n",
      "Training task 1 in epoch 29. Batch size: 8.\n"
     ]
    },
    {
     "name": "stderr",
     "output_type": "stream",
     "text": [
      "100%|█████████████████████████████████████████████████████████████████████████████████████████████████████████████████████| 94/94 [00:18<00:00,  4.99it/s]\n",
      "100%|█████████████████████████████████████████████████████████████████████████████████████████████████████████████████████| 90/90 [00:09<00:00,  9.07it/s]\n"
     ]
    },
    {
     "name": "stdout",
     "output_type": "stream",
     "text": [
      "Trainig acc: 0.984   //   Training loss: 0.0425   //   Test acc: 0.7451   //   Test loss: 0.9644\n",
      "early_stop: 2  /   Best acc: 0.7549019607843137\n",
      "Training task 1 in epoch 30. Batch size: 8.\n"
     ]
    },
    {
     "name": "stderr",
     "output_type": "stream",
     "text": [
      "100%|█████████████████████████████████████████████████████████████████████████████████████████████████████████████████████| 94/94 [00:18<00:00,  4.96it/s]\n",
      "100%|█████████████████████████████████████████████████████████████████████████████████████████████████████████████████████| 90/90 [00:10<00:00,  8.45it/s]\n"
     ]
    },
    {
     "name": "stdout",
     "output_type": "stream",
     "text": [
      "Trainig acc: 0.9867   //   Training loss: 0.0478   //   Test acc: 0.7577   //   Test loss: 0.9242\n",
      "early_stop: 1  /   Best acc: 0.757703081232493\n",
      "Training task 1 in epoch 31. Batch size: 8.\n"
     ]
    },
    {
     "name": "stderr",
     "output_type": "stream",
     "text": [
      "100%|█████████████████████████████████████████████████████████████████████████████████████████████████████████████████████| 94/94 [00:18<00:00,  5.06it/s]\n",
      "100%|█████████████████████████████████████████████████████████████████████████████████████████████████████████████████████| 90/90 [00:10<00:00,  8.71it/s]\n"
     ]
    },
    {
     "name": "stdout",
     "output_type": "stream",
     "text": [
      "Trainig acc: 0.9827   //   Training loss: 0.0532   //   Test acc: 0.7493   //   Test loss: 0.9700\n",
      "early_stop: 2  /   Best acc: 0.757703081232493\n",
      "Training task 1 in epoch 32. Batch size: 8.\n"
     ]
    },
    {
     "name": "stderr",
     "output_type": "stream",
     "text": [
      "100%|█████████████████████████████████████████████████████████████████████████████████████████████████████████████████████| 94/94 [00:18<00:00,  4.99it/s]\n",
      "100%|█████████████████████████████████████████████████████████████████████████████████████████████████████████████████████| 90/90 [00:09<00:00,  9.02it/s]\n"
     ]
    },
    {
     "name": "stdout",
     "output_type": "stream",
     "text": [
      "Trainig acc: 0.988   //   Training loss: 0.0401   //   Test acc: 0.7395   //   Test loss: 0.9731\n",
      "early_stop: 3  /   Best acc: 0.757703081232493\n",
      "Training task 1 in epoch 33. Batch size: 8.\n"
     ]
    },
    {
     "name": "stderr",
     "output_type": "stream",
     "text": [
      "100%|█████████████████████████████████████████████████████████████████████████████████████████████████████████████████████| 94/94 [00:18<00:00,  4.98it/s]\n",
      "100%|█████████████████████████████████████████████████████████████████████████████████████████████████████████████████████| 90/90 [00:10<00:00,  8.59it/s]\n"
     ]
    },
    {
     "name": "stdout",
     "output_type": "stream",
     "text": [
      "Trainig acc: 0.9894   //   Training loss: 0.0311   //   Test acc: 0.7535   //   Test loss: 0.9659\n",
      "early_stop: 4  /   Best acc: 0.757703081232493\n",
      "Training task 1 in epoch 34. Batch size: 8.\n"
     ]
    },
    {
     "name": "stderr",
     "output_type": "stream",
     "text": [
      "100%|█████████████████████████████████████████████████████████████████████████████████████████████████████████████████████| 94/94 [00:18<00:00,  4.95it/s]\n",
      "100%|█████████████████████████████████████████████████████████████████████████████████████████████████████████████████████| 90/90 [00:10<00:00,  8.79it/s]\n"
     ]
    },
    {
     "name": "stdout",
     "output_type": "stream",
     "text": [
      "Trainig acc: 0.9947   //   Training loss: 0.0304   //   Test acc: 0.7549   //   Test loss: 0.9556\n",
      "early_stop: 5  /   Best acc: 0.757703081232493\n",
      "Training task 1 in epoch 35. Batch size: 8.\n"
     ]
    },
    {
     "name": "stderr",
     "output_type": "stream",
     "text": [
      "100%|█████████████████████████████████████████████████████████████████████████████████████████████████████████████████████| 94/94 [00:18<00:00,  4.95it/s]\n",
      "100%|█████████████████████████████████████████████████████████████████████████████████████████████████████████████████████| 90/90 [00:10<00:00,  8.89it/s]\n"
     ]
    },
    {
     "name": "stdout",
     "output_type": "stream",
     "text": [
      "Trainig acc: 0.9934   //   Training loss: 0.0303   //   Test acc: 0.7521   //   Test loss: 0.9224\n",
      "early_stop: 6  /   Best acc: 0.757703081232493\n",
      "Training task 1 in epoch 36. Batch size: 8.\n"
     ]
    },
    {
     "name": "stderr",
     "output_type": "stream",
     "text": [
      "100%|█████████████████████████████████████████████████████████████████████████████████████████████████████████████████████| 94/94 [00:18<00:00,  4.95it/s]\n",
      "100%|█████████████████████████████████████████████████████████████████████████████████████████████████████████████████████| 90/90 [00:09<00:00,  9.01it/s]\n"
     ]
    },
    {
     "name": "stdout",
     "output_type": "stream",
     "text": [
      "Trainig acc: 0.9907   //   Training loss: 0.0339   //   Test acc: 0.7549   //   Test loss: 0.9364\n",
      "early_stop: 7  /   Best acc: 0.757703081232493\n",
      "Training task 1 in epoch 37. Batch size: 8.\n"
     ]
    },
    {
     "name": "stderr",
     "output_type": "stream",
     "text": [
      "100%|█████████████████████████████████████████████████████████████████████████████████████████████████████████████████████| 94/94 [00:18<00:00,  4.96it/s]\n",
      "100%|█████████████████████████████████████████████████████████████████████████████████████████████████████████████████████| 90/90 [00:10<00:00,  8.99it/s]\n"
     ]
    },
    {
     "name": "stdout",
     "output_type": "stream",
     "text": [
      "Trainig acc: 0.992   //   Training loss: 0.0309   //   Test acc: 0.7549   //   Test loss: 0.9202\n",
      "early_stop: 8  /   Best acc: 0.757703081232493\n",
      "Training task 1 in epoch 38. Batch size: 8.\n"
     ]
    },
    {
     "name": "stderr",
     "output_type": "stream",
     "text": [
      "100%|█████████████████████████████████████████████████████████████████████████████████████████████████████████████████████| 94/94 [00:19<00:00,  4.94it/s]\n",
      "100%|█████████████████████████████████████████████████████████████████████████████████████████████████████████████████████| 90/90 [00:09<00:00,  9.19it/s]\n"
     ]
    },
    {
     "name": "stdout",
     "output_type": "stream",
     "text": [
      "Trainig acc: 0.9867   //   Training loss: 0.0462   //   Test acc: 0.7423   //   Test loss: 0.9616\n",
      "early_stop: 9  /   Best acc: 0.757703081232493\n",
      "Training task 1 in epoch 39. Batch size: 8.\n"
     ]
    },
    {
     "name": "stderr",
     "output_type": "stream",
     "text": [
      "100%|█████████████████████████████████████████████████████████████████████████████████████████████████████████████████████| 94/94 [00:18<00:00,  4.95it/s]\n",
      "100%|█████████████████████████████████████████████████████████████████████████████████████████████████████████████████████| 90/90 [00:09<00:00,  9.08it/s]\n"
     ]
    },
    {
     "name": "stdout",
     "output_type": "stream",
     "text": [
      "Trainig acc: 0.9867   //   Training loss: 0.0342   //   Test acc: 0.7563   //   Test loss: 0.9385\n",
      "early_stop: 10  /   Best acc: 0.757703081232493\n",
      "Training task 1 in epoch 40. Batch size: 8.\n"
     ]
    },
    {
     "name": "stderr",
     "output_type": "stream",
     "text": [
      "100%|█████████████████████████████████████████████████████████████████████████████████████████████████████████████████████| 94/94 [00:19<00:00,  4.94it/s]\n",
      "100%|█████████████████████████████████████████████████████████████████████████████████████████████████████████████████████| 90/90 [00:10<00:00,  8.86it/s]\n"
     ]
    },
    {
     "name": "stdout",
     "output_type": "stream",
     "text": [
      "Trainig acc: 0.9894   //   Training loss: 0.0307   //   Test acc: 0.7451   //   Test loss: 0.9776\n",
      "early_stop: 11  /   Best acc: 0.757703081232493\n",
      "Training task 1 in epoch 41. Batch size: 8.\n"
     ]
    },
    {
     "name": "stderr",
     "output_type": "stream",
     "text": [
      "100%|█████████████████████████████████████████████████████████████████████████████████████████████████████████████████████| 94/94 [00:18<00:00,  4.98it/s]\n",
      "100%|█████████████████████████████████████████████████████████████████████████████████████████████████████████████████████| 90/90 [00:09<00:00,  9.01it/s]\n"
     ]
    },
    {
     "name": "stdout",
     "output_type": "stream",
     "text": [
      "---------------------------------------- TASK_2 ----------------------------------------\n",
      "Training task 2 in epoch 0. Batch size: 8.\n"
     ]
    },
    {
     "name": "stderr",
     "output_type": "stream",
     "text": [
      "100%|█████████████████████████████████████████████████████████████████████████████████████████████████████████████████████| 94/94 [00:18<00:00,  4.96it/s]\n",
      "100%|█████████████████████████████████████████████████████████████████████████████████████████████████████████████████████| 94/94 [00:10<00:00,  9.24it/s]\n"
     ]
    },
    {
     "name": "stdout",
     "output_type": "stream",
     "text": [
      "Trainig acc: 0.0492   //   Training loss: 4.6515   //   Test acc: 0.2540   //   Test loss: 2.9503\n",
      "early_stop: 1  /   Best acc: 0.2540106951871658\n",
      "Training task 2 in epoch 1. Batch size: 8.\n"
     ]
    },
    {
     "name": "stderr",
     "output_type": "stream",
     "text": [
      "100%|█████████████████████████████████████████████████████████████████████████████████████████████████████████████████████| 94/94 [00:18<00:00,  4.98it/s]\n",
      "100%|█████████████████████████████████████████████████████████████████████████████████████████████████████████████████████| 94/94 [00:10<00:00,  8.95it/s]\n"
     ]
    },
    {
     "name": "stdout",
     "output_type": "stream",
     "text": [
      "Trainig acc: 0.238   //   Training loss: 2.6713   //   Test acc: 0.4305   //   Test loss: 1.9805\n",
      "early_stop: 1  /   Best acc: 0.4304812834224599\n",
      "Training task 2 in epoch 2. Batch size: 8.\n"
     ]
    },
    {
     "name": "stderr",
     "output_type": "stream",
     "text": [
      "100%|█████████████████████████████████████████████████████████████████████████████████████████████████████████████████████| 94/94 [00:19<00:00,  4.93it/s]\n",
      "100%|█████████████████████████████████████████████████████████████████████████████████████████████████████████████████████| 94/94 [00:10<00:00,  8.89it/s]\n"
     ]
    },
    {
     "name": "stdout",
     "output_type": "stream",
     "text": [
      "Trainig acc: 0.4189   //   Training loss: 1.9271   //   Test acc: 0.5307   //   Test loss: 1.5353\n",
      "early_stop: 1  /   Best acc: 0.5307486631016043\n",
      "Training task 2 in epoch 3. Batch size: 8.\n"
     ]
    },
    {
     "name": "stderr",
     "output_type": "stream",
     "text": [
      "100%|█████████████████████████████████████████████████████████████████████████████████████████████████████████████████████| 94/94 [00:18<00:00,  4.99it/s]\n",
      "100%|█████████████████████████████████████████████████████████████████████████████████████████████████████████████████████| 94/94 [00:10<00:00,  8.73it/s]\n"
     ]
    },
    {
     "name": "stdout",
     "output_type": "stream",
     "text": [
      "Trainig acc: 0.5465   //   Training loss: 1.4713   //   Test acc: 0.5949   //   Test loss: 1.3411\n",
      "early_stop: 1  /   Best acc: 0.5949197860962567\n",
      "Training task 2 in epoch 4. Batch size: 8.\n"
     ]
    },
    {
     "name": "stderr",
     "output_type": "stream",
     "text": [
      "100%|█████████████████████████████████████████████████████████████████████████████████████████████████████████████████████| 94/94 [00:19<00:00,  4.91it/s]\n",
      "100%|█████████████████████████████████████████████████████████████████████████████████████████████████████████████████████| 94/94 [00:10<00:00,  8.77it/s]\n"
     ]
    },
    {
     "name": "stdout",
     "output_type": "stream",
     "text": [
      "Trainig acc: 0.6277   //   Training loss: 1.1876   //   Test acc: 0.6230   //   Test loss: 1.1847\n",
      "early_stop: 1  /   Best acc: 0.6229946524064172\n",
      "Training task 2 in epoch 5. Batch size: 8.\n"
     ]
    },
    {
     "name": "stderr",
     "output_type": "stream",
     "text": [
      "100%|█████████████████████████████████████████████████████████████████████████████████████████████████████████████████████| 94/94 [00:18<00:00,  4.96it/s]\n",
      "100%|█████████████████████████████████████████████████████████████████████████████████████████████████████████████████████| 94/94 [00:10<00:00,  8.79it/s]\n"
     ]
    },
    {
     "name": "stdout",
     "output_type": "stream",
     "text": [
      "Trainig acc: 0.7008   //   Training loss: 0.9449   //   Test acc: 0.6404   //   Test loss: 1.1256\n",
      "early_stop: 1  /   Best acc: 0.6403743315508021\n",
      "Training task 2 in epoch 6. Batch size: 8.\n"
     ]
    },
    {
     "name": "stderr",
     "output_type": "stream",
     "text": [
      "100%|█████████████████████████████████████████████████████████████████████████████████████████████████████████████████████| 94/94 [00:19<00:00,  4.91it/s]\n",
      "100%|█████████████████████████████████████████████████████████████████████████████████████████████████████████████████████| 94/94 [00:10<00:00,  8.55it/s]\n"
     ]
    },
    {
     "name": "stdout",
     "output_type": "stream",
     "text": [
      "Trainig acc: 0.7327   //   Training loss: 0.8406   //   Test acc: 0.6350   //   Test loss: 1.0691\n",
      "early_stop: 2  /   Best acc: 0.6403743315508021\n",
      "Training task 2 in epoch 7. Batch size: 8.\n"
     ]
    },
    {
     "name": "stderr",
     "output_type": "stream",
     "text": [
      "100%|█████████████████████████████████████████████████████████████████████████████████████████████████████████████████████| 94/94 [00:19<00:00,  4.90it/s]\n",
      "100%|█████████████████████████████████████████████████████████████████████████████████████████████████████████████████████| 94/94 [00:10<00:00,  8.95it/s]\n"
     ]
    },
    {
     "name": "stdout",
     "output_type": "stream",
     "text": [
      "Trainig acc: 0.7832   //   Training loss: 0.6809   //   Test acc: 0.6671   //   Test loss: 1.0093\n",
      "early_stop: 1  /   Best acc: 0.6671122994652406\n",
      "Training task 2 in epoch 8. Batch size: 8.\n"
     ]
    },
    {
     "name": "stderr",
     "output_type": "stream",
     "text": [
      "100%|█████████████████████████████████████████████████████████████████████████████████████████████████████████████████████| 94/94 [00:18<00:00,  4.95it/s]\n",
      "100%|█████████████████████████████████████████████████████████████████████████████████████████████████████████████████████| 94/94 [00:10<00:00,  9.16it/s]\n"
     ]
    },
    {
     "name": "stdout",
     "output_type": "stream",
     "text": [
      "Trainig acc: 0.8364   //   Training loss: 0.5270   //   Test acc: 0.6778   //   Test loss: 0.9788\n",
      "early_stop: 1  /   Best acc: 0.6778074866310161\n",
      "Training task 2 in epoch 9. Batch size: 8.\n"
     ]
    },
    {
     "name": "stderr",
     "output_type": "stream",
     "text": [
      "100%|█████████████████████████████████████████████████████████████████████████████████████████████████████████████████████| 94/94 [00:18<00:00,  4.96it/s]\n",
      "100%|█████████████████████████████████████████████████████████████████████████████████████████████████████████████████████| 94/94 [00:10<00:00,  8.74it/s]\n"
     ]
    },
    {
     "name": "stdout",
     "output_type": "stream",
     "text": [
      "Trainig acc: 0.8577   //   Training loss: 0.4497   //   Test acc: 0.6791   //   Test loss: 0.9831\n",
      "early_stop: 1  /   Best acc: 0.679144385026738\n",
      "Training task 2 in epoch 10. Batch size: 8.\n"
     ]
    },
    {
     "name": "stderr",
     "output_type": "stream",
     "text": [
      "100%|█████████████████████████████████████████████████████████████████████████████████████████████████████████████████████| 94/94 [00:18<00:00,  5.02it/s]\n",
      "100%|█████████████████████████████████████████████████████████████████████████████████████████████████████████████████████| 94/94 [00:10<00:00,  9.23it/s]\n"
     ]
    },
    {
     "name": "stdout",
     "output_type": "stream",
     "text": [
      "Trainig acc: 0.891   //   Training loss: 0.3717   //   Test acc: 0.7045   //   Test loss: 0.9493\n",
      "early_stop: 1  /   Best acc: 0.7045454545454546\n",
      "Training task 2 in epoch 11. Batch size: 8.\n"
     ]
    },
    {
     "name": "stderr",
     "output_type": "stream",
     "text": [
      "100%|█████████████████████████████████████████████████████████████████████████████████████████████████████████████████████| 94/94 [00:18<00:00,  5.02it/s]\n",
      "100%|█████████████████████████████████████████████████████████████████████████████████████████████████████████████████████| 94/94 [00:10<00:00,  8.63it/s]\n"
     ]
    },
    {
     "name": "stdout",
     "output_type": "stream",
     "text": [
      "Trainig acc: 0.9295   //   Training loss: 0.2744   //   Test acc: 0.6832   //   Test loss: 0.9905\n",
      "early_stop: 2  /   Best acc: 0.7045454545454546\n",
      "Training task 2 in epoch 12. Batch size: 8.\n"
     ]
    },
    {
     "name": "stderr",
     "output_type": "stream",
     "text": [
      "100%|█████████████████████████████████████████████████████████████████████████████████████████████████████████████████████| 94/94 [00:19<00:00,  4.91it/s]\n",
      "100%|█████████████████████████████████████████████████████████████████████████████████████████████████████████████████████| 94/94 [00:10<00:00,  8.85it/s]\n"
     ]
    },
    {
     "name": "stdout",
     "output_type": "stream",
     "text": [
      "Trainig acc: 0.9362   //   Training loss: 0.2070   //   Test acc: 0.6952   //   Test loss: 1.0073\n",
      "early_stop: 3  /   Best acc: 0.7045454545454546\n",
      "Training task 2 in epoch 13. Batch size: 8.\n"
     ]
    },
    {
     "name": "stderr",
     "output_type": "stream",
     "text": [
      "100%|█████████████████████████████████████████████████████████████████████████████████████████████████████████████████████| 94/94 [00:19<00:00,  4.89it/s]\n",
      "100%|█████████████████████████████████████████████████████████████████████████████████████████████████████████████████████| 94/94 [00:10<00:00,  9.02it/s]\n"
     ]
    },
    {
     "name": "stdout",
     "output_type": "stream",
     "text": [
      "Trainig acc: 0.9441   //   Training loss: 0.1967   //   Test acc: 0.6832   //   Test loss: 0.9874\n",
      "early_stop: 4  /   Best acc: 0.7045454545454546\n",
      "Training task 2 in epoch 14. Batch size: 8.\n"
     ]
    },
    {
     "name": "stderr",
     "output_type": "stream",
     "text": [
      "100%|█████████████████████████████████████████████████████████████████████████████████████████████████████████████████████| 94/94 [00:18<00:00,  4.95it/s]\n",
      "100%|█████████████████████████████████████████████████████████████████████████████████████████████████████████████████████| 94/94 [00:10<00:00,  8.90it/s]\n"
     ]
    },
    {
     "name": "stdout",
     "output_type": "stream",
     "text": [
      "Trainig acc: 0.9548   //   Training loss: 0.1538   //   Test acc: 0.6925   //   Test loss: 0.9969\n",
      "early_stop: 5  /   Best acc: 0.7045454545454546\n",
      "Training task 2 in epoch 15. Batch size: 8.\n"
     ]
    },
    {
     "name": "stderr",
     "output_type": "stream",
     "text": [
      "100%|█████████████████████████████████████████████████████████████████████████████████████████████████████████████████████| 94/94 [00:19<00:00,  4.89it/s]\n",
      "100%|█████████████████████████████████████████████████████████████████████████████████████████████████████████████████████| 94/94 [00:10<00:00,  8.64it/s]\n"
     ]
    },
    {
     "name": "stdout",
     "output_type": "stream",
     "text": [
      "Trainig acc: 0.9508   //   Training loss: 0.1478   //   Test acc: 0.7059   //   Test loss: 0.9890\n",
      "early_stop: 1  /   Best acc: 0.7058823529411765\n",
      "Training task 2 in epoch 16. Batch size: 8.\n"
     ]
    },
    {
     "name": "stderr",
     "output_type": "stream",
     "text": [
      "100%|█████████████████████████████████████████████████████████████████████████████████████████████████████████████████████| 94/94 [00:18<00:00,  5.00it/s]\n",
      "100%|█████████████████████████████████████████████████████████████████████████████████████████████████████████████████████| 94/94 [00:10<00:00,  8.80it/s]\n"
     ]
    },
    {
     "name": "stdout",
     "output_type": "stream",
     "text": [
      "Trainig acc: 0.9681   //   Training loss: 0.1166   //   Test acc: 0.6939   //   Test loss: 1.0233\n",
      "early_stop: 2  /   Best acc: 0.7058823529411765\n",
      "Training task 2 in epoch 17. Batch size: 8.\n"
     ]
    },
    {
     "name": "stderr",
     "output_type": "stream",
     "text": [
      "100%|█████████████████████████████████████████████████████████████████████████████████████████████████████████████████████| 94/94 [00:19<00:00,  4.93it/s]\n",
      "100%|█████████████████████████████████████████████████████████████████████████████████████████████████████████████████████| 94/94 [00:10<00:00,  8.86it/s]\n"
     ]
    },
    {
     "name": "stdout",
     "output_type": "stream",
     "text": [
      "Trainig acc: 0.9787   //   Training loss: 0.0717   //   Test acc: 0.6979   //   Test loss: 1.0887\n",
      "early_stop: 3  /   Best acc: 0.7058823529411765\n",
      "Training task 2 in epoch 18. Batch size: 8.\n"
     ]
    },
    {
     "name": "stderr",
     "output_type": "stream",
     "text": [
      "100%|█████████████████████████████████████████████████████████████████████████████████████████████████████████████████████| 94/94 [00:18<00:00,  4.96it/s]\n",
      "100%|█████████████████████████████████████████████████████████████████████████████████████████████████████████████████████| 94/94 [00:10<00:00,  8.85it/s]\n"
     ]
    },
    {
     "name": "stdout",
     "output_type": "stream",
     "text": [
      "Trainig acc: 0.9707   //   Training loss: 0.0884   //   Test acc: 0.7086   //   Test loss: 1.0764\n",
      "early_stop: 1  /   Best acc: 0.7085561497326203\n",
      "Training task 2 in epoch 19. Batch size: 8.\n"
     ]
    },
    {
     "name": "stderr",
     "output_type": "stream",
     "text": [
      "100%|█████████████████████████████████████████████████████████████████████████████████████████████████████████████████████| 94/94 [00:18<00:00,  4.97it/s]\n",
      "100%|█████████████████████████████████████████████████████████████████████████████████████████████████████████████████████| 94/94 [00:10<00:00,  8.89it/s]\n"
     ]
    },
    {
     "name": "stdout",
     "output_type": "stream",
     "text": [
      "Trainig acc: 0.9707   //   Training loss: 0.0989   //   Test acc: 0.7005   //   Test loss: 1.0983\n",
      "early_stop: 2  /   Best acc: 0.7085561497326203\n",
      "Training task 2 in epoch 20. Batch size: 8.\n"
     ]
    },
    {
     "name": "stderr",
     "output_type": "stream",
     "text": [
      "100%|█████████████████████████████████████████████████████████████████████████████████████████████████████████████████████| 94/94 [00:19<00:00,  4.92it/s]\n",
      "100%|█████████████████████████████████████████████████████████████████████████████████████████████████████████████████████| 94/94 [00:10<00:00,  9.23it/s]\n"
     ]
    },
    {
     "name": "stdout",
     "output_type": "stream",
     "text": [
      "Trainig acc: 0.9761   //   Training loss: 0.0718   //   Test acc: 0.7005   //   Test loss: 1.1341\n",
      "early_stop: 3  /   Best acc: 0.7085561497326203\n",
      "Training task 2 in epoch 21. Batch size: 8.\n"
     ]
    },
    {
     "name": "stderr",
     "output_type": "stream",
     "text": [
      "100%|█████████████████████████████████████████████████████████████████████████████████████████████████████████████████████| 94/94 [00:19<00:00,  4.94it/s]\n",
      "100%|█████████████████████████████████████████████████████████████████████████████████████████████████████████████████████| 94/94 [00:10<00:00,  8.92it/s]\n"
     ]
    },
    {
     "name": "stdout",
     "output_type": "stream",
     "text": [
      "Trainig acc: 0.984   //   Training loss: 0.0498   //   Test acc: 0.7206   //   Test loss: 1.1652\n",
      "early_stop: 1  /   Best acc: 0.7205882352941176\n",
      "Training task 2 in epoch 22. Batch size: 8.\n"
     ]
    },
    {
     "name": "stderr",
     "output_type": "stream",
     "text": [
      "100%|█████████████████████████████████████████████████████████████████████████████████████████████████████████████████████| 94/94 [00:19<00:00,  4.90it/s]\n",
      "100%|█████████████████████████████████████████████████████████████████████████████████████████████████████████████████████| 94/94 [00:10<00:00,  8.71it/s]\n"
     ]
    },
    {
     "name": "stdout",
     "output_type": "stream",
     "text": [
      "Trainig acc: 0.9787   //   Training loss: 0.0520   //   Test acc: 0.7152   //   Test loss: 1.1216\n",
      "early_stop: 2  /   Best acc: 0.7205882352941176\n",
      "Training task 2 in epoch 23. Batch size: 8.\n"
     ]
    },
    {
     "name": "stderr",
     "output_type": "stream",
     "text": [
      "100%|█████████████████████████████████████████████████████████████████████████████████████████████████████████████████████| 94/94 [00:19<00:00,  4.95it/s]\n",
      "100%|█████████████████████████████████████████████████████████████████████████████████████████████████████████████████████| 94/94 [00:09<00:00,  9.42it/s]\n"
     ]
    },
    {
     "name": "stdout",
     "output_type": "stream",
     "text": [
      "Trainig acc: 0.988   //   Training loss: 0.0300   //   Test acc: 0.6992   //   Test loss: 1.2046\n",
      "early_stop: 3  /   Best acc: 0.7205882352941176\n",
      "Training task 2 in epoch 24. Batch size: 8.\n"
     ]
    },
    {
     "name": "stderr",
     "output_type": "stream",
     "text": [
      "100%|█████████████████████████████████████████████████████████████████████████████████████████████████████████████████████| 94/94 [00:18<00:00,  4.98it/s]\n",
      "100%|█████████████████████████████████████████████████████████████████████████████████████████████████████████████████████| 94/94 [00:10<00:00,  9.12it/s]\n"
     ]
    },
    {
     "name": "stdout",
     "output_type": "stream",
     "text": [
      "Trainig acc: 0.9894   //   Training loss: 0.0347   //   Test acc: 0.7112   //   Test loss: 1.1721\n",
      "early_stop: 4  /   Best acc: 0.7205882352941176\n",
      "Training task 2 in epoch 25. Batch size: 8.\n"
     ]
    },
    {
     "name": "stderr",
     "output_type": "stream",
     "text": [
      "100%|█████████████████████████████████████████████████████████████████████████████████████████████████████████████████████| 94/94 [00:19<00:00,  4.94it/s]\n",
      "100%|█████████████████████████████████████████████████████████████████████████████████████████████████████████████████████| 94/94 [00:10<00:00,  8.75it/s]\n"
     ]
    },
    {
     "name": "stdout",
     "output_type": "stream",
     "text": [
      "Trainig acc: 0.9827   //   Training loss: 0.0525   //   Test acc: 0.6939   //   Test loss: 1.2649\n",
      "early_stop: 5  /   Best acc: 0.7205882352941176\n",
      "Training task 2 in epoch 26. Batch size: 8.\n"
     ]
    },
    {
     "name": "stderr",
     "output_type": "stream",
     "text": [
      "100%|█████████████████████████████████████████████████████████████████████████████████████████████████████████████████████| 94/94 [00:19<00:00,  4.93it/s]\n",
      "100%|█████████████████████████████████████████████████████████████████████████████████████████████████████████████████████| 94/94 [00:10<00:00,  9.01it/s]\n"
     ]
    },
    {
     "name": "stdout",
     "output_type": "stream",
     "text": [
      "Trainig acc: 0.9894   //   Training loss: 0.0284   //   Test acc: 0.7045   //   Test loss: 1.2077\n",
      "early_stop: 6  /   Best acc: 0.7205882352941176\n",
      "Training task 2 in epoch 27. Batch size: 8.\n"
     ]
    },
    {
     "name": "stderr",
     "output_type": "stream",
     "text": [
      "100%|█████████████████████████████████████████████████████████████████████████████████████████████████████████████████████| 94/94 [00:19<00:00,  4.91it/s]\n",
      "100%|█████████████████████████████████████████████████████████████████████████████████████████████████████████████████████| 94/94 [00:10<00:00,  8.72it/s]\n"
     ]
    },
    {
     "name": "stdout",
     "output_type": "stream",
     "text": [
      "Trainig acc: 0.9854   //   Training loss: 0.0401   //   Test acc: 0.7072   //   Test loss: 1.2238\n",
      "early_stop: 7  /   Best acc: 0.7205882352941176\n",
      "Training task 2 in epoch 28. Batch size: 8.\n"
     ]
    },
    {
     "name": "stderr",
     "output_type": "stream",
     "text": [
      "100%|█████████████████████████████████████████████████████████████████████████████████████████████████████████████████████| 94/94 [00:18<00:00,  4.98it/s]\n",
      "100%|█████████████████████████████████████████████████████████████████████████████████████████████████████████████████████| 94/94 [00:10<00:00,  8.82it/s]\n"
     ]
    },
    {
     "name": "stdout",
     "output_type": "stream",
     "text": [
      "Trainig acc: 0.9894   //   Training loss: 0.0282   //   Test acc: 0.7059   //   Test loss: 1.2574\n",
      "early_stop: 8  /   Best acc: 0.7205882352941176\n",
      "Training task 2 in epoch 29. Batch size: 8.\n"
     ]
    },
    {
     "name": "stderr",
     "output_type": "stream",
     "text": [
      "100%|█████████████████████████████████████████████████████████████████████████████████████████████████████████████████████| 94/94 [00:19<00:00,  4.94it/s]\n",
      "100%|█████████████████████████████████████████████████████████████████████████████████████████████████████████████████████| 94/94 [00:10<00:00,  8.88it/s]\n"
     ]
    },
    {
     "name": "stdout",
     "output_type": "stream",
     "text": [
      "Trainig acc: 0.9907   //   Training loss: 0.0287   //   Test acc: 0.7152   //   Test loss: 1.1993\n",
      "early_stop: 9  /   Best acc: 0.7205882352941176\n",
      "Training task 2 in epoch 30. Batch size: 8.\n"
     ]
    },
    {
     "name": "stderr",
     "output_type": "stream",
     "text": [
      "100%|█████████████████████████████████████████████████████████████████████████████████████████████████████████████████████| 94/94 [00:19<00:00,  4.93it/s]\n",
      "100%|█████████████████████████████████████████████████████████████████████████████████████████████████████████████████████| 94/94 [00:10<00:00,  8.90it/s]\n"
     ]
    },
    {
     "name": "stdout",
     "output_type": "stream",
     "text": [
      "Trainig acc: 0.9867   //   Training loss: 0.0275   //   Test acc: 0.7112   //   Test loss: 1.1839\n",
      "early_stop: 10  /   Best acc: 0.7205882352941176\n",
      "Training task 2 in epoch 31. Batch size: 8.\n"
     ]
    },
    {
     "name": "stderr",
     "output_type": "stream",
     "text": [
      "100%|█████████████████████████████████████████████████████████████████████████████████████████████████████████████████████| 94/94 [00:19<00:00,  4.94it/s]\n",
      "100%|█████████████████████████████████████████████████████████████████████████████████████████████████████████████████████| 94/94 [00:10<00:00,  9.11it/s]\n"
     ]
    },
    {
     "name": "stdout",
     "output_type": "stream",
     "text": [
      "Trainig acc: 0.9907   //   Training loss: 0.0208   //   Test acc: 0.7072   //   Test loss: 1.1865\n",
      "early_stop: 11  /   Best acc: 0.7205882352941176\n",
      "Training task 2 in epoch 32. Batch size: 8.\n"
     ]
    },
    {
     "name": "stderr",
     "output_type": "stream",
     "text": [
      "100%|█████████████████████████████████████████████████████████████████████████████████████████████████████████████████████| 94/94 [00:19<00:00,  4.93it/s]\n",
      "100%|█████████████████████████████████████████████████████████████████████████████████████████████████████████████████████| 94/94 [00:10<00:00,  8.62it/s]\n"
     ]
    },
    {
     "name": "stdout",
     "output_type": "stream",
     "text": [
      "---------------------------------------- TASK_3 ----------------------------------------\n",
      "Training task 3 in epoch 0. Batch size: 8.\n"
     ]
    },
    {
     "name": "stderr",
     "output_type": "stream",
     "text": [
      "100%|█████████████████████████████████████████████████████████████████████████████████████████████████████████████████████| 94/94 [00:19<00:00,  4.91it/s]\n",
      "100%|█████████████████████████████████████████████████████████████████████████████████████████████████████████████████████| 92/92 [00:10<00:00,  9.13it/s]\n"
     ]
    },
    {
     "name": "stdout",
     "output_type": "stream",
     "text": [
      "Trainig acc: 0.04654   //   Training loss: 4.7832   //   Test acc: 0.1565   //   Test loss: 3.4502\n",
      "early_stop: 1  /   Best acc: 0.1564625850340136\n",
      "Training task 3 in epoch 1. Batch size: 8.\n"
     ]
    },
    {
     "name": "stderr",
     "output_type": "stream",
     "text": [
      "100%|█████████████████████████████████████████████████████████████████████████████████████████████████████████████████████| 94/94 [00:18<00:00,  4.95it/s]\n",
      "100%|█████████████████████████████████████████████████████████████████████████████████████████████████████████████████████| 92/92 [00:10<00:00,  9.18it/s]\n"
     ]
    },
    {
     "name": "stdout",
     "output_type": "stream",
     "text": [
      "Trainig acc: 0.1662   //   Training loss: 3.0197   //   Test acc: 0.3537   //   Test loss: 2.4711\n",
      "early_stop: 1  /   Best acc: 0.35374149659863946\n",
      "Training task 3 in epoch 2. Batch size: 8.\n"
     ]
    },
    {
     "name": "stderr",
     "output_type": "stream",
     "text": [
      "100%|█████████████████████████████████████████████████████████████████████████████████████████████████████████████████████| 94/94 [00:19<00:00,  4.94it/s]\n",
      "100%|█████████████████████████████████████████████████████████████████████████████████████████████████████████████████████| 92/92 [00:10<00:00,  8.87it/s]\n"
     ]
    },
    {
     "name": "stdout",
     "output_type": "stream",
     "text": [
      "Trainig acc: 0.3125   //   Training loss: 2.3829   //   Test acc: 0.5156   //   Test loss: 1.9155\n",
      "early_stop: 1  /   Best acc: 0.5156462585034014\n",
      "Training task 3 in epoch 3. Batch size: 8.\n"
     ]
    },
    {
     "name": "stderr",
     "output_type": "stream",
     "text": [
      "100%|█████████████████████████████████████████████████████████████████████████████████████████████████████████████████████| 94/94 [00:19<00:00,  4.92it/s]\n",
      "100%|█████████████████████████████████████████████████████████████████████████████████████████████████████████████████████| 92/92 [00:10<00:00,  9.12it/s]\n"
     ]
    },
    {
     "name": "stdout",
     "output_type": "stream",
     "text": [
      "Trainig acc: 0.4508   //   Training loss: 1.8396   //   Test acc: 0.5633   //   Test loss: 1.6017\n",
      "early_stop: 1  /   Best acc: 0.563265306122449\n",
      "Training task 3 in epoch 4. Batch size: 8.\n"
     ]
    },
    {
     "name": "stderr",
     "output_type": "stream",
     "text": [
      "100%|█████████████████████████████████████████████████████████████████████████████████████████████████████████████████████| 94/94 [00:18<00:00,  5.00it/s]\n",
      "100%|█████████████████████████████████████████████████████████████████████████████████████████████████████████████████████| 92/92 [00:10<00:00,  8.75it/s]\n"
     ]
    },
    {
     "name": "stdout",
     "output_type": "stream",
     "text": [
      "Trainig acc: 0.5824   //   Training loss: 1.4111   //   Test acc: 0.6490   //   Test loss: 1.3331\n",
      "early_stop: 1  /   Best acc: 0.6489795918367347\n",
      "Training task 3 in epoch 5. Batch size: 8.\n"
     ]
    },
    {
     "name": "stderr",
     "output_type": "stream",
     "text": [
      "100%|█████████████████████████████████████████████████████████████████████████████████████████████████████████████████████| 94/94 [00:18<00:00,  5.01it/s]\n",
      "100%|█████████████████████████████████████████████████████████████████████████████████████████████████████████████████████| 92/92 [00:10<00:00,  8.99it/s]\n"
     ]
    },
    {
     "name": "stdout",
     "output_type": "stream",
     "text": [
      "Trainig acc: 0.7008   //   Training loss: 1.0290   //   Test acc: 0.6803   //   Test loss: 1.1665\n",
      "early_stop: 1  /   Best acc: 0.6802721088435374\n",
      "Training task 3 in epoch 6. Batch size: 8.\n"
     ]
    },
    {
     "name": "stderr",
     "output_type": "stream",
     "text": [
      "100%|█████████████████████████████████████████████████████████████████████████████████████████████████████████████████████| 94/94 [00:19<00:00,  4.94it/s]\n",
      "100%|█████████████████████████████████████████████████████████████████████████████████████████████████████████████████████| 92/92 [00:10<00:00,  9.04it/s]\n"
     ]
    },
    {
     "name": "stdout",
     "output_type": "stream",
     "text": [
      "Trainig acc: 0.7872   //   Training loss: 0.7731   //   Test acc: 0.7048   //   Test loss: 1.0290\n",
      "early_stop: 1  /   Best acc: 0.7047619047619048\n",
      "Training task 3 in epoch 7. Batch size: 8.\n"
     ]
    },
    {
     "name": "stderr",
     "output_type": "stream",
     "text": [
      "100%|█████████████████████████████████████████████████████████████████████████████████████████████████████████████████████| 94/94 [00:19<00:00,  4.93it/s]\n",
      "100%|█████████████████████████████████████████████████████████████████████████████████████████████████████████████████████| 92/92 [00:09<00:00,  9.46it/s]\n"
     ]
    },
    {
     "name": "stdout",
     "output_type": "stream",
     "text": [
      "Trainig acc: 0.8165   //   Training loss: 0.6396   //   Test acc: 0.6939   //   Test loss: 1.0216\n",
      "early_stop: 2  /   Best acc: 0.7047619047619048\n",
      "Training task 3 in epoch 8. Batch size: 8.\n"
     ]
    },
    {
     "name": "stderr",
     "output_type": "stream",
     "text": [
      "100%|█████████████████████████████████████████████████████████████████████████████████████████████████████████████████████| 94/94 [00:19<00:00,  4.94it/s]\n",
      "100%|█████████████████████████████████████████████████████████████████████████████████████████████████████████████████████| 92/92 [00:10<00:00,  9.06it/s]\n"
     ]
    },
    {
     "name": "stdout",
     "output_type": "stream",
     "text": [
      "Trainig acc: 0.8471   //   Training loss: 0.5215   //   Test acc: 0.7184   //   Test loss: 0.9585\n",
      "early_stop: 1  /   Best acc: 0.7183673469387755\n",
      "Training task 3 in epoch 9. Batch size: 8.\n"
     ]
    },
    {
     "name": "stderr",
     "output_type": "stream",
     "text": [
      "100%|█████████████████████████████████████████████████████████████████████████████████████████████████████████████████████| 94/94 [00:19<00:00,  4.94it/s]\n",
      "100%|█████████████████████████████████████████████████████████████████████████████████████████████████████████████████████| 92/92 [00:10<00:00,  9.17it/s]\n"
     ]
    },
    {
     "name": "stdout",
     "output_type": "stream",
     "text": [
      "Trainig acc: 0.9096   //   Training loss: 0.3722   //   Test acc: 0.7265   //   Test loss: 0.9585\n",
      "early_stop: 1  /   Best acc: 0.726530612244898\n",
      "Training task 3 in epoch 10. Batch size: 8.\n"
     ]
    },
    {
     "name": "stderr",
     "output_type": "stream",
     "text": [
      "100%|█████████████████████████████████████████████████████████████████████████████████████████████████████████████████████| 94/94 [00:18<00:00,  4.97it/s]\n",
      "100%|█████████████████████████████████████████████████████████████████████████████████████████████████████████████████████| 92/92 [00:10<00:00,  8.77it/s]\n"
     ]
    },
    {
     "name": "stdout",
     "output_type": "stream",
     "text": [
      "Trainig acc: 0.9202   //   Training loss: 0.3025   //   Test acc: 0.7469   //   Test loss: 0.8655\n",
      "early_stop: 1  /   Best acc: 0.746938775510204\n",
      "Training task 3 in epoch 11. Batch size: 8.\n"
     ]
    },
    {
     "name": "stderr",
     "output_type": "stream",
     "text": [
      "100%|█████████████████████████████████████████████████████████████████████████████████████████████████████████████████████| 94/94 [00:18<00:00,  4.95it/s]\n",
      "100%|█████████████████████████████████████████████████████████████████████████████████████████████████████████████████████| 92/92 [00:10<00:00,  8.67it/s]\n"
     ]
    },
    {
     "name": "stdout",
     "output_type": "stream",
     "text": [
      "Trainig acc: 0.9375   //   Training loss: 0.2550   //   Test acc: 0.7605   //   Test loss: 0.8776\n",
      "early_stop: 1  /   Best acc: 0.7605442176870748\n",
      "Training task 3 in epoch 12. Batch size: 8.\n"
     ]
    },
    {
     "name": "stderr",
     "output_type": "stream",
     "text": [
      "100%|█████████████████████████████████████████████████████████████████████████████████████████████████████████████████████| 94/94 [00:19<00:00,  4.93it/s]\n",
      "100%|█████████████████████████████████████████████████████████████████████████████████████████████████████████████████████| 92/92 [00:10<00:00,  9.10it/s]\n"
     ]
    },
    {
     "name": "stdout",
     "output_type": "stream",
     "text": [
      "Trainig acc: 0.9402   //   Training loss: 0.2177   //   Test acc: 0.7469   //   Test loss: 0.8610\n",
      "early_stop: 2  /   Best acc: 0.7605442176870748\n",
      "Training task 3 in epoch 13. Batch size: 8.\n"
     ]
    },
    {
     "name": "stderr",
     "output_type": "stream",
     "text": [
      "100%|█████████████████████████████████████████████████████████████████████████████████████████████████████████████████████| 94/94 [00:18<00:00,  4.96it/s]\n",
      "100%|█████████████████████████████████████████████████████████████████████████████████████████████████████████████████████| 92/92 [00:10<00:00,  8.73it/s]\n"
     ]
    },
    {
     "name": "stdout",
     "output_type": "stream",
     "text": [
      "Trainig acc: 0.9601   //   Training loss: 0.1565   //   Test acc: 0.7415   //   Test loss: 0.8754\n",
      "early_stop: 3  /   Best acc: 0.7605442176870748\n",
      "Training task 3 in epoch 14. Batch size: 8.\n"
     ]
    },
    {
     "name": "stderr",
     "output_type": "stream",
     "text": [
      "100%|█████████████████████████████████████████████████████████████████████████████████████████████████████████████████████| 94/94 [00:18<00:00,  4.96it/s]\n",
      "100%|█████████████████████████████████████████████████████████████████████████████████████████████████████████████████████| 92/92 [00:10<00:00,  8.89it/s]\n"
     ]
    },
    {
     "name": "stdout",
     "output_type": "stream",
     "text": [
      "Trainig acc: 0.9601   //   Training loss: 0.1532   //   Test acc: 0.7551   //   Test loss: 0.8654\n",
      "early_stop: 4  /   Best acc: 0.7605442176870748\n",
      "Training task 3 in epoch 15. Batch size: 8.\n"
     ]
    },
    {
     "name": "stderr",
     "output_type": "stream",
     "text": [
      "100%|█████████████████████████████████████████████████████████████████████████████████████████████████████████████████████| 94/94 [00:19<00:00,  4.92it/s]\n",
      "100%|█████████████████████████████████████████████████████████████████████████████████████████████████████████████████████| 92/92 [00:10<00:00,  8.94it/s]\n"
     ]
    },
    {
     "name": "stdout",
     "output_type": "stream",
     "text": [
      "Trainig acc: 0.9747   //   Training loss: 0.1041   //   Test acc: 0.7510   //   Test loss: 0.8443\n",
      "early_stop: 5  /   Best acc: 0.7605442176870748\n",
      "Training task 3 in epoch 16. Batch size: 8.\n"
     ]
    },
    {
     "name": "stderr",
     "output_type": "stream",
     "text": [
      "100%|█████████████████████████████████████████████████████████████████████████████████████████████████████████████████████| 94/94 [00:19<00:00,  4.95it/s]\n",
      "100%|█████████████████████████████████████████████████████████████████████████████████████████████████████████████████████| 92/92 [00:10<00:00,  8.85it/s]\n"
     ]
    },
    {
     "name": "stdout",
     "output_type": "stream",
     "text": [
      "Trainig acc: 0.984   //   Training loss: 0.0792   //   Test acc: 0.7701   //   Test loss: 0.8262\n",
      "early_stop: 1  /   Best acc: 0.7700680272108843\n",
      "Training task 3 in epoch 17. Batch size: 8.\n"
     ]
    },
    {
     "name": "stderr",
     "output_type": "stream",
     "text": [
      "100%|█████████████████████████████████████████████████████████████████████████████████████████████████████████████████████| 94/94 [00:18<00:00,  4.97it/s]\n",
      "100%|█████████████████████████████████████████████████████████████████████████████████████████████████████████████████████| 92/92 [00:10<00:00,  9.05it/s]\n"
     ]
    },
    {
     "name": "stdout",
     "output_type": "stream",
     "text": [
      "Trainig acc: 0.9787   //   Training loss: 0.0862   //   Test acc: 0.7755   //   Test loss: 0.8410\n",
      "early_stop: 1  /   Best acc: 0.7755102040816326\n",
      "Training task 3 in epoch 18. Batch size: 8.\n"
     ]
    },
    {
     "name": "stderr",
     "output_type": "stream",
     "text": [
      "100%|█████████████████████████████████████████████████████████████████████████████████████████████████████████████████████| 94/94 [00:18<00:00,  4.96it/s]\n",
      "100%|█████████████████████████████████████████████████████████████████████████████████████████████████████████████████████| 92/92 [00:10<00:00,  8.37it/s]\n"
     ]
    },
    {
     "name": "stdout",
     "output_type": "stream",
     "text": [
      "Trainig acc: 0.9747   //   Training loss: 0.0750   //   Test acc: 0.7701   //   Test loss: 0.8571\n",
      "early_stop: 2  /   Best acc: 0.7755102040816326\n",
      "Training task 3 in epoch 19. Batch size: 8.\n"
     ]
    },
    {
     "name": "stderr",
     "output_type": "stream",
     "text": [
      "100%|█████████████████████████████████████████████████████████████████████████████████████████████████████████████████████| 94/94 [00:19<00:00,  4.92it/s]\n",
      "100%|█████████████████████████████████████████████████████████████████████████████████████████████████████████████████████| 92/92 [00:10<00:00,  9.11it/s]\n"
     ]
    },
    {
     "name": "stdout",
     "output_type": "stream",
     "text": [
      "Trainig acc: 0.9801   //   Training loss: 0.0691   //   Test acc: 0.7592   //   Test loss: 0.8724\n",
      "early_stop: 3  /   Best acc: 0.7755102040816326\n",
      "Training task 3 in epoch 20. Batch size: 8.\n"
     ]
    },
    {
     "name": "stderr",
     "output_type": "stream",
     "text": [
      "100%|█████████████████████████████████████████████████████████████████████████████████████████████████████████████████████| 94/94 [00:19<00:00,  4.94it/s]\n",
      "100%|█████████████████████████████████████████████████████████████████████████████████████████████████████████████████████| 92/92 [00:10<00:00,  8.74it/s]\n"
     ]
    },
    {
     "name": "stdout",
     "output_type": "stream",
     "text": [
      "Trainig acc: 0.9854   //   Training loss: 0.0584   //   Test acc: 0.7687   //   Test loss: 0.8793\n",
      "early_stop: 4  /   Best acc: 0.7755102040816326\n",
      "Training task 3 in epoch 21. Batch size: 8.\n"
     ]
    },
    {
     "name": "stderr",
     "output_type": "stream",
     "text": [
      "100%|█████████████████████████████████████████████████████████████████████████████████████████████████████████████████████| 94/94 [00:19<00:00,  4.93it/s]\n",
      "100%|█████████████████████████████████████████████████████████████████████████████████████████████████████████████████████| 92/92 [00:10<00:00,  8.92it/s]\n"
     ]
    },
    {
     "name": "stdout",
     "output_type": "stream",
     "text": [
      "Trainig acc: 0.988   //   Training loss: 0.0461   //   Test acc: 0.7633   //   Test loss: 0.8871\n",
      "early_stop: 5  /   Best acc: 0.7755102040816326\n",
      "Training task 3 in epoch 22. Batch size: 8.\n"
     ]
    },
    {
     "name": "stderr",
     "output_type": "stream",
     "text": [
      "100%|█████████████████████████████████████████████████████████████████████████████████████████████████████████████████████| 94/94 [00:19<00:00,  4.93it/s]\n",
      "100%|█████████████████████████████████████████████████████████████████████████████████████████████████████████████████████| 92/92 [00:10<00:00,  8.91it/s]\n"
     ]
    },
    {
     "name": "stdout",
     "output_type": "stream",
     "text": [
      "Trainig acc: 0.9867   //   Training loss: 0.0480   //   Test acc: 0.7551   //   Test loss: 0.8739\n",
      "early_stop: 6  /   Best acc: 0.7755102040816326\n",
      "Training task 3 in epoch 23. Batch size: 8.\n"
     ]
    },
    {
     "name": "stderr",
     "output_type": "stream",
     "text": [
      "100%|█████████████████████████████████████████████████████████████████████████████████████████████████████████████████████| 94/94 [00:19<00:00,  4.92it/s]\n",
      "100%|█████████████████████████████████████████████████████████████████████████████████████████████████████████████████████| 92/92 [00:10<00:00,  8.69it/s]\n"
     ]
    },
    {
     "name": "stdout",
     "output_type": "stream",
     "text": [
      "Trainig acc: 0.9947   //   Training loss: 0.0298   //   Test acc: 0.7701   //   Test loss: 0.8174\n",
      "early_stop: 7  /   Best acc: 0.7755102040816326\n",
      "Training task 3 in epoch 24. Batch size: 8.\n"
     ]
    },
    {
     "name": "stderr",
     "output_type": "stream",
     "text": [
      "100%|█████████████████████████████████████████████████████████████████████████████████████████████████████████████████████| 94/94 [00:19<00:00,  4.93it/s]\n",
      "100%|█████████████████████████████████████████████████████████████████████████████████████████████████████████████████████| 92/92 [00:10<00:00,  9.10it/s]\n"
     ]
    },
    {
     "name": "stdout",
     "output_type": "stream",
     "text": [
      "Trainig acc: 0.9934   //   Training loss: 0.0289   //   Test acc: 0.7687   //   Test loss: 0.8648\n",
      "early_stop: 8  /   Best acc: 0.7755102040816326\n",
      "Training task 3 in epoch 25. Batch size: 8.\n"
     ]
    },
    {
     "name": "stderr",
     "output_type": "stream",
     "text": [
      "100%|█████████████████████████████████████████████████████████████████████████████████████████████████████████████████████| 94/94 [00:18<00:00,  4.95it/s]\n",
      "100%|█████████████████████████████████████████████████████████████████████████████████████████████████████████████████████| 92/92 [00:10<00:00,  9.05it/s]\n"
     ]
    },
    {
     "name": "stdout",
     "output_type": "stream",
     "text": [
      "Trainig acc: 0.9867   //   Training loss: 0.0473   //   Test acc: 0.7551   //   Test loss: 0.8777\n",
      "early_stop: 9  /   Best acc: 0.7755102040816326\n",
      "Training task 3 in epoch 26. Batch size: 8.\n"
     ]
    },
    {
     "name": "stderr",
     "output_type": "stream",
     "text": [
      "100%|█████████████████████████████████████████████████████████████████████████████████████████████████████████████████████| 94/94 [00:18<00:00,  4.97it/s]\n",
      "100%|█████████████████████████████████████████████████████████████████████████████████████████████████████████████████████| 92/92 [00:10<00:00,  8.85it/s]\n"
     ]
    },
    {
     "name": "stdout",
     "output_type": "stream",
     "text": [
      "Trainig acc: 0.988   //   Training loss: 0.0377   //   Test acc: 0.7701   //   Test loss: 0.8594\n",
      "early_stop: 10  /   Best acc: 0.7755102040816326\n",
      "Training task 3 in epoch 27. Batch size: 8.\n"
     ]
    },
    {
     "name": "stderr",
     "output_type": "stream",
     "text": [
      "100%|█████████████████████████████████████████████████████████████████████████████████████████████████████████████████████| 94/94 [00:19<00:00,  4.94it/s]\n",
      "100%|█████████████████████████████████████████████████████████████████████████████████████████████████████████████████████| 92/92 [00:10<00:00,  9.05it/s]\n"
     ]
    },
    {
     "name": "stdout",
     "output_type": "stream",
     "text": [
      "Trainig acc: 0.992   //   Training loss: 0.0326   //   Test acc: 0.7810   //   Test loss: 0.8502\n",
      "early_stop: 1  /   Best acc: 0.780952380952381\n",
      "Training task 3 in epoch 28. Batch size: 8.\n"
     ]
    },
    {
     "name": "stderr",
     "output_type": "stream",
     "text": [
      "100%|█████████████████████████████████████████████████████████████████████████████████████████████████████████████████████| 94/94 [00:19<00:00,  4.94it/s]\n",
      "100%|█████████████████████████████████████████████████████████████████████████████████████████████████████████████████████| 92/92 [00:10<00:00,  8.86it/s]\n"
     ]
    },
    {
     "name": "stdout",
     "output_type": "stream",
     "text": [
      "Trainig acc: 0.992   //   Training loss: 0.0310   //   Test acc: 0.7755   //   Test loss: 0.8347\n",
      "early_stop: 2  /   Best acc: 0.780952380952381\n",
      "Training task 3 in epoch 29. Batch size: 8.\n"
     ]
    },
    {
     "name": "stderr",
     "output_type": "stream",
     "text": [
      "100%|█████████████████████████████████████████████████████████████████████████████████████████████████████████████████████| 94/94 [00:19<00:00,  4.94it/s]\n",
      "100%|█████████████████████████████████████████████████████████████████████████████████████████████████████████████████████| 92/92 [00:10<00:00,  9.15it/s]\n"
     ]
    },
    {
     "name": "stdout",
     "output_type": "stream",
     "text": [
      "Trainig acc: 0.9934   //   Training loss: 0.0365   //   Test acc: 0.7741   //   Test loss: 0.8430\n",
      "early_stop: 3  /   Best acc: 0.780952380952381\n",
      "Training task 3 in epoch 30. Batch size: 8.\n"
     ]
    },
    {
     "name": "stderr",
     "output_type": "stream",
     "text": [
      "100%|█████████████████████████████████████████████████████████████████████████████████████████████████████████████████████| 94/94 [00:19<00:00,  4.94it/s]\n",
      "100%|█████████████████████████████████████████████████████████████████████████████████████████████████████████████████████| 92/92 [00:10<00:00,  9.12it/s]\n"
     ]
    },
    {
     "name": "stdout",
     "output_type": "stream",
     "text": [
      "Trainig acc: 0.9867   //   Training loss: 0.0379   //   Test acc: 0.7755   //   Test loss: 0.8501\n",
      "early_stop: 4  /   Best acc: 0.780952380952381\n",
      "Training task 3 in epoch 31. Batch size: 8.\n"
     ]
    },
    {
     "name": "stderr",
     "output_type": "stream",
     "text": [
      "100%|█████████████████████████████████████████████████████████████████████████████████████████████████████████████████████| 94/94 [00:19<00:00,  4.92it/s]\n",
      "100%|█████████████████████████████████████████████████████████████████████████████████████████████████████████████████████| 92/92 [00:10<00:00,  8.83it/s]\n"
     ]
    },
    {
     "name": "stdout",
     "output_type": "stream",
     "text": [
      "Trainig acc: 0.9934   //   Training loss: 0.0301   //   Test acc: 0.7769   //   Test loss: 0.8584\n",
      "early_stop: 5  /   Best acc: 0.780952380952381\n",
      "Training task 3 in epoch 32. Batch size: 8.\n"
     ]
    },
    {
     "name": "stderr",
     "output_type": "stream",
     "text": [
      "100%|█████████████████████████████████████████████████████████████████████████████████████████████████████████████████████| 94/94 [00:19<00:00,  4.92it/s]\n",
      "100%|█████████████████████████████████████████████████████████████████████████████████████████████████████████████████████| 92/92 [00:10<00:00,  8.77it/s]\n"
     ]
    },
    {
     "name": "stdout",
     "output_type": "stream",
     "text": [
      "Trainig acc: 0.9894   //   Training loss: 0.0341   //   Test acc: 0.7755   //   Test loss: 0.8748\n",
      "early_stop: 6  /   Best acc: 0.780952380952381\n",
      "Training task 3 in epoch 33. Batch size: 8.\n"
     ]
    },
    {
     "name": "stderr",
     "output_type": "stream",
     "text": [
      "100%|█████████████████████████████████████████████████████████████████████████████████████████████████████████████████████| 94/94 [00:19<00:00,  4.91it/s]\n",
      "100%|█████████████████████████████████████████████████████████████████████████████████████████████████████████████████████| 92/92 [00:10<00:00,  9.03it/s]\n"
     ]
    },
    {
     "name": "stdout",
     "output_type": "stream",
     "text": [
      "Trainig acc: 0.992   //   Training loss: 0.0287   //   Test acc: 0.7741   //   Test loss: 0.8161\n",
      "early_stop: 7  /   Best acc: 0.780952380952381\n",
      "Training task 3 in epoch 34. Batch size: 8.\n"
     ]
    },
    {
     "name": "stderr",
     "output_type": "stream",
     "text": [
      "100%|█████████████████████████████████████████████████████████████████████████████████████████████████████████████████████| 94/94 [00:19<00:00,  4.94it/s]\n",
      "100%|█████████████████████████████████████████████████████████████████████████████████████████████████████████████████████| 92/92 [00:10<00:00,  8.84it/s]\n"
     ]
    },
    {
     "name": "stdout",
     "output_type": "stream",
     "text": [
      "Trainig acc: 0.9907   //   Training loss: 0.0328   //   Test acc: 0.7741   //   Test loss: 0.8561\n",
      "early_stop: 8  /   Best acc: 0.780952380952381\n",
      "Training task 3 in epoch 35. Batch size: 8.\n"
     ]
    },
    {
     "name": "stderr",
     "output_type": "stream",
     "text": [
      "100%|█████████████████████████████████████████████████████████████████████████████████████████████████████████████████████| 94/94 [00:18<00:00,  4.95it/s]\n",
      "100%|█████████████████████████████████████████████████████████████████████████████████████████████████████████████████████| 92/92 [00:10<00:00,  8.55it/s]\n"
     ]
    },
    {
     "name": "stdout",
     "output_type": "stream",
     "text": [
      "Trainig acc: 0.992   //   Training loss: 0.0254   //   Test acc: 0.7619   //   Test loss: 0.8534\n",
      "early_stop: 9  /   Best acc: 0.780952380952381\n",
      "Training task 3 in epoch 36. Batch size: 8.\n"
     ]
    },
    {
     "name": "stderr",
     "output_type": "stream",
     "text": [
      "100%|█████████████████████████████████████████████████████████████████████████████████████████████████████████████████████| 94/94 [00:19<00:00,  4.92it/s]\n",
      "100%|█████████████████████████████████████████████████████████████████████████████████████████████████████████████████████| 92/92 [00:10<00:00,  8.76it/s]\n"
     ]
    },
    {
     "name": "stdout",
     "output_type": "stream",
     "text": [
      "Trainig acc: 0.9894   //   Training loss: 0.0420   //   Test acc: 0.7714   //   Test loss: 0.8503\n",
      "early_stop: 10  /   Best acc: 0.780952380952381\n",
      "Training task 3 in epoch 37. Batch size: 8.\n"
     ]
    },
    {
     "name": "stderr",
     "output_type": "stream",
     "text": [
      "100%|█████████████████████████████████████████████████████████████████████████████████████████████████████████████████████| 94/94 [00:19<00:00,  4.93it/s]\n",
      "100%|█████████████████████████████████████████████████████████████████████████████████████████████████████████████████████| 92/92 [00:10<00:00,  8.86it/s]\n"
     ]
    },
    {
     "name": "stdout",
     "output_type": "stream",
     "text": [
      "Trainig acc: 0.992   //   Training loss: 0.0388   //   Test acc: 0.7810   //   Test loss: 0.8371\n",
      "early_stop: 11  /   Best acc: 0.780952380952381\n",
      "Training task 3 in epoch 38. Batch size: 8.\n"
     ]
    },
    {
     "name": "stderr",
     "output_type": "stream",
     "text": [
      "100%|█████████████████████████████████████████████████████████████████████████████████████████████████████████████████████| 94/94 [00:18<00:00,  4.95it/s]\n",
      "100%|█████████████████████████████████████████████████████████████████████████████████████████████████████████████████████| 92/92 [00:10<00:00,  8.91it/s]\n"
     ]
    },
    {
     "name": "stdout",
     "output_type": "stream",
     "text": [
      "---------------------------------------- TASK_4 ----------------------------------------\n",
      "Training task 4 in epoch 0. Batch size: 8.\n"
     ]
    },
    {
     "name": "stderr",
     "output_type": "stream",
     "text": [
      "100%|█████████████████████████████████████████████████████████████████████████████████████████████████████████████████████| 94/94 [00:19<00:00,  4.92it/s]\n",
      "100%|█████████████████████████████████████████████████████████████████████████████████████████████████████████████████████| 92/92 [00:10<00:00,  8.75it/s]\n"
     ]
    },
    {
     "name": "stdout",
     "output_type": "stream",
     "text": [
      "Trainig acc: 0.05718   //   Training loss: 4.6996   //   Test acc: 0.3001   //   Test loss: 3.0661\n",
      "early_stop: 1  /   Best acc: 0.30013642564802184\n",
      "Training task 4 in epoch 1. Batch size: 8.\n"
     ]
    },
    {
     "name": "stderr",
     "output_type": "stream",
     "text": [
      "100%|█████████████████████████████████████████████████████████████████████████████████████████████████████████████████████| 94/94 [00:19<00:00,  4.91it/s]\n",
      "100%|█████████████████████████████████████████████████████████████████████████████████████████████████████████████████████| 92/92 [00:10<00:00,  8.71it/s]\n"
     ]
    },
    {
     "name": "stdout",
     "output_type": "stream",
     "text": [
      "Trainig acc: 0.2753   //   Training loss: 2.6106   //   Test acc: 0.5184   //   Test loss: 1.8297\n",
      "early_stop: 1  /   Best acc: 0.5184174624829468\n",
      "Training task 4 in epoch 2. Batch size: 8.\n"
     ]
    },
    {
     "name": "stderr",
     "output_type": "stream",
     "text": [
      "100%|█████████████████████████████████████████████████████████████████████████████████████████████████████████████████████| 94/94 [00:18<00:00,  4.98it/s]\n",
      "100%|█████████████████████████████████████████████████████████████████████████████████████████████████████████████████████| 92/92 [00:10<00:00,  8.97it/s]\n"
     ]
    },
    {
     "name": "stdout",
     "output_type": "stream",
     "text": [
      "Trainig acc: 0.4774   //   Training loss: 1.7592   //   Test acc: 0.6630   //   Test loss: 1.2676\n",
      "early_stop: 1  /   Best acc: 0.6630286493860846\n",
      "Training task 4 in epoch 3. Batch size: 8.\n"
     ]
    },
    {
     "name": "stderr",
     "output_type": "stream",
     "text": [
      "100%|█████████████████████████████████████████████████████████████████████████████████████████████████████████████████████| 94/94 [00:18<00:00,  4.97it/s]\n",
      "100%|█████████████████████████████████████████████████████████████████████████████████████████████████████████████████████| 92/92 [00:10<00:00,  8.98it/s]\n"
     ]
    },
    {
     "name": "stdout",
     "output_type": "stream",
     "text": [
      "Trainig acc: 0.6476   //   Training loss: 1.1839   //   Test acc: 0.7012   //   Test loss: 0.9844\n",
      "early_stop: 1  /   Best acc: 0.7012278308321964\n",
      "Training task 4 in epoch 4. Batch size: 8.\n"
     ]
    },
    {
     "name": "stderr",
     "output_type": "stream",
     "text": [
      "100%|█████████████████████████████████████████████████████████████████████████████████████████████████████████████████████| 94/94 [00:18<00:00,  5.00it/s]\n",
      "100%|█████████████████████████████████████████████████████████████████████████████████████████████████████████████████████| 92/92 [00:09<00:00,  9.24it/s]\n"
     ]
    },
    {
     "name": "stdout",
     "output_type": "stream",
     "text": [
      "Trainig acc: 0.7301   //   Training loss: 0.9315   //   Test acc: 0.7299   //   Test loss: 0.8524\n",
      "early_stop: 1  /   Best acc: 0.7298772169167803\n",
      "Training task 4 in epoch 5. Batch size: 8.\n"
     ]
    },
    {
     "name": "stderr",
     "output_type": "stream",
     "text": [
      "100%|█████████████████████████████████████████████████████████████████████████████████████████████████████████████████████| 94/94 [00:19<00:00,  4.94it/s]\n",
      "100%|█████████████████████████████████████████████████████████████████████████████████████████████████████████████████████| 92/92 [00:10<00:00,  8.74it/s]\n"
     ]
    },
    {
     "name": "stdout",
     "output_type": "stream",
     "text": [
      "Trainig acc: 0.8005   //   Training loss: 0.7086   //   Test acc: 0.7790   //   Test loss: 0.7366\n",
      "early_stop: 1  /   Best acc: 0.7789904502046384\n",
      "Training task 4 in epoch 6. Batch size: 8.\n"
     ]
    },
    {
     "name": "stderr",
     "output_type": "stream",
     "text": [
      "100%|█████████████████████████████████████████████████████████████████████████████████████████████████████████████████████| 94/94 [00:18<00:00,  5.00it/s]\n",
      "100%|█████████████████████████████████████████████████████████████████████████████████████████████████████████████████████| 92/92 [00:10<00:00,  8.95it/s]\n"
     ]
    },
    {
     "name": "stdout",
     "output_type": "stream",
     "text": [
      "Trainig acc: 0.8378   //   Training loss: 0.5151   //   Test acc: 0.7831   //   Test loss: 0.7152\n",
      "early_stop: 1  /   Best acc: 0.7830832196452933\n",
      "Training task 4 in epoch 7. Batch size: 8.\n"
     ]
    },
    {
     "name": "stderr",
     "output_type": "stream",
     "text": [
      "100%|█████████████████████████████████████████████████████████████████████████████████████████████████████████████████████| 94/94 [00:18<00:00,  5.00it/s]\n",
      "100%|█████████████████████████████████████████████████████████████████████████████████████████████████████████████████████| 92/92 [00:10<00:00,  9.14it/s]\n"
     ]
    },
    {
     "name": "stdout",
     "output_type": "stream",
     "text": [
      "Trainig acc: 0.8843   //   Training loss: 0.4175   //   Test acc: 0.7831   //   Test loss: 0.6674\n",
      "early_stop: 2  /   Best acc: 0.7830832196452933\n",
      "Training task 4 in epoch 8. Batch size: 8.\n"
     ]
    },
    {
     "name": "stderr",
     "output_type": "stream",
     "text": [
      "100%|█████████████████████████████████████████████████████████████████████████████████████████████████████████████████████| 94/94 [00:19<00:00,  4.95it/s]\n",
      "100%|█████████████████████████████████████████████████████████████████████████████████████████████████████████████████████| 92/92 [00:10<00:00,  8.77it/s]\n"
     ]
    },
    {
     "name": "stdout",
     "output_type": "stream",
     "text": [
      "Trainig acc: 0.9189   //   Training loss: 0.2852   //   Test acc: 0.8008   //   Test loss: 0.6428\n",
      "early_stop: 1  /   Best acc: 0.800818553888131\n",
      "Training task 4 in epoch 9. Batch size: 8.\n"
     ]
    },
    {
     "name": "stderr",
     "output_type": "stream",
     "text": [
      "100%|█████████████████████████████████████████████████████████████████████████████████████████████████████████████████████| 94/94 [00:19<00:00,  4.93it/s]\n",
      "100%|█████████████████████████████████████████████████████████████████████████████████████████████████████████████████████| 92/92 [00:10<00:00,  8.62it/s]\n"
     ]
    },
    {
     "name": "stdout",
     "output_type": "stream",
     "text": [
      "Trainig acc: 0.9282   //   Training loss: 0.2527   //   Test acc: 0.7926   //   Test loss: 0.6357\n",
      "early_stop: 2  /   Best acc: 0.800818553888131\n",
      "Training task 4 in epoch 10. Batch size: 8.\n"
     ]
    },
    {
     "name": "stderr",
     "output_type": "stream",
     "text": [
      "100%|█████████████████████████████████████████████████████████████████████████████████████████████████████████████████████| 94/94 [00:19<00:00,  4.90it/s]\n",
      "100%|█████████████████████████████████████████████████████████████████████████████████████████████████████████████████████| 92/92 [00:10<00:00,  8.73it/s]\n"
     ]
    },
    {
     "name": "stdout",
     "output_type": "stream",
     "text": [
      "Trainig acc: 0.9495   //   Training loss: 0.1749   //   Test acc: 0.7981   //   Test loss: 0.6600\n",
      "early_stop: 3  /   Best acc: 0.800818553888131\n",
      "Training task 4 in epoch 11. Batch size: 8.\n"
     ]
    },
    {
     "name": "stderr",
     "output_type": "stream",
     "text": [
      "100%|█████████████████████████████████████████████████████████████████████████████████████████████████████████████████████| 94/94 [00:19<00:00,  4.91it/s]\n",
      "100%|█████████████████████████████████████████████████████████████████████████████████████████████████████████████████████| 92/92 [00:10<00:00,  8.57it/s]\n"
     ]
    },
    {
     "name": "stdout",
     "output_type": "stream",
     "text": [
      "Trainig acc: 0.9614   //   Training loss: 0.1587   //   Test acc: 0.8172   //   Test loss: 0.6339\n",
      "early_stop: 1  /   Best acc: 0.8171896316507503\n",
      "Training task 4 in epoch 12. Batch size: 8.\n"
     ]
    },
    {
     "name": "stderr",
     "output_type": "stream",
     "text": [
      "100%|█████████████████████████████████████████████████████████████████████████████████████████████████████████████████████| 94/94 [00:19<00:00,  4.93it/s]\n",
      "100%|█████████████████████████████████████████████████████████████████████████████████████████████████████████████████████| 92/92 [00:10<00:00,  9.15it/s]\n"
     ]
    },
    {
     "name": "stdout",
     "output_type": "stream",
     "text": [
      "Trainig acc: 0.9681   //   Training loss: 0.1360   //   Test acc: 0.8063   //   Test loss: 0.6578\n",
      "early_stop: 2  /   Best acc: 0.8171896316507503\n",
      "Training task 4 in epoch 13. Batch size: 8.\n"
     ]
    },
    {
     "name": "stderr",
     "output_type": "stream",
     "text": [
      "100%|█████████████████████████████████████████████████████████████████████████████████████████████████████████████████████| 94/94 [00:19<00:00,  4.91it/s]\n",
      "100%|█████████████████████████████████████████████████████████████████████████████████████████████████████████████████████| 92/92 [00:10<00:00,  9.10it/s]\n"
     ]
    },
    {
     "name": "stdout",
     "output_type": "stream",
     "text": [
      "Trainig acc: 0.9574   //   Training loss: 0.1168   //   Test acc: 0.8226   //   Test loss: 0.6219\n",
      "early_stop: 1  /   Best acc: 0.8226466575716235\n",
      "Training task 4 in epoch 14. Batch size: 8.\n"
     ]
    },
    {
     "name": "stderr",
     "output_type": "stream",
     "text": [
      "100%|█████████████████████████████████████████████████████████████████████████████████████████████████████████████████████| 94/94 [00:18<00:00,  4.97it/s]\n",
      "100%|█████████████████████████████████████████████████████████████████████████████████████████████████████████████████████| 92/92 [00:09<00:00,  9.30it/s]\n"
     ]
    },
    {
     "name": "stdout",
     "output_type": "stream",
     "text": [
      "Trainig acc: 0.9734   //   Training loss: 0.0814   //   Test acc: 0.8213   //   Test loss: 0.6217\n",
      "early_stop: 2  /   Best acc: 0.8226466575716235\n",
      "Training task 4 in epoch 15. Batch size: 8.\n"
     ]
    },
    {
     "name": "stderr",
     "output_type": "stream",
     "text": [
      "100%|█████████████████████████████████████████████████████████████████████████████████████████████████████████████████████| 94/94 [00:18<00:00,  4.95it/s]\n",
      "100%|█████████████████████████████████████████████████████████████████████████████████████████████████████████████████████| 92/92 [00:10<00:00,  8.91it/s]\n"
     ]
    },
    {
     "name": "stdout",
     "output_type": "stream",
     "text": [
      "Trainig acc: 0.9787   //   Training loss: 0.0740   //   Test acc: 0.8186   //   Test loss: 0.5999\n",
      "early_stop: 3  /   Best acc: 0.8226466575716235\n",
      "Training task 4 in epoch 16. Batch size: 8.\n"
     ]
    },
    {
     "name": "stderr",
     "output_type": "stream",
     "text": [
      "100%|█████████████████████████████████████████████████████████████████████████████████████████████████████████████████████| 94/94 [00:19<00:00,  4.92it/s]\n",
      "100%|█████████████████████████████████████████████████████████████████████████████████████████████████████████████████████| 92/92 [00:10<00:00,  8.44it/s]\n"
     ]
    },
    {
     "name": "stdout",
     "output_type": "stream",
     "text": [
      "Trainig acc: 0.9787   //   Training loss: 0.0721   //   Test acc: 0.8267   //   Test loss: 0.5963\n",
      "early_stop: 1  /   Best acc: 0.8267394270122783\n",
      "Training task 4 in epoch 17. Batch size: 8.\n"
     ]
    },
    {
     "name": "stderr",
     "output_type": "stream",
     "text": [
      "100%|█████████████████████████████████████████████████████████████████████████████████████████████████████████████████████| 94/94 [00:19<00:00,  4.92it/s]\n",
      "100%|█████████████████████████████████████████████████████████████████████████████████████████████████████████████████████| 92/92 [00:10<00:00,  8.89it/s]\n"
     ]
    },
    {
     "name": "stdout",
     "output_type": "stream",
     "text": [
      "Trainig acc: 0.9827   //   Training loss: 0.0545   //   Test acc: 0.8472   //   Test loss: 0.5568\n",
      "early_stop: 1  /   Best acc: 0.8472032742155525\n",
      "Training task 4 in epoch 18. Batch size: 8.\n"
     ]
    },
    {
     "name": "stderr",
     "output_type": "stream",
     "text": [
      "100%|█████████████████████████████████████████████████████████████████████████████████████████████████████████████████████| 94/94 [00:18<00:00,  4.95it/s]\n",
      "100%|█████████████████████████████████████████████████████████████████████████████████████████████████████████████████████| 92/92 [00:10<00:00,  9.07it/s]\n"
     ]
    },
    {
     "name": "stdout",
     "output_type": "stream",
     "text": [
      "Trainig acc: 0.9854   //   Training loss: 0.0516   //   Test acc: 0.8472   //   Test loss: 0.5688\n",
      "early_stop: 2  /   Best acc: 0.8472032742155525\n",
      "Training task 4 in epoch 19. Batch size: 8.\n"
     ]
    },
    {
     "name": "stderr",
     "output_type": "stream",
     "text": [
      "100%|█████████████████████████████████████████████████████████████████████████████████████████████████████████████████████| 94/94 [00:18<00:00,  4.97it/s]\n",
      "100%|█████████████████████████████████████████████████████████████████████████████████████████████████████████████████████| 92/92 [00:10<00:00,  9.04it/s]\n"
     ]
    },
    {
     "name": "stdout",
     "output_type": "stream",
     "text": [
      "Trainig acc: 0.9827   //   Training loss: 0.0472   //   Test acc: 0.8213   //   Test loss: 0.6340\n",
      "early_stop: 3  /   Best acc: 0.8472032742155525\n",
      "Training task 4 in epoch 20. Batch size: 8.\n"
     ]
    },
    {
     "name": "stderr",
     "output_type": "stream",
     "text": [
      "100%|█████████████████████████████████████████████████████████████████████████████████████████████████████████████████████| 94/94 [00:19<00:00,  4.91it/s]\n",
      "100%|█████████████████████████████████████████████████████████████████████████████████████████████████████████████████████| 92/92 [00:10<00:00,  8.44it/s]\n"
     ]
    },
    {
     "name": "stdout",
     "output_type": "stream",
     "text": [
      "Trainig acc: 0.9867   //   Training loss: 0.0415   //   Test acc: 0.8336   //   Test loss: 0.6314\n",
      "early_stop: 4  /   Best acc: 0.8472032742155525\n",
      "Training task 4 in epoch 21. Batch size: 8.\n"
     ]
    },
    {
     "name": "stderr",
     "output_type": "stream",
     "text": [
      "100%|█████████████████████████████████████████████████████████████████████████████████████████████████████████████████████| 94/94 [00:19<00:00,  4.93it/s]\n",
      "100%|█████████████████████████████████████████████████████████████████████████████████████████████████████████████████████| 92/92 [00:10<00:00,  8.72it/s]\n"
     ]
    },
    {
     "name": "stdout",
     "output_type": "stream",
     "text": [
      "Trainig acc: 0.9867   //   Training loss: 0.0330   //   Test acc: 0.8254   //   Test loss: 0.6146\n",
      "early_stop: 5  /   Best acc: 0.8472032742155525\n",
      "Training task 4 in epoch 22. Batch size: 8.\n"
     ]
    },
    {
     "name": "stderr",
     "output_type": "stream",
     "text": [
      "100%|█████████████████████████████████████████████████████████████████████████████████████████████████████████████████████| 94/94 [00:18<00:00,  4.95it/s]\n",
      "100%|█████████████████████████████████████████████████████████████████████████████████████████████████████████████████████| 92/92 [00:10<00:00,  9.12it/s]\n"
     ]
    },
    {
     "name": "stdout",
     "output_type": "stream",
     "text": [
      "Trainig acc: 0.9894   //   Training loss: 0.0400   //   Test acc: 0.8254   //   Test loss: 0.6375\n",
      "early_stop: 6  /   Best acc: 0.8472032742155525\n",
      "Training task 4 in epoch 23. Batch size: 8.\n"
     ]
    },
    {
     "name": "stderr",
     "output_type": "stream",
     "text": [
      "100%|█████████████████████████████████████████████████████████████████████████████████████████████████████████████████████| 94/94 [00:19<00:00,  4.91it/s]\n",
      "100%|█████████████████████████████████████████████████████████████████████████████████████████████████████████████████████| 92/92 [00:10<00:00,  8.74it/s]\n"
     ]
    },
    {
     "name": "stdout",
     "output_type": "stream",
     "text": [
      "Trainig acc: 0.9854   //   Training loss: 0.0300   //   Test acc: 0.8281   //   Test loss: 0.6269\n",
      "early_stop: 7  /   Best acc: 0.8472032742155525\n",
      "Training task 4 in epoch 24. Batch size: 8.\n"
     ]
    },
    {
     "name": "stderr",
     "output_type": "stream",
     "text": [
      "100%|█████████████████████████████████████████████████████████████████████████████████████████████████████████████████████| 94/94 [00:19<00:00,  4.94it/s]\n",
      "100%|█████████████████████████████████████████████████████████████████████████████████████████████████████████████████████| 92/92 [00:09<00:00,  9.32it/s]\n"
     ]
    },
    {
     "name": "stdout",
     "output_type": "stream",
     "text": [
      "Trainig acc: 0.9934   //   Training loss: 0.0229   //   Test acc: 0.8213   //   Test loss: 0.6206\n",
      "early_stop: 8  /   Best acc: 0.8472032742155525\n",
      "Training task 4 in epoch 25. Batch size: 8.\n"
     ]
    },
    {
     "name": "stderr",
     "output_type": "stream",
     "text": [
      "100%|█████████████████████████████████████████████████████████████████████████████████████████████████████████████████████| 94/94 [00:19<00:00,  4.91it/s]\n",
      "100%|█████████████████████████████████████████████████████████████████████████████████████████████████████████████████████| 92/92 [00:10<00:00,  8.69it/s]\n"
     ]
    },
    {
     "name": "stdout",
     "output_type": "stream",
     "text": [
      "Trainig acc: 0.9854   //   Training loss: 0.0348   //   Test acc: 0.8267   //   Test loss: 0.6133\n",
      "early_stop: 9  /   Best acc: 0.8472032742155525\n",
      "Training task 4 in epoch 26. Batch size: 8.\n"
     ]
    },
    {
     "name": "stderr",
     "output_type": "stream",
     "text": [
      "100%|█████████████████████████████████████████████████████████████████████████████████████████████████████████████████████| 94/94 [00:18<00:00,  4.95it/s]\n",
      "100%|█████████████████████████████████████████████████████████████████████████████████████████████████████████████████████| 92/92 [00:10<00:00,  8.92it/s]\n"
     ]
    },
    {
     "name": "stdout",
     "output_type": "stream",
     "text": [
      "Trainig acc: 0.9894   //   Training loss: 0.0262   //   Test acc: 0.8363   //   Test loss: 0.6075\n",
      "early_stop: 10  /   Best acc: 0.8472032742155525\n",
      "Training task 4 in epoch 27. Batch size: 8.\n"
     ]
    },
    {
     "name": "stderr",
     "output_type": "stream",
     "text": [
      "100%|█████████████████████████████████████████████████████████████████████████████████████████████████████████████████████| 94/94 [00:19<00:00,  4.91it/s]\n",
      "100%|█████████████████████████████████████████████████████████████████████████████████████████████████████████████████████| 92/92 [00:10<00:00,  9.10it/s]\n"
     ]
    },
    {
     "name": "stdout",
     "output_type": "stream",
     "text": [
      "Trainig acc: 0.992   //   Training loss: 0.0147   //   Test acc: 0.8390   //   Test loss: 0.5794\n",
      "early_stop: 11  /   Best acc: 0.8472032742155525\n",
      "Training task 4 in epoch 28. Batch size: 8.\n"
     ]
    },
    {
     "name": "stderr",
     "output_type": "stream",
     "text": [
      "100%|█████████████████████████████████████████████████████████████████████████████████████████████████████████████████████| 94/94 [00:18<00:00,  4.96it/s]\n",
      "100%|█████████████████████████████████████████████████████████████████████████████████████████████████████████████████████| 92/92 [00:09<00:00,  9.28it/s]\n"
     ]
    },
    {
     "data": {
      "application/vnd.jupyter.widget-view+json": {
       "model_id": "",
       "version_major": 2,
       "version_minor": 0
      },
      "text/plain": [
       "VBox(children=(Label(value='0.003 MB of 0.003 MB uploaded\\r'), FloatProgress(value=1.0, max=1.0)))"
      ]
     },
     "metadata": {},
     "output_type": "display_data"
    },
    {
     "data": {
      "text/html": [
       "<style>\n",
       "    table.wandb td:nth-child(1) { padding: 0 10px; text-align: left ; width: auto;} td:nth-child(2) {text-align: left ; width: 100%}\n",
       "    .wandb-row { display: flex; flex-direction: row; flex-wrap: wrap; justify-content: flex-start; width: 100% }\n",
       "    .wandb-col { display: flex; flex-direction: column; flex-basis: 100%; flex: 1; padding: 10px; }\n",
       "    </style>\n",
       "<div class=\"wandb-row\"><div class=\"wandb-col\"><h3>Run history:</h3><br/><table class=\"wandb\"><tr><td>Accuracy</td><td>▅▇▇▇▇▇▇▇▇▇▇▄▆▇▇▇▇▇▇▇▆▆▇▇▇▇▁▇▇▇▇▇▇▇▂▇████</td></tr><tr><td>Loss</td><td>▄▂▂▂▂▂▂▂▂▂▂▄▂▂▂▂▂▂▂▂▂▂▂▂▂▃█▂▂▂▂▂▂▂▇▁▁▁▁▁</td></tr><tr><td>best_val_acc</td><td>▅▇▇▇▇▇▇▇▇▇▇▄▆▇▇▇▇▇▇▇▆▆▇▇▇▇▁▇▇▇▇▇▇▇▂▇████</td></tr><tr><td>learning_rate</td><td>█████▂▂▂▁▁▁████▂▂▂▁▁█████▂█████▂▂▁█████▂</td></tr><tr><td>patience</td><td>▁▁▁▁▄▅▁▃▇▃▇▁▁▁▃▁▄▂▅█▁▁▄▁▂▆▁▁▁▃▃▆▃▆▁▁▃▁▃█</td></tr><tr><td>task</td><td>▁▁▁▁▁▁▁▁▁▁▁▃▃▃▃▃▃▃▃▃▅▅▅▅▅▅▆▆▆▆▆▆▆▆██████</td></tr><tr><td>train_acc</td><td>▃▆▇████████▃▆███████▅▇████▁▆▇█████▁▇████</td></tr><tr><td>train_loss</td><td>▅▂▂▁▁▁▁▁▁▁▁▅▂▁▁▁▁▁▁▁▃▂▁▁▁▁█▂▁▁▁▁▁▁█▂▁▁▁▁</td></tr><tr><td>val_acc</td><td>▅▇▇▇▇▇▇▇▇▇▇▄▆▇▇▇▇▇▇▇▆▆▇▇▇▇▁▇▇▇▇▇▇▇▂▇████</td></tr><tr><td>val_loss</td><td>▄▂▂▂▂▂▂▂▂▂▂▄▂▂▂▂▂▂▂▂▂▂▂▂▂▃█▂▂▂▂▂▂▂▇▁▁▁▁▁</td></tr></table><br/></div><div class=\"wandb-col\"><h3>Run summary:</h3><br/><table class=\"wandb\"><tr><td>Accuracy</td><td>0.83902</td></tr><tr><td>Loss</td><td>0.5794</td></tr><tr><td>best_val_acc</td><td>0.8472</td></tr><tr><td>learning_rate</td><td>0.0</td></tr><tr><td>patience</td><td>11</td></tr><tr><td>task</td><td>5</td></tr><tr><td>train_acc</td><td>0.99202</td></tr><tr><td>train_loss</td><td>0.01475</td></tr><tr><td>val_acc</td><td>0.83902</td></tr><tr><td>val_loss</td><td>0.5794</td></tr></table><br/></div></div>"
      ],
      "text/plain": [
       "<IPython.core.display.HTML object>"
      ]
     },
     "metadata": {},
     "output_type": "display_data"
    },
    {
     "data": {
      "text/html": [
       " View run <strong style=\"color:#cdcd00\">vgg19-lr-00001-5tasks-lora-2</strong> at: <a href='https://wandb.ai/cf-lora/cf-lora-cub-200-baseline-all-parameters/runs/xmgvn0y1' target=\"_blank\">https://wandb.ai/cf-lora/cf-lora-cub-200-baseline-all-parameters/runs/xmgvn0y1</a><br/> View project at: <a href='https://wandb.ai/cf-lora/cf-lora-cub-200-baseline-all-parameters' target=\"_blank\">https://wandb.ai/cf-lora/cf-lora-cub-200-baseline-all-parameters</a><br/>Synced 5 W&B file(s), 0 media file(s), 0 artifact file(s) and 0 other file(s)"
      ],
      "text/plain": [
       "<IPython.core.display.HTML object>"
      ]
     },
     "metadata": {},
     "output_type": "display_data"
    },
    {
     "data": {
      "text/html": [
       "Find logs at: <code>./wandb/run-20240826_050156-xmgvn0y1/logs</code>"
      ],
      "text/plain": [
       "<IPython.core.display.HTML object>"
      ]
     },
     "metadata": {},
     "output_type": "display_data"
    },
    {
     "data": {
      "text/html": [
       "The new W&B backend becomes opt-out in version 0.18.0; try it out with `wandb.require(\"core\")`! See https://wandb.me/wandb-core for more information."
      ],
      "text/plain": [
       "<IPython.core.display.HTML object>"
      ]
     },
     "metadata": {},
     "output_type": "display_data"
    },
    {
     "data": {
      "application/vnd.jupyter.widget-view+json": {
       "model_id": "4c0c8fa8e8854f72bd3141f39af09f59",
       "version_major": 2,
       "version_minor": 0
      },
      "text/plain": [
       "VBox(children=(Label(value='Waiting for wandb.init()...\\r'), FloatProgress(value=0.011113958755352845, max=1.0…"
      ]
     },
     "metadata": {},
     "output_type": "display_data"
    },
    {
     "data": {
      "text/html": [
       "Tracking run with wandb version 0.17.7"
      ],
      "text/plain": [
       "<IPython.core.display.HTML object>"
      ]
     },
     "metadata": {},
     "output_type": "display_data"
    },
    {
     "data": {
      "text/html": [
       "Run data is saved locally in <code>/home/everton_aleixo/Documents/effects-of-lora-on-catastrophic-forgetting/notebooks/wandb/run-20240826_075430-nkuy2wyk</code>"
      ],
      "text/plain": [
       "<IPython.core.display.HTML object>"
      ]
     },
     "metadata": {},
     "output_type": "display_data"
    },
    {
     "data": {
      "text/html": [
       "Syncing run <strong><a href='https://wandb.ai/cf-lora/cf-lora-cub-200-baseline-all-parameters/runs/nkuy2wyk' target=\"_blank\">vgg19-lr-00001-5tasks-lora-3</a></strong> to <a href='https://wandb.ai/cf-lora/cf-lora-cub-200-baseline-all-parameters' target=\"_blank\">Weights & Biases</a> (<a href='https://wandb.me/run' target=\"_blank\">docs</a>)<br/>"
      ],
      "text/plain": [
       "<IPython.core.display.HTML object>"
      ]
     },
     "metadata": {},
     "output_type": "display_data"
    },
    {
     "data": {
      "text/html": [
       " View project at <a href='https://wandb.ai/cf-lora/cf-lora-cub-200-baseline-all-parameters' target=\"_blank\">https://wandb.ai/cf-lora/cf-lora-cub-200-baseline-all-parameters</a>"
      ],
      "text/plain": [
       "<IPython.core.display.HTML object>"
      ]
     },
     "metadata": {},
     "output_type": "display_data"
    },
    {
     "data": {
      "text/html": [
       " View run at <a href='https://wandb.ai/cf-lora/cf-lora-cub-200-baseline-all-parameters/runs/nkuy2wyk' target=\"_blank\">https://wandb.ai/cf-lora/cf-lora-cub-200-baseline-all-parameters/runs/nkuy2wyk</a>"
      ],
      "text/plain": [
       "<IPython.core.display.HTML object>"
      ]
     },
     "metadata": {},
     "output_type": "display_data"
    },
    {
     "name": "stderr",
     "output_type": "stream",
     "text": [
      "/home/everton_aleixo/Documents/mahle/server_python/venv/lib/python3.12/site-packages/torch/optim/lr_scheduler.py:60: UserWarning: The verbose parameter is deprecated. Please use get_last_lr() to access the learning rate.\n",
      "  warnings.warn(\n"
     ]
    },
    {
     "name": "stdout",
     "output_type": "stream",
     "text": [
      "---------------------------------------- TASK_0 ----------------------------------------\n",
      "Training task 0 in epoch 0. Batch size: 8.\n"
     ]
    },
    {
     "name": "stderr",
     "output_type": "stream",
     "text": [
      "100%|███████████████████████████████████████████████████████████████████████████████████████████████████████████████████| 375/375 [01:15<00:00,  4.95it/s]\n",
      "100%|███████████████████████████████████████████████████████████████████████████████████████████████████████████████████| 358/358 [00:39<00:00,  9.05it/s]\n"
     ]
    },
    {
     "name": "stdout",
     "output_type": "stream",
     "text": [
      "Trainig acc: 0.06967   //   Training loss: 4.5291   //   Test acc: 0.3820   //   Test loss: 2.8690\n",
      "early_stop: 1  /   Best acc: 0.3819832402234637\n",
      "Training task 0 in epoch 1. Batch size: 8.\n"
     ]
    },
    {
     "name": "stderr",
     "output_type": "stream",
     "text": [
      "100%|███████████████████████████████████████████████████████████████████████████████████████████████████████████████████| 375/375 [01:15<00:00,  4.95it/s]\n",
      "100%|███████████████████████████████████████████████████████████████████████████████████████████████████████████████████| 358/358 [00:40<00:00,  8.89it/s]\n"
     ]
    },
    {
     "name": "stdout",
     "output_type": "stream",
     "text": [
      "Trainig acc: 0.3357   //   Training loss: 2.6309   //   Test acc: 0.5726   //   Test loss: 1.6783\n",
      "early_stop: 1  /   Best acc: 0.5726256983240223\n",
      "Training task 0 in epoch 2. Batch size: 8.\n"
     ]
    },
    {
     "name": "stderr",
     "output_type": "stream",
     "text": [
      "100%|███████████████████████████████████████████████████████████████████████████████████████████████████████████████████| 375/375 [01:15<00:00,  4.95it/s]\n",
      "100%|███████████████████████████████████████████████████████████████████████████████████████████████████████████████████| 358/358 [00:42<00:00,  8.47it/s]\n"
     ]
    },
    {
     "name": "stdout",
     "output_type": "stream",
     "text": [
      "Trainig acc: 0.506   //   Training loss: 1.7846   //   Test acc: 0.6456   //   Test loss: 1.3009\n",
      "early_stop: 1  /   Best acc: 0.6456005586592178\n",
      "Training task 0 in epoch 3. Batch size: 8.\n"
     ]
    },
    {
     "name": "stderr",
     "output_type": "stream",
     "text": [
      "100%|███████████████████████████████████████████████████████████████████████████████████████████████████████████████████| 375/375 [01:15<00:00,  4.96it/s]\n",
      "100%|███████████████████████████████████████████████████████████████████████████████████████████████████████████████████| 358/358 [00:40<00:00,  8.89it/s]\n"
     ]
    },
    {
     "name": "stdout",
     "output_type": "stream",
     "text": [
      "Trainig acc: 0.6207   //   Training loss: 1.3531   //   Test acc: 0.6791   //   Test loss: 1.1413\n",
      "early_stop: 1  /   Best acc: 0.6791201117318436\n",
      "Training task 0 in epoch 4. Batch size: 8.\n"
     ]
    },
    {
     "name": "stderr",
     "output_type": "stream",
     "text": [
      "100%|███████████████████████████████████████████████████████████████████████████████████████████████████████████████████| 375/375 [01:15<00:00,  4.95it/s]\n",
      "100%|███████████████████████████████████████████████████████████████████████████████████████████████████████████████████| 358/358 [00:40<00:00,  8.75it/s]\n"
     ]
    },
    {
     "name": "stdout",
     "output_type": "stream",
     "text": [
      "Trainig acc: 0.704   //   Training loss: 1.0208   //   Test acc: 0.7084   //   Test loss: 1.0428\n",
      "early_stop: 1  /   Best acc: 0.708449720670391\n",
      "Training task 0 in epoch 5. Batch size: 8.\n"
     ]
    },
    {
     "name": "stderr",
     "output_type": "stream",
     "text": [
      "100%|███████████████████████████████████████████████████████████████████████████████████████████████████████████████████| 375/375 [01:15<00:00,  4.95it/s]\n",
      "100%|███████████████████████████████████████████████████████████████████████████████████████████████████████████████████| 358/358 [00:39<00:00,  9.08it/s]\n"
     ]
    },
    {
     "name": "stdout",
     "output_type": "stream",
     "text": [
      "Trainig acc: 0.7467   //   Training loss: 0.8302   //   Test acc: 0.7105   //   Test loss: 1.0146\n",
      "early_stop: 1  /   Best acc: 0.7105446927374302\n",
      "Training task 0 in epoch 6. Batch size: 8.\n"
     ]
    },
    {
     "name": "stderr",
     "output_type": "stream",
     "text": [
      "100%|███████████████████████████████████████████████████████████████████████████████████████████████████████████████████| 375/375 [01:14<00:00,  5.01it/s]\n",
      "100%|███████████████████████████████████████████████████████████████████████████████████████████████████████████████████| 358/358 [00:40<00:00,  8.89it/s]\n"
     ]
    },
    {
     "name": "stdout",
     "output_type": "stream",
     "text": [
      "Trainig acc: 0.7973   //   Training loss: 0.6566   //   Test acc: 0.7287   //   Test loss: 0.9273\n",
      "early_stop: 1  /   Best acc: 0.7287011173184358\n",
      "Training task 0 in epoch 7. Batch size: 8.\n"
     ]
    },
    {
     "name": "stderr",
     "output_type": "stream",
     "text": [
      "100%|███████████████████████████████████████████████████████████████████████████████████████████████████████████████████| 375/375 [01:15<00:00,  4.96it/s]\n",
      "100%|███████████████████████████████████████████████████████████████████████████████████████████████████████████████████| 358/358 [00:40<00:00,  8.90it/s]\n"
     ]
    },
    {
     "name": "stdout",
     "output_type": "stream",
     "text": [
      "Trainig acc: 0.8357   //   Training loss: 0.5451   //   Test acc: 0.7409   //   Test loss: 0.9232\n",
      "early_stop: 1  /   Best acc: 0.7409217877094972\n",
      "Training task 0 in epoch 8. Batch size: 8.\n"
     ]
    },
    {
     "name": "stderr",
     "output_type": "stream",
     "text": [
      "100%|███████████████████████████████████████████████████████████████████████████████████████████████████████████████████| 375/375 [01:15<00:00,  4.97it/s]\n",
      "100%|███████████████████████████████████████████████████████████████████████████████████████████████████████████████████| 358/358 [00:40<00:00,  8.86it/s]\n"
     ]
    },
    {
     "name": "stdout",
     "output_type": "stream",
     "text": [
      "Trainig acc: 0.8763   //   Training loss: 0.4177   //   Test acc: 0.7413   //   Test loss: 0.8944\n",
      "early_stop: 1  /   Best acc: 0.7412709497206704\n",
      "Training task 0 in epoch 9. Batch size: 8.\n"
     ]
    },
    {
     "name": "stderr",
     "output_type": "stream",
     "text": [
      "100%|███████████████████████████████████████████████████████████████████████████████████████████████████████████████████| 375/375 [01:14<00:00,  5.01it/s]\n",
      "100%|███████████████████████████████████████████████████████████████████████████████████████████████████████████████████| 358/358 [00:40<00:00,  8.83it/s]\n"
     ]
    },
    {
     "name": "stdout",
     "output_type": "stream",
     "text": [
      "Trainig acc: 0.8917   //   Training loss: 0.3714   //   Test acc: 0.7483   //   Test loss: 0.8944\n",
      "early_stop: 1  /   Best acc: 0.7482541899441341\n",
      "Training task 0 in epoch 10. Batch size: 8.\n"
     ]
    },
    {
     "name": "stderr",
     "output_type": "stream",
     "text": [
      "100%|███████████████████████████████████████████████████████████████████████████████████████████████████████████████████| 375/375 [01:15<00:00,  4.96it/s]\n",
      "100%|███████████████████████████████████████████████████████████████████████████████████████████████████████████████████| 358/358 [00:39<00:00,  8.97it/s]\n"
     ]
    },
    {
     "name": "stdout",
     "output_type": "stream",
     "text": [
      "Trainig acc: 0.915   //   Training loss: 0.2856   //   Test acc: 0.7594   //   Test loss: 0.9087\n",
      "early_stop: 1  /   Best acc: 0.759427374301676\n",
      "Training task 0 in epoch 11. Batch size: 8.\n"
     ]
    },
    {
     "name": "stderr",
     "output_type": "stream",
     "text": [
      "100%|███████████████████████████████████████████████████████████████████████████████████████████████████████████████████| 375/375 [01:15<00:00,  4.97it/s]\n",
      "100%|███████████████████████████████████████████████████████████████████████████████████████████████████████████████████| 358/358 [00:40<00:00,  8.89it/s]\n"
     ]
    },
    {
     "name": "stdout",
     "output_type": "stream",
     "text": [
      "Trainig acc: 0.935   //   Training loss: 0.2461   //   Test acc: 0.7462   //   Test loss: 0.9019\n",
      "early_stop: 2  /   Best acc: 0.759427374301676\n",
      "Training task 0 in epoch 12. Batch size: 8.\n"
     ]
    },
    {
     "name": "stderr",
     "output_type": "stream",
     "text": [
      "100%|███████████████████████████████████████████████████████████████████████████████████████████████████████████████████| 375/375 [01:15<00:00,  4.96it/s]\n",
      "100%|███████████████████████████████████████████████████████████████████████████████████████████████████████████████████| 358/358 [00:40<00:00,  8.87it/s]\n"
     ]
    },
    {
     "name": "stdout",
     "output_type": "stream",
     "text": [
      "Trainig acc: 0.9407   //   Training loss: 0.2044   //   Test acc: 0.7528   //   Test loss: 0.8926\n",
      "early_stop: 3  /   Best acc: 0.759427374301676\n",
      "Training task 0 in epoch 13. Batch size: 8.\n"
     ]
    },
    {
     "name": "stderr",
     "output_type": "stream",
     "text": [
      "100%|███████████████████████████████████████████████████████████████████████████████████████████████████████████████████| 375/375 [01:15<00:00,  4.96it/s]\n",
      "100%|███████████████████████████████████████████████████████████████████████████████████████████████████████████████████| 358/358 [00:39<00:00,  8.99it/s]\n"
     ]
    },
    {
     "name": "stdout",
     "output_type": "stream",
     "text": [
      "Trainig acc: 0.9533   //   Training loss: 0.1627   //   Test acc: 0.7573   //   Test loss: 0.9411\n",
      "early_stop: 4  /   Best acc: 0.759427374301676\n",
      "Training task 0 in epoch 14. Batch size: 8.\n"
     ]
    },
    {
     "name": "stderr",
     "output_type": "stream",
     "text": [
      "100%|███████████████████████████████████████████████████████████████████████████████████████████████████████████████████| 375/375 [01:17<00:00,  4.83it/s]\n",
      "100%|███████████████████████████████████████████████████████████████████████████████████████████████████████████████████| 358/358 [00:41<00:00,  8.73it/s]\n"
     ]
    },
    {
     "name": "stdout",
     "output_type": "stream",
     "text": [
      "Trainig acc: 0.953   //   Training loss: 0.1509   //   Test acc: 0.7563   //   Test loss: 0.9101\n",
      "early_stop: 5  /   Best acc: 0.759427374301676\n",
      "Training task 0 in epoch 15. Batch size: 8.\n"
     ]
    },
    {
     "name": "stderr",
     "output_type": "stream",
     "text": [
      "100%|███████████████████████████████████████████████████████████████████████████████████████████████████████████████████| 375/375 [01:15<00:00,  4.96it/s]\n",
      "100%|███████████████████████████████████████████████████████████████████████████████████████████████████████████████████| 358/358 [00:40<00:00,  8.93it/s]\n"
     ]
    },
    {
     "name": "stdout",
     "output_type": "stream",
     "text": [
      "Trainig acc: 0.9727   //   Training loss: 0.1003   //   Test acc: 0.7601   //   Test loss: 0.9634\n",
      "early_stop: 1  /   Best acc: 0.7601256983240223\n",
      "Training task 0 in epoch 16. Batch size: 8.\n"
     ]
    },
    {
     "name": "stderr",
     "output_type": "stream",
     "text": [
      "100%|███████████████████████████████████████████████████████████████████████████████████████████████████████████████████| 375/375 [01:15<00:00,  4.95it/s]\n",
      "100%|███████████████████████████████████████████████████████████████████████████████████████████████████████████████████| 358/358 [00:39<00:00,  8.98it/s]\n"
     ]
    },
    {
     "name": "stdout",
     "output_type": "stream",
     "text": [
      "Trainig acc: 0.9697   //   Training loss: 0.1018   //   Test acc: 0.7476   //   Test loss: 0.9781\n",
      "early_stop: 2  /   Best acc: 0.7601256983240223\n",
      "Training task 0 in epoch 17. Batch size: 8.\n"
     ]
    },
    {
     "name": "stderr",
     "output_type": "stream",
     "text": [
      "100%|███████████████████████████████████████████████████████████████████████████████████████████████████████████████████| 375/375 [01:17<00:00,  4.87it/s]\n",
      "100%|███████████████████████████████████████████████████████████████████████████████████████████████████████████████████| 358/358 [00:41<00:00,  8.67it/s]\n"
     ]
    },
    {
     "name": "stdout",
     "output_type": "stream",
     "text": [
      "Trainig acc: 0.9717   //   Training loss: 0.0927   //   Test acc: 0.7577   //   Test loss: 0.9783\n",
      "early_stop: 3  /   Best acc: 0.7601256983240223\n",
      "Training task 0 in epoch 18. Batch size: 8.\n"
     ]
    },
    {
     "name": "stderr",
     "output_type": "stream",
     "text": [
      "100%|███████████████████████████████████████████████████████████████████████████████████████████████████████████████████| 375/375 [01:17<00:00,  4.86it/s]\n",
      "100%|███████████████████████████████████████████████████████████████████████████████████████████████████████████████████| 358/358 [00:40<00:00,  8.74it/s]\n"
     ]
    },
    {
     "name": "stdout",
     "output_type": "stream",
     "text": [
      "Trainig acc: 0.9807   //   Training loss: 0.0744   //   Test acc: 0.7507   //   Test loss: 1.0173\n",
      "early_stop: 4  /   Best acc: 0.7601256983240223\n",
      "Training task 0 in epoch 19. Batch size: 8.\n"
     ]
    },
    {
     "name": "stderr",
     "output_type": "stream",
     "text": [
      "100%|███████████████████████████████████████████████████████████████████████████████████████████████████████████████████| 375/375 [01:16<00:00,  4.93it/s]\n",
      "100%|███████████████████████████████████████████████████████████████████████████████████████████████████████████████████| 358/358 [00:39<00:00,  9.05it/s]\n"
     ]
    },
    {
     "name": "stdout",
     "output_type": "stream",
     "text": [
      "Trainig acc: 0.9803   //   Training loss: 0.0696   //   Test acc: 0.7556   //   Test loss: 1.0520\n",
      "early_stop: 5  /   Best acc: 0.7601256983240223\n",
      "Training task 0 in epoch 20. Batch size: 8.\n"
     ]
    },
    {
     "name": "stderr",
     "output_type": "stream",
     "text": [
      "100%|███████████████████████████████████████████████████████████████████████████████████████████████████████████████████| 375/375 [01:15<00:00,  4.97it/s]\n",
      "100%|███████████████████████████████████████████████████████████████████████████████████████████████████████████████████| 358/358 [00:41<00:00,  8.59it/s]\n"
     ]
    },
    {
     "name": "stdout",
     "output_type": "stream",
     "text": [
      "Trainig acc: 0.9873   //   Training loss: 0.0557   //   Test acc: 0.7566   //   Test loss: 1.0279\n",
      "early_stop: 6  /   Best acc: 0.7601256983240223\n",
      "Training task 0 in epoch 21. Batch size: 8.\n"
     ]
    },
    {
     "name": "stderr",
     "output_type": "stream",
     "text": [
      "100%|███████████████████████████████████████████████████████████████████████████████████████████████████████████████████| 375/375 [01:18<00:00,  4.80it/s]\n",
      "100%|███████████████████████████████████████████████████████████████████████████████████████████████████████████████████| 358/358 [00:42<00:00,  8.34it/s]\n"
     ]
    },
    {
     "name": "stdout",
     "output_type": "stream",
     "text": [
      "Trainig acc: 0.99   //   Training loss: 0.0454   //   Test acc: 0.7619   //   Test loss: 1.0023\n",
      "early_stop: 1  /   Best acc: 0.7618715083798883\n",
      "Training task 0 in epoch 22. Batch size: 8.\n"
     ]
    },
    {
     "name": "stderr",
     "output_type": "stream",
     "text": [
      "100%|███████████████████████████████████████████████████████████████████████████████████████████████████████████████████| 375/375 [01:18<00:00,  4.80it/s]\n",
      "100%|███████████████████████████████████████████████████████████████████████████████████████████████████████████████████| 358/358 [00:43<00:00,  8.23it/s]\n"
     ]
    },
    {
     "name": "stdout",
     "output_type": "stream",
     "text": [
      "Trainig acc: 0.9897   //   Training loss: 0.0429   //   Test acc: 0.7671   //   Test loss: 0.9882\n",
      "early_stop: 1  /   Best acc: 0.7671089385474861\n",
      "Training task 0 in epoch 23. Batch size: 8.\n"
     ]
    },
    {
     "name": "stderr",
     "output_type": "stream",
     "text": [
      "100%|███████████████████████████████████████████████████████████████████████████████████████████████████████████████████| 375/375 [01:17<00:00,  4.83it/s]\n",
      "100%|███████████████████████████████████████████████████████████████████████████████████████████████████████████████████| 358/358 [00:42<00:00,  8.45it/s]\n"
     ]
    },
    {
     "name": "stdout",
     "output_type": "stream",
     "text": [
      "Trainig acc: 0.9907   //   Training loss: 0.0352   //   Test acc: 0.7650   //   Test loss: 0.9925\n",
      "early_stop: 2  /   Best acc: 0.7671089385474861\n",
      "Training task 0 in epoch 24. Batch size: 8.\n"
     ]
    },
    {
     "name": "stderr",
     "output_type": "stream",
     "text": [
      "100%|███████████████████████████████████████████████████████████████████████████████████████████████████████████████████| 375/375 [01:17<00:00,  4.83it/s]\n",
      "100%|███████████████████████████████████████████████████████████████████████████████████████████████████████████████████| 358/358 [00:43<00:00,  8.19it/s]\n"
     ]
    },
    {
     "name": "stdout",
     "output_type": "stream",
     "text": [
      "Trainig acc: 0.987   //   Training loss: 0.0448   //   Test acc: 0.7689   //   Test loss: 0.9926\n",
      "early_stop: 1  /   Best acc: 0.7688547486033519\n",
      "Training task 0 in epoch 25. Batch size: 8.\n"
     ]
    },
    {
     "name": "stderr",
     "output_type": "stream",
     "text": [
      "100%|███████████████████████████████████████████████████████████████████████████████████████████████████████████████████| 375/375 [01:18<00:00,  4.80it/s]\n",
      "100%|███████████████████████████████████████████████████████████████████████████████████████████████████████████████████| 358/358 [00:43<00:00,  8.23it/s]\n"
     ]
    },
    {
     "name": "stdout",
     "output_type": "stream",
     "text": [
      "Trainig acc: 0.9943   //   Training loss: 0.0309   //   Test acc: 0.7703   //   Test loss: 0.9824\n",
      "early_stop: 1  /   Best acc: 0.7702513966480447\n",
      "Training task 0 in epoch 26. Batch size: 8.\n"
     ]
    },
    {
     "name": "stderr",
     "output_type": "stream",
     "text": [
      "100%|███████████████████████████████████████████████████████████████████████████████████████████████████████████████████| 375/375 [01:17<00:00,  4.83it/s]\n",
      "100%|███████████████████████████████████████████████████████████████████████████████████████████████████████████████████| 358/358 [00:42<00:00,  8.44it/s]\n"
     ]
    },
    {
     "name": "stdout",
     "output_type": "stream",
     "text": [
      "Trainig acc: 0.99   //   Training loss: 0.0366   //   Test acc: 0.7716   //   Test loss: 0.9869\n",
      "early_stop: 1  /   Best acc: 0.7716480446927374\n",
      "Training task 0 in epoch 27. Batch size: 8.\n"
     ]
    },
    {
     "name": "stderr",
     "output_type": "stream",
     "text": [
      "100%|███████████████████████████████████████████████████████████████████████████████████████████████████████████████████| 375/375 [01:18<00:00,  4.75it/s]\n",
      "100%|███████████████████████████████████████████████████████████████████████████████████████████████████████████████████| 358/358 [00:44<00:00,  8.01it/s]\n"
     ]
    },
    {
     "name": "stdout",
     "output_type": "stream",
     "text": [
      "Trainig acc: 0.9943   //   Training loss: 0.0276   //   Test acc: 0.7730   //   Test loss: 0.9855\n",
      "early_stop: 1  /   Best acc: 0.7730446927374302\n",
      "Training task 0 in epoch 28. Batch size: 8.\n"
     ]
    },
    {
     "name": "stderr",
     "output_type": "stream",
     "text": [
      "100%|███████████████████████████████████████████████████████████████████████████████████████████████████████████████████| 375/375 [01:17<00:00,  4.84it/s]\n",
      "100%|███████████████████████████████████████████████████████████████████████████████████████████████████████████████████| 358/358 [00:41<00:00,  8.64it/s]\n"
     ]
    },
    {
     "name": "stdout",
     "output_type": "stream",
     "text": [
      "Trainig acc: 0.9947   //   Training loss: 0.0318   //   Test acc: 0.7744   //   Test loss: 0.9893\n",
      "early_stop: 1  /   Best acc: 0.7744413407821229\n",
      "Training task 0 in epoch 29. Batch size: 8.\n"
     ]
    },
    {
     "name": "stderr",
     "output_type": "stream",
     "text": [
      "100%|███████████████████████████████████████████████████████████████████████████████████████████████████████████████████| 375/375 [01:17<00:00,  4.82it/s]\n",
      "100%|███████████████████████████████████████████████████████████████████████████████████████████████████████████████████| 358/358 [00:42<00:00,  8.33it/s]\n"
     ]
    },
    {
     "name": "stdout",
     "output_type": "stream",
     "text": [
      "Trainig acc: 0.996   //   Training loss: 0.0250   //   Test acc: 0.7706   //   Test loss: 0.9797\n",
      "early_stop: 2  /   Best acc: 0.7744413407821229\n",
      "Training task 0 in epoch 30. Batch size: 8.\n"
     ]
    },
    {
     "name": "stderr",
     "output_type": "stream",
     "text": [
      "100%|███████████████████████████████████████████████████████████████████████████████████████████████████████████████████| 375/375 [01:18<00:00,  4.77it/s]\n",
      "100%|███████████████████████████████████████████████████████████████████████████████████████████████████████████████████| 358/358 [00:42<00:00,  8.39it/s]\n"
     ]
    },
    {
     "name": "stdout",
     "output_type": "stream",
     "text": [
      "Trainig acc: 0.9927   //   Training loss: 0.0312   //   Test acc: 0.7671   //   Test loss: 1.0202\n",
      "early_stop: 3  /   Best acc: 0.7744413407821229\n",
      "Training task 0 in epoch 31. Batch size: 8.\n"
     ]
    },
    {
     "name": "stderr",
     "output_type": "stream",
     "text": [
      "100%|███████████████████████████████████████████████████████████████████████████████████████████████████████████████████| 375/375 [01:18<00:00,  4.76it/s]\n",
      "100%|███████████████████████████████████████████████████████████████████████████████████████████████████████████████████| 358/358 [00:44<00:00,  8.10it/s]\n"
     ]
    },
    {
     "name": "stdout",
     "output_type": "stream",
     "text": [
      "Trainig acc: 0.994   //   Training loss: 0.0267   //   Test acc: 0.7706   //   Test loss: 0.9878\n",
      "early_stop: 4  /   Best acc: 0.7744413407821229\n",
      "Training task 0 in epoch 32. Batch size: 8.\n"
     ]
    },
    {
     "name": "stderr",
     "output_type": "stream",
     "text": [
      "100%|███████████████████████████████████████████████████████████████████████████████████████████████████████████████████| 375/375 [01:19<00:00,  4.71it/s]\n",
      "100%|███████████████████████████████████████████████████████████████████████████████████████████████████████████████████| 358/358 [00:45<00:00,  7.95it/s]\n"
     ]
    },
    {
     "name": "stdout",
     "output_type": "stream",
     "text": [
      "Trainig acc: 0.9967   //   Training loss: 0.0212   //   Test acc: 0.7699   //   Test loss: 1.0084\n",
      "early_stop: 5  /   Best acc: 0.7744413407821229\n",
      "Training task 0 in epoch 33. Batch size: 8.\n"
     ]
    },
    {
     "name": "stderr",
     "output_type": "stream",
     "text": [
      "100%|███████████████████████████████████████████████████████████████████████████████████████████████████████████████████| 375/375 [01:19<00:00,  4.71it/s]\n",
      "100%|███████████████████████████████████████████████████████████████████████████████████████████████████████████████████| 358/358 [00:44<00:00,  8.09it/s]\n"
     ]
    },
    {
     "name": "stdout",
     "output_type": "stream",
     "text": [
      "Trainig acc: 0.994   //   Training loss: 0.0247   //   Test acc: 0.7713   //   Test loss: 1.0046\n",
      "early_stop: 6  /   Best acc: 0.7744413407821229\n",
      "Training task 0 in epoch 34. Batch size: 8.\n"
     ]
    },
    {
     "name": "stderr",
     "output_type": "stream",
     "text": [
      "100%|███████████████████████████████████████████████████████████████████████████████████████████████████████████████████| 375/375 [01:19<00:00,  4.73it/s]\n",
      "100%|███████████████████████████████████████████████████████████████████████████████████████████████████████████████████| 358/358 [00:43<00:00,  8.18it/s]\n"
     ]
    },
    {
     "name": "stdout",
     "output_type": "stream",
     "text": [
      "Trainig acc: 0.9943   //   Training loss: 0.0233   //   Test acc: 0.7755   //   Test loss: 0.9984\n",
      "early_stop: 1  /   Best acc: 0.7754888268156425\n",
      "Training task 0 in epoch 35. Batch size: 8.\n"
     ]
    },
    {
     "name": "stderr",
     "output_type": "stream",
     "text": [
      "100%|███████████████████████████████████████████████████████████████████████████████████████████████████████████████████| 375/375 [01:15<00:00,  4.99it/s]\n",
      "100%|███████████████████████████████████████████████████████████████████████████████████████████████████████████████████| 358/358 [00:39<00:00,  8.99it/s]\n"
     ]
    },
    {
     "name": "stdout",
     "output_type": "stream",
     "text": [
      "Trainig acc: 0.9957   //   Training loss: 0.0233   //   Test acc: 0.7671   //   Test loss: 1.0124\n",
      "early_stop: 2  /   Best acc: 0.7754888268156425\n",
      "Training task 0 in epoch 36. Batch size: 8.\n"
     ]
    },
    {
     "name": "stderr",
     "output_type": "stream",
     "text": [
      "100%|███████████████████████████████████████████████████████████████████████████████████████████████████████████████████| 375/375 [01:16<00:00,  4.90it/s]\n",
      "100%|███████████████████████████████████████████████████████████████████████████████████████████████████████████████████| 358/358 [00:41<00:00,  8.63it/s]\n"
     ]
    },
    {
     "name": "stdout",
     "output_type": "stream",
     "text": [
      "Trainig acc: 0.996   //   Training loss: 0.0206   //   Test acc: 0.7765   //   Test loss: 0.9962\n",
      "early_stop: 1  /   Best acc: 0.776536312849162\n",
      "Training task 0 in epoch 37. Batch size: 8.\n"
     ]
    },
    {
     "name": "stderr",
     "output_type": "stream",
     "text": [
      "100%|███████████████████████████████████████████████████████████████████████████████████████████████████████████████████| 375/375 [01:17<00:00,  4.83it/s]\n",
      "100%|███████████████████████████████████████████████████████████████████████████████████████████████████████████████████| 358/358 [00:41<00:00,  8.61it/s]\n"
     ]
    },
    {
     "name": "stdout",
     "output_type": "stream",
     "text": [
      "Trainig acc: 0.997   //   Training loss: 0.0192   //   Test acc: 0.7720   //   Test loss: 0.9964\n",
      "early_stop: 2  /   Best acc: 0.776536312849162\n",
      "Training task 0 in epoch 38. Batch size: 8.\n"
     ]
    },
    {
     "name": "stderr",
     "output_type": "stream",
     "text": [
      "100%|███████████████████████████████████████████████████████████████████████████████████████████████████████████████████| 375/375 [01:18<00:00,  4.80it/s]\n",
      "100%|███████████████████████████████████████████████████████████████████████████████████████████████████████████████████| 358/358 [00:42<00:00,  8.37it/s]\n"
     ]
    },
    {
     "name": "stdout",
     "output_type": "stream",
     "text": [
      "Trainig acc: 0.9953   //   Training loss: 0.0219   //   Test acc: 0.7685   //   Test loss: 0.9864\n",
      "early_stop: 3  /   Best acc: 0.776536312849162\n",
      "Training task 0 in epoch 39. Batch size: 8.\n"
     ]
    },
    {
     "name": "stderr",
     "output_type": "stream",
     "text": [
      "100%|███████████████████████████████████████████████████████████████████████████████████████████████████████████████████| 375/375 [01:18<00:00,  4.79it/s]\n",
      "100%|███████████████████████████████████████████████████████████████████████████████████████████████████████████████████| 358/358 [00:43<00:00,  8.30it/s]\n"
     ]
    },
    {
     "name": "stdout",
     "output_type": "stream",
     "text": [
      "Trainig acc: 0.9957   //   Training loss: 0.0231   //   Test acc: 0.7727   //   Test loss: 1.0076\n",
      "early_stop: 4  /   Best acc: 0.776536312849162\n",
      "Training task 0 in epoch 40. Batch size: 8.\n"
     ]
    },
    {
     "name": "stderr",
     "output_type": "stream",
     "text": [
      "100%|███████████████████████████████████████████████████████████████████████████████████████████████████████████████████| 375/375 [01:18<00:00,  4.78it/s]\n",
      "100%|███████████████████████████████████████████████████████████████████████████████████████████████████████████████████| 358/358 [00:42<00:00,  8.38it/s]\n"
     ]
    },
    {
     "name": "stdout",
     "output_type": "stream",
     "text": [
      "Trainig acc: 0.996   //   Training loss: 0.0205   //   Test acc: 0.7734   //   Test loss: 1.0096\n",
      "early_stop: 5  /   Best acc: 0.776536312849162\n",
      "Training task 0 in epoch 41. Batch size: 8.\n"
     ]
    },
    {
     "name": "stderr",
     "output_type": "stream",
     "text": [
      "100%|███████████████████████████████████████████████████████████████████████████████████████████████████████████████████| 375/375 [01:17<00:00,  4.81it/s]\n",
      "100%|███████████████████████████████████████████████████████████████████████████████████████████████████████████████████| 358/358 [00:43<00:00,  8.23it/s]\n"
     ]
    },
    {
     "name": "stdout",
     "output_type": "stream",
     "text": [
      "Trainig acc: 0.994   //   Training loss: 0.0249   //   Test acc: 0.7758   //   Test loss: 0.9937\n",
      "early_stop: 6  /   Best acc: 0.776536312849162\n",
      "Training task 0 in epoch 42. Batch size: 8.\n"
     ]
    },
    {
     "name": "stderr",
     "output_type": "stream",
     "text": [
      "100%|███████████████████████████████████████████████████████████████████████████████████████████████████████████████████| 375/375 [01:17<00:00,  4.84it/s]\n",
      "100%|███████████████████████████████████████████████████████████████████████████████████████████████████████████████████| 358/358 [00:42<00:00,  8.51it/s]\n"
     ]
    },
    {
     "name": "stdout",
     "output_type": "stream",
     "text": [
      "Trainig acc: 0.994   //   Training loss: 0.0274   //   Test acc: 0.7699   //   Test loss: 1.0079\n",
      "early_stop: 7  /   Best acc: 0.776536312849162\n",
      "Training task 0 in epoch 43. Batch size: 8.\n"
     ]
    },
    {
     "name": "stderr",
     "output_type": "stream",
     "text": [
      "100%|███████████████████████████████████████████████████████████████████████████████████████████████████████████████████| 375/375 [01:16<00:00,  4.89it/s]\n",
      "100%|███████████████████████████████████████████████████████████████████████████████████████████████████████████████████| 358/358 [00:38<00:00,  9.31it/s]\n"
     ]
    },
    {
     "name": "stdout",
     "output_type": "stream",
     "text": [
      "Trainig acc: 0.9957   //   Training loss: 0.0210   //   Test acc: 0.7709   //   Test loss: 1.0119\n",
      "early_stop: 8  /   Best acc: 0.776536312849162\n",
      "Training task 0 in epoch 44. Batch size: 8.\n"
     ]
    },
    {
     "name": "stderr",
     "output_type": "stream",
     "text": [
      "100%|███████████████████████████████████████████████████████████████████████████████████████████████████████████████████| 375/375 [01:15<00:00,  4.99it/s]\n",
      "100%|███████████████████████████████████████████████████████████████████████████████████████████████████████████████████| 358/358 [00:38<00:00,  9.31it/s]\n"
     ]
    },
    {
     "name": "stdout",
     "output_type": "stream",
     "text": [
      "Trainig acc: 0.9973   //   Training loss: 0.0206   //   Test acc: 0.7720   //   Test loss: 1.0058\n",
      "early_stop: 9  /   Best acc: 0.776536312849162\n",
      "Training task 0 in epoch 45. Batch size: 8.\n"
     ]
    },
    {
     "name": "stderr",
     "output_type": "stream",
     "text": [
      "100%|███████████████████████████████████████████████████████████████████████████████████████████████████████████████████| 375/375 [01:15<00:00,  4.98it/s]\n",
      "100%|███████████████████████████████████████████████████████████████████████████████████████████████████████████████████| 358/358 [00:38<00:00,  9.29it/s]\n"
     ]
    },
    {
     "name": "stdout",
     "output_type": "stream",
     "text": [
      "Trainig acc: 0.9963   //   Training loss: 0.0206   //   Test acc: 0.7748   //   Test loss: 1.0046\n",
      "early_stop: 10  /   Best acc: 0.776536312849162\n",
      "Training task 0 in epoch 46. Batch size: 8.\n"
     ]
    },
    {
     "name": "stderr",
     "output_type": "stream",
     "text": [
      "100%|███████████████████████████████████████████████████████████████████████████████████████████████████████████████████| 375/375 [01:15<00:00,  4.98it/s]\n",
      "100%|███████████████████████████████████████████████████████████████████████████████████████████████████████████████████| 358/358 [00:38<00:00,  9.19it/s]\n"
     ]
    },
    {
     "name": "stdout",
     "output_type": "stream",
     "text": [
      "Trainig acc: 0.9987   //   Training loss: 0.0160   //   Test acc: 0.7713   //   Test loss: 1.0162\n",
      "early_stop: 11  /   Best acc: 0.776536312849162\n",
      "Training task 0 in epoch 47. Batch size: 8.\n"
     ]
    },
    {
     "name": "stderr",
     "output_type": "stream",
     "text": [
      "100%|███████████████████████████████████████████████████████████████████████████████████████████████████████████████████| 375/375 [01:15<00:00,  4.97it/s]\n",
      "100%|███████████████████████████████████████████████████████████████████████████████████████████████████████████████████| 358/358 [00:39<00:00,  9.11it/s]\n"
     ]
    },
    {
     "name": "stdout",
     "output_type": "stream",
     "text": [
      "---------------------------------------- TASK_1 ----------------------------------------\n",
      "Training task 1 in epoch 0. Batch size: 8.\n"
     ]
    },
    {
     "name": "stderr",
     "output_type": "stream",
     "text": [
      "100%|█████████████████████████████████████████████████████████████████████████████████████████████████████████████████████| 94/94 [00:18<00:00,  4.95it/s]\n",
      "100%|█████████████████████████████████████████████████████████████████████████████████████████████████████████████████████| 90/90 [00:09<00:00,  9.16it/s]\n"
     ]
    },
    {
     "name": "stdout",
     "output_type": "stream",
     "text": [
      "Trainig acc: 0.05186   //   Training loss: 4.7421   //   Test acc: 0.2227   //   Test loss: 3.2244\n",
      "early_stop: 1  /   Best acc: 0.22268907563025211\n",
      "Training task 1 in epoch 1. Batch size: 8.\n"
     ]
    },
    {
     "name": "stderr",
     "output_type": "stream",
     "text": [
      "100%|█████████████████████████████████████████████████████████████████████████████████████████████████████████████████████| 94/94 [00:18<00:00,  5.01it/s]\n",
      "100%|█████████████████████████████████████████████████████████████████████████████████████████████████████████████████████| 90/90 [00:09<00:00,  9.41it/s]\n"
     ]
    },
    {
     "name": "stdout",
     "output_type": "stream",
     "text": [
      "Trainig acc: 0.2593   //   Training loss: 2.6667   //   Test acc: 0.4636   //   Test loss: 1.9463\n",
      "early_stop: 1  /   Best acc: 0.4635854341736695\n",
      "Training task 1 in epoch 2. Batch size: 8.\n"
     ]
    },
    {
     "name": "stderr",
     "output_type": "stream",
     "text": [
      "100%|█████████████████████████████████████████████████████████████████████████████████████████████████████████████████████| 94/94 [00:18<00:00,  4.99it/s]\n",
      "100%|█████████████████████████████████████████████████████████████████████████████████████████████████████████████████████| 90/90 [00:09<00:00,  9.31it/s]\n"
     ]
    },
    {
     "name": "stdout",
     "output_type": "stream",
     "text": [
      "Trainig acc: 0.4548   //   Training loss: 1.8901   //   Test acc: 0.5336   //   Test loss: 1.5746\n",
      "early_stop: 1  /   Best acc: 0.5336134453781513\n",
      "Training task 1 in epoch 3. Batch size: 8.\n"
     ]
    },
    {
     "name": "stderr",
     "output_type": "stream",
     "text": [
      "100%|█████████████████████████████████████████████████████████████████████████████████████████████████████████████████████| 94/94 [00:18<00:00,  4.99it/s]\n",
      "100%|█████████████████████████████████████████████████████████████████████████████████████████████████████████████████████| 90/90 [00:09<00:00,  9.15it/s]\n"
     ]
    },
    {
     "name": "stdout",
     "output_type": "stream",
     "text": [
      "Trainig acc: 0.5878   //   Training loss: 1.4243   //   Test acc: 0.6134   //   Test loss: 1.3044\n",
      "early_stop: 1  /   Best acc: 0.6134453781512605\n",
      "Training task 1 in epoch 4. Batch size: 8.\n"
     ]
    },
    {
     "name": "stderr",
     "output_type": "stream",
     "text": [
      "100%|█████████████████████████████████████████████████████████████████████████████████████████████████████████████████████| 94/94 [00:18<00:00,  5.02it/s]\n",
      "100%|█████████████████████████████████████████████████████████████████████████████████████████████████████████████████████| 90/90 [00:09<00:00,  9.33it/s]\n"
     ]
    },
    {
     "name": "stdout",
     "output_type": "stream",
     "text": [
      "Trainig acc: 0.6822   //   Training loss: 1.0596   //   Test acc: 0.6569   //   Test loss: 1.1715\n",
      "early_stop: 1  /   Best acc: 0.6568627450980392\n",
      "Training task 1 in epoch 5. Batch size: 8.\n"
     ]
    },
    {
     "name": "stderr",
     "output_type": "stream",
     "text": [
      "100%|█████████████████████████████████████████████████████████████████████████████████████████████████████████████████████| 94/94 [00:18<00:00,  5.03it/s]\n",
      "100%|█████████████████████████████████████████████████████████████████████████████████████████████████████████████████████| 90/90 [00:09<00:00,  9.16it/s]\n"
     ]
    },
    {
     "name": "stdout",
     "output_type": "stream",
     "text": [
      "Trainig acc: 0.7872   //   Training loss: 0.8027   //   Test acc: 0.6807   //   Test loss: 1.0509\n",
      "early_stop: 1  /   Best acc: 0.680672268907563\n",
      "Training task 1 in epoch 6. Batch size: 8.\n"
     ]
    },
    {
     "name": "stderr",
     "output_type": "stream",
     "text": [
      "100%|█████████████████████████████████████████████████████████████████████████████████████████████████████████████████████| 94/94 [00:18<00:00,  5.07it/s]\n",
      "100%|█████████████████████████████████████████████████████████████████████████████████████████████████████████████████████| 90/90 [00:10<00:00,  8.76it/s]\n"
     ]
    },
    {
     "name": "stdout",
     "output_type": "stream",
     "text": [
      "Trainig acc: 0.8005   //   Training loss: 0.6566   //   Test acc: 0.6989   //   Test loss: 0.9583\n",
      "early_stop: 1  /   Best acc: 0.6988795518207283\n",
      "Training task 1 in epoch 7. Batch size: 8.\n"
     ]
    },
    {
     "name": "stderr",
     "output_type": "stream",
     "text": [
      "100%|█████████████████████████████████████████████████████████████████████████████████████████████████████████████████████| 94/94 [00:19<00:00,  4.92it/s]\n",
      "100%|█████████████████████████████████████████████████████████████████████████████████████████████████████████████████████| 90/90 [00:10<00:00,  8.89it/s]\n"
     ]
    },
    {
     "name": "stdout",
     "output_type": "stream",
     "text": [
      "Trainig acc: 0.8537   //   Training loss: 0.5129   //   Test acc: 0.6975   //   Test loss: 0.9964\n",
      "early_stop: 2  /   Best acc: 0.6988795518207283\n",
      "Training task 1 in epoch 8. Batch size: 8.\n"
     ]
    },
    {
     "name": "stderr",
     "output_type": "stream",
     "text": [
      "100%|█████████████████████████████████████████████████████████████████████████████████████████████████████████████████████| 94/94 [00:19<00:00,  4.72it/s]\n",
      "100%|█████████████████████████████████████████████████████████████████████████████████████████████████████████████████████| 90/90 [00:09<00:00,  9.29it/s]\n"
     ]
    },
    {
     "name": "stdout",
     "output_type": "stream",
     "text": [
      "Trainig acc: 0.8723   //   Training loss: 0.4044   //   Test acc: 0.7101   //   Test loss: 0.9353\n",
      "early_stop: 1  /   Best acc: 0.7100840336134454\n",
      "Training task 1 in epoch 9. Batch size: 8.\n"
     ]
    },
    {
     "name": "stderr",
     "output_type": "stream",
     "text": [
      "100%|█████████████████████████████████████████████████████████████████████████████████████████████████████████████████████| 94/94 [00:19<00:00,  4.94it/s]\n",
      "100%|█████████████████████████████████████████████████████████████████████████████████████████████████████████████████████| 90/90 [00:10<00:00,  8.71it/s]\n"
     ]
    },
    {
     "name": "stdout",
     "output_type": "stream",
     "text": [
      "Trainig acc: 0.9096   //   Training loss: 0.3131   //   Test acc: 0.7157   //   Test loss: 0.9588\n",
      "early_stop: 1  /   Best acc: 0.7156862745098039\n",
      "Training task 1 in epoch 10. Batch size: 8.\n"
     ]
    },
    {
     "name": "stderr",
     "output_type": "stream",
     "text": [
      "100%|█████████████████████████████████████████████████████████████████████████████████████████████████████████████████████| 94/94 [00:19<00:00,  4.88it/s]\n",
      "100%|█████████████████████████████████████████████████████████████████████████████████████████████████████████████████████| 90/90 [00:10<00:00,  8.94it/s]\n"
     ]
    },
    {
     "name": "stdout",
     "output_type": "stream",
     "text": [
      "Trainig acc: 0.9242   //   Training loss: 0.2745   //   Test acc: 0.7283   //   Test loss: 0.8990\n",
      "early_stop: 1  /   Best acc: 0.7282913165266106\n",
      "Training task 1 in epoch 11. Batch size: 8.\n"
     ]
    },
    {
     "name": "stderr",
     "output_type": "stream",
     "text": [
      "100%|█████████████████████████████████████████████████████████████████████████████████████████████████████████████████████| 94/94 [00:19<00:00,  4.92it/s]\n",
      "100%|█████████████████████████████████████████████████████████████████████████████████████████████████████████████████████| 90/90 [00:10<00:00,  8.93it/s]\n"
     ]
    },
    {
     "name": "stdout",
     "output_type": "stream",
     "text": [
      "Trainig acc: 0.9388   //   Training loss: 0.2094   //   Test acc: 0.7479   //   Test loss: 0.8777\n",
      "early_stop: 1  /   Best acc: 0.7478991596638656\n",
      "Training task 1 in epoch 12. Batch size: 8.\n"
     ]
    },
    {
     "name": "stderr",
     "output_type": "stream",
     "text": [
      "100%|█████████████████████████████████████████████████████████████████████████████████████████████████████████████████████| 94/94 [00:19<00:00,  4.93it/s]\n",
      "100%|█████████████████████████████████████████████████████████████████████████████████████████████████████████████████████| 90/90 [00:10<00:00,  8.75it/s]\n"
     ]
    },
    {
     "name": "stdout",
     "output_type": "stream",
     "text": [
      "Trainig acc: 0.9548   //   Training loss: 0.1573   //   Test acc: 0.7339   //   Test loss: 0.9002\n",
      "early_stop: 2  /   Best acc: 0.7478991596638656\n",
      "Training task 1 in epoch 13. Batch size: 8.\n"
     ]
    },
    {
     "name": "stderr",
     "output_type": "stream",
     "text": [
      "100%|█████████████████████████████████████████████████████████████████████████████████████████████████████████████████████| 94/94 [00:19<00:00,  4.92it/s]\n",
      "100%|█████████████████████████████████████████████████████████████████████████████████████████████████████████████████████| 90/90 [00:09<00:00,  9.06it/s]\n"
     ]
    },
    {
     "name": "stdout",
     "output_type": "stream",
     "text": [
      "Trainig acc: 0.9694   //   Training loss: 0.1225   //   Test acc: 0.7353   //   Test loss: 0.9314\n",
      "early_stop: 3  /   Best acc: 0.7478991596638656\n",
      "Training task 1 in epoch 14. Batch size: 8.\n"
     ]
    },
    {
     "name": "stderr",
     "output_type": "stream",
     "text": [
      "100%|█████████████████████████████████████████████████████████████████████████████████████████████████████████████████████| 94/94 [00:18<00:00,  4.98it/s]\n",
      "100%|█████████████████████████████████████████████████████████████████████████████████████████████████████████████████████| 90/90 [00:10<00:00,  8.83it/s]\n"
     ]
    },
    {
     "name": "stdout",
     "output_type": "stream",
     "text": [
      "Trainig acc: 0.9628   //   Training loss: 0.1301   //   Test acc: 0.7255   //   Test loss: 0.9995\n",
      "early_stop: 4  /   Best acc: 0.7478991596638656\n",
      "Training task 1 in epoch 15. Batch size: 8.\n"
     ]
    },
    {
     "name": "stderr",
     "output_type": "stream",
     "text": [
      "100%|█████████████████████████████████████████████████████████████████████████████████████████████████████████████████████| 94/94 [00:18<00:00,  4.96it/s]\n",
      "100%|█████████████████████████████████████████████████████████████████████████████████████████████████████████████████████| 90/90 [00:09<00:00,  9.19it/s]\n"
     ]
    },
    {
     "name": "stdout",
     "output_type": "stream",
     "text": [
      "Trainig acc: 0.9774   //   Training loss: 0.0865   //   Test acc: 0.7143   //   Test loss: 1.0606\n",
      "early_stop: 5  /   Best acc: 0.7478991596638656\n",
      "Training task 1 in epoch 16. Batch size: 8.\n"
     ]
    },
    {
     "name": "stderr",
     "output_type": "stream",
     "text": [
      "100%|█████████████████████████████████████████████████████████████████████████████████████████████████████████████████████| 94/94 [00:18<00:00,  5.01it/s]\n",
      "100%|█████████████████████████████████████████████████████████████████████████████████████████████████████████████████████| 90/90 [00:09<00:00,  9.22it/s]\n"
     ]
    },
    {
     "name": "stdout",
     "output_type": "stream",
     "text": [
      "Trainig acc: 0.9801   //   Training loss: 0.0847   //   Test acc: 0.7521   //   Test loss: 0.9297\n",
      "early_stop: 1  /   Best acc: 0.7521008403361344\n",
      "Training task 1 in epoch 17. Batch size: 8.\n"
     ]
    },
    {
     "name": "stderr",
     "output_type": "stream",
     "text": [
      "100%|█████████████████████████████████████████████████████████████████████████████████████████████████████████████████████| 94/94 [00:18<00:00,  5.01it/s]\n",
      "100%|█████████████████████████████████████████████████████████████████████████████████████████████████████████████████████| 90/90 [00:09<00:00,  9.53it/s]\n"
     ]
    },
    {
     "name": "stdout",
     "output_type": "stream",
     "text": [
      "Trainig acc: 0.992   //   Training loss: 0.0535   //   Test acc: 0.7339   //   Test loss: 1.0394\n",
      "early_stop: 2  /   Best acc: 0.7521008403361344\n",
      "Training task 1 in epoch 18. Batch size: 8.\n"
     ]
    },
    {
     "name": "stderr",
     "output_type": "stream",
     "text": [
      "100%|█████████████████████████████████████████████████████████████████████████████████████████████████████████████████████| 94/94 [00:18<00:00,  4.95it/s]\n",
      "100%|█████████████████████████████████████████████████████████████████████████████████████████████████████████████████████| 90/90 [00:09<00:00,  9.55it/s]\n"
     ]
    },
    {
     "name": "stdout",
     "output_type": "stream",
     "text": [
      "Trainig acc: 0.9814   //   Training loss: 0.0628   //   Test acc: 0.7381   //   Test loss: 0.9466\n",
      "early_stop: 3  /   Best acc: 0.7521008403361344\n",
      "Training task 1 in epoch 19. Batch size: 8.\n"
     ]
    },
    {
     "name": "stderr",
     "output_type": "stream",
     "text": [
      "100%|█████████████████████████████████████████████████████████████████████████████████████████████████████████████████████| 94/94 [00:18<00:00,  4.99it/s]\n",
      "100%|█████████████████████████████████████████████████████████████████████████████████████████████████████████████████████| 90/90 [00:09<00:00,  9.12it/s]\n"
     ]
    },
    {
     "name": "stdout",
     "output_type": "stream",
     "text": [
      "Trainig acc: 0.9854   //   Training loss: 0.0500   //   Test acc: 0.7479   //   Test loss: 0.9394\n",
      "early_stop: 4  /   Best acc: 0.7521008403361344\n",
      "Training task 1 in epoch 20. Batch size: 8.\n"
     ]
    },
    {
     "name": "stderr",
     "output_type": "stream",
     "text": [
      "100%|█████████████████████████████████████████████████████████████████████████████████████████████████████████████████████| 94/94 [00:18<00:00,  4.97it/s]\n",
      "100%|█████████████████████████████████████████████████████████████████████████████████████████████████████████████████████| 90/90 [00:09<00:00,  9.16it/s]\n"
     ]
    },
    {
     "name": "stdout",
     "output_type": "stream",
     "text": [
      "Trainig acc: 0.996   //   Training loss: 0.0263   //   Test acc: 0.7521   //   Test loss: 0.9482\n",
      "early_stop: 5  /   Best acc: 0.7521008403361344\n",
      "Training task 1 in epoch 21. Batch size: 8.\n"
     ]
    },
    {
     "name": "stderr",
     "output_type": "stream",
     "text": [
      "100%|█████████████████████████████████████████████████████████████████████████████████████████████████████████████████████| 94/94 [00:18<00:00,  4.99it/s]\n",
      "100%|█████████████████████████████████████████████████████████████████████████████████████████████████████████████████████| 90/90 [00:09<00:00,  9.32it/s]\n"
     ]
    },
    {
     "name": "stdout",
     "output_type": "stream",
     "text": [
      "Trainig acc: 0.9947   //   Training loss: 0.0307   //   Test acc: 0.7465   //   Test loss: 0.9271\n",
      "early_stop: 6  /   Best acc: 0.7521008403361344\n",
      "Training task 1 in epoch 22. Batch size: 8.\n"
     ]
    },
    {
     "name": "stderr",
     "output_type": "stream",
     "text": [
      "100%|█████████████████████████████████████████████████████████████████████████████████████████████████████████████████████| 94/94 [00:18<00:00,  5.00it/s]\n",
      "100%|█████████████████████████████████████████████████████████████████████████████████████████████████████████████████████| 90/90 [00:09<00:00,  9.05it/s]\n"
     ]
    },
    {
     "name": "stdout",
     "output_type": "stream",
     "text": [
      "Trainig acc: 0.9907   //   Training loss: 0.0337   //   Test acc: 0.7479   //   Test loss: 0.9353\n",
      "early_stop: 7  /   Best acc: 0.7521008403361344\n",
      "Training task 1 in epoch 23. Batch size: 8.\n"
     ]
    },
    {
     "name": "stderr",
     "output_type": "stream",
     "text": [
      "100%|█████████████████████████████████████████████████████████████████████████████████████████████████████████████████████| 94/94 [00:18<00:00,  4.98it/s]\n",
      "100%|█████████████████████████████████████████████████████████████████████████████████████████████████████████████████████| 90/90 [00:09<00:00,  9.24it/s]\n"
     ]
    },
    {
     "name": "stdout",
     "output_type": "stream",
     "text": [
      "Trainig acc: 0.9907   //   Training loss: 0.0301   //   Test acc: 0.7479   //   Test loss: 0.9689\n",
      "early_stop: 8  /   Best acc: 0.7521008403361344\n",
      "Training task 1 in epoch 24. Batch size: 8.\n"
     ]
    },
    {
     "name": "stderr",
     "output_type": "stream",
     "text": [
      "100%|█████████████████████████████████████████████████████████████████████████████████████████████████████████████████████| 94/94 [00:18<00:00,  4.96it/s]\n",
      "100%|█████████████████████████████████████████████████████████████████████████████████████████████████████████████████████| 90/90 [00:10<00:00,  8.83it/s]\n"
     ]
    },
    {
     "name": "stdout",
     "output_type": "stream",
     "text": [
      "Trainig acc: 0.9907   //   Training loss: 0.0283   //   Test acc: 0.7633   //   Test loss: 0.9227\n",
      "early_stop: 1  /   Best acc: 0.7633053221288515\n",
      "Training task 1 in epoch 25. Batch size: 8.\n"
     ]
    },
    {
     "name": "stderr",
     "output_type": "stream",
     "text": [
      "100%|█████████████████████████████████████████████████████████████████████████████████████████████████████████████████████| 94/94 [00:18<00:00,  5.01it/s]\n",
      "100%|█████████████████████████████████████████████████████████████████████████████████████████████████████████████████████| 90/90 [00:10<00:00,  8.77it/s]\n"
     ]
    },
    {
     "name": "stdout",
     "output_type": "stream",
     "text": [
      "Trainig acc: 0.984   //   Training loss: 0.0361   //   Test acc: 0.7535   //   Test loss: 0.9335\n",
      "early_stop: 2  /   Best acc: 0.7633053221288515\n",
      "Training task 1 in epoch 26. Batch size: 8.\n"
     ]
    },
    {
     "name": "stderr",
     "output_type": "stream",
     "text": [
      "100%|█████████████████████████████████████████████████████████████████████████████████████████████████████████████████████| 94/94 [00:18<00:00,  4.95it/s]\n",
      "100%|█████████████████████████████████████████████████████████████████████████████████████████████████████████████████████| 90/90 [00:10<00:00,  8.95it/s]\n"
     ]
    },
    {
     "name": "stdout",
     "output_type": "stream",
     "text": [
      "Trainig acc: 0.984   //   Training loss: 0.0376   //   Test acc: 0.7507   //   Test loss: 0.9341\n",
      "early_stop: 3  /   Best acc: 0.7633053221288515\n",
      "Training task 1 in epoch 27. Batch size: 8.\n"
     ]
    },
    {
     "name": "stderr",
     "output_type": "stream",
     "text": [
      "100%|█████████████████████████████████████████████████████████████████████████████████████████████████████████████████████| 94/94 [00:18<00:00,  4.95it/s]\n",
      "100%|█████████████████████████████████████████████████████████████████████████████████████████████████████████████████████| 90/90 [00:09<00:00,  9.06it/s]\n"
     ]
    },
    {
     "name": "stdout",
     "output_type": "stream",
     "text": [
      "Trainig acc: 0.992   //   Training loss: 0.0284   //   Test acc: 0.7535   //   Test loss: 0.9758\n",
      "early_stop: 4  /   Best acc: 0.7633053221288515\n",
      "Training task 1 in epoch 28. Batch size: 8.\n"
     ]
    },
    {
     "name": "stderr",
     "output_type": "stream",
     "text": [
      "100%|█████████████████████████████████████████████████████████████████████████████████████████████████████████████████████| 94/94 [00:19<00:00,  4.92it/s]\n",
      "100%|█████████████████████████████████████████████████████████████████████████████████████████████████████████████████████| 90/90 [00:09<00:00,  9.26it/s]\n"
     ]
    },
    {
     "name": "stdout",
     "output_type": "stream",
     "text": [
      "Trainig acc: 0.9934   //   Training loss: 0.0262   //   Test acc: 0.7521   //   Test loss: 0.9221\n",
      "early_stop: 5  /   Best acc: 0.7633053221288515\n",
      "Training task 1 in epoch 29. Batch size: 8.\n"
     ]
    },
    {
     "name": "stderr",
     "output_type": "stream",
     "text": [
      "100%|█████████████████████████████████████████████████████████████████████████████████████████████████████████████████████| 94/94 [00:18<00:00,  4.98it/s]\n",
      "100%|█████████████████████████████████████████████████████████████████████████████████████████████████████████████████████| 90/90 [00:09<00:00,  9.18it/s]\n"
     ]
    },
    {
     "name": "stdout",
     "output_type": "stream",
     "text": [
      "Trainig acc: 0.988   //   Training loss: 0.0381   //   Test acc: 0.7535   //   Test loss: 0.9625\n",
      "early_stop: 6  /   Best acc: 0.7633053221288515\n",
      "Training task 1 in epoch 30. Batch size: 8.\n"
     ]
    },
    {
     "name": "stderr",
     "output_type": "stream",
     "text": [
      "100%|█████████████████████████████████████████████████████████████████████████████████████████████████████████████████████| 94/94 [00:18<00:00,  4.98it/s]\n",
      "100%|█████████████████████████████████████████████████████████████████████████████████████████████████████████████████████| 90/90 [00:09<00:00,  9.15it/s]\n"
     ]
    },
    {
     "name": "stdout",
     "output_type": "stream",
     "text": [
      "Trainig acc: 0.988   //   Training loss: 0.0285   //   Test acc: 0.7549   //   Test loss: 0.9411\n",
      "early_stop: 7  /   Best acc: 0.7633053221288515\n",
      "Training task 1 in epoch 31. Batch size: 8.\n"
     ]
    },
    {
     "name": "stderr",
     "output_type": "stream",
     "text": [
      "100%|█████████████████████████████████████████████████████████████████████████████████████████████████████████████████████| 94/94 [00:18<00:00,  4.99it/s]\n",
      "100%|█████████████████████████████████████████████████████████████████████████████████████████████████████████████████████| 90/90 [00:09<00:00,  9.01it/s]\n"
     ]
    },
    {
     "name": "stdout",
     "output_type": "stream",
     "text": [
      "Trainig acc: 0.9934   //   Training loss: 0.0195   //   Test acc: 0.7563   //   Test loss: 0.9365\n",
      "early_stop: 8  /   Best acc: 0.7633053221288515\n",
      "Training task 1 in epoch 32. Batch size: 8.\n"
     ]
    },
    {
     "name": "stderr",
     "output_type": "stream",
     "text": [
      "100%|█████████████████████████████████████████████████████████████████████████████████████████████████████████████████████| 94/94 [00:18<00:00,  5.00it/s]\n",
      "100%|█████████████████████████████████████████████████████████████████████████████████████████████████████████████████████| 90/90 [00:09<00:00,  9.38it/s]\n"
     ]
    },
    {
     "name": "stdout",
     "output_type": "stream",
     "text": [
      "Trainig acc: 0.9854   //   Training loss: 0.0343   //   Test acc: 0.7493   //   Test loss: 0.9416\n",
      "early_stop: 9  /   Best acc: 0.7633053221288515\n",
      "Training task 1 in epoch 33. Batch size: 8.\n"
     ]
    },
    {
     "name": "stderr",
     "output_type": "stream",
     "text": [
      "100%|█████████████████████████████████████████████████████████████████████████████████████████████████████████████████████| 94/94 [00:18<00:00,  4.97it/s]\n",
      "100%|█████████████████████████████████████████████████████████████████████████████████████████████████████████████████████| 90/90 [00:09<00:00,  9.12it/s]\n"
     ]
    },
    {
     "name": "stdout",
     "output_type": "stream",
     "text": [
      "Trainig acc: 0.9907   //   Training loss: 0.0254   //   Test acc: 0.7619   //   Test loss: 0.9603\n",
      "early_stop: 10  /   Best acc: 0.7633053221288515\n",
      "Training task 1 in epoch 34. Batch size: 8.\n"
     ]
    },
    {
     "name": "stderr",
     "output_type": "stream",
     "text": [
      "100%|█████████████████████████████████████████████████████████████████████████████████████████████████████████████████████| 94/94 [00:18<00:00,  5.00it/s]\n",
      "100%|█████████████████████████████████████████████████████████████████████████████████████████████████████████████████████| 90/90 [00:11<00:00,  8.14it/s]\n"
     ]
    },
    {
     "name": "stdout",
     "output_type": "stream",
     "text": [
      "Trainig acc: 0.9867   //   Training loss: 0.0307   //   Test acc: 0.7549   //   Test loss: 0.9714\n",
      "early_stop: 11  /   Best acc: 0.7633053221288515\n",
      "Training task 1 in epoch 35. Batch size: 8.\n"
     ]
    },
    {
     "name": "stderr",
     "output_type": "stream",
     "text": [
      "100%|█████████████████████████████████████████████████████████████████████████████████████████████████████████████████████| 94/94 [00:19<00:00,  4.81it/s]\n",
      "100%|█████████████████████████████████████████████████████████████████████████████████████████████████████████████████████| 90/90 [00:10<00:00,  8.53it/s]\n"
     ]
    },
    {
     "name": "stdout",
     "output_type": "stream",
     "text": [
      "---------------------------------------- TASK_2 ----------------------------------------\n",
      "Training task 2 in epoch 0. Batch size: 8.\n"
     ]
    },
    {
     "name": "stderr",
     "output_type": "stream",
     "text": [
      "100%|█████████████████████████████████████████████████████████████████████████████████████████████████████████████████████| 94/94 [00:19<00:00,  4.88it/s]\n",
      "100%|█████████████████████████████████████████████████████████████████████████████████████████████████████████████████████| 94/94 [00:11<00:00,  8.10it/s]\n"
     ]
    },
    {
     "name": "stdout",
     "output_type": "stream",
     "text": [
      "Trainig acc: 0.05452   //   Training loss: 4.5413   //   Test acc: 0.2513   //   Test loss: 2.8639\n",
      "early_stop: 1  /   Best acc: 0.25133689839572193\n",
      "Training task 2 in epoch 1. Batch size: 8.\n"
     ]
    },
    {
     "name": "stderr",
     "output_type": "stream",
     "text": [
      "100%|█████████████████████████████████████████████████████████████████████████████████████████████████████████████████████| 94/94 [00:19<00:00,  4.81it/s]\n",
      "100%|█████████████████████████████████████████████████████████████████████████████████████████████████████████████████████| 94/94 [00:11<00:00,  8.23it/s]\n"
     ]
    },
    {
     "name": "stdout",
     "output_type": "stream",
     "text": [
      "Trainig acc: 0.2194   //   Training loss: 2.6517   //   Test acc: 0.4345   //   Test loss: 1.9454\n",
      "early_stop: 1  /   Best acc: 0.4344919786096257\n",
      "Training task 2 in epoch 2. Batch size: 8.\n"
     ]
    },
    {
     "name": "stderr",
     "output_type": "stream",
     "text": [
      "100%|█████████████████████████████████████████████████████████████████████████████████████████████████████████████████████| 94/94 [00:19<00:00,  4.77it/s]\n",
      "100%|█████████████████████████████████████████████████████████████████████████████████████████████████████████████████████| 94/94 [00:11<00:00,  8.45it/s]\n"
     ]
    },
    {
     "name": "stdout",
     "output_type": "stream",
     "text": [
      "Trainig acc: 0.4295   //   Training loss: 1.9274   //   Test acc: 0.5254   //   Test loss: 1.5630\n",
      "early_stop: 1  /   Best acc: 0.5254010695187166\n",
      "Training task 2 in epoch 3. Batch size: 8.\n"
     ]
    },
    {
     "name": "stderr",
     "output_type": "stream",
     "text": [
      "100%|█████████████████████████████████████████████████████████████████████████████████████████████████████████████████████| 94/94 [00:19<00:00,  4.83it/s]\n",
      "100%|█████████████████████████████████████████████████████████████████████████████████████████████████████████████████████| 94/94 [00:11<00:00,  8.18it/s]\n"
     ]
    },
    {
     "name": "stdout",
     "output_type": "stream",
     "text": [
      "Trainig acc: 0.5332   //   Training loss: 1.5415   //   Test acc: 0.5709   //   Test loss: 1.3543\n",
      "early_stop: 1  /   Best acc: 0.570855614973262\n",
      "Training task 2 in epoch 4. Batch size: 8.\n"
     ]
    },
    {
     "name": "stderr",
     "output_type": "stream",
     "text": [
      "100%|█████████████████████████████████████████████████████████████████████████████████████████████████████████████████████| 94/94 [00:19<00:00,  4.88it/s]\n",
      "100%|█████████████████████████████████████████████████████████████████████████████████████████████████████████████████████| 94/94 [00:10<00:00,  8.81it/s]\n"
     ]
    },
    {
     "name": "stdout",
     "output_type": "stream",
     "text": [
      "Trainig acc: 0.5997   //   Training loss: 1.2298   //   Test acc: 0.5909   //   Test loss: 1.2211\n",
      "early_stop: 1  /   Best acc: 0.5909090909090909\n",
      "Training task 2 in epoch 5. Batch size: 8.\n"
     ]
    },
    {
     "name": "stderr",
     "output_type": "stream",
     "text": [
      "100%|█████████████████████████████████████████████████████████████████████████████████████████████████████████████████████| 94/94 [00:19<00:00,  4.91it/s]\n",
      "100%|█████████████████████████████████████████████████████████████████████████████████████████████████████████████████████| 94/94 [00:11<00:00,  8.21it/s]\n"
     ]
    },
    {
     "name": "stdout",
     "output_type": "stream",
     "text": [
      "Trainig acc: 0.6928   //   Training loss: 0.9819   //   Test acc: 0.6217   //   Test loss: 1.1375\n",
      "early_stop: 1  /   Best acc: 0.6216577540106952\n",
      "Training task 2 in epoch 6. Batch size: 8.\n"
     ]
    },
    {
     "name": "stderr",
     "output_type": "stream",
     "text": [
      "100%|█████████████████████████████████████████████████████████████████████████████████████████████████████████████████████| 94/94 [00:19<00:00,  4.84it/s]\n",
      "100%|█████████████████████████████████████████████████████████████████████████████████████████████████████████████████████| 94/94 [00:11<00:00,  8.40it/s]\n"
     ]
    },
    {
     "name": "stdout",
     "output_type": "stream",
     "text": [
      "Trainig acc: 0.7633   //   Training loss: 0.7852   //   Test acc: 0.6457   //   Test loss: 1.0726\n",
      "early_stop: 1  /   Best acc: 0.6457219251336899\n",
      "Training task 2 in epoch 7. Batch size: 8.\n"
     ]
    },
    {
     "name": "stderr",
     "output_type": "stream",
     "text": [
      "100%|█████████████████████████████████████████████████████████████████████████████████████████████████████████████████████| 94/94 [00:19<00:00,  4.85it/s]\n",
      "100%|█████████████████████████████████████████████████████████████████████████████████████████████████████████████████████| 94/94 [00:11<00:00,  8.34it/s]\n"
     ]
    },
    {
     "name": "stdout",
     "output_type": "stream",
     "text": [
      "Trainig acc: 0.7886   //   Training loss: 0.6640   //   Test acc: 0.6551   //   Test loss: 1.0317\n",
      "early_stop: 1  /   Best acc: 0.6550802139037433\n",
      "Training task 2 in epoch 8. Batch size: 8.\n"
     ]
    },
    {
     "name": "stderr",
     "output_type": "stream",
     "text": [
      "100%|█████████████████████████████████████████████████████████████████████████████████████████████████████████████████████| 94/94 [00:19<00:00,  4.86it/s]\n",
      "100%|█████████████████████████████████████████████████████████████████████████████████████████████████████████████████████| 94/94 [00:11<00:00,  8.28it/s]\n"
     ]
    },
    {
     "name": "stdout",
     "output_type": "stream",
     "text": [
      "Trainig acc: 0.8271   //   Training loss: 0.5335   //   Test acc: 0.6658   //   Test loss: 1.0019\n",
      "early_stop: 1  /   Best acc: 0.6657754010695187\n",
      "Training task 2 in epoch 9. Batch size: 8.\n"
     ]
    },
    {
     "name": "stderr",
     "output_type": "stream",
     "text": [
      "100%|█████████████████████████████████████████████████████████████████████████████████████████████████████████████████████| 94/94 [00:19<00:00,  4.81it/s]\n",
      "100%|█████████████████████████████████████████████████████████████████████████████████████████████████████████████████████| 94/94 [00:11<00:00,  8.01it/s]\n"
     ]
    },
    {
     "name": "stdout",
     "output_type": "stream",
     "text": [
      "Trainig acc: 0.8564   //   Training loss: 0.4479   //   Test acc: 0.6751   //   Test loss: 1.0012\n",
      "early_stop: 1  /   Best acc: 0.6751336898395722\n",
      "Training task 2 in epoch 10. Batch size: 8.\n"
     ]
    },
    {
     "name": "stderr",
     "output_type": "stream",
     "text": [
      "100%|█████████████████████████████████████████████████████████████████████████████████████████████████████████████████████| 94/94 [00:19<00:00,  4.77it/s]\n",
      "100%|█████████████████████████████████████████████████████████████████████████████████████████████████████████████████████| 94/94 [00:11<00:00,  8.41it/s]\n"
     ]
    },
    {
     "name": "stdout",
     "output_type": "stream",
     "text": [
      "Trainig acc: 0.9043   //   Training loss: 0.3354   //   Test acc: 0.6564   //   Test loss: 1.0216\n",
      "early_stop: 2  /   Best acc: 0.6751336898395722\n",
      "Training task 2 in epoch 11. Batch size: 8.\n"
     ]
    },
    {
     "name": "stderr",
     "output_type": "stream",
     "text": [
      "100%|█████████████████████████████████████████████████████████████████████████████████████████████████████████████████████| 94/94 [00:19<00:00,  4.76it/s]\n",
      "100%|█████████████████████████████████████████████████████████████████████████████████████████████████████████████████████| 94/94 [00:11<00:00,  8.43it/s]\n"
     ]
    },
    {
     "name": "stdout",
     "output_type": "stream",
     "text": [
      "Trainig acc: 0.9202   //   Training loss: 0.2699   //   Test acc: 0.6725   //   Test loss: 0.9852\n",
      "early_stop: 3  /   Best acc: 0.6751336898395722\n",
      "Training task 2 in epoch 12. Batch size: 8.\n"
     ]
    },
    {
     "name": "stderr",
     "output_type": "stream",
     "text": [
      "100%|█████████████████████████████████████████████████████████████████████████████████████████████████████████████████████| 94/94 [00:19<00:00,  4.74it/s]\n",
      "100%|█████████████████████████████████████████████████████████████████████████████████████████████████████████████████████| 94/94 [00:11<00:00,  7.99it/s]\n"
     ]
    },
    {
     "name": "stdout",
     "output_type": "stream",
     "text": [
      "Trainig acc: 0.9322   //   Training loss: 0.2335   //   Test acc: 0.6658   //   Test loss: 1.0437\n",
      "early_stop: 4  /   Best acc: 0.6751336898395722\n",
      "Training task 2 in epoch 13. Batch size: 8.\n"
     ]
    },
    {
     "name": "stderr",
     "output_type": "stream",
     "text": [
      "100%|█████████████████████████████████████████████████████████████████████████████████████████████████████████████████████| 94/94 [00:19<00:00,  4.71it/s]\n",
      "100%|█████████████████████████████████████████████████████████████████████████████████████████████████████████████████████| 94/94 [00:11<00:00,  8.22it/s]\n"
     ]
    },
    {
     "name": "stdout",
     "output_type": "stream",
     "text": [
      "Trainig acc: 0.9375   //   Training loss: 0.1890   //   Test acc: 0.6805   //   Test loss: 1.0155\n",
      "early_stop: 1  /   Best acc: 0.68048128342246\n",
      "Training task 2 in epoch 14. Batch size: 8.\n"
     ]
    },
    {
     "name": "stderr",
     "output_type": "stream",
     "text": [
      "100%|█████████████████████████████████████████████████████████████████████████████████████████████████████████████████████| 94/94 [00:19<00:00,  4.78it/s]\n",
      "100%|█████████████████████████████████████████████████████████████████████████████████████████████████████████████████████| 94/94 [00:11<00:00,  8.08it/s]\n"
     ]
    },
    {
     "name": "stdout",
     "output_type": "stream",
     "text": [
      "Trainig acc: 0.9521   //   Training loss: 0.1704   //   Test acc: 0.6845   //   Test loss: 1.0950\n",
      "early_stop: 1  /   Best acc: 0.6844919786096256\n",
      "Training task 2 in epoch 15. Batch size: 8.\n"
     ]
    },
    {
     "name": "stderr",
     "output_type": "stream",
     "text": [
      "100%|█████████████████████████████████████████████████████████████████████████████████████████████████████████████████████| 94/94 [00:19<00:00,  4.87it/s]\n",
      "100%|█████████████████████████████████████████████████████████████████████████████████████████████████████████████████████| 94/94 [00:11<00:00,  8.07it/s]\n"
     ]
    },
    {
     "name": "stdout",
     "output_type": "stream",
     "text": [
      "Trainig acc: 0.9574   //   Training loss: 0.1374   //   Test acc: 0.6939   //   Test loss: 1.0438\n",
      "early_stop: 1  /   Best acc: 0.6938502673796791\n",
      "Training task 2 in epoch 16. Batch size: 8.\n"
     ]
    },
    {
     "name": "stderr",
     "output_type": "stream",
     "text": [
      "100%|█████████████████████████████████████████████████████████████████████████████████████████████████████████████████████| 94/94 [00:19<00:00,  4.77it/s]\n",
      "100%|█████████████████████████████████████████████████████████████████████████████████████████████████████████████████████| 94/94 [00:11<00:00,  8.12it/s]\n"
     ]
    },
    {
     "name": "stdout",
     "output_type": "stream",
     "text": [
      "Trainig acc: 0.9628   //   Training loss: 0.1085   //   Test acc: 0.6885   //   Test loss: 1.0843\n",
      "early_stop: 2  /   Best acc: 0.6938502673796791\n",
      "Training task 2 in epoch 17. Batch size: 8.\n"
     ]
    },
    {
     "name": "stderr",
     "output_type": "stream",
     "text": [
      "100%|█████████████████████████████████████████████████████████████████████████████████████████████████████████████████████| 94/94 [00:19<00:00,  4.76it/s]\n",
      "100%|█████████████████████████████████████████████████████████████████████████████████████████████████████████████████████| 94/94 [00:11<00:00,  8.13it/s]\n"
     ]
    },
    {
     "name": "stdout",
     "output_type": "stream",
     "text": [
      "Trainig acc: 0.9721   //   Training loss: 0.0927   //   Test acc: 0.6912   //   Test loss: 1.1039\n",
      "early_stop: 3  /   Best acc: 0.6938502673796791\n",
      "Training task 2 in epoch 18. Batch size: 8.\n"
     ]
    },
    {
     "name": "stderr",
     "output_type": "stream",
     "text": [
      "100%|█████████████████████████████████████████████████████████████████████████████████████████████████████████████████████| 94/94 [00:19<00:00,  4.75it/s]\n",
      "100%|█████████████████████████████████████████████████████████████████████████████████████████████████████████████████████| 94/94 [00:11<00:00,  8.10it/s]\n"
     ]
    },
    {
     "name": "stdout",
     "output_type": "stream",
     "text": [
      "Trainig acc: 0.9734   //   Training loss: 0.0802   //   Test acc: 0.6751   //   Test loss: 1.1308\n",
      "early_stop: 4  /   Best acc: 0.6938502673796791\n",
      "Training task 2 in epoch 19. Batch size: 8.\n"
     ]
    },
    {
     "name": "stderr",
     "output_type": "stream",
     "text": [
      "100%|█████████████████████████████████████████████████████████████████████████████████████████████████████████████████████| 94/94 [00:19<00:00,  4.77it/s]\n",
      "100%|█████████████████████████████████████████████████████████████████████████████████████████████████████████████████████| 94/94 [00:11<00:00,  7.90it/s]\n"
     ]
    },
    {
     "name": "stdout",
     "output_type": "stream",
     "text": [
      "Trainig acc: 0.9707   //   Training loss: 0.0911   //   Test acc: 0.7005   //   Test loss: 1.0941\n",
      "early_stop: 1  /   Best acc: 0.7005347593582888\n",
      "Training task 2 in epoch 20. Batch size: 8.\n"
     ]
    },
    {
     "name": "stderr",
     "output_type": "stream",
     "text": [
      "100%|█████████████████████████████████████████████████████████████████████████████████████████████████████████████████████| 94/94 [00:19<00:00,  4.82it/s]\n",
      "100%|█████████████████████████████████████████████████████████████████████████████████████████████████████████████████████| 94/94 [00:11<00:00,  7.92it/s]\n"
     ]
    },
    {
     "name": "stdout",
     "output_type": "stream",
     "text": [
      "Trainig acc: 0.9814   //   Training loss: 0.0630   //   Test acc: 0.6952   //   Test loss: 1.1060\n",
      "early_stop: 2  /   Best acc: 0.7005347593582888\n",
      "Training task 2 in epoch 21. Batch size: 8.\n"
     ]
    },
    {
     "name": "stderr",
     "output_type": "stream",
     "text": [
      "100%|█████████████████████████████████████████████████████████████████████████████████████████████████████████████████████| 94/94 [00:19<00:00,  4.77it/s]\n",
      "100%|█████████████████████████████████████████████████████████████████████████████████████████████████████████████████████| 94/94 [00:11<00:00,  8.02it/s]\n"
     ]
    },
    {
     "name": "stdout",
     "output_type": "stream",
     "text": [
      "Trainig acc: 0.9814   //   Training loss: 0.0526   //   Test acc: 0.6858   //   Test loss: 1.1405\n",
      "early_stop: 3  /   Best acc: 0.7005347593582888\n",
      "Training task 2 in epoch 22. Batch size: 8.\n"
     ]
    },
    {
     "name": "stderr",
     "output_type": "stream",
     "text": [
      "100%|█████████████████████████████████████████████████████████████████████████████████████████████████████████████████████| 94/94 [00:19<00:00,  4.75it/s]\n",
      "100%|█████████████████████████████████████████████████████████████████████████████████████████████████████████████████████| 94/94 [00:11<00:00,  8.12it/s]\n"
     ]
    },
    {
     "name": "stdout",
     "output_type": "stream",
     "text": [
      "Trainig acc: 0.9801   //   Training loss: 0.0521   //   Test acc: 0.6925   //   Test loss: 1.1712\n",
      "early_stop: 4  /   Best acc: 0.7005347593582888\n",
      "Training task 2 in epoch 23. Batch size: 8.\n"
     ]
    },
    {
     "name": "stderr",
     "output_type": "stream",
     "text": [
      "100%|█████████████████████████████████████████████████████████████████████████████████████████████████████████████████████| 94/94 [00:19<00:00,  4.71it/s]\n",
      "100%|█████████████████████████████████████████████████████████████████████████████████████████████████████████████████████| 94/94 [00:11<00:00,  8.00it/s]\n"
     ]
    },
    {
     "name": "stdout",
     "output_type": "stream",
     "text": [
      "Trainig acc: 0.9867   //   Training loss: 0.0398   //   Test acc: 0.6965   //   Test loss: 1.1843\n",
      "early_stop: 5  /   Best acc: 0.7005347593582888\n",
      "Training task 2 in epoch 24. Batch size: 8.\n"
     ]
    },
    {
     "name": "stderr",
     "output_type": "stream",
     "text": [
      "100%|█████████████████████████████████████████████████████████████████████████████████████████████████████████████████████| 94/94 [00:19<00:00,  4.75it/s]\n",
      "100%|█████████████████████████████████████████████████████████████████████████████████████████████████████████████████████| 94/94 [00:11<00:00,  8.24it/s]\n"
     ]
    },
    {
     "name": "stdout",
     "output_type": "stream",
     "text": [
      "Trainig acc: 0.9827   //   Training loss: 0.0426   //   Test acc: 0.6885   //   Test loss: 1.1691\n",
      "early_stop: 6  /   Best acc: 0.7005347593582888\n",
      "Training task 2 in epoch 25. Batch size: 8.\n"
     ]
    },
    {
     "name": "stderr",
     "output_type": "stream",
     "text": [
      "100%|█████████████████████████████████████████████████████████████████████████████████████████████████████████████████████| 94/94 [00:19<00:00,  4.83it/s]\n",
      "100%|█████████████████████████████████████████████████████████████████████████████████████████████████████████████████████| 94/94 [00:11<00:00,  8.19it/s]\n"
     ]
    },
    {
     "name": "stdout",
     "output_type": "stream",
     "text": [
      "Trainig acc: 0.988   //   Training loss: 0.0341   //   Test acc: 0.6898   //   Test loss: 1.1566\n",
      "early_stop: 7  /   Best acc: 0.7005347593582888\n",
      "Training task 2 in epoch 26. Batch size: 8.\n"
     ]
    },
    {
     "name": "stderr",
     "output_type": "stream",
     "text": [
      "100%|█████████████████████████████████████████████████████████████████████████████████████████████████████████████████████| 94/94 [00:19<00:00,  4.79it/s]\n",
      "100%|█████████████████████████████████████████████████████████████████████████████████████████████████████████████████████| 94/94 [00:11<00:00,  8.22it/s]\n"
     ]
    },
    {
     "name": "stdout",
     "output_type": "stream",
     "text": [
      "Trainig acc: 0.9827   //   Training loss: 0.0398   //   Test acc: 0.6912   //   Test loss: 1.1586\n",
      "early_stop: 8  /   Best acc: 0.7005347593582888\n",
      "Training task 2 in epoch 27. Batch size: 8.\n"
     ]
    },
    {
     "name": "stderr",
     "output_type": "stream",
     "text": [
      "100%|█████████████████████████████████████████████████████████████████████████████████████████████████████████████████████| 94/94 [00:19<00:00,  4.70it/s]\n",
      "100%|█████████████████████████████████████████████████████████████████████████████████████████████████████████████████████| 94/94 [00:11<00:00,  8.25it/s]\n"
     ]
    },
    {
     "name": "stdout",
     "output_type": "stream",
     "text": [
      "Trainig acc: 0.9814   //   Training loss: 0.0359   //   Test acc: 0.6952   //   Test loss: 1.1730\n",
      "early_stop: 9  /   Best acc: 0.7005347593582888\n",
      "Training task 2 in epoch 28. Batch size: 8.\n"
     ]
    },
    {
     "name": "stderr",
     "output_type": "stream",
     "text": [
      "100%|█████████████████████████████████████████████████████████████████████████████████████████████████████████████████████| 94/94 [00:19<00:00,  4.85it/s]\n",
      "100%|█████████████████████████████████████████████████████████████████████████████████████████████████████████████████████| 94/94 [00:11<00:00,  8.29it/s]\n"
     ]
    },
    {
     "name": "stdout",
     "output_type": "stream",
     "text": [
      "Trainig acc: 0.9894   //   Training loss: 0.0282   //   Test acc: 0.6791   //   Test loss: 1.1528\n",
      "early_stop: 10  /   Best acc: 0.7005347593582888\n",
      "Training task 2 in epoch 29. Batch size: 8.\n"
     ]
    },
    {
     "name": "stderr",
     "output_type": "stream",
     "text": [
      "100%|█████████████████████████████████████████████████████████████████████████████████████████████████████████████████████| 94/94 [00:19<00:00,  4.86it/s]\n",
      "100%|█████████████████████████████████████████████████████████████████████████████████████████████████████████████████████| 94/94 [00:11<00:00,  8.11it/s]\n"
     ]
    },
    {
     "name": "stdout",
     "output_type": "stream",
     "text": [
      "Trainig acc: 0.9867   //   Training loss: 0.0348   //   Test acc: 0.6898   //   Test loss: 1.1763\n",
      "early_stop: 11  /   Best acc: 0.7005347593582888\n",
      "Training task 2 in epoch 30. Batch size: 8.\n"
     ]
    },
    {
     "name": "stderr",
     "output_type": "stream",
     "text": [
      "100%|█████████████████████████████████████████████████████████████████████████████████████████████████████████████████████| 94/94 [00:19<00:00,  4.76it/s]\n",
      "100%|█████████████████████████████████████████████████████████████████████████████████████████████████████████████████████| 94/94 [00:11<00:00,  8.33it/s]\n"
     ]
    },
    {
     "name": "stdout",
     "output_type": "stream",
     "text": [
      "---------------------------------------- TASK_3 ----------------------------------------\n",
      "Training task 3 in epoch 0. Batch size: 8.\n"
     ]
    },
    {
     "name": "stderr",
     "output_type": "stream",
     "text": [
      "100%|█████████████████████████████████████████████████████████████████████████████████████████████████████████████████████| 94/94 [00:18<00:00,  5.04it/s]\n",
      "100%|█████████████████████████████████████████████████████████████████████████████████████████████████████████████████████| 92/92 [00:11<00:00,  8.17it/s]\n"
     ]
    },
    {
     "name": "stdout",
     "output_type": "stream",
     "text": [
      "Trainig acc: 0.03856   //   Training loss: 4.8340   //   Test acc: 0.1279   //   Test loss: 3.5051\n",
      "early_stop: 1  /   Best acc: 0.12789115646258503\n",
      "Training task 3 in epoch 1. Batch size: 8.\n"
     ]
    },
    {
     "name": "stderr",
     "output_type": "stream",
     "text": [
      "100%|█████████████████████████████████████████████████████████████████████████████████████████████████████████████████████| 94/94 [00:20<00:00,  4.70it/s]\n",
      "100%|█████████████████████████████████████████████████████████████████████████████████████████████████████████████████████| 92/92 [00:11<00:00,  8.08it/s]\n"
     ]
    },
    {
     "name": "stdout",
     "output_type": "stream",
     "text": [
      "Trainig acc: 0.1543   //   Training loss: 3.0410   //   Test acc: 0.3456   //   Test loss: 2.5037\n",
      "early_stop: 1  /   Best acc: 0.345578231292517\n",
      "Training task 3 in epoch 2. Batch size: 8.\n"
     ]
    },
    {
     "name": "stderr",
     "output_type": "stream",
     "text": [
      "100%|█████████████████████████████████████████████████████████████████████████████████████████████████████████████████████| 94/94 [00:19<00:00,  4.78it/s]\n",
      "100%|█████████████████████████████████████████████████████████████████████████████████████████████████████████████████████| 92/92 [00:11<00:00,  7.73it/s]\n"
     ]
    },
    {
     "name": "stdout",
     "output_type": "stream",
     "text": [
      "Trainig acc: 0.3178   //   Training loss: 2.3116   //   Test acc: 0.4844   //   Test loss: 1.9257\n",
      "early_stop: 1  /   Best acc: 0.48435374149659866\n",
      "Training task 3 in epoch 3. Batch size: 8.\n"
     ]
    },
    {
     "name": "stderr",
     "output_type": "stream",
     "text": [
      "100%|█████████████████████████████████████████████████████████████████████████████████████████████████████████████████████| 94/94 [00:19<00:00,  4.70it/s]\n",
      "100%|█████████████████████████████████████████████████████████████████████████████████████████████████████████████████████| 92/92 [00:10<00:00,  8.62it/s]\n"
     ]
    },
    {
     "name": "stdout",
     "output_type": "stream",
     "text": [
      "Trainig acc: 0.512   //   Training loss: 1.8041   //   Test acc: 0.5755   //   Test loss: 1.5640\n",
      "early_stop: 1  /   Best acc: 0.5755102040816327\n",
      "Training task 3 in epoch 4. Batch size: 8.\n"
     ]
    },
    {
     "name": "stderr",
     "output_type": "stream",
     "text": [
      "100%|█████████████████████████████████████████████████████████████████████████████████████████████████████████████████████| 94/94 [00:19<00:00,  4.81it/s]\n",
      "100%|█████████████████████████████████████████████████████████████████████████████████████████████████████████████████████| 92/92 [00:11<00:00,  8.21it/s]\n"
     ]
    },
    {
     "name": "stdout",
     "output_type": "stream",
     "text": [
      "Trainig acc: 0.6263   //   Training loss: 1.3725   //   Test acc: 0.6571   //   Test loss: 1.2392\n",
      "early_stop: 1  /   Best acc: 0.6571428571428571\n",
      "Training task 3 in epoch 5. Batch size: 8.\n"
     ]
    },
    {
     "name": "stderr",
     "output_type": "stream",
     "text": [
      "100%|█████████████████████████████████████████████████████████████████████████████████████████████████████████████████████| 94/94 [00:19<00:00,  4.81it/s]\n",
      "100%|█████████████████████████████████████████████████████████████████████████████████████████████████████████████████████| 92/92 [00:10<00:00,  8.40it/s]\n"
     ]
    },
    {
     "name": "stdout",
     "output_type": "stream",
     "text": [
      "Trainig acc: 0.7274   //   Training loss: 0.9874   //   Test acc: 0.6653   //   Test loss: 1.1682\n",
      "early_stop: 1  /   Best acc: 0.6653061224489796\n",
      "Training task 3 in epoch 6. Batch size: 8.\n"
     ]
    },
    {
     "name": "stderr",
     "output_type": "stream",
     "text": [
      "100%|█████████████████████████████████████████████████████████████████████████████████████████████████████████████████████| 94/94 [00:19<00:00,  4.77it/s]\n",
      "100%|█████████████████████████████████████████████████████████████████████████████████████████████████████████████████████| 92/92 [00:11<00:00,  7.89it/s]\n"
     ]
    },
    {
     "name": "stdout",
     "output_type": "stream",
     "text": [
      "Trainig acc: 0.7646   //   Training loss: 0.7770   //   Test acc: 0.7007   //   Test loss: 1.0266\n",
      "early_stop: 1  /   Best acc: 0.7006802721088435\n",
      "Training task 3 in epoch 7. Batch size: 8.\n"
     ]
    },
    {
     "name": "stderr",
     "output_type": "stream",
     "text": [
      "100%|█████████████████████████████████████████████████████████████████████████████████████████████████████████████████████| 94/94 [00:19<00:00,  4.83it/s]\n",
      "100%|█████████████████████████████████████████████████████████████████████████████████████████████████████████████████████| 92/92 [00:10<00:00,  8.44it/s]\n"
     ]
    },
    {
     "name": "stdout",
     "output_type": "stream",
     "text": [
      "Trainig acc: 0.8338   //   Training loss: 0.6219   //   Test acc: 0.7170   //   Test loss: 0.9722\n",
      "early_stop: 1  /   Best acc: 0.7170068027210884\n",
      "Training task 3 in epoch 8. Batch size: 8.\n"
     ]
    },
    {
     "name": "stderr",
     "output_type": "stream",
     "text": [
      "100%|█████████████████████████████████████████████████████████████████████████████████████████████████████████████████████| 94/94 [00:19<00:00,  4.75it/s]\n",
      "100%|█████████████████████████████████████████████████████████████████████████████████████████████████████████████████████| 92/92 [00:11<00:00,  8.36it/s]\n"
     ]
    },
    {
     "name": "stdout",
     "output_type": "stream",
     "text": [
      "Trainig acc: 0.8856   //   Training loss: 0.4482   //   Test acc: 0.7170   //   Test loss: 0.9147\n",
      "early_stop: 2  /   Best acc: 0.7170068027210884\n",
      "Training task 3 in epoch 9. Batch size: 8.\n"
     ]
    },
    {
     "name": "stderr",
     "output_type": "stream",
     "text": [
      "100%|█████████████████████████████████████████████████████████████████████████████████████████████████████████████████████| 94/94 [00:19<00:00,  4.78it/s]\n",
      "100%|█████████████████████████████████████████████████████████████████████████████████████████████████████████████████████| 92/92 [00:11<00:00,  7.95it/s]\n"
     ]
    },
    {
     "name": "stdout",
     "output_type": "stream",
     "text": [
      "Trainig acc: 0.8949   //   Training loss: 0.3803   //   Test acc: 0.7510   //   Test loss: 0.8762\n",
      "early_stop: 1  /   Best acc: 0.7510204081632653\n",
      "Training task 3 in epoch 10. Batch size: 8.\n"
     ]
    },
    {
     "name": "stderr",
     "output_type": "stream",
     "text": [
      "100%|█████████████████████████████████████████████████████████████████████████████████████████████████████████████████████| 94/94 [00:19<00:00,  4.82it/s]\n",
      "100%|█████████████████████████████████████████████████████████████████████████████████████████████████████████████████████| 92/92 [00:11<00:00,  8.19it/s]\n"
     ]
    },
    {
     "name": "stdout",
     "output_type": "stream",
     "text": [
      "Trainig acc: 0.9335   //   Training loss: 0.2799   //   Test acc: 0.7429   //   Test loss: 0.8853\n",
      "early_stop: 2  /   Best acc: 0.7510204081632653\n",
      "Training task 3 in epoch 11. Batch size: 8.\n"
     ]
    },
    {
     "name": "stderr",
     "output_type": "stream",
     "text": [
      "100%|█████████████████████████████████████████████████████████████████████████████████████████████████████████████████████| 94/94 [00:19<00:00,  4.75it/s]\n",
      "100%|█████████████████████████████████████████████████████████████████████████████████████████████████████████████████████| 92/92 [00:11<00:00,  8.07it/s]\n"
     ]
    },
    {
     "name": "stdout",
     "output_type": "stream",
     "text": [
      "Trainig acc: 0.9535   //   Training loss: 0.2007   //   Test acc: 0.7524   //   Test loss: 0.8529\n",
      "early_stop: 1  /   Best acc: 0.7523809523809524\n",
      "Training task 3 in epoch 12. Batch size: 8.\n"
     ]
    },
    {
     "name": "stderr",
     "output_type": "stream",
     "text": [
      "100%|█████████████████████████████████████████████████████████████████████████████████████████████████████████████████████| 94/94 [00:20<00:00,  4.65it/s]\n",
      "100%|█████████████████████████████████████████████████████████████████████████████████████████████████████████████████████| 92/92 [00:11<00:00,  7.74it/s]\n"
     ]
    },
    {
     "name": "stdout",
     "output_type": "stream",
     "text": [
      "Trainig acc: 0.9402   //   Training loss: 0.2224   //   Test acc: 0.7510   //   Test loss: 0.8656\n",
      "early_stop: 2  /   Best acc: 0.7523809523809524\n",
      "Training task 3 in epoch 13. Batch size: 8.\n"
     ]
    },
    {
     "name": "stderr",
     "output_type": "stream",
     "text": [
      "100%|█████████████████████████████████████████████████████████████████████████████████████████████████████████████████████| 94/94 [00:20<00:00,  4.69it/s]\n",
      "100%|█████████████████████████████████████████████████████████████████████████████████████████████████████████████████████| 92/92 [00:11<00:00,  7.85it/s]\n"
     ]
    },
    {
     "name": "stdout",
     "output_type": "stream",
     "text": [
      "Trainig acc: 0.9601   //   Training loss: 0.1686   //   Test acc: 0.7497   //   Test loss: 0.8482\n",
      "early_stop: 3  /   Best acc: 0.7523809523809524\n",
      "Training task 3 in epoch 14. Batch size: 8.\n"
     ]
    },
    {
     "name": "stderr",
     "output_type": "stream",
     "text": [
      "100%|█████████████████████████████████████████████████████████████████████████████████████████████████████████████████████| 94/94 [00:19<00:00,  4.80it/s]\n",
      "100%|█████████████████████████████████████████████████████████████████████████████████████████████████████████████████████| 92/92 [00:11<00:00,  8.18it/s]\n"
     ]
    },
    {
     "name": "stdout",
     "output_type": "stream",
     "text": [
      "Trainig acc: 0.9535   //   Training loss: 0.1332   //   Test acc: 0.7592   //   Test loss: 0.8739\n",
      "early_stop: 1  /   Best acc: 0.7591836734693878\n",
      "Training task 3 in epoch 15. Batch size: 8.\n"
     ]
    },
    {
     "name": "stderr",
     "output_type": "stream",
     "text": [
      "100%|█████████████████████████████████████████████████████████████████████████████████████████████████████████████████████| 94/94 [00:19<00:00,  4.88it/s]\n",
      "100%|█████████████████████████████████████████████████████████████████████████████████████████████████████████████████████| 92/92 [00:11<00:00,  8.14it/s]\n"
     ]
    },
    {
     "name": "stdout",
     "output_type": "stream",
     "text": [
      "Trainig acc: 0.9707   //   Training loss: 0.1287   //   Test acc: 0.7673   //   Test loss: 0.8368\n",
      "early_stop: 1  /   Best acc: 0.7673469387755102\n",
      "Training task 3 in epoch 16. Batch size: 8.\n"
     ]
    },
    {
     "name": "stderr",
     "output_type": "stream",
     "text": [
      "100%|█████████████████████████████████████████████████████████████████████████████████████████████████████████████████████| 94/94 [00:19<00:00,  4.77it/s]\n",
      "100%|█████████████████████████████████████████████████████████████████████████████████████████████████████████████████████| 92/92 [00:10<00:00,  8.46it/s]\n"
     ]
    },
    {
     "name": "stdout",
     "output_type": "stream",
     "text": [
      "Trainig acc: 0.9681   //   Training loss: 0.1137   //   Test acc: 0.7810   //   Test loss: 0.8283\n",
      "early_stop: 1  /   Best acc: 0.780952380952381\n",
      "Training task 3 in epoch 17. Batch size: 8.\n"
     ]
    },
    {
     "name": "stderr",
     "output_type": "stream",
     "text": [
      "100%|█████████████████████████████████████████████████████████████████████████████████████████████████████████████████████| 94/94 [00:19<00:00,  4.87it/s]\n",
      "100%|█████████████████████████████████████████████████████████████████████████████████████████████████████████████████████| 92/92 [00:10<00:00,  8.51it/s]\n"
     ]
    },
    {
     "name": "stdout",
     "output_type": "stream",
     "text": [
      "Trainig acc: 0.9681   //   Training loss: 0.1127   //   Test acc: 0.7755   //   Test loss: 0.8324\n",
      "early_stop: 2  /   Best acc: 0.780952380952381\n",
      "Training task 3 in epoch 18. Batch size: 8.\n"
     ]
    },
    {
     "name": "stderr",
     "output_type": "stream",
     "text": [
      "100%|█████████████████████████████████████████████████████████████████████████████████████████████████████████████████████| 94/94 [00:19<00:00,  4.82it/s]\n",
      "100%|█████████████████████████████████████████████████████████████████████████████████████████████████████████████████████| 92/92 [00:10<00:00,  8.48it/s]\n"
     ]
    },
    {
     "name": "stdout",
     "output_type": "stream",
     "text": [
      "Trainig acc: 0.988   //   Training loss: 0.0605   //   Test acc: 0.7565   //   Test loss: 0.8287\n",
      "early_stop: 3  /   Best acc: 0.780952380952381\n",
      "Training task 3 in epoch 19. Batch size: 8.\n"
     ]
    },
    {
     "name": "stderr",
     "output_type": "stream",
     "text": [
      "100%|█████████████████████████████████████████████████████████████████████████████████████████████████████████████████████| 94/94 [00:19<00:00,  4.83it/s]\n",
      "100%|█████████████████████████████████████████████████████████████████████████████████████████████████████████████████████| 92/92 [00:10<00:00,  8.45it/s]\n"
     ]
    },
    {
     "name": "stdout",
     "output_type": "stream",
     "text": [
      "Trainig acc: 0.9894   //   Training loss: 0.0491   //   Test acc: 0.7673   //   Test loss: 0.8282\n",
      "early_stop: 4  /   Best acc: 0.780952380952381\n",
      "Training task 3 in epoch 20. Batch size: 8.\n"
     ]
    },
    {
     "name": "stderr",
     "output_type": "stream",
     "text": [
      "100%|█████████████████████████████████████████████████████████████████████████████████████████████████████████████████████| 94/94 [00:19<00:00,  4.79it/s]\n",
      "100%|█████████████████████████████████████████████████████████████████████████████████████████████████████████████████████| 92/92 [00:10<00:00,  8.48it/s]\n"
     ]
    },
    {
     "name": "stdout",
     "output_type": "stream",
     "text": [
      "Trainig acc: 0.984   //   Training loss: 0.0617   //   Test acc: 0.7741   //   Test loss: 0.8650\n",
      "early_stop: 5  /   Best acc: 0.780952380952381\n",
      "Training task 3 in epoch 21. Batch size: 8.\n"
     ]
    },
    {
     "name": "stderr",
     "output_type": "stream",
     "text": [
      "100%|█████████████████████████████████████████████████████████████████████████████████████████████████████████████████████| 94/94 [00:19<00:00,  4.79it/s]\n",
      "100%|█████████████████████████████████████████████████████████████████████████████████████████████████████████████████████| 92/92 [00:11<00:00,  8.19it/s]\n"
     ]
    },
    {
     "name": "stdout",
     "output_type": "stream",
     "text": [
      "Trainig acc: 0.9854   //   Training loss: 0.0694   //   Test acc: 0.7728   //   Test loss: 0.8523\n",
      "early_stop: 6  /   Best acc: 0.780952380952381\n",
      "Training task 3 in epoch 22. Batch size: 8.\n"
     ]
    },
    {
     "name": "stderr",
     "output_type": "stream",
     "text": [
      "100%|█████████████████████████████████████████████████████████████████████████████████████████████████████████████████████| 94/94 [00:19<00:00,  4.75it/s]\n",
      "100%|█████████████████████████████████████████████████████████████████████████████████████████████████████████████████████| 92/92 [00:11<00:00,  8.10it/s]\n"
     ]
    },
    {
     "name": "stdout",
     "output_type": "stream",
     "text": [
      "Trainig acc: 0.9907   //   Training loss: 0.0373   //   Test acc: 0.7660   //   Test loss: 0.8985\n",
      "early_stop: 7  /   Best acc: 0.780952380952381\n",
      "Training task 3 in epoch 23. Batch size: 8.\n"
     ]
    },
    {
     "name": "stderr",
     "output_type": "stream",
     "text": [
      "100%|█████████████████████████████████████████████████████████████████████████████████████████████████████████████████████| 94/94 [00:19<00:00,  4.72it/s]\n",
      "100%|█████████████████████████████████████████████████████████████████████████████████████████████████████████████████████| 92/92 [00:11<00:00,  8.05it/s]\n"
     ]
    },
    {
     "name": "stdout",
     "output_type": "stream",
     "text": [
      "Trainig acc: 0.9947   //   Training loss: 0.0278   //   Test acc: 0.7728   //   Test loss: 0.8185\n",
      "early_stop: 8  /   Best acc: 0.780952380952381\n",
      "Training task 3 in epoch 24. Batch size: 8.\n"
     ]
    },
    {
     "name": "stderr",
     "output_type": "stream",
     "text": [
      "100%|█████████████████████████████████████████████████████████████████████████████████████████████████████████████████████| 94/94 [00:20<00:00,  4.58it/s]\n",
      "100%|█████████████████████████████████████████████████████████████████████████████████████████████████████████████████████| 92/92 [00:11<00:00,  7.78it/s]\n"
     ]
    },
    {
     "name": "stdout",
     "output_type": "stream",
     "text": [
      "Trainig acc: 0.988   //   Training loss: 0.0503   //   Test acc: 0.7741   //   Test loss: 0.8220\n",
      "early_stop: 9  /   Best acc: 0.780952380952381\n",
      "Training task 3 in epoch 25. Batch size: 8.\n"
     ]
    },
    {
     "name": "stderr",
     "output_type": "stream",
     "text": [
      "100%|█████████████████████████████████████████████████████████████████████████████████████████████████████████████████████| 94/94 [00:19<00:00,  4.76it/s]\n",
      "100%|█████████████████████████████████████████████████████████████████████████████████████████████████████████████████████| 92/92 [00:10<00:00,  8.45it/s]\n"
     ]
    },
    {
     "name": "stdout",
     "output_type": "stream",
     "text": [
      "Trainig acc: 0.9867   //   Training loss: 0.0376   //   Test acc: 0.7810   //   Test loss: 0.8292\n",
      "early_stop: 10  /   Best acc: 0.780952380952381\n",
      "Training task 3 in epoch 26. Batch size: 8.\n"
     ]
    },
    {
     "name": "stderr",
     "output_type": "stream",
     "text": [
      "100%|█████████████████████████████████████████████████████████████████████████████████████████████████████████████████████| 94/94 [00:20<00:00,  4.67it/s]\n",
      "100%|█████████████████████████████████████████████████████████████████████████████████████████████████████████████████████| 92/92 [00:10<00:00,  8.41it/s]\n"
     ]
    },
    {
     "name": "stdout",
     "output_type": "stream",
     "text": [
      "Trainig acc: 0.988   //   Training loss: 0.0369   //   Test acc: 0.7755   //   Test loss: 0.8485\n",
      "early_stop: 11  /   Best acc: 0.780952380952381\n",
      "Training task 3 in epoch 27. Batch size: 8.\n"
     ]
    },
    {
     "name": "stderr",
     "output_type": "stream",
     "text": [
      "100%|█████████████████████████████████████████████████████████████████████████████████████████████████████████████████████| 94/94 [00:20<00:00,  4.68it/s]\n",
      "100%|█████████████████████████████████████████████████████████████████████████████████████████████████████████████████████| 92/92 [00:11<00:00,  7.77it/s]\n"
     ]
    },
    {
     "name": "stdout",
     "output_type": "stream",
     "text": [
      "---------------------------------------- TASK_4 ----------------------------------------\n",
      "Training task 4 in epoch 0. Batch size: 8.\n"
     ]
    },
    {
     "name": "stderr",
     "output_type": "stream",
     "text": [
      "100%|█████████████████████████████████████████████████████████████████████████████████████████████████████████████████████| 94/94 [00:19<00:00,  4.90it/s]\n",
      "100%|█████████████████████████████████████████████████████████████████████████████████████████████████████████████████████| 92/92 [00:11<00:00,  7.97it/s]\n"
     ]
    },
    {
     "name": "stdout",
     "output_type": "stream",
     "text": [
      "Trainig acc: 0.05319   //   Training loss: 4.7042   //   Test acc: 0.2701   //   Test loss: 3.0568\n",
      "early_stop: 1  /   Best acc: 0.27012278308321963\n",
      "Training task 4 in epoch 1. Batch size: 8.\n"
     ]
    },
    {
     "name": "stderr",
     "output_type": "stream",
     "text": [
      "100%|█████████████████████████████████████████████████████████████████████████████████████████████████████████████████████| 94/94 [00:20<00:00,  4.58it/s]\n",
      "100%|█████████████████████████████████████████████████████████████████████████████████████████████████████████████████████| 92/92 [00:11<00:00,  7.75it/s]\n"
     ]
    },
    {
     "name": "stdout",
     "output_type": "stream",
     "text": [
      "Trainig acc: 0.2633   //   Training loss: 2.5713   //   Test acc: 0.5307   //   Test loss: 1.7695\n",
      "early_stop: 1  /   Best acc: 0.5306957708049114\n",
      "Training task 4 in epoch 2. Batch size: 8.\n"
     ]
    },
    {
     "name": "stderr",
     "output_type": "stream",
     "text": [
      "100%|█████████████████████████████████████████████████████████████████████████████████████████████████████████████████████| 94/94 [00:20<00:00,  4.62it/s]\n",
      "100%|█████████████████████████████████████████████████████████████████████████████████████████████████████████████████████| 92/92 [00:11<00:00,  7.81it/s]\n"
     ]
    },
    {
     "name": "stdout",
     "output_type": "stream",
     "text": [
      "Trainig acc: 0.496   //   Training loss: 1.6768   //   Test acc: 0.6194   //   Test loss: 1.2712\n",
      "early_stop: 1  /   Best acc: 0.6193724420190996\n",
      "Training task 4 in epoch 3. Batch size: 8.\n"
     ]
    },
    {
     "name": "stderr",
     "output_type": "stream",
     "text": [
      "100%|█████████████████████████████████████████████████████████████████████████████████████████████████████████████████████| 94/94 [00:20<00:00,  4.61it/s]\n",
      "100%|█████████████████████████████████████████████████████████████████████████████████████████████████████████████████████| 92/92 [00:12<00:00,  7.61it/s]\n"
     ]
    },
    {
     "name": "stdout",
     "output_type": "stream",
     "text": [
      "Trainig acc: 0.637   //   Training loss: 1.2269   //   Test acc: 0.7012   //   Test loss: 1.0064\n",
      "early_stop: 1  /   Best acc: 0.7012278308321964\n",
      "Training task 4 in epoch 4. Batch size: 8.\n"
     ]
    },
    {
     "name": "stderr",
     "output_type": "stream",
     "text": [
      "100%|█████████████████████████████████████████████████████████████████████████████████████████████████████████████████████| 94/94 [00:20<00:00,  4.60it/s]\n",
      "100%|█████████████████████████████████████████████████████████████████████████████████████████████████████████████████████| 92/92 [00:11<00:00,  7.68it/s]\n"
     ]
    },
    {
     "name": "stdout",
     "output_type": "stream",
     "text": [
      "Trainig acc: 0.7154   //   Training loss: 0.9002   //   Test acc: 0.7408   //   Test loss: 0.8284\n",
      "early_stop: 1  /   Best acc: 0.7407912687585266\n",
      "Training task 4 in epoch 5. Batch size: 8.\n"
     ]
    },
    {
     "name": "stderr",
     "output_type": "stream",
     "text": [
      "100%|█████████████████████████████████████████████████████████████████████████████████████████████████████████████████████| 94/94 [00:20<00:00,  4.56it/s]\n",
      "100%|█████████████████████████████████████████████████████████████████████████████████████████████████████████████████████| 92/92 [00:11<00:00,  8.04it/s]\n"
     ]
    },
    {
     "name": "stdout",
     "output_type": "stream",
     "text": [
      "Trainig acc: 0.8005   //   Training loss: 0.6831   //   Test acc: 0.7763   //   Test loss: 0.7578\n",
      "early_stop: 1  /   Best acc: 0.7762619372442019\n",
      "Training task 4 in epoch 6. Batch size: 8.\n"
     ]
    },
    {
     "name": "stderr",
     "output_type": "stream",
     "text": [
      "100%|█████████████████████████████████████████████████████████████████████████████████████████████████████████████████████| 94/94 [00:20<00:00,  4.60it/s]\n",
      "100%|█████████████████████████████████████████████████████████████████████████████████████████████████████████████████████| 92/92 [00:11<00:00,  7.69it/s]\n"
     ]
    },
    {
     "name": "stdout",
     "output_type": "stream",
     "text": [
      "Trainig acc: 0.8205   //   Training loss: 0.5550   //   Test acc: 0.7804   //   Test loss: 0.6922\n",
      "early_stop: 1  /   Best acc: 0.7803547066848567\n",
      "Training task 4 in epoch 7. Batch size: 8.\n"
     ]
    },
    {
     "name": "stderr",
     "output_type": "stream",
     "text": [
      "100%|█████████████████████████████████████████████████████████████████████████████████████████████████████████████████████| 94/94 [00:20<00:00,  4.62it/s]\n",
      "100%|█████████████████████████████████████████████████████████████████████████████████████████████████████████████████████| 92/92 [00:12<00:00,  7.60it/s]\n"
     ]
    },
    {
     "name": "stdout",
     "output_type": "stream",
     "text": [
      "Trainig acc: 0.8816   //   Training loss: 0.3862   //   Test acc: 0.7790   //   Test loss: 0.7063\n",
      "early_stop: 2  /   Best acc: 0.7803547066848567\n",
      "Training task 4 in epoch 8. Batch size: 8.\n"
     ]
    },
    {
     "name": "stderr",
     "output_type": "stream",
     "text": [
      "100%|█████████████████████████████████████████████████████████████████████████████████████████████████████████████████████| 94/94 [00:20<00:00,  4.60it/s]\n",
      "100%|█████████████████████████████████████████████████████████████████████████████████████████████████████████████████████| 92/92 [00:12<00:00,  7.54it/s]\n"
     ]
    },
    {
     "name": "stdout",
     "output_type": "stream",
     "text": [
      "Trainig acc: 0.8923   //   Training loss: 0.3422   //   Test acc: 0.8049   //   Test loss: 0.6411\n",
      "early_stop: 1  /   Best acc: 0.8049113233287858\n",
      "Training task 4 in epoch 9. Batch size: 8.\n"
     ]
    },
    {
     "name": "stderr",
     "output_type": "stream",
     "text": [
      "100%|█████████████████████████████████████████████████████████████████████████████████████████████████████████████████████| 94/94 [00:20<00:00,  4.59it/s]\n",
      "100%|█████████████████████████████████████████████████████████████████████████████████████████████████████████████████████| 92/92 [00:11<00:00,  7.96it/s]\n"
     ]
    },
    {
     "name": "stdout",
     "output_type": "stream",
     "text": [
      "Trainig acc: 0.9122   //   Training loss: 0.2657   //   Test acc: 0.8158   //   Test loss: 0.6096\n",
      "early_stop: 1  /   Best acc: 0.8158253751705321\n",
      "Training task 4 in epoch 10. Batch size: 8.\n"
     ]
    },
    {
     "name": "stderr",
     "output_type": "stream",
     "text": [
      "100%|█████████████████████████████████████████████████████████████████████████████████████████████████████████████████████| 94/94 [00:20<00:00,  4.67it/s]\n",
      "100%|█████████████████████████████████████████████████████████████████████████████████████████████████████████████████████| 92/92 [00:11<00:00,  7.82it/s]\n"
     ]
    },
    {
     "name": "stdout",
     "output_type": "stream",
     "text": [
      "Trainig acc: 0.9428   //   Training loss: 0.1850   //   Test acc: 0.8049   //   Test loss: 0.6387\n",
      "early_stop: 2  /   Best acc: 0.8158253751705321\n",
      "Training task 4 in epoch 11. Batch size: 8.\n"
     ]
    },
    {
     "name": "stderr",
     "output_type": "stream",
     "text": [
      "100%|█████████████████████████████████████████████████████████████████████████████████████████████████████████████████████| 94/94 [00:20<00:00,  4.58it/s]\n",
      "100%|█████████████████████████████████████████████████████████████████████████████████████████████████████████████████████| 92/92 [00:12<00:00,  7.24it/s]\n"
     ]
    },
    {
     "name": "stdout",
     "output_type": "stream",
     "text": [
      "Trainig acc: 0.9362   //   Training loss: 0.2088   //   Test acc: 0.8240   //   Test loss: 0.6149\n",
      "early_stop: 1  /   Best acc: 0.8240109140518418\n",
      "Training task 4 in epoch 12. Batch size: 8.\n"
     ]
    },
    {
     "name": "stderr",
     "output_type": "stream",
     "text": [
      "100%|█████████████████████████████████████████████████████████████████████████████████████████████████████████████████████| 94/94 [00:20<00:00,  4.58it/s]\n",
      "100%|█████████████████████████████████████████████████████████████████████████████████████████████████████████████████████| 92/92 [00:11<00:00,  7.87it/s]\n"
     ]
    },
    {
     "name": "stdout",
     "output_type": "stream",
     "text": [
      "Trainig acc: 0.9574   //   Training loss: 0.1204   //   Test acc: 0.8104   //   Test loss: 0.6470\n",
      "early_stop: 2  /   Best acc: 0.8240109140518418\n",
      "Training task 4 in epoch 13. Batch size: 8.\n"
     ]
    },
    {
     "name": "stderr",
     "output_type": "stream",
     "text": [
      "100%|█████████████████████████████████████████████████████████████████████████████████████████████████████████████████████| 94/94 [00:20<00:00,  4.55it/s]\n",
      "100%|█████████████████████████████████████████████████████████████████████████████████████████████████████████████████████| 92/92 [00:12<00:00,  7.55it/s]\n"
     ]
    },
    {
     "name": "stdout",
     "output_type": "stream",
     "text": [
      "Trainig acc: 0.9654   //   Training loss: 0.1170   //   Test acc: 0.8240   //   Test loss: 0.6373\n",
      "early_stop: 3  /   Best acc: 0.8240109140518418\n",
      "Training task 4 in epoch 14. Batch size: 8.\n"
     ]
    },
    {
     "name": "stderr",
     "output_type": "stream",
     "text": [
      "100%|█████████████████████████████████████████████████████████████████████████████████████████████████████████████████████| 94/94 [00:20<00:00,  4.56it/s]\n",
      "100%|█████████████████████████████████████████████████████████████████████████████████████████████████████████████████████| 92/92 [00:11<00:00,  7.68it/s]\n"
     ]
    },
    {
     "name": "stdout",
     "output_type": "stream",
     "text": [
      "Trainig acc: 0.9641   //   Training loss: 0.1108   //   Test acc: 0.8240   //   Test loss: 0.6750\n",
      "early_stop: 4  /   Best acc: 0.8240109140518418\n",
      "Training task 4 in epoch 15. Batch size: 8.\n"
     ]
    },
    {
     "name": "stderr",
     "output_type": "stream",
     "text": [
      "100%|█████████████████████████████████████████████████████████████████████████████████████████████████████████████████████| 94/94 [00:20<00:00,  4.56it/s]\n",
      "100%|█████████████████████████████████████████████████████████████████████████████████████████████████████████████████████| 92/92 [00:11<00:00,  7.70it/s]\n"
     ]
    },
    {
     "name": "stdout",
     "output_type": "stream",
     "text": [
      "Trainig acc: 0.9774   //   Training loss: 0.0745   //   Test acc: 0.8417   //   Test loss: 0.6161\n",
      "early_stop: 1  /   Best acc: 0.8417462482946794\n",
      "Training task 4 in epoch 16. Batch size: 8.\n"
     ]
    },
    {
     "name": "stderr",
     "output_type": "stream",
     "text": [
      "100%|█████████████████████████████████████████████████████████████████████████████████████████████████████████████████████| 94/94 [00:20<00:00,  4.70it/s]\n",
      "100%|█████████████████████████████████████████████████████████████████████████████████████████████████████████████████████| 92/92 [00:11<00:00,  7.70it/s]\n"
     ]
    },
    {
     "name": "stdout",
     "output_type": "stream",
     "text": [
      "Trainig acc: 0.9787   //   Training loss: 0.0727   //   Test acc: 0.8145   //   Test loss: 0.6609\n",
      "early_stop: 2  /   Best acc: 0.8417462482946794\n",
      "Training task 4 in epoch 17. Batch size: 8.\n"
     ]
    },
    {
     "name": "stderr",
     "output_type": "stream",
     "text": [
      "100%|█████████████████████████████████████████████████████████████████████████████████████████████████████████████████████| 94/94 [00:20<00:00,  4.63it/s]\n",
      "100%|█████████████████████████████████████████████████████████████████████████████████████████████████████████████████████| 92/92 [00:12<00:00,  7.41it/s]\n"
     ]
    },
    {
     "name": "stdout",
     "output_type": "stream",
     "text": [
      "Trainig acc: 0.984   //   Training loss: 0.0604   //   Test acc: 0.8186   //   Test loss: 0.6791\n",
      "early_stop: 3  /   Best acc: 0.8417462482946794\n",
      "Training task 4 in epoch 18. Batch size: 8.\n"
     ]
    },
    {
     "name": "stderr",
     "output_type": "stream",
     "text": [
      "100%|█████████████████████████████████████████████████████████████████████████████████████████████████████████████████████| 94/94 [00:20<00:00,  4.62it/s]\n",
      "100%|█████████████████████████████████████████████████████████████████████████████████████████████████████████████████████| 92/92 [00:12<00:00,  7.47it/s]\n"
     ]
    },
    {
     "name": "stdout",
     "output_type": "stream",
     "text": [
      "Trainig acc: 0.988   //   Training loss: 0.0392   //   Test acc: 0.8445   //   Test loss: 0.6189\n",
      "early_stop: 1  /   Best acc: 0.844474761255116\n",
      "Training task 4 in epoch 19. Batch size: 8.\n"
     ]
    },
    {
     "name": "stderr",
     "output_type": "stream",
     "text": [
      "100%|█████████████████████████████████████████████████████████████████████████████████████████████████████████████████████| 94/94 [00:20<00:00,  4.57it/s]\n",
      "100%|█████████████████████████████████████████████████████████████████████████████████████████████████████████████████████| 92/92 [00:12<00:00,  7.34it/s]\n"
     ]
    },
    {
     "name": "stdout",
     "output_type": "stream",
     "text": [
      "Trainig acc: 0.9814   //   Training loss: 0.0560   //   Test acc: 0.8240   //   Test loss: 0.6392\n",
      "early_stop: 2  /   Best acc: 0.844474761255116\n",
      "Training task 4 in epoch 20. Batch size: 8.\n"
     ]
    },
    {
     "name": "stderr",
     "output_type": "stream",
     "text": [
      "100%|█████████████████████████████████████████████████████████████████████████████████████████████████████████████████████| 94/94 [00:20<00:00,  4.60it/s]\n",
      "100%|█████████████████████████████████████████████████████████████████████████████████████████████████████████████████████| 92/92 [00:11<00:00,  7.98it/s]\n"
     ]
    },
    {
     "name": "stdout",
     "output_type": "stream",
     "text": [
      "Trainig acc: 0.9854   //   Training loss: 0.0433   //   Test acc: 0.8336   //   Test loss: 0.6634\n",
      "early_stop: 3  /   Best acc: 0.844474761255116\n",
      "Training task 4 in epoch 21. Batch size: 8.\n"
     ]
    },
    {
     "name": "stderr",
     "output_type": "stream",
     "text": [
      "100%|█████████████████████████████████████████████████████████████████████████████████████████████████████████████████████| 94/94 [00:20<00:00,  4.70it/s]\n",
      "100%|█████████████████████████████████████████████████████████████████████████████████████████████████████████████████████| 92/92 [00:11<00:00,  8.11it/s]\n"
     ]
    },
    {
     "name": "stdout",
     "output_type": "stream",
     "text": [
      "Trainig acc: 0.9934   //   Training loss: 0.0274   //   Test acc: 0.8458   //   Test loss: 0.6365\n",
      "early_stop: 1  /   Best acc: 0.8458390177353342\n",
      "Training task 4 in epoch 22. Batch size: 8.\n"
     ]
    },
    {
     "name": "stderr",
     "output_type": "stream",
     "text": [
      "100%|█████████████████████████████████████████████████████████████████████████████████████████████████████████████████████| 94/94 [00:19<00:00,  4.73it/s]\n",
      "100%|█████████████████████████████████████████████████████████████████████████████████████████████████████████████████████| 92/92 [00:10<00:00,  8.58it/s]\n"
     ]
    },
    {
     "name": "stdout",
     "output_type": "stream",
     "text": [
      "Trainig acc: 0.9894   //   Training loss: 0.0297   //   Test acc: 0.8390   //   Test loss: 0.6338\n",
      "early_stop: 2  /   Best acc: 0.8458390177353342\n",
      "Training task 4 in epoch 23. Batch size: 8.\n"
     ]
    },
    {
     "name": "stderr",
     "output_type": "stream",
     "text": [
      "100%|█████████████████████████████████████████████████████████████████████████████████████████████████████████████████████| 94/94 [00:19<00:00,  4.74it/s]\n",
      "100%|█████████████████████████████████████████████████████████████████████████████████████████████████████████████████████| 92/92 [00:11<00:00,  7.96it/s]\n"
     ]
    },
    {
     "name": "stdout",
     "output_type": "stream",
     "text": [
      "Trainig acc: 0.988   //   Training loss: 0.0395   //   Test acc: 0.8336   //   Test loss: 0.6718\n",
      "early_stop: 3  /   Best acc: 0.8458390177353342\n",
      "Training task 4 in epoch 24. Batch size: 8.\n"
     ]
    },
    {
     "name": "stderr",
     "output_type": "stream",
     "text": [
      "100%|█████████████████████████████████████████████████████████████████████████████████████████████████████████████████████| 94/94 [00:20<00:00,  4.70it/s]\n",
      "100%|█████████████████████████████████████████████████████████████████████████████████████████████████████████████████████| 92/92 [00:11<00:00,  7.70it/s]\n"
     ]
    },
    {
     "name": "stdout",
     "output_type": "stream",
     "text": [
      "Trainig acc: 0.9894   //   Training loss: 0.0254   //   Test acc: 0.8377   //   Test loss: 0.6796\n",
      "early_stop: 4  /   Best acc: 0.8458390177353342\n",
      "Training task 4 in epoch 25. Batch size: 8.\n"
     ]
    },
    {
     "name": "stderr",
     "output_type": "stream",
     "text": [
      "100%|█████████████████████████████████████████████████████████████████████████████████████████████████████████████████████| 94/94 [00:20<00:00,  4.57it/s]\n",
      "100%|█████████████████████████████████████████████████████████████████████████████████████████████████████████████████████| 92/92 [00:11<00:00,  7.85it/s]\n"
     ]
    },
    {
     "name": "stdout",
     "output_type": "stream",
     "text": [
      "Trainig acc: 0.992   //   Training loss: 0.0237   //   Test acc: 0.8322   //   Test loss: 0.6733\n",
      "early_stop: 5  /   Best acc: 0.8458390177353342\n",
      "Training task 4 in epoch 26. Batch size: 8.\n"
     ]
    },
    {
     "name": "stderr",
     "output_type": "stream",
     "text": [
      "100%|█████████████████████████████████████████████████████████████████████████████████████████████████████████████████████| 94/94 [00:20<00:00,  4.66it/s]\n",
      "100%|█████████████████████████████████████████████████████████████████████████████████████████████████████████████████████| 92/92 [00:11<00:00,  8.17it/s]\n"
     ]
    },
    {
     "name": "stdout",
     "output_type": "stream",
     "text": [
      "Trainig acc: 0.988   //   Training loss: 0.0327   //   Test acc: 0.8158   //   Test loss: 0.7824\n",
      "early_stop: 6  /   Best acc: 0.8458390177353342\n",
      "Training task 4 in epoch 27. Batch size: 8.\n"
     ]
    },
    {
     "name": "stderr",
     "output_type": "stream",
     "text": [
      "100%|█████████████████████████████████████████████████████████████████████████████████████████████████████████████████████| 94/94 [00:19<00:00,  4.72it/s]\n",
      "100%|█████████████████████████████████████████████████████████████████████████████████████████████████████████████████████| 92/92 [00:11<00:00,  8.21it/s]\n"
     ]
    },
    {
     "name": "stdout",
     "output_type": "stream",
     "text": [
      "Trainig acc: 0.992   //   Training loss: 0.0179   //   Test acc: 0.8267   //   Test loss: 0.7302\n",
      "early_stop: 7  /   Best acc: 0.8458390177353342\n",
      "Training task 4 in epoch 28. Batch size: 8.\n"
     ]
    },
    {
     "name": "stderr",
     "output_type": "stream",
     "text": [
      "100%|█████████████████████████████████████████████████████████████████████████████████████████████████████████████████████| 94/94 [00:19<00:00,  4.70it/s]\n",
      "100%|█████████████████████████████████████████████████████████████████████████████████████████████████████████████████████| 92/92 [00:10<00:00,  8.43it/s]\n"
     ]
    },
    {
     "name": "stdout",
     "output_type": "stream",
     "text": [
      "Trainig acc: 0.988   //   Training loss: 0.0227   //   Test acc: 0.8336   //   Test loss: 0.7381\n",
      "early_stop: 8  /   Best acc: 0.8458390177353342\n",
      "Training task 4 in epoch 29. Batch size: 8.\n"
     ]
    },
    {
     "name": "stderr",
     "output_type": "stream",
     "text": [
      "100%|█████████████████████████████████████████████████████████████████████████████████████████████████████████████████████| 94/94 [00:19<00:00,  4.78it/s]\n",
      "100%|█████████████████████████████████████████████████████████████████████████████████████████████████████████████████████| 92/92 [00:10<00:00,  8.55it/s]\n"
     ]
    },
    {
     "name": "stdout",
     "output_type": "stream",
     "text": [
      "Trainig acc: 0.9854   //   Training loss: 0.0258   //   Test acc: 0.8281   //   Test loss: 0.7021\n",
      "early_stop: 9  /   Best acc: 0.8458390177353342\n",
      "Training task 4 in epoch 30. Batch size: 8.\n"
     ]
    },
    {
     "name": "stderr",
     "output_type": "stream",
     "text": [
      "100%|█████████████████████████████████████████████████████████████████████████████████████████████████████████████████████| 94/94 [00:19<00:00,  4.79it/s]\n",
      "100%|█████████████████████████████████████████████████████████████████████████████████████████████████████████████████████| 92/92 [00:11<00:00,  7.89it/s]\n"
     ]
    },
    {
     "name": "stdout",
     "output_type": "stream",
     "text": [
      "Trainig acc: 0.984   //   Training loss: 0.0326   //   Test acc: 0.8322   //   Test loss: 0.7185\n",
      "early_stop: 10  /   Best acc: 0.8458390177353342\n",
      "Training task 4 in epoch 31. Batch size: 8.\n"
     ]
    },
    {
     "name": "stderr",
     "output_type": "stream",
     "text": [
      "100%|█████████████████████████████████████████████████████████████████████████████████████████████████████████████████████| 94/94 [00:19<00:00,  4.73it/s]\n",
      "100%|█████████████████████████████████████████████████████████████████████████████████████████████████████████████████████| 92/92 [00:10<00:00,  8.63it/s]\n"
     ]
    },
    {
     "name": "stdout",
     "output_type": "stream",
     "text": [
      "Trainig acc: 0.9907   //   Training loss: 0.0212   //   Test acc: 0.8404   //   Test loss: 0.7066\n",
      "early_stop: 11  /   Best acc: 0.8458390177353342\n",
      "Training task 4 in epoch 32. Batch size: 8.\n"
     ]
    },
    {
     "name": "stderr",
     "output_type": "stream",
     "text": [
      "100%|█████████████████████████████████████████████████████████████████████████████████████████████████████████████████████| 94/94 [00:19<00:00,  4.78it/s]\n",
      "100%|█████████████████████████████████████████████████████████████████████████████████████████████████████████████████████| 92/92 [00:11<00:00,  8.03it/s]\n"
     ]
    },
    {
     "data": {
      "application/vnd.jupyter.widget-view+json": {
       "model_id": "",
       "version_major": 2,
       "version_minor": 0
      },
      "text/plain": [
       "VBox(children=(Label(value='0.003 MB of 0.003 MB uploaded\\r'), FloatProgress(value=1.0, max=1.0)))"
      ]
     },
     "metadata": {},
     "output_type": "display_data"
    },
    {
     "data": {
      "text/html": [
       "<style>\n",
       "    table.wandb td:nth-child(1) { padding: 0 10px; text-align: left ; width: auto;} td:nth-child(2) {text-align: left ; width: 100%}\n",
       "    .wandb-row { display: flex; flex-direction: row; flex-wrap: wrap; justify-content: flex-start; width: 100% }\n",
       "    .wandb-col { display: flex; flex-direction: column; flex-basis: 100%; flex: 1; padding: 10px; }\n",
       "    </style>\n",
       "<div class=\"wandb-row\"><div class=\"wandb-col\"><h3>Run history:</h3><br/><table class=\"wandb\"><tr><td>Accuracy</td><td>▅▇▇▇▇▇▇▇▇▇▇▁▆▇▇▇▇▇▇▇▆▆▆▆▆▆▂▆▇▇▇▇▇▇██████</td></tr><tr><td>Loss</td><td>▄▂▂▂▂▂▂▂▂▂▂█▂▂▂▂▂▂▂▂▂▂▂▂▂▂▆▂▂▂▂▂▂▂▁▁▁▁▁▁</td></tr><tr><td>best_val_acc</td><td>▅▆▇▇▇▇▇▇▇▇▇▁▆▇▇▇▇▇▇▇▅▆▆▆▆▆▂▆▇▇▇▇▇▇██████</td></tr><tr><td>learning_rate</td><td>█████▂▂▂▁▁▁█████▂▂▁▁█████▂█████▂▂██████▂</td></tr><tr><td>patience</td><td>▁▁▁▃▂▁▁▃▂▃▆▁▁▁▃▂▅▂▅█▁▁▁▂▂▅▁▁▁▂▂▅▇▁▁▂▂▂▃▇</td></tr><tr><td>task</td><td>▁▁▁▁▁▁▁▁▁▁▁▃▃▃▃▃▃▃▃▃▅▅▅▅▅▅▆▆▆▆▆▆▆███████</td></tr><tr><td>train_acc</td><td>▃▆▇████████▁▆▇██████▆▇████▂▆▇████▆▇█████</td></tr><tr><td>train_loss</td><td>▅▂▂▁▁▁▁▁▁▁▁█▃▁▁▁▁▁▁▁▂▂▁▁▁▁▅▂▂▁▁▁▁▂▁▁▁▁▁▁</td></tr><tr><td>val_acc</td><td>▅▇▇▇▇▇▇▇▇▇▇▁▆▇▇▇▇▇▇▇▆▆▆▆▆▆▂▆▇▇▇▇▇▇██████</td></tr><tr><td>val_loss</td><td>▄▂▂▂▂▂▂▂▂▂▂█▂▂▂▂▂▂▂▂▂▂▂▂▂▂▆▂▂▂▂▂▂▂▁▁▁▁▁▁</td></tr></table><br/></div><div class=\"wandb-col\"><h3>Run summary:</h3><br/><table class=\"wandb\"><tr><td>Accuracy</td><td>0.84038</td></tr><tr><td>Loss</td><td>0.70661</td></tr><tr><td>best_val_acc</td><td>0.84584</td></tr><tr><td>learning_rate</td><td>0.0</td></tr><tr><td>patience</td><td>11</td></tr><tr><td>task</td><td>5</td></tr><tr><td>train_acc</td><td>0.99069</td></tr><tr><td>train_loss</td><td>0.02116</td></tr><tr><td>val_acc</td><td>0.84038</td></tr><tr><td>val_loss</td><td>0.70661</td></tr></table><br/></div></div>"
      ],
      "text/plain": [
       "<IPython.core.display.HTML object>"
      ]
     },
     "metadata": {},
     "output_type": "display_data"
    },
    {
     "data": {
      "text/html": [
       " View run <strong style=\"color:#cdcd00\">vgg19-lr-00001-5tasks-lora-3</strong> at: <a href='https://wandb.ai/cf-lora/cf-lora-cub-200-baseline-all-parameters/runs/nkuy2wyk' target=\"_blank\">https://wandb.ai/cf-lora/cf-lora-cub-200-baseline-all-parameters/runs/nkuy2wyk</a><br/> View project at: <a href='https://wandb.ai/cf-lora/cf-lora-cub-200-baseline-all-parameters' target=\"_blank\">https://wandb.ai/cf-lora/cf-lora-cub-200-baseline-all-parameters</a><br/>Synced 5 W&B file(s), 0 media file(s), 0 artifact file(s) and 0 other file(s)"
      ],
      "text/plain": [
       "<IPython.core.display.HTML object>"
      ]
     },
     "metadata": {},
     "output_type": "display_data"
    },
    {
     "data": {
      "text/html": [
       "Find logs at: <code>./wandb/run-20240826_075430-nkuy2wyk/logs</code>"
      ],
      "text/plain": [
       "<IPython.core.display.HTML object>"
      ]
     },
     "metadata": {},
     "output_type": "display_data"
    },
    {
     "data": {
      "text/html": [
       "The new W&B backend becomes opt-out in version 0.18.0; try it out with `wandb.require(\"core\")`! See https://wandb.me/wandb-core for more information."
      ],
      "text/plain": [
       "<IPython.core.display.HTML object>"
      ]
     },
     "metadata": {},
     "output_type": "display_data"
    },
    {
     "data": {
      "text/html": [
       "Tracking run with wandb version 0.17.7"
      ],
      "text/plain": [
       "<IPython.core.display.HTML object>"
      ]
     },
     "metadata": {},
     "output_type": "display_data"
    },
    {
     "data": {
      "text/html": [
       "Run data is saved locally in <code>/home/everton_aleixo/Documents/effects-of-lora-on-catastrophic-forgetting/notebooks/wandb/run-20240826_103552-do0y35d8</code>"
      ],
      "text/plain": [
       "<IPython.core.display.HTML object>"
      ]
     },
     "metadata": {},
     "output_type": "display_data"
    },
    {
     "data": {
      "text/html": [
       "Syncing run <strong><a href='https://wandb.ai/cf-lora/cf-lora-cub-200-baseline-all-parameters/runs/do0y35d8' target=\"_blank\">vgg19-lr-00001-5tasks-lora-4</a></strong> to <a href='https://wandb.ai/cf-lora/cf-lora-cub-200-baseline-all-parameters' target=\"_blank\">Weights & Biases</a> (<a href='https://wandb.me/run' target=\"_blank\">docs</a>)<br/>"
      ],
      "text/plain": [
       "<IPython.core.display.HTML object>"
      ]
     },
     "metadata": {},
     "output_type": "display_data"
    },
    {
     "data": {
      "text/html": [
       " View project at <a href='https://wandb.ai/cf-lora/cf-lora-cub-200-baseline-all-parameters' target=\"_blank\">https://wandb.ai/cf-lora/cf-lora-cub-200-baseline-all-parameters</a>"
      ],
      "text/plain": [
       "<IPython.core.display.HTML object>"
      ]
     },
     "metadata": {},
     "output_type": "display_data"
    },
    {
     "data": {
      "text/html": [
       " View run at <a href='https://wandb.ai/cf-lora/cf-lora-cub-200-baseline-all-parameters/runs/do0y35d8' target=\"_blank\">https://wandb.ai/cf-lora/cf-lora-cub-200-baseline-all-parameters/runs/do0y35d8</a>"
      ],
      "text/plain": [
       "<IPython.core.display.HTML object>"
      ]
     },
     "metadata": {},
     "output_type": "display_data"
    },
    {
     "name": "stderr",
     "output_type": "stream",
     "text": [
      "/home/everton_aleixo/Documents/mahle/server_python/venv/lib/python3.12/site-packages/torch/optim/lr_scheduler.py:60: UserWarning: The verbose parameter is deprecated. Please use get_last_lr() to access the learning rate.\n",
      "  warnings.warn(\n"
     ]
    },
    {
     "name": "stdout",
     "output_type": "stream",
     "text": [
      "---------------------------------------- TASK_0 ----------------------------------------\n",
      "Training task 0 in epoch 0. Batch size: 8.\n"
     ]
    },
    {
     "name": "stderr",
     "output_type": "stream",
     "text": [
      "100%|███████████████████████████████████████████████████████████████████████████████████████████████████████████████████| 375/375 [01:14<00:00,  5.04it/s]\n",
      "100%|███████████████████████████████████████████████████████████████████████████████████████████████████████████████████| 358/358 [00:41<00:00,  8.64it/s]\n"
     ]
    },
    {
     "name": "stdout",
     "output_type": "stream",
     "text": [
      "Trainig acc: 0.072   //   Training loss: 4.5298   //   Test acc: 0.3848   //   Test loss: 2.8718\n",
      "early_stop: 1  /   Best acc: 0.38477653631284914\n",
      "Training task 0 in epoch 1. Batch size: 8.\n"
     ]
    },
    {
     "name": "stderr",
     "output_type": "stream",
     "text": [
      "100%|███████████████████████████████████████████████████████████████████████████████████████████████████████████████████| 375/375 [01:14<00:00,  5.03it/s]\n",
      "100%|███████████████████████████████████████████████████████████████████████████████████████████████████████████████████| 358/358 [00:42<00:00,  8.46it/s]\n"
     ]
    },
    {
     "name": "stdout",
     "output_type": "stream",
     "text": [
      "Trainig acc: 0.3353   //   Training loss: 2.6300   //   Test acc: 0.5775   //   Test loss: 1.6831\n",
      "early_stop: 1  /   Best acc: 0.577513966480447\n",
      "Training task 0 in epoch 2. Batch size: 8.\n"
     ]
    },
    {
     "name": "stderr",
     "output_type": "stream",
     "text": [
      "100%|███████████████████████████████████████████████████████████████████████████████████████████████████████████████████| 375/375 [01:14<00:00,  5.02it/s]\n",
      "100%|███████████████████████████████████████████████████████████████████████████████████████████████████████████████████| 358/358 [00:42<00:00,  8.40it/s]\n"
     ]
    },
    {
     "name": "stdout",
     "output_type": "stream",
     "text": [
      "Trainig acc: 0.508   //   Training loss: 1.7884   //   Test acc: 0.6491   //   Test loss: 1.2990\n",
      "early_stop: 1  /   Best acc: 0.6490921787709497\n",
      "Training task 0 in epoch 3. Batch size: 8.\n"
     ]
    },
    {
     "name": "stderr",
     "output_type": "stream",
     "text": [
      "100%|███████████████████████████████████████████████████████████████████████████████████████████████████████████████████| 375/375 [01:14<00:00,  5.00it/s]\n",
      "100%|███████████████████████████████████████████████████████████████████████████████████████████████████████████████████| 358/358 [00:44<00:00,  7.98it/s]\n"
     ]
    },
    {
     "name": "stdout",
     "output_type": "stream",
     "text": [
      "Trainig acc: 0.621   //   Training loss: 1.3546   //   Test acc: 0.6788   //   Test loss: 1.1457\n",
      "early_stop: 1  /   Best acc: 0.6787709497206704\n",
      "Training task 0 in epoch 4. Batch size: 8.\n"
     ]
    },
    {
     "name": "stderr",
     "output_type": "stream",
     "text": [
      "100%|███████████████████████████████████████████████████████████████████████████████████████████████████████████████████| 375/375 [01:15<00:00,  5.00it/s]\n",
      "100%|███████████████████████████████████████████████████████████████████████████████████████████████████████████████████| 358/358 [00:45<00:00,  7.84it/s]\n"
     ]
    },
    {
     "name": "stdout",
     "output_type": "stream",
     "text": [
      "Trainig acc: 0.7007   //   Training loss: 1.0244   //   Test acc: 0.7071   //   Test loss: 1.0438\n",
      "early_stop: 1  /   Best acc: 0.7070530726256983\n",
      "Training task 0 in epoch 5. Batch size: 8.\n"
     ]
    },
    {
     "name": "stderr",
     "output_type": "stream",
     "text": [
      "100%|███████████████████████████████████████████████████████████████████████████████████████████████████████████████████| 375/375 [01:17<00:00,  4.85it/s]\n",
      "100%|███████████████████████████████████████████████████████████████████████████████████████████████████████████████████| 358/358 [00:44<00:00,  8.08it/s]\n"
     ]
    },
    {
     "name": "stdout",
     "output_type": "stream",
     "text": [
      "Trainig acc: 0.7427   //   Training loss: 0.8281   //   Test acc: 0.7119   //   Test loss: 1.0234\n",
      "early_stop: 1  /   Best acc: 0.7119413407821229\n",
      "Training task 0 in epoch 6. Batch size: 8.\n"
     ]
    },
    {
     "name": "stderr",
     "output_type": "stream",
     "text": [
      "100%|███████████████████████████████████████████████████████████████████████████████████████████████████████████████████| 375/375 [01:15<00:00,  5.00it/s]\n",
      "100%|███████████████████████████████████████████████████████████████████████████████████████████████████████████████████| 358/358 [00:43<00:00,  8.29it/s]\n"
     ]
    },
    {
     "name": "stdout",
     "output_type": "stream",
     "text": [
      "Trainig acc: 0.7967   //   Training loss: 0.6586   //   Test acc: 0.7235   //   Test loss: 0.9325\n",
      "early_stop: 1  /   Best acc: 0.723463687150838\n",
      "Training task 0 in epoch 7. Batch size: 8.\n"
     ]
    },
    {
     "name": "stderr",
     "output_type": "stream",
     "text": [
      "100%|███████████████████████████████████████████████████████████████████████████████████████████████████████████████████| 375/375 [01:15<00:00,  4.98it/s]\n",
      "100%|███████████████████████████████████████████████████████████████████████████████████████████████████████████████████| 358/358 [00:43<00:00,  8.21it/s]\n"
     ]
    },
    {
     "name": "stdout",
     "output_type": "stream",
     "text": [
      "Trainig acc: 0.8323   //   Training loss: 0.5455   //   Test acc: 0.7350   //   Test loss: 0.9263\n",
      "early_stop: 1  /   Best acc: 0.734986033519553\n",
      "Training task 0 in epoch 8. Batch size: 8.\n"
     ]
    },
    {
     "name": "stderr",
     "output_type": "stream",
     "text": [
      "100%|███████████████████████████████████████████████████████████████████████████████████████████████████████████████████| 375/375 [01:15<00:00,  4.96it/s]\n",
      "100%|███████████████████████████████████████████████████████████████████████████████████████████████████████████████████| 358/358 [00:42<00:00,  8.39it/s]\n"
     ]
    },
    {
     "name": "stdout",
     "output_type": "stream",
     "text": [
      "Trainig acc: 0.8803   //   Training loss: 0.4133   //   Test acc: 0.7448   //   Test loss: 0.9002\n",
      "early_stop: 1  /   Best acc: 0.7447625698324022\n",
      "Training task 0 in epoch 9. Batch size: 8.\n"
     ]
    },
    {
     "name": "stderr",
     "output_type": "stream",
     "text": [
      "100%|███████████████████████████████████████████████████████████████████████████████████████████████████████████████████| 375/375 [01:15<00:00,  4.94it/s]\n",
      "100%|███████████████████████████████████████████████████████████████████████████████████████████████████████████████████| 358/358 [00:43<00:00,  8.19it/s]\n"
     ]
    },
    {
     "name": "stdout",
     "output_type": "stream",
     "text": [
      "Trainig acc: 0.8857   //   Training loss: 0.3764   //   Test acc: 0.7451   //   Test loss: 0.9091\n",
      "early_stop: 1  /   Best acc: 0.7451117318435754\n",
      "Training task 0 in epoch 10. Batch size: 8.\n"
     ]
    },
    {
     "name": "stderr",
     "output_type": "stream",
     "text": [
      "100%|███████████████████████████████████████████████████████████████████████████████████████████████████████████████████| 375/375 [01:15<00:00,  4.98it/s]\n",
      "100%|███████████████████████████████████████████████████████████████████████████████████████████████████████████████████| 358/358 [00:42<00:00,  8.38it/s]\n"
     ]
    },
    {
     "name": "stdout",
     "output_type": "stream",
     "text": [
      "Trainig acc: 0.9117   //   Training loss: 0.2856   //   Test acc: 0.7531   //   Test loss: 0.9179\n",
      "early_stop: 1  /   Best acc: 0.7531424581005587\n",
      "Training task 0 in epoch 11. Batch size: 8.\n"
     ]
    },
    {
     "name": "stderr",
     "output_type": "stream",
     "text": [
      "100%|███████████████████████████████████████████████████████████████████████████████████████████████████████████████████| 375/375 [01:14<00:00,  5.06it/s]\n",
      "100%|███████████████████████████████████████████████████████████████████████████████████████████████████████████████████| 358/358 [00:43<00:00,  8.19it/s]\n"
     ]
    },
    {
     "name": "stdout",
     "output_type": "stream",
     "text": [
      "Trainig acc: 0.9313   //   Training loss: 0.2434   //   Test acc: 0.7451   //   Test loss: 0.9193\n",
      "early_stop: 2  /   Best acc: 0.7531424581005587\n",
      "Training task 0 in epoch 12. Batch size: 8.\n"
     ]
    },
    {
     "name": "stderr",
     "output_type": "stream",
     "text": [
      "100%|███████████████████████████████████████████████████████████████████████████████████████████████████████████████████| 375/375 [01:15<00:00,  4.96it/s]\n",
      "100%|███████████████████████████████████████████████████████████████████████████████████████████████████████████████████| 358/358 [00:44<00:00,  8.10it/s]\n"
     ]
    },
    {
     "name": "stdout",
     "output_type": "stream",
     "text": [
      "Trainig acc: 0.9443   //   Training loss: 0.2016   //   Test acc: 0.7528   //   Test loss: 0.9013\n",
      "early_stop: 3  /   Best acc: 0.7531424581005587\n",
      "Training task 0 in epoch 13. Batch size: 8.\n"
     ]
    },
    {
     "name": "stderr",
     "output_type": "stream",
     "text": [
      "100%|███████████████████████████████████████████████████████████████████████████████████████████████████████████████████| 375/375 [01:16<00:00,  4.92it/s]\n",
      "100%|███████████████████████████████████████████████████████████████████████████████████████████████████████████████████| 358/358 [00:42<00:00,  8.38it/s]\n"
     ]
    },
    {
     "name": "stdout",
     "output_type": "stream",
     "text": [
      "Trainig acc: 0.9537   //   Training loss: 0.1611   //   Test acc: 0.7545   //   Test loss: 0.9446\n",
      "early_stop: 1  /   Best acc: 0.7545391061452514\n",
      "Training task 0 in epoch 14. Batch size: 8.\n"
     ]
    },
    {
     "name": "stderr",
     "output_type": "stream",
     "text": [
      "100%|███████████████████████████████████████████████████████████████████████████████████████████████████████████████████| 375/375 [01:15<00:00,  4.97it/s]\n",
      "100%|███████████████████████████████████████████████████████████████████████████████████████████████████████████████████| 358/358 [00:43<00:00,  8.28it/s]\n"
     ]
    },
    {
     "name": "stdout",
     "output_type": "stream",
     "text": [
      "Trainig acc: 0.954   //   Training loss: 0.1457   //   Test acc: 0.7503   //   Test loss: 0.9294\n",
      "early_stop: 2  /   Best acc: 0.7545391061452514\n",
      "Training task 0 in epoch 15. Batch size: 8.\n"
     ]
    },
    {
     "name": "stderr",
     "output_type": "stream",
     "text": [
      "100%|███████████████████████████████████████████████████████████████████████████████████████████████████████████████████| 375/375 [01:15<00:00,  4.96it/s]\n",
      "100%|███████████████████████████████████████████████████████████████████████████████████████████████████████████████████| 358/358 [00:44<00:00,  8.09it/s]\n"
     ]
    },
    {
     "name": "stdout",
     "output_type": "stream",
     "text": [
      "Trainig acc: 0.975   //   Training loss: 0.1001   //   Test acc: 0.7500   //   Test loss: 0.9827\n",
      "early_stop: 3  /   Best acc: 0.7545391061452514\n",
      "Training task 0 in epoch 16. Batch size: 8.\n"
     ]
    },
    {
     "name": "stderr",
     "output_type": "stream",
     "text": [
      "100%|███████████████████████████████████████████████████████████████████████████████████████████████████████████████████| 375/375 [01:15<00:00,  4.95it/s]\n",
      "100%|███████████████████████████████████████████████████████████████████████████████████████████████████████████████████| 358/358 [00:43<00:00,  8.25it/s]\n"
     ]
    },
    {
     "name": "stdout",
     "output_type": "stream",
     "text": [
      "Trainig acc: 0.9693   //   Training loss: 0.0999   //   Test acc: 0.7455   //   Test loss: 1.0012\n",
      "early_stop: 4  /   Best acc: 0.7545391061452514\n",
      "Training task 0 in epoch 17. Batch size: 8.\n"
     ]
    },
    {
     "name": "stderr",
     "output_type": "stream",
     "text": [
      "100%|███████████████████████████████████████████████████████████████████████████████████████████████████████████████████| 375/375 [01:15<00:00,  4.94it/s]\n",
      "100%|███████████████████████████████████████████████████████████████████████████████████████████████████████████████████| 358/358 [00:43<00:00,  8.18it/s]\n"
     ]
    },
    {
     "name": "stdout",
     "output_type": "stream",
     "text": [
      "Trainig acc: 0.975   //   Training loss: 0.0935   //   Test acc: 0.7584   //   Test loss: 0.9944\n",
      "early_stop: 1  /   Best acc: 0.7583798882681564\n",
      "Training task 0 in epoch 18. Batch size: 8.\n"
     ]
    },
    {
     "name": "stderr",
     "output_type": "stream",
     "text": [
      "100%|███████████████████████████████████████████████████████████████████████████████████████████████████████████████████| 375/375 [01:15<00:00,  4.97it/s]\n",
      "100%|███████████████████████████████████████████████████████████████████████████████████████████████████████████████████| 358/358 [00:42<00:00,  8.38it/s]\n"
     ]
    },
    {
     "name": "stdout",
     "output_type": "stream",
     "text": [
      "Trainig acc: 0.9767   //   Training loss: 0.0775   //   Test acc: 0.7542   //   Test loss: 1.0321\n",
      "early_stop: 2  /   Best acc: 0.7583798882681564\n",
      "Training task 0 in epoch 19. Batch size: 8.\n"
     ]
    },
    {
     "name": "stderr",
     "output_type": "stream",
     "text": [
      "100%|███████████████████████████████████████████████████████████████████████████████████████████████████████████████████| 375/375 [01:15<00:00,  4.95it/s]\n",
      "100%|███████████████████████████████████████████████████████████████████████████████████████████████████████████████████| 358/358 [00:43<00:00,  8.24it/s]\n"
     ]
    },
    {
     "name": "stdout",
     "output_type": "stream",
     "text": [
      "Trainig acc: 0.9823   //   Training loss: 0.0653   //   Test acc: 0.7570   //   Test loss: 1.0552\n",
      "early_stop: 3  /   Best acc: 0.7583798882681564\n",
      "Training task 0 in epoch 20. Batch size: 8.\n"
     ]
    },
    {
     "name": "stderr",
     "output_type": "stream",
     "text": [
      "100%|███████████████████████████████████████████████████████████████████████████████████████████████████████████████████| 375/375 [01:15<00:00,  4.95it/s]\n",
      "100%|███████████████████████████████████████████████████████████████████████████████████████████████████████████████████| 358/358 [00:45<00:00,  7.92it/s]\n"
     ]
    },
    {
     "name": "stdout",
     "output_type": "stream",
     "text": [
      "Trainig acc: 0.987   //   Training loss: 0.0529   //   Test acc: 0.7580   //   Test loss: 1.0391\n",
      "early_stop: 4  /   Best acc: 0.7583798882681564\n",
      "Training task 0 in epoch 21. Batch size: 8.\n"
     ]
    },
    {
     "name": "stderr",
     "output_type": "stream",
     "text": [
      "100%|███████████████████████████████████████████████████████████████████████████████████████████████████████████████████| 375/375 [01:16<00:00,  4.93it/s]\n",
      "100%|███████████████████████████████████████████████████████████████████████████████████████████████████████████████████| 358/358 [00:42<00:00,  8.45it/s]\n"
     ]
    },
    {
     "name": "stdout",
     "output_type": "stream",
     "text": [
      "Trainig acc: 0.9853   //   Training loss: 0.0585   //   Test acc: 0.7591   //   Test loss: 1.0230\n",
      "early_stop: 1  /   Best acc: 0.7590782122905028\n",
      "Training task 0 in epoch 22. Batch size: 8.\n"
     ]
    },
    {
     "name": "stderr",
     "output_type": "stream",
     "text": [
      "100%|███████████████████████████████████████████████████████████████████████████████████████████████████████████████████| 375/375 [01:14<00:00,  5.03it/s]\n",
      "100%|███████████████████████████████████████████████████████████████████████████████████████████████████████████████████| 358/358 [00:43<00:00,  8.30it/s]\n"
     ]
    },
    {
     "name": "stdout",
     "output_type": "stream",
     "text": [
      "Trainig acc: 0.9863   //   Training loss: 0.0465   //   Test acc: 0.7612   //   Test loss: 1.0581\n",
      "early_stop: 1  /   Best acc: 0.7611731843575419\n",
      "Training task 0 in epoch 23. Batch size: 8.\n"
     ]
    },
    {
     "name": "stderr",
     "output_type": "stream",
     "text": [
      "100%|███████████████████████████████████████████████████████████████████████████████████████████████████████████████████| 375/375 [01:15<00:00,  4.98it/s]\n",
      "100%|███████████████████████████████████████████████████████████████████████████████████████████████████████████████████| 358/358 [00:43<00:00,  8.27it/s]\n"
     ]
    },
    {
     "name": "stdout",
     "output_type": "stream",
     "text": [
      "Trainig acc: 0.9927   //   Training loss: 0.0345   //   Test acc: 0.7545   //   Test loss: 1.1009\n",
      "early_stop: 2  /   Best acc: 0.7611731843575419\n",
      "Training task 0 in epoch 24. Batch size: 8.\n"
     ]
    },
    {
     "name": "stderr",
     "output_type": "stream",
     "text": [
      "100%|███████████████████████████████████████████████████████████████████████████████████████████████████████████████████| 375/375 [01:16<00:00,  4.92it/s]\n",
      "100%|███████████████████████████████████████████████████████████████████████████████████████████████████████████████████| 358/358 [00:44<00:00,  8.09it/s]\n"
     ]
    },
    {
     "name": "stdout",
     "output_type": "stream",
     "text": [
      "Trainig acc: 0.9807   //   Training loss: 0.0577   //   Test acc: 0.7542   //   Test loss: 1.1151\n",
      "early_stop: 3  /   Best acc: 0.7611731843575419\n",
      "Training task 0 in epoch 25. Batch size: 8.\n"
     ]
    },
    {
     "name": "stderr",
     "output_type": "stream",
     "text": [
      "100%|███████████████████████████████████████████████████████████████████████████████████████████████████████████████████| 375/375 [01:15<00:00,  4.94it/s]\n",
      "100%|███████████████████████████████████████████████████████████████████████████████████████████████████████████████████| 358/358 [00:44<00:00,  8.12it/s]\n"
     ]
    },
    {
     "name": "stdout",
     "output_type": "stream",
     "text": [
      "Trainig acc: 0.989   //   Training loss: 0.0390   //   Test acc: 0.7566   //   Test loss: 1.1216\n",
      "early_stop: 4  /   Best acc: 0.7611731843575419\n",
      "Training task 0 in epoch 26. Batch size: 8.\n"
     ]
    },
    {
     "name": "stderr",
     "output_type": "stream",
     "text": [
      "100%|███████████████████████████████████████████████████████████████████████████████████████████████████████████████████| 375/375 [01:16<00:00,  4.93it/s]\n",
      "100%|███████████████████████████████████████████████████████████████████████████████████████████████████████████████████| 358/358 [00:43<00:00,  8.17it/s]\n"
     ]
    },
    {
     "name": "stdout",
     "output_type": "stream",
     "text": [
      "Trainig acc: 0.9893   //   Training loss: 0.0411   //   Test acc: 0.7643   //   Test loss: 1.1016\n",
      "early_stop: 1  /   Best acc: 0.7643156424581006\n",
      "Training task 0 in epoch 27. Batch size: 8.\n"
     ]
    },
    {
     "name": "stderr",
     "output_type": "stream",
     "text": [
      "100%|███████████████████████████████████████████████████████████████████████████████████████████████████████████████████| 375/375 [01:15<00:00,  4.94it/s]\n",
      "100%|███████████████████████████████████████████████████████████████████████████████████████████████████████████████████| 358/358 [00:43<00:00,  8.15it/s]\n"
     ]
    },
    {
     "name": "stdout",
     "output_type": "stream",
     "text": [
      "Trainig acc: 0.993   //   Training loss: 0.0297   //   Test acc: 0.7563   //   Test loss: 1.1429\n",
      "early_stop: 2  /   Best acc: 0.7643156424581006\n",
      "Training task 0 in epoch 28. Batch size: 8.\n"
     ]
    },
    {
     "name": "stderr",
     "output_type": "stream",
     "text": [
      "100%|███████████████████████████████████████████████████████████████████████████████████████████████████████████████████| 375/375 [01:15<00:00,  4.94it/s]\n",
      "100%|███████████████████████████████████████████████████████████████████████████████████████████████████████████████████| 358/358 [00:43<00:00,  8.17it/s]\n"
     ]
    },
    {
     "name": "stdout",
     "output_type": "stream",
     "text": [
      "Trainig acc: 0.9897   //   Training loss: 0.0373   //   Test acc: 0.7619   //   Test loss: 1.1295\n",
      "early_stop: 3  /   Best acc: 0.7643156424581006\n",
      "Training task 0 in epoch 29. Batch size: 8.\n"
     ]
    },
    {
     "name": "stderr",
     "output_type": "stream",
     "text": [
      "100%|███████████████████████████████████████████████████████████████████████████████████████████████████████████████████| 375/375 [01:16<00:00,  4.91it/s]\n",
      "100%|███████████████████████████████████████████████████████████████████████████████████████████████████████████████████| 358/358 [00:44<00:00,  8.11it/s]\n"
     ]
    },
    {
     "name": "stdout",
     "output_type": "stream",
     "text": [
      "Trainig acc: 0.9917   //   Training loss: 0.0295   //   Test acc: 0.7636   //   Test loss: 1.0927\n",
      "early_stop: 4  /   Best acc: 0.7643156424581006\n",
      "Training task 0 in epoch 30. Batch size: 8.\n"
     ]
    },
    {
     "name": "stderr",
     "output_type": "stream",
     "text": [
      "100%|███████████████████████████████████████████████████████████████████████████████████████████████████████████████████| 375/375 [01:16<00:00,  4.91it/s]\n",
      "100%|███████████████████████████████████████████████████████████████████████████████████████████████████████████████████| 358/358 [00:44<00:00,  8.02it/s]\n"
     ]
    },
    {
     "name": "stdout",
     "output_type": "stream",
     "text": [
      "Trainig acc: 0.9903   //   Training loss: 0.0309   //   Test acc: 0.7545   //   Test loss: 1.1847\n",
      "early_stop: 5  /   Best acc: 0.7643156424581006\n",
      "Training task 0 in epoch 31. Batch size: 8.\n"
     ]
    },
    {
     "name": "stderr",
     "output_type": "stream",
     "text": [
      "100%|███████████████████████████████████████████████████████████████████████████████████████████████████████████████████| 375/375 [01:16<00:00,  4.92it/s]\n",
      "100%|███████████████████████████████████████████████████████████████████████████████████████████████████████████████████| 358/358 [00:44<00:00,  8.14it/s]\n"
     ]
    },
    {
     "name": "stdout",
     "output_type": "stream",
     "text": [
      "Trainig acc: 0.9913   //   Training loss: 0.0286   //   Test acc: 0.7675   //   Test loss: 1.1173\n",
      "early_stop: 1  /   Best acc: 0.7674581005586593\n",
      "Training task 0 in epoch 32. Batch size: 8.\n"
     ]
    },
    {
     "name": "stderr",
     "output_type": "stream",
     "text": [
      "100%|███████████████████████████████████████████████████████████████████████████████████████████████████████████████████| 375/375 [01:14<00:00,  5.03it/s]\n",
      "100%|███████████████████████████████████████████████████████████████████████████████████████████████████████████████████| 358/358 [00:42<00:00,  8.45it/s]\n"
     ]
    },
    {
     "name": "stdout",
     "output_type": "stream",
     "text": [
      "Trainig acc: 0.9957   //   Training loss: 0.0192   //   Test acc: 0.7577   //   Test loss: 1.1825\n",
      "early_stop: 2  /   Best acc: 0.7674581005586593\n",
      "Training task 0 in epoch 33. Batch size: 8.\n"
     ]
    },
    {
     "name": "stderr",
     "output_type": "stream",
     "text": [
      "100%|███████████████████████████████████████████████████████████████████████████████████████████████████████████████████| 375/375 [01:14<00:00,  5.02it/s]\n",
      "100%|███████████████████████████████████████████████████████████████████████████████████████████████████████████████████| 358/358 [00:41<00:00,  8.56it/s]\n"
     ]
    },
    {
     "name": "stdout",
     "output_type": "stream",
     "text": [
      "Trainig acc: 0.994   //   Training loss: 0.0249   //   Test acc: 0.7542   //   Test loss: 1.1369\n",
      "early_stop: 3  /   Best acc: 0.7674581005586593\n",
      "Training task 0 in epoch 34. Batch size: 8.\n"
     ]
    },
    {
     "name": "stderr",
     "output_type": "stream",
     "text": [
      "100%|███████████████████████████████████████████████████████████████████████████████████████████████████████████████████| 375/375 [01:13<00:00,  5.07it/s]\n",
      "100%|███████████████████████████████████████████████████████████████████████████████████████████████████████████████████| 358/358 [00:40<00:00,  8.80it/s]\n"
     ]
    },
    {
     "name": "stdout",
     "output_type": "stream",
     "text": [
      "Trainig acc: 0.9953   //   Training loss: 0.0222   //   Test acc: 0.7566   //   Test loss: 1.1446\n",
      "early_stop: 4  /   Best acc: 0.7674581005586593\n",
      "Training task 0 in epoch 35. Batch size: 8.\n"
     ]
    },
    {
     "name": "stderr",
     "output_type": "stream",
     "text": [
      "100%|███████████████████████████████████████████████████████████████████████████████████████████████████████████████████| 375/375 [01:13<00:00,  5.07it/s]\n",
      "100%|███████████████████████████████████████████████████████████████████████████████████████████████████████████████████| 358/358 [00:41<00:00,  8.59it/s]\n"
     ]
    },
    {
     "name": "stdout",
     "output_type": "stream",
     "text": [
      "Trainig acc: 0.993   //   Training loss: 0.0264   //   Test acc: 0.7559   //   Test loss: 1.1475\n",
      "early_stop: 5  /   Best acc: 0.7674581005586593\n",
      "Training task 0 in epoch 36. Batch size: 8.\n"
     ]
    },
    {
     "name": "stderr",
     "output_type": "stream",
     "text": [
      "100%|███████████████████████████████████████████████████████████████████████████████████████████████████████████████████| 375/375 [01:13<00:00,  5.07it/s]\n",
      "100%|███████████████████████████████████████████████████████████████████████████████████████████████████████████████████| 358/358 [00:40<00:00,  8.81it/s]\n"
     ]
    },
    {
     "name": "stdout",
     "output_type": "stream",
     "text": [
      "Trainig acc: 0.9933   //   Training loss: 0.0224   //   Test acc: 0.7531   //   Test loss: 1.1821\n",
      "early_stop: 6  /   Best acc: 0.7674581005586593\n",
      "Training task 0 in epoch 37. Batch size: 8.\n"
     ]
    },
    {
     "name": "stderr",
     "output_type": "stream",
     "text": [
      "100%|███████████████████████████████████████████████████████████████████████████████████████████████████████████████████| 375/375 [01:13<00:00,  5.07it/s]\n",
      "100%|███████████████████████████████████████████████████████████████████████████████████████████████████████████████████| 358/358 [00:41<00:00,  8.73it/s]\n"
     ]
    },
    {
     "name": "stdout",
     "output_type": "stream",
     "text": [
      "Trainig acc: 0.9973   //   Training loss: 0.0145   //   Test acc: 0.7594   //   Test loss: 1.1328\n",
      "early_stop: 7  /   Best acc: 0.7674581005586593\n",
      "Training task 0 in epoch 38. Batch size: 8.\n"
     ]
    },
    {
     "name": "stderr",
     "output_type": "stream",
     "text": [
      "100%|███████████████████████████████████████████████████████████████████████████████████████████████████████████████████| 375/375 [01:14<00:00,  5.05it/s]\n",
      "100%|███████████████████████████████████████████████████████████████████████████████████████████████████████████████████| 358/358 [00:41<00:00,  8.60it/s]\n"
     ]
    },
    {
     "name": "stdout",
     "output_type": "stream",
     "text": [
      "Trainig acc: 0.9973   //   Training loss: 0.0151   //   Test acc: 0.7640   //   Test loss: 1.1149\n",
      "early_stop: 8  /   Best acc: 0.7674581005586593\n",
      "Training task 0 in epoch 39. Batch size: 8.\n"
     ]
    },
    {
     "name": "stderr",
     "output_type": "stream",
     "text": [
      "100%|███████████████████████████████████████████████████████████████████████████████████████████████████████████████████| 375/375 [01:14<00:00,  5.07it/s]\n",
      "100%|███████████████████████████████████████████████████████████████████████████████████████████████████████████████████| 358/358 [00:41<00:00,  8.72it/s]\n"
     ]
    },
    {
     "name": "stdout",
     "output_type": "stream",
     "text": [
      "Trainig acc: 0.9973   //   Training loss: 0.0145   //   Test acc: 0.7633   //   Test loss: 1.1345\n",
      "early_stop: 9  /   Best acc: 0.7674581005586593\n",
      "Training task 0 in epoch 40. Batch size: 8.\n"
     ]
    },
    {
     "name": "stderr",
     "output_type": "stream",
     "text": [
      "100%|███████████████████████████████████████████████████████████████████████████████████████████████████████████████████| 375/375 [01:13<00:00,  5.08it/s]\n",
      "100%|███████████████████████████████████████████████████████████████████████████████████████████████████████████████████| 358/358 [00:40<00:00,  8.79it/s]\n"
     ]
    },
    {
     "name": "stdout",
     "output_type": "stream",
     "text": [
      "Trainig acc: 0.9987   //   Training loss: 0.0102   //   Test acc: 0.7661   //   Test loss: 1.1367\n",
      "early_stop: 10  /   Best acc: 0.7674581005586593\n",
      "Training task 0 in epoch 41. Batch size: 8.\n"
     ]
    },
    {
     "name": "stderr",
     "output_type": "stream",
     "text": [
      "100%|███████████████████████████████████████████████████████████████████████████████████████████████████████████████████| 375/375 [01:13<00:00,  5.07it/s]\n",
      "100%|███████████████████████████████████████████████████████████████████████████████████████████████████████████████████| 358/358 [00:41<00:00,  8.55it/s]\n"
     ]
    },
    {
     "name": "stdout",
     "output_type": "stream",
     "text": [
      "Trainig acc: 0.9963   //   Training loss: 0.0132   //   Test acc: 0.7713   //   Test loss: 1.1074\n",
      "early_stop: 1  /   Best acc: 0.7712988826815642\n",
      "Training task 0 in epoch 42. Batch size: 8.\n"
     ]
    },
    {
     "name": "stderr",
     "output_type": "stream",
     "text": [
      "100%|███████████████████████████████████████████████████████████████████████████████████████████████████████████████████| 375/375 [01:13<00:00,  5.08it/s]\n",
      "100%|███████████████████████████████████████████████████████████████████████████████████████████████████████████████████| 358/358 [00:41<00:00,  8.56it/s]\n"
     ]
    },
    {
     "name": "stdout",
     "output_type": "stream",
     "text": [
      "Trainig acc: 0.9987   //   Training loss: 0.0096   //   Test acc: 0.7682   //   Test loss: 1.1289\n",
      "early_stop: 2  /   Best acc: 0.7712988826815642\n",
      "Training task 0 in epoch 43. Batch size: 8.\n"
     ]
    },
    {
     "name": "stderr",
     "output_type": "stream",
     "text": [
      "100%|███████████████████████████████████████████████████████████████████████████████████████████████████████████████████| 375/375 [01:13<00:00,  5.08it/s]\n",
      "100%|███████████████████████████████████████████████████████████████████████████████████████████████████████████████████| 358/358 [00:40<00:00,  8.91it/s]\n"
     ]
    },
    {
     "name": "stdout",
     "output_type": "stream",
     "text": [
      "Trainig acc: 0.9983   //   Training loss: 0.0097   //   Test acc: 0.7703   //   Test loss: 1.1350\n",
      "early_stop: 3  /   Best acc: 0.7712988826815642\n",
      "Training task 0 in epoch 44. Batch size: 8.\n"
     ]
    },
    {
     "name": "stderr",
     "output_type": "stream",
     "text": [
      "100%|███████████████████████████████████████████████████████████████████████████████████████████████████████████████████| 375/375 [01:13<00:00,  5.07it/s]\n",
      "100%|███████████████████████████████████████████████████████████████████████████████████████████████████████████████████| 358/358 [00:42<00:00,  8.46it/s]\n"
     ]
    },
    {
     "name": "stdout",
     "output_type": "stream",
     "text": [
      "Trainig acc: 0.9993   //   Training loss: 0.0066   //   Test acc: 0.7727   //   Test loss: 1.1390\n",
      "early_stop: 1  /   Best acc: 0.772695530726257\n",
      "Training task 0 in epoch 45. Batch size: 8.\n"
     ]
    },
    {
     "name": "stderr",
     "output_type": "stream",
     "text": [
      "100%|███████████████████████████████████████████████████████████████████████████████████████████████████████████████████| 375/375 [01:16<00:00,  4.89it/s]\n",
      "100%|███████████████████████████████████████████████████████████████████████████████████████████████████████████████████| 358/358 [00:44<00:00,  8.05it/s]\n"
     ]
    },
    {
     "name": "stdout",
     "output_type": "stream",
     "text": [
      "Trainig acc: 0.999   //   Training loss: 0.0090   //   Test acc: 0.7720   //   Test loss: 1.1253\n",
      "early_stop: 2  /   Best acc: 0.772695530726257\n",
      "Training task 0 in epoch 46. Batch size: 8.\n"
     ]
    },
    {
     "name": "stderr",
     "output_type": "stream",
     "text": [
      "100%|███████████████████████████████████████████████████████████████████████████████████████████████████████████████████| 375/375 [01:15<00:00,  4.97it/s]\n",
      "100%|███████████████████████████████████████████████████████████████████████████████████████████████████████████████████| 358/358 [00:42<00:00,  8.41it/s]\n"
     ]
    },
    {
     "name": "stdout",
     "output_type": "stream",
     "text": [
      "Trainig acc: 0.999   //   Training loss: 0.0062   //   Test acc: 0.7689   //   Test loss: 1.1493\n",
      "early_stop: 3  /   Best acc: 0.772695530726257\n",
      "Training task 0 in epoch 47. Batch size: 8.\n"
     ]
    },
    {
     "name": "stderr",
     "output_type": "stream",
     "text": [
      "100%|███████████████████████████████████████████████████████████████████████████████████████████████████████████████████| 375/375 [01:14<00:00,  5.01it/s]\n",
      "100%|███████████████████████████████████████████████████████████████████████████████████████████████████████████████████| 358/358 [00:43<00:00,  8.25it/s]\n"
     ]
    },
    {
     "name": "stdout",
     "output_type": "stream",
     "text": [
      "Trainig acc: 0.999   //   Training loss: 0.0069   //   Test acc: 0.7657   //   Test loss: 1.1218\n",
      "early_stop: 4  /   Best acc: 0.772695530726257\n",
      "Training task 0 in epoch 48. Batch size: 8.\n"
     ]
    },
    {
     "name": "stderr",
     "output_type": "stream",
     "text": [
      "100%|███████████████████████████████████████████████████████████████████████████████████████████████████████████████████| 375/375 [01:14<00:00,  5.04it/s]\n",
      "100%|███████████████████████████████████████████████████████████████████████████████████████████████████████████████████| 358/358 [00:42<00:00,  8.44it/s]\n"
     ]
    },
    {
     "name": "stdout",
     "output_type": "stream",
     "text": [
      "Trainig acc: 0.9977   //   Training loss: 0.0086   //   Test acc: 0.7692   //   Test loss: 1.1296\n",
      "early_stop: 5  /   Best acc: 0.772695530726257\n",
      "Training task 0 in epoch 49. Batch size: 8.\n"
     ]
    },
    {
     "name": "stderr",
     "output_type": "stream",
     "text": [
      "100%|███████████████████████████████████████████████████████████████████████████████████████████████████████████████████| 375/375 [01:15<00:00,  5.00it/s]\n",
      "100%|███████████████████████████████████████████████████████████████████████████████████████████████████████████████████| 358/358 [00:42<00:00,  8.40it/s]\n"
     ]
    },
    {
     "name": "stdout",
     "output_type": "stream",
     "text": [
      "Trainig acc: 0.9993   //   Training loss: 0.0061   //   Test acc: 0.7709   //   Test loss: 1.1321\n",
      "early_stop: 6  /   Best acc: 0.772695530726257\n",
      "Training task 0 in epoch 50. Batch size: 8.\n"
     ]
    },
    {
     "name": "stderr",
     "output_type": "stream",
     "text": [
      "100%|███████████████████████████████████████████████████████████████████████████████████████████████████████████████████| 375/375 [01:14<00:00,  5.06it/s]\n",
      "100%|███████████████████████████████████████████████████████████████████████████████████████████████████████████████████| 358/358 [00:42<00:00,  8.48it/s]\n"
     ]
    },
    {
     "name": "stdout",
     "output_type": "stream",
     "text": [
      "Trainig acc: 0.999   //   Training loss: 0.0061   //   Test acc: 0.7734   //   Test loss: 1.1277\n",
      "early_stop: 1  /   Best acc: 0.7733938547486033\n",
      "Training task 0 in epoch 51. Batch size: 8.\n"
     ]
    },
    {
     "name": "stderr",
     "output_type": "stream",
     "text": [
      "100%|███████████████████████████████████████████████████████████████████████████████████████████████████████████████████| 375/375 [01:13<00:00,  5.07it/s]\n",
      "100%|███████████████████████████████████████████████████████████████████████████████████████████████████████████████████| 358/358 [00:41<00:00,  8.53it/s]\n"
     ]
    },
    {
     "name": "stdout",
     "output_type": "stream",
     "text": [
      "Trainig acc: 0.9993   //   Training loss: 0.0051   //   Test acc: 0.7692   //   Test loss: 1.1395\n",
      "early_stop: 2  /   Best acc: 0.7733938547486033\n",
      "Training task 0 in epoch 52. Batch size: 8.\n"
     ]
    },
    {
     "name": "stderr",
     "output_type": "stream",
     "text": [
      "100%|███████████████████████████████████████████████████████████████████████████████████████████████████████████████████| 375/375 [01:13<00:00,  5.08it/s]\n",
      "100%|███████████████████████████████████████████████████████████████████████████████████████████████████████████████████| 358/358 [00:41<00:00,  8.60it/s]\n"
     ]
    },
    {
     "name": "stdout",
     "output_type": "stream",
     "text": [
      "Trainig acc: 0.9987   //   Training loss: 0.0058   //   Test acc: 0.7720   //   Test loss: 1.1251\n",
      "early_stop: 3  /   Best acc: 0.7733938547486033\n",
      "Training task 0 in epoch 53. Batch size: 8.\n"
     ]
    },
    {
     "name": "stderr",
     "output_type": "stream",
     "text": [
      "100%|███████████████████████████████████████████████████████████████████████████████████████████████████████████████████| 375/375 [01:13<00:00,  5.07it/s]\n",
      "100%|███████████████████████████████████████████████████████████████████████████████████████████████████████████████████| 358/358 [00:41<00:00,  8.64it/s]\n"
     ]
    },
    {
     "name": "stdout",
     "output_type": "stream",
     "text": [
      "Trainig acc: 0.9993   //   Training loss: 0.0058   //   Test acc: 0.7716   //   Test loss: 1.1421\n",
      "early_stop: 4  /   Best acc: 0.7733938547486033\n",
      "Training task 0 in epoch 54. Batch size: 8.\n"
     ]
    },
    {
     "name": "stderr",
     "output_type": "stream",
     "text": [
      "100%|███████████████████████████████████████████████████████████████████████████████████████████████████████████████████| 375/375 [01:14<00:00,  5.00it/s]\n",
      "100%|███████████████████████████████████████████████████████████████████████████████████████████████████████████████████| 358/358 [00:43<00:00,  8.32it/s]\n"
     ]
    },
    {
     "name": "stdout",
     "output_type": "stream",
     "text": [
      "Trainig acc: 0.9983   //   Training loss: 0.0079   //   Test acc: 0.7716   //   Test loss: 1.1240\n",
      "early_stop: 5  /   Best acc: 0.7733938547486033\n",
      "Training task 0 in epoch 55. Batch size: 8.\n"
     ]
    },
    {
     "name": "stderr",
     "output_type": "stream",
     "text": [
      "100%|███████████████████████████████████████████████████████████████████████████████████████████████████████████████████| 375/375 [01:14<00:00,  5.02it/s]\n",
      "100%|███████████████████████████████████████████████████████████████████████████████████████████████████████████████████| 358/358 [00:43<00:00,  8.17it/s]\n"
     ]
    },
    {
     "name": "stdout",
     "output_type": "stream",
     "text": [
      "Trainig acc: 0.9987   //   Training loss: 0.0059   //   Test acc: 0.7706   //   Test loss: 1.1495\n",
      "early_stop: 6  /   Best acc: 0.7733938547486033\n",
      "Training task 0 in epoch 56. Batch size: 8.\n"
     ]
    },
    {
     "name": "stderr",
     "output_type": "stream",
     "text": [
      "100%|███████████████████████████████████████████████████████████████████████████████████████████████████████████████████| 375/375 [01:14<00:00,  5.02it/s]\n",
      "100%|███████████████████████████████████████████████████████████████████████████████████████████████████████████████████| 358/358 [00:43<00:00,  8.30it/s]\n"
     ]
    },
    {
     "name": "stdout",
     "output_type": "stream",
     "text": [
      "Trainig acc: 0.9983   //   Training loss: 0.0066   //   Test acc: 0.7685   //   Test loss: 1.1245\n",
      "early_stop: 7  /   Best acc: 0.7733938547486033\n",
      "Training task 0 in epoch 57. Batch size: 8.\n"
     ]
    },
    {
     "name": "stderr",
     "output_type": "stream",
     "text": [
      "100%|███████████████████████████████████████████████████████████████████████████████████████████████████████████████████| 375/375 [01:14<00:00,  5.03it/s]\n",
      "100%|███████████████████████████████████████████████████████████████████████████████████████████████████████████████████| 358/358 [00:43<00:00,  8.32it/s]\n"
     ]
    },
    {
     "name": "stdout",
     "output_type": "stream",
     "text": [
      "Trainig acc: 0.999   //   Training loss: 0.0066   //   Test acc: 0.7682   //   Test loss: 1.1268\n",
      "early_stop: 8  /   Best acc: 0.7733938547486033\n",
      "Training task 0 in epoch 58. Batch size: 8.\n"
     ]
    },
    {
     "name": "stderr",
     "output_type": "stream",
     "text": [
      "100%|███████████████████████████████████████████████████████████████████████████████████████████████████████████████████| 375/375 [01:14<00:00,  5.04it/s]\n",
      "100%|███████████████████████████████████████████████████████████████████████████████████████████████████████████████████| 358/358 [00:41<00:00,  8.68it/s]\n"
     ]
    },
    {
     "name": "stdout",
     "output_type": "stream",
     "text": [
      "Trainig acc: 0.9997   //   Training loss: 0.0043   //   Test acc: 0.7685   //   Test loss: 1.1146\n",
      "early_stop: 9  /   Best acc: 0.7733938547486033\n",
      "Training task 0 in epoch 59. Batch size: 8.\n"
     ]
    },
    {
     "name": "stderr",
     "output_type": "stream",
     "text": [
      "100%|███████████████████████████████████████████████████████████████████████████████████████████████████████████████████| 375/375 [01:14<00:00,  5.02it/s]\n",
      "100%|███████████████████████████████████████████████████████████████████████████████████████████████████████████████████| 358/358 [00:43<00:00,  8.27it/s]\n"
     ]
    },
    {
     "name": "stdout",
     "output_type": "stream",
     "text": [
      "Trainig acc: 0.999   //   Training loss: 0.0050   //   Test acc: 0.7734   //   Test loss: 1.1209\n",
      "early_stop: 10  /   Best acc: 0.7733938547486033\n",
      "Training task 0 in epoch 60. Batch size: 8.\n"
     ]
    },
    {
     "name": "stderr",
     "output_type": "stream",
     "text": [
      "100%|███████████████████████████████████████████████████████████████████████████████████████████████████████████████████| 375/375 [01:15<00:00,  4.98it/s]\n",
      "100%|███████████████████████████████████████████████████████████████████████████████████████████████████████████████████| 358/358 [00:43<00:00,  8.31it/s]\n"
     ]
    },
    {
     "name": "stdout",
     "output_type": "stream",
     "text": [
      "Trainig acc: 0.9983   //   Training loss: 0.0069   //   Test acc: 0.7706   //   Test loss: 1.1273\n",
      "early_stop: 11  /   Best acc: 0.7733938547486033\n",
      "Training task 0 in epoch 61. Batch size: 8.\n"
     ]
    },
    {
     "name": "stderr",
     "output_type": "stream",
     "text": [
      "100%|███████████████████████████████████████████████████████████████████████████████████████████████████████████████████| 375/375 [01:15<00:00,  4.95it/s]\n",
      "100%|███████████████████████████████████████████████████████████████████████████████████████████████████████████████████| 358/358 [00:42<00:00,  8.39it/s]\n"
     ]
    },
    {
     "name": "stdout",
     "output_type": "stream",
     "text": [
      "---------------------------------------- TASK_1 ----------------------------------------\n",
      "Training task 1 in epoch 0. Batch size: 8.\n"
     ]
    },
    {
     "name": "stderr",
     "output_type": "stream",
     "text": [
      "100%|█████████████████████████████████████████████████████████████████████████████████████████████████████████████████████| 94/94 [00:18<00:00,  5.11it/s]\n",
      "100%|█████████████████████████████████████████████████████████████████████████████████████████████████████████████████████| 90/90 [00:11<00:00,  8.17it/s]\n"
     ]
    },
    {
     "name": "stdout",
     "output_type": "stream",
     "text": [
      "Trainig acc: 0.07048   //   Training loss: 4.7276   //   Test acc: 0.2045   //   Test loss: 3.2088\n",
      "early_stop: 1  /   Best acc: 0.20448179271708683\n",
      "Training task 1 in epoch 1. Batch size: 8.\n"
     ]
    },
    {
     "name": "stderr",
     "output_type": "stream",
     "text": [
      "100%|█████████████████████████████████████████████████████████████████████████████████████████████████████████████████████| 94/94 [00:19<00:00,  4.91it/s]\n",
      "100%|█████████████████████████████████████████████████████████████████████████████████████████████████████████████████████| 90/90 [00:10<00:00,  8.18it/s]\n"
     ]
    },
    {
     "name": "stdout",
     "output_type": "stream",
     "text": [
      "Trainig acc: 0.2819   //   Training loss: 2.6335   //   Test acc: 0.4314   //   Test loss: 2.0404\n",
      "early_stop: 1  /   Best acc: 0.43137254901960786\n",
      "Training task 1 in epoch 2. Batch size: 8.\n"
     ]
    },
    {
     "name": "stderr",
     "output_type": "stream",
     "text": [
      "100%|█████████████████████████████████████████████████████████████████████████████████████████████████████████████████████| 94/94 [00:18<00:00,  4.97it/s]\n",
      "100%|█████████████████████████████████████████████████████████████████████████████████████████████████████████████████████| 90/90 [00:10<00:00,  8.47it/s]\n"
     ]
    },
    {
     "name": "stdout",
     "output_type": "stream",
     "text": [
      "Trainig acc: 0.4601   //   Training loss: 1.9007   //   Test acc: 0.5350   //   Test loss: 1.5805\n",
      "early_stop: 1  /   Best acc: 0.5350140056022409\n",
      "Training task 1 in epoch 3. Batch size: 8.\n"
     ]
    },
    {
     "name": "stderr",
     "output_type": "stream",
     "text": [
      "100%|█████████████████████████████████████████████████████████████████████████████████████████████████████████████████████| 94/94 [00:18<00:00,  5.03it/s]\n",
      "100%|█████████████████████████████████████████████████████████████████████████████████████████████████████████████████████| 90/90 [00:10<00:00,  8.78it/s]\n"
     ]
    },
    {
     "name": "stdout",
     "output_type": "stream",
     "text": [
      "Trainig acc: 0.5931   //   Training loss: 1.4228   //   Test acc: 0.5868   //   Test loss: 1.3852\n",
      "early_stop: 1  /   Best acc: 0.5868347338935574\n",
      "Training task 1 in epoch 4. Batch size: 8.\n"
     ]
    },
    {
     "name": "stderr",
     "output_type": "stream",
     "text": [
      "100%|█████████████████████████████████████████████████████████████████████████████████████████████████████████████████████| 94/94 [00:18<00:00,  4.97it/s]\n",
      "100%|█████████████████████████████████████████████████████████████████████████████████████████████████████████████████████| 90/90 [00:11<00:00,  8.10it/s]\n"
     ]
    },
    {
     "name": "stdout",
     "output_type": "stream",
     "text": [
      "Trainig acc: 0.6476   //   Training loss: 1.0798   //   Test acc: 0.6471   //   Test loss: 1.1643\n",
      "early_stop: 1  /   Best acc: 0.6470588235294118\n",
      "Training task 1 in epoch 5. Batch size: 8.\n"
     ]
    },
    {
     "name": "stderr",
     "output_type": "stream",
     "text": [
      "100%|█████████████████████████████████████████████████████████████████████████████████████████████████████████████████████| 94/94 [00:19<00:00,  4.93it/s]\n",
      "100%|█████████████████████████████████████████████████████████████████████████████████████████████████████████████████████| 90/90 [00:10<00:00,  8.44it/s]\n"
     ]
    },
    {
     "name": "stdout",
     "output_type": "stream",
     "text": [
      "Trainig acc: 0.7487   //   Training loss: 0.8381   //   Test acc: 0.6597   //   Test loss: 1.0862\n",
      "early_stop: 1  /   Best acc: 0.6596638655462185\n",
      "Training task 1 in epoch 6. Batch size: 8.\n"
     ]
    },
    {
     "name": "stderr",
     "output_type": "stream",
     "text": [
      "100%|█████████████████████████████████████████████████████████████████████████████████████████████████████████████████████| 94/94 [00:18<00:00,  5.00it/s]\n",
      "100%|█████████████████████████████████████████████████████████████████████████████████████████████████████████████████████| 90/90 [00:11<00:00,  8.16it/s]\n"
     ]
    },
    {
     "name": "stdout",
     "output_type": "stream",
     "text": [
      "Trainig acc: 0.8205   //   Training loss: 0.6299   //   Test acc: 0.6821   //   Test loss: 1.0184\n",
      "early_stop: 1  /   Best acc: 0.6820728291316527\n",
      "Training task 1 in epoch 7. Batch size: 8.\n"
     ]
    },
    {
     "name": "stderr",
     "output_type": "stream",
     "text": [
      "100%|█████████████████████████████████████████████████████████████████████████████████████████████████████████████████████| 94/94 [00:19<00:00,  4.89it/s]\n",
      "100%|█████████████████████████████████████████████████████████████████████████████████████████████████████████████████████| 90/90 [00:11<00:00,  7.54it/s]\n"
     ]
    },
    {
     "name": "stdout",
     "output_type": "stream",
     "text": [
      "Trainig acc: 0.8391   //   Training loss: 0.5247   //   Test acc: 0.6933   //   Test loss: 0.9924\n",
      "early_stop: 1  /   Best acc: 0.6932773109243697\n",
      "Training task 1 in epoch 8. Batch size: 8.\n"
     ]
    },
    {
     "name": "stderr",
     "output_type": "stream",
     "text": [
      "100%|█████████████████████████████████████████████████████████████████████████████████████████████████████████████████████| 94/94 [00:19<00:00,  4.94it/s]\n",
      "100%|█████████████████████████████████████████████████████████████████████████████████████████████████████████████████████| 90/90 [00:11<00:00,  8.15it/s]\n"
     ]
    },
    {
     "name": "stdout",
     "output_type": "stream",
     "text": [
      "Trainig acc: 0.8803   //   Training loss: 0.4295   //   Test acc: 0.6933   //   Test loss: 1.0047\n",
      "early_stop: 2  /   Best acc: 0.6932773109243697\n",
      "Training task 1 in epoch 9. Batch size: 8.\n"
     ]
    },
    {
     "name": "stderr",
     "output_type": "stream",
     "text": [
      "100%|█████████████████████████████████████████████████████████████████████████████████████████████████████████████████████| 94/94 [00:19<00:00,  4.87it/s]\n",
      "100%|█████████████████████████████████████████████████████████████████████████████████████████████████████████████████████| 90/90 [00:10<00:00,  8.27it/s]\n"
     ]
    },
    {
     "name": "stdout",
     "output_type": "stream",
     "text": [
      "Trainig acc: 0.9043   //   Training loss: 0.3232   //   Test acc: 0.7143   //   Test loss: 0.9609\n",
      "early_stop: 1  /   Best acc: 0.7142857142857143\n",
      "Training task 1 in epoch 10. Batch size: 8.\n"
     ]
    },
    {
     "name": "stderr",
     "output_type": "stream",
     "text": [
      "100%|█████████████████████████████████████████████████████████████████████████████████████████████████████████████████████| 94/94 [00:18<00:00,  4.96it/s]\n",
      "100%|█████████████████████████████████████████████████████████████████████████████████████████████████████████████████████| 90/90 [00:10<00:00,  8.42it/s]\n"
     ]
    },
    {
     "name": "stdout",
     "output_type": "stream",
     "text": [
      "Trainig acc: 0.9402   //   Training loss: 0.2381   //   Test acc: 0.7017   //   Test loss: 0.9576\n",
      "early_stop: 2  /   Best acc: 0.7142857142857143\n",
      "Training task 1 in epoch 11. Batch size: 8.\n"
     ]
    },
    {
     "name": "stderr",
     "output_type": "stream",
     "text": [
      "100%|█████████████████████████████████████████████████████████████████████████████████████████████████████████████████████| 94/94 [00:19<00:00,  4.80it/s]\n",
      "100%|█████████████████████████████████████████████████████████████████████████████████████████████████████████████████████| 90/90 [00:11<00:00,  8.03it/s]\n"
     ]
    },
    {
     "name": "stdout",
     "output_type": "stream",
     "text": [
      "Trainig acc: 0.9375   //   Training loss: 0.2048   //   Test acc: 0.7115   //   Test loss: 0.9132\n",
      "early_stop: 3  /   Best acc: 0.7142857142857143\n",
      "Training task 1 in epoch 12. Batch size: 8.\n"
     ]
    },
    {
     "name": "stderr",
     "output_type": "stream",
     "text": [
      "100%|█████████████████████████████████████████████████████████████████████████████████████████████████████████████████████| 94/94 [00:19<00:00,  4.87it/s]\n",
      "100%|█████████████████████████████████████████████████████████████████████████████████████████████████████████████████████| 90/90 [00:11<00:00,  8.15it/s]\n"
     ]
    },
    {
     "name": "stdout",
     "output_type": "stream",
     "text": [
      "Trainig acc: 0.9415   //   Training loss: 0.1974   //   Test acc: 0.7199   //   Test loss: 0.9565\n",
      "early_stop: 1  /   Best acc: 0.7198879551820728\n",
      "Training task 1 in epoch 13. Batch size: 8.\n"
     ]
    },
    {
     "name": "stderr",
     "output_type": "stream",
     "text": [
      "100%|█████████████████████████████████████████████████████████████████████████████████████████████████████████████████████| 94/94 [00:18<00:00,  5.01it/s]\n",
      "100%|█████████████████████████████████████████████████████████████████████████████████████████████████████████████████████| 90/90 [00:09<00:00,  9.02it/s]\n"
     ]
    },
    {
     "name": "stdout",
     "output_type": "stream",
     "text": [
      "Trainig acc: 0.9561   //   Training loss: 0.1468   //   Test acc: 0.7129   //   Test loss: 0.9919\n",
      "early_stop: 2  /   Best acc: 0.7198879551820728\n",
      "Training task 1 in epoch 14. Batch size: 8.\n"
     ]
    },
    {
     "name": "stderr",
     "output_type": "stream",
     "text": [
      "100%|█████████████████████████████████████████████████████████████████████████████████████████████████████████████████████| 94/94 [00:18<00:00,  5.18it/s]\n",
      "100%|█████████████████████████████████████████████████████████████████████████████████████████████████████████████████████| 90/90 [00:09<00:00,  9.43it/s]\n"
     ]
    },
    {
     "name": "stdout",
     "output_type": "stream",
     "text": [
      "Trainig acc: 0.9774   //   Training loss: 0.0988   //   Test acc: 0.7255   //   Test loss: 0.9415\n",
      "early_stop: 1  /   Best acc: 0.7254901960784313\n",
      "Training task 1 in epoch 15. Batch size: 8.\n"
     ]
    },
    {
     "name": "stderr",
     "output_type": "stream",
     "text": [
      "100%|█████████████████████████████████████████████████████████████████████████████████████████████████████████████████████| 94/94 [00:18<00:00,  5.17it/s]\n",
      "100%|█████████████████████████████████████████████████████████████████████████████████████████████████████████████████████| 90/90 [00:09<00:00,  9.38it/s]\n"
     ]
    },
    {
     "name": "stdout",
     "output_type": "stream",
     "text": [
      "Trainig acc: 0.9774   //   Training loss: 0.0825   //   Test acc: 0.7199   //   Test loss: 1.0178\n",
      "early_stop: 2  /   Best acc: 0.7254901960784313\n",
      "Training task 1 in epoch 16. Batch size: 8.\n"
     ]
    },
    {
     "name": "stderr",
     "output_type": "stream",
     "text": [
      "100%|█████████████████████████████████████████████████████████████████████████████████████████████████████████████████████| 94/94 [00:18<00:00,  5.16it/s]\n",
      "100%|█████████████████████████████████████████████████████████████████████████████████████████████████████████████████████| 90/90 [00:09<00:00,  9.38it/s]\n"
     ]
    },
    {
     "name": "stdout",
     "output_type": "stream",
     "text": [
      "Trainig acc: 0.9707   //   Training loss: 0.0909   //   Test acc: 0.7451   //   Test loss: 0.9799\n",
      "early_stop: 1  /   Best acc: 0.7450980392156863\n",
      "Training task 1 in epoch 17. Batch size: 8.\n"
     ]
    },
    {
     "name": "stderr",
     "output_type": "stream",
     "text": [
      "100%|█████████████████████████████████████████████████████████████████████████████████████████████████████████████████████| 94/94 [00:18<00:00,  5.20it/s]\n",
      "100%|█████████████████████████████████████████████████████████████████████████████████████████████████████████████████████| 90/90 [00:10<00:00,  8.88it/s]\n"
     ]
    },
    {
     "name": "stdout",
     "output_type": "stream",
     "text": [
      "Trainig acc: 0.9787   //   Training loss: 0.0728   //   Test acc: 0.7269   //   Test loss: 0.9865\n",
      "early_stop: 2  /   Best acc: 0.7450980392156863\n",
      "Training task 1 in epoch 18. Batch size: 8.\n"
     ]
    },
    {
     "name": "stderr",
     "output_type": "stream",
     "text": [
      "100%|█████████████████████████████████████████████████████████████████████████████████████████████████████████████████████| 94/94 [00:18<00:00,  5.19it/s]\n",
      "100%|█████████████████████████████████████████████████████████████████████████████████████████████████████████████████████| 90/90 [00:09<00:00,  9.23it/s]\n"
     ]
    },
    {
     "name": "stdout",
     "output_type": "stream",
     "text": [
      "Trainig acc: 0.9694   //   Training loss: 0.0850   //   Test acc: 0.7199   //   Test loss: 1.0396\n",
      "early_stop: 3  /   Best acc: 0.7450980392156863\n",
      "Training task 1 in epoch 19. Batch size: 8.\n"
     ]
    },
    {
     "name": "stderr",
     "output_type": "stream",
     "text": [
      "100%|█████████████████████████████████████████████████████████████████████████████████████████████████████████████████████| 94/94 [00:18<00:00,  5.19it/s]\n",
      "100%|█████████████████████████████████████████████████████████████████████████████████████████████████████████████████████| 90/90 [00:09<00:00,  9.29it/s]\n"
     ]
    },
    {
     "name": "stdout",
     "output_type": "stream",
     "text": [
      "Trainig acc: 0.9774   //   Training loss: 0.0677   //   Test acc: 0.7353   //   Test loss: 0.9902\n",
      "early_stop: 4  /   Best acc: 0.7450980392156863\n",
      "Training task 1 in epoch 20. Batch size: 8.\n"
     ]
    },
    {
     "name": "stderr",
     "output_type": "stream",
     "text": [
      "100%|█████████████████████████████████████████████████████████████████████████████████████████████████████████████████████| 94/94 [00:18<00:00,  5.18it/s]\n",
      "100%|█████████████████████████████████████████████████████████████████████████████████████████████████████████████████████| 90/90 [00:09<00:00,  9.33it/s]\n"
     ]
    },
    {
     "name": "stdout",
     "output_type": "stream",
     "text": [
      "Trainig acc: 0.9867   //   Training loss: 0.0395   //   Test acc: 0.7283   //   Test loss: 1.0480\n",
      "early_stop: 5  /   Best acc: 0.7450980392156863\n",
      "Training task 1 in epoch 21. Batch size: 8.\n"
     ]
    },
    {
     "name": "stderr",
     "output_type": "stream",
     "text": [
      "100%|█████████████████████████████████████████████████████████████████████████████████████████████████████████████████████| 94/94 [00:18<00:00,  5.18it/s]\n",
      "100%|█████████████████████████████████████████████████████████████████████████████████████████████████████████████████████| 90/90 [00:09<00:00,  9.45it/s]\n"
     ]
    },
    {
     "name": "stdout",
     "output_type": "stream",
     "text": [
      "Trainig acc: 0.9854   //   Training loss: 0.0472   //   Test acc: 0.7311   //   Test loss: 0.9897\n",
      "early_stop: 6  /   Best acc: 0.7450980392156863\n",
      "Training task 1 in epoch 22. Batch size: 8.\n"
     ]
    },
    {
     "name": "stderr",
     "output_type": "stream",
     "text": [
      "100%|█████████████████████████████████████████████████████████████████████████████████████████████████████████████████████| 94/94 [00:18<00:00,  5.17it/s]\n",
      "100%|█████████████████████████████████████████████████████████████████████████████████████████████████████████████████████| 90/90 [00:09<00:00,  9.13it/s]\n"
     ]
    },
    {
     "name": "stdout",
     "output_type": "stream",
     "text": [
      "Trainig acc: 0.9867   //   Training loss: 0.0461   //   Test acc: 0.7395   //   Test loss: 1.0050\n",
      "early_stop: 7  /   Best acc: 0.7450980392156863\n",
      "Training task 1 in epoch 23. Batch size: 8.\n"
     ]
    },
    {
     "name": "stderr",
     "output_type": "stream",
     "text": [
      "100%|█████████████████████████████████████████████████████████████████████████████████████████████████████████████████████| 94/94 [00:18<00:00,  5.20it/s]\n",
      "100%|█████████████████████████████████████████████████████████████████████████████████████████████████████████████████████| 90/90 [00:09<00:00,  9.34it/s]\n"
     ]
    },
    {
     "name": "stdout",
     "output_type": "stream",
     "text": [
      "Trainig acc: 0.9854   //   Training loss: 0.0481   //   Test acc: 0.7283   //   Test loss: 1.0261\n",
      "early_stop: 8  /   Best acc: 0.7450980392156863\n",
      "Training task 1 in epoch 24. Batch size: 8.\n"
     ]
    },
    {
     "name": "stderr",
     "output_type": "stream",
     "text": [
      "100%|█████████████████████████████████████████████████████████████████████████████████████████████████████████████████████| 94/94 [00:18<00:00,  5.08it/s]\n",
      "100%|█████████████████████████████████████████████████████████████████████████████████████████████████████████████████████| 90/90 [00:10<00:00,  8.86it/s]\n"
     ]
    },
    {
     "name": "stdout",
     "output_type": "stream",
     "text": [
      "Trainig acc: 0.992   //   Training loss: 0.0337   //   Test acc: 0.7395   //   Test loss: 0.9899\n",
      "early_stop: 9  /   Best acc: 0.7450980392156863\n",
      "Training task 1 in epoch 25. Batch size: 8.\n"
     ]
    },
    {
     "name": "stderr",
     "output_type": "stream",
     "text": [
      "100%|█████████████████████████████████████████████████████████████████████████████████████████████████████████████████████| 94/94 [00:18<00:00,  5.13it/s]\n",
      "100%|█████████████████████████████████████████████████████████████████████████████████████████████████████████████████████| 90/90 [00:10<00:00,  8.78it/s]\n"
     ]
    },
    {
     "name": "stdout",
     "output_type": "stream",
     "text": [
      "Trainig acc: 0.9867   //   Training loss: 0.0365   //   Test acc: 0.7423   //   Test loss: 0.9810\n",
      "early_stop: 10  /   Best acc: 0.7450980392156863\n",
      "Training task 1 in epoch 26. Batch size: 8.\n"
     ]
    },
    {
     "name": "stderr",
     "output_type": "stream",
     "text": [
      "100%|█████████████████████████████████████████████████████████████████████████████████████████████████████████████████████| 94/94 [00:18<00:00,  5.15it/s]\n",
      "100%|█████████████████████████████████████████████████████████████████████████████████████████████████████████████████████| 90/90 [00:09<00:00,  9.05it/s]\n"
     ]
    },
    {
     "name": "stdout",
     "output_type": "stream",
     "text": [
      "Trainig acc: 0.992   //   Training loss: 0.0273   //   Test acc: 0.7311   //   Test loss: 0.9823\n",
      "early_stop: 11  /   Best acc: 0.7450980392156863\n",
      "Training task 1 in epoch 27. Batch size: 8.\n"
     ]
    },
    {
     "name": "stderr",
     "output_type": "stream",
     "text": [
      "100%|█████████████████████████████████████████████████████████████████████████████████████████████████████████████████████| 94/94 [00:18<00:00,  5.15it/s]\n",
      "100%|█████████████████████████████████████████████████████████████████████████████████████████████████████████████████████| 90/90 [00:09<00:00,  9.14it/s]\n"
     ]
    },
    {
     "name": "stdout",
     "output_type": "stream",
     "text": [
      "---------------------------------------- TASK_2 ----------------------------------------\n",
      "Training task 2 in epoch 0. Batch size: 8.\n"
     ]
    },
    {
     "name": "stderr",
     "output_type": "stream",
     "text": [
      "100%|█████████████████████████████████████████████████████████████████████████████████████████████████████████████████████| 94/94 [00:18<00:00,  5.17it/s]\n",
      "100%|█████████████████████████████████████████████████████████████████████████████████████████████████████████████████████| 94/94 [00:10<00:00,  8.99it/s]\n"
     ]
    },
    {
     "name": "stdout",
     "output_type": "stream",
     "text": [
      "Trainig acc: 0.06117   //   Training loss: 4.5556   //   Test acc: 0.2353   //   Test loss: 2.9843\n",
      "early_stop: 1  /   Best acc: 0.23529411764705882\n",
      "Training task 2 in epoch 1. Batch size: 8.\n"
     ]
    },
    {
     "name": "stderr",
     "output_type": "stream",
     "text": [
      "100%|█████████████████████████████████████████████████████████████████████████████████████████████████████████████████████| 94/94 [00:18<00:00,  5.10it/s]\n",
      "100%|█████████████████████████████████████████████████████████████████████████████████████████████████████████████████████| 94/94 [00:11<00:00,  8.49it/s]\n"
     ]
    },
    {
     "name": "stdout",
     "output_type": "stream",
     "text": [
      "Trainig acc: 0.2487   //   Training loss: 2.6599   //   Test acc: 0.4318   //   Test loss: 1.9389\n",
      "early_stop: 1  /   Best acc: 0.4318181818181818\n",
      "Training task 2 in epoch 2. Batch size: 8.\n"
     ]
    },
    {
     "name": "stderr",
     "output_type": "stream",
     "text": [
      "100%|█████████████████████████████████████████████████████████████████████████████████████████████████████████████████████| 94/94 [00:18<00:00,  5.12it/s]\n",
      "100%|█████████████████████████████████████████████████████████████████████████████████████████████████████████████████████| 94/94 [00:10<00:00,  9.27it/s]\n"
     ]
    },
    {
     "name": "stdout",
     "output_type": "stream",
     "text": [
      "Trainig acc: 0.4056   //   Training loss: 1.9599   //   Test acc: 0.4960   //   Test loss: 1.5523\n",
      "early_stop: 1  /   Best acc: 0.4959893048128342\n",
      "Training task 2 in epoch 3. Batch size: 8.\n"
     ]
    },
    {
     "name": "stderr",
     "output_type": "stream",
     "text": [
      "100%|█████████████████████████████████████████████████████████████████████████████████████████████████████████████████████| 94/94 [00:17<00:00,  5.27it/s]\n",
      "100%|█████████████████████████████████████████████████████████████████████████████████████████████████████████████████████| 94/94 [00:09<00:00,  9.54it/s]\n"
     ]
    },
    {
     "name": "stdout",
     "output_type": "stream",
     "text": [
      "Trainig acc: 0.5332   //   Training loss: 1.5023   //   Test acc: 0.5495   //   Test loss: 1.3517\n",
      "early_stop: 1  /   Best acc: 0.5494652406417112\n",
      "Training task 2 in epoch 4. Batch size: 8.\n"
     ]
    },
    {
     "name": "stderr",
     "output_type": "stream",
     "text": [
      "100%|█████████████████████████████████████████████████████████████████████████████████████████████████████████████████████| 94/94 [00:18<00:00,  5.20it/s]\n",
      "100%|█████████████████████████████████████████████████████████████████████████████████████████████████████████████████████| 94/94 [00:10<00:00,  9.20it/s]\n"
     ]
    },
    {
     "name": "stdout",
     "output_type": "stream",
     "text": [
      "Trainig acc: 0.6104   //   Training loss: 1.2130   //   Test acc: 0.5789   //   Test loss: 1.2299\n",
      "early_stop: 1  /   Best acc: 0.5788770053475936\n",
      "Training task 2 in epoch 5. Batch size: 8.\n"
     ]
    },
    {
     "name": "stderr",
     "output_type": "stream",
     "text": [
      "100%|█████████████████████████████████████████████████████████████████████████████████████████████████████████████████████| 94/94 [00:18<00:00,  5.20it/s]\n",
      "100%|█████████████████████████████████████████████████████████████████████████████████████████████████████████████████████| 94/94 [00:10<00:00,  9.29it/s]\n"
     ]
    },
    {
     "name": "stdout",
     "output_type": "stream",
     "text": [
      "Trainig acc: 0.6941   //   Training loss: 0.9774   //   Test acc: 0.5976   //   Test loss: 1.1114\n",
      "early_stop: 1  /   Best acc: 0.5975935828877005\n",
      "Training task 2 in epoch 6. Batch size: 8.\n"
     ]
    },
    {
     "name": "stderr",
     "output_type": "stream",
     "text": [
      "100%|█████████████████████████████████████████████████████████████████████████████████████████████████████████████████████| 94/94 [00:18<00:00,  5.20it/s]\n",
      "100%|█████████████████████████████████████████████████████████████████████████████████████████████████████████████████████| 94/94 [00:10<00:00,  9.35it/s]\n"
     ]
    },
    {
     "name": "stdout",
     "output_type": "stream",
     "text": [
      "Trainig acc: 0.7274   //   Training loss: 0.8276   //   Test acc: 0.6310   //   Test loss: 1.1087\n",
      "early_stop: 1  /   Best acc: 0.6310160427807486\n",
      "Training task 2 in epoch 7. Batch size: 8.\n"
     ]
    },
    {
     "name": "stderr",
     "output_type": "stream",
     "text": [
      "100%|█████████████████████████████████████████████████████████████████████████████████████████████████████████████████████| 94/94 [00:18<00:00,  5.17it/s]\n",
      "100%|█████████████████████████████████████████████████████████████████████████████████████████████████████████████████████| 94/94 [00:09<00:00,  9.40it/s]\n"
     ]
    },
    {
     "name": "stdout",
     "output_type": "stream",
     "text": [
      "Trainig acc: 0.7886   //   Training loss: 0.6746   //   Test acc: 0.6484   //   Test loss: 1.0409\n",
      "early_stop: 1  /   Best acc: 0.6483957219251337\n",
      "Training task 2 in epoch 8. Batch size: 8.\n"
     ]
    },
    {
     "name": "stderr",
     "output_type": "stream",
     "text": [
      "100%|█████████████████████████████████████████████████████████████████████████████████████████████████████████████████████| 94/94 [00:18<00:00,  5.20it/s]\n",
      "100%|█████████████████████████████████████████████████████████████████████████████████████████████████████████████████████| 94/94 [00:10<00:00,  9.28it/s]\n"
     ]
    },
    {
     "name": "stdout",
     "output_type": "stream",
     "text": [
      "Trainig acc: 0.8511   //   Training loss: 0.5134   //   Test acc: 0.6430   //   Test loss: 1.0478\n",
      "early_stop: 2  /   Best acc: 0.6483957219251337\n",
      "Training task 2 in epoch 9. Batch size: 8.\n"
     ]
    },
    {
     "name": "stderr",
     "output_type": "stream",
     "text": [
      "100%|█████████████████████████████████████████████████████████████████████████████████████████████████████████████████████| 94/94 [00:18<00:00,  5.18it/s]\n",
      "100%|█████████████████████████████████████████████████████████████████████████████████████████████████████████████████████| 94/94 [00:10<00:00,  8.98it/s]\n"
     ]
    },
    {
     "name": "stdout",
     "output_type": "stream",
     "text": [
      "Trainig acc: 0.8723   //   Training loss: 0.4506   //   Test acc: 0.6537   //   Test loss: 1.0296\n",
      "early_stop: 1  /   Best acc: 0.6537433155080213\n",
      "Training task 2 in epoch 10. Batch size: 8.\n"
     ]
    },
    {
     "name": "stderr",
     "output_type": "stream",
     "text": [
      "100%|█████████████████████████████████████████████████████████████████████████████████████████████████████████████████████| 94/94 [00:17<00:00,  5.29it/s]\n",
      "100%|█████████████████████████████████████████████████████████████████████████████████████████████████████████████████████| 94/94 [00:09<00:00,  9.40it/s]\n"
     ]
    },
    {
     "name": "stdout",
     "output_type": "stream",
     "text": [
      "Trainig acc: 0.8896   //   Training loss: 0.3396   //   Test acc: 0.6471   //   Test loss: 1.0320\n",
      "early_stop: 2  /   Best acc: 0.6537433155080213\n",
      "Training task 2 in epoch 11. Batch size: 8.\n"
     ]
    },
    {
     "name": "stderr",
     "output_type": "stream",
     "text": [
      "100%|█████████████████████████████████████████████████████████████████████████████████████████████████████████████████████| 94/94 [00:18<00:00,  5.19it/s]\n",
      "100%|█████████████████████████████████████████████████████████████████████████████████████████████████████████████████████| 94/94 [00:10<00:00,  9.25it/s]\n"
     ]
    },
    {
     "name": "stdout",
     "output_type": "stream",
     "text": [
      "Trainig acc: 0.9189   //   Training loss: 0.3199   //   Test acc: 0.6778   //   Test loss: 1.0051\n",
      "early_stop: 1  /   Best acc: 0.6778074866310161\n",
      "Training task 2 in epoch 12. Batch size: 8.\n"
     ]
    },
    {
     "name": "stderr",
     "output_type": "stream",
     "text": [
      "100%|█████████████████████████████████████████████████████████████████████████████████████████████████████████████████████| 94/94 [00:18<00:00,  5.18it/s]\n",
      "100%|█████████████████████████████████████████████████████████████████████████████████████████████████████████████████████| 94/94 [00:10<00:00,  9.35it/s]\n"
     ]
    },
    {
     "name": "stdout",
     "output_type": "stream",
     "text": [
      "Trainig acc: 0.9468   //   Training loss: 0.2429   //   Test acc: 0.6684   //   Test loss: 1.0427\n",
      "early_stop: 2  /   Best acc: 0.6778074866310161\n",
      "Training task 2 in epoch 13. Batch size: 8.\n"
     ]
    },
    {
     "name": "stderr",
     "output_type": "stream",
     "text": [
      "100%|█████████████████████████████████████████████████████████████████████████████████████████████████████████████████████| 94/94 [00:18<00:00,  5.19it/s]\n",
      "100%|█████████████████████████████████████████████████████████████████████████████████████████████████████████████████████| 94/94 [00:10<00:00,  9.31it/s]\n"
     ]
    },
    {
     "name": "stdout",
     "output_type": "stream",
     "text": [
      "Trainig acc: 0.9388   //   Training loss: 0.2090   //   Test acc: 0.6872   //   Test loss: 1.0054\n",
      "early_stop: 1  /   Best acc: 0.6871657754010695\n",
      "Training task 2 in epoch 14. Batch size: 8.\n"
     ]
    },
    {
     "name": "stderr",
     "output_type": "stream",
     "text": [
      "100%|█████████████████████████████████████████████████████████████████████████████████████████████████████████████████████| 94/94 [00:17<00:00,  5.27it/s]\n",
      "100%|█████████████████████████████████████████████████████████████████████████████████████████████████████████████████████| 94/94 [00:10<00:00,  9.10it/s]\n"
     ]
    },
    {
     "name": "stdout",
     "output_type": "stream",
     "text": [
      "Trainig acc: 0.9561   //   Training loss: 0.1637   //   Test acc: 0.6805   //   Test loss: 1.0461\n",
      "early_stop: 2  /   Best acc: 0.6871657754010695\n",
      "Training task 2 in epoch 15. Batch size: 8.\n"
     ]
    },
    {
     "name": "stderr",
     "output_type": "stream",
     "text": [
      "100%|█████████████████████████████████████████████████████████████████████████████████████████████████████████████████████| 94/94 [00:18<00:00,  5.18it/s]\n",
      "100%|█████████████████████████████████████████████████████████████████████████████████████████████████████████████████████| 94/94 [00:10<00:00,  9.38it/s]\n"
     ]
    },
    {
     "name": "stdout",
     "output_type": "stream",
     "text": [
      "Trainig acc: 0.9707   //   Training loss: 0.1240   //   Test acc: 0.6925   //   Test loss: 1.0523\n",
      "early_stop: 1  /   Best acc: 0.6925133689839572\n",
      "Training task 2 in epoch 16. Batch size: 8.\n"
     ]
    },
    {
     "name": "stderr",
     "output_type": "stream",
     "text": [
      "100%|█████████████████████████████████████████████████████████████████████████████████████████████████████████████████████| 94/94 [00:18<00:00,  5.19it/s]\n",
      "100%|█████████████████████████████████████████████████████████████████████████████████████████████████████████████████████| 94/94 [00:10<00:00,  9.23it/s]\n"
     ]
    },
    {
     "name": "stdout",
     "output_type": "stream",
     "text": [
      "Trainig acc: 0.9707   //   Training loss: 0.1044   //   Test acc: 0.6979   //   Test loss: 1.0997\n",
      "early_stop: 1  /   Best acc: 0.6978609625668449\n",
      "Training task 2 in epoch 17. Batch size: 8.\n"
     ]
    },
    {
     "name": "stderr",
     "output_type": "stream",
     "text": [
      "100%|█████████████████████████████████████████████████████████████████████████████████████████████████████████████████████| 94/94 [00:18<00:00,  5.19it/s]\n",
      "100%|█████████████████████████████████████████████████████████████████████████████████████████████████████████████████████| 94/94 [00:10<00:00,  8.91it/s]\n"
     ]
    },
    {
     "name": "stdout",
     "output_type": "stream",
     "text": [
      "Trainig acc: 0.9787   //   Training loss: 0.0777   //   Test acc: 0.6791   //   Test loss: 1.1426\n",
      "early_stop: 2  /   Best acc: 0.6978609625668449\n",
      "Training task 2 in epoch 18. Batch size: 8.\n"
     ]
    },
    {
     "name": "stderr",
     "output_type": "stream",
     "text": [
      "100%|█████████████████████████████████████████████████████████████████████████████████████████████████████████████████████| 94/94 [00:18<00:00,  5.17it/s]\n",
      "100%|█████████████████████████████████████████████████████████████████████████████████████████████████████████████████████| 94/94 [00:10<00:00,  9.24it/s]\n"
     ]
    },
    {
     "name": "stdout",
     "output_type": "stream",
     "text": [
      "Trainig acc: 0.9694   //   Training loss: 0.1034   //   Test acc: 0.6992   //   Test loss: 1.1315\n",
      "early_stop: 1  /   Best acc: 0.6991978609625669\n",
      "Training task 2 in epoch 19. Batch size: 8.\n"
     ]
    },
    {
     "name": "stderr",
     "output_type": "stream",
     "text": [
      "100%|█████████████████████████████████████████████████████████████████████████████████████████████████████████████████████| 94/94 [00:18<00:00,  5.20it/s]\n",
      "100%|█████████████████████████████████████████████████████████████████████████████████████████████████████████████████████| 94/94 [00:10<00:00,  9.29it/s]\n"
     ]
    },
    {
     "name": "stdout",
     "output_type": "stream",
     "text": [
      "Trainig acc: 0.9774   //   Training loss: 0.0722   //   Test acc: 0.6965   //   Test loss: 1.1306\n",
      "early_stop: 2  /   Best acc: 0.6991978609625669\n",
      "Training task 2 in epoch 20. Batch size: 8.\n"
     ]
    },
    {
     "name": "stderr",
     "output_type": "stream",
     "text": [
      "100%|█████████████████████████████████████████████████████████████████████████████████████████████████████████████████████| 94/94 [00:18<00:00,  5.17it/s]\n",
      "100%|█████████████████████████████████████████████████████████████████████████████████████████████████████████████████████| 94/94 [00:10<00:00,  9.18it/s]\n"
     ]
    },
    {
     "name": "stdout",
     "output_type": "stream",
     "text": [
      "Trainig acc: 0.9801   //   Training loss: 0.0683   //   Test acc: 0.6992   //   Test loss: 1.1442\n",
      "early_stop: 3  /   Best acc: 0.6991978609625669\n",
      "Training task 2 in epoch 21. Batch size: 8.\n"
     ]
    },
    {
     "name": "stderr",
     "output_type": "stream",
     "text": [
      "100%|█████████████████████████████████████████████████████████████████████████████████████████████████████████████████████| 94/94 [00:18<00:00,  5.18it/s]\n",
      "100%|█████████████████████████████████████████████████████████████████████████████████████████████████████████████████████| 94/94 [00:10<00:00,  9.31it/s]\n"
     ]
    },
    {
     "name": "stdout",
     "output_type": "stream",
     "text": [
      "Trainig acc: 0.9827   //   Training loss: 0.0611   //   Test acc: 0.7005   //   Test loss: 1.1618\n",
      "early_stop: 1  /   Best acc: 0.7005347593582888\n",
      "Training task 2 in epoch 22. Batch size: 8.\n"
     ]
    },
    {
     "name": "stderr",
     "output_type": "stream",
     "text": [
      "100%|█████████████████████████████████████████████████████████████████████████████████████████████████████████████████████| 94/94 [00:18<00:00,  5.20it/s]\n",
      "100%|█████████████████████████████████████████████████████████████████████████████████████████████████████████████████████| 94/94 [00:10<00:00,  8.81it/s]\n"
     ]
    },
    {
     "name": "stdout",
     "output_type": "stream",
     "text": [
      "Trainig acc: 0.9854   //   Training loss: 0.0451   //   Test acc: 0.7099   //   Test loss: 1.1606\n",
      "early_stop: 1  /   Best acc: 0.7098930481283422\n",
      "Training task 2 in epoch 23. Batch size: 8.\n"
     ]
    },
    {
     "name": "stderr",
     "output_type": "stream",
     "text": [
      "100%|█████████████████████████████████████████████████████████████████████████████████████████████████████████████████████| 94/94 [00:18<00:00,  5.18it/s]\n",
      "100%|█████████████████████████████████████████████████████████████████████████████████████████████████████████████████████| 94/94 [00:10<00:00,  9.21it/s]\n"
     ]
    },
    {
     "name": "stdout",
     "output_type": "stream",
     "text": [
      "Trainig acc: 0.9907   //   Training loss: 0.0379   //   Test acc: 0.6965   //   Test loss: 1.1752\n",
      "early_stop: 2  /   Best acc: 0.7098930481283422\n",
      "Training task 2 in epoch 24. Batch size: 8.\n"
     ]
    },
    {
     "name": "stderr",
     "output_type": "stream",
     "text": [
      "100%|█████████████████████████████████████████████████████████████████████████████████████████████████████████████████████| 94/94 [00:18<00:00,  5.18it/s]\n",
      "100%|█████████████████████████████████████████████████████████████████████████████████████████████████████████████████████| 94/94 [00:10<00:00,  9.25it/s]\n"
     ]
    },
    {
     "name": "stdout",
     "output_type": "stream",
     "text": [
      "Trainig acc: 0.9774   //   Training loss: 0.0657   //   Test acc: 0.7019   //   Test loss: 1.1760\n",
      "early_stop: 3  /   Best acc: 0.7098930481283422\n",
      "Training task 2 in epoch 25. Batch size: 8.\n"
     ]
    },
    {
     "name": "stderr",
     "output_type": "stream",
     "text": [
      "100%|█████████████████████████████████████████████████████████████████████████████████████████████████████████████████████| 94/94 [00:18<00:00,  5.17it/s]\n",
      "100%|█████████████████████████████████████████████████████████████████████████████████████████████████████████████████████| 94/94 [00:09<00:00,  9.43it/s]\n"
     ]
    },
    {
     "name": "stdout",
     "output_type": "stream",
     "text": [
      "Trainig acc: 0.9827   //   Training loss: 0.0637   //   Test acc: 0.6805   //   Test loss: 1.2240\n",
      "early_stop: 4  /   Best acc: 0.7098930481283422\n",
      "Training task 2 in epoch 26. Batch size: 8.\n"
     ]
    },
    {
     "name": "stderr",
     "output_type": "stream",
     "text": [
      "100%|█████████████████████████████████████████████████████████████████████████████████████████████████████████████████████| 94/94 [00:18<00:00,  5.20it/s]\n",
      "100%|█████████████████████████████████████████████████████████████████████████████████████████████████████████████████████| 94/94 [00:10<00:00,  9.34it/s]\n"
     ]
    },
    {
     "name": "stdout",
     "output_type": "stream",
     "text": [
      "Trainig acc: 0.9747   //   Training loss: 0.0583   //   Test acc: 0.6939   //   Test loss: 1.2033\n",
      "early_stop: 5  /   Best acc: 0.7098930481283422\n",
      "Training task 2 in epoch 27. Batch size: 8.\n"
     ]
    },
    {
     "name": "stderr",
     "output_type": "stream",
     "text": [
      "100%|█████████████████████████████████████████████████████████████████████████████████████████████████████████████████████| 94/94 [00:18<00:00,  5.17it/s]\n",
      "100%|█████████████████████████████████████████████████████████████████████████████████████████████████████████████████████| 94/94 [00:10<00:00,  9.16it/s]\n"
     ]
    },
    {
     "name": "stdout",
     "output_type": "stream",
     "text": [
      "Trainig acc: 0.992   //   Training loss: 0.0258   //   Test acc: 0.7005   //   Test loss: 1.1729\n",
      "early_stop: 6  /   Best acc: 0.7098930481283422\n",
      "Training task 2 in epoch 28. Batch size: 8.\n"
     ]
    },
    {
     "name": "stderr",
     "output_type": "stream",
     "text": [
      "100%|█████████████████████████████████████████████████████████████████████████████████████████████████████████████████████| 94/94 [00:18<00:00,  5.21it/s]\n",
      "100%|█████████████████████████████████████████████████████████████████████████████████████████████████████████████████████| 94/94 [00:09<00:00,  9.45it/s]\n"
     ]
    },
    {
     "name": "stdout",
     "output_type": "stream",
     "text": [
      "Trainig acc: 0.988   //   Training loss: 0.0249   //   Test acc: 0.7032   //   Test loss: 1.1995\n",
      "early_stop: 7  /   Best acc: 0.7098930481283422\n",
      "Training task 2 in epoch 29. Batch size: 8.\n"
     ]
    },
    {
     "name": "stderr",
     "output_type": "stream",
     "text": [
      "100%|█████████████████████████████████████████████████████████████████████████████████████████████████████████████████████| 94/94 [00:18<00:00,  5.19it/s]\n",
      "100%|█████████████████████████████████████████████████████████████████████████████████████████████████████████████████████| 94/94 [00:10<00:00,  9.33it/s]\n"
     ]
    },
    {
     "name": "stdout",
     "output_type": "stream",
     "text": [
      "Trainig acc: 0.9867   //   Training loss: 0.0233   //   Test acc: 0.7086   //   Test loss: 1.1406\n",
      "early_stop: 8  /   Best acc: 0.7098930481283422\n",
      "Training task 2 in epoch 30. Batch size: 8.\n"
     ]
    },
    {
     "name": "stderr",
     "output_type": "stream",
     "text": [
      "100%|█████████████████████████████████████████████████████████████████████████████████████████████████████████████████████| 94/94 [00:18<00:00,  5.18it/s]\n",
      "100%|█████████████████████████████████████████████████████████████████████████████████████████████████████████████████████| 94/94 [00:09<00:00,  9.44it/s]\n"
     ]
    },
    {
     "name": "stdout",
     "output_type": "stream",
     "text": [
      "Trainig acc: 0.9894   //   Training loss: 0.0253   //   Test acc: 0.6979   //   Test loss: 1.2087\n",
      "early_stop: 9  /   Best acc: 0.7098930481283422\n",
      "Training task 2 in epoch 31. Batch size: 8.\n"
     ]
    },
    {
     "name": "stderr",
     "output_type": "stream",
     "text": [
      "100%|█████████████████████████████████████████████████████████████████████████████████████████████████████████████████████| 94/94 [00:18<00:00,  5.16it/s]\n",
      "100%|█████████████████████████████████████████████████████████████████████████████████████████████████████████████████████| 94/94 [00:10<00:00,  9.08it/s]\n"
     ]
    },
    {
     "name": "stdout",
     "output_type": "stream",
     "text": [
      "Trainig acc: 0.9907   //   Training loss: 0.0168   //   Test acc: 0.7032   //   Test loss: 1.2095\n",
      "early_stop: 10  /   Best acc: 0.7098930481283422\n",
      "Training task 2 in epoch 32. Batch size: 8.\n"
     ]
    },
    {
     "name": "stderr",
     "output_type": "stream",
     "text": [
      "100%|█████████████████████████████████████████████████████████████████████████████████████████████████████████████████████| 94/94 [00:18<00:00,  5.19it/s]\n",
      "100%|█████████████████████████████████████████████████████████████████████████████████████████████████████████████████████| 94/94 [00:10<00:00,  9.18it/s]\n"
     ]
    },
    {
     "name": "stdout",
     "output_type": "stream",
     "text": [
      "Trainig acc: 0.9894   //   Training loss: 0.0250   //   Test acc: 0.7045   //   Test loss: 1.2178\n",
      "early_stop: 11  /   Best acc: 0.7098930481283422\n",
      "Training task 2 in epoch 33. Batch size: 8.\n"
     ]
    },
    {
     "name": "stderr",
     "output_type": "stream",
     "text": [
      "100%|█████████████████████████████████████████████████████████████████████████████████████████████████████████████████████| 94/94 [00:18<00:00,  5.18it/s]\n",
      "100%|█████████████████████████████████████████████████████████████████████████████████████████████████████████████████████| 94/94 [00:10<00:00,  9.30it/s]\n"
     ]
    },
    {
     "name": "stdout",
     "output_type": "stream",
     "text": [
      "---------------------------------------- TASK_3 ----------------------------------------\n",
      "Training task 3 in epoch 0. Batch size: 8.\n"
     ]
    },
    {
     "name": "stderr",
     "output_type": "stream",
     "text": [
      "100%|█████████████████████████████████████████████████████████████████████████████████████████████████████████████████████| 94/94 [00:17<00:00,  5.25it/s]\n",
      "100%|█████████████████████████████████████████████████████████████████████████████████████████████████████████████████████| 92/92 [00:09<00:00,  9.46it/s]\n"
     ]
    },
    {
     "name": "stdout",
     "output_type": "stream",
     "text": [
      "Trainig acc: 0.04122   //   Training loss: 4.7818   //   Test acc: 0.1388   //   Test loss: 3.4239\n",
      "early_stop: 1  /   Best acc: 0.13877551020408163\n",
      "Training task 3 in epoch 1. Batch size: 8.\n"
     ]
    },
    {
     "name": "stderr",
     "output_type": "stream",
     "text": [
      "100%|█████████████████████████████████████████████████████████████████████████████████████████████████████████████████████| 94/94 [00:18<00:00,  5.21it/s]\n",
      "100%|█████████████████████████████████████████████████████████████████████████████████████████████████████████████████████| 92/92 [00:10<00:00,  8.92it/s]\n"
     ]
    },
    {
     "name": "stdout",
     "output_type": "stream",
     "text": [
      "Trainig acc: 0.1769   //   Training loss: 3.0078   //   Test acc: 0.3728   //   Test loss: 2.4837\n",
      "early_stop: 1  /   Best acc: 0.3727891156462585\n",
      "Training task 3 in epoch 2. Batch size: 8.\n"
     ]
    },
    {
     "name": "stderr",
     "output_type": "stream",
     "text": [
      "100%|█████████████████████████████████████████████████████████████████████████████████████████████████████████████████████| 94/94 [00:17<00:00,  5.29it/s]\n",
      "100%|█████████████████████████████████████████████████████████████████████████████████████████████████████████████████████| 92/92 [00:09<00:00,  9.23it/s]\n"
     ]
    },
    {
     "name": "stdout",
     "output_type": "stream",
     "text": [
      "Trainig acc: 0.3165   //   Training loss: 2.3577   //   Test acc: 0.4980   //   Test loss: 1.9165\n",
      "early_stop: 1  /   Best acc: 0.49795918367346936\n",
      "Training task 3 in epoch 3. Batch size: 8.\n"
     ]
    },
    {
     "name": "stderr",
     "output_type": "stream",
     "text": [
      "100%|█████████████████████████████████████████████████████████████████████████████████████████████████████████████████████| 94/94 [00:18<00:00,  5.21it/s]\n",
      "100%|█████████████████████████████████████████████████████████████████████████████████████████████████████████████████████| 92/92 [00:09<00:00,  9.44it/s]\n"
     ]
    },
    {
     "name": "stdout",
     "output_type": "stream",
     "text": [
      "Trainig acc: 0.4827   //   Training loss: 1.8013   //   Test acc: 0.5959   //   Test loss: 1.5891\n",
      "early_stop: 1  /   Best acc: 0.5959183673469388\n",
      "Training task 3 in epoch 4. Batch size: 8.\n"
     ]
    },
    {
     "name": "stderr",
     "output_type": "stream",
     "text": [
      "100%|█████████████████████████████████████████████████████████████████████████████████████████████████████████████████████| 94/94 [00:18<00:00,  5.18it/s]\n",
      "100%|█████████████████████████████████████████████████████████████████████████████████████████████████████████████████████| 92/92 [00:09<00:00,  9.29it/s]\n"
     ]
    },
    {
     "name": "stdout",
     "output_type": "stream",
     "text": [
      "Trainig acc: 0.6077   //   Training loss: 1.3764   //   Test acc: 0.6231   //   Test loss: 1.3857\n",
      "early_stop: 1  /   Best acc: 0.6231292517006802\n",
      "Training task 3 in epoch 5. Batch size: 8.\n"
     ]
    },
    {
     "name": "stderr",
     "output_type": "stream",
     "text": [
      "100%|█████████████████████████████████████████████████████████████████████████████████████████████████████████████████████| 94/94 [00:17<00:00,  5.24it/s]\n",
      "100%|█████████████████████████████████████████████████████████████████████████████████████████████████████████████████████| 92/92 [00:09<00:00,  9.33it/s]\n"
     ]
    },
    {
     "name": "stdout",
     "output_type": "stream",
     "text": [
      "Trainig acc: 0.6782   //   Training loss: 1.0640   //   Test acc: 0.6612   //   Test loss: 1.1519\n",
      "early_stop: 1  /   Best acc: 0.6612244897959184\n",
      "Training task 3 in epoch 6. Batch size: 8.\n"
     ]
    },
    {
     "name": "stderr",
     "output_type": "stream",
     "text": [
      "100%|█████████████████████████████████████████████████████████████████████████████████████████████████████████████████████| 94/94 [00:18<00:00,  5.21it/s]\n",
      "100%|█████████████████████████████████████████████████████████████████████████████████████████████████████████████████████| 92/92 [00:10<00:00,  9.16it/s]\n"
     ]
    },
    {
     "name": "stdout",
     "output_type": "stream",
     "text": [
      "Trainig acc: 0.7513   //   Training loss: 0.8484   //   Test acc: 0.7061   //   Test loss: 1.0301\n",
      "early_stop: 1  /   Best acc: 0.7061224489795919\n",
      "Training task 3 in epoch 7. Batch size: 8.\n"
     ]
    },
    {
     "name": "stderr",
     "output_type": "stream",
     "text": [
      "100%|█████████████████████████████████████████████████████████████████████████████████████████████████████████████████████| 94/94 [00:18<00:00,  5.20it/s]\n",
      "100%|█████████████████████████████████████████████████████████████████████████████████████████████████████████████████████| 92/92 [00:09<00:00,  9.45it/s]\n"
     ]
    },
    {
     "name": "stdout",
     "output_type": "stream",
     "text": [
      "Trainig acc: 0.8098   //   Training loss: 0.6689   //   Test acc: 0.7075   //   Test loss: 0.9869\n",
      "early_stop: 1  /   Best acc: 0.7074829931972789\n",
      "Training task 3 in epoch 8. Batch size: 8.\n"
     ]
    },
    {
     "name": "stderr",
     "output_type": "stream",
     "text": [
      "100%|█████████████████████████████████████████████████████████████████████████████████████████████████████████████████████| 94/94 [00:17<00:00,  5.23it/s]\n",
      "100%|█████████████████████████████████████████████████████████████████████████████████████████████████████████████████████| 92/92 [00:09<00:00,  9.31it/s]\n"
     ]
    },
    {
     "name": "stdout",
     "output_type": "stream",
     "text": [
      "Trainig acc: 0.8617   //   Training loss: 0.5190   //   Test acc: 0.7456   //   Test loss: 0.9081\n",
      "early_stop: 1  /   Best acc: 0.745578231292517\n",
      "Training task 3 in epoch 9. Batch size: 8.\n"
     ]
    },
    {
     "name": "stderr",
     "output_type": "stream",
     "text": [
      "100%|█████████████████████████████████████████████████████████████████████████████████████████████████████████████████████| 94/94 [00:17<00:00,  5.26it/s]\n",
      "100%|█████████████████████████████████████████████████████████████████████████████████████████████████████████████████████| 92/92 [00:09<00:00,  9.47it/s]\n"
     ]
    },
    {
     "name": "stdout",
     "output_type": "stream",
     "text": [
      "Trainig acc: 0.9136   //   Training loss: 0.3547   //   Test acc: 0.7551   //   Test loss: 0.8566\n",
      "early_stop: 1  /   Best acc: 0.7551020408163265\n",
      "Training task 3 in epoch 10. Batch size: 8.\n"
     ]
    },
    {
     "name": "stderr",
     "output_type": "stream",
     "text": [
      "100%|█████████████████████████████████████████████████████████████████████████████████████████████████████████████████████| 94/94 [00:18<00:00,  5.20it/s]\n",
      "100%|█████████████████████████████████████████████████████████████████████████████████████████████████████████████████████| 92/92 [00:09<00:00,  9.34it/s]\n"
     ]
    },
    {
     "name": "stdout",
     "output_type": "stream",
     "text": [
      "Trainig acc: 0.9255   //   Training loss: 0.2929   //   Test acc: 0.7483   //   Test loss: 0.8471\n",
      "early_stop: 2  /   Best acc: 0.7551020408163265\n",
      "Training task 3 in epoch 11. Batch size: 8.\n"
     ]
    },
    {
     "name": "stderr",
     "output_type": "stream",
     "text": [
      "100%|█████████████████████████████████████████████████████████████████████████████████████████████████████████████████████| 94/94 [00:18<00:00,  5.19it/s]\n",
      "100%|█████████████████████████████████████████████████████████████████████████████████████████████████████████████████████| 92/92 [00:10<00:00,  9.14it/s]\n"
     ]
    },
    {
     "name": "stdout",
     "output_type": "stream",
     "text": [
      "Trainig acc: 0.9428   //   Training loss: 0.2459   //   Test acc: 0.7565   //   Test loss: 0.8850\n",
      "early_stop: 1  /   Best acc: 0.7564625850340136\n",
      "Training task 3 in epoch 12. Batch size: 8.\n"
     ]
    },
    {
     "name": "stderr",
     "output_type": "stream",
     "text": [
      "100%|█████████████████████████████████████████████████████████████████████████████████████████████████████████████████████| 94/94 [00:18<00:00,  5.19it/s]\n",
      "100%|█████████████████████████████████████████████████████████████████████████████████████████████████████████████████████| 92/92 [00:09<00:00,  9.23it/s]\n"
     ]
    },
    {
     "name": "stdout",
     "output_type": "stream",
     "text": [
      "Trainig acc: 0.9574   //   Training loss: 0.1729   //   Test acc: 0.7633   //   Test loss: 0.8501\n",
      "early_stop: 1  /   Best acc: 0.763265306122449\n",
      "Training task 3 in epoch 13. Batch size: 8.\n"
     ]
    },
    {
     "name": "stderr",
     "output_type": "stream",
     "text": [
      "100%|█████████████████████████████████████████████████████████████████████████████████████████████████████████████████████| 94/94 [00:17<00:00,  5.26it/s]\n",
      "100%|█████████████████████████████████████████████████████████████████████████████████████████████████████████████████████| 92/92 [00:09<00:00,  9.64it/s]\n"
     ]
    },
    {
     "name": "stdout",
     "output_type": "stream",
     "text": [
      "Trainig acc: 0.9521   //   Training loss: 0.1532   //   Test acc: 0.7510   //   Test loss: 0.8830\n",
      "early_stop: 2  /   Best acc: 0.763265306122449\n",
      "Training task 3 in epoch 14. Batch size: 8.\n"
     ]
    },
    {
     "name": "stderr",
     "output_type": "stream",
     "text": [
      "100%|█████████████████████████████████████████████████████████████████████████████████████████████████████████████████████| 94/94 [00:18<00:00,  5.15it/s]\n",
      "100%|█████████████████████████████████████████████████████████████████████████████████████████████████████████████████████| 92/92 [00:10<00:00,  9.19it/s]\n"
     ]
    },
    {
     "name": "stdout",
     "output_type": "stream",
     "text": [
      "Trainig acc: 0.9641   //   Training loss: 0.1265   //   Test acc: 0.7646   //   Test loss: 0.8068\n",
      "early_stop: 1  /   Best acc: 0.7646258503401361\n",
      "Training task 3 in epoch 15. Batch size: 8.\n"
     ]
    },
    {
     "name": "stderr",
     "output_type": "stream",
     "text": [
      "100%|█████████████████████████████████████████████████████████████████████████████████████████████████████████████████████| 94/94 [00:17<00:00,  5.22it/s]\n",
      "100%|█████████████████████████████████████████████████████████████████████████████████████████████████████████████████████| 92/92 [00:09<00:00,  9.24it/s]\n"
     ]
    },
    {
     "name": "stdout",
     "output_type": "stream",
     "text": [
      "Trainig acc: 0.9707   //   Training loss: 0.1064   //   Test acc: 0.7673   //   Test loss: 0.8419\n",
      "early_stop: 1  /   Best acc: 0.7673469387755102\n",
      "Training task 3 in epoch 16. Batch size: 8.\n"
     ]
    },
    {
     "name": "stderr",
     "output_type": "stream",
     "text": [
      "100%|█████████████████████████████████████████████████████████████████████████████████████████████████████████████████████| 94/94 [00:17<00:00,  5.27it/s]\n",
      "100%|█████████████████████████████████████████████████████████████████████████████████████████████████████████████████████| 92/92 [00:09<00:00,  9.27it/s]\n"
     ]
    },
    {
     "name": "stdout",
     "output_type": "stream",
     "text": [
      "Trainig acc: 0.9827   //   Training loss: 0.0754   //   Test acc: 0.7660   //   Test loss: 0.8492\n",
      "early_stop: 2  /   Best acc: 0.7673469387755102\n",
      "Training task 3 in epoch 17. Batch size: 8.\n"
     ]
    },
    {
     "name": "stderr",
     "output_type": "stream",
     "text": [
      "100%|█████████████████████████████████████████████████████████████████████████████████████████████████████████████████████| 94/94 [00:18<00:00,  5.17it/s]\n",
      "100%|█████████████████████████████████████████████████████████████████████████████████████████████████████████████████████| 92/92 [00:10<00:00,  9.05it/s]\n"
     ]
    },
    {
     "name": "stdout",
     "output_type": "stream",
     "text": [
      "Trainig acc: 0.9774   //   Training loss: 0.0839   //   Test acc: 0.7701   //   Test loss: 0.8413\n",
      "early_stop: 1  /   Best acc: 0.7700680272108843\n",
      "Training task 3 in epoch 18. Batch size: 8.\n"
     ]
    },
    {
     "name": "stderr",
     "output_type": "stream",
     "text": [
      "100%|█████████████████████████████████████████████████████████████████████████████████████████████████████████████████████| 94/94 [00:18<00:00,  5.16it/s]\n",
      "100%|█████████████████████████████████████████████████████████████████████████████████████████████████████████████████████| 92/92 [00:10<00:00,  8.77it/s]\n"
     ]
    },
    {
     "name": "stdout",
     "output_type": "stream",
     "text": [
      "Trainig acc: 0.9854   //   Training loss: 0.0610   //   Test acc: 0.7850   //   Test loss: 0.8388\n",
      "early_stop: 1  /   Best acc: 0.7850340136054422\n",
      "Training task 3 in epoch 19. Batch size: 8.\n"
     ]
    },
    {
     "name": "stderr",
     "output_type": "stream",
     "text": [
      "100%|█████████████████████████████████████████████████████████████████████████████████████████████████████████████████████| 94/94 [00:18<00:00,  5.17it/s]\n",
      "100%|█████████████████████████████████████████████████████████████████████████████████████████████████████████████████████| 92/92 [00:10<00:00,  8.80it/s]\n"
     ]
    },
    {
     "name": "stdout",
     "output_type": "stream",
     "text": [
      "Trainig acc: 0.9827   //   Training loss: 0.0570   //   Test acc: 0.7810   //   Test loss: 0.8095\n",
      "early_stop: 2  /   Best acc: 0.7850340136054422\n",
      "Training task 3 in epoch 20. Batch size: 8.\n"
     ]
    },
    {
     "name": "stderr",
     "output_type": "stream",
     "text": [
      "100%|█████████████████████████████████████████████████████████████████████████████████████████████████████████████████████| 94/94 [00:18<00:00,  5.11it/s]\n",
      "100%|█████████████████████████████████████████████████████████████████████████████████████████████████████████████████████| 92/92 [00:10<00:00,  8.71it/s]\n"
     ]
    },
    {
     "name": "stdout",
     "output_type": "stream",
     "text": [
      "Trainig acc: 0.9774   //   Training loss: 0.0596   //   Test acc: 0.7755   //   Test loss: 0.9025\n",
      "early_stop: 3  /   Best acc: 0.7850340136054422\n",
      "Training task 3 in epoch 21. Batch size: 8.\n"
     ]
    },
    {
     "name": "stderr",
     "output_type": "stream",
     "text": [
      "100%|█████████████████████████████████████████████████████████████████████████████████████████████████████████████████████| 94/94 [00:18<00:00,  5.13it/s]\n",
      "100%|█████████████████████████████████████████████████████████████████████████████████████████████████████████████████████| 92/92 [00:10<00:00,  8.76it/s]\n"
     ]
    },
    {
     "name": "stdout",
     "output_type": "stream",
     "text": [
      "Trainig acc: 0.9827   //   Training loss: 0.0587   //   Test acc: 0.7796   //   Test loss: 0.8186\n",
      "early_stop: 4  /   Best acc: 0.7850340136054422\n",
      "Training task 3 in epoch 22. Batch size: 8.\n"
     ]
    },
    {
     "name": "stderr",
     "output_type": "stream",
     "text": [
      "100%|█████████████████████████████████████████████████████████████████████████████████████████████████████████████████████| 94/94 [00:18<00:00,  5.11it/s]\n",
      "100%|█████████████████████████████████████████████████████████████████████████████████████████████████████████████████████| 92/92 [00:10<00:00,  8.99it/s]\n"
     ]
    },
    {
     "name": "stdout",
     "output_type": "stream",
     "text": [
      "Trainig acc: 0.9854   //   Training loss: 0.0489   //   Test acc: 0.7782   //   Test loss: 0.8279\n",
      "early_stop: 5  /   Best acc: 0.7850340136054422\n",
      "Training task 3 in epoch 23. Batch size: 8.\n"
     ]
    },
    {
     "name": "stderr",
     "output_type": "stream",
     "text": [
      "100%|█████████████████████████████████████████████████████████████████████████████████████████████████████████████████████| 94/94 [00:18<00:00,  5.14it/s]\n",
      "100%|█████████████████████████████████████████████████████████████████████████████████████████████████████████████████████| 92/92 [00:10<00:00,  8.55it/s]\n"
     ]
    },
    {
     "name": "stdout",
     "output_type": "stream",
     "text": [
      "Trainig acc: 0.9894   //   Training loss: 0.0454   //   Test acc: 0.7605   //   Test loss: 0.8998\n",
      "early_stop: 6  /   Best acc: 0.7850340136054422\n",
      "Training task 3 in epoch 24. Batch size: 8.\n"
     ]
    },
    {
     "name": "stderr",
     "output_type": "stream",
     "text": [
      "100%|█████████████████████████████████████████████████████████████████████████████████████████████████████████████████████| 94/94 [00:18<00:00,  5.02it/s]\n",
      "100%|█████████████████████████████████████████████████████████████████████████████████████████████████████████████████████| 92/92 [00:10<00:00,  8.73it/s]\n"
     ]
    },
    {
     "name": "stdout",
     "output_type": "stream",
     "text": [
      "Trainig acc: 0.9934   //   Training loss: 0.0372   //   Test acc: 0.7755   //   Test loss: 0.8599\n",
      "early_stop: 7  /   Best acc: 0.7850340136054422\n",
      "Training task 3 in epoch 25. Batch size: 8.\n"
     ]
    },
    {
     "name": "stderr",
     "output_type": "stream",
     "text": [
      "100%|█████████████████████████████████████████████████████████████████████████████████████████████████████████████████████| 94/94 [00:18<00:00,  5.09it/s]\n",
      "100%|█████████████████████████████████████████████████████████████████████████████████████████████████████████████████████| 92/92 [00:10<00:00,  8.69it/s]\n"
     ]
    },
    {
     "name": "stdout",
     "output_type": "stream",
     "text": [
      "Trainig acc: 0.992   //   Training loss: 0.0299   //   Test acc: 0.7810   //   Test loss: 0.8624\n",
      "early_stop: 8  /   Best acc: 0.7850340136054422\n",
      "Training task 3 in epoch 26. Batch size: 8.\n"
     ]
    },
    {
     "name": "stderr",
     "output_type": "stream",
     "text": [
      "100%|█████████████████████████████████████████████████████████████████████████████████████████████████████████████████████| 94/94 [00:18<00:00,  5.08it/s]\n",
      "100%|█████████████████████████████████████████████████████████████████████████████████████████████████████████████████████| 92/92 [00:10<00:00,  8.64it/s]\n"
     ]
    },
    {
     "name": "stdout",
     "output_type": "stream",
     "text": [
      "Trainig acc: 0.9854   //   Training loss: 0.0456   //   Test acc: 0.7605   //   Test loss: 0.8964\n",
      "early_stop: 9  /   Best acc: 0.7850340136054422\n",
      "Training task 3 in epoch 27. Batch size: 8.\n"
     ]
    },
    {
     "name": "stderr",
     "output_type": "stream",
     "text": [
      "100%|█████████████████████████████████████████████████████████████████████████████████████████████████████████████████████| 94/94 [00:18<00:00,  5.10it/s]\n",
      "100%|█████████████████████████████████████████████████████████████████████████████████████████████████████████████████████| 92/92 [00:10<00:00,  9.06it/s]\n"
     ]
    },
    {
     "name": "stdout",
     "output_type": "stream",
     "text": [
      "Trainig acc: 0.9894   //   Training loss: 0.0347   //   Test acc: 0.7782   //   Test loss: 0.8309\n",
      "early_stop: 10  /   Best acc: 0.7850340136054422\n",
      "Training task 3 in epoch 28. Batch size: 8.\n"
     ]
    },
    {
     "name": "stderr",
     "output_type": "stream",
     "text": [
      "100%|█████████████████████████████████████████████████████████████████████████████████████████████████████████████████████| 94/94 [00:18<00:00,  5.15it/s]\n",
      "100%|█████████████████████████████████████████████████████████████████████████████████████████████████████████████████████| 92/92 [00:10<00:00,  8.76it/s]\n"
     ]
    },
    {
     "name": "stdout",
     "output_type": "stream",
     "text": [
      "Trainig acc: 0.9907   //   Training loss: 0.0254   //   Test acc: 0.7687   //   Test loss: 0.8807\n",
      "early_stop: 11  /   Best acc: 0.7850340136054422\n",
      "Training task 3 in epoch 29. Batch size: 8.\n"
     ]
    },
    {
     "name": "stderr",
     "output_type": "stream",
     "text": [
      "100%|█████████████████████████████████████████████████████████████████████████████████████████████████████████████████████| 94/94 [00:18<00:00,  5.12it/s]\n",
      "100%|█████████████████████████████████████████████████████████████████████████████████████████████████████████████████████| 92/92 [00:09<00:00,  9.21it/s]\n"
     ]
    },
    {
     "name": "stdout",
     "output_type": "stream",
     "text": [
      "---------------------------------------- TASK_4 ----------------------------------------\n",
      "Training task 4 in epoch 0. Batch size: 8.\n"
     ]
    },
    {
     "name": "stderr",
     "output_type": "stream",
     "text": [
      "100%|█████████████████████████████████████████████████████████████████████████████████████████████████████████████████████| 94/94 [00:18<00:00,  5.14it/s]\n",
      "100%|█████████████████████████████████████████████████████████████████████████████████████████████████████████████████████| 92/92 [00:10<00:00,  8.95it/s]\n"
     ]
    },
    {
     "name": "stdout",
     "output_type": "stream",
     "text": [
      "Trainig acc: 0.07846   //   Training loss: 4.5647   //   Test acc: 0.2606   //   Test loss: 2.9769\n",
      "early_stop: 1  /   Best acc: 0.2605729877216917\n",
      "Training task 4 in epoch 1. Batch size: 8.\n"
     ]
    },
    {
     "name": "stderr",
     "output_type": "stream",
     "text": [
      "100%|█████████████████████████████████████████████████████████████████████████████████████████████████████████████████████| 94/94 [00:18<00:00,  5.14it/s]\n",
      "100%|█████████████████████████████████████████████████████████████████████████████████████████████████████████████████████| 92/92 [00:09<00:00,  9.20it/s]\n"
     ]
    },
    {
     "name": "stdout",
     "output_type": "stream",
     "text": [
      "Trainig acc: 0.2806   //   Training loss: 2.5217   //   Test acc: 0.5402   //   Test loss: 1.7808\n",
      "early_stop: 1  /   Best acc: 0.5402455661664393\n",
      "Training task 4 in epoch 2. Batch size: 8.\n"
     ]
    },
    {
     "name": "stderr",
     "output_type": "stream",
     "text": [
      "100%|█████████████████████████████████████████████████████████████████████████████████████████████████████████████████████| 94/94 [00:18<00:00,  5.09it/s]\n",
      "100%|█████████████████████████████████████████████████████████████████████████████████████████████████████████████████████| 92/92 [00:10<00:00,  8.91it/s]\n"
     ]
    },
    {
     "name": "stdout",
     "output_type": "stream",
     "text": [
      "Trainig acc: 0.5053   //   Training loss: 1.7390   //   Test acc: 0.6698   //   Test loss: 1.2734\n",
      "early_stop: 1  /   Best acc: 0.669849931787176\n",
      "Training task 4 in epoch 3. Batch size: 8.\n"
     ]
    },
    {
     "name": "stderr",
     "output_type": "stream",
     "text": [
      "100%|█████████████████████████████████████████████████████████████████████████████████████████████████████████████████████| 94/94 [00:18<00:00,  5.11it/s]\n",
      "100%|█████████████████████████████████████████████████████████████████████████████████████████████████████████████████████| 92/92 [00:10<00:00,  8.86it/s]\n"
     ]
    },
    {
     "name": "stdout",
     "output_type": "stream",
     "text": [
      "Trainig acc: 0.6303   //   Training loss: 1.2621   //   Test acc: 0.7094   //   Test loss: 1.0157\n",
      "early_stop: 1  /   Best acc: 0.7094133697135061\n",
      "Training task 4 in epoch 4. Batch size: 8.\n"
     ]
    },
    {
     "name": "stderr",
     "output_type": "stream",
     "text": [
      "100%|█████████████████████████████████████████████████████████████████████████████████████████████████████████████████████| 94/94 [00:18<00:00,  5.10it/s]\n",
      "100%|█████████████████████████████████████████████████████████████████████████████████████████████████████████████████████| 92/92 [00:10<00:00,  8.71it/s]\n"
     ]
    },
    {
     "name": "stdout",
     "output_type": "stream",
     "text": [
      "Trainig acc: 0.7234   //   Training loss: 0.9150   //   Test acc: 0.7408   //   Test loss: 0.8698\n",
      "early_stop: 1  /   Best acc: 0.7407912687585266\n",
      "Training task 4 in epoch 5. Batch size: 8.\n"
     ]
    },
    {
     "name": "stderr",
     "output_type": "stream",
     "text": [
      "100%|█████████████████████████████████████████████████████████████████████████████████████████████████████████████████████| 94/94 [00:18<00:00,  5.04it/s]\n",
      "100%|█████████████████████████████████████████████████████████████████████████████████████████████████████████████████████| 92/92 [00:10<00:00,  8.74it/s]\n"
     ]
    },
    {
     "name": "stdout",
     "output_type": "stream",
     "text": [
      "Trainig acc: 0.7872   //   Training loss: 0.7348   //   Test acc: 0.7722   //   Test loss: 0.7624\n",
      "early_stop: 1  /   Best acc: 0.772169167803547\n",
      "Training task 4 in epoch 6. Batch size: 8.\n"
     ]
    },
    {
     "name": "stderr",
     "output_type": "stream",
     "text": [
      "100%|█████████████████████████████████████████████████████████████████████████████████████████████████████████████████████| 94/94 [00:17<00:00,  5.26it/s]\n",
      "100%|█████████████████████████████████████████████████████████████████████████████████████████████████████████████████████| 92/92 [00:09<00:00,  9.36it/s]\n"
     ]
    },
    {
     "name": "stdout",
     "output_type": "stream",
     "text": [
      "Trainig acc: 0.8617   //   Training loss: 0.5067   //   Test acc: 0.7790   //   Test loss: 0.7205\n",
      "early_stop: 1  /   Best acc: 0.7789904502046384\n",
      "Training task 4 in epoch 7. Batch size: 8.\n"
     ]
    },
    {
     "name": "stderr",
     "output_type": "stream",
     "text": [
      "100%|█████████████████████████████████████████████████████████████████████████████████████████████████████████████████████| 94/94 [00:18<00:00,  5.21it/s]\n",
      "100%|█████████████████████████████████████████████████████████████████████████████████████████████████████████████████████| 92/92 [00:09<00:00,  9.21it/s]\n"
     ]
    },
    {
     "name": "stdout",
     "output_type": "stream",
     "text": [
      "Trainig acc: 0.891   //   Training loss: 0.4015   //   Test acc: 0.7954   //   Test loss: 0.6470\n",
      "early_stop: 1  /   Best acc: 0.7953615279672579\n",
      "Training task 4 in epoch 8. Batch size: 8.\n"
     ]
    },
    {
     "name": "stderr",
     "output_type": "stream",
     "text": [
      "100%|█████████████████████████████████████████████████████████████████████████████████████████████████████████████████████| 94/94 [00:17<00:00,  5.27it/s]\n",
      "100%|█████████████████████████████████████████████████████████████████████████████████████████████████████████████████████| 92/92 [00:09<00:00,  9.44it/s]\n"
     ]
    },
    {
     "name": "stdout",
     "output_type": "stream",
     "text": [
      "Trainig acc: 0.9109   //   Training loss: 0.3177   //   Test acc: 0.7954   //   Test loss: 0.6490\n",
      "early_stop: 2  /   Best acc: 0.7953615279672579\n",
      "Training task 4 in epoch 9. Batch size: 8.\n"
     ]
    },
    {
     "name": "stderr",
     "output_type": "stream",
     "text": [
      "100%|█████████████████████████████████████████████████████████████████████████████████████████████████████████████████████| 94/94 [00:18<00:00,  5.20it/s]\n",
      "100%|█████████████████████████████████████████████████████████████████████████████████████████████████████████████████████| 92/92 [00:10<00:00,  8.75it/s]\n"
     ]
    },
    {
     "name": "stdout",
     "output_type": "stream",
     "text": [
      "Trainig acc: 0.9362   //   Training loss: 0.2243   //   Test acc: 0.7817   //   Test loss: 0.6828\n",
      "early_stop: 3  /   Best acc: 0.7953615279672579\n",
      "Training task 4 in epoch 10. Batch size: 8.\n"
     ]
    },
    {
     "name": "stderr",
     "output_type": "stream",
     "text": [
      "100%|█████████████████████████████████████████████████████████████████████████████████████████████████████████████████████| 94/94 [00:18<00:00,  5.15it/s]\n",
      "100%|█████████████████████████████████████████████████████████████████████████████████████████████████████████████████████| 92/92 [00:10<00:00,  9.20it/s]\n"
     ]
    },
    {
     "name": "stdout",
     "output_type": "stream",
     "text": [
      "Trainig acc: 0.9388   //   Training loss: 0.1962   //   Test acc: 0.8145   //   Test loss: 0.6463\n",
      "early_stop: 1  /   Best acc: 0.8144611186903138\n",
      "Training task 4 in epoch 11. Batch size: 8.\n"
     ]
    },
    {
     "name": "stderr",
     "output_type": "stream",
     "text": [
      "100%|█████████████████████████████████████████████████████████████████████████████████████████████████████████████████████| 94/94 [00:17<00:00,  5.24it/s]\n",
      "100%|█████████████████████████████████████████████████████████████████████████████████████████████████████████████████████| 92/92 [00:10<00:00,  9.18it/s]\n"
     ]
    },
    {
     "name": "stdout",
     "output_type": "stream",
     "text": [
      "Trainig acc: 0.9614   //   Training loss: 0.1374   //   Test acc: 0.8213   //   Test loss: 0.6090\n",
      "early_stop: 1  /   Best acc: 0.8212824010914052\n",
      "Training task 4 in epoch 12. Batch size: 8.\n"
     ]
    },
    {
     "name": "stderr",
     "output_type": "stream",
     "text": [
      "100%|█████████████████████████████████████████████████████████████████████████████████████████████████████████████████████| 94/94 [00:18<00:00,  5.12it/s]\n",
      "100%|█████████████████████████████████████████████████████████████████████████████████████████████████████████████████████| 92/92 [00:10<00:00,  8.74it/s]\n"
     ]
    },
    {
     "name": "stdout",
     "output_type": "stream",
     "text": [
      "Trainig acc: 0.9561   //   Training loss: 0.1326   //   Test acc: 0.8226   //   Test loss: 0.6287\n",
      "early_stop: 1  /   Best acc: 0.8226466575716235\n",
      "Training task 4 in epoch 13. Batch size: 8.\n"
     ]
    },
    {
     "name": "stderr",
     "output_type": "stream",
     "text": [
      "100%|█████████████████████████████████████████████████████████████████████████████████████████████████████████████████████| 94/94 [00:18<00:00,  5.16it/s]\n",
      "100%|█████████████████████████████████████████████████████████████████████████████████████████████████████████████████████| 92/92 [00:10<00:00,  9.05it/s]\n"
     ]
    },
    {
     "name": "stdout",
     "output_type": "stream",
     "text": [
      "Trainig acc: 0.9801   //   Training loss: 0.1014   //   Test acc: 0.8117   //   Test loss: 0.6701\n",
      "early_stop: 2  /   Best acc: 0.8226466575716235\n",
      "Training task 4 in epoch 14. Batch size: 8.\n"
     ]
    },
    {
     "name": "stderr",
     "output_type": "stream",
     "text": [
      "100%|█████████████████████████████████████████████████████████████████████████████████████████████████████████████████████| 94/94 [00:18<00:00,  5.14it/s]\n",
      "100%|█████████████████████████████████████████████████████████████████████████████████████████████████████████████████████| 92/92 [00:10<00:00,  8.88it/s]\n"
     ]
    },
    {
     "name": "stdout",
     "output_type": "stream",
     "text": [
      "Trainig acc: 0.9641   //   Training loss: 0.1073   //   Test acc: 0.8240   //   Test loss: 0.6534\n",
      "early_stop: 1  /   Best acc: 0.8240109140518418\n",
      "Training task 4 in epoch 15. Batch size: 8.\n"
     ]
    },
    {
     "name": "stderr",
     "output_type": "stream",
     "text": [
      "100%|█████████████████████████████████████████████████████████████████████████████████████████████████████████████████████| 94/94 [00:18<00:00,  5.13it/s]\n",
      "100%|█████████████████████████████████████████████████████████████████████████████████████████████████████████████████████| 92/92 [00:10<00:00,  8.86it/s]\n"
     ]
    },
    {
     "name": "stdout",
     "output_type": "stream",
     "text": [
      "Trainig acc: 0.9707   //   Training loss: 0.0922   //   Test acc: 0.8295   //   Test loss: 0.6364\n",
      "early_stop: 1  /   Best acc: 0.8294679399727148\n",
      "Training task 4 in epoch 16. Batch size: 8.\n"
     ]
    },
    {
     "name": "stderr",
     "output_type": "stream",
     "text": [
      "100%|█████████████████████████████████████████████████████████████████████████████████████████████████████████████████████| 94/94 [00:18<00:00,  5.16it/s]\n",
      "100%|█████████████████████████████████████████████████████████████████████████████████████████████████████████████████████| 92/92 [00:10<00:00,  9.04it/s]\n"
     ]
    },
    {
     "name": "stdout",
     "output_type": "stream",
     "text": [
      "Trainig acc: 0.9801   //   Training loss: 0.0581   //   Test acc: 0.8131   //   Test loss: 0.6904\n",
      "early_stop: 2  /   Best acc: 0.8294679399727148\n",
      "Training task 4 in epoch 17. Batch size: 8.\n"
     ]
    },
    {
     "name": "stderr",
     "output_type": "stream",
     "text": [
      "100%|█████████████████████████████████████████████████████████████████████████████████████████████████████████████████████| 94/94 [00:18<00:00,  5.14it/s]\n",
      "100%|█████████████████████████████████████████████████████████████████████████████████████████████████████████████████████| 92/92 [00:10<00:00,  9.10it/s]\n"
     ]
    },
    {
     "name": "stdout",
     "output_type": "stream",
     "text": [
      "Trainig acc: 0.984   //   Training loss: 0.0566   //   Test acc: 0.8240   //   Test loss: 0.6584\n",
      "early_stop: 3  /   Best acc: 0.8294679399727148\n",
      "Training task 4 in epoch 18. Batch size: 8.\n"
     ]
    },
    {
     "name": "stderr",
     "output_type": "stream",
     "text": [
      "100%|█████████████████████████████████████████████████████████████████████████████████████████████████████████████████████| 94/94 [00:18<00:00,  5.14it/s]\n",
      "100%|█████████████████████████████████████████████████████████████████████████████████████████████████████████████████████| 92/92 [00:10<00:00,  9.09it/s]\n"
     ]
    },
    {
     "name": "stdout",
     "output_type": "stream",
     "text": [
      "Trainig acc: 0.9814   //   Training loss: 0.0512   //   Test acc: 0.8254   //   Test loss: 0.6421\n",
      "early_stop: 4  /   Best acc: 0.8294679399727148\n",
      "Training task 4 in epoch 19. Batch size: 8.\n"
     ]
    },
    {
     "name": "stderr",
     "output_type": "stream",
     "text": [
      "100%|█████████████████████████████████████████████████████████████████████████████████████████████████████████████████████| 94/94 [00:18<00:00,  5.14it/s]\n",
      "100%|█████████████████████████████████████████████████████████████████████████████████████████████████████████████████████| 92/92 [00:10<00:00,  8.86it/s]\n"
     ]
    },
    {
     "name": "stdout",
     "output_type": "stream",
     "text": [
      "Trainig acc: 0.9854   //   Training loss: 0.0448   //   Test acc: 0.8145   //   Test loss: 0.6797\n",
      "early_stop: 5  /   Best acc: 0.8294679399727148\n",
      "Training task 4 in epoch 20. Batch size: 8.\n"
     ]
    },
    {
     "name": "stderr",
     "output_type": "stream",
     "text": [
      "100%|█████████████████████████████████████████████████████████████████████████████████████████████████████████████████████| 94/94 [00:18<00:00,  5.11it/s]\n",
      "100%|█████████████████████████████████████████████████████████████████████████████████████████████████████████████████████| 92/92 [00:09<00:00,  9.32it/s]\n"
     ]
    },
    {
     "name": "stdout",
     "output_type": "stream",
     "text": [
      "Trainig acc: 0.9867   //   Training loss: 0.0400   //   Test acc: 0.8267   //   Test loss: 0.6803\n",
      "early_stop: 6  /   Best acc: 0.8294679399727148\n",
      "Training task 4 in epoch 21. Batch size: 8.\n"
     ]
    },
    {
     "name": "stderr",
     "output_type": "stream",
     "text": [
      "100%|█████████████████████████████████████████████████████████████████████████████████████████████████████████████████████| 94/94 [00:18<00:00,  5.11it/s]\n",
      "100%|█████████████████████████████████████████████████████████████████████████████████████████████████████████████████████| 92/92 [00:10<00:00,  8.94it/s]\n"
     ]
    },
    {
     "name": "stdout",
     "output_type": "stream",
     "text": [
      "Trainig acc: 0.9867   //   Training loss: 0.0350   //   Test acc: 0.8240   //   Test loss: 0.6493\n",
      "early_stop: 7  /   Best acc: 0.8294679399727148\n",
      "Training task 4 in epoch 22. Batch size: 8.\n"
     ]
    },
    {
     "name": "stderr",
     "output_type": "stream",
     "text": [
      "100%|█████████████████████████████████████████████████████████████████████████████████████████████████████████████████████| 94/94 [00:18<00:00,  5.14it/s]\n",
      "100%|█████████████████████████████████████████████████████████████████████████████████████████████████████████████████████| 92/92 [00:10<00:00,  8.68it/s]\n"
     ]
    },
    {
     "name": "stdout",
     "output_type": "stream",
     "text": [
      "Trainig acc: 0.992   //   Training loss: 0.0287   //   Test acc: 0.8199   //   Test loss: 0.6768\n",
      "early_stop: 8  /   Best acc: 0.8294679399727148\n",
      "Training task 4 in epoch 23. Batch size: 8.\n"
     ]
    },
    {
     "name": "stderr",
     "output_type": "stream",
     "text": [
      "100%|█████████████████████████████████████████████████████████████████████████████████████████████████████████████████████| 94/94 [00:18<00:00,  5.15it/s]\n",
      "100%|█████████████████████████████████████████████████████████████████████████████████████████████████████████████████████| 92/92 [00:09<00:00,  9.36it/s]\n"
     ]
    },
    {
     "name": "stdout",
     "output_type": "stream",
     "text": [
      "Trainig acc: 0.9894   //   Training loss: 0.0329   //   Test acc: 0.8090   //   Test loss: 0.7229\n",
      "early_stop: 9  /   Best acc: 0.8294679399727148\n",
      "Training task 4 in epoch 24. Batch size: 8.\n"
     ]
    },
    {
     "name": "stderr",
     "output_type": "stream",
     "text": [
      "100%|█████████████████████████████████████████████████████████████████████████████████████████████████████████████████████| 94/94 [00:18<00:00,  5.15it/s]\n",
      "100%|█████████████████████████████████████████████████████████████████████████████████████████████████████████████████████| 92/92 [00:10<00:00,  9.02it/s]\n"
     ]
    },
    {
     "name": "stdout",
     "output_type": "stream",
     "text": [
      "Trainig acc: 0.992   //   Training loss: 0.0214   //   Test acc: 0.8186   //   Test loss: 0.6794\n",
      "early_stop: 10  /   Best acc: 0.8294679399727148\n",
      "Training task 4 in epoch 25. Batch size: 8.\n"
     ]
    },
    {
     "name": "stderr",
     "output_type": "stream",
     "text": [
      "100%|█████████████████████████████████████████████████████████████████████████████████████████████████████████████████████| 94/94 [00:18<00:00,  5.16it/s]\n",
      "100%|█████████████████████████████████████████████████████████████████████████████████████████████████████████████████████| 92/92 [00:09<00:00,  9.37it/s]\n"
     ]
    },
    {
     "name": "stdout",
     "output_type": "stream",
     "text": [
      "Trainig acc: 0.988   //   Training loss: 0.0353   //   Test acc: 0.8267   //   Test loss: 0.6869\n",
      "early_stop: 11  /   Best acc: 0.8294679399727148\n",
      "Training task 4 in epoch 26. Batch size: 8.\n"
     ]
    },
    {
     "name": "stderr",
     "output_type": "stream",
     "text": [
      "100%|█████████████████████████████████████████████████████████████████████████████████████████████████████████████████████| 94/94 [00:18<00:00,  5.15it/s]\n",
      "100%|█████████████████████████████████████████████████████████████████████████████████████████████████████████████████████| 92/92 [00:10<00:00,  8.79it/s]\n"
     ]
    },
    {
     "name": "stdout",
     "output_type": "stream",
     "text": [
      "Trainig acc: 0.9907   //   Training loss: 0.0219   //   Test acc: 0.8322   //   Test loss: 0.6565\n",
      "early_stop: 1  /   Best acc: 0.8321964529331515\n",
      "Training task 4 in epoch 27. Batch size: 8.\n"
     ]
    },
    {
     "name": "stderr",
     "output_type": "stream",
     "text": [
      "100%|█████████████████████████████████████████████████████████████████████████████████████████████████████████████████████| 94/94 [00:18<00:00,  5.16it/s]\n",
      "100%|█████████████████████████████████████████████████████████████████████████████████████████████████████████████████████| 92/92 [00:09<00:00,  9.25it/s]\n"
     ]
    },
    {
     "name": "stdout",
     "output_type": "stream",
     "text": [
      "Trainig acc: 0.9867   //   Training loss: 0.0310   //   Test acc: 0.8254   //   Test loss: 0.6638\n",
      "early_stop: 2  /   Best acc: 0.8321964529331515\n",
      "Training task 4 in epoch 28. Batch size: 8.\n"
     ]
    },
    {
     "name": "stderr",
     "output_type": "stream",
     "text": [
      "100%|█████████████████████████████████████████████████████████████████████████████████████████████████████████████████████| 94/94 [00:18<00:00,  5.15it/s]\n",
      "100%|█████████████████████████████████████████████████████████████████████████████████████████████████████████████████████| 92/92 [00:09<00:00,  9.28it/s]\n"
     ]
    },
    {
     "name": "stdout",
     "output_type": "stream",
     "text": [
      "Trainig acc: 0.9907   //   Training loss: 0.0209   //   Test acc: 0.8226   //   Test loss: 0.6726\n",
      "early_stop: 3  /   Best acc: 0.8321964529331515\n",
      "Training task 4 in epoch 29. Batch size: 8.\n"
     ]
    },
    {
     "name": "stderr",
     "output_type": "stream",
     "text": [
      "100%|█████████████████████████████████████████████████████████████████████████████████████████████████████████████████████| 94/94 [00:18<00:00,  5.12it/s]\n",
      "100%|█████████████████████████████████████████████████████████████████████████████████████████████████████████████████████| 92/92 [00:09<00:00,  9.30it/s]\n"
     ]
    },
    {
     "name": "stdout",
     "output_type": "stream",
     "text": [
      "Trainig acc: 0.9854   //   Training loss: 0.0325   //   Test acc: 0.8213   //   Test loss: 0.6485\n",
      "early_stop: 4  /   Best acc: 0.8321964529331515\n",
      "Training task 4 in epoch 30. Batch size: 8.\n"
     ]
    },
    {
     "name": "stderr",
     "output_type": "stream",
     "text": [
      "100%|█████████████████████████████████████████████████████████████████████████████████████████████████████████████████████| 94/94 [00:18<00:00,  5.12it/s]\n",
      "100%|█████████████████████████████████████████████████████████████████████████████████████████████████████████████████████| 92/92 [00:10<00:00,  8.83it/s]\n"
     ]
    },
    {
     "name": "stdout",
     "output_type": "stream",
     "text": [
      "Trainig acc: 0.9934   //   Training loss: 0.0261   //   Test acc: 0.8254   //   Test loss: 0.6641\n",
      "early_stop: 5  /   Best acc: 0.8321964529331515\n",
      "Training task 4 in epoch 31. Batch size: 8.\n"
     ]
    },
    {
     "name": "stderr",
     "output_type": "stream",
     "text": [
      "100%|█████████████████████████████████████████████████████████████████████████████████████████████████████████████████████| 94/94 [00:18<00:00,  5.14it/s]\n",
      "100%|█████████████████████████████████████████████████████████████████████████████████████████████████████████████████████| 92/92 [00:10<00:00,  9.07it/s]\n"
     ]
    },
    {
     "name": "stdout",
     "output_type": "stream",
     "text": [
      "Trainig acc: 0.9894   //   Training loss: 0.0297   //   Test acc: 0.8172   //   Test loss: 0.6626\n",
      "early_stop: 6  /   Best acc: 0.8321964529331515\n",
      "Training task 4 in epoch 32. Batch size: 8.\n"
     ]
    },
    {
     "name": "stderr",
     "output_type": "stream",
     "text": [
      "100%|█████████████████████████████████████████████████████████████████████████████████████████████████████████████████████| 94/94 [00:18<00:00,  5.13it/s]\n",
      "100%|█████████████████████████████████████████████████████████████████████████████████████████████████████████████████████| 92/92 [00:09<00:00,  9.43it/s]\n"
     ]
    },
    {
     "name": "stdout",
     "output_type": "stream",
     "text": [
      "Trainig acc: 0.9907   //   Training loss: 0.0289   //   Test acc: 0.8158   //   Test loss: 0.6967\n",
      "early_stop: 7  /   Best acc: 0.8321964529331515\n",
      "Training task 4 in epoch 33. Batch size: 8.\n"
     ]
    },
    {
     "name": "stderr",
     "output_type": "stream",
     "text": [
      "100%|█████████████████████████████████████████████████████████████████████████████████████████████████████████████████████| 94/94 [00:18<00:00,  5.13it/s]\n",
      "100%|█████████████████████████████████████████████████████████████████████████████████████████████████████████████████████| 92/92 [00:10<00:00,  8.94it/s]\n"
     ]
    },
    {
     "name": "stdout",
     "output_type": "stream",
     "text": [
      "Trainig acc: 0.9854   //   Training loss: 0.0325   //   Test acc: 0.8158   //   Test loss: 0.6670\n",
      "early_stop: 8  /   Best acc: 0.8321964529331515\n",
      "Training task 4 in epoch 34. Batch size: 8.\n"
     ]
    },
    {
     "name": "stderr",
     "output_type": "stream",
     "text": [
      "100%|█████████████████████████████████████████████████████████████████████████████████████████████████████████████████████| 94/94 [00:18<00:00,  5.14it/s]\n",
      "100%|█████████████████████████████████████████████████████████████████████████████████████████████████████████████████████| 92/92 [00:10<00:00,  8.89it/s]\n"
     ]
    },
    {
     "name": "stdout",
     "output_type": "stream",
     "text": [
      "Trainig acc: 0.992   //   Training loss: 0.0316   //   Test acc: 0.8199   //   Test loss: 0.6373\n",
      "early_stop: 9  /   Best acc: 0.8321964529331515\n",
      "Training task 4 in epoch 35. Batch size: 8.\n"
     ]
    },
    {
     "name": "stderr",
     "output_type": "stream",
     "text": [
      "100%|█████████████████████████████████████████████████████████████████████████████████████████████████████████████████████| 94/94 [00:18<00:00,  5.15it/s]\n",
      "100%|█████████████████████████████████████████████████████████████████████████████████████████████████████████████████████| 92/92 [00:10<00:00,  9.09it/s]\n"
     ]
    },
    {
     "name": "stdout",
     "output_type": "stream",
     "text": [
      "Trainig acc: 0.984   //   Training loss: 0.0552   //   Test acc: 0.8131   //   Test loss: 0.6788\n",
      "early_stop: 10  /   Best acc: 0.8321964529331515\n",
      "Training task 4 in epoch 36. Batch size: 8.\n"
     ]
    },
    {
     "name": "stderr",
     "output_type": "stream",
     "text": [
      "100%|█████████████████████████████████████████████████████████████████████████████████████████████████████████████████████| 94/94 [00:18<00:00,  5.10it/s]\n",
      "100%|█████████████████████████████████████████████████████████████████████████████████████████████████████████████████████| 92/92 [00:09<00:00,  9.21it/s]\n"
     ]
    },
    {
     "name": "stdout",
     "output_type": "stream",
     "text": [
      "Trainig acc: 0.9907   //   Training loss: 0.0278   //   Test acc: 0.8186   //   Test loss: 0.6898\n",
      "early_stop: 11  /   Best acc: 0.8321964529331515\n",
      "Training task 4 in epoch 37. Batch size: 8.\n"
     ]
    },
    {
     "name": "stderr",
     "output_type": "stream",
     "text": [
      "100%|█████████████████████████████████████████████████████████████████████████████████████████████████████████████████████| 94/94 [00:18<00:00,  5.14it/s]\n",
      "100%|█████████████████████████████████████████████████████████████████████████████████████████████████████████████████████| 92/92 [00:10<00:00,  8.73it/s]\n"
     ]
    },
    {
     "data": {
      "application/vnd.jupyter.widget-view+json": {
       "model_id": "",
       "version_major": 2,
       "version_minor": 0
      },
      "text/plain": [
       "VBox(children=(Label(value='0.003 MB of 0.003 MB uploaded\\r'), FloatProgress(value=1.0, max=1.0)))"
      ]
     },
     "metadata": {},
     "output_type": "display_data"
    },
    {
     "data": {
      "text/html": [
       "<style>\n",
       "    table.wandb td:nth-child(1) { padding: 0 10px; text-align: left ; width: auto;} td:nth-child(2) {text-align: left ; width: 100%}\n",
       "    .wandb-row { display: flex; flex-direction: row; flex-wrap: wrap; justify-content: flex-start; width: 100% }\n",
       "    .wandb-col { display: flex; flex-direction: column; flex-basis: 100%; flex: 1; padding: 10px; }\n",
       "    </style>\n",
       "<div class=\"wandb-row\"><div class=\"wandb-col\"><h3>Run history:</h3><br/><table class=\"wandb\"><tr><td>Accuracy</td><td>▅▇▇▇▇▇▇▇▇▇▇▇▇▁▆▇▇▇▇▄▆▆▆▇▆▇▄▇▇▇▇▇▅▇██████</td></tr><tr><td>Loss</td><td>▄▂▂▂▂▂▂▂▂▂▂▂▂█▂▂▂▂▂▅▂▂▂▂▃▂▅▂▂▂▂▂▄▁▁▁▁▁▁▁</td></tr><tr><td>best_val_acc</td><td>▅▇▇▇▇▇▇▇▇▇▇▇▇▁▆▇▇▇▇▄▆▆▆▇▇▇▄▇▇▇▇▇▅▇██████</td></tr><tr><td>learning_rate</td><td>████████▂▂▂▁▁█████▂██████▂█████▂█████▁▁▁</td></tr><tr><td>patience</td><td>▁▁▁▂▂▂▃▂▅▂▃▂▆▁▁▂▁▄▇▁▁▁▁▁▃▆▁▁▁▂▂▇▁▁▁▁▄█▃▇</td></tr><tr><td>task</td><td>▁▁▁▁▁▁▁▁▁▁▁▁▁▃▃▃▃▃▃▅▅▅▅▅▅▅▆▆▆▆▆▆████████</td></tr><tr><td>train_acc</td><td>▃▆▇██████████▁▇████▂▆▇████▃▆████▃▆██████</td></tr><tr><td>train_loss</td><td>▅▂▂▁▁▁▁▁▁▁▁▁▁█▂▁▁▁▁▅▂▁▁▁▁▁▄▂▁▁▁▁▅▂▁▁▁▁▁▁</td></tr><tr><td>val_acc</td><td>▅▇▇▇▇▇▇▇▇▇▇▇▇▁▆▇▇▇▇▄▆▆▆▇▆▇▄▇▇▇▇▇▅▇██████</td></tr><tr><td>val_loss</td><td>▄▂▂▂▂▂▂▂▂▂▂▂▂█▂▂▂▂▂▅▂▂▂▂▃▂▅▂▂▂▂▂▄▁▁▁▁▁▁▁</td></tr></table><br/></div><div class=\"wandb-col\"><h3>Run summary:</h3><br/><table class=\"wandb\"><tr><td>Accuracy</td><td>0.81855</td></tr><tr><td>Loss</td><td>0.68979</td></tr><tr><td>best_val_acc</td><td>0.8322</td></tr><tr><td>learning_rate</td><td>0.0</td></tr><tr><td>patience</td><td>11</td></tr><tr><td>task</td><td>5</td></tr><tr><td>train_acc</td><td>0.99069</td></tr><tr><td>train_loss</td><td>0.0278</td></tr><tr><td>val_acc</td><td>0.81855</td></tr><tr><td>val_loss</td><td>0.68979</td></tr></table><br/></div></div>"
      ],
      "text/plain": [
       "<IPython.core.display.HTML object>"
      ]
     },
     "metadata": {},
     "output_type": "display_data"
    },
    {
     "data": {
      "text/html": [
       " View run <strong style=\"color:#cdcd00\">vgg19-lr-00001-5tasks-lora-4</strong> at: <a href='https://wandb.ai/cf-lora/cf-lora-cub-200-baseline-all-parameters/runs/do0y35d8' target=\"_blank\">https://wandb.ai/cf-lora/cf-lora-cub-200-baseline-all-parameters/runs/do0y35d8</a><br/> View project at: <a href='https://wandb.ai/cf-lora/cf-lora-cub-200-baseline-all-parameters' target=\"_blank\">https://wandb.ai/cf-lora/cf-lora-cub-200-baseline-all-parameters</a><br/>Synced 5 W&B file(s), 0 media file(s), 0 artifact file(s) and 0 other file(s)"
      ],
      "text/plain": [
       "<IPython.core.display.HTML object>"
      ]
     },
     "metadata": {},
     "output_type": "display_data"
    },
    {
     "data": {
      "text/html": [
       "Find logs at: <code>./wandb/run-20240826_103552-do0y35d8/logs</code>"
      ],
      "text/plain": [
       "<IPython.core.display.HTML object>"
      ]
     },
     "metadata": {},
     "output_type": "display_data"
    },
    {
     "data": {
      "text/html": [
       "The new W&B backend becomes opt-out in version 0.18.0; try it out with `wandb.require(\"core\")`! See https://wandb.me/wandb-core for more information."
      ],
      "text/plain": [
       "<IPython.core.display.HTML object>"
      ]
     },
     "metadata": {},
     "output_type": "display_data"
    }
   ],
   "source": [
    "tasks = [i for i in range(n_split_experiences)]\n",
    "acc_by_task = {i: 0 for i in range(n_split_experiences)}\n",
    "results_diff_models = {}\n",
    "best_model = {}\n",
    "cms = {}\n",
    "patience = 10\n",
    "device = 'cuda' if torch.cuda.is_available() else 'cpu'\n",
    "\n",
    "def seed_worker(worker_id):\n",
    "    worker_seed = torch.initial_seed() % 2**32\n",
    "    np.random.seed(worker_seed)\n",
    "    random.seed(worker_seed)\n",
    "\n",
    "for loop in range(5):\n",
    "    #loop=1\n",
    "    if os.path.isfile('stop.txt'):\n",
    "        print(f'You should continue from loop {loop}')\n",
    "        break\n",
    "\n",
    "    config = {\n",
    "        \"learning_rate\": 0.00001,\n",
    "        \"weight_decay\": 5.e-4,\n",
    "        \"batch_size\": 8,\n",
    "        \"optimizer\": \"Adam\",\n",
    "        \"architecture\": \"VGG19\",\n",
    "        \"dataset\": f'{dataset_name.upper()}',\n",
    "        \"epochs\": 300,\n",
    "        \"lr_schedule\": \"ReduceLROnPlateau - Patience 10 - Monitoring Val Accuracy\",\n",
    "        \"description\": \"Testing CUBs200 splited into 5 tasks.\"\n",
    "    }\n",
    "    wandb.init(\n",
    "        # set the wandb project where this run will be logged\n",
    "        project=f\"cf-lora-{dataset_name}-baseline-all-parameters\",\n",
    "        name=f\"vgg19-lr-00001-5tasks-lora-{loop}\",\n",
    "        \n",
    "        # track hyperparameters and run metadata\n",
    "        config=config\n",
    "    )\n",
    "    \n",
    "    for model_type in ['vgg19']:\n",
    "        bz=config['batch_size']\n",
    "            \n",
    "        torch.backends.cudnn.benchmark = False\n",
    "        torch.manual_seed(0)\n",
    "        random.seed(0)\n",
    "        np.random.seed(0)\n",
    "                       \n",
    "        for task in tasks:\n",
    "            model = models.vgg19_bn(weights=\"IMAGENET1K_V1\")\n",
    "            model.classifier[6] = nn.Linear(4096, total_number_classes)\n",
    "            \n",
    "            epoch_losses = {'train_acc': [], 'train_loss': [], 'test_acc': [], 'test_loss': []}\n",
    "            model.to(device)\n",
    "            print(40*'-', f'TASK_{task}', 40*'-')\n",
    "        \n",
    "            criterion = nn.CrossEntropyLoss()\n",
    "            optimizer = torch.optim.Adam(model.parameters(), lr=config['learning_rate'], weight_decay=config['weight_decay'])\n",
    "            lr_scheduler = ReduceLROnPlateau(optimizer, mode='max', patience=4, verbose=True)\n",
    "            \n",
    "            early_stop = 0\n",
    "            best_val = 0\n",
    "            for i in range(config['epochs']):\n",
    "                g = torch.Generator()\n",
    "                g.manual_seed(0)\n",
    "                batch_gen = torch.utils.data.DataLoader(train_ds[task], \n",
    "                                                      batch_size=config['batch_size'], \n",
    "                                                      shuffle=True, \n",
    "                                                      num_workers=1,\n",
    "                                                      )\n",
    "                print(f'Training task {task} in epoch {i}. Batch size: {bz}.')\n",
    "                count = 0\n",
    "                total_loss = .0\n",
    "                total_hit = 0\n",
    "                for batch in tqdm(batch_gen):\n",
    "                    sample = batch[0].to(device)\n",
    "                    target = batch[1]\n",
    "                    target_onehot = F.one_hot(target, num_classes=total_number_classes).to(torch.float).to(device)\n",
    "    \n",
    "                    y_hat = model(sample)\n",
    "        \n",
    "                    # Compute the loss\n",
    "                    loss_training = criterion(y_hat, target_onehot)            \n",
    "                    \n",
    "                    # Backpropagation and optimization\n",
    "                    optimizer.zero_grad()\n",
    "                    loss_training.backward()\n",
    "                    optimizer.step()\n",
    "                    \n",
    "                    total_loss += loss_training\n",
    "                    total_hit += sum(np.argmax(y_hat.cpu().detach().numpy(), axis=1) == target.numpy())\n",
    "    \n",
    "                    sample.to('cpu')\n",
    "                    target_onehot.to('cpu')\n",
    "                    del sample, target_onehot\n",
    "                    gc.collect()\n",
    "                    torch.cuda.empty_cache()\n",
    "                    \n",
    "                # Evaluate in test DS after each epoch\n",
    "                with torch.no_grad():\n",
    "                    batch_gen_test = torch.utils.data.DataLoader(test_ds[task], \n",
    "                                                      batch_size=config['batch_size'], \n",
    "                                                      shuffle=True, \n",
    "                                                      num_workers=1,\n",
    "                                                      )\n",
    "                    model.eval()\n",
    "                    test_loss = 0.\n",
    "                    acc = 0.\n",
    "                    for batch_test in tqdm(batch_gen_test):\n",
    "                        sample = batch_test[0].to(device)\n",
    "                        target = batch_test[1]\n",
    "                        target_onehot = F.one_hot(target, num_classes=total_number_classes).to(torch.float).to(device)\n",
    "            \n",
    "                        y_hat = model(sample)\n",
    "                        cpu_inference = y_hat.argmax(axis=1)\n",
    "                        \n",
    "                        test_loss += criterion(y_hat, target_onehot)\n",
    "                        acc += sum(cpu_inference.cpu() == target).item()\n",
    "    \n",
    "                        sample.to('cpu')\n",
    "                        target_onehot.to('cpu')\n",
    "                        del sample, target_onehot\n",
    "                        gc.collect()\n",
    "                        torch.cuda.empty_cache()\n",
    "    \n",
    "                    test_loss = (test_loss/len(batch_gen_test)).cpu()\n",
    "                    acc = acc/len(test_ds[task])\n",
    "                    lr_scheduler.step(acc)\n",
    "                    model.train()\n",
    "                \n",
    "                epoch_losses['train_acc'].append(total_hit/(len(batch_gen)*bz))\n",
    "                epoch_losses['train_loss'].append((total_loss/len(batch_gen)).cpu().item())\n",
    "                \n",
    "                epoch_losses['test_acc'].append(acc)\n",
    "                epoch_losses['test_loss'].append(test_loss.item())\n",
    "        \n",
    "                # if acc > (best_val+0.01):\n",
    "                if acc > (best_val):\n",
    "                    model.to('cpu')\n",
    "                    best_model[f'{model_type}-{task}'] = deepcopy(model)\n",
    "                    model.to(device)\n",
    "                    best_val = acc\n",
    "                    early_stop = 0\n",
    "        \n",
    "                if early_stop > patience:\n",
    "                    break\n",
    "                \n",
    "                early_stop += 1\n",
    "    \n",
    "                wandb.log({\"train_acc\": (total_hit/(len(batch_gen)*bz)), \"train_loss\": (total_loss/len(batch_gen)), \n",
    "                           \"val_acc\": acc, \"val_loss\": test_loss, \"task\": (task+1),\n",
    "                           \"Accuracy\": acc, \"Loss\": test_loss, \n",
    "                           \"patience\": early_stop, \"best_val_acc\": best_val, \"learning_rate\": optimizer.param_groups[0]['lr']\n",
    "                          })\n",
    "                \n",
    "                print(f'Trainig acc: {total_hit/(len(batch_gen)*bz):.4}   //   Training loss: {(total_loss/len(batch_gen)):.4f}   //   Test acc: {acc:.4f}   //   Test loss: {test_loss:.4f}')\n",
    "                print(f'early_stop: {early_stop}  /   Best acc: {best_val}')\n",
    "                del batch_gen, batch_gen_test\n",
    "                gc.collect()\n",
    "                torch.cuda.empty_cache()\n",
    "    \n",
    "            model.to('cpu')\n",
    "            del model\n",
    "            model = best_model[f'{model_type}-{task}']\n",
    "            del best_model[f'{model_type}-{task}']\n",
    "    \n",
    "            gc.collect()\n",
    "            torch.cuda.empty_cache()\n",
    "            \n",
    "            # del criterion, optimizer, lr_scheduler \n",
    "            gc.collect()\n",
    "            torch.cuda.empty_cache()\n",
    "    \n",
    "        wandb.finish()"
   ]
  },
  {
   "cell_type": "code",
   "execution_count": null,
   "id": "36dbbd70-df14-42bc-8b39-ab2e6754d3c3",
   "metadata": {},
   "outputs": [],
   "source": []
  }
 ],
 "metadata": {
  "kernelspec": {
   "display_name": "Python 3 (ipykernel)",
   "language": "python",
   "name": "python3"
  },
  "language_info": {
   "codemirror_mode": {
    "name": "ipython",
    "version": 3
   },
   "file_extension": ".py",
   "mimetype": "text/x-python",
   "name": "python",
   "nbconvert_exporter": "python",
   "pygments_lexer": "ipython3",
   "version": "3.12.1"
  }
 },
 "nbformat": 4,
 "nbformat_minor": 5
}
